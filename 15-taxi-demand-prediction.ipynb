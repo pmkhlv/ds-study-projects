{
  "cells": [
    {
      "cell_type": "markdown",
      "metadata": {
        "id": "iVvgYpMxddQw"
      },
      "source": [
        "# Project for \"Wikishop\""
      ]
    },
    {
      "cell_type": "markdown",
      "metadata": {
        "id": "xP_i2VO5ddQx"
      },
      "source": [
        "Online store \"Wikishop\" launches a new service. Now users can edit and supplement product descriptions, just like in wiki communities. That is, clients propose their edits and comment on the changes of others. The store needs a tool that will look for toxic comments and submit them for moderation.\n",
        "\n",
        "**To Be Done**\n",
        "\n",
        "1. Download and prepare data.\n",
        "2. Train different models.\n",
        "3. Make conclusion.\n",
        "\n",
        "**Data Description**\n",
        "\n",
        "The data is in the `toxic_comments.csv` file. The *text* column contains the text of the comment, and *toxic* is the target attribute."
      ]
    },
    {
      "cell_type": "markdown",
      "metadata": {
        "id": "rmBJ-B8eddQy"
      },
      "source": [
        "## Data Preparation"
      ]
    },
    {
      "cell_type": "code",
      "execution_count": null,
      "metadata": {
        "id": "VlOTlykbddQz"
      },
      "outputs": [],
      "source": [
        "import pandas as pd\n",
        "import numpy as np\n",
        "import re\n",
        "import nltk\n",
        "from nltk.stem import WordNetLemmatizer\n",
        "from nltk.corpus import stopwords\n",
        "from nltk.tokenize import word_tokenize\n",
        "from sklearn.model_selection import train_test_split, GridSearchCV\n",
        "from sklearn.feature_extraction.text import TfidfVectorizer, CountVectorizer\n",
        "from sklearn.linear_model import LogisticRegression\n",
        "from sklearn.metrics import accuracy_score, f1_score\n",
        "import lightgbm as lgbm\n",
        "from catboost import CatBoostClassifier\n",
        "import warnings\n",
        "warnings.filterwarnings('ignore')"
      ]
    },
    {
      "cell_type": "code",
      "execution_count": null,
      "metadata": {
        "id": "QNSC9ASVddQ1"
      },
      "outputs": [],
      "source": [
        "data = pd.read_csv('https://code.s3.yandex.net/datasets/toxic_comments.csv')"
      ]
    },
    {
      "cell_type": "markdown",
      "metadata": {
        "id": "e0G1oWAhw7WV"
      },
      "source": [
        "First look at the data"
      ]
    },
    {
      "cell_type": "code",
      "execution_count": null,
      "metadata": {
        "colab": {
          "base_uri": "https://localhost:8080/",
          "height": 357
        },
        "id": "YQsVVOCtddQ1",
        "outputId": "1ee17a27-e8fc-4367-cf56-de737ba12cf0",
        "scrolled": false
      },
      "outputs": [
        {
          "data": {
            "text/html": [
              "<div>\n",
              "<style scoped>\n",
              "    .dataframe tbody tr th:only-of-type {\n",
              "        vertical-align: middle;\n",
              "    }\n",
              "\n",
              "    .dataframe tbody tr th {\n",
              "        vertical-align: top;\n",
              "    }\n",
              "\n",
              "    .dataframe thead th {\n",
              "        text-align: right;\n",
              "    }\n",
              "</style>\n",
              "<table border=\"1\" class=\"dataframe\">\n",
              "  <thead>\n",
              "    <tr style=\"text-align: right;\">\n",
              "      <th></th>\n",
              "      <th>text</th>\n",
              "      <th>toxic</th>\n",
              "    </tr>\n",
              "  </thead>\n",
              "  <tbody>\n",
              "    <tr>\n",
              "      <th>141896</th>\n",
              "      <td>Whoooo HOOO Kitty!! \\n\\n I thought you Doucheb...</td>\n",
              "      <td>0</td>\n",
              "    </tr>\n",
              "    <tr>\n",
              "      <th>85873</th>\n",
              "      <td>Proposed deletion from  because of Wikipedia:G...</td>\n",
              "      <td>0</td>\n",
              "    </tr>\n",
              "    <tr>\n",
              "      <th>79509</th>\n",
              "      <td>\"\\n{{unblock|I have not been had \"\"several war...</td>\n",
              "      <td>0</td>\n",
              "    </tr>\n",
              "    <tr>\n",
              "      <th>142075</th>\n",
              "      <td>Image copyright problem with Image:Annang_Map_...</td>\n",
              "      <td>0</td>\n",
              "    </tr>\n",
              "    <tr>\n",
              "      <th>144890</th>\n",
              "      <td>Second nice guy I meet here. Hope there are mo...</td>\n",
              "      <td>0</td>\n",
              "    </tr>\n",
              "    <tr>\n",
              "      <th>124035</th>\n",
              "      <td>I'm interested in how this checkuser turned ou...</td>\n",
              "      <td>0</td>\n",
              "    </tr>\n",
              "    <tr>\n",
              "      <th>66581</th>\n",
              "      <td>\"\\n\\nAlmost forgot about this, here are the is...</td>\n",
              "      <td>0</td>\n",
              "    </tr>\n",
              "    <tr>\n",
              "      <th>22040</th>\n",
              "      <td>Re:Disam \\n\\nWhy thank you! ) I really appreci...</td>\n",
              "      <td>0</td>\n",
              "    </tr>\n",
              "    <tr>\n",
              "      <th>59230</th>\n",
              "      <td>In Wikipedia the terms to be used are generall...</td>\n",
              "      <td>0</td>\n",
              "    </tr>\n",
              "    <tr>\n",
              "      <th>55136</th>\n",
              "      <td>Question  \\nI have seen portions of the discus...</td>\n",
              "      <td>0</td>\n",
              "    </tr>\n",
              "  </tbody>\n",
              "</table>\n",
              "</div>"
            ],
            "text/plain": [
              "                                                     text  toxic\n",
              "141896  Whoooo HOOO Kitty!! \\n\\n I thought you Doucheb...      0\n",
              "85873   Proposed deletion from  because of Wikipedia:G...      0\n",
              "79509   \"\\n{{unblock|I have not been had \"\"several war...      0\n",
              "142075  Image copyright problem with Image:Annang_Map_...      0\n",
              "144890  Second nice guy I meet here. Hope there are mo...      0\n",
              "124035  I'm interested in how this checkuser turned ou...      0\n",
              "66581   \"\\n\\nAlmost forgot about this, here are the is...      0\n",
              "22040   Re:Disam \\n\\nWhy thank you! ) I really appreci...      0\n",
              "59230   In Wikipedia the terms to be used are generall...      0\n",
              "55136   Question  \\nI have seen portions of the discus...      0"
            ]
          },
          "execution_count": 9,
          "metadata": {},
          "output_type": "execute_result"
        }
      ],
      "source": [
        "data.sample(10)"
      ]
    },
    {
      "cell_type": "markdown",
      "metadata": {
        "id": "ShB_-N05w7WV"
      },
      "source": [
        "We have a dataset of two columns, a comment text and a target feature. At first glance, everything looks very clean."
      ]
    },
    {
      "cell_type": "code",
      "execution_count": null,
      "metadata": {
        "colab": {
          "base_uri": "https://localhost:8080/"
        },
        "id": "51Z7LU8CddQ3",
        "outputId": "e7b0aaf7-7da1-4130-9ad7-46a870a47a59"
      },
      "outputs": [
        {
          "data": {
            "text/plain": [
              "0    143346\n",
              "1     16225\n",
              "Name: toxic, dtype: int64"
            ]
          },
          "execution_count": 7,
          "metadata": {},
          "output_type": "execute_result"
        }
      ],
      "source": [
        "data['toxic'].value_counts()"
      ]
    },
    {
      "cell_type": "markdown",
      "metadata": {
        "id": "0FdIvVX2w7WV"
      },
      "source": [
        "Class balancing is not observed, when training models, we will try to set the appropriate parameter."
      ]
    },
    {
      "cell_type": "code",
      "execution_count": null,
      "metadata": {
        "colab": {
          "base_uri": "https://localhost:8080/"
        },
        "id": "vX7UkZu0ddQ4",
        "outputId": "452f9d4f-7a09-4256-b711-61515ec8f03c"
      },
      "outputs": [
        {
          "data": {
            "text/plain": [
              "0"
            ]
          },
          "execution_count": 8,
          "metadata": {},
          "output_type": "execute_result"
        }
      ],
      "source": [
        "data.duplicated().sum()"
      ]
    },
    {
      "cell_type": "code",
      "execution_count": null,
      "metadata": {
        "colab": {
          "base_uri": "https://localhost:8080/"
        },
        "id": "tOurSmpQddQ5",
        "outputId": "f5076451-41e8-4148-810f-05e43611fa56"
      },
      "outputs": [
        {
          "name": "stdout",
          "output_type": "stream",
          "text": [
            "<class 'pandas.core.frame.DataFrame'>\n",
            "RangeIndex: 159571 entries, 0 to 159570\n",
            "Data columns (total 2 columns):\n",
            " #   Column  Non-Null Count   Dtype \n",
            "---  ------  --------------   ----- \n",
            " 0   text    159571 non-null  object\n",
            " 1   toxic   159571 non-null  int64 \n",
            "dtypes: int64(1), object(1)\n",
            "memory usage: 2.4+ MB\n"
          ]
        }
      ],
      "source": [
        "data.info()"
      ]
    },
    {
      "cell_type": "markdown",
      "metadata": {
        "id": "-txgdOfXw7WW"
      },
      "source": [
        "No duplicates or gaps found."
      ]
    },
    {
      "cell_type": "markdown",
      "metadata": {
        "id": "m66FxrFFw7WW"
      },
      "source": [
        "<br>\n",
        "Let's tokenize the texts: first, we clean it from the superfluous (numbers, signs, etc.), lemmatize, split it into tokens, and remove the stop words."
      ]
    },
    {
      "cell_type": "code",
      "execution_count": null,
      "metadata": {
        "id": "Qsp6FWNtddQ6"
      },
      "outputs": [],
      "source": [
        "def clear_text(text):\n",
        "    text = re.sub(r'[^a-zA-Z]', ' ', text)\n",
        "    return ' '.join(text.split())\n",
        "\n",
        "def lemmatize(text):\n",
        "    lemmatizer = WordNetLemmatizer()\n",
        "    text = [lemmatizer.lemmatize(word) for word in text]\n",
        "    return text\n",
        "\n",
        "def tokenization(text):\n",
        "    text = word_tokenize(text)\n",
        "    text = [word.lower() for word in text]\n",
        "    return text\n",
        "\n",
        "def remove_stop_words(text):\n",
        "    stop_words = stopwords.words('english')\n",
        "    text = [word for word in text if not word.lower() in stop_words]\n",
        "    return text"
      ]
    },
    {
      "cell_type": "code",
      "execution_count": null,
      "metadata": {
        "id": "Eu1tUaUPw7WX"
      },
      "outputs": [],
      "source": [
        "data['text'] = data['text'].apply(clear_text)\n",
        "data['tokens'] = data['text'].apply(tokenization)\n",
        "data['lemmatize'] = data['tokens'].apply(lemmatize)\n",
        "data['clear_text'] = data['lemmatize'].apply(remove_stop_words)"
      ]
    },
    {
      "cell_type": "code",
      "execution_count": null,
      "metadata": {
        "colab": {
          "base_uri": "https://localhost:8080/",
          "height": 142
        },
        "id": "9VKhhTj_ddQ8",
        "outputId": "d7afb9ad-8602-4a71-a35c-1473f42588d8"
      },
      "outputs": [
        {
          "data": {
            "text/html": [
              "<div>\n",
              "<style scoped>\n",
              "    .dataframe tbody tr th:only-of-type {\n",
              "        vertical-align: middle;\n",
              "    }\n",
              "\n",
              "    .dataframe tbody tr th {\n",
              "        vertical-align: top;\n",
              "    }\n",
              "\n",
              "    .dataframe thead th {\n",
              "        text-align: right;\n",
              "    }\n",
              "</style>\n",
              "<table border=\"1\" class=\"dataframe\">\n",
              "  <thead>\n",
              "    <tr style=\"text-align: right;\">\n",
              "      <th></th>\n",
              "      <th>text</th>\n",
              "      <th>toxic</th>\n",
              "      <th>tokens</th>\n",
              "      <th>lemmatize</th>\n",
              "      <th>clear_text</th>\n",
              "    </tr>\n",
              "  </thead>\n",
              "  <tbody>\n",
              "    <tr>\n",
              "      <th>0</th>\n",
              "      <td>Explanation Why the edits made under my userna...</td>\n",
              "      <td>0</td>\n",
              "      <td>[explanation, why, the, edits, made, under, my...</td>\n",
              "      <td>[explanation, why, the, edits, made, under, my...</td>\n",
              "      <td>[explanation, edits, made, username, hardcore,...</td>\n",
              "    </tr>\n",
              "    <tr>\n",
              "      <th>1</th>\n",
              "      <td>D aww He matches this background colour I m se...</td>\n",
              "      <td>0</td>\n",
              "      <td>[d, aww, he, matches, this, background, colour...</td>\n",
              "      <td>[d, aww, he, match, this, background, colour, ...</td>\n",
              "      <td>[aww, match, background, colour, seemingly, st...</td>\n",
              "    </tr>\n",
              "    <tr>\n",
              "      <th>2</th>\n",
              "      <td>Hey man I m really not trying to edit war It s...</td>\n",
              "      <td>0</td>\n",
              "      <td>[hey, man, i, m, really, not, trying, to, edit...</td>\n",
              "      <td>[hey, man, i, m, really, not, trying, to, edit...</td>\n",
              "      <td>[hey, man, really, trying, edit, war, guy, con...</td>\n",
              "    </tr>\n",
              "  </tbody>\n",
              "</table>\n",
              "</div>"
            ],
            "text/plain": [
              "                                                text  toxic  \\\n",
              "0  Explanation Why the edits made under my userna...      0   \n",
              "1  D aww He matches this background colour I m se...      0   \n",
              "2  Hey man I m really not trying to edit war It s...      0   \n",
              "\n",
              "                                              tokens  \\\n",
              "0  [explanation, why, the, edits, made, under, my...   \n",
              "1  [d, aww, he, matches, this, background, colour...   \n",
              "2  [hey, man, i, m, really, not, trying, to, edit...   \n",
              "\n",
              "                                           lemmatize  \\\n",
              "0  [explanation, why, the, edits, made, under, my...   \n",
              "1  [d, aww, he, match, this, background, colour, ...   \n",
              "2  [hey, man, i, m, really, not, trying, to, edit...   \n",
              "\n",
              "                                          clear_text  \n",
              "0  [explanation, edits, made, username, hardcore,...  \n",
              "1  [aww, match, background, colour, seemingly, st...  \n",
              "2  [hey, man, really, trying, edit, war, guy, con...  "
            ]
          },
          "execution_count": 24,
          "metadata": {},
          "output_type": "execute_result"
        }
      ],
      "source": [
        "data.head(3)"
      ]
    },
    {
      "cell_type": "markdown",
      "metadata": {
        "id": "i6Z9q9q7w7WX"
      },
      "source": [
        "Our data is ready for encoding, for further work we will use the **clear_text** column."
      ]
    },
    {
      "cell_type": "markdown",
      "metadata": {
        "id": "RnMCjPIKddQ9"
      },
      "source": [
        "## Training"
      ]
    },
    {
      "cell_type": "code",
      "execution_count": null,
      "metadata": {
        "id": "-JDypLqMddQ9"
      },
      "outputs": [],
      "source": [
        "X_train, X_test, y_train, y_test = train_test_split(data['clear_text'], data['toxic'], test_size=0.25)"
      ]
    },
    {
      "cell_type": "code",
      "execution_count": null,
      "metadata": {
        "id": "MkDf9qW_ddQ9"
      },
      "outputs": [],
      "source": [
        "tf_idf = TfidfVectorizer()"
      ]
    },
    {
      "cell_type": "code",
      "execution_count": null,
      "metadata": {
        "id": "WWT4gjyBddQ-",
        "scrolled": true
      },
      "outputs": [],
      "source": [
        "X_train = X_train.astype('U')\n",
        "X_train = tf_idf.fit_transform(X_train)\n",
        "X_test = X_test.astype('U')\n",
        "X_test = tf_idf.transform(X_test)"
      ]
    },
    {
      "cell_type": "markdown",
      "metadata": {
        "id": "d3ghQCRIddQ-"
      },
      "source": [
        "### Model training"
      ]
    },
    {
      "cell_type": "raw",
      "metadata": {
        "id": "pyCyl1VnddQ-"
      },
      "source": [
        "models = {\n",
        "    'LogisticRegression': LogisticRegression(),\n",
        "    'CatBoostClassifier': CatBoostClassifier(),\n",
        "    'LGBMClassifier': lgbm.LGBMClassifier()\n",
        "}\n",
        "\n",
        "params = {\n",
        "    'LogisticRegression':{\n",
        "          'class_weight':['balanced', None],\n",
        "          'C':np.logspace(-3,3,7),\n",
        "          'penalty':['l1','l2']\n",
        "    },\n",
        "    \n",
        "    'CatBoostClassifier':{\n",
        "          'depth':[3,4],\n",
        "          'iterations':[500],\n",
        "          'learning_rate':[0.03], \n",
        "          'l2_leaf_reg':[3, 5],\n",
        "          'auto_class_weights':['Balanced', None]\n",
        "    },\n",
        "    \n",
        "    'LGBMClassifier': {\n",
        "        'objective':['binary'],\n",
        "        'learning_rate':[0.03],\n",
        "        'num_leaves': [31, 80],\n",
        "        'reg_alpha': [0.1, 0.5],\n",
        "        'min_data_in_leaf': [30, 50],\n",
        "        'class_weight':['balanced', None]\n",
        "    }\n",
        "}"
      ]
    },
    {
      "cell_type": "raw",
      "metadata": {
        "id": "ctpeiehkddQ_"
      },
      "source": [
        "f1_results = []"
      ]
    },
    {
      "cell_type": "raw",
      "metadata": {
        "id": "k2a-MBq6ddQ_"
      },
      "source": [
        "def model_fit(features, target):\n",
        "    for name in models.keys():\n",
        "        clf = models[name]\n",
        "        clf_params = params[name]\n",
        "        grid = GridSearchCV(estimator=clf, param_grid=clf_params, cv=3, n_jobs=-1,verbose=100)\n",
        "        grid.fit(features, target)     \n",
        "        clf_pred = grid.predict(X_test)\n",
        "        f1 = f1_score(y_test, clf_pred)\n",
        "        f1_results.append({'model':name, 'f1_score':f1, 'best_params':grid.best_params_})"
      ]
    },
    {
      "cell_type": "raw",
      "metadata": {
        "id": "YG0GS-kmrJgN",
        "outputId": "548b24f0-b875-4431-853e-6fbb8b698b77"
      },
      "source": [
        "model_fit(X_train, y_train)"
      ]
    },
    {
      "cell_type": "markdown",
      "metadata": {
        "id": "-hPJIf9Vw7Wa"
      },
      "source": [
        "<br>\n",
        "The results of parameter selection and model training are stored in a separate variable for convenience."
      ]
    },
    {
      "cell_type": "code",
      "execution_count": null,
      "metadata": {
        "id": "4fD9Fq_FfUDv"
      },
      "outputs": [],
      "source": [
        "f1_results = [{'best_params': {'C': 10.0, 'class_weight': None, 'penalty': 'l2'},\n",
        "  'f1_score': 0.7728907330567081,\n",
        "  'model': 'LogisticRegression'},\n",
        "              \n",
        " {'best_params': {'auto_class_weights': 'Balanced',\n",
        "   'depth': 4,\n",
        "   'iterations': 500,\n",
        "   'l2_leaf_reg': 3,\n",
        "   'learning_rate': 0.03},\n",
        "  'f1_score': 0.7177248052867595,\n",
        "  'model': 'CatBoostClassifier'},\n",
        "              \n",
        " {'best_params': {'class_weight': None,\n",
        "   'learning_rate': 0.03,\n",
        "   'min_data_in_leaf': 30,\n",
        "   'num_leaves': 80,\n",
        "   'objective': 'binary',\n",
        "   'reg_alpha': 0.1},\n",
        "  'f1_score': 0.7249448123620309,\n",
        "  'model': 'LGBMClassifier'}]"
      ]
    },
    {
      "cell_type": "code",
      "execution_count": null,
      "metadata": {
        "colab": {
          "base_uri": "https://localhost:8080/",
          "height": 172
        },
        "id": "71ef5nl6ccck",
        "outputId": "800b5253-d7ab-426e-dd82-99f1aba91951"
      },
      "outputs": [
        {
          "data": {
            "text/html": [
              "<div>\n",
              "<style scoped>\n",
              "    .dataframe tbody tr th:only-of-type {\n",
              "        vertical-align: middle;\n",
              "    }\n",
              "\n",
              "    .dataframe tbody tr th {\n",
              "        vertical-align: top;\n",
              "    }\n",
              "\n",
              "    .dataframe thead th {\n",
              "        text-align: right;\n",
              "    }\n",
              "</style>\n",
              "<table border=\"1\" class=\"dataframe\">\n",
              "  <thead>\n",
              "    <tr style=\"text-align: right;\">\n",
              "      <th></th>\n",
              "      <th>model</th>\n",
              "      <th>f1_score</th>\n",
              "      <th>best_params</th>\n",
              "    </tr>\n",
              "  </thead>\n",
              "  <tbody>\n",
              "    <tr>\n",
              "      <th>0</th>\n",
              "      <td>LogisticRegression</td>\n",
              "      <td>0.772891</td>\n",
              "      <td>{'C': 10.0, 'class_weight': None, 'penalty': '...</td>\n",
              "    </tr>\n",
              "    <tr>\n",
              "      <th>2</th>\n",
              "      <td>LGBMClassifier</td>\n",
              "      <td>0.724945</td>\n",
              "      <td>{'class_weight': None, 'learning_rate': 0.03, ...</td>\n",
              "    </tr>\n",
              "    <tr>\n",
              "      <th>1</th>\n",
              "      <td>CatBoostClassifier</td>\n",
              "      <td>0.717725</td>\n",
              "      <td>{'auto_class_weights': 'Balanced', 'depth': 4,...</td>\n",
              "    </tr>\n",
              "  </tbody>\n",
              "</table>\n",
              "</div>"
            ],
            "text/plain": [
              "                model  f1_score  \\\n",
              "0  LogisticRegression  0.772891   \n",
              "2      LGBMClassifier  0.724945   \n",
              "1  CatBoostClassifier  0.717725   \n",
              "\n",
              "                                         best_params  \n",
              "0  {'C': 10.0, 'class_weight': None, 'penalty': '...  \n",
              "2  {'class_weight': None, 'learning_rate': 0.03, ...  \n",
              "1  {'auto_class_weights': 'Balanced', 'depth': 4,...  "
            ]
          },
          "execution_count": 32,
          "metadata": {},
          "output_type": "execute_result"
        }
      ],
      "source": [
        "pd.DataFrame(data=f1_results, columns=['model',\t'f1_score',\t'best_params']).sort_values(by='f1_score', ascending=False)"
      ]
    },
    {
      "cell_type": "markdown",
      "metadata": {
        "id": "I7Oy0Ze8ddRE"
      },
      "source": [
        "## Conclusion"
      ]
    },
    {
      "cell_type": "markdown",
      "metadata": {
        "id": "Kdt_BKD2w7Wa"
      },
      "source": [
        "Based on the results of training several models on different parameters, only the logistic regression model was able to achieve the required result f1 > 0.75. At the same time, the model did not respond to the class imbalance."
      ]
    }
  ],
  "metadata": {
    "ExecuteTimeLog": [
      {
        "duration": 703,
        "start_time": "2021-10-24T14:45:02.629Z"
      },
      {
        "duration": 3145,
        "start_time": "2021-10-24T14:45:34.455Z"
      },
      {
        "duration": 828,
        "start_time": "2021-10-24T14:45:56.369Z"
      },
      {
        "duration": 17,
        "start_time": "2021-10-24T14:46:07.334Z"
      },
      {
        "duration": 11,
        "start_time": "2021-10-24T14:46:16.253Z"
      },
      {
        "duration": 10,
        "start_time": "2021-10-24T14:46:38.211Z"
      },
      {
        "duration": 91,
        "start_time": "2021-10-24T14:56:54.933Z"
      },
      {
        "duration": 282,
        "start_time": "2021-10-24T14:56:57.630Z"
      },
      {
        "duration": 274,
        "start_time": "2021-10-24T14:57:02.326Z"
      },
      {
        "duration": 30,
        "start_time": "2021-10-24T14:57:18.626Z"
      },
      {
        "duration": 35,
        "start_time": "2021-10-24T14:57:21.379Z"
      },
      {
        "duration": 15,
        "start_time": "2021-10-24T14:57:45.702Z"
      },
      {
        "duration": 3,
        "start_time": "2021-10-24T15:09:48.070Z"
      },
      {
        "duration": 15,
        "start_time": "2021-10-24T15:12:10.803Z"
      },
      {
        "duration": 15,
        "start_time": "2021-10-24T15:12:11.838Z"
      },
      {
        "duration": 14,
        "start_time": "2021-10-24T15:12:12.523Z"
      },
      {
        "duration": 15,
        "start_time": "2021-10-24T15:12:13.116Z"
      },
      {
        "duration": 14,
        "start_time": "2021-10-24T15:12:14.336Z"
      },
      {
        "duration": 15,
        "start_time": "2021-10-24T15:12:15.348Z"
      },
      {
        "duration": 16,
        "start_time": "2021-10-24T15:12:35.397Z"
      },
      {
        "duration": 15,
        "start_time": "2021-10-24T15:12:39.152Z"
      },
      {
        "duration": 14,
        "start_time": "2021-10-24T15:12:42.487Z"
      },
      {
        "duration": 15,
        "start_time": "2021-10-24T15:12:46.244Z"
      },
      {
        "duration": 15,
        "start_time": "2021-10-24T15:12:48.128Z"
      },
      {
        "duration": 14,
        "start_time": "2021-10-24T15:12:49.004Z"
      },
      {
        "duration": 14,
        "start_time": "2021-10-24T15:12:49.790Z"
      },
      {
        "duration": 16,
        "start_time": "2021-10-24T15:12:52.508Z"
      },
      {
        "duration": 14,
        "start_time": "2021-10-24T15:12:54.260Z"
      },
      {
        "duration": 15,
        "start_time": "2021-10-24T15:12:55.201Z"
      },
      {
        "duration": 16,
        "start_time": "2021-10-24T15:17:43.849Z"
      },
      {
        "duration": 16,
        "start_time": "2021-10-24T15:17:45.291Z"
      },
      {
        "duration": 15,
        "start_time": "2021-10-24T15:17:47.030Z"
      },
      {
        "duration": 17,
        "start_time": "2021-10-24T15:17:48.578Z"
      },
      {
        "duration": 18,
        "start_time": "2021-10-24T15:17:52.881Z"
      },
      {
        "duration": 14,
        "start_time": "2021-10-24T15:17:58.723Z"
      },
      {
        "duration": 15,
        "start_time": "2021-10-24T15:18:06.230Z"
      },
      {
        "duration": 15,
        "start_time": "2021-10-24T15:18:12.251Z"
      },
      {
        "duration": 15,
        "start_time": "2021-10-24T15:18:16.930Z"
      },
      {
        "duration": 17,
        "start_time": "2021-10-24T15:18:26.911Z"
      },
      {
        "duration": 15,
        "start_time": "2021-10-24T15:18:31.936Z"
      },
      {
        "duration": 15,
        "start_time": "2021-10-24T15:18:34.966Z"
      },
      {
        "duration": 14,
        "start_time": "2021-10-24T15:18:38.131Z"
      },
      {
        "duration": 4,
        "start_time": "2021-10-24T15:22:06.867Z"
      },
      {
        "duration": 3,
        "start_time": "2021-10-24T15:22:43.141Z"
      },
      {
        "duration": 1755,
        "start_time": "2021-10-24T15:22:54.912Z"
      },
      {
        "duration": 4,
        "start_time": "2021-10-24T15:23:22.076Z"
      },
      {
        "duration": 737,
        "start_time": "2021-10-24T15:23:23.460Z"
      },
      {
        "duration": 298,
        "start_time": "2021-10-24T15:25:08.155Z"
      },
      {
        "duration": 4737,
        "start_time": "2021-10-24T15:25:12.427Z"
      },
      {
        "duration": 6,
        "start_time": "2021-10-24T15:25:30.159Z"
      },
      {
        "duration": 4744,
        "start_time": "2021-10-24T15:25:34.658Z"
      },
      {
        "duration": 13,
        "start_time": "2021-10-24T15:25:39.926Z"
      },
      {
        "duration": -959,
        "start_time": "2021-10-24T15:25:51.679Z"
      },
      {
        "duration": 9,
        "start_time": "2021-10-24T15:25:56.825Z"
      },
      {
        "duration": 7,
        "start_time": "2021-10-24T15:26:08.081Z"
      },
      {
        "duration": 335,
        "start_time": "2021-10-24T15:26:22.024Z"
      },
      {
        "duration": 7,
        "start_time": "2021-10-24T15:26:27.754Z"
      },
      {
        "duration": 30,
        "start_time": "2021-10-24T15:28:07.078Z"
      },
      {
        "duration": 805,
        "start_time": "2021-10-24T15:51:54.208Z"
      },
      {
        "duration": 4,
        "start_time": "2021-10-24T15:52:45.633Z"
      },
      {
        "duration": 4,
        "start_time": "2021-10-24T15:55:50.012Z"
      },
      {
        "duration": 2615,
        "start_time": "2021-10-24T15:55:51.888Z"
      },
      {
        "duration": 5752,
        "start_time": "2021-10-24T15:56:03.543Z"
      },
      {
        "duration": 1026,
        "start_time": "2021-10-24T15:56:15.320Z"
      },
      {
        "duration": 7,
        "start_time": "2021-10-24T15:56:18.575Z"
      },
      {
        "duration": 4969,
        "start_time": "2021-10-24T15:56:26.018Z"
      },
      {
        "duration": 983,
        "start_time": "2021-10-24T15:56:32.602Z"
      },
      {
        "duration": 7,
        "start_time": "2021-10-24T15:56:35.324Z"
      },
      {
        "duration": 1659,
        "start_time": "2021-10-24T15:56:47.495Z"
      },
      {
        "duration": 1101,
        "start_time": "2021-10-24T15:56:49.158Z"
      },
      {
        "duration": 33,
        "start_time": "2021-10-24T15:56:50.266Z"
      },
      {
        "duration": 9,
        "start_time": "2021-10-24T15:56:50.302Z"
      },
      {
        "duration": 324,
        "start_time": "2021-10-24T15:56:50.313Z"
      },
      {
        "duration": 44,
        "start_time": "2021-10-24T15:56:50.640Z"
      },
      {
        "duration": 7,
        "start_time": "2021-10-24T15:56:50.689Z"
      },
      {
        "duration": 5930,
        "start_time": "2021-10-24T15:56:50.699Z"
      },
      {
        "duration": 3,
        "start_time": "2021-10-24T15:56:56.631Z"
      },
      {
        "duration": 12,
        "start_time": "2021-10-24T15:56:56.636Z"
      },
      {
        "duration": 2969,
        "start_time": "2021-10-24T15:57:06.017Z"
      },
      {
        "duration": 7,
        "start_time": "2021-10-24T15:57:13.147Z"
      },
      {
        "duration": 18,
        "start_time": "2021-10-24T16:09:13.226Z"
      },
      {
        "duration": 3,
        "start_time": "2021-10-24T16:16:01.297Z"
      },
      {
        "duration": 121,
        "start_time": "2021-10-24T16:16:31.935Z"
      },
      {
        "duration": 5,
        "start_time": "2021-10-24T16:16:53.507Z"
      },
      {
        "duration": 5,
        "start_time": "2021-10-24T16:16:56.445Z"
      },
      {
        "duration": 5,
        "start_time": "2021-10-24T16:20:59.758Z"
      },
      {
        "duration": 808,
        "start_time": "2021-10-24T16:21:06.127Z"
      },
      {
        "duration": 6170,
        "start_time": "2021-10-24T16:21:17.261Z"
      },
      {
        "duration": 70133,
        "start_time": "2021-10-24T16:21:25.143Z"
      },
      {
        "duration": 296,
        "start_time": "2021-10-24T16:24:05.833Z"
      },
      {
        "duration": 10,
        "start_time": "2021-10-24T16:29:59.662Z"
      },
      {
        "duration": 275,
        "start_time": "2021-10-24T16:31:16.952Z"
      },
      {
        "duration": 5,
        "start_time": "2021-10-24T16:31:20.585Z"
      },
      {
        "duration": 65738,
        "start_time": "2021-10-24T16:31:22.010Z"
      },
      {
        "duration": 1527,
        "start_time": "2021-10-24T17:06:34.089Z"
      },
      {
        "duration": 793,
        "start_time": "2021-10-24T17:06:35.619Z"
      },
      {
        "duration": 24,
        "start_time": "2021-10-24T17:06:36.415Z"
      },
      {
        "duration": 9,
        "start_time": "2021-10-24T17:06:36.442Z"
      },
      {
        "duration": 318,
        "start_time": "2021-10-24T17:06:36.454Z"
      },
      {
        "duration": 36,
        "start_time": "2021-10-24T17:06:36.774Z"
      },
      {
        "duration": 6,
        "start_time": "2021-10-24T17:06:36.813Z"
      },
      {
        "duration": 6139,
        "start_time": "2021-10-24T17:06:36.824Z"
      },
      {
        "duration": 67220,
        "start_time": "2021-10-24T17:06:42.966Z"
      },
      {
        "duration": 4766,
        "start_time": "2021-10-24T17:07:50.188Z"
      },
      {
        "duration": -2081,
        "start_time": "2021-10-24T17:07:57.038Z"
      },
      {
        "duration": -2082,
        "start_time": "2021-10-24T17:07:57.040Z"
      },
      {
        "duration": 22,
        "start_time": "2021-10-24T17:08:30.389Z"
      },
      {
        "duration": 5,
        "start_time": "2021-10-24T17:09:50.979Z"
      },
      {
        "duration": 66528,
        "start_time": "2021-10-24T17:10:01.376Z"
      },
      {
        "duration": 270,
        "start_time": "2021-10-24T17:11:31.049Z"
      },
      {
        "duration": 314,
        "start_time": "2021-10-24T17:11:35.957Z"
      },
      {
        "duration": 319,
        "start_time": "2021-10-24T17:11:43.283Z"
      },
      {
        "duration": 18,
        "start_time": "2021-10-24T17:11:48.807Z"
      },
      {
        "duration": 389,
        "start_time": "2021-10-24T17:11:54.194Z"
      },
      {
        "duration": 281,
        "start_time": "2021-10-24T17:11:56.067Z"
      },
      {
        "duration": 29,
        "start_time": "2021-10-24T17:12:44.568Z"
      },
      {
        "duration": 6,
        "start_time": "2021-10-24T17:21:11.828Z"
      },
      {
        "duration": 297,
        "start_time": "2021-10-24T17:21:26.188Z"
      },
      {
        "duration": 9,
        "start_time": "2021-10-24T17:21:28.883Z"
      },
      {
        "duration": 1948,
        "start_time": "2021-10-24T17:21:30.485Z"
      },
      {
        "duration": 6,
        "start_time": "2021-10-24T17:21:50.950Z"
      },
      {
        "duration": 2597,
        "start_time": "2021-10-24T17:21:53.171Z"
      },
      {
        "duration": 5,
        "start_time": "2021-10-24T17:22:34.587Z"
      },
      {
        "duration": 5,
        "start_time": "2021-10-24T17:22:44.618Z"
      },
      {
        "duration": 6,
        "start_time": "2021-10-24T17:22:56.488Z"
      },
      {
        "duration": 66456,
        "start_time": "2021-10-24T17:22:58.703Z"
      },
      {
        "duration": 19,
        "start_time": "2021-10-24T17:24:05.162Z"
      },
      {
        "duration": 37,
        "start_time": "2021-10-24T17:54:40.119Z"
      },
      {
        "duration": 84,
        "start_time": "2021-10-24T17:55:33.841Z"
      },
      {
        "duration": 6,
        "start_time": "2021-10-24T17:55:54.154Z"
      },
      {
        "duration": 1617,
        "start_time": "2021-10-24T17:56:16.910Z"
      },
      {
        "duration": 788,
        "start_time": "2021-10-24T17:56:18.530Z"
      },
      {
        "duration": 24,
        "start_time": "2021-10-24T17:56:19.321Z"
      },
      {
        "duration": 10,
        "start_time": "2021-10-24T17:56:19.347Z"
      },
      {
        "duration": 327,
        "start_time": "2021-10-24T17:56:19.359Z"
      },
      {
        "duration": 32,
        "start_time": "2021-10-24T17:56:19.688Z"
      },
      {
        "duration": 6,
        "start_time": "2021-10-24T17:56:19.723Z"
      },
      {
        "duration": 6255,
        "start_time": "2021-10-24T17:56:19.732Z"
      },
      {
        "duration": 72912,
        "start_time": "2021-10-24T17:56:25.990Z"
      },
      {
        "duration": 65613,
        "start_time": "2021-10-24T17:57:38.905Z"
      },
      {
        "duration": 57804,
        "start_time": "2021-10-24T17:58:44.521Z"
      },
      {
        "duration": 37,
        "start_time": "2021-10-24T17:59:42.327Z"
      },
      {
        "duration": 37,
        "start_time": "2021-10-24T18:10:56.715Z"
      },
      {
        "duration": 5,
        "start_time": "2021-10-24T18:24:06.711Z"
      },
      {
        "duration": 4,
        "start_time": "2021-10-24T18:25:24.194Z"
      },
      {
        "duration": 36,
        "start_time": "2021-10-24T18:25:27.380Z"
      },
      {
        "duration": 6,
        "start_time": "2021-10-24T18:25:37.259Z"
      },
      {
        "duration": 446,
        "start_time": "2021-10-24T18:27:10.316Z"
      },
      {
        "duration": 269,
        "start_time": "2021-10-24T18:27:44.308Z"
      },
      {
        "duration": 6,
        "start_time": "2021-10-24T18:27:56.375Z"
      },
      {
        "duration": 308,
        "start_time": "2021-10-24T18:27:58.871Z"
      },
      {
        "duration": 478,
        "start_time": "2021-10-24T18:29:58.131Z"
      },
      {
        "duration": 59,
        "start_time": "2021-10-24T18:30:06.258Z"
      },
      {
        "duration": 298,
        "start_time": "2021-10-24T18:30:14.077Z"
      },
      {
        "duration": 568,
        "start_time": "2021-10-24T18:30:21.516Z"
      },
      {
        "duration": 485,
        "start_time": "2021-10-24T18:30:31.383Z"
      },
      {
        "duration": 47,
        "start_time": "2021-10-24T18:30:47.531Z"
      },
      {
        "duration": 7,
        "start_time": "2021-10-24T18:31:42.095Z"
      },
      {
        "duration": 6,
        "start_time": "2021-10-24T18:31:44.655Z"
      },
      {
        "duration": 60,
        "start_time": "2021-10-24T18:32:48.887Z"
      },
      {
        "duration": 7,
        "start_time": "2021-10-24T18:33:12.420Z"
      },
      {
        "duration": 6,
        "start_time": "2021-10-24T18:33:55.021Z"
      },
      {
        "duration": 619,
        "start_time": "2021-10-24T18:34:35.598Z"
      },
      {
        "duration": 18,
        "start_time": "2021-10-24T18:40:06.808Z"
      },
      {
        "duration": 1061,
        "start_time": "2021-10-24T18:43:25.781Z"
      },
      {
        "duration": 464,
        "start_time": "2021-10-24T18:43:52.426Z"
      },
      {
        "duration": 96,
        "start_time": "2021-10-24T18:44:42.811Z"
      },
      {
        "duration": 3338,
        "start_time": "2021-10-24T18:44:53.115Z"
      },
      {
        "duration": 573,
        "start_time": "2021-10-24T18:45:17.903Z"
      },
      {
        "duration": 63,
        "start_time": "2021-10-24T18:45:23.675Z"
      },
      {
        "duration": 413,
        "start_time": "2021-10-24T18:45:45.103Z"
      },
      {
        "duration": 1134,
        "start_time": "2021-10-24T18:46:27.241Z"
      },
      {
        "duration": 4387,
        "start_time": "2021-10-24T18:46:36.801Z"
      },
      {
        "duration": 17,
        "start_time": "2021-10-24T18:46:46.266Z"
      },
      {
        "duration": 566,
        "start_time": "2021-10-24T18:46:56.671Z"
      },
      {
        "duration": 16,
        "start_time": "2021-10-24T18:47:10.000Z"
      },
      {
        "duration": 17,
        "start_time": "2021-10-24T19:00:21.324Z"
      },
      {
        "duration": 7,
        "start_time": "2021-10-24T19:00:29.702Z"
      },
      {
        "duration": 10,
        "start_time": "2021-10-24T19:00:33.298Z"
      },
      {
        "duration": 4726,
        "start_time": "2021-10-24T19:00:35.434Z"
      },
      {
        "duration": 6,
        "start_time": "2021-10-24T19:00:43.500Z"
      },
      {
        "duration": 6,
        "start_time": "2021-10-24T19:01:00.236Z"
      },
      {
        "duration": 7,
        "start_time": "2021-10-24T19:01:16.094Z"
      },
      {
        "duration": 8,
        "start_time": "2021-10-24T19:01:19.891Z"
      },
      {
        "duration": 6,
        "start_time": "2021-10-24T19:01:26.621Z"
      },
      {
        "duration": 6,
        "start_time": "2021-10-24T19:03:20.856Z"
      },
      {
        "duration": 500,
        "start_time": "2021-10-24T19:05:04.371Z"
      },
      {
        "duration": 7,
        "start_time": "2021-10-24T19:05:11.151Z"
      },
      {
        "duration": 1569,
        "start_time": "2021-10-24T19:07:10.862Z"
      },
      {
        "duration": 803,
        "start_time": "2021-10-24T19:07:12.439Z"
      },
      {
        "duration": 23,
        "start_time": "2021-10-24T19:07:13.245Z"
      },
      {
        "duration": 17,
        "start_time": "2021-10-24T19:07:13.270Z"
      },
      {
        "duration": 310,
        "start_time": "2021-10-24T19:07:13.289Z"
      },
      {
        "duration": 32,
        "start_time": "2021-10-24T19:07:13.601Z"
      },
      {
        "duration": 6,
        "start_time": "2021-10-24T19:07:13.637Z"
      },
      {
        "duration": 6031,
        "start_time": "2021-10-24T19:07:13.645Z"
      },
      {
        "duration": 68715,
        "start_time": "2021-10-24T19:07:19.679Z"
      },
      {
        "duration": 63429,
        "start_time": "2021-10-24T19:08:28.397Z"
      },
      {
        "duration": 57198,
        "start_time": "2021-10-24T19:09:31.829Z"
      },
      {
        "duration": 19,
        "start_time": "2021-10-24T19:10:29.029Z"
      },
      {
        "duration": 4846,
        "start_time": "2021-10-24T19:10:29.050Z"
      },
      {
        "duration": 7,
        "start_time": "2021-10-24T19:10:33.898Z"
      },
      {
        "duration": 12,
        "start_time": "2021-10-24T19:10:33.907Z"
      },
      {
        "duration": 4866,
        "start_time": "2021-10-24T19:10:33.921Z"
      },
      {
        "duration": 5,
        "start_time": "2021-10-24T19:10:38.790Z"
      },
      {
        "duration": 5,
        "start_time": "2021-10-24T19:17:15.093Z"
      },
      {
        "duration": 65,
        "start_time": "2021-10-24T19:17:16.838Z"
      },
      {
        "duration": 6,
        "start_time": "2021-10-24T19:17:17.936Z"
      },
      {
        "duration": 466,
        "start_time": "2021-10-24T19:17:27.132Z"
      },
      {
        "duration": 510,
        "start_time": "2021-10-24T19:17:48.280Z"
      },
      {
        "duration": 507,
        "start_time": "2021-10-24T19:17:59.432Z"
      },
      {
        "duration": 6,
        "start_time": "2021-10-24T19:18:55.180Z"
      },
      {
        "duration": 79,
        "start_time": "2021-10-24T19:19:02.070Z"
      },
      {
        "duration": 6,
        "start_time": "2021-10-24T19:19:05.691Z"
      },
      {
        "duration": 69,
        "start_time": "2021-10-24T19:19:08.278Z"
      },
      {
        "duration": 8,
        "start_time": "2021-10-24T19:19:13.710Z"
      },
      {
        "duration": 539,
        "start_time": "2021-10-24T19:19:22.942Z"
      },
      {
        "duration": 5,
        "start_time": "2021-10-24T19:19:29.211Z"
      },
      {
        "duration": 314,
        "start_time": "2021-10-24T19:19:38.243Z"
      },
      {
        "duration": 1214,
        "start_time": "2021-10-24T19:21:34.282Z"
      },
      {
        "duration": 31,
        "start_time": "2021-10-24T19:21:44.567Z"
      },
      {
        "duration": 9,
        "start_time": "2021-10-24T19:21:47.672Z"
      },
      {
        "duration": 3,
        "start_time": "2021-10-24T19:22:00.608Z"
      },
      {
        "duration": 299,
        "start_time": "2021-10-24T19:22:49.968Z"
      },
      {
        "duration": 10,
        "start_time": "2021-10-24T19:25:09.726Z"
      },
      {
        "duration": 7184,
        "start_time": "2021-10-24T19:25:25.554Z"
      },
      {
        "duration": 5,
        "start_time": "2021-10-24T19:25:35.488Z"
      },
      {
        "duration": 622,
        "start_time": "2021-10-24T19:25:44.882Z"
      },
      {
        "duration": 35,
        "start_time": "2021-10-24T19:25:54.582Z"
      },
      {
        "duration": 4,
        "start_time": "2021-10-24T19:25:55.981Z"
      },
      {
        "duration": 7734,
        "start_time": "2021-10-24T19:25:58.688Z"
      },
      {
        "duration": 47,
        "start_time": "2021-10-24T19:27:28.118Z"
      },
      {
        "duration": 25,
        "start_time": "2021-10-24T19:27:29.910Z"
      },
      {
        "duration": 6652,
        "start_time": "2021-10-24T19:27:37.289Z"
      },
      {
        "duration": 7,
        "start_time": "2021-10-24T19:27:47.396Z"
      },
      {
        "duration": 302,
        "start_time": "2021-10-24T19:30:16.957Z"
      },
      {
        "duration": 34,
        "start_time": "2021-10-24T19:30:19.480Z"
      },
      {
        "duration": 3,
        "start_time": "2021-10-24T19:30:20.943Z"
      },
      {
        "duration": 7122,
        "start_time": "2021-10-24T19:30:22.290Z"
      },
      {
        "duration": 258,
        "start_time": "2021-10-24T19:30:37.793Z"
      },
      {
        "duration": 4,
        "start_time": "2021-10-24T19:30:47.460Z"
      },
      {
        "duration": 9409,
        "start_time": "2021-10-24T19:30:57.325Z"
      },
      {
        "duration": 276,
        "start_time": "2021-10-24T19:31:35.588Z"
      },
      {
        "duration": 3,
        "start_time": "2021-10-24T19:31:42.644Z"
      },
      {
        "duration": 1027,
        "start_time": "2021-10-24T19:32:50.027Z"
      },
      {
        "duration": 2257,
        "start_time": "2021-10-24T19:33:08.394Z"
      },
      {
        "duration": 13,
        "start_time": "2021-10-24T19:33:24.435Z"
      },
      {
        "duration": 6,
        "start_time": "2021-10-24T19:33:27.835Z"
      },
      {
        "duration": 4,
        "start_time": "2021-10-24T19:33:49.917Z"
      },
      {
        "duration": 23,
        "start_time": "2021-10-24T19:34:02.372Z"
      },
      {
        "duration": 5,
        "start_time": "2021-10-24T19:34:04.836Z"
      },
      {
        "duration": 284,
        "start_time": "2021-10-24T19:34:19.012Z"
      },
      {
        "duration": 5,
        "start_time": "2021-10-24T19:37:15.147Z"
      },
      {
        "duration": 3,
        "start_time": "2021-10-24T19:38:18.691Z"
      },
      {
        "duration": 2419,
        "start_time": "2021-10-25T12:18:11.981Z"
      },
      {
        "duration": 30115,
        "start_time": "2021-10-25T12:18:14.402Z"
      },
      {
        "duration": 44,
        "start_time": "2021-10-25T12:18:44.525Z"
      },
      {
        "duration": 12,
        "start_time": "2021-10-25T12:18:44.572Z"
      },
      {
        "duration": 320,
        "start_time": "2021-10-25T12:18:44.587Z"
      },
      {
        "duration": 48,
        "start_time": "2021-10-25T12:18:44.910Z"
      },
      {
        "duration": 7,
        "start_time": "2021-10-25T12:18:44.963Z"
      },
      {
        "duration": 5864,
        "start_time": "2021-10-25T12:18:44.974Z"
      },
      {
        "duration": 68765,
        "start_time": "2021-10-25T12:18:50.840Z"
      },
      {
        "duration": 64391,
        "start_time": "2021-10-25T12:19:59.607Z"
      },
      {
        "duration": 55257,
        "start_time": "2021-10-25T12:21:04.000Z"
      },
      {
        "duration": 20,
        "start_time": "2021-10-25T12:21:59.260Z"
      },
      {
        "duration": 35,
        "start_time": "2021-10-25T12:21:59.283Z"
      },
      {
        "duration": 3,
        "start_time": "2021-10-25T12:21:59.321Z"
      },
      {
        "duration": 9400,
        "start_time": "2021-10-25T12:21:59.359Z"
      },
      {
        "duration": 3,
        "start_time": "2021-10-25T12:22:08.762Z"
      },
      {
        "duration": 9557,
        "start_time": "2021-10-25T12:22:08.767Z"
      },
      {
        "duration": 42,
        "start_time": "2021-10-25T12:22:18.327Z"
      },
      {
        "duration": 5,
        "start_time": "2021-10-25T12:22:18.371Z"
      },
      {
        "duration": 21,
        "start_time": "2021-10-25T12:27:43.648Z"
      },
      {
        "duration": 492,
        "start_time": "2021-10-25T12:28:53.923Z"
      },
      {
        "duration": 5,
        "start_time": "2021-10-25T12:28:57.871Z"
      },
      {
        "duration": 404,
        "start_time": "2021-10-25T12:29:02.318Z"
      },
      {
        "duration": 4,
        "start_time": "2021-10-25T12:29:05.371Z"
      },
      {
        "duration": 4,
        "start_time": "2021-10-25T12:32:33.445Z"
      },
      {
        "duration": 28862,
        "start_time": "2021-10-25T12:33:51.596Z"
      },
      {
        "duration": 5,
        "start_time": "2021-10-25T12:34:40.822Z"
      },
      {
        "duration": 1671,
        "start_time": "2021-10-25T12:44:11.933Z"
      },
      {
        "duration": 861,
        "start_time": "2021-10-25T12:44:13.606Z"
      },
      {
        "duration": 24,
        "start_time": "2021-10-25T12:44:14.471Z"
      },
      {
        "duration": 22,
        "start_time": "2021-10-25T12:44:14.498Z"
      },
      {
        "duration": 301,
        "start_time": "2021-10-25T12:44:14.523Z"
      },
      {
        "duration": 38,
        "start_time": "2021-10-25T12:44:14.827Z"
      },
      {
        "duration": 13,
        "start_time": "2021-10-25T12:44:14.868Z"
      },
      {
        "duration": 5876,
        "start_time": "2021-10-25T12:44:14.884Z"
      },
      {
        "duration": 70463,
        "start_time": "2021-10-25T12:44:20.764Z"
      },
      {
        "duration": 62746,
        "start_time": "2021-10-25T12:45:31.230Z"
      },
      {
        "duration": 55395,
        "start_time": "2021-10-25T12:46:33.979Z"
      },
      {
        "duration": 17,
        "start_time": "2021-10-25T12:47:29.376Z"
      },
      {
        "duration": 37,
        "start_time": "2021-10-25T12:47:29.395Z"
      },
      {
        "duration": 23,
        "start_time": "2021-10-25T12:47:29.435Z"
      },
      {
        "duration": 9963,
        "start_time": "2021-10-25T12:47:29.461Z"
      },
      {
        "duration": 4,
        "start_time": "2021-10-25T12:47:39.426Z"
      },
      {
        "duration": 7791,
        "start_time": "2021-10-25T12:47:39.432Z"
      },
      {
        "duration": 3,
        "start_time": "2021-10-25T12:47:47.226Z"
      },
      {
        "duration": 87736,
        "start_time": "2021-10-25T12:47:47.231Z"
      },
      {
        "duration": 223,
        "start_time": "2021-10-25T12:49:14.748Z"
      },
      {
        "duration": 224,
        "start_time": "2021-10-25T12:49:14.749Z"
      },
      {
        "duration": 223,
        "start_time": "2021-10-25T12:49:14.752Z"
      },
      {
        "duration": 211151,
        "start_time": "2021-10-25T12:49:23.755Z"
      },
      {
        "duration": 4419,
        "start_time": "2021-10-25T12:53:06.439Z"
      },
      {
        "duration": 17,
        "start_time": "2021-10-25T12:53:16.038Z"
      },
      {
        "duration": 5,
        "start_time": "2021-10-25T12:53:19.105Z"
      },
      {
        "duration": 5,
        "start_time": "2021-10-25T12:53:31.136Z"
      },
      {
        "duration": 2075,
        "start_time": "2021-10-25T12:53:37.826Z"
      },
      {
        "duration": 5,
        "start_time": "2021-10-25T12:53:46.321Z"
      },
      {
        "duration": 5,
        "start_time": "2021-10-25T16:24:21.825Z"
      },
      {
        "duration": 123,
        "start_time": "2021-10-25T16:55:56.385Z"
      },
      {
        "duration": 11,
        "start_time": "2021-10-25T16:58:14.920Z"
      },
      {
        "duration": 6,
        "start_time": "2021-10-25T16:58:27.174Z"
      },
      {
        "duration": 5,
        "start_time": "2021-10-25T16:58:32.650Z"
      },
      {
        "duration": 10,
        "start_time": "2021-10-25T17:06:39.756Z"
      },
      {
        "duration": 575,
        "start_time": "2021-10-25T17:11:48.012Z"
      },
      {
        "duration": 4,
        "start_time": "2021-10-25T17:11:54.961Z"
      },
      {
        "duration": 4,
        "start_time": "2021-10-25T17:12:05.794Z"
      },
      {
        "duration": 7,
        "start_time": "2021-10-25T17:15:55.053Z"
      },
      {
        "duration": 36,
        "start_time": "2021-10-25T17:16:09.312Z"
      },
      {
        "duration": 26,
        "start_time": "2021-10-25T17:16:12.134Z"
      },
      {
        "duration": 9102,
        "start_time": "2021-10-25T17:16:14.010Z"
      }
    ],
    "colab": {
      "collapsed_sections": [],
      "name": "15-Taxi-demand-prediction.ipynb",
      "provenance": []
    },
    "kernelspec": {
      "display_name": "Python 3 (ipykernel)",
      "language": "python",
      "name": "python3"
    },
    "language_info": {
      "codemirror_mode": {
        "name": "ipython",
        "version": 3
      },
      "file_extension": ".py",
      "mimetype": "text/x-python",
      "name": "python",
      "nbconvert_exporter": "python",
      "pygments_lexer": "ipython3",
      "version": "3.9.5"
    },
    "toc": {
      "base_numbering": 1,
      "nav_menu": {},
      "number_sections": true,
      "sideBar": true,
      "skip_h1_title": true,
      "title_cell": "Содержание",
      "title_sidebar": "Contents",
      "toc_cell": true,
      "toc_position": {
        "height": "calc(100% - 180px)",
        "left": "10px",
        "top": "150px",
        "width": "302.391px"
      },
      "toc_section_display": true,
      "toc_window_display": false
    }
  },
  "nbformat": 4,
  "nbformat_minor": 0
}