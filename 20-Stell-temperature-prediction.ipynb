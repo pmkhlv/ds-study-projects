{
  "cells": [
    {
      "cell_type": "markdown",
      "source": [
        "#Stell Temperature Prediction"
      ],
      "metadata": {
        "id": "m-0H-X5Q8Avv"
      }
    },
    {
      "cell_type": "markdown",
      "metadata": {
        "id": "mF7SxLCV5AyO"
      },
      "source": [
        "\n",
        "**Current problem:**\n",
        "\n",
        "In order to optimize production costs, the metallurgical plant Temper Steel LLC decided to reduce electricity consumption at the stage of steel processing. It is necessary to build a model that will predict the outlet temperature of the steel. Thus, it is planned to solve the problem of overheating and, accordingly, excessive consumption of electricity.\n",
        "\n",
        "### Description of data\n",
        "\n",
        "The data consists of files obtained from different sources:\n",
        "\n",
        "- `data_arc.csv` — electrode data;\n",
        "- `data_bulk.csv` - data on the supply of bulk materials (volume);\n",
        "- `data_bulk_time.csv` *—* data on the supply of bulk materials (time);\n",
        "- `data_gas.csv` — data on alloy gas purge;\n",
        "- `data_temp.csv` - temperature measurement results;\n",
        "- `data_wire.csv` - data on wire materials (volume);\n",
        "- `data_wire_time.csv` - data on wire materials (time).\n",
        "\n",
        "In all files, the `key` column contains the batch number. There can be several lines in files with the same `key` value: they correspond to different processing iterations."
      ]
    },
    {
      "cell_type": "markdown",
      "metadata": {
        "id": "9SWKAl7s5AyP"
      },
      "source": [
        "### To be done:"
      ]
    },
    {
      "cell_type": "markdown",
      "metadata": {
        "id": "e5i_ZsfR5AyP"
      },
      "source": [
        "- Loading libraries, classes and data;\n",
        "- EDA\n",
        "- Data preprocessing based on information from EDA;\n",
        "- Select the necessary features for modeling;\n",
        "- Combine data on batches of steel;\n",
        "- Train several models: CatBoost, LightGBM, LinearRegression, select the best hyperparameters using GridSearchCV;\n",
        "- Choose the best model;\n",
        "- Define feature importance to understand which features have the greatest impact on the outlet temperature;\n",
        "- Prepare conclusions and recommendations."
      ]
    },
    {
      "cell_type": "markdown",
      "metadata": {
        "id": "etr0KNkh5AyQ"
      },
      "source": [
        "## EDA"
      ]
    },
    {
      "cell_type": "markdown",
      "metadata": {
        "id": "dhjjEUJs5AyQ"
      },
      "source": [
        "Importing libraries."
      ]
    },
    {
      "cell_type": "code",
      "execution_count": null,
      "metadata": {
        "id": "QLIkpE5w5AyR"
      },
      "outputs": [],
      "source": [
        "import math\n",
        "import numpy as np\n",
        "import pandas as pd\n",
        "import seaborn as sns\n",
        "import xgboost\n",
        "import lightgbm as lgbm\n",
        "from catboost import CatBoostRegressor, Pool, cv\n",
        "from sklearn.preprocessing import MinMaxScaler\n",
        "from sklearn.model_selection import GridSearchCV, train_test_split\n",
        "from sklearn.linear_model import LinearRegression\n",
        "from sklearn.metrics import mean_absolute_error\n",
        "import matplotlib.pyplot as plt\n",
        "%matplotlib inline\n",
        "import warnings\n",
        "warnings.filterwarnings('ignore')"
      ]
    },
    {
      "cell_type": "markdown",
      "metadata": {
        "id": "uxLqFq1-5AyS"
      },
      "source": [
        "Downloading data:"
      ]
    },
    {
      "cell_type": "code",
      "execution_count": null,
      "metadata": {
        "id": "6by_S9Jx5AyS"
      },
      "outputs": [],
      "source": [
        "data_arc = pd.read_csv('/datasets/final_steel/data_arc.csv')\n",
        "data_bulk = pd.read_csv('/datasets/final_steel/data_bulk.csv')\n",
        "data_bulk_time = pd.read_csv('/datasets/final_steel/data_bulk_time.csv')\n",
        "data_gas = pd.read_csv('/datasets/final_steel/data_gas.csv')\n",
        "data_temp = pd.read_csv('/datasets/final_steel/data_temp.csv')\n",
        "data_wire = pd.read_csv('/datasets/final_steel/data_wire.csv')\n",
        "data_wire_time = pd.read_csv('/datasets/final_steel/data_wire_time.csv')"
      ]
    },
    {
      "cell_type": "markdown",
      "metadata": {
        "id": "IuWR3jWO5AyS"
      },
      "source": [
        "Creating a function to display analytical information on the dataset:"
      ]
    },
    {
      "cell_type": "code",
      "execution_count": null,
      "metadata": {
        "id": "EDDOLzXK5AyS"
      },
      "outputs": [],
      "source": [
        "def analysis(df):\n",
        "    display(df.head(6))\n",
        "    display(df.info())\n",
        "    display(df.describe())\n",
        "    display(\"Number of duplicate lines:\", df.duplicated().sum())"
      ]
    },
    {
      "cell_type": "markdown",
      "metadata": {
        "id": "xGbpJe2-5AyT"
      },
      "source": [
        "Let's create a function for drawing analytical graphs (histogram and boxplot):"
      ]
    },
    {
      "cell_type": "code",
      "execution_count": null,
      "metadata": {
        "id": "P1zho4NQ5AyT"
      },
      "outputs": [],
      "source": [
        "def plot_hist_boxplot(column, name):\n",
        "    fig, ax = plt.subplots(nrows = 2, ncols = 1, figsize=(14,6))\n",
        "    ax[0].hist(column[name], bins=30, density=True, rwidth=0.9, alpha=0.5)\n",
        "    ax[1].boxplot(column[name], vert=False)\n",
        "    fig.suptitle(f'Distribution of field values \"{name}\"', fontsize=16)\n",
        "    ax[1].set_xlabel(f'{name}', fontsize=10)\n",
        "    ax[0].grid(color='gray', linestyle='dashed', alpha=0.3)\n",
        "    ax[1].grid()"
      ]
    },
    {
      "cell_type": "markdown",
      "metadata": {
        "id": "PTVP0VBA5AyT"
      },
      "source": [
        "### Electrode data (data_arc)"
      ]
    },
    {
      "cell_type": "code",
      "execution_count": null,
      "metadata": {
        "id": "ScVXCEqm5AyT",
        "outputId": "063b39f2-4768-43b6-a4be-34477ee9d071"
      },
      "outputs": [
        {
          "data": {
            "text/html": [
              "<div>\n",
              "<style scoped>\n",
              "    .dataframe tbody tr th:only-of-type {\n",
              "        vertical-align: middle;\n",
              "    }\n",
              "\n",
              "    .dataframe tbody tr th {\n",
              "        vertical-align: top;\n",
              "    }\n",
              "\n",
              "    .dataframe thead th {\n",
              "        text-align: right;\n",
              "    }\n",
              "</style>\n",
              "<table border=\"1\" class=\"dataframe\">\n",
              "  <thead>\n",
              "    <tr style=\"text-align: right;\">\n",
              "      <th></th>\n",
              "      <th>key</th>\n",
              "      <th>Начало нагрева дугой</th>\n",
              "      <th>Конец нагрева дугой</th>\n",
              "      <th>Активная мощность</th>\n",
              "      <th>Реактивная мощность</th>\n",
              "    </tr>\n",
              "  </thead>\n",
              "  <tbody>\n",
              "    <tr>\n",
              "      <td>0</td>\n",
              "      <td>1</td>\n",
              "      <td>2019-05-03 11:02:14</td>\n",
              "      <td>2019-05-03 11:06:02</td>\n",
              "      <td>0.976059</td>\n",
              "      <td>0.687084</td>\n",
              "    </tr>\n",
              "    <tr>\n",
              "      <td>1</td>\n",
              "      <td>1</td>\n",
              "      <td>2019-05-03 11:07:28</td>\n",
              "      <td>2019-05-03 11:10:33</td>\n",
              "      <td>0.805607</td>\n",
              "      <td>0.520285</td>\n",
              "    </tr>\n",
              "    <tr>\n",
              "      <td>2</td>\n",
              "      <td>1</td>\n",
              "      <td>2019-05-03 11:11:44</td>\n",
              "      <td>2019-05-03 11:14:36</td>\n",
              "      <td>0.744363</td>\n",
              "      <td>0.498805</td>\n",
              "    </tr>\n",
              "    <tr>\n",
              "      <td>3</td>\n",
              "      <td>1</td>\n",
              "      <td>2019-05-03 11:18:14</td>\n",
              "      <td>2019-05-03 11:24:19</td>\n",
              "      <td>1.659363</td>\n",
              "      <td>1.062669</td>\n",
              "    </tr>\n",
              "    <tr>\n",
              "      <td>4</td>\n",
              "      <td>1</td>\n",
              "      <td>2019-05-03 11:26:09</td>\n",
              "      <td>2019-05-03 11:28:37</td>\n",
              "      <td>0.692755</td>\n",
              "      <td>0.414397</td>\n",
              "    </tr>\n",
              "    <tr>\n",
              "      <td>5</td>\n",
              "      <td>2</td>\n",
              "      <td>2019-05-03 11:34:14</td>\n",
              "      <td>2019-05-03 11:36:31</td>\n",
              "      <td>0.438063</td>\n",
              "      <td>0.283043</td>\n",
              "    </tr>\n",
              "  </tbody>\n",
              "</table>\n",
              "</div>"
            ],
            "text/plain": [
              "   key Начало нагрева дугой  Конец нагрева дугой  Активная мощность  \\\n",
              "0    1  2019-05-03 11:02:14  2019-05-03 11:06:02           0.976059   \n",
              "1    1  2019-05-03 11:07:28  2019-05-03 11:10:33           0.805607   \n",
              "2    1  2019-05-03 11:11:44  2019-05-03 11:14:36           0.744363   \n",
              "3    1  2019-05-03 11:18:14  2019-05-03 11:24:19           1.659363   \n",
              "4    1  2019-05-03 11:26:09  2019-05-03 11:28:37           0.692755   \n",
              "5    2  2019-05-03 11:34:14  2019-05-03 11:36:31           0.438063   \n",
              "\n",
              "   Реактивная мощность  \n",
              "0             0.687084  \n",
              "1             0.520285  \n",
              "2             0.498805  \n",
              "3             1.062669  \n",
              "4             0.414397  \n",
              "5             0.283043  "
            ]
          },
          "metadata": {},
          "output_type": "display_data"
        },
        {
          "name": "stdout",
          "output_type": "stream",
          "text": [
            "<class 'pandas.core.frame.DataFrame'>\n",
            "RangeIndex: 14876 entries, 0 to 14875\n",
            "Data columns (total 5 columns):\n",
            "key                     14876 non-null int64\n",
            "Начало нагрева дугой    14876 non-null object\n",
            "Конец нагрева дугой     14876 non-null object\n",
            "Активная мощность       14876 non-null float64\n",
            "Реактивная мощность     14876 non-null float64\n",
            "dtypes: float64(2), int64(1), object(2)\n",
            "memory usage: 581.2+ KB\n"
          ]
        },
        {
          "data": {
            "text/plain": [
              "None"
            ]
          },
          "metadata": {},
          "output_type": "display_data"
        },
        {
          "data": {
            "text/html": [
              "<div>\n",
              "<style scoped>\n",
              "    .dataframe tbody tr th:only-of-type {\n",
              "        vertical-align: middle;\n",
              "    }\n",
              "\n",
              "    .dataframe tbody tr th {\n",
              "        vertical-align: top;\n",
              "    }\n",
              "\n",
              "    .dataframe thead th {\n",
              "        text-align: right;\n",
              "    }\n",
              "</style>\n",
              "<table border=\"1\" class=\"dataframe\">\n",
              "  <thead>\n",
              "    <tr style=\"text-align: right;\">\n",
              "      <th></th>\n",
              "      <th>key</th>\n",
              "      <th>Активная мощность</th>\n",
              "      <th>Реактивная мощность</th>\n",
              "    </tr>\n",
              "  </thead>\n",
              "  <tbody>\n",
              "    <tr>\n",
              "      <td>count</td>\n",
              "      <td>14876.000000</td>\n",
              "      <td>14876.000000</td>\n",
              "      <td>14876.000000</td>\n",
              "    </tr>\n",
              "    <tr>\n",
              "      <td>mean</td>\n",
              "      <td>1615.220422</td>\n",
              "      <td>0.670441</td>\n",
              "      <td>0.452592</td>\n",
              "    </tr>\n",
              "    <tr>\n",
              "      <td>std</td>\n",
              "      <td>934.571502</td>\n",
              "      <td>0.408159</td>\n",
              "      <td>5.878702</td>\n",
              "    </tr>\n",
              "    <tr>\n",
              "      <td>min</td>\n",
              "      <td>1.000000</td>\n",
              "      <td>0.030002</td>\n",
              "      <td>-715.504924</td>\n",
              "    </tr>\n",
              "    <tr>\n",
              "      <td>25%</td>\n",
              "      <td>806.000000</td>\n",
              "      <td>0.395297</td>\n",
              "      <td>0.290991</td>\n",
              "    </tr>\n",
              "    <tr>\n",
              "      <td>50%</td>\n",
              "      <td>1617.000000</td>\n",
              "      <td>0.555517</td>\n",
              "      <td>0.415962</td>\n",
              "    </tr>\n",
              "    <tr>\n",
              "      <td>75%</td>\n",
              "      <td>2429.000000</td>\n",
              "      <td>0.857034</td>\n",
              "      <td>0.637371</td>\n",
              "    </tr>\n",
              "    <tr>\n",
              "      <td>max</td>\n",
              "      <td>3241.000000</td>\n",
              "      <td>3.731596</td>\n",
              "      <td>2.676388</td>\n",
              "    </tr>\n",
              "  </tbody>\n",
              "</table>\n",
              "</div>"
            ],
            "text/plain": [
              "                key  Активная мощность  Реактивная мощность\n",
              "count  14876.000000       14876.000000         14876.000000\n",
              "mean    1615.220422           0.670441             0.452592\n",
              "std      934.571502           0.408159             5.878702\n",
              "min        1.000000           0.030002          -715.504924\n",
              "25%      806.000000           0.395297             0.290991\n",
              "50%     1617.000000           0.555517             0.415962\n",
              "75%     2429.000000           0.857034             0.637371\n",
              "max     3241.000000           3.731596             2.676388"
            ]
          },
          "metadata": {},
          "output_type": "display_data"
        },
        {
          "data": {
            "text/plain": [
              "'Количество задублированных строк:'"
            ]
          },
          "metadata": {},
          "output_type": "display_data"
        },
        {
          "data": {
            "text/plain": [
              "0"
            ]
          },
          "metadata": {},
          "output_type": "display_data"
        }
      ],
      "source": [
        "analysis(data_arc)"
      ]
    },
    {
      "cell_type": "markdown",
      "metadata": {
        "id": "sVXRin8F5AyU"
      },
      "source": [
        "The electrode information table (data_arc) contains 14876 rows, with no missing values or duplicated rows. It is necessary to change the data type in the fields \"Arc heating start\" and \"Arc heating end\" to **datetime**.\n",
        "\n",
        "There is an anomaly in the \"Reactive power\" field, it is necessary to check for outliers."
      ]
    },
    {
      "cell_type": "markdown",
      "metadata": {
        "id": "tbFHh37U5AyU"
      },
      "source": [
        "<br>\n",
        "Replacing the data type <b>object</b> with <b>datetime</b>."
      ]
    },
    {
      "cell_type": "code",
      "execution_count": null,
      "metadata": {
        "id": "Kt6EDFoY5AyU"
      },
      "outputs": [],
      "source": [
        "data_arc['Начало нагрева дугой'] = pd.to_datetime(data_arc['Начало нагрева дугой'])\n",
        "data_arc['Конец нагрева дугой'] = pd.to_datetime(data_arc['Конец нагрева дугой'])"
      ]
    },
    {
      "cell_type": "markdown",
      "metadata": {
        "id": "xrUWY4cw5AyU"
      },
      "source": [
        "Count the number of unique batches."
      ]
    },
    {
      "cell_type": "code",
      "execution_count": null,
      "metadata": {
        "id": "S4ll2zNz5AyV",
        "outputId": "af2de79b-3e10-4d02-fd49-5898a296cd7d"
      },
      "outputs": [
        {
          "data": {
            "text/plain": [
              "3214"
            ]
          },
          "execution_count": 7,
          "metadata": {},
          "output_type": "execute_result"
        }
      ],
      "source": [
        "len(data_arc['key'].unique())"
      ]
    },
    {
      "cell_type": "markdown",
      "metadata": {
        "id": "V8epoKqH5AyV"
      },
      "source": [
        "The data contains information on 3214 unique batches."
      ]
    },
    {
      "cell_type": "markdown",
      "metadata": {
        "id": "gPuhCLbp5AyV"
      },
      "source": [
        "<br>\n",
        "Let's look at the distribution of the feature \"Active power\"."
      ]
    },
    {
      "cell_type": "code",
      "execution_count": null,
      "metadata": {
        "id": "58LFpBG_5AyV",
        "outputId": "41d1ba87-a494-4ae3-d166-7b17f9b6ad4e"
      },
      "outputs": [
        {
          "data": {
            "image/png": "[encoded data removed]",
            "text/plain": [
              "<Figure size 1008x432 with 2 Axes>"
            ]
          },
          "metadata": {
            "needs_background": "light"
          },
          "output_type": "display_data"
        }
      ],
      "source": [
        "plot_hist_boxplot(data_arc, 'Активная мощность')"
      ]
    },
    {
      "cell_type": "markdown",
      "metadata": {
        "id": "n5_-fLHv5AyV"
      },
      "source": [
        "The data in the field \"Active power\" are normally distributed with a shift to the left. No significant outliers are observed."
      ]
    },
    {
      "cell_type": "markdown",
      "metadata": {
        "id": "OhR7YqEu5AyV"
      },
      "source": [
        "<br>\n",
        "Let's look at the distribution of the feature \"Reactive power\"."
      ]
    },
    {
      "cell_type": "code",
      "execution_count": null,
      "metadata": {
        "id": "skc5eysT5AyW",
        "outputId": "860c23fc-591c-456a-d7f0-c79aa851323a"
      },
      "outputs": [
        {
          "data": {
            "image/png": "[encoded data removed]",
            "text/plain": [
              "<Figure size 1008x432 with 2 Axes>"
            ]
          },
          "metadata": {
            "needs_background": "light"
          },
          "output_type": "display_data"
        }
      ],
      "source": [
        "plot_hist_boxplot(data_arc, 'Реактивная мощность')"
      ]
    },
    {
      "cell_type": "code",
      "execution_count": null,
      "metadata": {
        "id": "OTp3ZSIZ5AyW",
        "outputId": "77caadfb-2878-4bb5-d121-44a0c308aeb8"
      },
      "outputs": [
        {
          "data": {
            "text/plain": [
              "1"
            ]
          },
          "execution_count": 10,
          "metadata": {},
          "output_type": "execute_result"
        }
      ],
      "source": [
        "(data_arc['Реактивная мощность'] < 0).sum()"
      ]
    },
    {
      "cell_type": "markdown",
      "metadata": {
        "id": "bYzkjJ9z5AyW"
      },
      "source": [
        "One outlier with a value less than zero was found in the data, we remove it and re-evaluate the distribution."
      ]
    },
    {
      "cell_type": "code",
      "execution_count": null,
      "metadata": {
        "id": "GtOof6gL5AyW"
      },
      "outputs": [],
      "source": [
        "data_arc = data_arc[data_arc['Реактивная мощность'] >= 0]"
      ]
    },
    {
      "cell_type": "code",
      "execution_count": null,
      "metadata": {
        "id": "uSqOH9mC5AyW",
        "outputId": "0e4410ea-45c1-4013-dbb9-b297e9e62e55"
      },
      "outputs": [
        {
          "data": {
            "image/png": "[encoded data removed]",
            "text/plain": [
              "<Figure size 1008x432 with 2 Axes>"
            ]
          },
          "metadata": {
            "needs_background": "light"
          },
          "output_type": "display_data"
        }
      ],
      "source": [
        "plot_hist_boxplot(data_arc, 'Реактивная мощность')"
      ]
    },
    {
      "cell_type": "markdown",
      "metadata": {
        "id": "V0nHxlHv5AyW"
      },
      "source": [
        "Let's check the correlation of these features."
      ]
    },
    {
      "cell_type": "code",
      "execution_count": null,
      "metadata": {
        "id": "Ut5cmzj-5AyX",
        "outputId": "5411bca5-90bc-4662-ce50-fa04065f2e92"
      },
      "outputs": [
        {
          "data": {
            "text/plain": [
              "0.9631819131519803"
            ]
          },
          "execution_count": 13,
          "metadata": {},
          "output_type": "execute_result"
        }
      ],
      "source": [
        "data_arc['Активная мощность'].corr(data_arc['Реактивная мощность'])"
      ]
    },
    {
      "cell_type": "markdown",
      "metadata": {
        "id": "rQuvR0vm5AyX"
      },
      "source": [
        "The correlation between features is high. We can convert two features into one, based on a formula from physics:\n",
        "$$ S = {\\sqrt{P^2 + Q^2}} $$\n",
        "where **P** is active power, **Q** is reactive power\n",
        "\n",
        "Let's add a new attribute **\"Full power\"**."
      ]
    },
    {
      "cell_type": "code",
      "execution_count": null,
      "metadata": {
        "id": "ZUmvZHte5AyX"
      },
      "outputs": [],
      "source": [
        "def full_power(row):\n",
        "    full_power = math.sqrt(row['Активная мощность']**2 + row['Реактивная мощность']**2)\n",
        "    return full_power"
      ]
    },
    {
      "cell_type": "code",
      "execution_count": null,
      "metadata": {
        "id": "QQn-GIHx5AyX"
      },
      "outputs": [],
      "source": [
        "data_arc['Полная мощность'] = data_arc.apply(full_power, axis=1)"
      ]
    },
    {
      "cell_type": "markdown",
      "metadata": {
        "id": "i9hxUHhN5AyX"
      },
      "source": [
        "**Analysis results**: examined the electrode data, corrected the data types and got rid of the outlier in the **\"Reactive Power\"** field. We checked the data correlation, added a new sign **\"Full power\"**. Extra features will be removed at the stage of data preparation."
      ]
    },
    {
      "cell_type": "markdown",
      "metadata": {
        "id": "eLCwqP0U5AyX"
      },
      "source": [
        "### Bulk material supply data (volume) (data_bulk)"
      ]
    },
    {
      "cell_type": "code",
      "execution_count": null,
      "metadata": {
        "id": "6Td968Vq5AyY",
        "outputId": "e47f5684-27fc-4525-ed0a-53632cffaa29"
      },
      "outputs": [
        {
          "data": {
            "text/html": [
              "<div>\n",
              "<style scoped>\n",
              "    .dataframe tbody tr th:only-of-type {\n",
              "        vertical-align: middle;\n",
              "    }\n",
              "\n",
              "    .dataframe tbody tr th {\n",
              "        vertical-align: top;\n",
              "    }\n",
              "\n",
              "    .dataframe thead th {\n",
              "        text-align: right;\n",
              "    }\n",
              "</style>\n",
              "<table border=\"1\" class=\"dataframe\">\n",
              "  <thead>\n",
              "    <tr style=\"text-align: right;\">\n",
              "      <th></th>\n",
              "      <th>key</th>\n",
              "      <th>Bulk 1</th>\n",
              "      <th>Bulk 2</th>\n",
              "      <th>Bulk 3</th>\n",
              "      <th>Bulk 4</th>\n",
              "      <th>Bulk 5</th>\n",
              "      <th>Bulk 6</th>\n",
              "      <th>Bulk 7</th>\n",
              "      <th>Bulk 8</th>\n",
              "      <th>Bulk 9</th>\n",
              "      <th>Bulk 10</th>\n",
              "      <th>Bulk 11</th>\n",
              "      <th>Bulk 12</th>\n",
              "      <th>Bulk 13</th>\n",
              "      <th>Bulk 14</th>\n",
              "      <th>Bulk 15</th>\n",
              "    </tr>\n",
              "  </thead>\n",
              "  <tbody>\n",
              "    <tr>\n",
              "      <td>0</td>\n",
              "      <td>1</td>\n",
              "      <td>NaN</td>\n",
              "      <td>NaN</td>\n",
              "      <td>NaN</td>\n",
              "      <td>43.0</td>\n",
              "      <td>NaN</td>\n",
              "      <td>NaN</td>\n",
              "      <td>NaN</td>\n",
              "      <td>NaN</td>\n",
              "      <td>NaN</td>\n",
              "      <td>NaN</td>\n",
              "      <td>NaN</td>\n",
              "      <td>206.0</td>\n",
              "      <td>NaN</td>\n",
              "      <td>150.0</td>\n",
              "      <td>154.0</td>\n",
              "    </tr>\n",
              "    <tr>\n",
              "      <td>1</td>\n",
              "      <td>2</td>\n",
              "      <td>NaN</td>\n",
              "      <td>NaN</td>\n",
              "      <td>NaN</td>\n",
              "      <td>73.0</td>\n",
              "      <td>NaN</td>\n",
              "      <td>NaN</td>\n",
              "      <td>NaN</td>\n",
              "      <td>NaN</td>\n",
              "      <td>NaN</td>\n",
              "      <td>NaN</td>\n",
              "      <td>NaN</td>\n",
              "      <td>206.0</td>\n",
              "      <td>NaN</td>\n",
              "      <td>149.0</td>\n",
              "      <td>154.0</td>\n",
              "    </tr>\n",
              "    <tr>\n",
              "      <td>2</td>\n",
              "      <td>3</td>\n",
              "      <td>NaN</td>\n",
              "      <td>NaN</td>\n",
              "      <td>NaN</td>\n",
              "      <td>34.0</td>\n",
              "      <td>NaN</td>\n",
              "      <td>NaN</td>\n",
              "      <td>NaN</td>\n",
              "      <td>NaN</td>\n",
              "      <td>NaN</td>\n",
              "      <td>NaN</td>\n",
              "      <td>NaN</td>\n",
              "      <td>205.0</td>\n",
              "      <td>NaN</td>\n",
              "      <td>152.0</td>\n",
              "      <td>153.0</td>\n",
              "    </tr>\n",
              "    <tr>\n",
              "      <td>3</td>\n",
              "      <td>4</td>\n",
              "      <td>NaN</td>\n",
              "      <td>NaN</td>\n",
              "      <td>NaN</td>\n",
              "      <td>81.0</td>\n",
              "      <td>NaN</td>\n",
              "      <td>NaN</td>\n",
              "      <td>NaN</td>\n",
              "      <td>NaN</td>\n",
              "      <td>NaN</td>\n",
              "      <td>NaN</td>\n",
              "      <td>NaN</td>\n",
              "      <td>207.0</td>\n",
              "      <td>NaN</td>\n",
              "      <td>153.0</td>\n",
              "      <td>154.0</td>\n",
              "    </tr>\n",
              "    <tr>\n",
              "      <td>4</td>\n",
              "      <td>5</td>\n",
              "      <td>NaN</td>\n",
              "      <td>NaN</td>\n",
              "      <td>NaN</td>\n",
              "      <td>78.0</td>\n",
              "      <td>NaN</td>\n",
              "      <td>NaN</td>\n",
              "      <td>NaN</td>\n",
              "      <td>NaN</td>\n",
              "      <td>NaN</td>\n",
              "      <td>NaN</td>\n",
              "      <td>NaN</td>\n",
              "      <td>203.0</td>\n",
              "      <td>NaN</td>\n",
              "      <td>151.0</td>\n",
              "      <td>152.0</td>\n",
              "    </tr>\n",
              "    <tr>\n",
              "      <td>5</td>\n",
              "      <td>6</td>\n",
              "      <td>NaN</td>\n",
              "      <td>NaN</td>\n",
              "      <td>NaN</td>\n",
              "      <td>117.0</td>\n",
              "      <td>NaN</td>\n",
              "      <td>NaN</td>\n",
              "      <td>NaN</td>\n",
              "      <td>NaN</td>\n",
              "      <td>NaN</td>\n",
              "      <td>NaN</td>\n",
              "      <td>NaN</td>\n",
              "      <td>204.0</td>\n",
              "      <td>NaN</td>\n",
              "      <td>201.0</td>\n",
              "      <td>154.0</td>\n",
              "    </tr>\n",
              "  </tbody>\n",
              "</table>\n",
              "</div>"
            ],
            "text/plain": [
              "   key  Bulk 1  Bulk 2  Bulk 3  Bulk 4  Bulk 5  Bulk 6  Bulk 7  Bulk 8  \\\n",
              "0    1     NaN     NaN     NaN    43.0     NaN     NaN     NaN     NaN   \n",
              "1    2     NaN     NaN     NaN    73.0     NaN     NaN     NaN     NaN   \n",
              "2    3     NaN     NaN     NaN    34.0     NaN     NaN     NaN     NaN   \n",
              "3    4     NaN     NaN     NaN    81.0     NaN     NaN     NaN     NaN   \n",
              "4    5     NaN     NaN     NaN    78.0     NaN     NaN     NaN     NaN   \n",
              "5    6     NaN     NaN     NaN   117.0     NaN     NaN     NaN     NaN   \n",
              "\n",
              "   Bulk 9  Bulk 10  Bulk 11  Bulk 12  Bulk 13  Bulk 14  Bulk 15  \n",
              "0     NaN      NaN      NaN    206.0      NaN    150.0    154.0  \n",
              "1     NaN      NaN      NaN    206.0      NaN    149.0    154.0  \n",
              "2     NaN      NaN      NaN    205.0      NaN    152.0    153.0  \n",
              "3     NaN      NaN      NaN    207.0      NaN    153.0    154.0  \n",
              "4     NaN      NaN      NaN    203.0      NaN    151.0    152.0  \n",
              "5     NaN      NaN      NaN    204.0      NaN    201.0    154.0  "
            ]
          },
          "metadata": {},
          "output_type": "display_data"
        },
        {
          "name": "stdout",
          "output_type": "stream",
          "text": [
            "<class 'pandas.core.frame.DataFrame'>\n",
            "RangeIndex: 3129 entries, 0 to 3128\n",
            "Data columns (total 16 columns):\n",
            "key        3129 non-null int64\n",
            "Bulk 1     252 non-null float64\n",
            "Bulk 2     22 non-null float64\n",
            "Bulk 3     1298 non-null float64\n",
            "Bulk 4     1014 non-null float64\n",
            "Bulk 5     77 non-null float64\n",
            "Bulk 6     576 non-null float64\n",
            "Bulk 7     25 non-null float64\n",
            "Bulk 8     1 non-null float64\n",
            "Bulk 9     19 non-null float64\n",
            "Bulk 10    176 non-null float64\n",
            "Bulk 11    177 non-null float64\n",
            "Bulk 12    2450 non-null float64\n",
            "Bulk 13    18 non-null float64\n",
            "Bulk 14    2806 non-null float64\n",
            "Bulk 15    2248 non-null float64\n",
            "dtypes: float64(15), int64(1)\n",
            "memory usage: 391.2 KB\n"
          ]
        },
        {
          "data": {
            "text/plain": [
              "None"
            ]
          },
          "metadata": {},
          "output_type": "display_data"
        },
        {
          "data": {
            "text/html": [
              "<div>\n",
              "<style scoped>\n",
              "    .dataframe tbody tr th:only-of-type {\n",
              "        vertical-align: middle;\n",
              "    }\n",
              "\n",
              "    .dataframe tbody tr th {\n",
              "        vertical-align: top;\n",
              "    }\n",
              "\n",
              "    .dataframe thead th {\n",
              "        text-align: right;\n",
              "    }\n",
              "</style>\n",
              "<table border=\"1\" class=\"dataframe\">\n",
              "  <thead>\n",
              "    <tr style=\"text-align: right;\">\n",
              "      <th></th>\n",
              "      <th>key</th>\n",
              "      <th>Bulk 1</th>\n",
              "      <th>Bulk 2</th>\n",
              "      <th>Bulk 3</th>\n",
              "      <th>Bulk 4</th>\n",
              "      <th>Bulk 5</th>\n",
              "      <th>Bulk 6</th>\n",
              "      <th>Bulk 7</th>\n",
              "      <th>Bulk 8</th>\n",
              "      <th>Bulk 9</th>\n",
              "      <th>Bulk 10</th>\n",
              "      <th>Bulk 11</th>\n",
              "      <th>Bulk 12</th>\n",
              "      <th>Bulk 13</th>\n",
              "      <th>Bulk 14</th>\n",
              "      <th>Bulk 15</th>\n",
              "    </tr>\n",
              "  </thead>\n",
              "  <tbody>\n",
              "    <tr>\n",
              "      <td>count</td>\n",
              "      <td>3129.000000</td>\n",
              "      <td>252.000000</td>\n",
              "      <td>22.000000</td>\n",
              "      <td>1298.000000</td>\n",
              "      <td>1014.000000</td>\n",
              "      <td>77.000000</td>\n",
              "      <td>576.000000</td>\n",
              "      <td>25.000000</td>\n",
              "      <td>1.0</td>\n",
              "      <td>19.000000</td>\n",
              "      <td>176.000000</td>\n",
              "      <td>177.000000</td>\n",
              "      <td>2450.000000</td>\n",
              "      <td>18.000000</td>\n",
              "      <td>2806.000000</td>\n",
              "      <td>2248.000000</td>\n",
              "    </tr>\n",
              "    <tr>\n",
              "      <td>mean</td>\n",
              "      <td>1624.383509</td>\n",
              "      <td>39.242063</td>\n",
              "      <td>253.045455</td>\n",
              "      <td>113.879045</td>\n",
              "      <td>104.394477</td>\n",
              "      <td>107.025974</td>\n",
              "      <td>118.925347</td>\n",
              "      <td>305.600000</td>\n",
              "      <td>49.0</td>\n",
              "      <td>76.315789</td>\n",
              "      <td>83.284091</td>\n",
              "      <td>76.819209</td>\n",
              "      <td>260.471020</td>\n",
              "      <td>181.111111</td>\n",
              "      <td>170.284747</td>\n",
              "      <td>160.513345</td>\n",
              "    </tr>\n",
              "    <tr>\n",
              "      <td>std</td>\n",
              "      <td>933.337642</td>\n",
              "      <td>18.277654</td>\n",
              "      <td>21.180578</td>\n",
              "      <td>75.483494</td>\n",
              "      <td>48.184126</td>\n",
              "      <td>81.790646</td>\n",
              "      <td>72.057776</td>\n",
              "      <td>191.022904</td>\n",
              "      <td>NaN</td>\n",
              "      <td>21.720581</td>\n",
              "      <td>26.060347</td>\n",
              "      <td>59.655365</td>\n",
              "      <td>120.649269</td>\n",
              "      <td>46.088009</td>\n",
              "      <td>65.868652</td>\n",
              "      <td>51.765319</td>\n",
              "    </tr>\n",
              "    <tr>\n",
              "      <td>min</td>\n",
              "      <td>1.000000</td>\n",
              "      <td>10.000000</td>\n",
              "      <td>228.000000</td>\n",
              "      <td>6.000000</td>\n",
              "      <td>12.000000</td>\n",
              "      <td>11.000000</td>\n",
              "      <td>17.000000</td>\n",
              "      <td>47.000000</td>\n",
              "      <td>49.0</td>\n",
              "      <td>63.000000</td>\n",
              "      <td>24.000000</td>\n",
              "      <td>8.000000</td>\n",
              "      <td>53.000000</td>\n",
              "      <td>151.000000</td>\n",
              "      <td>16.000000</td>\n",
              "      <td>1.000000</td>\n",
              "    </tr>\n",
              "    <tr>\n",
              "      <td>25%</td>\n",
              "      <td>816.000000</td>\n",
              "      <td>27.000000</td>\n",
              "      <td>242.000000</td>\n",
              "      <td>58.000000</td>\n",
              "      <td>72.000000</td>\n",
              "      <td>70.000000</td>\n",
              "      <td>69.750000</td>\n",
              "      <td>155.000000</td>\n",
              "      <td>49.0</td>\n",
              "      <td>66.000000</td>\n",
              "      <td>64.000000</td>\n",
              "      <td>25.000000</td>\n",
              "      <td>204.000000</td>\n",
              "      <td>153.250000</td>\n",
              "      <td>119.000000</td>\n",
              "      <td>105.000000</td>\n",
              "    </tr>\n",
              "    <tr>\n",
              "      <td>50%</td>\n",
              "      <td>1622.000000</td>\n",
              "      <td>31.000000</td>\n",
              "      <td>251.500000</td>\n",
              "      <td>97.500000</td>\n",
              "      <td>102.000000</td>\n",
              "      <td>86.000000</td>\n",
              "      <td>100.000000</td>\n",
              "      <td>298.000000</td>\n",
              "      <td>49.0</td>\n",
              "      <td>68.000000</td>\n",
              "      <td>86.500000</td>\n",
              "      <td>64.000000</td>\n",
              "      <td>208.000000</td>\n",
              "      <td>155.500000</td>\n",
              "      <td>151.000000</td>\n",
              "      <td>160.000000</td>\n",
              "    </tr>\n",
              "    <tr>\n",
              "      <td>75%</td>\n",
              "      <td>2431.000000</td>\n",
              "      <td>46.000000</td>\n",
              "      <td>257.750000</td>\n",
              "      <td>152.000000</td>\n",
              "      <td>133.000000</td>\n",
              "      <td>132.000000</td>\n",
              "      <td>157.000000</td>\n",
              "      <td>406.000000</td>\n",
              "      <td>49.0</td>\n",
              "      <td>70.500000</td>\n",
              "      <td>102.000000</td>\n",
              "      <td>106.000000</td>\n",
              "      <td>316.000000</td>\n",
              "      <td>203.500000</td>\n",
              "      <td>205.750000</td>\n",
              "      <td>205.000000</td>\n",
              "    </tr>\n",
              "    <tr>\n",
              "      <td>max</td>\n",
              "      <td>3241.000000</td>\n",
              "      <td>185.000000</td>\n",
              "      <td>325.000000</td>\n",
              "      <td>454.000000</td>\n",
              "      <td>281.000000</td>\n",
              "      <td>603.000000</td>\n",
              "      <td>503.000000</td>\n",
              "      <td>772.000000</td>\n",
              "      <td>49.0</td>\n",
              "      <td>147.000000</td>\n",
              "      <td>159.000000</td>\n",
              "      <td>313.000000</td>\n",
              "      <td>1849.000000</td>\n",
              "      <td>305.000000</td>\n",
              "      <td>636.000000</td>\n",
              "      <td>405.000000</td>\n",
              "    </tr>\n",
              "  </tbody>\n",
              "</table>\n",
              "</div>"
            ],
            "text/plain": [
              "               key      Bulk 1      Bulk 2       Bulk 3       Bulk 4  \\\n",
              "count  3129.000000  252.000000   22.000000  1298.000000  1014.000000   \n",
              "mean   1624.383509   39.242063  253.045455   113.879045   104.394477   \n",
              "std     933.337642   18.277654   21.180578    75.483494    48.184126   \n",
              "min       1.000000   10.000000  228.000000     6.000000    12.000000   \n",
              "25%     816.000000   27.000000  242.000000    58.000000    72.000000   \n",
              "50%    1622.000000   31.000000  251.500000    97.500000   102.000000   \n",
              "75%    2431.000000   46.000000  257.750000   152.000000   133.000000   \n",
              "max    3241.000000  185.000000  325.000000   454.000000   281.000000   \n",
              "\n",
              "           Bulk 5      Bulk 6      Bulk 7  Bulk 8      Bulk 9     Bulk 10  \\\n",
              "count   77.000000  576.000000   25.000000     1.0   19.000000  176.000000   \n",
              "mean   107.025974  118.925347  305.600000    49.0   76.315789   83.284091   \n",
              "std     81.790646   72.057776  191.022904     NaN   21.720581   26.060347   \n",
              "min     11.000000   17.000000   47.000000    49.0   63.000000   24.000000   \n",
              "25%     70.000000   69.750000  155.000000    49.0   66.000000   64.000000   \n",
              "50%     86.000000  100.000000  298.000000    49.0   68.000000   86.500000   \n",
              "75%    132.000000  157.000000  406.000000    49.0   70.500000  102.000000   \n",
              "max    603.000000  503.000000  772.000000    49.0  147.000000  159.000000   \n",
              "\n",
              "          Bulk 11      Bulk 12     Bulk 13      Bulk 14      Bulk 15  \n",
              "count  177.000000  2450.000000   18.000000  2806.000000  2248.000000  \n",
              "mean    76.819209   260.471020  181.111111   170.284747   160.513345  \n",
              "std     59.655365   120.649269   46.088009    65.868652    51.765319  \n",
              "min      8.000000    53.000000  151.000000    16.000000     1.000000  \n",
              "25%     25.000000   204.000000  153.250000   119.000000   105.000000  \n",
              "50%     64.000000   208.000000  155.500000   151.000000   160.000000  \n",
              "75%    106.000000   316.000000  203.500000   205.750000   205.000000  \n",
              "max    313.000000  1849.000000  305.000000   636.000000   405.000000  "
            ]
          },
          "metadata": {},
          "output_type": "display_data"
        },
        {
          "data": {
            "text/plain": [
              "'Количество задублированных строк:'"
            ]
          },
          "metadata": {},
          "output_type": "display_data"
        },
        {
          "data": {
            "text/plain": [
              "0"
            ]
          },
          "metadata": {},
          "output_type": "display_data"
        }
      ],
      "source": [
        "analysis(data_bulk)"
      ]
    },
    {
      "cell_type": "markdown",
      "metadata": {
        "id": "bAzIiB8R5AyY"
      },
      "source": [
        "**Analytical results**: Bulk volume data contains many gaps as a different combination of materials was used for each lot. Therefore, we will not do anything with passes."
      ]
    },
    {
      "cell_type": "markdown",
      "metadata": {
        "id": "K4dLyx0C5AyY"
      },
      "source": [
        "### Bulk material data (time) (data_bulk_time)"
      ]
    },
    {
      "cell_type": "code",
      "execution_count": null,
      "metadata": {
        "id": "4-K4Hy1x5AyY",
        "outputId": "ca14e349-20ea-44d8-9ca4-2a5443de7e07"
      },
      "outputs": [
        {
          "data": {
            "text/html": [
              "<div>\n",
              "<style scoped>\n",
              "    .dataframe tbody tr th:only-of-type {\n",
              "        vertical-align: middle;\n",
              "    }\n",
              "\n",
              "    .dataframe tbody tr th {\n",
              "        vertical-align: top;\n",
              "    }\n",
              "\n",
              "    .dataframe thead th {\n",
              "        text-align: right;\n",
              "    }\n",
              "</style>\n",
              "<table border=\"1\" class=\"dataframe\">\n",
              "  <thead>\n",
              "    <tr style=\"text-align: right;\">\n",
              "      <th></th>\n",
              "      <th>key</th>\n",
              "      <th>Bulk 1</th>\n",
              "      <th>Bulk 2</th>\n",
              "      <th>Bulk 3</th>\n",
              "      <th>Bulk 4</th>\n",
              "      <th>Bulk 5</th>\n",
              "      <th>Bulk 6</th>\n",
              "      <th>Bulk 7</th>\n",
              "      <th>Bulk 8</th>\n",
              "      <th>Bulk 9</th>\n",
              "      <th>Bulk 10</th>\n",
              "      <th>Bulk 11</th>\n",
              "      <th>Bulk 12</th>\n",
              "      <th>Bulk 13</th>\n",
              "      <th>Bulk 14</th>\n",
              "      <th>Bulk 15</th>\n",
              "    </tr>\n",
              "  </thead>\n",
              "  <tbody>\n",
              "    <tr>\n",
              "      <td>0</td>\n",
              "      <td>1</td>\n",
              "      <td>NaN</td>\n",
              "      <td>NaN</td>\n",
              "      <td>NaN</td>\n",
              "      <td>2019-05-03 11:21:30</td>\n",
              "      <td>NaN</td>\n",
              "      <td>NaN</td>\n",
              "      <td>NaN</td>\n",
              "      <td>NaN</td>\n",
              "      <td>NaN</td>\n",
              "      <td>NaN</td>\n",
              "      <td>NaN</td>\n",
              "      <td>2019-05-03 11:03:52</td>\n",
              "      <td>NaN</td>\n",
              "      <td>2019-05-03 11:03:52</td>\n",
              "      <td>2019-05-03 11:03:52</td>\n",
              "    </tr>\n",
              "    <tr>\n",
              "      <td>1</td>\n",
              "      <td>2</td>\n",
              "      <td>NaN</td>\n",
              "      <td>NaN</td>\n",
              "      <td>NaN</td>\n",
              "      <td>2019-05-03 11:46:38</td>\n",
              "      <td>NaN</td>\n",
              "      <td>NaN</td>\n",
              "      <td>NaN</td>\n",
              "      <td>NaN</td>\n",
              "      <td>NaN</td>\n",
              "      <td>NaN</td>\n",
              "      <td>NaN</td>\n",
              "      <td>2019-05-03 11:40:20</td>\n",
              "      <td>NaN</td>\n",
              "      <td>2019-05-03 11:40:20</td>\n",
              "      <td>2019-05-03 11:40:20</td>\n",
              "    </tr>\n",
              "    <tr>\n",
              "      <td>2</td>\n",
              "      <td>3</td>\n",
              "      <td>NaN</td>\n",
              "      <td>NaN</td>\n",
              "      <td>NaN</td>\n",
              "      <td>2019-05-03 12:31:06</td>\n",
              "      <td>NaN</td>\n",
              "      <td>NaN</td>\n",
              "      <td>NaN</td>\n",
              "      <td>NaN</td>\n",
              "      <td>NaN</td>\n",
              "      <td>NaN</td>\n",
              "      <td>NaN</td>\n",
              "      <td>2019-05-03 12:09:40</td>\n",
              "      <td>NaN</td>\n",
              "      <td>2019-05-03 12:09:40</td>\n",
              "      <td>2019-05-03 12:09:40</td>\n",
              "    </tr>\n",
              "  </tbody>\n",
              "</table>\n",
              "</div>"
            ],
            "text/plain": [
              "   key Bulk 1 Bulk 2 Bulk 3               Bulk 4 Bulk 5 Bulk 6 Bulk 7 Bulk 8  \\\n",
              "0    1    NaN    NaN    NaN  2019-05-03 11:21:30    NaN    NaN    NaN    NaN   \n",
              "1    2    NaN    NaN    NaN  2019-05-03 11:46:38    NaN    NaN    NaN    NaN   \n",
              "2    3    NaN    NaN    NaN  2019-05-03 12:31:06    NaN    NaN    NaN    NaN   \n",
              "\n",
              "  Bulk 9 Bulk 10 Bulk 11              Bulk 12 Bulk 13              Bulk 14  \\\n",
              "0    NaN     NaN     NaN  2019-05-03 11:03:52     NaN  2019-05-03 11:03:52   \n",
              "1    NaN     NaN     NaN  2019-05-03 11:40:20     NaN  2019-05-03 11:40:20   \n",
              "2    NaN     NaN     NaN  2019-05-03 12:09:40     NaN  2019-05-03 12:09:40   \n",
              "\n",
              "               Bulk 15  \n",
              "0  2019-05-03 11:03:52  \n",
              "1  2019-05-03 11:40:20  \n",
              "2  2019-05-03 12:09:40  "
            ]
          },
          "execution_count": 17,
          "metadata": {},
          "output_type": "execute_result"
        }
      ],
      "source": [
        "data_bulk_time.head(3)"
      ]
    },
    {
      "cell_type": "markdown",
      "metadata": {
        "id": "HCoMk2L15AyY"
      },
      "source": [
        "**Analysis Results**: Bulk material feed time information will not be used in model building."
      ]
    },
    {
      "cell_type": "markdown",
      "metadata": {
        "id": "TKd8pQVr5AyY"
      },
      "source": [
        "### Alloy gas purge data (data_gas)"
      ]
    },
    {
      "cell_type": "code",
      "execution_count": null,
      "metadata": {
        "id": "jV2qaewr5AyY",
        "outputId": "c5503afd-6367-4f23-b658-796652717d0d"
      },
      "outputs": [
        {
          "data": {
            "text/html": [
              "<div>\n",
              "<style scoped>\n",
              "    .dataframe tbody tr th:only-of-type {\n",
              "        vertical-align: middle;\n",
              "    }\n",
              "\n",
              "    .dataframe tbody tr th {\n",
              "        vertical-align: top;\n",
              "    }\n",
              "\n",
              "    .dataframe thead th {\n",
              "        text-align: right;\n",
              "    }\n",
              "</style>\n",
              "<table border=\"1\" class=\"dataframe\">\n",
              "  <thead>\n",
              "    <tr style=\"text-align: right;\">\n",
              "      <th></th>\n",
              "      <th>key</th>\n",
              "      <th>Газ 1</th>\n",
              "    </tr>\n",
              "  </thead>\n",
              "  <tbody>\n",
              "    <tr>\n",
              "      <td>0</td>\n",
              "      <td>1</td>\n",
              "      <td>29.749986</td>\n",
              "    </tr>\n",
              "    <tr>\n",
              "      <td>1</td>\n",
              "      <td>2</td>\n",
              "      <td>12.555561</td>\n",
              "    </tr>\n",
              "    <tr>\n",
              "      <td>2</td>\n",
              "      <td>3</td>\n",
              "      <td>28.554793</td>\n",
              "    </tr>\n",
              "    <tr>\n",
              "      <td>3</td>\n",
              "      <td>4</td>\n",
              "      <td>18.841219</td>\n",
              "    </tr>\n",
              "    <tr>\n",
              "      <td>4</td>\n",
              "      <td>5</td>\n",
              "      <td>5.413692</td>\n",
              "    </tr>\n",
              "    <tr>\n",
              "      <td>5</td>\n",
              "      <td>6</td>\n",
              "      <td>11.273392</td>\n",
              "    </tr>\n",
              "  </tbody>\n",
              "</table>\n",
              "</div>"
            ],
            "text/plain": [
              "   key      Газ 1\n",
              "0    1  29.749986\n",
              "1    2  12.555561\n",
              "2    3  28.554793\n",
              "3    4  18.841219\n",
              "4    5   5.413692\n",
              "5    6  11.273392"
            ]
          },
          "metadata": {},
          "output_type": "display_data"
        },
        {
          "name": "stdout",
          "output_type": "stream",
          "text": [
            "<class 'pandas.core.frame.DataFrame'>\n",
            "RangeIndex: 3239 entries, 0 to 3238\n",
            "Data columns (total 2 columns):\n",
            "key      3239 non-null int64\n",
            "Газ 1    3239 non-null float64\n",
            "dtypes: float64(1), int64(1)\n",
            "memory usage: 50.7 KB\n"
          ]
        },
        {
          "data": {
            "text/plain": [
              "None"
            ]
          },
          "metadata": {},
          "output_type": "display_data"
        },
        {
          "data": {
            "text/html": [
              "<div>\n",
              "<style scoped>\n",
              "    .dataframe tbody tr th:only-of-type {\n",
              "        vertical-align: middle;\n",
              "    }\n",
              "\n",
              "    .dataframe tbody tr th {\n",
              "        vertical-align: top;\n",
              "    }\n",
              "\n",
              "    .dataframe thead th {\n",
              "        text-align: right;\n",
              "    }\n",
              "</style>\n",
              "<table border=\"1\" class=\"dataframe\">\n",
              "  <thead>\n",
              "    <tr style=\"text-align: right;\">\n",
              "      <th></th>\n",
              "      <th>key</th>\n",
              "      <th>Газ 1</th>\n",
              "    </tr>\n",
              "  </thead>\n",
              "  <tbody>\n",
              "    <tr>\n",
              "      <td>count</td>\n",
              "      <td>3239.000000</td>\n",
              "      <td>3239.000000</td>\n",
              "    </tr>\n",
              "    <tr>\n",
              "      <td>mean</td>\n",
              "      <td>1621.861377</td>\n",
              "      <td>11.002062</td>\n",
              "    </tr>\n",
              "    <tr>\n",
              "      <td>std</td>\n",
              "      <td>935.386334</td>\n",
              "      <td>6.220327</td>\n",
              "    </tr>\n",
              "    <tr>\n",
              "      <td>min</td>\n",
              "      <td>1.000000</td>\n",
              "      <td>0.008399</td>\n",
              "    </tr>\n",
              "    <tr>\n",
              "      <td>25%</td>\n",
              "      <td>812.500000</td>\n",
              "      <td>7.043089</td>\n",
              "    </tr>\n",
              "    <tr>\n",
              "      <td>50%</td>\n",
              "      <td>1622.000000</td>\n",
              "      <td>9.836267</td>\n",
              "    </tr>\n",
              "    <tr>\n",
              "      <td>75%</td>\n",
              "      <td>2431.500000</td>\n",
              "      <td>13.769915</td>\n",
              "    </tr>\n",
              "    <tr>\n",
              "      <td>max</td>\n",
              "      <td>3241.000000</td>\n",
              "      <td>77.995040</td>\n",
              "    </tr>\n",
              "  </tbody>\n",
              "</table>\n",
              "</div>"
            ],
            "text/plain": [
              "               key        Газ 1\n",
              "count  3239.000000  3239.000000\n",
              "mean   1621.861377    11.002062\n",
              "std     935.386334     6.220327\n",
              "min       1.000000     0.008399\n",
              "25%     812.500000     7.043089\n",
              "50%    1622.000000     9.836267\n",
              "75%    2431.500000    13.769915\n",
              "max    3241.000000    77.995040"
            ]
          },
          "metadata": {},
          "output_type": "display_data"
        },
        {
          "data": {
            "text/plain": [
              "'Количество задублированных строк:'"
            ]
          },
          "metadata": {},
          "output_type": "display_data"
        },
        {
          "data": {
            "text/plain": [
              "0"
            ]
          },
          "metadata": {},
          "output_type": "display_data"
        }
      ],
      "source": [
        "analysis(data_gas)"
      ]
    },
    {
      "cell_type": "markdown",
      "metadata": {
        "id": "bhktUEIQ5AyZ"
      },
      "source": [
        "Data distribution:"
      ]
    },
    {
      "cell_type": "code",
      "execution_count": null,
      "metadata": {
        "id": "GVfBsiJZ5AyZ",
        "outputId": "03addf2c-aa18-446b-eaa6-42d8eb738bdc"
      },
      "outputs": [
        {
          "data": {
            "image/png": "[encoded data removed]",
            "text/plain": [
              "<Figure size 1008x432 with 2 Axes>"
            ]
          },
          "metadata": {
            "needs_background": "light"
          },
          "output_type": "display_data"
        }
      ],
      "source": [
        "plot_hist_boxplot(data_gas, \"Газ 1\")"
      ]
    },
    {
      "cell_type": "markdown",
      "metadata": {
        "id": "-nQVWrey5AyZ"
      },
      "source": [
        "**Analysis results**: Gas purge data distribution is normal, skewed to the left. There are anomalous high values, but they cannot be attributed to outliers, as this could be part of the manufacturing process for a particular batch. There are no gaps or duplicates in the data."
      ]
    },
    {
      "cell_type": "markdown",
      "metadata": {
        "id": "1Euxwuqt5AyZ"
      },
      "source": [
        "### Temperature measurement results (data_temp)"
      ]
    },
    {
      "cell_type": "code",
      "execution_count": null,
      "metadata": {
        "id": "sLe2Dzvt5AyZ",
        "outputId": "fc0a31cf-24d5-48ce-ec68-29c615f65f50"
      },
      "outputs": [
        {
          "data": {
            "text/html": [
              "<div>\n",
              "<style scoped>\n",
              "    .dataframe tbody tr th:only-of-type {\n",
              "        vertical-align: middle;\n",
              "    }\n",
              "\n",
              "    .dataframe tbody tr th {\n",
              "        vertical-align: top;\n",
              "    }\n",
              "\n",
              "    .dataframe thead th {\n",
              "        text-align: right;\n",
              "    }\n",
              "</style>\n",
              "<table border=\"1\" class=\"dataframe\">\n",
              "  <thead>\n",
              "    <tr style=\"text-align: right;\">\n",
              "      <th></th>\n",
              "      <th>key</th>\n",
              "      <th>Время замера</th>\n",
              "      <th>Температура</th>\n",
              "    </tr>\n",
              "  </thead>\n",
              "  <tbody>\n",
              "    <tr>\n",
              "      <td>0</td>\n",
              "      <td>1</td>\n",
              "      <td>2019-05-03 11:16:18</td>\n",
              "      <td>1571.0</td>\n",
              "    </tr>\n",
              "    <tr>\n",
              "      <td>1</td>\n",
              "      <td>1</td>\n",
              "      <td>2019-05-03 11:25:53</td>\n",
              "      <td>1604.0</td>\n",
              "    </tr>\n",
              "    <tr>\n",
              "      <td>2</td>\n",
              "      <td>1</td>\n",
              "      <td>2019-05-03 11:29:11</td>\n",
              "      <td>1618.0</td>\n",
              "    </tr>\n",
              "    <tr>\n",
              "      <td>3</td>\n",
              "      <td>1</td>\n",
              "      <td>2019-05-03 11:30:01</td>\n",
              "      <td>1601.0</td>\n",
              "    </tr>\n",
              "    <tr>\n",
              "      <td>4</td>\n",
              "      <td>1</td>\n",
              "      <td>2019-05-03 11:30:39</td>\n",
              "      <td>1613.0</td>\n",
              "    </tr>\n",
              "    <tr>\n",
              "      <td>5</td>\n",
              "      <td>2</td>\n",
              "      <td>2019-05-03 11:37:27</td>\n",
              "      <td>1581.0</td>\n",
              "    </tr>\n",
              "  </tbody>\n",
              "</table>\n",
              "</div>"
            ],
            "text/plain": [
              "   key         Время замера  Температура\n",
              "0    1  2019-05-03 11:16:18       1571.0\n",
              "1    1  2019-05-03 11:25:53       1604.0\n",
              "2    1  2019-05-03 11:29:11       1618.0\n",
              "3    1  2019-05-03 11:30:01       1601.0\n",
              "4    1  2019-05-03 11:30:39       1613.0\n",
              "5    2  2019-05-03 11:37:27       1581.0"
            ]
          },
          "metadata": {},
          "output_type": "display_data"
        },
        {
          "name": "stdout",
          "output_type": "stream",
          "text": [
            "<class 'pandas.core.frame.DataFrame'>\n",
            "RangeIndex: 15907 entries, 0 to 15906\n",
            "Data columns (total 3 columns):\n",
            "key             15907 non-null int64\n",
            "Время замера    15907 non-null object\n",
            "Температура     13006 non-null float64\n",
            "dtypes: float64(1), int64(1), object(1)\n",
            "memory usage: 372.9+ KB\n"
          ]
        },
        {
          "data": {
            "text/plain": [
              "None"
            ]
          },
          "metadata": {},
          "output_type": "display_data"
        },
        {
          "data": {
            "text/html": [
              "<div>\n",
              "<style scoped>\n",
              "    .dataframe tbody tr th:only-of-type {\n",
              "        vertical-align: middle;\n",
              "    }\n",
              "\n",
              "    .dataframe tbody tr th {\n",
              "        vertical-align: top;\n",
              "    }\n",
              "\n",
              "    .dataframe thead th {\n",
              "        text-align: right;\n",
              "    }\n",
              "</style>\n",
              "<table border=\"1\" class=\"dataframe\">\n",
              "  <thead>\n",
              "    <tr style=\"text-align: right;\">\n",
              "      <th></th>\n",
              "      <th>key</th>\n",
              "      <th>Температура</th>\n",
              "    </tr>\n",
              "  </thead>\n",
              "  <tbody>\n",
              "    <tr>\n",
              "      <td>count</td>\n",
              "      <td>15907.000000</td>\n",
              "      <td>13006.000000</td>\n",
              "    </tr>\n",
              "    <tr>\n",
              "      <td>mean</td>\n",
              "      <td>1607.880870</td>\n",
              "      <td>1591.840920</td>\n",
              "    </tr>\n",
              "    <tr>\n",
              "      <td>std</td>\n",
              "      <td>942.212073</td>\n",
              "      <td>21.375851</td>\n",
              "    </tr>\n",
              "    <tr>\n",
              "      <td>min</td>\n",
              "      <td>1.000000</td>\n",
              "      <td>1191.000000</td>\n",
              "    </tr>\n",
              "    <tr>\n",
              "      <td>25%</td>\n",
              "      <td>790.000000</td>\n",
              "      <td>1581.000000</td>\n",
              "    </tr>\n",
              "    <tr>\n",
              "      <td>50%</td>\n",
              "      <td>1618.000000</td>\n",
              "      <td>1591.000000</td>\n",
              "    </tr>\n",
              "    <tr>\n",
              "      <td>75%</td>\n",
              "      <td>2427.000000</td>\n",
              "      <td>1601.000000</td>\n",
              "    </tr>\n",
              "    <tr>\n",
              "      <td>max</td>\n",
              "      <td>3241.000000</td>\n",
              "      <td>1705.000000</td>\n",
              "    </tr>\n",
              "  </tbody>\n",
              "</table>\n",
              "</div>"
            ],
            "text/plain": [
              "                key   Температура\n",
              "count  15907.000000  13006.000000\n",
              "mean    1607.880870   1591.840920\n",
              "std      942.212073     21.375851\n",
              "min        1.000000   1191.000000\n",
              "25%      790.000000   1581.000000\n",
              "50%     1618.000000   1591.000000\n",
              "75%     2427.000000   1601.000000\n",
              "max     3241.000000   1705.000000"
            ]
          },
          "metadata": {},
          "output_type": "display_data"
        },
        {
          "data": {
            "text/plain": [
              "'Количество задублированных строк:'"
            ]
          },
          "metadata": {},
          "output_type": "display_data"
        },
        {
          "data": {
            "text/plain": [
              "0"
            ]
          },
          "metadata": {},
          "output_type": "display_data"
        }
      ],
      "source": [
        "analysis(data_temp)"
      ]
    },
    {
      "cell_type": "markdown",
      "metadata": {
        "id": "vv38iZu25AyZ"
      },
      "source": [
        "The temperature information table (data_temp) contains 15907 rows, with no duplicated rows. Some lines have missing values, temperature is not specified. It is necessary to change the data type in the field \"Sampling time\" **datetime**."
      ]
    },
    {
      "cell_type": "code",
      "execution_count": null,
      "metadata": {
        "scrolled": false,
        "id": "N-1v8IdP5Aya",
        "outputId": "558a0861-fe95-4637-cf5d-9f88edebcc73"
      },
      "outputs": [
        {
          "data": {
            "image/png": "[encoded data removed]",
            "text/plain": [
              "<Figure size 1008x432 with 2 Axes>"
            ]
          },
          "metadata": {
            "needs_background": "light"
          },
          "output_type": "display_data"
        }
      ],
      "source": [
        "plot_hist_boxplot(data_temp, \"Температура\")"
      ]
    },
    {
      "cell_type": "code",
      "execution_count": null,
      "metadata": {
        "id": "cRNX-mIw5Aya",
        "outputId": "1d9a4db4-6dc0-4035-a8bb-5c77df5604b6"
      },
      "outputs": [
        {
          "data": {
            "text/html": [
              "<div>\n",
              "<style scoped>\n",
              "    .dataframe tbody tr th:only-of-type {\n",
              "        vertical-align: middle;\n",
              "    }\n",
              "\n",
              "    .dataframe tbody tr th {\n",
              "        vertical-align: top;\n",
              "    }\n",
              "\n",
              "    .dataframe thead th {\n",
              "        text-align: right;\n",
              "    }\n",
              "</style>\n",
              "<table border=\"1\" class=\"dataframe\">\n",
              "  <thead>\n",
              "    <tr style=\"text-align: right;\">\n",
              "      <th></th>\n",
              "      <th>key</th>\n",
              "      <th>Время замера</th>\n",
              "      <th>Температура</th>\n",
              "    </tr>\n",
              "  </thead>\n",
              "  <tbody>\n",
              "    <tr>\n",
              "      <td>12268</td>\n",
              "      <td>2500</td>\n",
              "      <td>2019-08-06 03:24:43</td>\n",
              "      <td>NaN</td>\n",
              "    </tr>\n",
              "    <tr>\n",
              "      <td>12269</td>\n",
              "      <td>2500</td>\n",
              "      <td>2019-08-06 03:25:16</td>\n",
              "      <td>NaN</td>\n",
              "    </tr>\n",
              "    <tr>\n",
              "      <td>12270</td>\n",
              "      <td>2500</td>\n",
              "      <td>2019-08-06 03:28:21</td>\n",
              "      <td>NaN</td>\n",
              "    </tr>\n",
              "    <tr>\n",
              "      <td>12272</td>\n",
              "      <td>2501</td>\n",
              "      <td>2019-08-06 04:01:59</td>\n",
              "      <td>NaN</td>\n",
              "    </tr>\n",
              "    <tr>\n",
              "      <td>12273</td>\n",
              "      <td>2501</td>\n",
              "      <td>2019-08-06 04:14:35</td>\n",
              "      <td>NaN</td>\n",
              "    </tr>\n",
              "  </tbody>\n",
              "</table>\n",
              "</div>"
            ],
            "text/plain": [
              "        key         Время замера  Температура\n",
              "12268  2500  2019-08-06 03:24:43          NaN\n",
              "12269  2500  2019-08-06 03:25:16          NaN\n",
              "12270  2500  2019-08-06 03:28:21          NaN\n",
              "12272  2501  2019-08-06 04:01:59          NaN\n",
              "12273  2501  2019-08-06 04:14:35          NaN"
            ]
          },
          "execution_count": 22,
          "metadata": {},
          "output_type": "execute_result"
        }
      ],
      "source": [
        "data_temp[data_temp['Температура'].isnull()].head(5)"
      ]
    },
    {
      "cell_type": "markdown",
      "metadata": {
        "id": "Sih2qiiY5Aya"
      },
      "source": [
        "Starting from batch 2500, there is no temperature. Let's check if this is so."
      ]
    },
    {
      "cell_type": "code",
      "execution_count": null,
      "metadata": {
        "id": "lPeztkNA5Aya",
        "outputId": "8926528e-9c61-4b85-ce65-b4b022205568"
      },
      "outputs": [
        {
          "data": {
            "text/plain": [
              "key             739\n",
              "Время замера    739\n",
              "Температура     739\n",
              "dtype: int64"
            ]
          },
          "execution_count": 23,
          "metadata": {},
          "output_type": "execute_result"
        }
      ],
      "source": [
        "data_temp[(data_temp['Температура'].notnull()) & (data_temp['key'] >= 2500)].count()"
      ]
    },
    {
      "cell_type": "markdown",
      "metadata": {
        "id": "J8qlFMDQ5Aya"
      },
      "source": [
        "**Analysis results**: the correct data type was determined for the \"Sampling time\" field, <b>object</b> was replaced by <b>datetime</b>. From batch 2500 no temperature data is available. Batch data will not be used when building models. Data distribution appears to be normal, with no significant anomalies, most (75%) < 1601°C. There are no duplicated lines."
      ]
    },
    {
      "cell_type": "markdown",
      "metadata": {
        "id": "HL5pRRen5Aya"
      },
      "source": [
        "### Wire materials data (volume) (data_wire)"
      ]
    },
    {
      "cell_type": "code",
      "execution_count": null,
      "metadata": {
        "id": "TMttJ-nI5Ayb",
        "outputId": "dc5a1106-6c70-4c4e-8981-a8daebd8c255"
      },
      "outputs": [
        {
          "data": {
            "text/html": [
              "<div>\n",
              "<style scoped>\n",
              "    .dataframe tbody tr th:only-of-type {\n",
              "        vertical-align: middle;\n",
              "    }\n",
              "\n",
              "    .dataframe tbody tr th {\n",
              "        vertical-align: top;\n",
              "    }\n",
              "\n",
              "    .dataframe thead th {\n",
              "        text-align: right;\n",
              "    }\n",
              "</style>\n",
              "<table border=\"1\" class=\"dataframe\">\n",
              "  <thead>\n",
              "    <tr style=\"text-align: right;\">\n",
              "      <th></th>\n",
              "      <th>key</th>\n",
              "      <th>Wire 1</th>\n",
              "      <th>Wire 2</th>\n",
              "      <th>Wire 3</th>\n",
              "      <th>Wire 4</th>\n",
              "      <th>Wire 5</th>\n",
              "      <th>Wire 6</th>\n",
              "      <th>Wire 7</th>\n",
              "      <th>Wire 8</th>\n",
              "      <th>Wire 9</th>\n",
              "    </tr>\n",
              "  </thead>\n",
              "  <tbody>\n",
              "    <tr>\n",
              "      <td>0</td>\n",
              "      <td>1</td>\n",
              "      <td>60.059998</td>\n",
              "      <td>NaN</td>\n",
              "      <td>NaN</td>\n",
              "      <td>NaN</td>\n",
              "      <td>NaN</td>\n",
              "      <td>NaN</td>\n",
              "      <td>NaN</td>\n",
              "      <td>NaN</td>\n",
              "      <td>NaN</td>\n",
              "    </tr>\n",
              "    <tr>\n",
              "      <td>1</td>\n",
              "      <td>2</td>\n",
              "      <td>96.052315</td>\n",
              "      <td>NaN</td>\n",
              "      <td>NaN</td>\n",
              "      <td>NaN</td>\n",
              "      <td>NaN</td>\n",
              "      <td>NaN</td>\n",
              "      <td>NaN</td>\n",
              "      <td>NaN</td>\n",
              "      <td>NaN</td>\n",
              "    </tr>\n",
              "    <tr>\n",
              "      <td>2</td>\n",
              "      <td>3</td>\n",
              "      <td>91.160157</td>\n",
              "      <td>NaN</td>\n",
              "      <td>NaN</td>\n",
              "      <td>NaN</td>\n",
              "      <td>NaN</td>\n",
              "      <td>NaN</td>\n",
              "      <td>NaN</td>\n",
              "      <td>NaN</td>\n",
              "      <td>NaN</td>\n",
              "    </tr>\n",
              "    <tr>\n",
              "      <td>3</td>\n",
              "      <td>4</td>\n",
              "      <td>89.063515</td>\n",
              "      <td>NaN</td>\n",
              "      <td>NaN</td>\n",
              "      <td>NaN</td>\n",
              "      <td>NaN</td>\n",
              "      <td>NaN</td>\n",
              "      <td>NaN</td>\n",
              "      <td>NaN</td>\n",
              "      <td>NaN</td>\n",
              "    </tr>\n",
              "    <tr>\n",
              "      <td>4</td>\n",
              "      <td>5</td>\n",
              "      <td>89.238236</td>\n",
              "      <td>9.11456</td>\n",
              "      <td>NaN</td>\n",
              "      <td>NaN</td>\n",
              "      <td>NaN</td>\n",
              "      <td>NaN</td>\n",
              "      <td>NaN</td>\n",
              "      <td>NaN</td>\n",
              "      <td>NaN</td>\n",
              "    </tr>\n",
              "    <tr>\n",
              "      <td>5</td>\n",
              "      <td>6</td>\n",
              "      <td>99.109917</td>\n",
              "      <td>9.11456</td>\n",
              "      <td>NaN</td>\n",
              "      <td>NaN</td>\n",
              "      <td>NaN</td>\n",
              "      <td>NaN</td>\n",
              "      <td>NaN</td>\n",
              "      <td>NaN</td>\n",
              "      <td>NaN</td>\n",
              "    </tr>\n",
              "  </tbody>\n",
              "</table>\n",
              "</div>"
            ],
            "text/plain": [
              "   key     Wire 1   Wire 2  Wire 3  Wire 4  Wire 5  Wire 6  Wire 7  Wire 8  \\\n",
              "0    1  60.059998      NaN     NaN     NaN     NaN     NaN     NaN     NaN   \n",
              "1    2  96.052315      NaN     NaN     NaN     NaN     NaN     NaN     NaN   \n",
              "2    3  91.160157      NaN     NaN     NaN     NaN     NaN     NaN     NaN   \n",
              "3    4  89.063515      NaN     NaN     NaN     NaN     NaN     NaN     NaN   \n",
              "4    5  89.238236  9.11456     NaN     NaN     NaN     NaN     NaN     NaN   \n",
              "5    6  99.109917  9.11456     NaN     NaN     NaN     NaN     NaN     NaN   \n",
              "\n",
              "   Wire 9  \n",
              "0     NaN  \n",
              "1     NaN  \n",
              "2     NaN  \n",
              "3     NaN  \n",
              "4     NaN  \n",
              "5     NaN  "
            ]
          },
          "metadata": {},
          "output_type": "display_data"
        },
        {
          "name": "stdout",
          "output_type": "stream",
          "text": [
            "<class 'pandas.core.frame.DataFrame'>\n",
            "RangeIndex: 3081 entries, 0 to 3080\n",
            "Data columns (total 10 columns):\n",
            "key       3081 non-null int64\n",
            "Wire 1    3055 non-null float64\n",
            "Wire 2    1079 non-null float64\n",
            "Wire 3    63 non-null float64\n",
            "Wire 4    14 non-null float64\n",
            "Wire 5    1 non-null float64\n",
            "Wire 6    73 non-null float64\n",
            "Wire 7    11 non-null float64\n",
            "Wire 8    19 non-null float64\n",
            "Wire 9    29 non-null float64\n",
            "dtypes: float64(9), int64(1)\n",
            "memory usage: 240.8 KB\n"
          ]
        },
        {
          "data": {
            "text/plain": [
              "None"
            ]
          },
          "metadata": {},
          "output_type": "display_data"
        },
        {
          "data": {
            "text/html": [
              "<div>\n",
              "<style scoped>\n",
              "    .dataframe tbody tr th:only-of-type {\n",
              "        vertical-align: middle;\n",
              "    }\n",
              "\n",
              "    .dataframe tbody tr th {\n",
              "        vertical-align: top;\n",
              "    }\n",
              "\n",
              "    .dataframe thead th {\n",
              "        text-align: right;\n",
              "    }\n",
              "</style>\n",
              "<table border=\"1\" class=\"dataframe\">\n",
              "  <thead>\n",
              "    <tr style=\"text-align: right;\">\n",
              "      <th></th>\n",
              "      <th>key</th>\n",
              "      <th>Wire 1</th>\n",
              "      <th>Wire 2</th>\n",
              "      <th>Wire 3</th>\n",
              "      <th>Wire 4</th>\n",
              "      <th>Wire 5</th>\n",
              "      <th>Wire 6</th>\n",
              "      <th>Wire 7</th>\n",
              "      <th>Wire 8</th>\n",
              "      <th>Wire 9</th>\n",
              "    </tr>\n",
              "  </thead>\n",
              "  <tbody>\n",
              "    <tr>\n",
              "      <td>count</td>\n",
              "      <td>3081.000000</td>\n",
              "      <td>3055.000000</td>\n",
              "      <td>1079.000000</td>\n",
              "      <td>63.000000</td>\n",
              "      <td>14.000000</td>\n",
              "      <td>1.000</td>\n",
              "      <td>73.000000</td>\n",
              "      <td>11.000000</td>\n",
              "      <td>19.000000</td>\n",
              "      <td>29.000000</td>\n",
              "    </tr>\n",
              "    <tr>\n",
              "      <td>mean</td>\n",
              "      <td>1623.426485</td>\n",
              "      <td>100.895853</td>\n",
              "      <td>50.577323</td>\n",
              "      <td>189.482681</td>\n",
              "      <td>57.442841</td>\n",
              "      <td>15.132</td>\n",
              "      <td>48.016974</td>\n",
              "      <td>10.039007</td>\n",
              "      <td>53.625193</td>\n",
              "      <td>34.155752</td>\n",
              "    </tr>\n",
              "    <tr>\n",
              "      <td>std</td>\n",
              "      <td>932.996726</td>\n",
              "      <td>42.012518</td>\n",
              "      <td>39.320216</td>\n",
              "      <td>99.513444</td>\n",
              "      <td>28.824667</td>\n",
              "      <td>NaN</td>\n",
              "      <td>33.919845</td>\n",
              "      <td>8.610584</td>\n",
              "      <td>16.881728</td>\n",
              "      <td>19.931616</td>\n",
              "    </tr>\n",
              "    <tr>\n",
              "      <td>min</td>\n",
              "      <td>1.000000</td>\n",
              "      <td>1.918800</td>\n",
              "      <td>0.030160</td>\n",
              "      <td>0.144144</td>\n",
              "      <td>24.148801</td>\n",
              "      <td>15.132</td>\n",
              "      <td>0.034320</td>\n",
              "      <td>0.234208</td>\n",
              "      <td>45.076721</td>\n",
              "      <td>4.622800</td>\n",
              "    </tr>\n",
              "    <tr>\n",
              "      <td>25%</td>\n",
              "      <td>823.000000</td>\n",
              "      <td>72.115684</td>\n",
              "      <td>20.193680</td>\n",
              "      <td>95.135044</td>\n",
              "      <td>40.807002</td>\n",
              "      <td>15.132</td>\n",
              "      <td>25.053600</td>\n",
              "      <td>6.762756</td>\n",
              "      <td>46.094879</td>\n",
              "      <td>22.058401</td>\n",
              "    </tr>\n",
              "    <tr>\n",
              "      <td>50%</td>\n",
              "      <td>1619.000000</td>\n",
              "      <td>100.158234</td>\n",
              "      <td>40.142956</td>\n",
              "      <td>235.194977</td>\n",
              "      <td>45.234282</td>\n",
              "      <td>15.132</td>\n",
              "      <td>42.076324</td>\n",
              "      <td>9.017009</td>\n",
              "      <td>46.279999</td>\n",
              "      <td>30.066399</td>\n",
              "    </tr>\n",
              "    <tr>\n",
              "      <td>75%</td>\n",
              "      <td>2434.000000</td>\n",
              "      <td>126.060484</td>\n",
              "      <td>70.227558</td>\n",
              "      <td>276.252014</td>\n",
              "      <td>76.124619</td>\n",
              "      <td>15.132</td>\n",
              "      <td>64.212723</td>\n",
              "      <td>11.886057</td>\n",
              "      <td>48.089603</td>\n",
              "      <td>43.862003</td>\n",
              "    </tr>\n",
              "    <tr>\n",
              "      <td>max</td>\n",
              "      <td>3241.000000</td>\n",
              "      <td>330.314424</td>\n",
              "      <td>282.780152</td>\n",
              "      <td>385.008668</td>\n",
              "      <td>113.231044</td>\n",
              "      <td>15.132</td>\n",
              "      <td>180.454575</td>\n",
              "      <td>32.847674</td>\n",
              "      <td>102.762401</td>\n",
              "      <td>90.053604</td>\n",
              "    </tr>\n",
              "  </tbody>\n",
              "</table>\n",
              "</div>"
            ],
            "text/plain": [
              "               key       Wire 1       Wire 2      Wire 3      Wire 4  Wire 5  \\\n",
              "count  3081.000000  3055.000000  1079.000000   63.000000   14.000000   1.000   \n",
              "mean   1623.426485   100.895853    50.577323  189.482681   57.442841  15.132   \n",
              "std     932.996726    42.012518    39.320216   99.513444   28.824667     NaN   \n",
              "min       1.000000     1.918800     0.030160    0.144144   24.148801  15.132   \n",
              "25%     823.000000    72.115684    20.193680   95.135044   40.807002  15.132   \n",
              "50%    1619.000000   100.158234    40.142956  235.194977   45.234282  15.132   \n",
              "75%    2434.000000   126.060484    70.227558  276.252014   76.124619  15.132   \n",
              "max    3241.000000   330.314424   282.780152  385.008668  113.231044  15.132   \n",
              "\n",
              "           Wire 6     Wire 7      Wire 8     Wire 9  \n",
              "count   73.000000  11.000000   19.000000  29.000000  \n",
              "mean    48.016974  10.039007   53.625193  34.155752  \n",
              "std     33.919845   8.610584   16.881728  19.931616  \n",
              "min      0.034320   0.234208   45.076721   4.622800  \n",
              "25%     25.053600   6.762756   46.094879  22.058401  \n",
              "50%     42.076324   9.017009   46.279999  30.066399  \n",
              "75%     64.212723  11.886057   48.089603  43.862003  \n",
              "max    180.454575  32.847674  102.762401  90.053604  "
            ]
          },
          "metadata": {},
          "output_type": "display_data"
        },
        {
          "data": {
            "text/plain": [
              "'Количество задублированных строк:'"
            ]
          },
          "metadata": {},
          "output_type": "display_data"
        },
        {
          "data": {
            "text/plain": [
              "0"
            ]
          },
          "metadata": {},
          "output_type": "display_data"
        }
      ],
      "source": [
        "analysis(data_wire)"
      ]
    },
    {
      "cell_type": "markdown",
      "metadata": {
        "id": "uIUy7iMP5Ayb"
      },
      "source": [
        "**Analysis results**: similar situation with bulk materials, many gaps, since each batch requires its own set of wire materials."
      ]
    },
    {
      "cell_type": "markdown",
      "metadata": {
        "id": "Kg6ZBkmo5Ayb"
      },
      "source": [
        "### Wire materials data (time) (data_wire_time)"
      ]
    },
    {
      "cell_type": "code",
      "execution_count": null,
      "metadata": {
        "id": "8cwuB6fX5Ayb",
        "outputId": "cdf64b56-ee5f-4b3c-e6fe-5a08527bb743"
      },
      "outputs": [
        {
          "data": {
            "text/html": [
              "<div>\n",
              "<style scoped>\n",
              "    .dataframe tbody tr th:only-of-type {\n",
              "        vertical-align: middle;\n",
              "    }\n",
              "\n",
              "    .dataframe tbody tr th {\n",
              "        vertical-align: top;\n",
              "    }\n",
              "\n",
              "    .dataframe thead th {\n",
              "        text-align: right;\n",
              "    }\n",
              "</style>\n",
              "<table border=\"1\" class=\"dataframe\">\n",
              "  <thead>\n",
              "    <tr style=\"text-align: right;\">\n",
              "      <th></th>\n",
              "      <th>key</th>\n",
              "      <th>Wire 1</th>\n",
              "      <th>Wire 2</th>\n",
              "      <th>Wire 3</th>\n",
              "      <th>Wire 4</th>\n",
              "      <th>Wire 5</th>\n",
              "      <th>Wire 6</th>\n",
              "      <th>Wire 7</th>\n",
              "      <th>Wire 8</th>\n",
              "      <th>Wire 9</th>\n",
              "    </tr>\n",
              "  </thead>\n",
              "  <tbody>\n",
              "    <tr>\n",
              "      <td>0</td>\n",
              "      <td>1</td>\n",
              "      <td>2019-05-03 11:11:41</td>\n",
              "      <td>NaN</td>\n",
              "      <td>NaN</td>\n",
              "      <td>NaN</td>\n",
              "      <td>NaN</td>\n",
              "      <td>NaN</td>\n",
              "      <td>NaN</td>\n",
              "      <td>NaN</td>\n",
              "      <td>NaN</td>\n",
              "    </tr>\n",
              "    <tr>\n",
              "      <td>1</td>\n",
              "      <td>2</td>\n",
              "      <td>2019-05-03 11:46:10</td>\n",
              "      <td>NaN</td>\n",
              "      <td>NaN</td>\n",
              "      <td>NaN</td>\n",
              "      <td>NaN</td>\n",
              "      <td>NaN</td>\n",
              "      <td>NaN</td>\n",
              "      <td>NaN</td>\n",
              "      <td>NaN</td>\n",
              "    </tr>\n",
              "    <tr>\n",
              "      <td>2</td>\n",
              "      <td>3</td>\n",
              "      <td>2019-05-03 12:13:47</td>\n",
              "      <td>NaN</td>\n",
              "      <td>NaN</td>\n",
              "      <td>NaN</td>\n",
              "      <td>NaN</td>\n",
              "      <td>NaN</td>\n",
              "      <td>NaN</td>\n",
              "      <td>NaN</td>\n",
              "      <td>NaN</td>\n",
              "    </tr>\n",
              "  </tbody>\n",
              "</table>\n",
              "</div>"
            ],
            "text/plain": [
              "   key               Wire 1 Wire 2 Wire 3 Wire 4 Wire 5 Wire 6 Wire 7 Wire 8  \\\n",
              "0    1  2019-05-03 11:11:41    NaN    NaN    NaN    NaN    NaN    NaN    NaN   \n",
              "1    2  2019-05-03 11:46:10    NaN    NaN    NaN    NaN    NaN    NaN    NaN   \n",
              "2    3  2019-05-03 12:13:47    NaN    NaN    NaN    NaN    NaN    NaN    NaN   \n",
              "\n",
              "  Wire 9  \n",
              "0    NaN  \n",
              "1    NaN  \n",
              "2    NaN  "
            ]
          },
          "execution_count": 25,
          "metadata": {},
          "output_type": "execute_result"
        }
      ],
      "source": [
        "data_wire_time.head(3)"
      ]
    },
    {
      "cell_type": "markdown",
      "metadata": {
        "id": "Vp-al7Y_5Ayb"
      },
      "source": [
        "**Analysis Results**: Information about the time of feeding wire materials will not be used in the construction of models."
      ]
    },
    {
      "cell_type": "markdown",
      "metadata": {
        "id": "K8pKhCIn5Ayb"
      },
      "source": [
        "### EDA Results:"
      ]
    },
    {
      "cell_type": "markdown",
      "metadata": {
        "id": "Q0iHMY6l5Ayb"
      },
      "source": [
        "- Downloaded and explored all datasets;\n",
        "- Defined extra data (data_bulk_time, data_wire_time)\n",
        "- Corrected data types;\n",
        "- Made a decision to work with missing values in each dataset;\n",
        "- We studied data distributions and got rid of one outlier (Electrode data, \"Reactive energy\" field)"
      ]
    },
    {
      "cell_type": "markdown",
      "metadata": {
        "id": "dZ3x_lQI5Ayc"
      },
      "source": [
        "## Data preparation"
      ]
    },
    {
      "cell_type": "markdown",
      "metadata": {
        "id": "pL6kuhqJ5Ayc"
      },
      "source": [
        "**To be done:**\n",
        "\n",
        "**Electrode data.**\n",
        "- Get rid of the heating time data in datetime format by converting this information into a scalar value (seconds);\n",
        "- For each batch there was a different number of heating iterations, this is valuable information that we will add as a new feature;\n",
        "- Remove the correlating features (Section 2.1) \"Reactive power\" and \"Active power\" from the data on the electrodes;\n",
        "\n",
        "**Temperature data.**\n",
        "- Remove objects without a target feature (clause 2.6 - all batches up to No. 2499);\n",
        "- Remove objects where there was only one temperature measurement;\n",
        "- Extract the temperature at the inlet and outlet from the data.\n",
        "\n",
        "**Combining data and preparing features.**\n",
        "- Combine data on batches of steel;\n",
        "- Divide the data into training and test sets;\n",
        "Let's do the scaling."
      ]
    },
    {
      "cell_type": "markdown",
      "metadata": {
        "id": "9RvAqyEk5Ayc"
      },
      "source": [
        "### Electrode data"
      ]
    },
    {
      "cell_type": "markdown",
      "metadata": {
        "id": "7no4PlFV5Ayc"
      },
      "source": [
        "Adding a new attribute **\"Heating time\"** and removing unnecessary attributes with dates."
      ]
    },
    {
      "cell_type": "code",
      "execution_count": null,
      "metadata": {
        "id": "gkbQp8145Ayc"
      },
      "outputs": [],
      "source": [
        "data_arc['Время нагрева'] = (data_arc['Конец нагрева дугой'] - data_arc['Начало нагрева дугой']).dt.seconds"
      ]
    },
    {
      "cell_type": "code",
      "execution_count": null,
      "metadata": {
        "id": "zq3dVgYY5Ayc"
      },
      "outputs": [],
      "source": [
        "data_arc.drop(['Начало нагрева дугой', 'Конец нагрева дугой'], axis=1, inplace=True)"
      ]
    },
    {
      "cell_type": "markdown",
      "metadata": {
        "id": "ypkhk2o65Ayd"
      },
      "source": [
        "Creation of a new feature **\"Number of iterations\"**, but it will be added only after grouping by batches."
      ]
    },
    {
      "cell_type": "code",
      "execution_count": null,
      "metadata": {
        "id": "dq3x-qHN5Ayd"
      },
      "outputs": [],
      "source": [
        "data_arc_сopy = data_arc.groupby(by = 'key', as_index = False).count()[['key', 'Время нагрева']]\n",
        "data_arc_сopy.columns = ['key', 'Количество итераций']"
      ]
    },
    {
      "cell_type": "markdown",
      "metadata": {
        "id": "5MxZTEdW5Ayd"
      },
      "source": [
        "Removing correlated features:"
      ]
    },
    {
      "cell_type": "code",
      "execution_count": null,
      "metadata": {
        "id": "0rki42u25Ayd"
      },
      "outputs": [],
      "source": [
        "data_arc.drop(['Активная мощность', 'Реактивная мощность'], axis=1, inplace=True)"
      ]
    },
    {
      "cell_type": "markdown",
      "metadata": {
        "id": "3I21l5zj5Ayd"
      },
      "source": [
        "Grouping of electrode data by batch number."
      ]
    },
    {
      "cell_type": "markdown",
      "metadata": {
        "id": "SxGm7dmh5Ayd"
      },
      "source": [
        "Adding the feature \"Number of iterations to the final table by electrodes."
      ]
    },
    {
      "cell_type": "code",
      "execution_count": null,
      "metadata": {
        "id": "c8pjHnjv5Ayd"
      },
      "outputs": [],
      "source": [
        "data_arc = data_arc.merge(data_arc_сopy, on = 'key')"
      ]
    },
    {
      "cell_type": "markdown",
      "metadata": {
        "id": "du_qI-5H5Aye"
      },
      "source": [
        "Checking the correlation of features after all manipulations:"
      ]
    },
    {
      "cell_type": "code",
      "execution_count": null,
      "metadata": {
        "id": "xsQyZDT75Aye",
        "outputId": "683a94b4-8ca3-401f-e68d-440019c65a17"
      },
      "outputs": [
        {
          "data": {
            "text/html": [
              "<div>\n",
              "<style scoped>\n",
              "    .dataframe tbody tr th:only-of-type {\n",
              "        vertical-align: middle;\n",
              "    }\n",
              "\n",
              "    .dataframe tbody tr th {\n",
              "        vertical-align: top;\n",
              "    }\n",
              "\n",
              "    .dataframe thead th {\n",
              "        text-align: right;\n",
              "    }\n",
              "</style>\n",
              "<table border=\"1\" class=\"dataframe\">\n",
              "  <thead>\n",
              "    <tr style=\"text-align: right;\">\n",
              "      <th></th>\n",
              "      <th>Полная мощность</th>\n",
              "      <th>Время нагрева</th>\n",
              "      <th>Количество итераций</th>\n",
              "    </tr>\n",
              "  </thead>\n",
              "  <tbody>\n",
              "    <tr>\n",
              "      <td>Полная мощность</td>\n",
              "      <td>1.000000</td>\n",
              "      <td>0.981205</td>\n",
              "      <td>-0.025770</td>\n",
              "    </tr>\n",
              "    <tr>\n",
              "      <td>Время нагрева</td>\n",
              "      <td>0.981205</td>\n",
              "      <td>1.000000</td>\n",
              "      <td>-0.035763</td>\n",
              "    </tr>\n",
              "    <tr>\n",
              "      <td>Количество итераций</td>\n",
              "      <td>-0.025770</td>\n",
              "      <td>-0.035763</td>\n",
              "      <td>1.000000</td>\n",
              "    </tr>\n",
              "  </tbody>\n",
              "</table>\n",
              "</div>"
            ],
            "text/plain": [
              "                     Полная мощность  Время нагрева  Количество итераций\n",
              "Полная мощность             1.000000       0.981205            -0.025770\n",
              "Время нагрева               0.981205       1.000000            -0.035763\n",
              "Количество итераций        -0.025770      -0.035763             1.000000"
            ]
          },
          "execution_count": 31,
          "metadata": {},
          "output_type": "execute_result"
        }
      ],
      "source": [
        "data_arc[['Полная мощность', 'Время нагрева', 'Количество итераций']].corr()"
      ]
    },
    {
      "cell_type": "markdown",
      "metadata": {
        "id": "48PomcbR5Aye"
      },
      "source": [
        "The correlation between full power and heating time is very high. Thus, we are forced to get rid of the feature \"Heating time\"."
      ]
    },
    {
      "cell_type": "code",
      "execution_count": null,
      "metadata": {
        "id": "V7nnmWVG5Aye"
      },
      "outputs": [],
      "source": [
        "data_arc.drop('Время нагрева', axis=1, inplace=True)"
      ]
    },
    {
      "cell_type": "markdown",
      "metadata": {
        "id": "-FX7_-qh5Aye"
      },
      "source": [
        "Grouping data by batches of steel."
      ]
    },
    {
      "cell_type": "code",
      "execution_count": null,
      "metadata": {
        "id": "2xgxbVSI5Aye"
      },
      "outputs": [],
      "source": [
        "data_arc = data_arc.groupby(by = 'key', as_index = False).sum()"
      ]
    },
    {
      "cell_type": "code",
      "execution_count": null,
      "metadata": {
        "id": "Yt5kZNqe5Aye",
        "outputId": "3d9750df-df77-498b-d9c9-5616720c4501"
      },
      "outputs": [
        {
          "data": {
            "text/html": [
              "<div>\n",
              "<style scoped>\n",
              "    .dataframe tbody tr th:only-of-type {\n",
              "        vertical-align: middle;\n",
              "    }\n",
              "\n",
              "    .dataframe tbody tr th {\n",
              "        vertical-align: top;\n",
              "    }\n",
              "\n",
              "    .dataframe thead th {\n",
              "        text-align: right;\n",
              "    }\n",
              "</style>\n",
              "<table border=\"1\" class=\"dataframe\">\n",
              "  <thead>\n",
              "    <tr style=\"text-align: right;\">\n",
              "      <th></th>\n",
              "      <th>key</th>\n",
              "      <th>Полная мощность</th>\n",
              "      <th>Количество итераций</th>\n",
              "    </tr>\n",
              "  </thead>\n",
              "  <tbody>\n",
              "    <tr>\n",
              "      <td>0</td>\n",
              "      <td>1</td>\n",
              "      <td>5.826395</td>\n",
              "      <td>25</td>\n",
              "    </tr>\n",
              "    <tr>\n",
              "      <td>1</td>\n",
              "      <td>2</td>\n",
              "      <td>3.649216</td>\n",
              "      <td>16</td>\n",
              "    </tr>\n",
              "    <tr>\n",
              "      <td>2</td>\n",
              "      <td>3</td>\n",
              "      <td>2.989534</td>\n",
              "      <td>25</td>\n",
              "    </tr>\n",
              "  </tbody>\n",
              "</table>\n",
              "</div>"
            ],
            "text/plain": [
              "   key  Полная мощность  Количество итераций\n",
              "0    1         5.826395                   25\n",
              "1    2         3.649216                   16\n",
              "2    3         2.989534                   25"
            ]
          },
          "execution_count": 34,
          "metadata": {},
          "output_type": "execute_result"
        }
      ],
      "source": [
        "data_arc.head(3)"
      ]
    },
    {
      "cell_type": "markdown",
      "metadata": {
        "id": "we_nkUFj5Ayf"
      },
      "source": [
        "### Temperature data."
      ]
    },
    {
      "cell_type": "markdown",
      "metadata": {
        "id": "HOfegye35Ayf"
      },
      "source": [
        "In the future, I will use only those batches that have a target feature (up to 2499)."
      ]
    },
    {
      "cell_type": "code",
      "execution_count": null,
      "metadata": {
        "id": "N4hm5v3U5Ayf"
      },
      "outputs": [],
      "source": [
        "data_temp = data_temp.query('key < 2500')"
      ]
    },
    {
      "cell_type": "markdown",
      "metadata": {
        "id": "uIpyUxGH5Ayf"
      },
      "source": [
        "Delete batches that only had one temperature measurement."
      ]
    },
    {
      "cell_type": "code",
      "execution_count": null,
      "metadata": {
        "id": "RmCxDFJl5Ayf",
        "outputId": "1956238a-3c20-4362-d881-c047955a93a0"
      },
      "outputs": [
        {
          "data": {
            "text/plain": [
              "2"
            ]
          },
          "execution_count": 36,
          "metadata": {},
          "output_type": "execute_result"
        }
      ],
      "source": [
        "one_temp = data_temp.groupby(by = 'key', as_index = False).count().query(\"Температура <= 1\")\n",
        "len(one_temp)"
      ]
    },
    {
      "cell_type": "code",
      "execution_count": null,
      "metadata": {
        "id": "PT3Aa17Y5Ayf"
      },
      "outputs": [],
      "source": [
        "data_temp = data_temp.drop(list(one_temp['key']), axis=0)"
      ]
    },
    {
      "cell_type": "code",
      "execution_count": null,
      "metadata": {
        "id": "2_3dOGAa5Ayg"
      },
      "outputs": [],
      "source": [
        "data_temp = data_temp.groupby(by = 'key').agg(['first', 'last']).reset_index()"
      ]
    },
    {
      "cell_type": "code",
      "execution_count": null,
      "metadata": {
        "id": "kgHXgg6Y5Ayg"
      },
      "outputs": [],
      "source": [
        "data_temp.columns = data_temp.columns.droplevel()"
      ]
    },
    {
      "cell_type": "code",
      "execution_count": null,
      "metadata": {
        "id": "3MjqGe7c5Ayg"
      },
      "outputs": [],
      "source": [
        "data_temp.columns = ['key', 'Время_1', 'Время_2', 'Температура_1', 'Температура_2']"
      ]
    },
    {
      "cell_type": "code",
      "execution_count": null,
      "metadata": {
        "id": "EZSjFiJe5Ayg"
      },
      "outputs": [],
      "source": [
        "data_temp = data_temp[['key', 'Температура_1', 'Температура_2']]"
      ]
    },
    {
      "cell_type": "code",
      "execution_count": null,
      "metadata": {
        "id": "L3B8DQvY5Ayg",
        "outputId": "85ccebaa-6607-485f-890a-335357a33011"
      },
      "outputs": [
        {
          "data": {
            "text/html": [
              "<div>\n",
              "<style scoped>\n",
              "    .dataframe tbody tr th:only-of-type {\n",
              "        vertical-align: middle;\n",
              "    }\n",
              "\n",
              "    .dataframe tbody tr th {\n",
              "        vertical-align: top;\n",
              "    }\n",
              "\n",
              "    .dataframe thead th {\n",
              "        text-align: right;\n",
              "    }\n",
              "</style>\n",
              "<table border=\"1\" class=\"dataframe\">\n",
              "  <thead>\n",
              "    <tr style=\"text-align: right;\">\n",
              "      <th></th>\n",
              "      <th>key</th>\n",
              "      <th>Температура_1</th>\n",
              "      <th>Температура_2</th>\n",
              "    </tr>\n",
              "  </thead>\n",
              "  <tbody>\n",
              "    <tr>\n",
              "      <td>0</td>\n",
              "      <td>1</td>\n",
              "      <td>1571.0</td>\n",
              "      <td>1613.0</td>\n",
              "    </tr>\n",
              "    <tr>\n",
              "      <td>1</td>\n",
              "      <td>2</td>\n",
              "      <td>1581.0</td>\n",
              "      <td>1602.0</td>\n",
              "    </tr>\n",
              "    <tr>\n",
              "      <td>2</td>\n",
              "      <td>3</td>\n",
              "      <td>1596.0</td>\n",
              "      <td>1599.0</td>\n",
              "    </tr>\n",
              "  </tbody>\n",
              "</table>\n",
              "</div>"
            ],
            "text/plain": [
              "   key  Температура_1  Температура_2\n",
              "0    1         1571.0         1613.0\n",
              "1    2         1581.0         1602.0\n",
              "2    3         1596.0         1599.0"
            ]
          },
          "execution_count": 42,
          "metadata": {},
          "output_type": "execute_result"
        }
      ],
      "source": [
        "data_temp.head(3)"
      ]
    },
    {
      "cell_type": "markdown",
      "metadata": {
        "id": "zAgQy1AX5Ayg"
      },
      "source": [
        "### Data merging and feature preparation"
      ]
    },
    {
      "cell_type": "markdown",
      "metadata": {
        "id": "69_QE1Xf5Ayg"
      },
      "source": [
        "Consolidation of data on batches by the field **key**."
      ]
    },
    {
      "cell_type": "code",
      "execution_count": null,
      "metadata": {
        "id": "gWmJR22p5Ayh"
      },
      "outputs": [],
      "source": [
        "df = (data_arc.merge(data_gas, how = 'inner', on = 'key')\n",
        "                 .merge(data_wire, how = 'inner', on = 'key')\n",
        "                 .merge(data_bulk, how = 'inner', on = 'key')\n",
        "                 .merge(data_temp, how = 'inner', on = 'key')).fillna(0)"
      ]
    },
    {
      "cell_type": "markdown",
      "metadata": {
        "id": "nxE6Jvpd5Ayh"
      },
      "source": [
        "Renaming a column for correct work of models."
      ]
    },
    {
      "cell_type": "code",
      "execution_count": null,
      "metadata": {
        "id": "rengaQcO5Ayh"
      },
      "outputs": [],
      "source": [
        "df = df.rename(columns={'Температура_1': 'First_temp',\n",
        "                        'Температура_2': 'Last_temp',\n",
        "                        'Полная мощность': 'Full_power',\n",
        "                        'Количество итераций':'Iterations',\n",
        "                        'Газ 1': 'Gas'})"
      ]
    },
    {
      "cell_type": "markdown",
      "metadata": {
        "id": "lCRleSC95Ayh"
      },
      "source": [
        "Lot number information is no longer needed and can be deleted."
      ]
    },
    {
      "cell_type": "code",
      "execution_count": null,
      "metadata": {
        "id": "WS0eMObd5Ayh"
      },
      "outputs": [],
      "source": [
        "df = df.drop(['key'], axis = 1)"
      ]
    },
    {
      "cell_type": "code",
      "execution_count": null,
      "metadata": {
        "id": "0C8ZVhR65Ayh",
        "outputId": "2ea55a1d-0c9c-4b9c-b48d-c77d7af88332"
      },
      "outputs": [
        {
          "data": {
            "text/html": [
              "<div>\n",
              "<style scoped>\n",
              "    .dataframe tbody tr th:only-of-type {\n",
              "        vertical-align: middle;\n",
              "    }\n",
              "\n",
              "    .dataframe tbody tr th {\n",
              "        vertical-align: top;\n",
              "    }\n",
              "\n",
              "    .dataframe thead th {\n",
              "        text-align: right;\n",
              "    }\n",
              "</style>\n",
              "<table border=\"1\" class=\"dataframe\">\n",
              "  <thead>\n",
              "    <tr style=\"text-align: right;\">\n",
              "      <th></th>\n",
              "      <th>Full_power</th>\n",
              "      <th>Iterations</th>\n",
              "      <th>Gas</th>\n",
              "      <th>Wire 1</th>\n",
              "      <th>Wire 2</th>\n",
              "      <th>Wire 3</th>\n",
              "      <th>Wire 4</th>\n",
              "      <th>Wire 5</th>\n",
              "      <th>Wire 6</th>\n",
              "      <th>Wire 7</th>\n",
              "      <th>...</th>\n",
              "      <th>Bulk 8</th>\n",
              "      <th>Bulk 9</th>\n",
              "      <th>Bulk 10</th>\n",
              "      <th>Bulk 11</th>\n",
              "      <th>Bulk 12</th>\n",
              "      <th>Bulk 13</th>\n",
              "      <th>Bulk 14</th>\n",
              "      <th>Bulk 15</th>\n",
              "      <th>First_temp</th>\n",
              "      <th>Last_temp</th>\n",
              "    </tr>\n",
              "  </thead>\n",
              "  <tbody>\n",
              "    <tr>\n",
              "      <td>0</td>\n",
              "      <td>5.826395</td>\n",
              "      <td>25</td>\n",
              "      <td>29.749986</td>\n",
              "      <td>60.059998</td>\n",
              "      <td>0.00000</td>\n",
              "      <td>0.0</td>\n",
              "      <td>0.0</td>\n",
              "      <td>0.0</td>\n",
              "      <td>0.0</td>\n",
              "      <td>0.0</td>\n",
              "      <td>...</td>\n",
              "      <td>0.0</td>\n",
              "      <td>0.0</td>\n",
              "      <td>0.0</td>\n",
              "      <td>0.0</td>\n",
              "      <td>206.0</td>\n",
              "      <td>0.0</td>\n",
              "      <td>150.0</td>\n",
              "      <td>154.0</td>\n",
              "      <td>1571.0</td>\n",
              "      <td>1613.0</td>\n",
              "    </tr>\n",
              "    <tr>\n",
              "      <td>1</td>\n",
              "      <td>3.649216</td>\n",
              "      <td>16</td>\n",
              "      <td>12.555561</td>\n",
              "      <td>96.052315</td>\n",
              "      <td>0.00000</td>\n",
              "      <td>0.0</td>\n",
              "      <td>0.0</td>\n",
              "      <td>0.0</td>\n",
              "      <td>0.0</td>\n",
              "      <td>0.0</td>\n",
              "      <td>...</td>\n",
              "      <td>0.0</td>\n",
              "      <td>0.0</td>\n",
              "      <td>0.0</td>\n",
              "      <td>0.0</td>\n",
              "      <td>206.0</td>\n",
              "      <td>0.0</td>\n",
              "      <td>149.0</td>\n",
              "      <td>154.0</td>\n",
              "      <td>1581.0</td>\n",
              "      <td>1602.0</td>\n",
              "    </tr>\n",
              "    <tr>\n",
              "      <td>2</td>\n",
              "      <td>2.989534</td>\n",
              "      <td>25</td>\n",
              "      <td>28.554793</td>\n",
              "      <td>91.160157</td>\n",
              "      <td>0.00000</td>\n",
              "      <td>0.0</td>\n",
              "      <td>0.0</td>\n",
              "      <td>0.0</td>\n",
              "      <td>0.0</td>\n",
              "      <td>0.0</td>\n",
              "      <td>...</td>\n",
              "      <td>0.0</td>\n",
              "      <td>0.0</td>\n",
              "      <td>0.0</td>\n",
              "      <td>0.0</td>\n",
              "      <td>205.0</td>\n",
              "      <td>0.0</td>\n",
              "      <td>152.0</td>\n",
              "      <td>153.0</td>\n",
              "      <td>1596.0</td>\n",
              "      <td>1599.0</td>\n",
              "    </tr>\n",
              "    <tr>\n",
              "      <td>3</td>\n",
              "      <td>3.814962</td>\n",
              "      <td>16</td>\n",
              "      <td>18.841219</td>\n",
              "      <td>89.063515</td>\n",
              "      <td>0.00000</td>\n",
              "      <td>0.0</td>\n",
              "      <td>0.0</td>\n",
              "      <td>0.0</td>\n",
              "      <td>0.0</td>\n",
              "      <td>0.0</td>\n",
              "      <td>...</td>\n",
              "      <td>0.0</td>\n",
              "      <td>0.0</td>\n",
              "      <td>0.0</td>\n",
              "      <td>0.0</td>\n",
              "      <td>207.0</td>\n",
              "      <td>0.0</td>\n",
              "      <td>153.0</td>\n",
              "      <td>154.0</td>\n",
              "      <td>1601.0</td>\n",
              "      <td>1625.0</td>\n",
              "    </tr>\n",
              "    <tr>\n",
              "      <td>4</td>\n",
              "      <td>4.035758</td>\n",
              "      <td>16</td>\n",
              "      <td>5.413692</td>\n",
              "      <td>89.238236</td>\n",
              "      <td>9.11456</td>\n",
              "      <td>0.0</td>\n",
              "      <td>0.0</td>\n",
              "      <td>0.0</td>\n",
              "      <td>0.0</td>\n",
              "      <td>0.0</td>\n",
              "      <td>...</td>\n",
              "      <td>0.0</td>\n",
              "      <td>0.0</td>\n",
              "      <td>0.0</td>\n",
              "      <td>0.0</td>\n",
              "      <td>203.0</td>\n",
              "      <td>0.0</td>\n",
              "      <td>151.0</td>\n",
              "      <td>152.0</td>\n",
              "      <td>1576.0</td>\n",
              "      <td>1602.0</td>\n",
              "    </tr>\n",
              "    <tr>\n",
              "      <td>...</td>\n",
              "      <td>...</td>\n",
              "      <td>...</td>\n",
              "      <td>...</td>\n",
              "      <td>...</td>\n",
              "      <td>...</td>\n",
              "      <td>...</td>\n",
              "      <td>...</td>\n",
              "      <td>...</td>\n",
              "      <td>...</td>\n",
              "      <td>...</td>\n",
              "      <td>...</td>\n",
              "      <td>...</td>\n",
              "      <td>...</td>\n",
              "      <td>...</td>\n",
              "      <td>...</td>\n",
              "      <td>...</td>\n",
              "      <td>...</td>\n",
              "      <td>...</td>\n",
              "      <td>...</td>\n",
              "      <td>...</td>\n",
              "      <td>...</td>\n",
              "    </tr>\n",
              "    <tr>\n",
              "      <td>2324</td>\n",
              "      <td>3.986869</td>\n",
              "      <td>16</td>\n",
              "      <td>7.125735</td>\n",
              "      <td>89.150879</td>\n",
              "      <td>0.00000</td>\n",
              "      <td>0.0</td>\n",
              "      <td>0.0</td>\n",
              "      <td>0.0</td>\n",
              "      <td>0.0</td>\n",
              "      <td>0.0</td>\n",
              "      <td>...</td>\n",
              "      <td>0.0</td>\n",
              "      <td>0.0</td>\n",
              "      <td>90.0</td>\n",
              "      <td>0.0</td>\n",
              "      <td>256.0</td>\n",
              "      <td>0.0</td>\n",
              "      <td>129.0</td>\n",
              "      <td>223.0</td>\n",
              "      <td>1570.0</td>\n",
              "      <td>1591.0</td>\n",
              "    </tr>\n",
              "    <tr>\n",
              "      <td>2325</td>\n",
              "      <td>5.057033</td>\n",
              "      <td>36</td>\n",
              "      <td>9.412616</td>\n",
              "      <td>114.179527</td>\n",
              "      <td>0.00000</td>\n",
              "      <td>0.0</td>\n",
              "      <td>0.0</td>\n",
              "      <td>0.0</td>\n",
              "      <td>0.0</td>\n",
              "      <td>0.0</td>\n",
              "      <td>...</td>\n",
              "      <td>0.0</td>\n",
              "      <td>0.0</td>\n",
              "      <td>122.0</td>\n",
              "      <td>0.0</td>\n",
              "      <td>256.0</td>\n",
              "      <td>0.0</td>\n",
              "      <td>129.0</td>\n",
              "      <td>226.0</td>\n",
              "      <td>1554.0</td>\n",
              "      <td>1591.0</td>\n",
              "    </tr>\n",
              "    <tr>\n",
              "      <td>2326</td>\n",
              "      <td>2.885017</td>\n",
              "      <td>9</td>\n",
              "      <td>6.271699</td>\n",
              "      <td>94.086723</td>\n",
              "      <td>9.04800</td>\n",
              "      <td>0.0</td>\n",
              "      <td>0.0</td>\n",
              "      <td>0.0</td>\n",
              "      <td>0.0</td>\n",
              "      <td>0.0</td>\n",
              "      <td>...</td>\n",
              "      <td>0.0</td>\n",
              "      <td>0.0</td>\n",
              "      <td>0.0</td>\n",
              "      <td>0.0</td>\n",
              "      <td>230.0</td>\n",
              "      <td>0.0</td>\n",
              "      <td>124.0</td>\n",
              "      <td>226.0</td>\n",
              "      <td>1571.0</td>\n",
              "      <td>1589.0</td>\n",
              "    </tr>\n",
              "    <tr>\n",
              "      <td>2327</td>\n",
              "      <td>4.143749</td>\n",
              "      <td>25</td>\n",
              "      <td>14.953657</td>\n",
              "      <td>118.110717</td>\n",
              "      <td>0.00000</td>\n",
              "      <td>0.0</td>\n",
              "      <td>0.0</td>\n",
              "      <td>0.0</td>\n",
              "      <td>0.0</td>\n",
              "      <td>0.0</td>\n",
              "      <td>...</td>\n",
              "      <td>0.0</td>\n",
              "      <td>0.0</td>\n",
              "      <td>101.0</td>\n",
              "      <td>0.0</td>\n",
              "      <td>206.0</td>\n",
              "      <td>0.0</td>\n",
              "      <td>129.0</td>\n",
              "      <td>207.0</td>\n",
              "      <td>1591.0</td>\n",
              "      <td>1594.0</td>\n",
              "    </tr>\n",
              "    <tr>\n",
              "      <td>2328</td>\n",
              "      <td>4.953010</td>\n",
              "      <td>16</td>\n",
              "      <td>11.336151</td>\n",
              "      <td>110.160958</td>\n",
              "      <td>50.00528</td>\n",
              "      <td>0.0</td>\n",
              "      <td>0.0</td>\n",
              "      <td>0.0</td>\n",
              "      <td>0.0</td>\n",
              "      <td>0.0</td>\n",
              "      <td>...</td>\n",
              "      <td>0.0</td>\n",
              "      <td>0.0</td>\n",
              "      <td>0.0</td>\n",
              "      <td>0.0</td>\n",
              "      <td>233.0</td>\n",
              "      <td>0.0</td>\n",
              "      <td>126.0</td>\n",
              "      <td>227.0</td>\n",
              "      <td>1569.0</td>\n",
              "      <td>1603.0</td>\n",
              "    </tr>\n",
              "  </tbody>\n",
              "</table>\n",
              "<p>2329 rows × 29 columns</p>\n",
              "</div>"
            ],
            "text/plain": [
              "      Full_power  Iterations        Gas      Wire 1    Wire 2  Wire 3  Wire 4  \\\n",
              "0       5.826395          25  29.749986   60.059998   0.00000     0.0     0.0   \n",
              "1       3.649216          16  12.555561   96.052315   0.00000     0.0     0.0   \n",
              "2       2.989534          25  28.554793   91.160157   0.00000     0.0     0.0   \n",
              "3       3.814962          16  18.841219   89.063515   0.00000     0.0     0.0   \n",
              "4       4.035758          16   5.413692   89.238236   9.11456     0.0     0.0   \n",
              "...          ...         ...        ...         ...       ...     ...     ...   \n",
              "2324    3.986869          16   7.125735   89.150879   0.00000     0.0     0.0   \n",
              "2325    5.057033          36   9.412616  114.179527   0.00000     0.0     0.0   \n",
              "2326    2.885017           9   6.271699   94.086723   9.04800     0.0     0.0   \n",
              "2327    4.143749          25  14.953657  118.110717   0.00000     0.0     0.0   \n",
              "2328    4.953010          16  11.336151  110.160958  50.00528     0.0     0.0   \n",
              "\n",
              "      Wire 5  Wire 6  Wire 7  ...  Bulk 8  Bulk 9  Bulk 10  Bulk 11  Bulk 12  \\\n",
              "0        0.0     0.0     0.0  ...     0.0     0.0      0.0      0.0    206.0   \n",
              "1        0.0     0.0     0.0  ...     0.0     0.0      0.0      0.0    206.0   \n",
              "2        0.0     0.0     0.0  ...     0.0     0.0      0.0      0.0    205.0   \n",
              "3        0.0     0.0     0.0  ...     0.0     0.0      0.0      0.0    207.0   \n",
              "4        0.0     0.0     0.0  ...     0.0     0.0      0.0      0.0    203.0   \n",
              "...      ...     ...     ...  ...     ...     ...      ...      ...      ...   \n",
              "2324     0.0     0.0     0.0  ...     0.0     0.0     90.0      0.0    256.0   \n",
              "2325     0.0     0.0     0.0  ...     0.0     0.0    122.0      0.0    256.0   \n",
              "2326     0.0     0.0     0.0  ...     0.0     0.0      0.0      0.0    230.0   \n",
              "2327     0.0     0.0     0.0  ...     0.0     0.0    101.0      0.0    206.0   \n",
              "2328     0.0     0.0     0.0  ...     0.0     0.0      0.0      0.0    233.0   \n",
              "\n",
              "      Bulk 13  Bulk 14  Bulk 15  First_temp  Last_temp  \n",
              "0         0.0    150.0    154.0      1571.0     1613.0  \n",
              "1         0.0    149.0    154.0      1581.0     1602.0  \n",
              "2         0.0    152.0    153.0      1596.0     1599.0  \n",
              "3         0.0    153.0    154.0      1601.0     1625.0  \n",
              "4         0.0    151.0    152.0      1576.0     1602.0  \n",
              "...       ...      ...      ...         ...        ...  \n",
              "2324      0.0    129.0    223.0      1570.0     1591.0  \n",
              "2325      0.0    129.0    226.0      1554.0     1591.0  \n",
              "2326      0.0    124.0    226.0      1571.0     1589.0  \n",
              "2327      0.0    129.0    207.0      1591.0     1594.0  \n",
              "2328      0.0    126.0    227.0      1569.0     1603.0  \n",
              "\n",
              "[2329 rows x 29 columns]"
            ]
          },
          "execution_count": 46,
          "metadata": {},
          "output_type": "execute_result"
        }
      ],
      "source": [
        "df"
      ]
    },
    {
      "cell_type": "markdown",
      "metadata": {
        "id": "Ww0fJodG5Ayi"
      },
      "source": [
        "Separation of data into training and test sets."
      ]
    },
    {
      "cell_type": "code",
      "execution_count": null,
      "metadata": {
        "id": "v--zXksd5Ayi"
      },
      "outputs": [],
      "source": [
        "train, test = train_test_split(df, test_size = .25, random_state = 123)"
      ]
    },
    {
      "cell_type": "markdown",
      "metadata": {
        "id": "0xUpiQkn5Ayi"
      },
      "source": [
        "Reducing data to one dimension using **MinMaxScaler**."
      ]
    },
    {
      "cell_type": "code",
      "execution_count": null,
      "metadata": {
        "id": "tFMgbYWv5Ayi"
      },
      "outputs": [],
      "source": [
        "scaler = MinMaxScaler()\n",
        "scale_columns = list(train.columns)\n",
        "scale_columns.remove('Last_temp')\n",
        "scaler.fit(train[scale_columns])\n",
        "train[scale_columns] = scaler.transform(train[scale_columns])\n",
        "test[scale_columns] = scaler.transform(test[scale_columns])"
      ]
    },
    {
      "cell_type": "markdown",
      "metadata": {
        "id": "pdId0qId5Ayi"
      },
      "source": [
        "train.sample(3)"
      ]
    },
    {
      "cell_type": "markdown",
      "metadata": {
        "id": "PIQ6CPER5Ayi"
      },
      "source": [
        "### Data preparation results:"
      ]
    },
    {
      "cell_type": "markdown",
      "metadata": {
        "id": "kcrymcrB5Ayi"
      },
      "source": [
        "Data are prepared the for model training: features were added, I got rid of objects without a target feature, joined the data by batches, divided it into training and test sets, scaled the features."
      ]
    },
    {
      "cell_type": "markdown",
      "metadata": {
        "id": "Keny-kQF5Ayj"
      },
      "source": [
        "## Model training and testing"
      ]
    },
    {
      "cell_type": "markdown",
      "metadata": {
        "id": "Vuu3K6Uk5Ayj"
      },
      "source": [
        "Separate the training and test sets."
      ]
    },
    {
      "cell_type": "code",
      "execution_count": null,
      "metadata": {
        "id": "R0xprn8e5Ayj"
      },
      "outputs": [],
      "source": [
        "features_train = train.drop(['Last_temp'], axis=1)\n",
        "target_train = train['Last_temp']\n",
        "features_test = test.drop(['Last_temp'], axis=1)\n",
        "target_test = test['Last_temp']"
      ]
    },
    {
      "cell_type": "code",
      "execution_count": null,
      "metadata": {
        "id": "5-zMZGt-5Ayj",
        "outputId": "723a0f06-19ab-4add-ad21-e79af1be8665"
      },
      "outputs": [
        {
          "data": {
            "text/html": [
              "<div>\n",
              "<style scoped>\n",
              "    .dataframe tbody tr th:only-of-type {\n",
              "        vertical-align: middle;\n",
              "    }\n",
              "\n",
              "    .dataframe tbody tr th {\n",
              "        vertical-align: top;\n",
              "    }\n",
              "\n",
              "    .dataframe thead th {\n",
              "        text-align: right;\n",
              "    }\n",
              "</style>\n",
              "<table border=\"1\" class=\"dataframe\">\n",
              "  <thead>\n",
              "    <tr style=\"text-align: right;\">\n",
              "      <th></th>\n",
              "      <th>Full_power</th>\n",
              "      <th>Iterations</th>\n",
              "      <th>Gas</th>\n",
              "      <th>Wire 1</th>\n",
              "      <th>Wire 2</th>\n",
              "      <th>Wire 3</th>\n",
              "      <th>Wire 4</th>\n",
              "      <th>Wire 5</th>\n",
              "      <th>Wire 6</th>\n",
              "      <th>Wire 7</th>\n",
              "      <th>...</th>\n",
              "      <th>Bulk 7</th>\n",
              "      <th>Bulk 8</th>\n",
              "      <th>Bulk 9</th>\n",
              "      <th>Bulk 10</th>\n",
              "      <th>Bulk 11</th>\n",
              "      <th>Bulk 12</th>\n",
              "      <th>Bulk 13</th>\n",
              "      <th>Bulk 14</th>\n",
              "      <th>Bulk 15</th>\n",
              "      <th>First_temp</th>\n",
              "    </tr>\n",
              "  </thead>\n",
              "  <tbody>\n",
              "    <tr>\n",
              "      <td>1567</td>\n",
              "      <td>0.214793</td>\n",
              "      <td>0.137255</td>\n",
              "      <td>0.406723</td>\n",
              "      <td>0.303060</td>\n",
              "      <td>0.426804</td>\n",
              "      <td>0.0</td>\n",
              "      <td>0.0</td>\n",
              "      <td>0.0</td>\n",
              "      <td>0.0</td>\n",
              "      <td>0.0</td>\n",
              "      <td>...</td>\n",
              "      <td>0.0</td>\n",
              "      <td>0.0</td>\n",
              "      <td>0.0</td>\n",
              "      <td>0.0</td>\n",
              "      <td>0.0</td>\n",
              "      <td>0.246098</td>\n",
              "      <td>0.0</td>\n",
              "      <td>0.462617</td>\n",
              "      <td>0.382716</td>\n",
              "      <td>0.849558</td>\n",
              "    </tr>\n",
              "    <tr>\n",
              "      <td>805</td>\n",
              "      <td>0.172812</td>\n",
              "      <td>0.094118</td>\n",
              "      <td>0.287224</td>\n",
              "      <td>0.430717</td>\n",
              "      <td>0.104324</td>\n",
              "      <td>0.0</td>\n",
              "      <td>0.0</td>\n",
              "      <td>0.0</td>\n",
              "      <td>0.0</td>\n",
              "      <td>0.0</td>\n",
              "      <td>...</td>\n",
              "      <td>0.0</td>\n",
              "      <td>0.0</td>\n",
              "      <td>0.0</td>\n",
              "      <td>0.0</td>\n",
              "      <td>0.0</td>\n",
              "      <td>0.246098</td>\n",
              "      <td>0.0</td>\n",
              "      <td>0.362150</td>\n",
              "      <td>0.498765</td>\n",
              "      <td>0.803097</td>\n",
              "    </tr>\n",
              "    <tr>\n",
              "      <td>1387</td>\n",
              "      <td>0.161224</td>\n",
              "      <td>0.058824</td>\n",
              "      <td>0.101264</td>\n",
              "      <td>0.295551</td>\n",
              "      <td>0.000000</td>\n",
              "      <td>0.0</td>\n",
              "      <td>0.0</td>\n",
              "      <td>0.0</td>\n",
              "      <td>0.0</td>\n",
              "      <td>0.0</td>\n",
              "      <td>...</td>\n",
              "      <td>0.0</td>\n",
              "      <td>0.0</td>\n",
              "      <td>0.0</td>\n",
              "      <td>0.0</td>\n",
              "      <td>0.0</td>\n",
              "      <td>0.000000</td>\n",
              "      <td>0.0</td>\n",
              "      <td>0.000000</td>\n",
              "      <td>0.000000</td>\n",
              "      <td>0.767699</td>\n",
              "    </tr>\n",
              "    <tr>\n",
              "      <td>2051</td>\n",
              "      <td>0.098887</td>\n",
              "      <td>0.058824</td>\n",
              "      <td>0.116964</td>\n",
              "      <td>0.424351</td>\n",
              "      <td>0.043761</td>\n",
              "      <td>0.0</td>\n",
              "      <td>0.0</td>\n",
              "      <td>0.0</td>\n",
              "      <td>0.0</td>\n",
              "      <td>0.0</td>\n",
              "      <td>...</td>\n",
              "      <td>0.0</td>\n",
              "      <td>0.0</td>\n",
              "      <td>0.0</td>\n",
              "      <td>0.0</td>\n",
              "      <td>0.0</td>\n",
              "      <td>0.244898</td>\n",
              "      <td>0.0</td>\n",
              "      <td>0.397196</td>\n",
              "      <td>0.261728</td>\n",
              "      <td>0.838496</td>\n",
              "    </tr>\n",
              "    <tr>\n",
              "      <td>1893</td>\n",
              "      <td>0.229952</td>\n",
              "      <td>0.094118</td>\n",
              "      <td>0.220654</td>\n",
              "      <td>0.227845</td>\n",
              "      <td>0.000000</td>\n",
              "      <td>0.0</td>\n",
              "      <td>0.0</td>\n",
              "      <td>0.0</td>\n",
              "      <td>0.0</td>\n",
              "      <td>0.0</td>\n",
              "      <td>...</td>\n",
              "      <td>0.0</td>\n",
              "      <td>0.0</td>\n",
              "      <td>0.0</td>\n",
              "      <td>0.0</td>\n",
              "      <td>0.0</td>\n",
              "      <td>0.063625</td>\n",
              "      <td>0.0</td>\n",
              "      <td>0.593458</td>\n",
              "      <td>0.135802</td>\n",
              "      <td>0.765487</td>\n",
              "    </tr>\n",
              "  </tbody>\n",
              "</table>\n",
              "<p>5 rows × 28 columns</p>\n",
              "</div>"
            ],
            "text/plain": [
              "      Full_power  Iterations       Gas    Wire 1    Wire 2  Wire 3  Wire 4  \\\n",
              "1567    0.214793    0.137255  0.406723  0.303060  0.426804     0.0     0.0   \n",
              "805     0.172812    0.094118  0.287224  0.430717  0.104324     0.0     0.0   \n",
              "1387    0.161224    0.058824  0.101264  0.295551  0.000000     0.0     0.0   \n",
              "2051    0.098887    0.058824  0.116964  0.424351  0.043761     0.0     0.0   \n",
              "1893    0.229952    0.094118  0.220654  0.227845  0.000000     0.0     0.0   \n",
              "\n",
              "      Wire 5  Wire 6  Wire 7  ...  Bulk 7  Bulk 8  Bulk 9  Bulk 10  Bulk 11  \\\n",
              "1567     0.0     0.0     0.0  ...     0.0     0.0     0.0      0.0      0.0   \n",
              "805      0.0     0.0     0.0  ...     0.0     0.0     0.0      0.0      0.0   \n",
              "1387     0.0     0.0     0.0  ...     0.0     0.0     0.0      0.0      0.0   \n",
              "2051     0.0     0.0     0.0  ...     0.0     0.0     0.0      0.0      0.0   \n",
              "1893     0.0     0.0     0.0  ...     0.0     0.0     0.0      0.0      0.0   \n",
              "\n",
              "       Bulk 12  Bulk 13   Bulk 14   Bulk 15  First_temp  \n",
              "1567  0.246098      0.0  0.462617  0.382716    0.849558  \n",
              "805   0.246098      0.0  0.362150  0.498765    0.803097  \n",
              "1387  0.000000      0.0  0.000000  0.000000    0.767699  \n",
              "2051  0.244898      0.0  0.397196  0.261728    0.838496  \n",
              "1893  0.063625      0.0  0.593458  0.135802    0.765487  \n",
              "\n",
              "[5 rows x 28 columns]"
            ]
          },
          "execution_count": 50,
          "metadata": {},
          "output_type": "execute_result"
        }
      ],
      "source": [
        "features_train.head()"
      ]
    },
    {
      "cell_type": "code",
      "execution_count": null,
      "metadata": {
        "id": "8ozI20ue5Ayj",
        "outputId": "6eeb04c9-f301-44fe-dbdd-777c0496eb45"
      },
      "outputs": [
        {
          "data": {
            "text/plain": [
              "1567    1589.0\n",
              "805     1591.0\n",
              "1387    1588.0\n",
              "2051    1591.0\n",
              "1893    1579.0\n",
              "Name: Last_temp, dtype: float64"
            ]
          },
          "execution_count": 51,
          "metadata": {},
          "output_type": "execute_result"
        }
      ],
      "source": [
        "target_train.head()"
      ]
    },
    {
      "cell_type": "markdown",
      "metadata": {
        "id": "PD_gp6Jj5Ayj"
      },
      "source": [
        "Let's create dictionaries for further work with GridSearchCV."
      ]
    },
    {
      "cell_type": "code",
      "execution_count": null,
      "metadata": {
        "id": "NqBg2lI75Ayj"
      },
      "outputs": [],
      "source": [
        "models = {\n",
        "    'CatBoostRegressor': CatBoostRegressor(),\n",
        "    'LGBMRegressor': lgbm.LGBMRegressor(),\n",
        "    'LinearRegression': LinearRegression()\n",
        "}\n",
        "\n",
        "params = {\n",
        "    'CatBoostRegressor':{\n",
        "          'loss_function':['MAE'],\n",
        "          'n_estimators': [100, 300],  \n",
        "          'learning_rate': [0.05],\n",
        "          'random_state':[123],\n",
        "          'depth': [3, 4, 5]\n",
        "    },        \n",
        "\n",
        "     'LinearRegression':{\n",
        "         'normalize':[True, False]\n",
        "     },\n",
        "    \n",
        "    \n",
        "    'LGBMRegressor': {\n",
        "        'boosting_type': ['gbdt', 'dart', 'goss'],\n",
        "        'objective': ['regression'],\n",
        "        'learning_rate': [0.01, 0.02],\n",
        "        'num_iterations':[500],\n",
        "        'random_state': [12], \n",
        "        'max_depth': np.arange(2, 10),\n",
        "        'metric': ['mae']\n",
        "        },\n",
        "}"
      ]
    },
    {
      "cell_type": "markdown",
      "metadata": {
        "id": "xscIl3R-5Ayk"
      },
      "source": [
        "We create a container for collecting results."
      ]
    },
    {
      "cell_type": "code",
      "execution_count": null,
      "metadata": {
        "id": "VsDHAy4v5Ayk"
      },
      "outputs": [],
      "source": [
        "results = []"
      ]
    },
    {
      "cell_type": "markdown",
      "metadata": {
        "id": "OqkIUAJx5Ayk"
      },
      "source": [
        "We create a function for testing different models using the GridSearchCV method."
      ]
    },
    {
      "cell_type": "code",
      "execution_count": null,
      "metadata": {
        "id": "bCU_YMZp5Ayk"
      },
      "outputs": [],
      "source": [
        "def model_fit(features, target):\n",
        "    for name in models.keys():\n",
        "        clf = models[name]\n",
        "        clf_params = params[name]\n",
        "        grid = GridSearchCV(estimator=clf, param_grid=clf_params, cv=3, verbose=100)\n",
        "        grid.fit(features, target)     \n",
        "        pred_train = grid.predict(features_train)\n",
        "        results.append({'model':name,\n",
        "                        'mae_score':mean_absolute_error(target_train, pred_train),\n",
        "                        'best_params':grid.best_params_})"
      ]
    },
    {
      "cell_type": "markdown",
      "metadata": {
        "id": "--c08-bA5Ayk"
      },
      "source": [
        "We start training on test data."
      ]
    },
    {
      "cell_type": "code",
      "execution_count": null,
      "metadata": {
        "id": "zA3kFgTK5Ayk",
        "outputId": "a3748066-5451-48ca-ea69-756740dc3902"
      },
      "outputs": [
        {
          "name": "stdout",
          "output_type": "stream",
          "text": [
            "Fitting 3 folds for each of 6 candidates, totalling 18 fits\n",
            "[Parallel(n_jobs=1)]: Using backend SequentialBackend with 1 concurrent workers.\n",
            "[CV] depth=3, learning_rate=0.05, loss_function=MAE, n_estimators=100, random_state=123 \n",
            "0:\tlearn: 8.1409354\ttotal: 47.7ms\tremaining: 4.72s\n",
            "1:\tlearn: 8.0625484\ttotal: 48.5ms\tremaining: 2.38s\n",
            "2:\tlearn: 8.0161228\ttotal: 49.4ms\tremaining: 1.6s\n",
            "3:\tlearn: 7.9555771\ttotal: 50.1ms\tremaining: 1.2s\n",
            "4:\tlearn: 7.9106808\ttotal: 50.8ms\tremaining: 965ms\n",
            "5:\tlearn: 7.8485562\ttotal: 51.5ms\tremaining: 807ms\n",
            "6:\tlearn: 7.8128132\ttotal: 52.2ms\tremaining: 694ms\n",
            "7:\tlearn: 7.7615588\ttotal: 53ms\tremaining: 609ms\n",
            "8:\tlearn: 7.7032419\ttotal: 53.6ms\tremaining: 542ms\n",
            "9:\tlearn: 7.6666748\ttotal: 54.3ms\tremaining: 488ms\n",
            "10:\tlearn: 7.6322541\ttotal: 55ms\tremaining: 445ms\n",
            "11:\tlearn: 7.5434219\ttotal: 55.6ms\tremaining: 408ms\n",
            "12:\tlearn: 7.4887125\ttotal: 56.3ms\tremaining: 377ms\n",
            "13:\tlearn: 7.4617725\ttotal: 57ms\tremaining: 350ms\n",
            "14:\tlearn: 7.3980450\ttotal: 57.6ms\tremaining: 327ms\n",
            "15:\tlearn: 7.3298261\ttotal: 58.3ms\tremaining: 306ms\n",
            "16:\tlearn: 7.3013221\ttotal: 58.9ms\tremaining: 288ms\n",
            "17:\tlearn: 7.2610254\ttotal: 59.5ms\tremaining: 271ms\n",
            "18:\tlearn: 7.2355768\ttotal: 60.1ms\tremaining: 256ms\n",
            "19:\tlearn: 7.1950378\ttotal: 60.8ms\tremaining: 243ms\n",
            "20:\tlearn: 7.1613242\ttotal: 61.5ms\tremaining: 231ms\n",
            "21:\tlearn: 7.1416059\ttotal: 62.1ms\tremaining: 220ms\n",
            "22:\tlearn: 7.0955504\ttotal: 62.8ms\tremaining: 210ms\n",
            "23:\tlearn: 7.0550722\ttotal: 63.4ms\tremaining: 201ms\n",
            "24:\tlearn: 7.0220244\ttotal: 64.1ms\tremaining: 192ms\n",
            "25:\tlearn: 7.0034890\ttotal: 64.8ms\tremaining: 184ms\n",
            "26:\tlearn: 6.9827644\ttotal: 65.5ms\tremaining: 177ms\n",
            "27:\tlearn: 6.9441893\ttotal: 66.3ms\tremaining: 170ms\n",
            "28:\tlearn: 6.9158204\ttotal: 67.7ms\tremaining: 166ms\n",
            "29:\tlearn: 6.8981189\ttotal: 68.6ms\tremaining: 160ms\n",
            "30:\tlearn: 6.8817703\ttotal: 70.3ms\tremaining: 157ms\n",
            "31:\tlearn: 6.8694136\ttotal: 151ms\tremaining: 321ms\n",
            "32:\tlearn: 6.8557873\ttotal: 152ms\tremaining: 308ms\n",
            "33:\tlearn: 6.8402665\ttotal: 152ms\tremaining: 296ms\n",
            "34:\tlearn: 6.8178410\ttotal: 153ms\tremaining: 284ms\n",
            "35:\tlearn: 6.8007702\ttotal: 154ms\tremaining: 273ms\n",
            "36:\tlearn: 6.7888375\ttotal: 154ms\tremaining: 263ms\n",
            "37:\tlearn: 6.7488867\ttotal: 155ms\tremaining: 253ms\n",
            "38:\tlearn: 6.7377347\ttotal: 156ms\tremaining: 244ms\n",
            "39:\tlearn: 6.7095346\ttotal: 156ms\tremaining: 234ms\n",
            "40:\tlearn: 6.6872175\ttotal: 157ms\tremaining: 226ms\n",
            "41:\tlearn: 6.6748460\ttotal: 157ms\tremaining: 217ms\n",
            "42:\tlearn: 6.6463822\ttotal: 158ms\tremaining: 210ms\n",
            "43:\tlearn: 6.6350758\ttotal: 159ms\tremaining: 202ms\n",
            "44:\tlearn: 6.6246299\ttotal: 159ms\tremaining: 195ms\n",
            "45:\tlearn: 6.6073367\ttotal: 160ms\tremaining: 188ms\n",
            "46:\tlearn: 6.5914630\ttotal: 166ms\tremaining: 187ms\n",
            "47:\tlearn: 6.5760402\ttotal: 167ms\tremaining: 180ms\n",
            "48:\tlearn: 6.5581592\ttotal: 246ms\tremaining: 256ms\n",
            "49:\tlearn: 6.5452621\ttotal: 247ms\tremaining: 247ms\n",
            "50:\tlearn: 6.5332275\ttotal: 247ms\tremaining: 238ms\n",
            "51:\tlearn: 6.5219459\ttotal: 248ms\tremaining: 229ms\n",
            "52:\tlearn: 6.4922425\ttotal: 249ms\tremaining: 221ms\n",
            "53:\tlearn: 6.4771414\ttotal: 249ms\tremaining: 212ms\n",
            "54:\tlearn: 6.4689258\ttotal: 250ms\tremaining: 205ms\n",
            "55:\tlearn: 6.4463576\ttotal: 251ms\tremaining: 197ms\n",
            "56:\tlearn: 6.4360568\ttotal: 251ms\tremaining: 190ms\n",
            "57:\tlearn: 6.4240055\ttotal: 252ms\tremaining: 182ms\n",
            "58:\tlearn: 6.4123115\ttotal: 253ms\tremaining: 176ms\n",
            "59:\tlearn: 6.3981110\ttotal: 253ms\tremaining: 169ms\n",
            "60:\tlearn: 6.3785664\ttotal: 254ms\tremaining: 162ms\n",
            "61:\tlearn: 6.3676026\ttotal: 254ms\tremaining: 156ms\n",
            "62:\tlearn: 6.3533824\ttotal: 255ms\tremaining: 150ms\n",
            "63:\tlearn: 6.3441385\ttotal: 341ms\tremaining: 192ms\n",
            "64:\tlearn: 6.3366989\ttotal: 341ms\tremaining: 184ms\n",
            "65:\tlearn: 6.3277910\ttotal: 342ms\tremaining: 176ms\n",
            "66:\tlearn: 6.3093842\ttotal: 343ms\tremaining: 169ms\n",
            "67:\tlearn: 6.2965248\ttotal: 343ms\tremaining: 162ms\n",
            "68:\tlearn: 6.2904451\ttotal: 344ms\tremaining: 154ms\n",
            "69:\tlearn: 6.2789606\ttotal: 344ms\tremaining: 148ms\n",
            "70:\tlearn: 6.2716372\ttotal: 345ms\tremaining: 141ms\n",
            "71:\tlearn: 6.2669945\ttotal: 346ms\tremaining: 134ms\n",
            "72:\tlearn: 6.2548260\ttotal: 346ms\tremaining: 128ms\n",
            "73:\tlearn: 6.2408155\ttotal: 347ms\tremaining: 122ms\n",
            "74:\tlearn: 6.2330184\ttotal: 347ms\tremaining: 116ms\n",
            "75:\tlearn: 6.2250891\ttotal: 348ms\tremaining: 110ms\n",
            "76:\tlearn: 6.2175221\ttotal: 349ms\tremaining: 104ms\n",
            "77:\tlearn: 6.2119674\ttotal: 349ms\tremaining: 98.5ms\n",
            "78:\tlearn: 6.1988050\ttotal: 350ms\tremaining: 93ms\n",
            "79:\tlearn: 6.1872508\ttotal: 351ms\tremaining: 87.6ms\n",
            "80:\tlearn: 6.1749965\ttotal: 436ms\tremaining: 102ms\n",
            "81:\tlearn: 6.1694761\ttotal: 437ms\tremaining: 96ms\n",
            "82:\tlearn: 6.1580553\ttotal: 438ms\tremaining: 89.7ms\n",
            "83:\tlearn: 6.1401735\ttotal: 439ms\tremaining: 83.5ms\n",
            "84:\tlearn: 6.1326607\ttotal: 439ms\tremaining: 77.5ms\n",
            "85:\tlearn: 6.1155954\ttotal: 440ms\tremaining: 71.6ms\n",
            "86:\tlearn: 6.1088180\ttotal: 440ms\tremaining: 65.8ms\n",
            "87:\tlearn: 6.0978735\ttotal: 441ms\tremaining: 60.1ms\n",
            "88:\tlearn: 6.0936213\ttotal: 442ms\tremaining: 54.6ms\n",
            "89:\tlearn: 6.0837584\ttotal: 442ms\tremaining: 49.1ms\n",
            "90:\tlearn: 6.0781798\ttotal: 443ms\tremaining: 43.8ms\n",
            "91:\tlearn: 6.0750332\ttotal: 444ms\tremaining: 38.6ms\n",
            "92:\tlearn: 6.0682441\ttotal: 444ms\tremaining: 33.4ms\n",
            "93:\tlearn: 6.0621431\ttotal: 445ms\tremaining: 28.4ms\n",
            "94:\tlearn: 6.0569151\ttotal: 445ms\tremaining: 23.4ms\n",
            "95:\tlearn: 6.0447440\ttotal: 446ms\tremaining: 18.6ms\n",
            "96:\tlearn: 6.0357811\ttotal: 446ms\tremaining: 13.8ms\n",
            "97:\tlearn: 6.0316339\ttotal: 447ms\tremaining: 9.12ms\n",
            "98:\tlearn: 6.0251903\ttotal: 530ms\tremaining: 5.35ms\n",
            "99:\tlearn: 6.0180068\ttotal: 531ms\tremaining: 0us\n",
            "[CV]  depth=3, learning_rate=0.05, loss_function=MAE, n_estimators=100, random_state=123, score=0.383, total=   1.8s\n",
            "[Parallel(n_jobs=1)]: Done   1 out of   1 | elapsed:    1.8s remaining:    0.0s\n",
            "[CV] depth=3, learning_rate=0.05, loss_function=MAE, n_estimators=100, random_state=123 \n",
            "0:\tlearn: 7.8666657\ttotal: 935us\tremaining: 92.6ms\n",
            "1:\tlearn: 7.8143783\ttotal: 1.74ms\tremaining: 85.3ms\n",
            "2:\tlearn: 7.7743838\ttotal: 2.45ms\tremaining: 79.1ms\n",
            "3:\tlearn: 7.7282700\ttotal: 3.11ms\tremaining: 74.6ms\n",
            "4:\tlearn: 7.6661949\ttotal: 3.8ms\tremaining: 72.2ms\n",
            "5:\tlearn: 7.5925644\ttotal: 4.44ms\tremaining: 69.5ms\n",
            "6:\tlearn: 7.5405543\ttotal: 5.07ms\tremaining: 67.4ms\n",
            "7:\tlearn: 7.5032745\ttotal: 5.73ms\tremaining: 65.9ms\n",
            "8:\tlearn: 7.4564738\ttotal: 6.37ms\tremaining: 64.5ms\n",
            "9:\tlearn: 7.4109528\ttotal: 7.02ms\tremaining: 63.2ms\n",
            "10:\tlearn: 7.3552999\ttotal: 7.65ms\tremaining: 61.9ms\n",
            "11:\tlearn: 7.3239781\ttotal: 8.3ms\tremaining: 60.9ms\n",
            "12:\tlearn: 7.2880004\ttotal: 8.91ms\tremaining: 59.6ms\n",
            "13:\tlearn: 7.2447358\ttotal: 9.46ms\tremaining: 58.1ms\n",
            "14:\tlearn: 7.2063808\ttotal: 9.99ms\tremaining: 56.6ms\n",
            "15:\tlearn: 7.1612532\ttotal: 32.4ms\tremaining: 170ms\n",
            "16:\tlearn: 7.1468495\ttotal: 33.1ms\tremaining: 162ms\n",
            "17:\tlearn: 7.1200589\ttotal: 33.8ms\tremaining: 154ms\n",
            "18:\tlearn: 7.0953310\ttotal: 34.4ms\tremaining: 147ms\n",
            "19:\tlearn: 7.0655153\ttotal: 35ms\tremaining: 140ms\n",
            "20:\tlearn: 7.0529767\ttotal: 35.6ms\tremaining: 134ms\n",
            "21:\tlearn: 7.0197178\ttotal: 36.3ms\tremaining: 129ms\n",
            "22:\tlearn: 7.0073151\ttotal: 37.1ms\tremaining: 124ms\n",
            "23:\tlearn: 6.9855023\ttotal: 37.7ms\tremaining: 119ms\n",
            "24:\tlearn: 6.9544450\ttotal: 38.3ms\tremaining: 115ms\n",
            "25:\tlearn: 6.9368622\ttotal: 39ms\tremaining: 111ms\n",
            "26:\tlearn: 6.9079040\ttotal: 39.7ms\tremaining: 107ms\n",
            "27:\tlearn: 6.8760139\ttotal: 41.2ms\tremaining: 106ms\n",
            "28:\tlearn: 6.8463935\ttotal: 41.9ms\tremaining: 103ms\n",
            "29:\tlearn: 6.8262040\ttotal: 42.5ms\tremaining: 99.2ms\n",
            "30:\tlearn: 6.8077553\ttotal: 43.1ms\tremaining: 95.9ms\n",
            "31:\tlearn: 6.7901088\ttotal: 48.7ms\tremaining: 103ms\n",
            "32:\tlearn: 6.7508428\ttotal: 127ms\tremaining: 259ms\n",
            "33:\tlearn: 6.7312313\ttotal: 128ms\tremaining: 249ms\n",
            "34:\tlearn: 6.7009444\ttotal: 129ms\tremaining: 239ms\n",
            "35:\tlearn: 6.6867108\ttotal: 129ms\tremaining: 230ms\n",
            "36:\tlearn: 6.6675772\ttotal: 130ms\tremaining: 221ms\n",
            "37:\tlearn: 6.6506431\ttotal: 130ms\tremaining: 213ms\n",
            "38:\tlearn: 6.6354787\ttotal: 131ms\tremaining: 205ms\n",
            "39:\tlearn: 6.6111434\ttotal: 132ms\tremaining: 198ms\n",
            "40:\tlearn: 6.5929766\ttotal: 132ms\tremaining: 190ms\n",
            "41:\tlearn: 6.5879898\ttotal: 133ms\tremaining: 184ms\n",
            "42:\tlearn: 6.5733696\ttotal: 134ms\tremaining: 177ms\n",
            "43:\tlearn: 6.5374936\ttotal: 134ms\tremaining: 171ms\n",
            "44:\tlearn: 6.5176323\ttotal: 135ms\tremaining: 165ms\n",
            "45:\tlearn: 6.5055603\ttotal: 135ms\tremaining: 159ms\n",
            "46:\tlearn: 6.4903316\ttotal: 136ms\tremaining: 153ms\n",
            "47:\tlearn: 6.4821375\ttotal: 136ms\tremaining: 148ms\n",
            "48:\tlearn: 6.4633592\ttotal: 137ms\tremaining: 143ms\n",
            "49:\tlearn: 6.4478110\ttotal: 222ms\tremaining: 222ms\n",
            "50:\tlearn: 6.4439433\ttotal: 224ms\tremaining: 215ms\n",
            "51:\tlearn: 6.4326332\ttotal: 224ms\tremaining: 207ms\n",
            "52:\tlearn: 6.4181544\ttotal: 225ms\tremaining: 200ms\n",
            "53:\tlearn: 6.4088958\ttotal: 226ms\tremaining: 192ms\n",
            "54:\tlearn: 6.3963234\ttotal: 226ms\tremaining: 185ms\n",
            "55:\tlearn: 6.3808009\ttotal: 227ms\tremaining: 178ms\n",
            "56:\tlearn: 6.3671212\ttotal: 227ms\tremaining: 172ms\n",
            "57:\tlearn: 6.3465164\ttotal: 228ms\tremaining: 165ms\n",
            "58:\tlearn: 6.3355560\ttotal: 229ms\tremaining: 159ms\n",
            "59:\tlearn: 6.3191122\ttotal: 229ms\tremaining: 153ms\n",
            "60:\tlearn: 6.3032678\ttotal: 230ms\tremaining: 147ms\n",
            "61:\tlearn: 6.2874776\ttotal: 230ms\tremaining: 141ms\n",
            "62:\tlearn: 6.2779021\ttotal: 231ms\tremaining: 136ms\n",
            "63:\tlearn: 6.2673193\ttotal: 231ms\tremaining: 130ms\n",
            "64:\tlearn: 6.2617854\ttotal: 318ms\tremaining: 171ms\n",
            "65:\tlearn: 6.2524459\ttotal: 318ms\tremaining: 164ms\n",
            "66:\tlearn: 6.2296906\ttotal: 319ms\tremaining: 157ms\n",
            "67:\tlearn: 6.2186349\ttotal: 320ms\tremaining: 150ms\n",
            "68:\tlearn: 6.2101500\ttotal: 320ms\tremaining: 144ms\n",
            "69:\tlearn: 6.2031681\ttotal: 321ms\tremaining: 138ms\n",
            "70:\tlearn: 6.1874444\ttotal: 321ms\tremaining: 131ms\n",
            "71:\tlearn: 6.1766441\ttotal: 322ms\tremaining: 125ms\n",
            "72:\tlearn: 6.1666062\ttotal: 323ms\tremaining: 119ms\n",
            "73:\tlearn: 6.1613588\ttotal: 323ms\tremaining: 114ms\n",
            "74:\tlearn: 6.1456252\ttotal: 324ms\tremaining: 108ms\n",
            "75:\tlearn: 6.1372751\ttotal: 325ms\tremaining: 102ms\n",
            "76:\tlearn: 6.1293408\ttotal: 325ms\tremaining: 97.1ms\n",
            "77:\tlearn: 6.1231206\ttotal: 326ms\tremaining: 91.8ms\n",
            "78:\tlearn: 6.1087390\ttotal: 326ms\tremaining: 86.7ms\n",
            "79:\tlearn: 6.1046615\ttotal: 327ms\tremaining: 81.7ms\n",
            "80:\tlearn: 6.0859627\ttotal: 327ms\tremaining: 76.8ms\n",
            "81:\tlearn: 6.0721483\ttotal: 412ms\tremaining: 90.5ms\n",
            "82:\tlearn: 6.0585339\ttotal: 413ms\tremaining: 84.6ms\n",
            "83:\tlearn: 6.0514543\ttotal: 415ms\tremaining: 79.1ms\n",
            "84:\tlearn: 6.0402629\ttotal: 416ms\tremaining: 73.4ms\n",
            "85:\tlearn: 6.0316044\ttotal: 417ms\tremaining: 67.8ms\n",
            "86:\tlearn: 6.0179588\ttotal: 418ms\tremaining: 62.4ms\n",
            "87:\tlearn: 6.0055921\ttotal: 418ms\tremaining: 57ms\n",
            "88:\tlearn: 5.9961205\ttotal: 420ms\tremaining: 51.9ms\n",
            "89:\tlearn: 5.9923559\ttotal: 421ms\tremaining: 46.7ms\n",
            "90:\tlearn: 5.9874460\ttotal: 422ms\tremaining: 41.7ms\n",
            "91:\tlearn: 5.9740144\ttotal: 423ms\tremaining: 36.8ms\n",
            "92:\tlearn: 5.9701703\ttotal: 424ms\tremaining: 31.9ms\n",
            "93:\tlearn: 5.9609225\ttotal: 426ms\tremaining: 27.2ms\n",
            "94:\tlearn: 5.9530509\ttotal: 508ms\tremaining: 26.8ms\n",
            "95:\tlearn: 5.9391283\ttotal: 509ms\tremaining: 21.2ms\n",
            "96:\tlearn: 5.9292676\ttotal: 510ms\tremaining: 15.8ms\n",
            "97:\tlearn: 5.9183715\ttotal: 511ms\tremaining: 10.4ms\n",
            "98:\tlearn: 5.9068671\ttotal: 511ms\tremaining: 5.16ms\n",
            "99:\tlearn: 5.9020601\ttotal: 512ms\tremaining: 0us\n",
            "[CV]  depth=3, learning_rate=0.05, loss_function=MAE, n_estimators=100, random_state=123, score=0.356, total=   1.7s\n",
            "[Parallel(n_jobs=1)]: Done   2 out of   2 | elapsed:    3.5s remaining:    0.0s\n",
            "[CV] depth=3, learning_rate=0.05, loss_function=MAE, n_estimators=100, random_state=123 \n",
            "0:\tlearn: 8.1151193\ttotal: 781us\tremaining: 77.4ms\n",
            "1:\tlearn: 8.0555896\ttotal: 1.55ms\tremaining: 76.1ms\n",
            "2:\tlearn: 7.9953953\ttotal: 2.2ms\tremaining: 71.2ms\n",
            "3:\tlearn: 7.9494882\ttotal: 2.81ms\tremaining: 67.5ms\n",
            "4:\tlearn: 7.8966394\ttotal: 3.48ms\tremaining: 66.1ms\n",
            "5:\tlearn: 7.8503250\ttotal: 4.08ms\tremaining: 64ms\n",
            "6:\tlearn: 7.8049772\ttotal: 4.77ms\tremaining: 63.4ms\n",
            "7:\tlearn: 7.7732824\ttotal: 5.43ms\tremaining: 62.5ms\n",
            "8:\tlearn: 7.7318269\ttotal: 6.09ms\tremaining: 61.6ms\n",
            "9:\tlearn: 7.6490211\ttotal: 6.73ms\tremaining: 60.5ms\n",
            "10:\tlearn: 7.6241829\ttotal: 7.32ms\tremaining: 59.2ms\n",
            "11:\tlearn: 7.5553308\ttotal: 7.94ms\tremaining: 58.2ms\n",
            "12:\tlearn: 7.5272793\ttotal: 8.75ms\tremaining: 58.6ms\n",
            "13:\tlearn: 7.4719928\ttotal: 9.45ms\tremaining: 58.1ms\n",
            "14:\tlearn: 7.3987467\ttotal: 10.2ms\tremaining: 57.6ms\n",
            "15:\tlearn: 7.3661253\ttotal: 11ms\tremaining: 57.9ms\n",
            "16:\tlearn: 7.3281423\ttotal: 12.4ms\tremaining: 60.7ms\n",
            "17:\tlearn: 7.2960699\ttotal: 57.8ms\tremaining: 263ms\n",
            "18:\tlearn: 7.2318202\ttotal: 58.5ms\tremaining: 249ms\n",
            "19:\tlearn: 7.1885998\ttotal: 59.2ms\tremaining: 237ms\n",
            "20:\tlearn: 7.1272857\ttotal: 59.8ms\tremaining: 225ms\n",
            "21:\tlearn: 7.0763242\ttotal: 60.4ms\tremaining: 214ms\n",
            "22:\tlearn: 7.0516189\ttotal: 60.9ms\tremaining: 204ms\n",
            "23:\tlearn: 7.0360316\ttotal: 61.5ms\tremaining: 195ms\n",
            "24:\tlearn: 7.0177786\ttotal: 62.2ms\tremaining: 187ms\n",
            "25:\tlearn: 6.9964647\ttotal: 63.3ms\tremaining: 180ms\n",
            "26:\tlearn: 6.9800651\ttotal: 63.9ms\tremaining: 173ms\n",
            "27:\tlearn: 6.9621077\ttotal: 64.5ms\tremaining: 166ms\n",
            "28:\tlearn: 6.8975193\ttotal: 65.1ms\tremaining: 159ms\n",
            "29:\tlearn: 6.8567933\ttotal: 65.8ms\tremaining: 153ms\n",
            "30:\tlearn: 6.8307222\ttotal: 66.4ms\tremaining: 148ms\n",
            "31:\tlearn: 6.8054092\ttotal: 67ms\tremaining: 142ms\n",
            "32:\tlearn: 6.7914495\ttotal: 153ms\tremaining: 311ms\n",
            "33:\tlearn: 6.7733824\ttotal: 154ms\tremaining: 299ms\n",
            "34:\tlearn: 6.7568648\ttotal: 154ms\tremaining: 287ms\n",
            "35:\tlearn: 6.7457012\ttotal: 155ms\tremaining: 275ms\n",
            "36:\tlearn: 6.7303958\ttotal: 156ms\tremaining: 265ms\n",
            "37:\tlearn: 6.7063329\ttotal: 156ms\tremaining: 255ms\n",
            "38:\tlearn: 6.6918091\ttotal: 157ms\tremaining: 245ms\n",
            "39:\tlearn: 6.6751823\ttotal: 157ms\tremaining: 236ms\n",
            "40:\tlearn: 6.6427736\ttotal: 158ms\tremaining: 227ms\n",
            "41:\tlearn: 6.6261905\ttotal: 159ms\tremaining: 219ms\n",
            "42:\tlearn: 6.6054154\ttotal: 159ms\tremaining: 211ms\n",
            "43:\tlearn: 6.5932444\ttotal: 160ms\tremaining: 204ms\n",
            "44:\tlearn: 6.5847110\ttotal: 161ms\tremaining: 196ms\n",
            "45:\tlearn: 6.5624311\ttotal: 161ms\tremaining: 189ms\n",
            "46:\tlearn: 6.5470104\ttotal: 162ms\tremaining: 183ms\n",
            "47:\tlearn: 6.5155049\ttotal: 163ms\tremaining: 176ms\n",
            "48:\tlearn: 6.5110022\ttotal: 163ms\tremaining: 170ms\n",
            "49:\tlearn: 6.5034109\ttotal: 244ms\tremaining: 244ms\n",
            "50:\tlearn: 6.4851011\ttotal: 245ms\tremaining: 236ms\n",
            "51:\tlearn: 6.4696704\ttotal: 246ms\tremaining: 227ms\n",
            "52:\tlearn: 6.4652712\ttotal: 247ms\tremaining: 219ms\n",
            "53:\tlearn: 6.4531638\ttotal: 248ms\tremaining: 211ms\n",
            "54:\tlearn: 6.4336133\ttotal: 249ms\tremaining: 204ms\n",
            "55:\tlearn: 6.4258835\ttotal: 250ms\tremaining: 196ms\n",
            "56:\tlearn: 6.4044420\ttotal: 251ms\tremaining: 189ms\n",
            "57:\tlearn: 6.3974874\ttotal: 252ms\tremaining: 182ms\n",
            "58:\tlearn: 6.3851325\ttotal: 253ms\tremaining: 176ms\n",
            "59:\tlearn: 6.3752849\ttotal: 254ms\tremaining: 169ms\n",
            "60:\tlearn: 6.3558434\ttotal: 255ms\tremaining: 163ms\n",
            "61:\tlearn: 6.3480333\ttotal: 340ms\tremaining: 208ms\n",
            "62:\tlearn: 6.3417907\ttotal: 341ms\tremaining: 201ms\n",
            "63:\tlearn: 6.3315793\ttotal: 343ms\tremaining: 193ms\n",
            "64:\tlearn: 6.3276615\ttotal: 344ms\tremaining: 185ms\n",
            "65:\tlearn: 6.3230626\ttotal: 345ms\tremaining: 178ms\n",
            "66:\tlearn: 6.3101382\ttotal: 346ms\tremaining: 170ms\n",
            "67:\tlearn: 6.2937796\ttotal: 346ms\tremaining: 163ms\n",
            "68:\tlearn: 6.2696095\ttotal: 347ms\tremaining: 156ms\n",
            "69:\tlearn: 6.2434179\ttotal: 348ms\tremaining: 149ms\n",
            "70:\tlearn: 6.2233352\ttotal: 350ms\tremaining: 143ms\n",
            "71:\tlearn: 6.2195682\ttotal: 350ms\tremaining: 136ms\n",
            "72:\tlearn: 6.2113732\ttotal: 351ms\tremaining: 130ms\n",
            "73:\tlearn: 6.1997558\ttotal: 436ms\tremaining: 153ms\n",
            "74:\tlearn: 6.1894311\ttotal: 438ms\tremaining: 146ms\n",
            "75:\tlearn: 6.1829074\ttotal: 439ms\tremaining: 139ms\n",
            "76:\tlearn: 6.1759046\ttotal: 440ms\tremaining: 131ms\n",
            "77:\tlearn: 6.1666569\ttotal: 441ms\tremaining: 124ms\n",
            "78:\tlearn: 6.1528137\ttotal: 442ms\tremaining: 117ms\n",
            "79:\tlearn: 6.1343826\ttotal: 444ms\tremaining: 111ms\n",
            "80:\tlearn: 6.1295187\ttotal: 445ms\tremaining: 104ms\n",
            "81:\tlearn: 6.1082147\ttotal: 446ms\tremaining: 97.8ms\n",
            "82:\tlearn: 6.0923784\ttotal: 533ms\tremaining: 109ms\n",
            "83:\tlearn: 6.0787980\ttotal: 534ms\tremaining: 102ms\n",
            "84:\tlearn: 6.0661175\ttotal: 535ms\tremaining: 94.4ms\n",
            "85:\tlearn: 6.0617460\ttotal: 536ms\tremaining: 87.2ms\n",
            "86:\tlearn: 6.0483239\ttotal: 537ms\tremaining: 80.2ms\n",
            "87:\tlearn: 6.0410655\ttotal: 538ms\tremaining: 73.3ms\n",
            "88:\tlearn: 6.0349939\ttotal: 539ms\tremaining: 66.6ms\n",
            "89:\tlearn: 6.0291555\ttotal: 540ms\tremaining: 60ms\n",
            "90:\tlearn: 6.0162422\ttotal: 541ms\tremaining: 53.5ms\n",
            "91:\tlearn: 6.0069932\ttotal: 541ms\tremaining: 47.1ms\n",
            "92:\tlearn: 5.9960060\ttotal: 542ms\tremaining: 40.8ms\n",
            "93:\tlearn: 5.9880338\ttotal: 544ms\tremaining: 34.7ms\n",
            "94:\tlearn: 5.9817999\ttotal: 629ms\tremaining: 33.1ms\n",
            "95:\tlearn: 5.9745370\ttotal: 629ms\tremaining: 26.2ms\n",
            "96:\tlearn: 5.9703190\ttotal: 630ms\tremaining: 19.5ms\n",
            "97:\tlearn: 5.9675286\ttotal: 632ms\tremaining: 12.9ms\n",
            "98:\tlearn: 5.9577781\ttotal: 633ms\tremaining: 6.39ms\n",
            "99:\tlearn: 5.9553465\ttotal: 634ms\tremaining: 0us\n",
            "[CV]  depth=3, learning_rate=0.05, loss_function=MAE, n_estimators=100, random_state=123, score=0.292, total=   2.2s\n",
            "[Parallel(n_jobs=1)]: Done   3 out of   3 | elapsed:    5.7s remaining:    0.0s\n",
            "[CV] depth=3, learning_rate=0.05, loss_function=MAE, n_estimators=300, random_state=123 \n",
            "0:\tlearn: 8.1409354\ttotal: 837us\tremaining: 251ms\n",
            "1:\tlearn: 8.0625484\ttotal: 2.06ms\tremaining: 307ms\n",
            "2:\tlearn: 8.0161228\ttotal: 2.69ms\tremaining: 266ms\n",
            "3:\tlearn: 7.9555771\ttotal: 3.38ms\tremaining: 250ms\n",
            "4:\tlearn: 7.9106808\ttotal: 4.04ms\tremaining: 238ms\n",
            "5:\tlearn: 7.8485562\ttotal: 4.7ms\tremaining: 230ms\n",
            "6:\tlearn: 7.8128132\ttotal: 5.36ms\tremaining: 224ms\n",
            "7:\tlearn: 7.7615588\ttotal: 6.02ms\tremaining: 220ms\n",
            "8:\tlearn: 7.7032419\ttotal: 6.69ms\tremaining: 216ms\n",
            "9:\tlearn: 7.6666748\ttotal: 7.36ms\tremaining: 213ms\n",
            "10:\tlearn: 7.6322541\ttotal: 8.05ms\tremaining: 212ms\n",
            "11:\tlearn: 7.5434219\ttotal: 8.72ms\tremaining: 209ms\n",
            "12:\tlearn: 7.4887125\ttotal: 9.34ms\tremaining: 206ms\n",
            "13:\tlearn: 7.4617725\ttotal: 10ms\tremaining: 204ms\n",
            "14:\tlearn: 7.3980450\ttotal: 16.1ms\tremaining: 307ms\n",
            "15:\tlearn: 7.3298261\ttotal: 16.8ms\tremaining: 299ms\n",
            "16:\tlearn: 7.3013221\ttotal: 24.7ms\tremaining: 411ms\n",
            "17:\tlearn: 7.2610254\ttotal: 25.4ms\tremaining: 398ms\n",
            "18:\tlearn: 7.2355768\ttotal: 26.1ms\tremaining: 386ms\n",
            "19:\tlearn: 7.1950378\ttotal: 26.7ms\tremaining: 374ms\n",
            "20:\tlearn: 7.1613242\ttotal: 27.3ms\tremaining: 363ms\n",
            "21:\tlearn: 7.1416059\ttotal: 28ms\tremaining: 353ms\n",
            "22:\tlearn: 7.0955504\ttotal: 28.6ms\tremaining: 345ms\n",
            "23:\tlearn: 7.0550722\ttotal: 29.3ms\tremaining: 337ms\n",
            "24:\tlearn: 7.0220244\ttotal: 30.4ms\tremaining: 334ms\n",
            "25:\tlearn: 7.0034890\ttotal: 31.1ms\tremaining: 328ms\n",
            "26:\tlearn: 6.9827644\ttotal: 31.7ms\tremaining: 321ms\n",
            "27:\tlearn: 6.9441893\ttotal: 32.7ms\tremaining: 317ms\n",
            "28:\tlearn: 6.9158204\ttotal: 33.5ms\tremaining: 313ms\n",
            "29:\tlearn: 6.8981189\ttotal: 35.6ms\tremaining: 320ms\n",
            "30:\tlearn: 6.8817703\ttotal: 120ms\tremaining: 1.04s\n",
            "31:\tlearn: 6.8694136\ttotal: 121ms\tremaining: 1.01s\n",
            "32:\tlearn: 6.8557873\ttotal: 122ms\tremaining: 987ms\n",
            "33:\tlearn: 6.8402665\ttotal: 123ms\tremaining: 959ms\n",
            "34:\tlearn: 6.8178410\ttotal: 124ms\tremaining: 936ms\n",
            "35:\tlearn: 6.8007702\ttotal: 124ms\tremaining: 912ms\n",
            "36:\tlearn: 6.7888375\ttotal: 126ms\tremaining: 893ms\n",
            "37:\tlearn: 6.7488867\ttotal: 126ms\tremaining: 871ms\n",
            "38:\tlearn: 6.7377347\ttotal: 127ms\tremaining: 848ms\n",
            "39:\tlearn: 6.7095346\ttotal: 128ms\tremaining: 833ms\n",
            "40:\tlearn: 6.6872175\ttotal: 129ms\tremaining: 817ms\n",
            "41:\tlearn: 6.6748460\ttotal: 130ms\tremaining: 798ms\n",
            "42:\tlearn: 6.6463822\ttotal: 131ms\tremaining: 780ms\n",
            "43:\tlearn: 6.6350758\ttotal: 218ms\tremaining: 1.27s\n",
            "44:\tlearn: 6.6246299\ttotal: 219ms\tremaining: 1.24s\n",
            "45:\tlearn: 6.6073367\ttotal: 219ms\tremaining: 1.21s\n",
            "46:\tlearn: 6.5914630\ttotal: 220ms\tremaining: 1.18s\n",
            "47:\tlearn: 6.5760402\ttotal: 221ms\tremaining: 1.16s\n",
            "48:\tlearn: 6.5581592\ttotal: 221ms\tremaining: 1.13s\n",
            "49:\tlearn: 6.5452621\ttotal: 222ms\tremaining: 1.11s\n",
            "50:\tlearn: 6.5332275\ttotal: 223ms\tremaining: 1.09s\n",
            "51:\tlearn: 6.5219459\ttotal: 223ms\tremaining: 1.06s\n",
            "52:\tlearn: 6.4922425\ttotal: 224ms\tremaining: 1.04s\n",
            "53:\tlearn: 6.4771414\ttotal: 224ms\tremaining: 1.02s\n",
            "54:\tlearn: 6.4689258\ttotal: 225ms\tremaining: 1s\n",
            "55:\tlearn: 6.4463576\ttotal: 226ms\tremaining: 983ms\n",
            "56:\tlearn: 6.4360568\ttotal: 232ms\tremaining: 987ms\n",
            "57:\tlearn: 6.4240055\ttotal: 232ms\tremaining: 969ms\n",
            "58:\tlearn: 6.4123115\ttotal: 239ms\tremaining: 974ms\n",
            "59:\tlearn: 6.3981110\ttotal: 311ms\tremaining: 1.24s\n",
            "60:\tlearn: 6.3785664\ttotal: 312ms\tremaining: 1.22s\n",
            "61:\tlearn: 6.3676026\ttotal: 313ms\tremaining: 1.2s\n",
            "62:\tlearn: 6.3533824\ttotal: 313ms\tremaining: 1.18s\n",
            "63:\tlearn: 6.3441385\ttotal: 314ms\tremaining: 1.16s\n",
            "64:\tlearn: 6.3366989\ttotal: 314ms\tremaining: 1.14s\n",
            "65:\tlearn: 6.3277910\ttotal: 315ms\tremaining: 1.12s\n",
            "66:\tlearn: 6.3093842\ttotal: 316ms\tremaining: 1.1s\n",
            "67:\tlearn: 6.2965248\ttotal: 316ms\tremaining: 1.08s\n",
            "68:\tlearn: 6.2904451\ttotal: 317ms\tremaining: 1.06s\n",
            "69:\tlearn: 6.2789606\ttotal: 317ms\tremaining: 1.04s\n",
            "70:\tlearn: 6.2716372\ttotal: 318ms\tremaining: 1.02s\n",
            "71:\tlearn: 6.2669945\ttotal: 319ms\tremaining: 1.01s\n",
            "72:\tlearn: 6.2548260\ttotal: 319ms\tremaining: 993ms\n",
            "73:\tlearn: 6.2408155\ttotal: 320ms\tremaining: 977ms\n",
            "74:\tlearn: 6.2330184\ttotal: 320ms\tremaining: 961ms\n",
            "75:\tlearn: 6.2250891\ttotal: 321ms\tremaining: 946ms\n",
            "76:\tlearn: 6.2175221\ttotal: 406ms\tremaining: 1.18s\n",
            "77:\tlearn: 6.2119674\ttotal: 407ms\tremaining: 1.16s\n",
            "78:\tlearn: 6.1988050\ttotal: 407ms\tremaining: 1.14s\n",
            "79:\tlearn: 6.1872508\ttotal: 409ms\tremaining: 1.13s\n",
            "80:\tlearn: 6.1749965\ttotal: 411ms\tremaining: 1.11s\n",
            "81:\tlearn: 6.1694761\ttotal: 412ms\tremaining: 1.09s\n",
            "82:\tlearn: 6.1580553\ttotal: 413ms\tremaining: 1.08s\n",
            "83:\tlearn: 6.1401735\ttotal: 414ms\tremaining: 1.06s\n",
            "84:\tlearn: 6.1326607\ttotal: 414ms\tremaining: 1.05s\n",
            "85:\tlearn: 6.1155954\ttotal: 415ms\tremaining: 1.03s\n",
            "86:\tlearn: 6.1088180\ttotal: 415ms\tremaining: 1.02s\n",
            "87:\tlearn: 6.0978735\ttotal: 416ms\tremaining: 1s\n",
            "88:\tlearn: 6.0936213\ttotal: 417ms\tremaining: 988ms\n",
            "89:\tlearn: 6.0837584\ttotal: 417ms\tremaining: 974ms\n",
            "90:\tlearn: 6.0781798\ttotal: 502ms\tremaining: 1.15s\n",
            "91:\tlearn: 6.0750332\ttotal: 502ms\tremaining: 1.14s\n",
            "92:\tlearn: 6.0682441\ttotal: 503ms\tremaining: 1.12s\n",
            "93:\tlearn: 6.0621431\ttotal: 504ms\tremaining: 1.1s\n",
            "94:\tlearn: 6.0569151\ttotal: 504ms\tremaining: 1.09s\n",
            "95:\tlearn: 6.0447440\ttotal: 505ms\tremaining: 1.07s\n",
            "96:\tlearn: 6.0357811\ttotal: 506ms\tremaining: 1.06s\n",
            "97:\tlearn: 6.0316339\ttotal: 506ms\tremaining: 1.04s\n",
            "98:\tlearn: 6.0251903\ttotal: 507ms\tremaining: 1.03s\n",
            "99:\tlearn: 6.0180068\ttotal: 507ms\tremaining: 1.01s\n",
            "100:\tlearn: 6.0123705\ttotal: 508ms\tremaining: 1s\n",
            "101:\tlearn: 6.0093103\ttotal: 508ms\tremaining: 987ms\n",
            "102:\tlearn: 5.9923866\ttotal: 509ms\tremaining: 974ms\n",
            "103:\tlearn: 5.9855281\ttotal: 510ms\tremaining: 961ms\n",
            "104:\tlearn: 5.9817826\ttotal: 510ms\tremaining: 948ms\n",
            "105:\tlearn: 5.9689227\ttotal: 511ms\tremaining: 935ms\n",
            "106:\tlearn: 5.9664581\ttotal: 512ms\tremaining: 923ms\n",
            "107:\tlearn: 5.9572340\ttotal: 512ms\tremaining: 911ms\n",
            "108:\tlearn: 5.9534131\ttotal: 513ms\tremaining: 899ms\n",
            "109:\tlearn: 5.9507332\ttotal: 596ms\tremaining: 1.03s\n",
            "110:\tlearn: 5.9457145\ttotal: 597ms\tremaining: 1.02s\n",
            "111:\tlearn: 5.9441127\ttotal: 598ms\tremaining: 1s\n",
            "112:\tlearn: 5.9370002\ttotal: 598ms\tremaining: 990ms\n",
            "113:\tlearn: 5.9288674\ttotal: 599ms\tremaining: 977ms\n",
            "114:\tlearn: 5.9263482\ttotal: 600ms\tremaining: 966ms\n",
            "115:\tlearn: 5.9214662\ttotal: 602ms\tremaining: 955ms\n",
            "116:\tlearn: 5.9177645\ttotal: 603ms\tremaining: 943ms\n",
            "117:\tlearn: 5.9155160\ttotal: 604ms\tremaining: 931ms\n",
            "118:\tlearn: 5.9099213\ttotal: 605ms\tremaining: 920ms\n",
            "119:\tlearn: 5.9051266\ttotal: 606ms\tremaining: 909ms\n",
            "120:\tlearn: 5.8971459\ttotal: 606ms\tremaining: 897ms\n",
            "121:\tlearn: 5.8939337\ttotal: 692ms\tremaining: 1.01s\n",
            "122:\tlearn: 5.8851496\ttotal: 692ms\tremaining: 996ms\n",
            "123:\tlearn: 5.8812897\ttotal: 693ms\tremaining: 984ms\n",
            "124:\tlearn: 5.8793523\ttotal: 694ms\tremaining: 971ms\n",
            "125:\tlearn: 5.8737856\ttotal: 695ms\tremaining: 959ms\n",
            "126:\tlearn: 5.8640056\ttotal: 695ms\tremaining: 947ms\n",
            "127:\tlearn: 5.8592161\ttotal: 696ms\tremaining: 935ms\n",
            "128:\tlearn: 5.8576103\ttotal: 696ms\tremaining: 923ms\n",
            "129:\tlearn: 5.8506644\ttotal: 697ms\tremaining: 912ms\n",
            "130:\tlearn: 5.8461248\ttotal: 698ms\tremaining: 900ms\n",
            "131:\tlearn: 5.8329071\ttotal: 698ms\tremaining: 889ms\n",
            "132:\tlearn: 5.8230698\ttotal: 699ms\tremaining: 878ms\n",
            "133:\tlearn: 5.8152568\ttotal: 700ms\tremaining: 867ms\n",
            "134:\tlearn: 5.8113557\ttotal: 700ms\tremaining: 856ms\n",
            "135:\tlearn: 5.8013110\ttotal: 701ms\tremaining: 845ms\n",
            "136:\tlearn: 5.7971414\ttotal: 707ms\tremaining: 841ms\n",
            "137:\tlearn: 5.7892486\ttotal: 707ms\tremaining: 830ms\n",
            "138:\tlearn: 5.7828023\ttotal: 787ms\tremaining: 911ms\n",
            "139:\tlearn: 5.7772735\ttotal: 787ms\tremaining: 900ms\n",
            "140:\tlearn: 5.7697057\ttotal: 789ms\tremaining: 889ms\n",
            "141:\tlearn: 5.7649456\ttotal: 789ms\tremaining: 878ms\n",
            "142:\tlearn: 5.7609028\ttotal: 790ms\tremaining: 867ms\n",
            "143:\tlearn: 5.7581307\ttotal: 791ms\tremaining: 856ms\n",
            "144:\tlearn: 5.7523102\ttotal: 791ms\tremaining: 846ms\n",
            "145:\tlearn: 5.7489354\ttotal: 792ms\tremaining: 836ms\n",
            "146:\tlearn: 5.7434418\ttotal: 793ms\tremaining: 825ms\n",
            "147:\tlearn: 5.7394504\ttotal: 794ms\tremaining: 816ms\n",
            "148:\tlearn: 5.7339574\ttotal: 795ms\tremaining: 806ms\n",
            "149:\tlearn: 5.7286603\ttotal: 796ms\tremaining: 796ms\n",
            "150:\tlearn: 5.7221738\ttotal: 797ms\tremaining: 786ms\n",
            "151:\tlearn: 5.7135111\ttotal: 797ms\tremaining: 776ms\n",
            "152:\tlearn: 5.7106148\ttotal: 798ms\tremaining: 767ms\n",
            "153:\tlearn: 5.7004833\ttotal: 799ms\tremaining: 757ms\n",
            "154:\tlearn: 5.6947155\ttotal: 881ms\tremaining: 824ms\n",
            "155:\tlearn: 5.6901941\ttotal: 882ms\tremaining: 814ms\n",
            "156:\tlearn: 5.6860542\ttotal: 882ms\tremaining: 804ms\n",
            "157:\tlearn: 5.6804611\ttotal: 883ms\tremaining: 794ms\n",
            "158:\tlearn: 5.6763340\ttotal: 884ms\tremaining: 784ms\n",
            "159:\tlearn: 5.6708251\ttotal: 884ms\tremaining: 774ms\n",
            "160:\tlearn: 5.6661951\ttotal: 885ms\tremaining: 764ms\n",
            "161:\tlearn: 5.6639675\ttotal: 886ms\tremaining: 754ms\n",
            "162:\tlearn: 5.6604587\ttotal: 886ms\tremaining: 745ms\n",
            "163:\tlearn: 5.6546484\ttotal: 887ms\tremaining: 735ms\n",
            "164:\tlearn: 5.6497489\ttotal: 888ms\tremaining: 726ms\n",
            "165:\tlearn: 5.6438446\ttotal: 888ms\tremaining: 717ms\n",
            "166:\tlearn: 5.6367350\ttotal: 889ms\tremaining: 708ms\n",
            "167:\tlearn: 5.6292407\ttotal: 889ms\tremaining: 699ms\n",
            "168:\tlearn: 5.6253767\ttotal: 890ms\tremaining: 690ms\n",
            "169:\tlearn: 5.6185460\ttotal: 890ms\tremaining: 681ms\n",
            "170:\tlearn: 5.6119208\ttotal: 891ms\tremaining: 672ms\n",
            "171:\tlearn: 5.6050549\ttotal: 892ms\tremaining: 664ms\n",
            "172:\tlearn: 5.6018193\ttotal: 976ms\tremaining: 716ms\n",
            "173:\tlearn: 5.5958926\ttotal: 976ms\tremaining: 707ms\n",
            "174:\tlearn: 5.5910574\ttotal: 977ms\tremaining: 698ms\n",
            "175:\tlearn: 5.5871256\ttotal: 978ms\tremaining: 689ms\n",
            "176:\tlearn: 5.5815206\ttotal: 979ms\tremaining: 681ms\n",
            "177:\tlearn: 5.5766347\ttotal: 980ms\tremaining: 672ms\n",
            "178:\tlearn: 5.5674163\ttotal: 980ms\tremaining: 663ms\n",
            "179:\tlearn: 5.5612817\ttotal: 981ms\tremaining: 654ms\n",
            "180:\tlearn: 5.5566344\ttotal: 982ms\tremaining: 646ms\n",
            "181:\tlearn: 5.5514357\ttotal: 984ms\tremaining: 638ms\n",
            "182:\tlearn: 5.5458390\ttotal: 985ms\tremaining: 630ms\n",
            "183:\tlearn: 5.5412160\ttotal: 985ms\tremaining: 621ms\n",
            "184:\tlearn: 5.5381687\ttotal: 992ms\tremaining: 616ms\n",
            "185:\tlearn: 5.5342177\ttotal: 992ms\tremaining: 608ms\n",
            "186:\tlearn: 5.5324947\ttotal: 1.07s\tremaining: 647ms\n",
            "187:\tlearn: 5.5283378\ttotal: 1.07s\tremaining: 639ms\n",
            "188:\tlearn: 5.5225928\ttotal: 1.07s\tremaining: 630ms\n",
            "189:\tlearn: 5.5197475\ttotal: 1.07s\tremaining: 621ms\n",
            "190:\tlearn: 5.5153328\ttotal: 1.07s\tremaining: 613ms\n",
            "191:\tlearn: 5.5114421\ttotal: 1.07s\tremaining: 604ms\n",
            "192:\tlearn: 5.5053209\ttotal: 1.07s\tremaining: 596ms\n",
            "193:\tlearn: 5.5015577\ttotal: 1.07s\tremaining: 588ms\n",
            "194:\tlearn: 5.4991463\ttotal: 1.08s\tremaining: 579ms\n",
            "195:\tlearn: 5.4931372\ttotal: 1.08s\tremaining: 571ms\n",
            "196:\tlearn: 5.4874999\ttotal: 1.08s\tremaining: 563ms\n",
            "197:\tlearn: 5.4827421\ttotal: 1.08s\tremaining: 555ms\n",
            "198:\tlearn: 5.4792122\ttotal: 1.08s\tremaining: 547ms\n",
            "199:\tlearn: 5.4768478\ttotal: 1.08s\tremaining: 540ms\n",
            "200:\tlearn: 5.4733418\ttotal: 1.08s\tremaining: 532ms\n",
            "201:\tlearn: 5.4711339\ttotal: 1.08s\tremaining: 524ms\n",
            "202:\tlearn: 5.4673607\ttotal: 1.08s\tremaining: 517ms\n",
            "203:\tlearn: 5.4634881\ttotal: 1.08s\tremaining: 509ms\n",
            "204:\tlearn: 5.4576869\ttotal: 1.17s\tremaining: 540ms\n",
            "205:\tlearn: 5.4516628\ttotal: 1.17s\tremaining: 532ms\n",
            "206:\tlearn: 5.4480805\ttotal: 1.17s\tremaining: 524ms\n",
            "207:\tlearn: 5.4442186\ttotal: 1.17s\tremaining: 517ms\n",
            "208:\tlearn: 5.4420295\ttotal: 1.17s\tremaining: 509ms\n",
            "209:\tlearn: 5.4393845\ttotal: 1.17s\tremaining: 501ms\n",
            "210:\tlearn: 5.4332723\ttotal: 1.17s\tremaining: 493ms\n",
            "211:\tlearn: 5.4316028\ttotal: 1.17s\tremaining: 486ms\n",
            "212:\tlearn: 5.4289264\ttotal: 1.17s\tremaining: 478ms\n",
            "213:\tlearn: 5.4227999\ttotal: 1.17s\tremaining: 471ms\n",
            "214:\tlearn: 5.4194492\ttotal: 1.17s\tremaining: 464ms\n",
            "215:\tlearn: 5.4124126\ttotal: 1.17s\tremaining: 457ms\n",
            "216:\tlearn: 5.4077916\ttotal: 1.18s\tremaining: 450ms\n",
            "217:\tlearn: 5.4047856\ttotal: 1.18s\tremaining: 443ms\n",
            "218:\tlearn: 5.4026982\ttotal: 1.26s\tremaining: 466ms\n",
            "219:\tlearn: 5.3985460\ttotal: 1.26s\tremaining: 459ms\n",
            "220:\tlearn: 5.3925705\ttotal: 1.26s\tremaining: 451ms\n",
            "221:\tlearn: 5.3912602\ttotal: 1.26s\tremaining: 443ms\n",
            "222:\tlearn: 5.3859809\ttotal: 1.26s\tremaining: 436ms\n",
            "223:\tlearn: 5.3817513\ttotal: 1.26s\tremaining: 429ms\n",
            "224:\tlearn: 5.3772245\ttotal: 1.26s\tremaining: 421ms\n",
            "225:\tlearn: 5.3752289\ttotal: 1.26s\tremaining: 414ms\n",
            "226:\tlearn: 5.3685619\ttotal: 1.26s\tremaining: 407ms\n",
            "227:\tlearn: 5.3656302\ttotal: 1.26s\tremaining: 400ms\n",
            "228:\tlearn: 5.3601436\ttotal: 1.27s\tremaining: 393ms\n",
            "229:\tlearn: 5.3574116\ttotal: 1.27s\tremaining: 386ms\n",
            "230:\tlearn: 5.3498590\ttotal: 1.27s\tremaining: 379ms\n",
            "231:\tlearn: 5.3448039\ttotal: 1.27s\tremaining: 372ms\n",
            "232:\tlearn: 5.3411604\ttotal: 1.27s\tremaining: 365ms\n",
            "233:\tlearn: 5.3378847\ttotal: 1.27s\tremaining: 358ms\n",
            "234:\tlearn: 5.3364273\ttotal: 1.35s\tremaining: 375ms\n",
            "235:\tlearn: 5.3349582\ttotal: 1.35s\tremaining: 368ms\n",
            "236:\tlearn: 5.3328884\ttotal: 1.36s\tremaining: 361ms\n",
            "237:\tlearn: 5.3287374\ttotal: 1.36s\tremaining: 354ms\n",
            "238:\tlearn: 5.3235597\ttotal: 1.36s\tremaining: 347ms\n",
            "239:\tlearn: 5.3197508\ttotal: 1.36s\tremaining: 340ms\n",
            "240:\tlearn: 5.3187330\ttotal: 1.36s\tremaining: 333ms\n",
            "241:\tlearn: 5.3177557\ttotal: 1.36s\tremaining: 326ms\n",
            "242:\tlearn: 5.3124332\ttotal: 1.36s\tremaining: 319ms\n",
            "243:\tlearn: 5.3084158\ttotal: 1.36s\tremaining: 312ms\n",
            "244:\tlearn: 5.3061430\ttotal: 1.36s\tremaining: 306ms\n",
            "245:\tlearn: 5.3031540\ttotal: 1.36s\tremaining: 299ms\n",
            "246:\tlearn: 5.2985801\ttotal: 1.36s\tremaining: 292ms\n",
            "247:\tlearn: 5.2948511\ttotal: 1.36s\tremaining: 286ms\n",
            "248:\tlearn: 5.2922477\ttotal: 1.37s\tremaining: 280ms\n",
            "249:\tlearn: 5.2890606\ttotal: 1.37s\tremaining: 274ms\n",
            "250:\tlearn: 5.2864181\ttotal: 1.45s\tremaining: 283ms\n",
            "251:\tlearn: 5.2835803\ttotal: 1.45s\tremaining: 276ms\n",
            "252:\tlearn: 5.2808153\ttotal: 1.45s\tremaining: 270ms\n",
            "253:\tlearn: 5.2787536\ttotal: 1.45s\tremaining: 263ms\n",
            "254:\tlearn: 5.2750116\ttotal: 1.45s\tremaining: 256ms\n",
            "255:\tlearn: 5.2733264\ttotal: 1.45s\tremaining: 250ms\n",
            "256:\tlearn: 5.2695449\ttotal: 1.45s\tremaining: 243ms\n",
            "257:\tlearn: 5.2662146\ttotal: 1.45s\tremaining: 237ms\n",
            "258:\tlearn: 5.2619975\ttotal: 1.46s\tremaining: 230ms\n",
            "259:\tlearn: 5.2600942\ttotal: 1.46s\tremaining: 224ms\n",
            "260:\tlearn: 5.2585559\ttotal: 1.46s\tremaining: 218ms\n",
            "261:\tlearn: 5.2554569\ttotal: 1.46s\tremaining: 211ms\n",
            "262:\tlearn: 5.2530986\ttotal: 1.46s\tremaining: 205ms\n",
            "263:\tlearn: 5.2520690\ttotal: 1.46s\tremaining: 199ms\n",
            "264:\tlearn: 5.2483771\ttotal: 1.46s\tremaining: 193ms\n",
            "265:\tlearn: 5.2459021\ttotal: 1.46s\tremaining: 187ms\n",
            "266:\tlearn: 5.2438882\ttotal: 1.46s\tremaining: 180ms\n",
            "267:\tlearn: 5.2424417\ttotal: 1.46s\tremaining: 174ms\n",
            "268:\tlearn: 5.2414646\ttotal: 1.54s\tremaining: 178ms\n",
            "269:\tlearn: 5.2399920\ttotal: 1.54s\tremaining: 172ms\n",
            "270:\tlearn: 5.2364071\ttotal: 1.54s\tremaining: 165ms\n",
            "271:\tlearn: 5.2337063\ttotal: 1.55s\tremaining: 159ms\n",
            "272:\tlearn: 5.2303853\ttotal: 1.55s\tremaining: 153ms\n",
            "273:\tlearn: 5.2259513\ttotal: 1.55s\tremaining: 147ms\n",
            "274:\tlearn: 5.2240590\ttotal: 1.55s\tremaining: 141ms\n",
            "275:\tlearn: 5.2198474\ttotal: 1.55s\tremaining: 135ms\n",
            "276:\tlearn: 5.2172614\ttotal: 1.55s\tremaining: 129ms\n",
            "277:\tlearn: 5.2120881\ttotal: 1.55s\tremaining: 123ms\n",
            "278:\tlearn: 5.2086410\ttotal: 1.55s\tremaining: 117ms\n",
            "279:\tlearn: 5.2053887\ttotal: 1.55s\tremaining: 111ms\n",
            "280:\tlearn: 5.2025459\ttotal: 1.56s\tremaining: 105ms\n",
            "281:\tlearn: 5.1971622\ttotal: 1.56s\tremaining: 99.5ms\n",
            "282:\tlearn: 5.1942548\ttotal: 1.64s\tremaining: 98.5ms\n",
            "283:\tlearn: 5.1881389\ttotal: 1.64s\tremaining: 92.4ms\n",
            "284:\tlearn: 5.1842268\ttotal: 1.64s\tremaining: 86.4ms\n",
            "285:\tlearn: 5.1791831\ttotal: 1.64s\tremaining: 80.4ms\n",
            "286:\tlearn: 5.1758073\ttotal: 1.64s\tremaining: 74.4ms\n",
            "287:\tlearn: 5.1737317\ttotal: 1.64s\tremaining: 68.5ms\n",
            "288:\tlearn: 5.1700295\ttotal: 1.64s\tremaining: 62.6ms\n",
            "289:\tlearn: 5.1667388\ttotal: 1.65s\tremaining: 56.7ms\n",
            "290:\tlearn: 5.1614236\ttotal: 1.65s\tremaining: 50.9ms\n",
            "291:\tlearn: 5.1585207\ttotal: 1.65s\tremaining: 45.1ms\n",
            "292:\tlearn: 5.1564556\ttotal: 1.65s\tremaining: 39.4ms\n",
            "293:\tlearn: 5.1539021\ttotal: 1.65s\tremaining: 33.6ms\n",
            "294:\tlearn: 5.1522258\ttotal: 1.65s\tremaining: 28ms\n",
            "295:\tlearn: 5.1501766\ttotal: 1.65s\tremaining: 22.3ms\n",
            "296:\tlearn: 5.1468787\ttotal: 1.65s\tremaining: 16.7ms\n",
            "297:\tlearn: 5.1438253\ttotal: 1.73s\tremaining: 11.6ms\n",
            "298:\tlearn: 5.1395026\ttotal: 1.74s\tremaining: 5.8ms\n",
            "299:\tlearn: 5.1382629\ttotal: 1.74s\tremaining: 0us\n",
            "[CV]  depth=3, learning_rate=0.05, loss_function=MAE, n_estimators=300, random_state=123, score=0.447, total=   3.9s\n",
            "[Parallel(n_jobs=1)]: Done   4 out of   4 | elapsed:    9.6s remaining:    0.0s\n",
            "[CV] depth=3, learning_rate=0.05, loss_function=MAE, n_estimators=300, random_state=123 \n",
            "0:\tlearn: 7.8666657\ttotal: 2.49ms\tremaining: 744ms\n",
            "1:\tlearn: 7.8143783\ttotal: 3.99ms\tremaining: 594ms\n",
            "2:\tlearn: 7.7743838\ttotal: 5.15ms\tremaining: 510ms\n",
            "3:\tlearn: 7.7282700\ttotal: 5.87ms\tremaining: 434ms\n",
            "4:\tlearn: 7.6661949\ttotal: 6.69ms\tremaining: 395ms\n",
            "5:\tlearn: 7.5925644\ttotal: 7.36ms\tremaining: 361ms\n",
            "6:\tlearn: 7.5405543\ttotal: 7.99ms\tremaining: 335ms\n",
            "7:\tlearn: 7.5032745\ttotal: 8.65ms\tremaining: 316ms\n",
            "8:\tlearn: 7.4564738\ttotal: 9.25ms\tremaining: 299ms\n",
            "9:\tlearn: 7.4109528\ttotal: 9.88ms\tremaining: 286ms\n",
            "10:\tlearn: 7.3552999\ttotal: 10.5ms\tremaining: 277ms\n",
            "11:\tlearn: 7.3239781\ttotal: 11.2ms\tremaining: 268ms\n",
            "12:\tlearn: 7.2880004\ttotal: 11.9ms\tremaining: 262ms\n",
            "13:\tlearn: 7.2447358\ttotal: 12.5ms\tremaining: 254ms\n",
            "14:\tlearn: 7.2063808\ttotal: 13.1ms\tremaining: 249ms\n",
            "15:\tlearn: 7.1612532\ttotal: 13.7ms\tremaining: 244ms\n",
            "16:\tlearn: 7.1468495\ttotal: 14.4ms\tremaining: 240ms\n",
            "17:\tlearn: 7.1200589\ttotal: 15.1ms\tremaining: 236ms\n",
            "18:\tlearn: 7.0953310\ttotal: 15.7ms\tremaining: 233ms\n",
            "19:\tlearn: 7.0655153\ttotal: 17.5ms\tremaining: 246ms\n",
            "20:\tlearn: 7.0529767\ttotal: 101ms\tremaining: 1.35s\n",
            "21:\tlearn: 7.0197178\ttotal: 102ms\tremaining: 1.29s\n",
            "22:\tlearn: 7.0073151\ttotal: 103ms\tremaining: 1.24s\n",
            "23:\tlearn: 6.9855023\ttotal: 104ms\tremaining: 1.19s\n",
            "24:\tlearn: 6.9544450\ttotal: 104ms\tremaining: 1.15s\n",
            "25:\tlearn: 6.9368622\ttotal: 105ms\tremaining: 1.1s\n",
            "26:\tlearn: 6.9079040\ttotal: 105ms\tremaining: 1.06s\n",
            "27:\tlearn: 6.8760139\ttotal: 106ms\tremaining: 1.03s\n",
            "28:\tlearn: 6.8463935\ttotal: 107ms\tremaining: 997ms\n",
            "29:\tlearn: 6.8262040\ttotal: 107ms\tremaining: 966ms\n",
            "30:\tlearn: 6.8077553\ttotal: 108ms\tremaining: 936ms\n",
            "31:\tlearn: 6.7901088\ttotal: 108ms\tremaining: 908ms\n",
            "32:\tlearn: 6.7508428\ttotal: 109ms\tremaining: 882ms\n",
            "33:\tlearn: 6.7312313\ttotal: 110ms\tremaining: 858ms\n",
            "34:\tlearn: 6.7009444\ttotal: 110ms\tremaining: 836ms\n",
            "35:\tlearn: 6.6867108\ttotal: 116ms\tremaining: 854ms\n",
            "36:\tlearn: 6.6675772\ttotal: 117ms\tremaining: 833ms\n",
            "37:\tlearn: 6.6506431\ttotal: 197ms\tremaining: 1.36s\n",
            "38:\tlearn: 6.6354787\ttotal: 199ms\tremaining: 1.33s\n",
            "39:\tlearn: 6.6111434\ttotal: 200ms\tremaining: 1.3s\n",
            "40:\tlearn: 6.5929766\ttotal: 201ms\tremaining: 1.27s\n",
            "41:\tlearn: 6.5879898\ttotal: 203ms\tremaining: 1.25s\n",
            "42:\tlearn: 6.5733696\ttotal: 204ms\tremaining: 1.22s\n",
            "43:\tlearn: 6.5374936\ttotal: 206ms\tremaining: 1.2s\n",
            "44:\tlearn: 6.5176323\ttotal: 207ms\tremaining: 1.17s\n",
            "45:\tlearn: 6.5055603\ttotal: 208ms\tremaining: 1.15s\n",
            "46:\tlearn: 6.4903316\ttotal: 209ms\tremaining: 1.13s\n",
            "47:\tlearn: 6.4821375\ttotal: 210ms\tremaining: 1.1s\n",
            "48:\tlearn: 6.4633592\ttotal: 212ms\tremaining: 1.08s\n",
            "49:\tlearn: 6.4478110\ttotal: 292ms\tremaining: 1.46s\n",
            "50:\tlearn: 6.4439433\ttotal: 293ms\tremaining: 1.43s\n",
            "51:\tlearn: 6.4326332\ttotal: 293ms\tremaining: 1.4s\n",
            "52:\tlearn: 6.4181544\ttotal: 294ms\tremaining: 1.37s\n",
            "53:\tlearn: 6.4088958\ttotal: 294ms\tremaining: 1.34s\n",
            "54:\tlearn: 6.3963234\ttotal: 295ms\tremaining: 1.31s\n",
            "55:\tlearn: 6.3808009\ttotal: 296ms\tremaining: 1.29s\n",
            "56:\tlearn: 6.3671212\ttotal: 296ms\tremaining: 1.26s\n",
            "57:\tlearn: 6.3465164\ttotal: 297ms\tremaining: 1.24s\n",
            "58:\tlearn: 6.3355560\ttotal: 298ms\tremaining: 1.22s\n",
            "59:\tlearn: 6.3191122\ttotal: 298ms\tremaining: 1.19s\n",
            "60:\tlearn: 6.3032678\ttotal: 299ms\tremaining: 1.17s\n",
            "61:\tlearn: 6.2874776\ttotal: 300ms\tremaining: 1.15s\n",
            "62:\tlearn: 6.2779021\ttotal: 301ms\tremaining: 1.13s\n",
            "63:\tlearn: 6.2673193\ttotal: 302ms\tremaining: 1.11s\n",
            "64:\tlearn: 6.2617854\ttotal: 303ms\tremaining: 1.09s\n",
            "65:\tlearn: 6.2524459\ttotal: 387ms\tremaining: 1.37s\n",
            "66:\tlearn: 6.2296906\ttotal: 388ms\tremaining: 1.35s\n",
            "67:\tlearn: 6.2186349\ttotal: 389ms\tremaining: 1.33s\n",
            "68:\tlearn: 6.2101500\ttotal: 390ms\tremaining: 1.3s\n",
            "69:\tlearn: 6.2031681\ttotal: 391ms\tremaining: 1.28s\n",
            "70:\tlearn: 6.1874444\ttotal: 391ms\tremaining: 1.26s\n",
            "71:\tlearn: 6.1766441\ttotal: 392ms\tremaining: 1.24s\n",
            "72:\tlearn: 6.1666062\ttotal: 393ms\tremaining: 1.22s\n",
            "73:\tlearn: 6.1613588\ttotal: 393ms\tremaining: 1.2s\n",
            "74:\tlearn: 6.1456252\ttotal: 394ms\tremaining: 1.18s\n",
            "75:\tlearn: 6.1372751\ttotal: 395ms\tremaining: 1.16s\n",
            "76:\tlearn: 6.1293408\ttotal: 395ms\tremaining: 1.14s\n",
            "77:\tlearn: 6.1231206\ttotal: 396ms\tremaining: 1.13s\n",
            "78:\tlearn: 6.1087390\ttotal: 396ms\tremaining: 1.11s\n",
            "79:\tlearn: 6.1046615\ttotal: 398ms\tremaining: 1.09s\n",
            "80:\tlearn: 6.0859627\ttotal: 398ms\tremaining: 1.08s\n",
            "81:\tlearn: 6.0721483\ttotal: 482ms\tremaining: 1.28s\n",
            "82:\tlearn: 6.0585339\ttotal: 482ms\tremaining: 1.26s\n",
            "83:\tlearn: 6.0514543\ttotal: 483ms\tremaining: 1.24s\n",
            "84:\tlearn: 6.0402629\ttotal: 484ms\tremaining: 1.22s\n",
            "85:\tlearn: 6.0316044\ttotal: 484ms\tremaining: 1.21s\n",
            "86:\tlearn: 6.0179588\ttotal: 485ms\tremaining: 1.19s\n",
            "87:\tlearn: 6.0055921\ttotal: 486ms\tremaining: 1.17s\n",
            "88:\tlearn: 5.9961205\ttotal: 486ms\tremaining: 1.15s\n",
            "89:\tlearn: 5.9923559\ttotal: 487ms\tremaining: 1.14s\n",
            "90:\tlearn: 5.9874460\ttotal: 488ms\tremaining: 1.12s\n",
            "91:\tlearn: 5.9740144\ttotal: 488ms\tremaining: 1.1s\n",
            "92:\tlearn: 5.9701703\ttotal: 489ms\tremaining: 1.09s\n",
            "93:\tlearn: 5.9609225\ttotal: 489ms\tremaining: 1.07s\n",
            "94:\tlearn: 5.9530509\ttotal: 490ms\tremaining: 1.06s\n",
            "95:\tlearn: 5.9391283\ttotal: 491ms\tremaining: 1.04s\n",
            "96:\tlearn: 5.9292676\ttotal: 491ms\tremaining: 1.03s\n",
            "97:\tlearn: 5.9183715\ttotal: 492ms\tremaining: 1.01s\n",
            "98:\tlearn: 5.9068671\ttotal: 576ms\tremaining: 1.17s\n",
            "99:\tlearn: 5.9020601\ttotal: 577ms\tremaining: 1.15s\n",
            "100:\tlearn: 5.8959943\ttotal: 577ms\tremaining: 1.14s\n",
            "101:\tlearn: 5.8901667\ttotal: 578ms\tremaining: 1.12s\n",
            "102:\tlearn: 5.8872098\ttotal: 579ms\tremaining: 1.11s\n",
            "103:\tlearn: 5.8741782\ttotal: 580ms\tremaining: 1.09s\n",
            "104:\tlearn: 5.8696203\ttotal: 582ms\tremaining: 1.08s\n",
            "105:\tlearn: 5.8642786\ttotal: 582ms\tremaining: 1.06s\n",
            "106:\tlearn: 5.8532058\ttotal: 583ms\tremaining: 1.05s\n",
            "107:\tlearn: 5.8493902\ttotal: 584ms\tremaining: 1.04s\n",
            "108:\tlearn: 5.8446790\ttotal: 585ms\tremaining: 1.02s\n",
            "109:\tlearn: 5.8370970\ttotal: 585ms\tremaining: 1.01s\n",
            "110:\tlearn: 5.8253655\ttotal: 586ms\tremaining: 998ms\n",
            "111:\tlearn: 5.8201125\ttotal: 587ms\tremaining: 985ms\n",
            "112:\tlearn: 5.8147107\ttotal: 587ms\tremaining: 972ms\n",
            "113:\tlearn: 5.8073649\ttotal: 588ms\tremaining: 959ms\n",
            "114:\tlearn: 5.7998398\ttotal: 588ms\tremaining: 947ms\n",
            "115:\tlearn: 5.7938242\ttotal: 589ms\tremaining: 934ms\n",
            "116:\tlearn: 5.7885384\ttotal: 671ms\tremaining: 1.05s\n",
            "117:\tlearn: 5.7827408\ttotal: 671ms\tremaining: 1.03s\n",
            "118:\tlearn: 5.7746031\ttotal: 672ms\tremaining: 1.02s\n",
            "119:\tlearn: 5.7702440\ttotal: 673ms\tremaining: 1.01s\n",
            "120:\tlearn: 5.7612508\ttotal: 673ms\tremaining: 996ms\n",
            "121:\tlearn: 5.7489005\ttotal: 674ms\tremaining: 983ms\n",
            "122:\tlearn: 5.7391394\ttotal: 675ms\tremaining: 971ms\n",
            "123:\tlearn: 5.7289385\ttotal: 675ms\tremaining: 959ms\n",
            "124:\tlearn: 5.7243088\ttotal: 676ms\tremaining: 946ms\n",
            "125:\tlearn: 5.7211986\ttotal: 677ms\tremaining: 934ms\n",
            "126:\tlearn: 5.7168793\ttotal: 677ms\tremaining: 923ms\n",
            "127:\tlearn: 5.7110435\ttotal: 678ms\tremaining: 911ms\n",
            "128:\tlearn: 5.7037063\ttotal: 679ms\tremaining: 899ms\n",
            "129:\tlearn: 5.6943448\ttotal: 679ms\tremaining: 888ms\n",
            "130:\tlearn: 5.6893982\ttotal: 680ms\tremaining: 877ms\n",
            "131:\tlearn: 5.6859097\ttotal: 680ms\tremaining: 866ms\n",
            "132:\tlearn: 5.6772240\ttotal: 681ms\tremaining: 855ms\n",
            "133:\tlearn: 5.6732560\ttotal: 682ms\tremaining: 845ms\n",
            "134:\tlearn: 5.6702751\ttotal: 766ms\tremaining: 936ms\n",
            "135:\tlearn: 5.6655937\ttotal: 766ms\tremaining: 924ms\n",
            "136:\tlearn: 5.6618428\ttotal: 767ms\tremaining: 913ms\n",
            "137:\tlearn: 5.6560009\ttotal: 768ms\tremaining: 902ms\n",
            "138:\tlearn: 5.6513670\ttotal: 769ms\tremaining: 891ms\n",
            "139:\tlearn: 5.6474260\ttotal: 770ms\tremaining: 880ms\n",
            "140:\tlearn: 5.6439055\ttotal: 770ms\tremaining: 869ms\n",
            "141:\tlearn: 5.6394109\ttotal: 772ms\tremaining: 859ms\n",
            "142:\tlearn: 5.6345252\ttotal: 773ms\tremaining: 848ms\n",
            "143:\tlearn: 5.6264174\ttotal: 773ms\tremaining: 838ms\n",
            "144:\tlearn: 5.6213247\ttotal: 774ms\tremaining: 827ms\n",
            "145:\tlearn: 5.6154359\ttotal: 775ms\tremaining: 817ms\n",
            "146:\tlearn: 5.6094579\ttotal: 775ms\tremaining: 807ms\n",
            "147:\tlearn: 5.6057440\ttotal: 776ms\tremaining: 797ms\n",
            "148:\tlearn: 5.6033050\ttotal: 776ms\tremaining: 787ms\n",
            "149:\tlearn: 5.5995442\ttotal: 777ms\tremaining: 777ms\n",
            "150:\tlearn: 5.5969193\ttotal: 777ms\tremaining: 767ms\n",
            "151:\tlearn: 5.5921405\ttotal: 778ms\tremaining: 758ms\n",
            "152:\tlearn: 5.5870683\ttotal: 860ms\tremaining: 826ms\n",
            "153:\tlearn: 5.5836345\ttotal: 861ms\tremaining: 816ms\n",
            "154:\tlearn: 5.5787536\ttotal: 862ms\tremaining: 806ms\n",
            "155:\tlearn: 5.5757925\ttotal: 862ms\tremaining: 796ms\n",
            "156:\tlearn: 5.5682883\ttotal: 863ms\tremaining: 786ms\n",
            "157:\tlearn: 5.5640395\ttotal: 864ms\tremaining: 776ms\n",
            "158:\tlearn: 5.5608586\ttotal: 864ms\tremaining: 766ms\n",
            "159:\tlearn: 5.5568918\ttotal: 865ms\tremaining: 757ms\n",
            "160:\tlearn: 5.5545138\ttotal: 866ms\tremaining: 748ms\n",
            "161:\tlearn: 5.5463178\ttotal: 867ms\tremaining: 738ms\n",
            "162:\tlearn: 5.5426045\ttotal: 867ms\tremaining: 729ms\n",
            "163:\tlearn: 5.5349092\ttotal: 868ms\tremaining: 720ms\n",
            "164:\tlearn: 5.5246564\ttotal: 868ms\tremaining: 710ms\n",
            "165:\tlearn: 5.5217018\ttotal: 869ms\tremaining: 701ms\n",
            "166:\tlearn: 5.5164874\ttotal: 869ms\tremaining: 692ms\n",
            "167:\tlearn: 5.5102073\ttotal: 870ms\tremaining: 684ms\n",
            "168:\tlearn: 5.5062934\ttotal: 955ms\tremaining: 740ms\n",
            "169:\tlearn: 5.4985833\ttotal: 956ms\tremaining: 731ms\n",
            "170:\tlearn: 5.4944677\ttotal: 956ms\tremaining: 721ms\n",
            "171:\tlearn: 5.4921691\ttotal: 958ms\tremaining: 713ms\n",
            "172:\tlearn: 5.4866885\ttotal: 959ms\tremaining: 704ms\n",
            "173:\tlearn: 5.4795173\ttotal: 960ms\tremaining: 695ms\n",
            "174:\tlearn: 5.4746561\ttotal: 961ms\tremaining: 686ms\n",
            "175:\tlearn: 5.4698246\ttotal: 961ms\tremaining: 677ms\n",
            "176:\tlearn: 5.4648251\ttotal: 963ms\tremaining: 669ms\n",
            "177:\tlearn: 5.4623655\ttotal: 964ms\tremaining: 660ms\n",
            "178:\tlearn: 5.4558956\ttotal: 964ms\tremaining: 652ms\n",
            "179:\tlearn: 5.4512151\ttotal: 965ms\tremaining: 643ms\n",
            "180:\tlearn: 5.4451861\ttotal: 965ms\tremaining: 635ms\n",
            "181:\tlearn: 5.4408600\ttotal: 966ms\tremaining: 626ms\n",
            "182:\tlearn: 5.4375793\ttotal: 967ms\tremaining: 618ms\n",
            "183:\tlearn: 5.4331424\ttotal: 1.05s\tremaining: 662ms\n",
            "184:\tlearn: 5.4271663\ttotal: 1.05s\tremaining: 653ms\n",
            "185:\tlearn: 5.4228814\ttotal: 1.05s\tremaining: 644ms\n",
            "186:\tlearn: 5.4180909\ttotal: 1.05s\tremaining: 636ms\n",
            "187:\tlearn: 5.4162649\ttotal: 1.05s\tremaining: 627ms\n",
            "188:\tlearn: 5.4126111\ttotal: 1.05s\tremaining: 618ms\n",
            "189:\tlearn: 5.4051912\ttotal: 1.05s\tremaining: 610ms\n",
            "190:\tlearn: 5.4020570\ttotal: 1.05s\tremaining: 602ms\n",
            "191:\tlearn: 5.3969924\ttotal: 1.05s\tremaining: 593ms\n",
            "192:\tlearn: 5.3932376\ttotal: 1.05s\tremaining: 585ms\n",
            "193:\tlearn: 5.3900851\ttotal: 1.06s\tremaining: 577ms\n",
            "194:\tlearn: 5.3878719\ttotal: 1.06s\tremaining: 569ms\n",
            "195:\tlearn: 5.3840439\ttotal: 1.06s\tremaining: 561ms\n",
            "196:\tlearn: 5.3800943\ttotal: 1.06s\tremaining: 553ms\n",
            "197:\tlearn: 5.3783355\ttotal: 1.06s\tremaining: 545ms\n",
            "198:\tlearn: 5.3741241\ttotal: 1.06s\tremaining: 537ms\n",
            "199:\tlearn: 5.3708731\ttotal: 1.06s\tremaining: 530ms\n",
            "200:\tlearn: 5.3667375\ttotal: 1.06s\tremaining: 522ms\n",
            "201:\tlearn: 5.3630019\ttotal: 1.14s\tremaining: 555ms\n",
            "202:\tlearn: 5.3595599\ttotal: 1.15s\tremaining: 547ms\n",
            "203:\tlearn: 5.3559848\ttotal: 1.15s\tremaining: 539ms\n",
            "204:\tlearn: 5.3513892\ttotal: 1.15s\tremaining: 531ms\n",
            "205:\tlearn: 5.3474900\ttotal: 1.15s\tremaining: 523ms\n",
            "206:\tlearn: 5.3457013\ttotal: 1.15s\tremaining: 516ms\n",
            "207:\tlearn: 5.3403759\ttotal: 1.15s\tremaining: 508ms\n",
            "208:\tlearn: 5.3371094\ttotal: 1.15s\tremaining: 500ms\n",
            "209:\tlearn: 5.3317059\ttotal: 1.15s\tremaining: 493ms\n",
            "210:\tlearn: 5.3291733\ttotal: 1.15s\tremaining: 485ms\n",
            "211:\tlearn: 5.3251967\ttotal: 1.15s\tremaining: 478ms\n",
            "212:\tlearn: 5.3172859\ttotal: 1.15s\tremaining: 470ms\n",
            "213:\tlearn: 5.3132642\ttotal: 1.15s\tremaining: 463ms\n",
            "214:\tlearn: 5.3098253\ttotal: 1.15s\tremaining: 456ms\n",
            "215:\tlearn: 5.3070807\ttotal: 1.15s\tremaining: 449ms\n",
            "216:\tlearn: 5.3038974\ttotal: 1.15s\tremaining: 441ms\n",
            "217:\tlearn: 5.2983504\ttotal: 1.16s\tremaining: 435ms\n",
            "218:\tlearn: 5.2930256\ttotal: 1.16s\tremaining: 428ms\n",
            "219:\tlearn: 5.2854589\ttotal: 1.24s\tremaining: 450ms\n",
            "220:\tlearn: 5.2816073\ttotal: 1.24s\tremaining: 443ms\n",
            "221:\tlearn: 5.2756047\ttotal: 1.24s\tremaining: 436ms\n",
            "222:\tlearn: 5.2700696\ttotal: 1.24s\tremaining: 428ms\n",
            "223:\tlearn: 5.2674202\ttotal: 1.24s\tremaining: 421ms\n",
            "224:\tlearn: 5.2644501\ttotal: 1.24s\tremaining: 414ms\n",
            "225:\tlearn: 5.2602441\ttotal: 1.24s\tremaining: 407ms\n",
            "226:\tlearn: 5.2560039\ttotal: 1.24s\tremaining: 400ms\n",
            "227:\tlearn: 5.2538324\ttotal: 1.24s\tremaining: 393ms\n",
            "228:\tlearn: 5.2486045\ttotal: 1.24s\tremaining: 386ms\n",
            "229:\tlearn: 5.2403841\ttotal: 1.24s\tremaining: 379ms\n",
            "230:\tlearn: 5.2360909\ttotal: 1.25s\tremaining: 372ms\n",
            "231:\tlearn: 5.2330722\ttotal: 1.25s\tremaining: 365ms\n",
            "232:\tlearn: 5.2287152\ttotal: 1.25s\tremaining: 359ms\n",
            "233:\tlearn: 5.2264574\ttotal: 1.25s\tremaining: 352ms\n",
            "234:\tlearn: 5.2214242\ttotal: 1.25s\tremaining: 345ms\n",
            "235:\tlearn: 5.2167476\ttotal: 1.33s\tremaining: 362ms\n",
            "236:\tlearn: 5.2126831\ttotal: 1.33s\tremaining: 355ms\n",
            "237:\tlearn: 5.2087270\ttotal: 1.33s\tremaining: 348ms\n",
            "238:\tlearn: 5.2056764\ttotal: 1.33s\tremaining: 341ms\n",
            "239:\tlearn: 5.2036559\ttotal: 1.34s\tremaining: 334ms\n",
            "240:\tlearn: 5.2022765\ttotal: 1.34s\tremaining: 327ms\n",
            "241:\tlearn: 5.1989311\ttotal: 1.34s\tremaining: 321ms\n",
            "242:\tlearn: 5.1954780\ttotal: 1.34s\tremaining: 314ms\n",
            "243:\tlearn: 5.1934949\ttotal: 1.34s\tremaining: 307ms\n",
            "244:\tlearn: 5.1907743\ttotal: 1.34s\tremaining: 301ms\n",
            "245:\tlearn: 5.1862983\ttotal: 1.34s\tremaining: 294ms\n",
            "246:\tlearn: 5.1816362\ttotal: 1.34s\tremaining: 288ms\n",
            "247:\tlearn: 5.1798113\ttotal: 1.34s\tremaining: 281ms\n",
            "248:\tlearn: 5.1746576\ttotal: 1.34s\tremaining: 275ms\n",
            "249:\tlearn: 5.1696558\ttotal: 1.34s\tremaining: 269ms\n",
            "250:\tlearn: 5.1660512\ttotal: 1.34s\tremaining: 263ms\n",
            "251:\tlearn: 5.1620759\ttotal: 1.34s\tremaining: 256ms\n",
            "252:\tlearn: 5.1613589\ttotal: 1.35s\tremaining: 250ms\n",
            "253:\tlearn: 5.1595179\ttotal: 1.43s\tremaining: 259ms\n",
            "254:\tlearn: 5.1564296\ttotal: 1.43s\tremaining: 252ms\n",
            "255:\tlearn: 5.1473527\ttotal: 1.43s\tremaining: 246ms\n",
            "256:\tlearn: 5.1453158\ttotal: 1.43s\tremaining: 239ms\n",
            "257:\tlearn: 5.1430662\ttotal: 1.43s\tremaining: 233ms\n",
            "258:\tlearn: 5.1377526\ttotal: 1.43s\tremaining: 227ms\n",
            "259:\tlearn: 5.1313988\ttotal: 1.43s\tremaining: 220ms\n",
            "260:\tlearn: 5.1292703\ttotal: 1.43s\tremaining: 214ms\n",
            "261:\tlearn: 5.1265283\ttotal: 1.43s\tremaining: 208ms\n",
            "262:\tlearn: 5.1232819\ttotal: 1.44s\tremaining: 202ms\n",
            "263:\tlearn: 5.1219976\ttotal: 1.44s\tremaining: 196ms\n",
            "264:\tlearn: 5.1200219\ttotal: 1.44s\tremaining: 190ms\n",
            "265:\tlearn: 5.1182640\ttotal: 1.44s\tremaining: 184ms\n",
            "266:\tlearn: 5.1152297\ttotal: 1.44s\tremaining: 178ms\n",
            "267:\tlearn: 5.1122590\ttotal: 1.44s\tremaining: 172ms\n",
            "268:\tlearn: 5.1113463\ttotal: 1.44s\tremaining: 166ms\n",
            "269:\tlearn: 5.1082504\ttotal: 1.44s\tremaining: 160ms\n",
            "270:\tlearn: 5.1054663\ttotal: 1.52s\tremaining: 163ms\n",
            "271:\tlearn: 5.1010166\ttotal: 1.52s\tremaining: 157ms\n",
            "272:\tlearn: 5.0980403\ttotal: 1.52s\tremaining: 151ms\n",
            "273:\tlearn: 5.0953312\ttotal: 1.53s\tremaining: 145ms\n",
            "274:\tlearn: 5.0926520\ttotal: 1.53s\tremaining: 139ms\n",
            "275:\tlearn: 5.0904266\ttotal: 1.53s\tremaining: 133ms\n",
            "276:\tlearn: 5.0884170\ttotal: 1.53s\tremaining: 127ms\n",
            "277:\tlearn: 5.0861893\ttotal: 1.53s\tremaining: 121ms\n",
            "278:\tlearn: 5.0842634\ttotal: 1.53s\tremaining: 115ms\n",
            "279:\tlearn: 5.0811533\ttotal: 1.53s\tremaining: 110ms\n",
            "280:\tlearn: 5.0789587\ttotal: 1.53s\tremaining: 104ms\n",
            "281:\tlearn: 5.0764621\ttotal: 1.54s\tremaining: 98.4ms\n",
            "282:\tlearn: 5.0734917\ttotal: 1.54s\tremaining: 92.6ms\n",
            "283:\tlearn: 5.0715495\ttotal: 1.62s\tremaining: 91.2ms\n",
            "284:\tlearn: 5.0685572\ttotal: 1.62s\tremaining: 85.3ms\n",
            "285:\tlearn: 5.0668158\ttotal: 1.62s\tremaining: 79.4ms\n",
            "286:\tlearn: 5.0649813\ttotal: 1.62s\tremaining: 73.5ms\n",
            "287:\tlearn: 5.0630267\ttotal: 1.62s\tremaining: 67.6ms\n",
            "288:\tlearn: 5.0619608\ttotal: 1.62s\tremaining: 61.8ms\n",
            "289:\tlearn: 5.0586596\ttotal: 1.63s\tremaining: 56ms\n",
            "290:\tlearn: 5.0564580\ttotal: 1.63s\tremaining: 50.3ms\n",
            "291:\tlearn: 5.0554118\ttotal: 1.63s\tremaining: 44.6ms\n",
            "292:\tlearn: 5.0525902\ttotal: 1.63s\tremaining: 38.9ms\n",
            "293:\tlearn: 5.0516938\ttotal: 1.63s\tremaining: 33.2ms\n",
            "294:\tlearn: 5.0505100\ttotal: 1.63s\tremaining: 27.6ms\n",
            "295:\tlearn: 5.0466378\ttotal: 1.63s\tremaining: 22ms\n",
            "296:\tlearn: 5.0450021\ttotal: 1.63s\tremaining: 16.5ms\n",
            "297:\tlearn: 5.0424618\ttotal: 1.63s\tremaining: 11ms\n",
            "298:\tlearn: 5.0396482\ttotal: 1.63s\tremaining: 5.46ms\n",
            "299:\tlearn: 5.0363833\ttotal: 1.63s\tremaining: 0us\n",
            "[CV]  depth=3, learning_rate=0.05, loss_function=MAE, n_estimators=300, random_state=123, score=0.395, total=   3.0s\n",
            "[Parallel(n_jobs=1)]: Done   5 out of   5 | elapsed:   12.6s remaining:    0.0s\n",
            "[CV] depth=3, learning_rate=0.05, loss_function=MAE, n_estimators=300, random_state=123 \n",
            "0:\tlearn: 8.1151193\ttotal: 850us\tremaining: 254ms\n",
            "1:\tlearn: 8.0555896\ttotal: 1.62ms\tremaining: 241ms\n",
            "2:\tlearn: 7.9953953\ttotal: 2.29ms\tremaining: 227ms\n",
            "3:\tlearn: 7.9494882\ttotal: 2.88ms\tremaining: 213ms\n",
            "4:\tlearn: 7.8966394\ttotal: 3.53ms\tremaining: 208ms\n",
            "5:\tlearn: 7.8503250\ttotal: 4.16ms\tremaining: 204ms\n",
            "6:\tlearn: 7.8049772\ttotal: 4.8ms\tremaining: 201ms\n",
            "7:\tlearn: 7.7732824\ttotal: 5.39ms\tremaining: 197ms\n",
            "8:\tlearn: 7.7318269\ttotal: 5.98ms\tremaining: 193ms\n",
            "9:\tlearn: 7.6490211\ttotal: 6.53ms\tremaining: 189ms\n",
            "10:\tlearn: 7.6241829\ttotal: 7.94ms\tremaining: 209ms\n",
            "11:\tlearn: 7.5553308\ttotal: 8.79ms\tremaining: 211ms\n",
            "12:\tlearn: 7.5272793\ttotal: 9.62ms\tremaining: 212ms\n",
            "13:\tlearn: 7.4719928\ttotal: 10.5ms\tremaining: 214ms\n",
            "14:\tlearn: 7.3987467\ttotal: 11.1ms\tremaining: 211ms\n",
            "15:\tlearn: 7.3661253\ttotal: 32.3ms\tremaining: 574ms\n",
            "16:\tlearn: 7.3281423\ttotal: 33ms\tremaining: 550ms\n",
            "17:\tlearn: 7.2960699\ttotal: 33.6ms\tremaining: 527ms\n",
            "18:\tlearn: 7.2318202\ttotal: 34.3ms\tremaining: 507ms\n",
            "19:\tlearn: 7.1885998\ttotal: 34.9ms\tremaining: 488ms\n",
            "20:\tlearn: 7.1272857\ttotal: 35.5ms\tremaining: 472ms\n",
            "21:\tlearn: 7.0763242\ttotal: 36.1ms\tremaining: 456ms\n",
            "22:\tlearn: 7.0516189\ttotal: 36.7ms\tremaining: 442ms\n",
            "23:\tlearn: 7.0360316\ttotal: 37.3ms\tremaining: 429ms\n",
            "24:\tlearn: 7.0177786\ttotal: 37.9ms\tremaining: 416ms\n",
            "25:\tlearn: 6.9964647\ttotal: 38.5ms\tremaining: 406ms\n",
            "26:\tlearn: 6.9800651\ttotal: 39.1ms\tremaining: 396ms\n",
            "27:\tlearn: 6.9621077\ttotal: 39.8ms\tremaining: 386ms\n",
            "28:\tlearn: 6.8975193\ttotal: 40.4ms\tremaining: 377ms\n",
            "29:\tlearn: 6.8567933\ttotal: 41ms\tremaining: 369ms\n",
            "30:\tlearn: 6.8307222\ttotal: 41.6ms\tremaining: 361ms\n",
            "31:\tlearn: 6.8054092\ttotal: 42.2ms\tremaining: 353ms\n",
            "32:\tlearn: 6.7914495\ttotal: 127ms\tremaining: 1.03s\n",
            "33:\tlearn: 6.7733824\ttotal: 128ms\tremaining: 1000ms\n",
            "34:\tlearn: 6.7568648\ttotal: 128ms\tremaining: 972ms\n",
            "35:\tlearn: 6.7457012\ttotal: 129ms\tremaining: 947ms\n",
            "36:\tlearn: 6.7303958\ttotal: 130ms\tremaining: 923ms\n",
            "37:\tlearn: 6.7063329\ttotal: 130ms\tremaining: 899ms\n",
            "38:\tlearn: 6.6918091\ttotal: 131ms\tremaining: 877ms\n",
            "39:\tlearn: 6.6751823\ttotal: 132ms\tremaining: 856ms\n",
            "40:\tlearn: 6.6427736\ttotal: 132ms\tremaining: 836ms\n",
            "41:\tlearn: 6.6261905\ttotal: 133ms\tremaining: 817ms\n",
            "42:\tlearn: 6.6054154\ttotal: 134ms\tremaining: 798ms\n",
            "43:\tlearn: 6.5932444\ttotal: 134ms\tremaining: 781ms\n",
            "44:\tlearn: 6.5847110\ttotal: 135ms\tremaining: 764ms\n",
            "45:\tlearn: 6.5624311\ttotal: 135ms\tremaining: 747ms\n",
            "46:\tlearn: 6.5470104\ttotal: 136ms\tremaining: 731ms\n",
            "47:\tlearn: 6.5155049\ttotal: 136ms\tremaining: 716ms\n",
            "48:\tlearn: 6.5110022\ttotal: 222ms\tremaining: 1.14s\n",
            "49:\tlearn: 6.5034109\ttotal: 223ms\tremaining: 1.12s\n",
            "50:\tlearn: 6.4851011\ttotal: 224ms\tremaining: 1.09s\n",
            "51:\tlearn: 6.4696704\ttotal: 225ms\tremaining: 1.07s\n",
            "52:\tlearn: 6.4652712\ttotal: 225ms\tremaining: 1.05s\n",
            "53:\tlearn: 6.4531638\ttotal: 226ms\tremaining: 1.03s\n",
            "54:\tlearn: 6.4336133\ttotal: 226ms\tremaining: 1.01s\n",
            "55:\tlearn: 6.4258835\ttotal: 227ms\tremaining: 989ms\n",
            "56:\tlearn: 6.4044420\ttotal: 228ms\tremaining: 970ms\n",
            "57:\tlearn: 6.3974874\ttotal: 228ms\tremaining: 952ms\n",
            "58:\tlearn: 6.3851325\ttotal: 229ms\tremaining: 936ms\n",
            "59:\tlearn: 6.3752849\ttotal: 230ms\tremaining: 920ms\n",
            "60:\tlearn: 6.3558434\ttotal: 231ms\tremaining: 904ms\n",
            "61:\tlearn: 6.3480333\ttotal: 231ms\tremaining: 888ms\n",
            "62:\tlearn: 6.3417907\ttotal: 232ms\tremaining: 873ms\n",
            "63:\tlearn: 6.3315793\ttotal: 238ms\tremaining: 877ms\n",
            "64:\tlearn: 6.3276615\ttotal: 239ms\tremaining: 862ms\n",
            "65:\tlearn: 6.3230626\ttotal: 318ms\tremaining: 1.13s\n",
            "66:\tlearn: 6.3101382\ttotal: 318ms\tremaining: 1.11s\n",
            "67:\tlearn: 6.2937796\ttotal: 319ms\tremaining: 1.09s\n",
            "68:\tlearn: 6.2696095\ttotal: 319ms\tremaining: 1.07s\n",
            "69:\tlearn: 6.2434179\ttotal: 320ms\tremaining: 1.05s\n",
            "70:\tlearn: 6.2233352\ttotal: 321ms\tremaining: 1.03s\n",
            "71:\tlearn: 6.2195682\ttotal: 321ms\tremaining: 1.02s\n",
            "72:\tlearn: 6.2113732\ttotal: 322ms\tremaining: 1s\n",
            "73:\tlearn: 6.1997558\ttotal: 323ms\tremaining: 985ms\n",
            "74:\tlearn: 6.1894311\ttotal: 323ms\tremaining: 970ms\n",
            "75:\tlearn: 6.1829074\ttotal: 324ms\tremaining: 955ms\n",
            "76:\tlearn: 6.1759046\ttotal: 325ms\tremaining: 940ms\n",
            "77:\tlearn: 6.1666569\ttotal: 325ms\tremaining: 926ms\n",
            "78:\tlearn: 6.1528137\ttotal: 326ms\tremaining: 912ms\n",
            "79:\tlearn: 6.1343826\ttotal: 327ms\tremaining: 898ms\n",
            "80:\tlearn: 6.1295187\ttotal: 327ms\tremaining: 885ms\n",
            "81:\tlearn: 6.1082147\ttotal: 328ms\tremaining: 872ms\n",
            "82:\tlearn: 6.0923784\ttotal: 412ms\tremaining: 1.08s\n",
            "83:\tlearn: 6.0787980\ttotal: 414ms\tremaining: 1.06s\n",
            "84:\tlearn: 6.0661175\ttotal: 415ms\tremaining: 1.05s\n",
            "85:\tlearn: 6.0617460\ttotal: 415ms\tremaining: 1.03s\n",
            "86:\tlearn: 6.0483239\ttotal: 416ms\tremaining: 1.02s\n",
            "87:\tlearn: 6.0410655\ttotal: 417ms\tremaining: 1s\n",
            "88:\tlearn: 6.0349939\ttotal: 417ms\tremaining: 989ms\n",
            "89:\tlearn: 6.0291555\ttotal: 418ms\tremaining: 975ms\n",
            "90:\tlearn: 6.0162422\ttotal: 418ms\tremaining: 961ms\n",
            "91:\tlearn: 6.0069932\ttotal: 419ms\tremaining: 947ms\n",
            "92:\tlearn: 5.9960060\ttotal: 420ms\tremaining: 934ms\n",
            "93:\tlearn: 5.9880338\ttotal: 420ms\tremaining: 921ms\n",
            "94:\tlearn: 5.9817999\ttotal: 421ms\tremaining: 908ms\n",
            "95:\tlearn: 5.9745370\ttotal: 421ms\tremaining: 895ms\n",
            "96:\tlearn: 5.9703190\ttotal: 422ms\tremaining: 883ms\n",
            "97:\tlearn: 5.9675286\ttotal: 508ms\tremaining: 1.05s\n",
            "98:\tlearn: 5.9577781\ttotal: 508ms\tremaining: 1.03s\n",
            "99:\tlearn: 5.9553465\ttotal: 509ms\tremaining: 1.02s\n",
            "100:\tlearn: 5.9518488\ttotal: 510ms\tremaining: 1s\n",
            "101:\tlearn: 5.9496809\ttotal: 510ms\tremaining: 990ms\n",
            "102:\tlearn: 5.9470669\ttotal: 511ms\tremaining: 977ms\n",
            "103:\tlearn: 5.9398827\ttotal: 511ms\tremaining: 964ms\n",
            "104:\tlearn: 5.9282484\ttotal: 512ms\tremaining: 951ms\n",
            "105:\tlearn: 5.9228866\ttotal: 512ms\tremaining: 938ms\n",
            "106:\tlearn: 5.9217167\ttotal: 513ms\tremaining: 925ms\n",
            "107:\tlearn: 5.9090583\ttotal: 514ms\tremaining: 913ms\n",
            "108:\tlearn: 5.8993140\ttotal: 514ms\tremaining: 901ms\n",
            "109:\tlearn: 5.8913030\ttotal: 515ms\tremaining: 889ms\n",
            "110:\tlearn: 5.8855698\ttotal: 516ms\tremaining: 879ms\n",
            "111:\tlearn: 5.8766130\ttotal: 517ms\tremaining: 867ms\n",
            "112:\tlearn: 5.8699558\ttotal: 517ms\tremaining: 856ms\n",
            "113:\tlearn: 5.8607487\ttotal: 518ms\tremaining: 845ms\n",
            "114:\tlearn: 5.8548975\ttotal: 602ms\tremaining: 969ms\n",
            "115:\tlearn: 5.8472654\ttotal: 603ms\tremaining: 957ms\n",
            "116:\tlearn: 5.8371227\ttotal: 604ms\tremaining: 944ms\n",
            "117:\tlearn: 5.8285804\ttotal: 604ms\tremaining: 932ms\n",
            "118:\tlearn: 5.8219684\ttotal: 606ms\tremaining: 921ms\n",
            "119:\tlearn: 5.8130727\ttotal: 607ms\tremaining: 910ms\n",
            "120:\tlearn: 5.8019192\ttotal: 608ms\tremaining: 899ms\n",
            "121:\tlearn: 5.7971517\ttotal: 608ms\tremaining: 888ms\n",
            "122:\tlearn: 5.7964302\ttotal: 609ms\tremaining: 877ms\n",
            "123:\tlearn: 5.7878789\ttotal: 610ms\tremaining: 866ms\n",
            "124:\tlearn: 5.7794313\ttotal: 611ms\tremaining: 855ms\n",
            "125:\tlearn: 5.7710844\ttotal: 612ms\tremaining: 846ms\n",
            "126:\tlearn: 5.7609863\ttotal: 613ms\tremaining: 836ms\n",
            "127:\tlearn: 5.7558997\ttotal: 615ms\tremaining: 826ms\n",
            "128:\tlearn: 5.7432404\ttotal: 698ms\tremaining: 925ms\n",
            "129:\tlearn: 5.7380813\ttotal: 699ms\tremaining: 914ms\n",
            "130:\tlearn: 5.7285500\ttotal: 699ms\tremaining: 902ms\n",
            "131:\tlearn: 5.7202041\ttotal: 700ms\tremaining: 891ms\n",
            "132:\tlearn: 5.7066447\ttotal: 700ms\tremaining: 879ms\n",
            "133:\tlearn: 5.7012518\ttotal: 701ms\tremaining: 868ms\n",
            "134:\tlearn: 5.6928702\ttotal: 702ms\tremaining: 857ms\n",
            "135:\tlearn: 5.6889906\ttotal: 702ms\tremaining: 847ms\n",
            "136:\tlearn: 5.6807345\ttotal: 703ms\tremaining: 836ms\n",
            "137:\tlearn: 5.6756824\ttotal: 703ms\tremaining: 826ms\n",
            "138:\tlearn: 5.6716444\ttotal: 704ms\tremaining: 815ms\n",
            "139:\tlearn: 5.6708149\ttotal: 704ms\tremaining: 805ms\n",
            "140:\tlearn: 5.6646962\ttotal: 705ms\tremaining: 795ms\n",
            "141:\tlearn: 5.6578883\ttotal: 706ms\tremaining: 785ms\n",
            "142:\tlearn: 5.6496724\ttotal: 706ms\tremaining: 775ms\n",
            "143:\tlearn: 5.6433817\ttotal: 707ms\tremaining: 766ms\n",
            "144:\tlearn: 5.6336828\ttotal: 708ms\tremaining: 756ms\n",
            "145:\tlearn: 5.6280601\ttotal: 708ms\tremaining: 747ms\n",
            "146:\tlearn: 5.6220829\ttotal: 714ms\tremaining: 743ms\n",
            "147:\tlearn: 5.6158412\ttotal: 792ms\tremaining: 814ms\n",
            "148:\tlearn: 5.6109236\ttotal: 793ms\tremaining: 804ms\n",
            "149:\tlearn: 5.6011968\ttotal: 794ms\tremaining: 794ms\n",
            "150:\tlearn: 5.5961257\ttotal: 794ms\tremaining: 784ms\n",
            "151:\tlearn: 5.5912354\ttotal: 795ms\tremaining: 774ms\n",
            "152:\tlearn: 5.5880372\ttotal: 796ms\tremaining: 764ms\n",
            "153:\tlearn: 5.5831364\ttotal: 797ms\tremaining: 755ms\n",
            "154:\tlearn: 5.5762567\ttotal: 798ms\tremaining: 747ms\n",
            "155:\tlearn: 5.5722520\ttotal: 799ms\tremaining: 737ms\n",
            "156:\tlearn: 5.5649310\ttotal: 800ms\tremaining: 729ms\n",
            "157:\tlearn: 5.5573050\ttotal: 801ms\tremaining: 720ms\n",
            "158:\tlearn: 5.5518807\ttotal: 801ms\tremaining: 711ms\n",
            "159:\tlearn: 5.5441683\ttotal: 802ms\tremaining: 702ms\n",
            "160:\tlearn: 5.5386798\ttotal: 802ms\tremaining: 693ms\n",
            "161:\tlearn: 5.5331955\ttotal: 888ms\tremaining: 756ms\n",
            "162:\tlearn: 5.5270122\ttotal: 888ms\tremaining: 747ms\n",
            "163:\tlearn: 5.5200420\ttotal: 889ms\tremaining: 737ms\n",
            "164:\tlearn: 5.5170097\ttotal: 890ms\tremaining: 728ms\n",
            "165:\tlearn: 5.5132548\ttotal: 890ms\tremaining: 719ms\n",
            "166:\tlearn: 5.5083124\ttotal: 891ms\tremaining: 710ms\n",
            "167:\tlearn: 5.5011549\ttotal: 892ms\tremaining: 700ms\n",
            "168:\tlearn: 5.4930719\ttotal: 892ms\tremaining: 692ms\n",
            "169:\tlearn: 5.4847347\ttotal: 893ms\tremaining: 683ms\n",
            "170:\tlearn: 5.4819959\ttotal: 893ms\tremaining: 674ms\n",
            "171:\tlearn: 5.4783794\ttotal: 894ms\tremaining: 665ms\n",
            "172:\tlearn: 5.4746175\ttotal: 895ms\tremaining: 657ms\n",
            "173:\tlearn: 5.4669932\ttotal: 895ms\tremaining: 648ms\n",
            "174:\tlearn: 5.4619541\ttotal: 896ms\tremaining: 640ms\n",
            "175:\tlearn: 5.4546200\ttotal: 896ms\tremaining: 631ms\n",
            "176:\tlearn: 5.4491069\ttotal: 983ms\tremaining: 683ms\n",
            "177:\tlearn: 5.4413895\ttotal: 983ms\tremaining: 674ms\n",
            "178:\tlearn: 5.4392633\ttotal: 984ms\tremaining: 665ms\n",
            "179:\tlearn: 5.4353380\ttotal: 985ms\tremaining: 657ms\n",
            "180:\tlearn: 5.4319601\ttotal: 986ms\tremaining: 648ms\n",
            "181:\tlearn: 5.4264047\ttotal: 986ms\tremaining: 639ms\n",
            "182:\tlearn: 5.4232642\ttotal: 987ms\tremaining: 631ms\n",
            "183:\tlearn: 5.4156860\ttotal: 987ms\tremaining: 622ms\n",
            "184:\tlearn: 5.4072418\ttotal: 989ms\tremaining: 615ms\n",
            "185:\tlearn: 5.4042923\ttotal: 990ms\tremaining: 607ms\n",
            "186:\tlearn: 5.3953327\ttotal: 991ms\tremaining: 599ms\n",
            "187:\tlearn: 5.3937486\ttotal: 992ms\tremaining: 591ms\n",
            "188:\tlearn: 5.3900629\ttotal: 993ms\tremaining: 583ms\n",
            "189:\tlearn: 5.3828717\ttotal: 994ms\tremaining: 575ms\n",
            "190:\tlearn: 5.3773739\ttotal: 995ms\tremaining: 568ms\n",
            "191:\tlearn: 5.3705330\ttotal: 1.08s\tremaining: 607ms\n",
            "192:\tlearn: 5.3647331\ttotal: 1.08s\tremaining: 598ms\n",
            "193:\tlearn: 5.3605576\ttotal: 1.08s\tremaining: 590ms\n",
            "194:\tlearn: 5.3542397\ttotal: 1.08s\tremaining: 582ms\n",
            "195:\tlearn: 5.3468047\ttotal: 1.08s\tremaining: 574ms\n",
            "196:\tlearn: 5.3452067\ttotal: 1.08s\tremaining: 566ms\n",
            "197:\tlearn: 5.3392912\ttotal: 1.08s\tremaining: 558ms\n",
            "198:\tlearn: 5.3359769\ttotal: 1.08s\tremaining: 550ms\n",
            "199:\tlearn: 5.3311437\ttotal: 1.08s\tremaining: 542ms\n",
            "200:\tlearn: 5.3234522\ttotal: 1.08s\tremaining: 534ms\n",
            "201:\tlearn: 5.3193925\ttotal: 1.08s\tremaining: 527ms\n",
            "202:\tlearn: 5.3137325\ttotal: 1.09s\tremaining: 519ms\n",
            "203:\tlearn: 5.3116068\ttotal: 1.09s\tremaining: 511ms\n",
            "204:\tlearn: 5.3065724\ttotal: 1.09s\tremaining: 504ms\n",
            "205:\tlearn: 5.3013228\ttotal: 1.09s\tremaining: 496ms\n",
            "206:\tlearn: 5.2956326\ttotal: 1.09s\tremaining: 489ms\n",
            "207:\tlearn: 5.2913388\ttotal: 1.09s\tremaining: 482ms\n",
            "208:\tlearn: 5.2891296\ttotal: 1.09s\tremaining: 474ms\n",
            "209:\tlearn: 5.2859359\ttotal: 1.17s\tremaining: 503ms\n",
            "210:\tlearn: 5.2812738\ttotal: 1.17s\tremaining: 495ms\n",
            "211:\tlearn: 5.2774281\ttotal: 1.17s\tremaining: 487ms\n",
            "212:\tlearn: 5.2749342\ttotal: 1.17s\tremaining: 480ms\n",
            "213:\tlearn: 5.2731471\ttotal: 1.18s\tremaining: 472ms\n",
            "214:\tlearn: 5.2712471\ttotal: 1.18s\tremaining: 465ms\n",
            "215:\tlearn: 5.2665831\ttotal: 1.18s\tremaining: 458ms\n",
            "216:\tlearn: 5.2628219\ttotal: 1.18s\tremaining: 450ms\n",
            "217:\tlearn: 5.2551839\ttotal: 1.18s\tremaining: 443ms\n",
            "218:\tlearn: 5.2516998\ttotal: 1.18s\tremaining: 436ms\n",
            "219:\tlearn: 5.2498989\ttotal: 1.18s\tremaining: 429ms\n",
            "220:\tlearn: 5.2470267\ttotal: 1.18s\tremaining: 422ms\n",
            "221:\tlearn: 5.2435906\ttotal: 1.18s\tremaining: 415ms\n",
            "222:\tlearn: 5.2396498\ttotal: 1.18s\tremaining: 408ms\n",
            "223:\tlearn: 5.2373876\ttotal: 1.18s\tremaining: 401ms\n",
            "224:\tlearn: 5.2345769\ttotal: 1.27s\tremaining: 423ms\n",
            "225:\tlearn: 5.2322090\ttotal: 1.27s\tremaining: 415ms\n",
            "226:\tlearn: 5.2291122\ttotal: 1.27s\tremaining: 408ms\n",
            "227:\tlearn: 5.2276114\ttotal: 1.27s\tremaining: 401ms\n",
            "228:\tlearn: 5.2247437\ttotal: 1.27s\tremaining: 394ms\n",
            "229:\tlearn: 5.2202810\ttotal: 1.27s\tremaining: 387ms\n",
            "230:\tlearn: 5.2180756\ttotal: 1.27s\tremaining: 380ms\n",
            "231:\tlearn: 5.2166769\ttotal: 1.27s\tremaining: 373ms\n",
            "232:\tlearn: 5.2150126\ttotal: 1.27s\tremaining: 366ms\n",
            "233:\tlearn: 5.2124158\ttotal: 1.27s\tremaining: 359ms\n",
            "234:\tlearn: 5.2083811\ttotal: 1.27s\tremaining: 353ms\n",
            "235:\tlearn: 5.2060027\ttotal: 1.27s\tremaining: 346ms\n",
            "236:\tlearn: 5.2035773\ttotal: 1.27s\tremaining: 339ms\n",
            "237:\tlearn: 5.2024491\ttotal: 1.28s\tremaining: 332ms\n",
            "238:\tlearn: 5.2001525\ttotal: 1.28s\tremaining: 326ms\n",
            "239:\tlearn: 5.1950698\ttotal: 1.36s\tremaining: 341ms\n",
            "240:\tlearn: 5.1902806\ttotal: 1.36s\tremaining: 334ms\n",
            "241:\tlearn: 5.1889448\ttotal: 1.36s\tremaining: 327ms\n",
            "242:\tlearn: 5.1861114\ttotal: 1.36s\tremaining: 320ms\n",
            "243:\tlearn: 5.1831605\ttotal: 1.36s\tremaining: 313ms\n",
            "244:\tlearn: 5.1799686\ttotal: 1.37s\tremaining: 307ms\n",
            "245:\tlearn: 5.1762724\ttotal: 1.37s\tremaining: 300ms\n",
            "246:\tlearn: 5.1742522\ttotal: 1.37s\tremaining: 293ms\n",
            "247:\tlearn: 5.1725532\ttotal: 1.37s\tremaining: 287ms\n",
            "248:\tlearn: 5.1687898\ttotal: 1.37s\tremaining: 280ms\n",
            "249:\tlearn: 5.1665063\ttotal: 1.37s\tremaining: 274ms\n",
            "250:\tlearn: 5.1609667\ttotal: 1.37s\tremaining: 267ms\n",
            "251:\tlearn: 5.1581929\ttotal: 1.37s\tremaining: 261ms\n",
            "252:\tlearn: 5.1515583\ttotal: 1.37s\tremaining: 255ms\n",
            "253:\tlearn: 5.1479762\ttotal: 1.37s\tremaining: 249ms\n",
            "254:\tlearn: 5.1471803\ttotal: 1.38s\tremaining: 243ms\n",
            "255:\tlearn: 5.1460178\ttotal: 1.38s\tremaining: 237ms\n",
            "256:\tlearn: 5.1415943\ttotal: 1.46s\tremaining: 244ms\n",
            "257:\tlearn: 5.1391794\ttotal: 1.46s\tremaining: 237ms\n",
            "258:\tlearn: 5.1361196\ttotal: 1.46s\tremaining: 231ms\n",
            "259:\tlearn: 5.1333083\ttotal: 1.46s\tremaining: 225ms\n",
            "260:\tlearn: 5.1314157\ttotal: 1.46s\tremaining: 218ms\n",
            "261:\tlearn: 5.1294335\ttotal: 1.46s\tremaining: 212ms\n",
            "262:\tlearn: 5.1257327\ttotal: 1.46s\tremaining: 206ms\n",
            "263:\tlearn: 5.1203755\ttotal: 1.46s\tremaining: 199ms\n",
            "264:\tlearn: 5.1171715\ttotal: 1.46s\tremaining: 193ms\n",
            "265:\tlearn: 5.1145638\ttotal: 1.46s\tremaining: 187ms\n",
            "266:\tlearn: 5.1117425\ttotal: 1.46s\tremaining: 181ms\n",
            "267:\tlearn: 5.1095827\ttotal: 1.47s\tremaining: 175ms\n",
            "268:\tlearn: 5.1077712\ttotal: 1.47s\tremaining: 169ms\n",
            "269:\tlearn: 5.1046618\ttotal: 1.47s\tremaining: 163ms\n",
            "270:\tlearn: 5.1014473\ttotal: 1.47s\tremaining: 157ms\n",
            "271:\tlearn: 5.0996549\ttotal: 1.55s\tremaining: 160ms\n",
            "272:\tlearn: 5.0981993\ttotal: 1.55s\tremaining: 154ms\n",
            "273:\tlearn: 5.0934239\ttotal: 1.55s\tremaining: 147ms\n",
            "274:\tlearn: 5.0896851\ttotal: 1.55s\tremaining: 141ms\n",
            "275:\tlearn: 5.0861936\ttotal: 1.55s\tremaining: 135ms\n",
            "276:\tlearn: 5.0836548\ttotal: 1.56s\tremaining: 129ms\n",
            "277:\tlearn: 5.0820247\ttotal: 1.56s\tremaining: 123ms\n",
            "278:\tlearn: 5.0786764\ttotal: 1.56s\tremaining: 117ms\n",
            "279:\tlearn: 5.0753686\ttotal: 1.56s\tremaining: 111ms\n",
            "280:\tlearn: 5.0723455\ttotal: 1.56s\tremaining: 105ms\n",
            "281:\tlearn: 5.0700323\ttotal: 1.56s\tremaining: 99.5ms\n",
            "282:\tlearn: 5.0672880\ttotal: 1.56s\tremaining: 93.7ms\n",
            "283:\tlearn: 5.0646920\ttotal: 1.56s\tremaining: 87.9ms\n",
            "284:\tlearn: 5.0612558\ttotal: 1.56s\tremaining: 82.2ms\n",
            "285:\tlearn: 5.0597105\ttotal: 1.56s\tremaining: 76.5ms\n",
            "286:\tlearn: 5.0584659\ttotal: 1.56s\tremaining: 70.8ms\n",
            "287:\tlearn: 5.0557751\ttotal: 1.56s\tremaining: 65.2ms\n",
            "288:\tlearn: 5.0529328\ttotal: 1.65s\tremaining: 62.7ms\n",
            "289:\tlearn: 5.0502396\ttotal: 1.65s\tremaining: 56.9ms\n",
            "290:\tlearn: 5.0476136\ttotal: 1.65s\tremaining: 51ms\n",
            "291:\tlearn: 5.0444802\ttotal: 1.65s\tremaining: 45.2ms\n",
            "292:\tlearn: 5.0415456\ttotal: 1.65s\tremaining: 39.4ms\n",
            "293:\tlearn: 5.0404426\ttotal: 1.65s\tremaining: 33.7ms\n",
            "294:\tlearn: 5.0352922\ttotal: 1.65s\tremaining: 28ms\n",
            "295:\tlearn: 5.0331411\ttotal: 1.65s\tremaining: 22.3ms\n",
            "296:\tlearn: 5.0321510\ttotal: 1.65s\tremaining: 16.7ms\n",
            "297:\tlearn: 5.0297497\ttotal: 1.65s\tremaining: 11.1ms\n",
            "298:\tlearn: 5.0252582\ttotal: 1.65s\tremaining: 5.53ms\n",
            "299:\tlearn: 5.0218111\ttotal: 1.66s\tremaining: 0us\n",
            "[CV]  depth=3, learning_rate=0.05, loss_function=MAE, n_estimators=300, random_state=123, score=0.269, total=   3.0s\n",
            "[Parallel(n_jobs=1)]: Done   6 out of   6 | elapsed:   15.6s remaining:    0.0s\n",
            "[CV] depth=4, learning_rate=0.05, loss_function=MAE, n_estimators=100, random_state=123 \n",
            "0:\tlearn: 8.1193719\ttotal: 1.76ms\tremaining: 174ms\n",
            "1:\tlearn: 8.0300828\ttotal: 2.75ms\tremaining: 135ms\n",
            "2:\tlearn: 7.9675331\ttotal: 3.61ms\tremaining: 117ms\n",
            "3:\tlearn: 7.8936156\ttotal: 4.53ms\tremaining: 109ms\n",
            "4:\tlearn: 7.8019284\ttotal: 5.37ms\tremaining: 102ms\n",
            "5:\tlearn: 7.7089963\ttotal: 8.49ms\tremaining: 133ms\n",
            "6:\tlearn: 7.6278734\ttotal: 10.3ms\tremaining: 137ms\n",
            "7:\tlearn: 7.5687646\ttotal: 11.5ms\tremaining: 132ms\n",
            "8:\tlearn: 7.5269807\ttotal: 12.4ms\tremaining: 126ms\n",
            "9:\tlearn: 7.4851834\ttotal: 13.1ms\tremaining: 118ms\n",
            "10:\tlearn: 7.4452090\ttotal: 15ms\tremaining: 121ms\n",
            "11:\tlearn: 7.3933534\ttotal: 16ms\tremaining: 117ms\n",
            "12:\tlearn: 7.3477317\ttotal: 17.1ms\tremaining: 114ms\n",
            "13:\tlearn: 7.3107263\ttotal: 17.9ms\tremaining: 110ms\n",
            "14:\tlearn: 7.2601851\ttotal: 99.5ms\tremaining: 564ms\n",
            "15:\tlearn: 7.2043376\ttotal: 100ms\tremaining: 527ms\n",
            "16:\tlearn: 7.1753386\ttotal: 101ms\tremaining: 495ms\n",
            "17:\tlearn: 7.1434840\ttotal: 102ms\tremaining: 466ms\n",
            "18:\tlearn: 7.0881182\ttotal: 103ms\tremaining: 439ms\n",
            "19:\tlearn: 7.0510648\ttotal: 104ms\tremaining: 415ms\n",
            "20:\tlearn: 7.0160817\ttotal: 105ms\tremaining: 394ms\n",
            "21:\tlearn: 6.9668948\ttotal: 106ms\tremaining: 374ms\n",
            "22:\tlearn: 6.9241020\ttotal: 106ms\tremaining: 356ms\n",
            "23:\tlearn: 6.8896695\ttotal: 107ms\tremaining: 339ms\n",
            "24:\tlearn: 6.8672132\ttotal: 108ms\tremaining: 324ms\n",
            "25:\tlearn: 6.8513104\ttotal: 109ms\tremaining: 310ms\n",
            "26:\tlearn: 6.8248937\ttotal: 110ms\tremaining: 297ms\n",
            "27:\tlearn: 6.7742823\ttotal: 111ms\tremaining: 284ms\n",
            "28:\tlearn: 6.7471921\ttotal: 196ms\tremaining: 480ms\n",
            "29:\tlearn: 6.7160475\ttotal: 197ms\tremaining: 460ms\n",
            "30:\tlearn: 6.7006556\ttotal: 199ms\tremaining: 442ms\n",
            "31:\tlearn: 6.6616786\ttotal: 200ms\tremaining: 425ms\n",
            "32:\tlearn: 6.6330242\ttotal: 201ms\tremaining: 408ms\n",
            "33:\tlearn: 6.6121827\ttotal: 202ms\tremaining: 392ms\n",
            "34:\tlearn: 6.5840236\ttotal: 203ms\tremaining: 377ms\n",
            "35:\tlearn: 6.5667419\ttotal: 204ms\tremaining: 363ms\n",
            "36:\tlearn: 6.5503145\ttotal: 205ms\tremaining: 350ms\n",
            "37:\tlearn: 6.5396944\ttotal: 207ms\tremaining: 338ms\n",
            "38:\tlearn: 6.5258120\ttotal: 293ms\tremaining: 458ms\n",
            "39:\tlearn: 6.5056947\ttotal: 294ms\tremaining: 441ms\n",
            "40:\tlearn: 6.4875302\ttotal: 296ms\tremaining: 426ms\n",
            "41:\tlearn: 6.4730645\ttotal: 297ms\tremaining: 410ms\n",
            "42:\tlearn: 6.4554332\ttotal: 299ms\tremaining: 396ms\n",
            "43:\tlearn: 6.4307879\ttotal: 301ms\tremaining: 383ms\n",
            "44:\tlearn: 6.4182530\ttotal: 302ms\tremaining: 369ms\n",
            "45:\tlearn: 6.3944004\ttotal: 303ms\tremaining: 356ms\n",
            "46:\tlearn: 6.3630018\ttotal: 305ms\tremaining: 344ms\n",
            "47:\tlearn: 6.3530836\ttotal: 311ms\tremaining: 337ms\n",
            "48:\tlearn: 6.3396553\ttotal: 389ms\tremaining: 405ms\n",
            "49:\tlearn: 6.3277319\ttotal: 391ms\tremaining: 391ms\n",
            "50:\tlearn: 6.3072177\ttotal: 394ms\tremaining: 378ms\n",
            "51:\tlearn: 6.2832316\ttotal: 394ms\tremaining: 364ms\n",
            "52:\tlearn: 6.2735559\ttotal: 396ms\tremaining: 351ms\n",
            "53:\tlearn: 6.2605146\ttotal: 397ms\tremaining: 338ms\n",
            "54:\tlearn: 6.2350655\ttotal: 397ms\tremaining: 325ms\n",
            "55:\tlearn: 6.2244086\ttotal: 399ms\tremaining: 313ms\n",
            "56:\tlearn: 6.2051592\ttotal: 400ms\tremaining: 302ms\n",
            "57:\tlearn: 6.1967868\ttotal: 401ms\tremaining: 290ms\n",
            "58:\tlearn: 6.1871757\ttotal: 402ms\tremaining: 280ms\n",
            "59:\tlearn: 6.1776938\ttotal: 404ms\tremaining: 269ms\n",
            "60:\tlearn: 6.1670150\ttotal: 404ms\tremaining: 259ms\n",
            "61:\tlearn: 6.1555699\ttotal: 485ms\tremaining: 297ms\n",
            "62:\tlearn: 6.1341213\ttotal: 488ms\tremaining: 287ms\n",
            "63:\tlearn: 6.1219320\ttotal: 490ms\tremaining: 275ms\n",
            "64:\tlearn: 6.0954996\ttotal: 491ms\tremaining: 265ms\n",
            "65:\tlearn: 6.0796270\ttotal: 493ms\tremaining: 254ms\n",
            "66:\tlearn: 6.0700709\ttotal: 494ms\tremaining: 243ms\n",
            "67:\tlearn: 6.0621557\ttotal: 495ms\tremaining: 233ms\n",
            "68:\tlearn: 6.0455511\ttotal: 497ms\tremaining: 223ms\n",
            "69:\tlearn: 6.0293607\ttotal: 499ms\tremaining: 214ms\n",
            "70:\tlearn: 6.0194974\ttotal: 501ms\tremaining: 205ms\n",
            "71:\tlearn: 6.0104697\ttotal: 508ms\tremaining: 198ms\n",
            "72:\tlearn: 6.0011852\ttotal: 582ms\tremaining: 215ms\n",
            "73:\tlearn: 5.9882563\ttotal: 583ms\tremaining: 205ms\n",
            "74:\tlearn: 5.9783321\ttotal: 585ms\tremaining: 195ms\n",
            "75:\tlearn: 5.9729059\ttotal: 586ms\tremaining: 185ms\n",
            "76:\tlearn: 5.9647956\ttotal: 587ms\tremaining: 175ms\n",
            "77:\tlearn: 5.9502594\ttotal: 588ms\tremaining: 166ms\n",
            "78:\tlearn: 5.9455499\ttotal: 590ms\tremaining: 157ms\n",
            "79:\tlearn: 5.9341975\ttotal: 591ms\tremaining: 148ms\n",
            "80:\tlearn: 5.9224727\ttotal: 593ms\tremaining: 139ms\n",
            "81:\tlearn: 5.9081247\ttotal: 594ms\tremaining: 130ms\n",
            "82:\tlearn: 5.9041872\ttotal: 677ms\tremaining: 139ms\n",
            "83:\tlearn: 5.8910080\ttotal: 678ms\tremaining: 129ms\n",
            "84:\tlearn: 5.8844091\ttotal: 680ms\tremaining: 120ms\n",
            "85:\tlearn: 5.8784630\ttotal: 683ms\tremaining: 111ms\n",
            "86:\tlearn: 5.8690950\ttotal: 684ms\tremaining: 102ms\n",
            "87:\tlearn: 5.8579294\ttotal: 686ms\tremaining: 93.5ms\n",
            "88:\tlearn: 5.8500678\ttotal: 687ms\tremaining: 84.9ms\n",
            "89:\tlearn: 5.8435394\ttotal: 688ms\tremaining: 76.4ms\n",
            "90:\tlearn: 5.8349520\ttotal: 689ms\tremaining: 68.2ms\n",
            "91:\tlearn: 5.8274627\ttotal: 691ms\tremaining: 60.1ms\n",
            "92:\tlearn: 5.8207904\ttotal: 693ms\tremaining: 52.1ms\n",
            "93:\tlearn: 5.8122005\ttotal: 700ms\tremaining: 44.7ms\n",
            "94:\tlearn: 5.8026131\ttotal: 774ms\tremaining: 40.8ms\n",
            "95:\tlearn: 5.7941425\ttotal: 776ms\tremaining: 32.3ms\n",
            "96:\tlearn: 5.7886569\ttotal: 778ms\tremaining: 24ms\n",
            "97:\tlearn: 5.7795057\ttotal: 781ms\tremaining: 15.9ms\n",
            "98:\tlearn: 5.7737032\ttotal: 783ms\tremaining: 7.91ms\n",
            "99:\tlearn: 5.7691966\ttotal: 785ms\tremaining: 0us\n",
            "[CV]  depth=4, learning_rate=0.05, loss_function=MAE, n_estimators=100, random_state=123, score=0.413, total=   2.0s\n",
            "[Parallel(n_jobs=1)]: Done   7 out of   7 | elapsed:   17.6s remaining:    0.0s\n",
            "[CV] depth=4, learning_rate=0.05, loss_function=MAE, n_estimators=100, random_state=123 \n",
            "0:\tlearn: 7.8477224\ttotal: 1.07ms\tremaining: 107ms\n",
            "1:\tlearn: 7.7985750\ttotal: 1.97ms\tremaining: 96.7ms\n",
            "2:\tlearn: 7.7472456\ttotal: 2.84ms\tremaining: 92ms\n",
            "3:\tlearn: 7.6782278\ttotal: 4.31ms\tremaining: 103ms\n",
            "4:\tlearn: 7.6299858\ttotal: 5.08ms\tremaining: 96.6ms\n",
            "5:\tlearn: 7.5743591\ttotal: 7.85ms\tremaining: 123ms\n",
            "6:\tlearn: 7.5007839\ttotal: 10.7ms\tremaining: 142ms\n",
            "7:\tlearn: 7.4244905\ttotal: 12.3ms\tremaining: 141ms\n",
            "8:\tlearn: 7.3905339\ttotal: 14.2ms\tremaining: 143ms\n",
            "9:\tlearn: 7.3316657\ttotal: 15.4ms\tremaining: 138ms\n",
            "10:\tlearn: 7.2853086\ttotal: 94.4ms\tremaining: 763ms\n",
            "11:\tlearn: 7.2261617\ttotal: 95.2ms\tremaining: 698ms\n",
            "12:\tlearn: 7.1902628\ttotal: 96ms\tremaining: 643ms\n",
            "13:\tlearn: 7.1386663\ttotal: 96.8ms\tremaining: 595ms\n",
            "14:\tlearn: 7.0759314\ttotal: 97.6ms\tremaining: 553ms\n",
            "15:\tlearn: 7.0482627\ttotal: 98.4ms\tremaining: 517ms\n",
            "16:\tlearn: 7.0236753\ttotal: 99.2ms\tremaining: 485ms\n",
            "17:\tlearn: 6.9692987\ttotal: 100ms\tremaining: 456ms\n",
            "18:\tlearn: 6.9312344\ttotal: 101ms\tremaining: 430ms\n",
            "19:\tlearn: 6.8811062\ttotal: 102ms\tremaining: 407ms\n",
            "20:\tlearn: 6.8236095\ttotal: 102ms\tremaining: 386ms\n",
            "21:\tlearn: 6.7930234\ttotal: 103ms\tremaining: 366ms\n",
            "22:\tlearn: 6.7484687\ttotal: 110ms\tremaining: 368ms\n",
            "23:\tlearn: 6.7311996\ttotal: 190ms\tremaining: 602ms\n",
            "24:\tlearn: 6.7076609\ttotal: 191ms\tremaining: 573ms\n",
            "25:\tlearn: 6.6772712\ttotal: 192ms\tremaining: 546ms\n",
            "26:\tlearn: 6.6572781\ttotal: 193ms\tremaining: 521ms\n",
            "27:\tlearn: 6.6397619\ttotal: 195ms\tremaining: 500ms\n",
            "28:\tlearn: 6.6175686\ttotal: 196ms\tremaining: 479ms\n",
            "29:\tlearn: 6.6042048\ttotal: 197ms\tremaining: 459ms\n",
            "30:\tlearn: 6.5861273\ttotal: 198ms\tremaining: 440ms\n",
            "31:\tlearn: 6.5523820\ttotal: 199ms\tremaining: 422ms\n",
            "32:\tlearn: 6.5227722\ttotal: 200ms\tremaining: 406ms\n",
            "33:\tlearn: 6.4923031\ttotal: 201ms\tremaining: 390ms\n",
            "34:\tlearn: 6.4740560\ttotal: 202ms\tremaining: 375ms\n",
            "35:\tlearn: 6.4467875\ttotal: 287ms\tremaining: 510ms\n",
            "36:\tlearn: 6.4184063\ttotal: 288ms\tremaining: 490ms\n",
            "37:\tlearn: 6.3882296\ttotal: 289ms\tremaining: 472ms\n",
            "38:\tlearn: 6.3642940\ttotal: 291ms\tremaining: 455ms\n",
            "39:\tlearn: 6.3360145\ttotal: 292ms\tremaining: 437ms\n",
            "40:\tlearn: 6.3172629\ttotal: 293ms\tremaining: 422ms\n",
            "41:\tlearn: 6.3096479\ttotal: 294ms\tremaining: 406ms\n",
            "42:\tlearn: 6.2932283\ttotal: 296ms\tremaining: 392ms\n",
            "43:\tlearn: 6.2762394\ttotal: 297ms\tremaining: 378ms\n",
            "44:\tlearn: 6.2610192\ttotal: 298ms\tremaining: 364ms\n",
            "45:\tlearn: 6.2416651\ttotal: 382ms\tremaining: 448ms\n",
            "46:\tlearn: 6.2171699\ttotal: 383ms\tremaining: 432ms\n",
            "47:\tlearn: 6.2066423\ttotal: 384ms\tremaining: 416ms\n",
            "48:\tlearn: 6.1908209\ttotal: 385ms\tremaining: 400ms\n",
            "49:\tlearn: 6.1824400\ttotal: 385ms\tremaining: 385ms\n",
            "50:\tlearn: 6.1593537\ttotal: 386ms\tremaining: 371ms\n",
            "51:\tlearn: 6.1335235\ttotal: 387ms\tremaining: 357ms\n",
            "52:\tlearn: 6.1080068\ttotal: 388ms\tremaining: 344ms\n",
            "53:\tlearn: 6.0967510\ttotal: 390ms\tremaining: 332ms\n",
            "54:\tlearn: 6.0886383\ttotal: 391ms\tremaining: 320ms\n",
            "55:\tlearn: 6.0768101\ttotal: 391ms\tremaining: 307ms\n",
            "56:\tlearn: 6.0661080\ttotal: 392ms\tremaining: 296ms\n",
            "57:\tlearn: 6.0532411\ttotal: 393ms\tremaining: 285ms\n",
            "58:\tlearn: 6.0404103\ttotal: 478ms\tremaining: 332ms\n",
            "59:\tlearn: 6.0281796\ttotal: 479ms\tremaining: 319ms\n",
            "60:\tlearn: 6.0194568\ttotal: 479ms\tremaining: 306ms\n",
            "61:\tlearn: 6.0128011\ttotal: 480ms\tremaining: 294ms\n",
            "62:\tlearn: 5.9903038\ttotal: 481ms\tremaining: 282ms\n",
            "63:\tlearn: 5.9820897\ttotal: 482ms\tremaining: 271ms\n",
            "64:\tlearn: 5.9663178\ttotal: 482ms\tremaining: 260ms\n",
            "65:\tlearn: 5.9556772\ttotal: 483ms\tremaining: 249ms\n",
            "66:\tlearn: 5.9383707\ttotal: 484ms\tremaining: 238ms\n",
            "67:\tlearn: 5.9233958\ttotal: 485ms\tremaining: 228ms\n",
            "68:\tlearn: 5.9157274\ttotal: 485ms\tremaining: 218ms\n",
            "69:\tlearn: 5.9039099\ttotal: 486ms\tremaining: 208ms\n",
            "70:\tlearn: 5.8953249\ttotal: 487ms\tremaining: 199ms\n",
            "71:\tlearn: 5.8830874\ttotal: 488ms\tremaining: 190ms\n",
            "72:\tlearn: 5.8648392\ttotal: 573ms\tremaining: 212ms\n",
            "73:\tlearn: 5.8547653\ttotal: 574ms\tremaining: 202ms\n",
            "74:\tlearn: 5.8493507\ttotal: 575ms\tremaining: 192ms\n",
            "75:\tlearn: 5.8376747\ttotal: 576ms\tremaining: 182ms\n",
            "76:\tlearn: 5.8258400\ttotal: 577ms\tremaining: 172ms\n",
            "77:\tlearn: 5.8150893\ttotal: 577ms\tremaining: 163ms\n",
            "78:\tlearn: 5.8089930\ttotal: 578ms\tremaining: 154ms\n",
            "79:\tlearn: 5.7997393\ttotal: 579ms\tremaining: 145ms\n",
            "80:\tlearn: 5.7920125\ttotal: 580ms\tremaining: 136ms\n",
            "81:\tlearn: 5.7833377\ttotal: 581ms\tremaining: 127ms\n",
            "82:\tlearn: 5.7707129\ttotal: 582ms\tremaining: 119ms\n",
            "83:\tlearn: 5.7658317\ttotal: 582ms\tremaining: 111ms\n",
            "84:\tlearn: 5.7603797\ttotal: 668ms\tremaining: 118ms\n",
            "85:\tlearn: 5.7416614\ttotal: 669ms\tremaining: 109ms\n",
            "86:\tlearn: 5.7286518\ttotal: 670ms\tremaining: 100ms\n",
            "87:\tlearn: 5.7218306\ttotal: 671ms\tremaining: 91.5ms\n",
            "88:\tlearn: 5.7143237\ttotal: 672ms\tremaining: 83.1ms\n",
            "89:\tlearn: 5.7084634\ttotal: 674ms\tremaining: 74.8ms\n",
            "90:\tlearn: 5.7004698\ttotal: 674ms\tremaining: 66.7ms\n",
            "91:\tlearn: 5.6888264\ttotal: 676ms\tremaining: 58.8ms\n",
            "92:\tlearn: 5.6819660\ttotal: 677ms\tremaining: 51ms\n",
            "93:\tlearn: 5.6713044\ttotal: 678ms\tremaining: 43.3ms\n",
            "94:\tlearn: 5.6644393\ttotal: 680ms\tremaining: 35.8ms\n",
            "95:\tlearn: 5.6531686\ttotal: 681ms\tremaining: 28.4ms\n",
            "96:\tlearn: 5.6456046\ttotal: 682ms\tremaining: 21.1ms\n",
            "97:\tlearn: 5.6396225\ttotal: 764ms\tremaining: 15.6ms\n",
            "98:\tlearn: 5.6329755\ttotal: 765ms\tremaining: 7.72ms\n",
            "99:\tlearn: 5.6281210\ttotal: 765ms\tremaining: 0us\n",
            "[CV]  depth=4, learning_rate=0.05, loss_function=MAE, n_estimators=100, random_state=123, score=0.374, total=   2.2s\n",
            "[Parallel(n_jobs=1)]: Done   8 out of   8 | elapsed:   19.8s remaining:    0.0s\n",
            "[CV] depth=4, learning_rate=0.05, loss_function=MAE, n_estimators=100, random_state=123 \n",
            "0:\tlearn: 8.1009440\ttotal: 980us\tremaining: 97.1ms\n",
            "1:\tlearn: 8.0218912\ttotal: 1.93ms\tremaining: 94.8ms\n",
            "2:\tlearn: 7.9665556\ttotal: 2.77ms\tremaining: 89.5ms\n",
            "3:\tlearn: 7.9215851\ttotal: 4.24ms\tremaining: 102ms\n",
            "4:\tlearn: 7.8621585\ttotal: 5.82ms\tremaining: 111ms\n",
            "5:\tlearn: 7.7759611\ttotal: 6.65ms\tremaining: 104ms\n",
            "6:\tlearn: 7.7189921\ttotal: 7.44ms\tremaining: 98.9ms\n",
            "7:\tlearn: 7.6668715\ttotal: 8.23ms\tremaining: 94.6ms\n",
            "8:\tlearn: 7.5917229\ttotal: 8.99ms\tremaining: 90.9ms\n",
            "9:\tlearn: 7.5473872\ttotal: 9.76ms\tremaining: 87.9ms\n",
            "10:\tlearn: 7.4827622\ttotal: 10.5ms\tremaining: 84.8ms\n",
            "11:\tlearn: 7.3998312\ttotal: 11.2ms\tremaining: 82ms\n",
            "12:\tlearn: 7.3642863\ttotal: 81.8ms\tremaining: 548ms\n",
            "13:\tlearn: 7.3126770\ttotal: 82.8ms\tremaining: 509ms\n",
            "14:\tlearn: 7.2270390\ttotal: 83.7ms\tremaining: 474ms\n",
            "15:\tlearn: 7.1885094\ttotal: 85ms\tremaining: 446ms\n",
            "16:\tlearn: 7.1495954\ttotal: 86.1ms\tremaining: 420ms\n",
            "17:\tlearn: 7.0863865\ttotal: 87.1ms\tremaining: 397ms\n",
            "18:\tlearn: 7.0425509\ttotal: 87.9ms\tremaining: 375ms\n",
            "19:\tlearn: 6.9967752\ttotal: 89ms\tremaining: 356ms\n",
            "20:\tlearn: 6.9636777\ttotal: 89.8ms\tremaining: 338ms\n",
            "21:\tlearn: 6.9258320\ttotal: 90.8ms\tremaining: 322ms\n",
            "22:\tlearn: 6.8933086\ttotal: 91.9ms\tremaining: 308ms\n",
            "23:\tlearn: 6.8569513\ttotal: 92.8ms\tremaining: 294ms\n",
            "24:\tlearn: 6.8378810\ttotal: 94ms\tremaining: 282ms\n",
            "25:\tlearn: 6.7821953\ttotal: 95.3ms\tremaining: 271ms\n",
            "26:\tlearn: 6.7544476\ttotal: 177ms\tremaining: 479ms\n",
            "27:\tlearn: 6.7195353\ttotal: 178ms\tremaining: 459ms\n",
            "28:\tlearn: 6.6968309\ttotal: 180ms\tremaining: 442ms\n",
            "29:\tlearn: 6.6807200\ttotal: 181ms\tremaining: 423ms\n",
            "30:\tlearn: 6.6544391\ttotal: 183ms\tremaining: 407ms\n",
            "31:\tlearn: 6.6370996\ttotal: 183ms\tremaining: 390ms\n",
            "32:\tlearn: 6.6112619\ttotal: 185ms\tremaining: 375ms\n",
            "33:\tlearn: 6.5911622\ttotal: 186ms\tremaining: 361ms\n",
            "34:\tlearn: 6.5660431\ttotal: 187ms\tremaining: 347ms\n",
            "35:\tlearn: 6.5514502\ttotal: 188ms\tremaining: 335ms\n",
            "36:\tlearn: 6.5350316\ttotal: 190ms\tremaining: 323ms\n",
            "37:\tlearn: 6.5140279\ttotal: 277ms\tremaining: 452ms\n",
            "38:\tlearn: 6.4824812\ttotal: 280ms\tremaining: 437ms\n",
            "39:\tlearn: 6.4673408\ttotal: 282ms\tremaining: 423ms\n",
            "40:\tlearn: 6.4328474\ttotal: 284ms\tremaining: 408ms\n",
            "41:\tlearn: 6.4197954\ttotal: 285ms\tremaining: 394ms\n",
            "42:\tlearn: 6.4099500\ttotal: 288ms\tremaining: 382ms\n",
            "43:\tlearn: 6.3927376\ttotal: 290ms\tremaining: 370ms\n",
            "44:\tlearn: 6.3711798\ttotal: 292ms\tremaining: 357ms\n",
            "45:\tlearn: 6.3549343\ttotal: 294ms\tremaining: 345ms\n",
            "46:\tlearn: 6.3332929\ttotal: 295ms\tremaining: 333ms\n",
            "47:\tlearn: 6.3058004\ttotal: 370ms\tremaining: 401ms\n",
            "48:\tlearn: 6.2890073\ttotal: 371ms\tremaining: 386ms\n",
            "49:\tlearn: 6.2765784\ttotal: 371ms\tremaining: 371ms\n",
            "50:\tlearn: 6.2657757\ttotal: 372ms\tremaining: 358ms\n",
            "51:\tlearn: 6.2540386\ttotal: 374ms\tremaining: 345ms\n",
            "52:\tlearn: 6.2359362\ttotal: 374ms\tremaining: 332ms\n",
            "53:\tlearn: 6.2264459\ttotal: 376ms\tremaining: 320ms\n",
            "54:\tlearn: 6.1995749\ttotal: 377ms\tremaining: 309ms\n",
            "55:\tlearn: 6.1831521\ttotal: 379ms\tremaining: 298ms\n",
            "56:\tlearn: 6.1714507\ttotal: 380ms\tremaining: 287ms\n",
            "57:\tlearn: 6.1514183\ttotal: 381ms\tremaining: 276ms\n",
            "58:\tlearn: 6.1385291\ttotal: 383ms\tremaining: 266ms\n",
            "59:\tlearn: 6.1142048\ttotal: 466ms\tremaining: 311ms\n",
            "60:\tlearn: 6.0906042\ttotal: 467ms\tremaining: 298ms\n",
            "61:\tlearn: 6.0722959\ttotal: 468ms\tremaining: 287ms\n",
            "62:\tlearn: 6.0563928\ttotal: 468ms\tremaining: 275ms\n",
            "63:\tlearn: 6.0472190\ttotal: 469ms\tremaining: 264ms\n",
            "64:\tlearn: 6.0263969\ttotal: 470ms\tremaining: 253ms\n",
            "65:\tlearn: 6.0032885\ttotal: 471ms\tremaining: 243ms\n",
            "66:\tlearn: 5.9845435\ttotal: 472ms\tremaining: 232ms\n",
            "67:\tlearn: 5.9721452\ttotal: 472ms\tremaining: 222ms\n",
            "68:\tlearn: 5.9651249\ttotal: 473ms\tremaining: 213ms\n",
            "69:\tlearn: 5.9518547\ttotal: 474ms\tremaining: 203ms\n",
            "70:\tlearn: 5.9386614\ttotal: 475ms\tremaining: 194ms\n",
            "71:\tlearn: 5.9247056\ttotal: 481ms\tremaining: 187ms\n",
            "72:\tlearn: 5.9129353\ttotal: 561ms\tremaining: 207ms\n",
            "73:\tlearn: 5.9073179\ttotal: 563ms\tremaining: 198ms\n",
            "74:\tlearn: 5.8992897\ttotal: 563ms\tremaining: 188ms\n",
            "75:\tlearn: 5.8898794\ttotal: 564ms\tremaining: 178ms\n",
            "76:\tlearn: 5.8820236\ttotal: 565ms\tremaining: 169ms\n",
            "77:\tlearn: 5.8725380\ttotal: 566ms\tremaining: 160ms\n",
            "78:\tlearn: 5.8653448\ttotal: 567ms\tremaining: 151ms\n",
            "79:\tlearn: 5.8506060\ttotal: 567ms\tremaining: 142ms\n",
            "80:\tlearn: 5.8418218\ttotal: 568ms\tremaining: 133ms\n",
            "81:\tlearn: 5.8232523\ttotal: 569ms\tremaining: 125ms\n",
            "82:\tlearn: 5.8129119\ttotal: 570ms\tremaining: 117ms\n",
            "83:\tlearn: 5.8010878\ttotal: 570ms\tremaining: 109ms\n",
            "84:\tlearn: 5.7876866\ttotal: 571ms\tremaining: 101ms\n",
            "85:\tlearn: 5.7798567\ttotal: 656ms\tremaining: 107ms\n",
            "86:\tlearn: 5.7717569\ttotal: 657ms\tremaining: 98.2ms\n",
            "87:\tlearn: 5.7652060\ttotal: 659ms\tremaining: 89.8ms\n",
            "88:\tlearn: 5.7536994\ttotal: 659ms\tremaining: 81.5ms\n",
            "89:\tlearn: 5.7420201\ttotal: 661ms\tremaining: 73.4ms\n",
            "90:\tlearn: 5.7312763\ttotal: 662ms\tremaining: 65.4ms\n",
            "91:\tlearn: 5.7236876\ttotal: 663ms\tremaining: 57.6ms\n",
            "92:\tlearn: 5.7155358\ttotal: 665ms\tremaining: 50ms\n",
            "93:\tlearn: 5.7127457\ttotal: 666ms\tremaining: 42.5ms\n",
            "94:\tlearn: 5.6979746\ttotal: 673ms\tremaining: 35.4ms\n",
            "95:\tlearn: 5.6894421\ttotal: 673ms\tremaining: 28.1ms\n",
            "96:\tlearn: 5.6812003\ttotal: 752ms\tremaining: 23.3ms\n",
            "97:\tlearn: 5.6758037\ttotal: 753ms\tremaining: 15.4ms\n",
            "98:\tlearn: 5.6677225\ttotal: 754ms\tremaining: 7.62ms\n",
            "99:\tlearn: 5.6569849\ttotal: 755ms\tremaining: 0us\n",
            "[CV]  depth=4, learning_rate=0.05, loss_function=MAE, n_estimators=100, random_state=123, score=0.285, total=   2.1s\n",
            "[Parallel(n_jobs=1)]: Done   9 out of   9 | elapsed:   21.9s remaining:    0.0s\n",
            "[CV] depth=4, learning_rate=0.05, loss_function=MAE, n_estimators=300, random_state=123 \n",
            "0:\tlearn: 8.1193719\ttotal: 1.13ms\tremaining: 337ms\n",
            "1:\tlearn: 8.0300828\ttotal: 2.12ms\tremaining: 317ms\n",
            "2:\tlearn: 7.9675331\ttotal: 2.94ms\tremaining: 291ms\n",
            "3:\tlearn: 7.8936156\ttotal: 3.71ms\tremaining: 275ms\n",
            "4:\tlearn: 7.8019284\ttotal: 4.48ms\tremaining: 264ms\n",
            "5:\tlearn: 7.7089963\ttotal: 5.3ms\tremaining: 260ms\n",
            "6:\tlearn: 7.6278734\ttotal: 6.08ms\tremaining: 254ms\n",
            "7:\tlearn: 7.5687646\ttotal: 7.09ms\tremaining: 259ms\n",
            "8:\tlearn: 7.5269807\ttotal: 7.84ms\tremaining: 253ms\n",
            "9:\tlearn: 7.4851834\ttotal: 8.62ms\tremaining: 250ms\n",
            "10:\tlearn: 7.4452090\ttotal: 9.38ms\tremaining: 247ms\n",
            "11:\tlearn: 7.3933534\ttotal: 10.1ms\tremaining: 243ms\n",
            "12:\tlearn: 7.3477317\ttotal: 10.9ms\tremaining: 241ms\n",
            "13:\tlearn: 7.3107263\ttotal: 12.2ms\tremaining: 250ms\n",
            "14:\tlearn: 7.2601851\ttotal: 13.5ms\tremaining: 256ms\n",
            "15:\tlearn: 7.2043376\ttotal: 95.4ms\tremaining: 1.69s\n",
            "16:\tlearn: 7.1753386\ttotal: 96.4ms\tremaining: 1.6s\n",
            "17:\tlearn: 7.1434840\ttotal: 97.2ms\tremaining: 1.52s\n",
            "18:\tlearn: 7.0881182\ttotal: 98ms\tremaining: 1.45s\n",
            "19:\tlearn: 7.0510648\ttotal: 98.7ms\tremaining: 1.38s\n",
            "20:\tlearn: 7.0160817\ttotal: 99.6ms\tremaining: 1.32s\n",
            "21:\tlearn: 6.9668948\ttotal: 101ms\tremaining: 1.27s\n",
            "22:\tlearn: 6.9241020\ttotal: 102ms\tremaining: 1.22s\n",
            "23:\tlearn: 6.8896695\ttotal: 103ms\tremaining: 1.18s\n",
            "24:\tlearn: 6.8672132\ttotal: 104ms\tremaining: 1.15s\n",
            "25:\tlearn: 6.8513104\ttotal: 105ms\tremaining: 1.11s\n",
            "26:\tlearn: 6.8248937\ttotal: 111ms\tremaining: 1.12s\n",
            "27:\tlearn: 6.7742823\ttotal: 112ms\tremaining: 1.09s\n",
            "28:\tlearn: 6.7471921\ttotal: 192ms\tremaining: 1.79s\n",
            "29:\tlearn: 6.7160475\ttotal: 194ms\tremaining: 1.74s\n",
            "30:\tlearn: 6.7006556\ttotal: 195ms\tremaining: 1.69s\n",
            "31:\tlearn: 6.6616786\ttotal: 196ms\tremaining: 1.64s\n",
            "32:\tlearn: 6.6330242\ttotal: 197ms\tremaining: 1.59s\n",
            "33:\tlearn: 6.6121827\ttotal: 198ms\tremaining: 1.55s\n",
            "34:\tlearn: 6.5840236\ttotal: 199ms\tremaining: 1.51s\n",
            "35:\tlearn: 6.5667419\ttotal: 200ms\tremaining: 1.47s\n",
            "36:\tlearn: 6.5503145\ttotal: 201ms\tremaining: 1.43s\n",
            "37:\tlearn: 6.5396944\ttotal: 202ms\tremaining: 1.39s\n",
            "38:\tlearn: 6.5258120\ttotal: 203ms\tremaining: 1.36s\n",
            "39:\tlearn: 6.5056947\ttotal: 204ms\tremaining: 1.33s\n",
            "40:\tlearn: 6.4875302\ttotal: 206ms\tremaining: 1.3s\n",
            "41:\tlearn: 6.4730645\ttotal: 286ms\tremaining: 1.76s\n",
            "42:\tlearn: 6.4554332\ttotal: 287ms\tremaining: 1.72s\n",
            "43:\tlearn: 6.4307879\ttotal: 288ms\tremaining: 1.67s\n",
            "44:\tlearn: 6.4182530\ttotal: 289ms\tremaining: 1.64s\n",
            "45:\tlearn: 6.3944004\ttotal: 290ms\tremaining: 1.6s\n",
            "46:\tlearn: 6.3630018\ttotal: 291ms\tremaining: 1.57s\n",
            "47:\tlearn: 6.3530836\ttotal: 292ms\tremaining: 1.53s\n",
            "48:\tlearn: 6.3396553\ttotal: 293ms\tremaining: 1.5s\n",
            "49:\tlearn: 6.3277319\ttotal: 293ms\tremaining: 1.47s\n",
            "50:\tlearn: 6.3072177\ttotal: 294ms\tremaining: 1.44s\n",
            "51:\tlearn: 6.2832316\ttotal: 295ms\tremaining: 1.41s\n",
            "52:\tlearn: 6.2735559\ttotal: 296ms\tremaining: 1.38s\n",
            "53:\tlearn: 6.2605146\ttotal: 297ms\tremaining: 1.35s\n",
            "54:\tlearn: 6.2350655\ttotal: 390ms\tremaining: 1.74s\n",
            "55:\tlearn: 6.2244086\ttotal: 391ms\tremaining: 1.7s\n",
            "56:\tlearn: 6.2051592\ttotal: 394ms\tremaining: 1.68s\n",
            "57:\tlearn: 6.1967868\ttotal: 396ms\tremaining: 1.65s\n",
            "58:\tlearn: 6.1871757\ttotal: 398ms\tremaining: 1.63s\n",
            "59:\tlearn: 6.1776938\ttotal: 400ms\tremaining: 1.6s\n",
            "60:\tlearn: 6.1670150\ttotal: 401ms\tremaining: 1.57s\n",
            "61:\tlearn: 6.1555699\ttotal: 402ms\tremaining: 1.54s\n",
            "62:\tlearn: 6.1341213\ttotal: 404ms\tremaining: 1.52s\n",
            "63:\tlearn: 6.1219320\ttotal: 405ms\tremaining: 1.49s\n",
            "64:\tlearn: 6.0954996\ttotal: 477ms\tremaining: 1.72s\n",
            "65:\tlearn: 6.0796270\ttotal: 478ms\tremaining: 1.69s\n",
            "66:\tlearn: 6.0700709\ttotal: 480ms\tremaining: 1.67s\n",
            "67:\tlearn: 6.0621557\ttotal: 481ms\tremaining: 1.64s\n",
            "68:\tlearn: 6.0455511\ttotal: 483ms\tremaining: 1.62s\n",
            "69:\tlearn: 6.0293607\ttotal: 484ms\tremaining: 1.59s\n",
            "70:\tlearn: 6.0194974\ttotal: 486ms\tremaining: 1.57s\n",
            "71:\tlearn: 6.0104697\ttotal: 487ms\tremaining: 1.54s\n",
            "72:\tlearn: 6.0011852\ttotal: 488ms\tremaining: 1.52s\n",
            "73:\tlearn: 5.9882563\ttotal: 495ms\tremaining: 1.51s\n",
            "74:\tlearn: 5.9783321\ttotal: 573ms\tremaining: 1.72s\n",
            "75:\tlearn: 5.9729059\ttotal: 575ms\tremaining: 1.69s\n",
            "76:\tlearn: 5.9647956\ttotal: 577ms\tremaining: 1.67s\n",
            "77:\tlearn: 5.9502594\ttotal: 578ms\tremaining: 1.65s\n",
            "78:\tlearn: 5.9455499\ttotal: 579ms\tremaining: 1.62s\n",
            "79:\tlearn: 5.9341975\ttotal: 581ms\tremaining: 1.6s\n",
            "80:\tlearn: 5.9224727\ttotal: 584ms\tremaining: 1.58s\n",
            "81:\tlearn: 5.9081247\ttotal: 586ms\tremaining: 1.56s\n",
            "82:\tlearn: 5.9041872\ttotal: 587ms\tremaining: 1.53s\n",
            "83:\tlearn: 5.8910080\ttotal: 588ms\tremaining: 1.51s\n",
            "84:\tlearn: 5.8844091\ttotal: 589ms\tremaining: 1.49s\n",
            "85:\tlearn: 5.8784630\ttotal: 670ms\tremaining: 1.67s\n",
            "86:\tlearn: 5.8690950\ttotal: 671ms\tremaining: 1.64s\n",
            "87:\tlearn: 5.8579294\ttotal: 672ms\tremaining: 1.62s\n",
            "88:\tlearn: 5.8500678\ttotal: 672ms\tremaining: 1.59s\n",
            "89:\tlearn: 5.8435394\ttotal: 673ms\tremaining: 1.57s\n",
            "90:\tlearn: 5.8349520\ttotal: 675ms\tremaining: 1.55s\n",
            "91:\tlearn: 5.8274627\ttotal: 676ms\tremaining: 1.53s\n",
            "92:\tlearn: 5.8207904\ttotal: 677ms\tremaining: 1.51s\n",
            "93:\tlearn: 5.8122005\ttotal: 678ms\tremaining: 1.48s\n",
            "94:\tlearn: 5.8026131\ttotal: 678ms\tremaining: 1.46s\n",
            "95:\tlearn: 5.7941425\ttotal: 679ms\tremaining: 1.44s\n",
            "96:\tlearn: 5.7886569\ttotal: 680ms\tremaining: 1.42s\n",
            "97:\tlearn: 5.7795057\ttotal: 681ms\tremaining: 1.4s\n",
            "98:\tlearn: 5.7737032\ttotal: 682ms\tremaining: 1.38s\n",
            "99:\tlearn: 5.7691966\ttotal: 765ms\tremaining: 1.53s\n",
            "100:\tlearn: 5.7625686\ttotal: 766ms\tremaining: 1.51s\n",
            "101:\tlearn: 5.7539937\ttotal: 767ms\tremaining: 1.49s\n",
            "102:\tlearn: 5.7460241\ttotal: 768ms\tremaining: 1.47s\n",
            "103:\tlearn: 5.7320200\ttotal: 769ms\tremaining: 1.45s\n",
            "104:\tlearn: 5.7233369\ttotal: 769ms\tremaining: 1.43s\n",
            "105:\tlearn: 5.7133398\ttotal: 770ms\tremaining: 1.41s\n",
            "106:\tlearn: 5.7045706\ttotal: 771ms\tremaining: 1.39s\n",
            "107:\tlearn: 5.6970722\ttotal: 772ms\tremaining: 1.37s\n",
            "108:\tlearn: 5.6880902\ttotal: 773ms\tremaining: 1.35s\n",
            "109:\tlearn: 5.6805067\ttotal: 773ms\tremaining: 1.33s\n",
            "110:\tlearn: 5.6725530\ttotal: 774ms\tremaining: 1.32s\n",
            "111:\tlearn: 5.6692145\ttotal: 861ms\tremaining: 1.45s\n",
            "112:\tlearn: 5.6655667\ttotal: 862ms\tremaining: 1.43s\n",
            "113:\tlearn: 5.6614269\ttotal: 863ms\tremaining: 1.41s\n",
            "114:\tlearn: 5.6576275\ttotal: 864ms\tremaining: 1.39s\n",
            "115:\tlearn: 5.6544474\ttotal: 864ms\tremaining: 1.37s\n",
            "116:\tlearn: 5.6451517\ttotal: 865ms\tremaining: 1.35s\n",
            "117:\tlearn: 5.6315861\ttotal: 866ms\tremaining: 1.33s\n",
            "118:\tlearn: 5.6256885\ttotal: 867ms\tremaining: 1.32s\n",
            "119:\tlearn: 5.6192158\ttotal: 868ms\tremaining: 1.3s\n",
            "120:\tlearn: 5.6147135\ttotal: 869ms\tremaining: 1.28s\n",
            "121:\tlearn: 5.6076450\ttotal: 869ms\tremaining: 1.27s\n",
            "122:\tlearn: 5.6039187\ttotal: 870ms\tremaining: 1.25s\n",
            "123:\tlearn: 5.5978956\ttotal: 871ms\tremaining: 1.24s\n",
            "124:\tlearn: 5.5948025\ttotal: 872ms\tremaining: 1.22s\n",
            "125:\tlearn: 5.5873615\ttotal: 957ms\tremaining: 1.32s\n",
            "126:\tlearn: 5.5797573\ttotal: 958ms\tremaining: 1.3s\n",
            "127:\tlearn: 5.5765599\ttotal: 959ms\tremaining: 1.29s\n",
            "128:\tlearn: 5.5697457\ttotal: 960ms\tremaining: 1.27s\n",
            "129:\tlearn: 5.5608554\ttotal: 961ms\tremaining: 1.26s\n",
            "130:\tlearn: 5.5565782\ttotal: 962ms\tremaining: 1.24s\n",
            "131:\tlearn: 5.5518886\ttotal: 963ms\tremaining: 1.23s\n",
            "132:\tlearn: 5.5489587\ttotal: 965ms\tremaining: 1.21s\n",
            "133:\tlearn: 5.5394478\ttotal: 966ms\tremaining: 1.2s\n",
            "134:\tlearn: 5.5346675\ttotal: 967ms\tremaining: 1.18s\n",
            "135:\tlearn: 5.5275305\ttotal: 968ms\tremaining: 1.17s\n",
            "136:\tlearn: 5.5216932\ttotal: 969ms\tremaining: 1.15s\n",
            "137:\tlearn: 5.5116215\ttotal: 1.05s\tremaining: 1.23s\n",
            "138:\tlearn: 5.5065873\ttotal: 1.05s\tremaining: 1.22s\n",
            "139:\tlearn: 5.5015627\ttotal: 1.05s\tremaining: 1.21s\n",
            "140:\tlearn: 5.4971830\ttotal: 1.06s\tremaining: 1.19s\n",
            "141:\tlearn: 5.4899882\ttotal: 1.06s\tremaining: 1.18s\n",
            "142:\tlearn: 5.4803300\ttotal: 1.06s\tremaining: 1.17s\n",
            "143:\tlearn: 5.4780321\ttotal: 1.06s\tremaining: 1.15s\n",
            "144:\tlearn: 5.4681089\ttotal: 1.06s\tremaining: 1.14s\n",
            "145:\tlearn: 5.4606413\ttotal: 1.06s\tremaining: 1.12s\n",
            "146:\tlearn: 5.4553749\ttotal: 1.07s\tremaining: 1.11s\n",
            "147:\tlearn: 5.4485289\ttotal: 1.15s\tremaining: 1.18s\n",
            "148:\tlearn: 5.4405517\ttotal: 1.15s\tremaining: 1.16s\n",
            "149:\tlearn: 5.4376599\ttotal: 1.15s\tremaining: 1.15s\n",
            "150:\tlearn: 5.4321602\ttotal: 1.15s\tremaining: 1.13s\n",
            "151:\tlearn: 5.4231843\ttotal: 1.15s\tremaining: 1.12s\n",
            "152:\tlearn: 5.4154760\ttotal: 1.15s\tremaining: 1.11s\n",
            "153:\tlearn: 5.4049490\ttotal: 1.15s\tremaining: 1.09s\n",
            "154:\tlearn: 5.3975104\ttotal: 1.15s\tremaining: 1.08s\n",
            "155:\tlearn: 5.3910751\ttotal: 1.15s\tremaining: 1.06s\n",
            "156:\tlearn: 5.3868756\ttotal: 1.16s\tremaining: 1.05s\n",
            "157:\tlearn: 5.3825903\ttotal: 1.16s\tremaining: 1.04s\n",
            "158:\tlearn: 5.3793479\ttotal: 1.16s\tremaining: 1.03s\n",
            "159:\tlearn: 5.3698041\ttotal: 1.16s\tremaining: 1.01s\n",
            "160:\tlearn: 5.3676286\ttotal: 1.24s\tremaining: 1.07s\n",
            "161:\tlearn: 5.3592581\ttotal: 1.25s\tremaining: 1.06s\n",
            "162:\tlearn: 5.3532812\ttotal: 1.25s\tremaining: 1.05s\n",
            "163:\tlearn: 5.3487982\ttotal: 1.25s\tremaining: 1.04s\n",
            "164:\tlearn: 5.3429461\ttotal: 1.25s\tremaining: 1.02s\n",
            "165:\tlearn: 5.3409803\ttotal: 1.26s\tremaining: 1.02s\n",
            "166:\tlearn: 5.3338703\ttotal: 1.26s\tremaining: 1s\n",
            "167:\tlearn: 5.3251656\ttotal: 1.26s\tremaining: 991ms\n",
            "168:\tlearn: 5.3215428\ttotal: 1.26s\tremaining: 979ms\n",
            "169:\tlearn: 5.3139783\ttotal: 1.26s\tremaining: 967ms\n",
            "170:\tlearn: 5.3077398\ttotal: 1.27s\tremaining: 955ms\n",
            "171:\tlearn: 5.3021077\ttotal: 1.34s\tremaining: 996ms\n",
            "172:\tlearn: 5.2989608\ttotal: 1.34s\tremaining: 983ms\n",
            "173:\tlearn: 5.2928107\ttotal: 1.34s\tremaining: 970ms\n",
            "174:\tlearn: 5.2903907\ttotal: 1.34s\tremaining: 958ms\n",
            "175:\tlearn: 5.2851477\ttotal: 1.34s\tremaining: 945ms\n",
            "176:\tlearn: 5.2803251\ttotal: 1.34s\tremaining: 933ms\n",
            "177:\tlearn: 5.2739290\ttotal: 1.34s\tremaining: 921ms\n",
            "178:\tlearn: 5.2708403\ttotal: 1.34s\tremaining: 908ms\n",
            "179:\tlearn: 5.2674356\ttotal: 1.34s\tremaining: 896ms\n",
            "180:\tlearn: 5.2646069\ttotal: 1.34s\tremaining: 885ms\n",
            "181:\tlearn: 5.2569574\ttotal: 1.35s\tremaining: 873ms\n",
            "182:\tlearn: 5.2480181\ttotal: 1.35s\tremaining: 861ms\n",
            "183:\tlearn: 5.2462119\ttotal: 1.35s\tremaining: 850ms\n",
            "184:\tlearn: 5.2416351\ttotal: 1.35s\tremaining: 838ms\n",
            "185:\tlearn: 5.2382796\ttotal: 1.43s\tremaining: 879ms\n",
            "186:\tlearn: 5.2313900\ttotal: 1.43s\tremaining: 867ms\n",
            "187:\tlearn: 5.2262920\ttotal: 1.44s\tremaining: 855ms\n",
            "188:\tlearn: 5.2210740\ttotal: 1.44s\tremaining: 844ms\n",
            "189:\tlearn: 5.2162393\ttotal: 1.44s\tremaining: 833ms\n",
            "190:\tlearn: 5.2076079\ttotal: 1.44s\tremaining: 822ms\n",
            "191:\tlearn: 5.2034453\ttotal: 1.44s\tremaining: 810ms\n",
            "192:\tlearn: 5.2006721\ttotal: 1.44s\tremaining: 799ms\n",
            "193:\tlearn: 5.1933961\ttotal: 1.44s\tremaining: 788ms\n",
            "194:\tlearn: 5.1893430\ttotal: 1.44s\tremaining: 777ms\n",
            "195:\tlearn: 5.1854480\ttotal: 1.44s\tremaining: 766ms\n",
            "196:\tlearn: 5.1823920\ttotal: 1.45s\tremaining: 761ms\n",
            "197:\tlearn: 5.1788432\ttotal: 1.53s\tremaining: 788ms\n",
            "198:\tlearn: 5.1721840\ttotal: 1.53s\tremaining: 776ms\n",
            "199:\tlearn: 5.1701458\ttotal: 1.53s\tremaining: 765ms\n",
            "200:\tlearn: 5.1655493\ttotal: 1.53s\tremaining: 754ms\n",
            "201:\tlearn: 5.1611369\ttotal: 1.53s\tremaining: 743ms\n",
            "202:\tlearn: 5.1575023\ttotal: 1.53s\tremaining: 733ms\n",
            "203:\tlearn: 5.1516426\ttotal: 1.53s\tremaining: 722ms\n",
            "204:\tlearn: 5.1476797\ttotal: 1.53s\tremaining: 711ms\n",
            "205:\tlearn: 5.1408030\ttotal: 1.53s\tremaining: 701ms\n",
            "206:\tlearn: 5.1374606\ttotal: 1.54s\tremaining: 690ms\n",
            "207:\tlearn: 5.1340450\ttotal: 1.54s\tremaining: 680ms\n",
            "208:\tlearn: 5.1292032\ttotal: 1.54s\tremaining: 669ms\n",
            "209:\tlearn: 5.1258708\ttotal: 1.54s\tremaining: 659ms\n",
            "210:\tlearn: 5.1222770\ttotal: 1.54s\tremaining: 649ms\n",
            "211:\tlearn: 5.1169369\ttotal: 1.54s\tremaining: 639ms\n",
            "212:\tlearn: 5.1111157\ttotal: 1.62s\tremaining: 663ms\n",
            "213:\tlearn: 5.1058354\ttotal: 1.63s\tremaining: 653ms\n",
            "214:\tlearn: 5.1004712\ttotal: 1.63s\tremaining: 643ms\n",
            "215:\tlearn: 5.0971870\ttotal: 1.63s\tremaining: 633ms\n",
            "216:\tlearn: 5.0912887\ttotal: 1.63s\tremaining: 623ms\n",
            "217:\tlearn: 5.0847132\ttotal: 1.63s\tremaining: 613ms\n",
            "218:\tlearn: 5.0825130\ttotal: 1.63s\tremaining: 603ms\n",
            "219:\tlearn: 5.0767722\ttotal: 1.63s\tremaining: 593ms\n",
            "220:\tlearn: 5.0725892\ttotal: 1.63s\tremaining: 584ms\n",
            "221:\tlearn: 5.0680301\ttotal: 1.63s\tremaining: 574ms\n",
            "222:\tlearn: 5.0666652\ttotal: 1.72s\tremaining: 594ms\n",
            "223:\tlearn: 5.0622990\ttotal: 1.72s\tremaining: 584ms\n",
            "224:\tlearn: 5.0574664\ttotal: 1.72s\tremaining: 574ms\n",
            "225:\tlearn: 5.0549810\ttotal: 1.72s\tremaining: 564ms\n",
            "226:\tlearn: 5.0470821\ttotal: 1.72s\tremaining: 554ms\n",
            "227:\tlearn: 5.0445248\ttotal: 1.72s\tremaining: 544ms\n",
            "228:\tlearn: 5.0418282\ttotal: 1.72s\tremaining: 535ms\n",
            "229:\tlearn: 5.0342575\ttotal: 1.73s\tremaining: 525ms\n",
            "230:\tlearn: 5.0290896\ttotal: 1.73s\tremaining: 516ms\n",
            "231:\tlearn: 5.0246262\ttotal: 1.73s\tremaining: 506ms\n",
            "232:\tlearn: 5.0216338\ttotal: 1.73s\tremaining: 497ms\n",
            "233:\tlearn: 5.0192211\ttotal: 1.73s\tremaining: 487ms\n",
            "234:\tlearn: 5.0168483\ttotal: 1.73s\tremaining: 478ms\n",
            "235:\tlearn: 5.0088723\ttotal: 1.73s\tremaining: 469ms\n",
            "236:\tlearn: 5.0038231\ttotal: 1.81s\tremaining: 482ms\n",
            "237:\tlearn: 4.9978951\ttotal: 1.81s\tremaining: 473ms\n",
            "238:\tlearn: 4.9942906\ttotal: 1.82s\tremaining: 464ms\n",
            "239:\tlearn: 4.9923873\ttotal: 1.82s\tremaining: 454ms\n",
            "240:\tlearn: 4.9841038\ttotal: 1.82s\tremaining: 445ms\n",
            "241:\tlearn: 4.9810671\ttotal: 1.82s\tremaining: 436ms\n",
            "242:\tlearn: 4.9765079\ttotal: 1.82s\tremaining: 427ms\n",
            "243:\tlearn: 4.9712624\ttotal: 1.82s\tremaining: 418ms\n",
            "244:\tlearn: 4.9666945\ttotal: 1.82s\tremaining: 409ms\n",
            "245:\tlearn: 4.9644814\ttotal: 1.82s\tremaining: 400ms\n",
            "246:\tlearn: 4.9604349\ttotal: 1.82s\tremaining: 392ms\n",
            "247:\tlearn: 4.9558221\ttotal: 1.83s\tremaining: 383ms\n",
            "248:\tlearn: 4.9487301\ttotal: 1.91s\tremaining: 391ms\n",
            "249:\tlearn: 4.9439186\ttotal: 1.91s\tremaining: 382ms\n",
            "250:\tlearn: 4.9395528\ttotal: 1.91s\tremaining: 373ms\n",
            "251:\tlearn: 4.9351454\ttotal: 1.91s\tremaining: 364ms\n",
            "252:\tlearn: 4.9299062\ttotal: 1.91s\tremaining: 355ms\n",
            "253:\tlearn: 4.9269042\ttotal: 1.91s\tremaining: 347ms\n",
            "254:\tlearn: 4.9228254\ttotal: 1.92s\tremaining: 338ms\n",
            "255:\tlearn: 4.9179081\ttotal: 1.92s\tremaining: 329ms\n",
            "256:\tlearn: 4.9138277\ttotal: 1.92s\tremaining: 321ms\n",
            "257:\tlearn: 4.9114389\ttotal: 1.92s\tremaining: 312ms\n",
            "258:\tlearn: 4.9094101\ttotal: 1.92s\tremaining: 304ms\n",
            "259:\tlearn: 4.9063064\ttotal: 1.92s\tremaining: 295ms\n",
            "260:\tlearn: 4.9001871\ttotal: 1.92s\tremaining: 287ms\n",
            "261:\tlearn: 4.8943523\ttotal: 1.92s\tremaining: 279ms\n",
            "262:\tlearn: 4.8892296\ttotal: 2s\tremaining: 282ms\n",
            "263:\tlearn: 4.8856915\ttotal: 2.01s\tremaining: 274ms\n",
            "264:\tlearn: 4.8840071\ttotal: 2.01s\tremaining: 265ms\n",
            "265:\tlearn: 4.8779217\ttotal: 2.01s\tremaining: 257ms\n",
            "266:\tlearn: 4.8763346\ttotal: 2.01s\tremaining: 248ms\n",
            "267:\tlearn: 4.8707368\ttotal: 2.01s\tremaining: 240ms\n",
            "268:\tlearn: 4.8688506\ttotal: 2.01s\tremaining: 232ms\n",
            "269:\tlearn: 4.8647657\ttotal: 2.01s\tremaining: 224ms\n",
            "270:\tlearn: 4.8628672\ttotal: 2.01s\tremaining: 215ms\n",
            "271:\tlearn: 4.8613182\ttotal: 2.01s\tremaining: 207ms\n",
            "272:\tlearn: 4.8604713\ttotal: 2.02s\tremaining: 199ms\n",
            "273:\tlearn: 4.8574089\ttotal: 2.02s\tremaining: 191ms\n",
            "274:\tlearn: 4.8519203\ttotal: 2.02s\tremaining: 184ms\n",
            "275:\tlearn: 4.8474656\ttotal: 2.1s\tremaining: 183ms\n",
            "276:\tlearn: 4.8462024\ttotal: 2.1s\tremaining: 174ms\n",
            "277:\tlearn: 4.8437085\ttotal: 2.1s\tremaining: 166ms\n",
            "278:\tlearn: 4.8377682\ttotal: 2.1s\tremaining: 158ms\n",
            "279:\tlearn: 4.8364180\ttotal: 2.1s\tremaining: 150ms\n",
            "280:\tlearn: 4.8323559\ttotal: 2.1s\tremaining: 142ms\n",
            "281:\tlearn: 4.8290206\ttotal: 2.1s\tremaining: 134ms\n",
            "282:\tlearn: 4.8221699\ttotal: 2.1s\tremaining: 127ms\n",
            "283:\tlearn: 4.8196069\ttotal: 2.11s\tremaining: 119ms\n",
            "284:\tlearn: 4.8180129\ttotal: 2.11s\tremaining: 111ms\n",
            "285:\tlearn: 4.8160308\ttotal: 2.11s\tremaining: 103ms\n",
            "286:\tlearn: 4.8138872\ttotal: 2.11s\tremaining: 95.6ms\n",
            "287:\tlearn: 4.8105524\ttotal: 2.11s\tremaining: 88ms\n",
            "288:\tlearn: 4.8088581\ttotal: 2.11s\tremaining: 80.4ms\n",
            "289:\tlearn: 4.8037111\ttotal: 2.2s\tremaining: 75.7ms\n",
            "290:\tlearn: 4.8008468\ttotal: 2.2s\tremaining: 67.9ms\n",
            "291:\tlearn: 4.7981177\ttotal: 2.2s\tremaining: 60.2ms\n",
            "292:\tlearn: 4.7973636\ttotal: 2.2s\tremaining: 52.5ms\n",
            "293:\tlearn: 4.7951787\ttotal: 2.2s\tremaining: 44.9ms\n",
            "294:\tlearn: 4.7918876\ttotal: 2.2s\tremaining: 37.3ms\n",
            "295:\tlearn: 4.7889897\ttotal: 2.2s\tremaining: 29.7ms\n",
            "296:\tlearn: 4.7847706\ttotal: 2.2s\tremaining: 22.2ms\n",
            "297:\tlearn: 4.7828854\ttotal: 2.2s\tremaining: 14.8ms\n",
            "298:\tlearn: 4.7803937\ttotal: 2.2s\tremaining: 7.37ms\n",
            "299:\tlearn: 4.7775537\ttotal: 2.2s\tremaining: 0us\n",
            "[CV]  depth=4, learning_rate=0.05, loss_function=MAE, n_estimators=300, random_state=123, score=0.457, total=   3.5s\n",
            "[Parallel(n_jobs=1)]: Done  10 out of  10 | elapsed:   25.4s remaining:    0.0s\n",
            "[CV] depth=4, learning_rate=0.05, loss_function=MAE, n_estimators=300, random_state=123 \n",
            "0:\tlearn: 7.8477224\ttotal: 1.08ms\tremaining: 322ms\n",
            "1:\tlearn: 7.7985750\ttotal: 2.05ms\tremaining: 305ms\n",
            "2:\tlearn: 7.7472456\ttotal: 2.85ms\tremaining: 283ms\n",
            "3:\tlearn: 7.6782278\ttotal: 3.64ms\tremaining: 269ms\n",
            "4:\tlearn: 7.6299858\ttotal: 4.38ms\tremaining: 259ms\n",
            "5:\tlearn: 7.5743591\ttotal: 5.17ms\tremaining: 253ms\n",
            "6:\tlearn: 7.5007839\ttotal: 5.94ms\tremaining: 249ms\n",
            "7:\tlearn: 7.4244905\ttotal: 6.73ms\tremaining: 246ms\n",
            "8:\tlearn: 7.3905339\ttotal: 7.5ms\tremaining: 242ms\n",
            "9:\tlearn: 7.3316657\ttotal: 8.34ms\tremaining: 242ms\n",
            "10:\tlearn: 7.2853086\ttotal: 9.1ms\tremaining: 239ms\n",
            "11:\tlearn: 7.2261617\ttotal: 9.8ms\tremaining: 235ms\n",
            "12:\tlearn: 7.1902628\ttotal: 15.9ms\tremaining: 351ms\n",
            "13:\tlearn: 7.1386663\ttotal: 53.5ms\tremaining: 1.09s\n",
            "14:\tlearn: 7.0759314\ttotal: 54.5ms\tremaining: 1.03s\n",
            "15:\tlearn: 7.0482627\ttotal: 55.3ms\tremaining: 982ms\n",
            "16:\tlearn: 7.0236753\ttotal: 56.2ms\tremaining: 935ms\n",
            "17:\tlearn: 6.9692987\ttotal: 57ms\tremaining: 892ms\n",
            "18:\tlearn: 6.9312344\ttotal: 57.8ms\tremaining: 854ms\n",
            "19:\tlearn: 6.8811062\ttotal: 58.5ms\tremaining: 819ms\n",
            "20:\tlearn: 6.8236095\ttotal: 59.3ms\tremaining: 787ms\n",
            "21:\tlearn: 6.7930234\ttotal: 60.1ms\tremaining: 759ms\n",
            "22:\tlearn: 6.7484687\ttotal: 60.8ms\tremaining: 732ms\n",
            "23:\tlearn: 6.7311996\ttotal: 61.5ms\tremaining: 707ms\n",
            "24:\tlearn: 6.7076609\ttotal: 62.3ms\tremaining: 685ms\n",
            "25:\tlearn: 6.6772712\ttotal: 63.1ms\tremaining: 665ms\n",
            "26:\tlearn: 6.6572781\ttotal: 64ms\tremaining: 647ms\n",
            "27:\tlearn: 6.6397619\ttotal: 64.8ms\tremaining: 629ms\n",
            "28:\tlearn: 6.6175686\ttotal: 65.5ms\tremaining: 612ms\n",
            "29:\tlearn: 6.6042048\ttotal: 149ms\tremaining: 1.34s\n",
            "30:\tlearn: 6.5861273\ttotal: 150ms\tremaining: 1.3s\n",
            "31:\tlearn: 6.5523820\ttotal: 151ms\tremaining: 1.27s\n",
            "32:\tlearn: 6.5227722\ttotal: 152ms\tremaining: 1.23s\n",
            "33:\tlearn: 6.4923031\ttotal: 154ms\tremaining: 1.2s\n",
            "34:\tlearn: 6.4740560\ttotal: 154ms\tremaining: 1.17s\n",
            "35:\tlearn: 6.4467875\ttotal: 155ms\tremaining: 1.14s\n",
            "36:\tlearn: 6.4184063\ttotal: 156ms\tremaining: 1.11s\n",
            "37:\tlearn: 6.3882296\ttotal: 158ms\tremaining: 1.09s\n",
            "38:\tlearn: 6.3642940\ttotal: 159ms\tremaining: 1.06s\n",
            "39:\tlearn: 6.3360145\ttotal: 160ms\tremaining: 1.04s\n",
            "40:\tlearn: 6.3172629\ttotal: 161ms\tremaining: 1.02s\n",
            "41:\tlearn: 6.3096479\ttotal: 162ms\tremaining: 995ms\n",
            "42:\tlearn: 6.2932283\ttotal: 244ms\tremaining: 1.46s\n",
            "43:\tlearn: 6.2762394\ttotal: 246ms\tremaining: 1.43s\n",
            "44:\tlearn: 6.2610192\ttotal: 246ms\tremaining: 1.4s\n",
            "45:\tlearn: 6.2416651\ttotal: 247ms\tremaining: 1.36s\n",
            "46:\tlearn: 6.2171699\ttotal: 248ms\tremaining: 1.33s\n",
            "47:\tlearn: 6.2066423\ttotal: 249ms\tremaining: 1.3s\n",
            "48:\tlearn: 6.1908209\ttotal: 249ms\tremaining: 1.28s\n",
            "49:\tlearn: 6.1824400\ttotal: 250ms\tremaining: 1.25s\n",
            "50:\tlearn: 6.1593537\ttotal: 251ms\tremaining: 1.23s\n",
            "51:\tlearn: 6.1335235\ttotal: 252ms\tremaining: 1.2s\n",
            "52:\tlearn: 6.1080068\ttotal: 253ms\tremaining: 1.18s\n",
            "53:\tlearn: 6.0967510\ttotal: 253ms\tremaining: 1.15s\n",
            "54:\tlearn: 6.0886383\ttotal: 260ms\tremaining: 1.16s\n",
            "55:\tlearn: 6.0768101\ttotal: 339ms\tremaining: 1.48s\n",
            "56:\tlearn: 6.0661080\ttotal: 340ms\tremaining: 1.45s\n",
            "57:\tlearn: 6.0532411\ttotal: 341ms\tremaining: 1.42s\n",
            "58:\tlearn: 6.0404103\ttotal: 342ms\tremaining: 1.4s\n",
            "59:\tlearn: 6.0281796\ttotal: 343ms\tremaining: 1.37s\n",
            "60:\tlearn: 6.0194568\ttotal: 343ms\tremaining: 1.34s\n",
            "61:\tlearn: 6.0128011\ttotal: 344ms\tremaining: 1.32s\n",
            "62:\tlearn: 5.9903038\ttotal: 345ms\tremaining: 1.3s\n",
            "63:\tlearn: 5.9820897\ttotal: 346ms\tremaining: 1.27s\n",
            "64:\tlearn: 5.9663178\ttotal: 347ms\tremaining: 1.25s\n",
            "65:\tlearn: 5.9556772\ttotal: 347ms\tremaining: 1.23s\n",
            "66:\tlearn: 5.9383707\ttotal: 348ms\tremaining: 1.21s\n",
            "67:\tlearn: 5.9233958\ttotal: 349ms\tremaining: 1.19s\n",
            "68:\tlearn: 5.9157274\ttotal: 350ms\tremaining: 1.17s\n",
            "69:\tlearn: 5.9039099\ttotal: 435ms\tremaining: 1.43s\n",
            "70:\tlearn: 5.8953249\ttotal: 435ms\tremaining: 1.4s\n",
            "71:\tlearn: 5.8830874\ttotal: 437ms\tremaining: 1.38s\n",
            "72:\tlearn: 5.8648392\ttotal: 438ms\tremaining: 1.36s\n",
            "73:\tlearn: 5.8547653\ttotal: 439ms\tremaining: 1.34s\n",
            "74:\tlearn: 5.8493507\ttotal: 440ms\tremaining: 1.32s\n",
            "75:\tlearn: 5.8376747\ttotal: 441ms\tremaining: 1.3s\n",
            "76:\tlearn: 5.8258400\ttotal: 442ms\tremaining: 1.28s\n",
            "77:\tlearn: 5.8150893\ttotal: 443ms\tremaining: 1.26s\n",
            "78:\tlearn: 5.8089930\ttotal: 444ms\tremaining: 1.24s\n",
            "79:\tlearn: 5.7997393\ttotal: 444ms\tremaining: 1.22s\n",
            "80:\tlearn: 5.7920125\ttotal: 445ms\tremaining: 1.2s\n",
            "81:\tlearn: 5.7833377\ttotal: 530ms\tremaining: 1.41s\n",
            "82:\tlearn: 5.7707129\ttotal: 531ms\tremaining: 1.39s\n",
            "83:\tlearn: 5.7658317\ttotal: 532ms\tremaining: 1.37s\n",
            "84:\tlearn: 5.7603797\ttotal: 533ms\tremaining: 1.35s\n",
            "85:\tlearn: 5.7416614\ttotal: 534ms\tremaining: 1.33s\n",
            "86:\tlearn: 5.7286518\ttotal: 534ms\tremaining: 1.31s\n",
            "87:\tlearn: 5.7218306\ttotal: 535ms\tremaining: 1.29s\n",
            "88:\tlearn: 5.7143237\ttotal: 536ms\tremaining: 1.27s\n",
            "89:\tlearn: 5.7084634\ttotal: 537ms\tremaining: 1.25s\n",
            "90:\tlearn: 5.7004698\ttotal: 538ms\tremaining: 1.23s\n",
            "91:\tlearn: 5.6888264\ttotal: 538ms\tremaining: 1.22s\n",
            "92:\tlearn: 5.6819660\ttotal: 539ms\tremaining: 1.2s\n",
            "93:\tlearn: 5.6713044\ttotal: 540ms\tremaining: 1.18s\n",
            "94:\tlearn: 5.6644393\ttotal: 546ms\tremaining: 1.18s\n",
            "95:\tlearn: 5.6531686\ttotal: 625ms\tremaining: 1.33s\n",
            "96:\tlearn: 5.6456046\ttotal: 626ms\tremaining: 1.31s\n",
            "97:\tlearn: 5.6396225\ttotal: 627ms\tremaining: 1.29s\n",
            "98:\tlearn: 5.6329755\ttotal: 628ms\tremaining: 1.27s\n",
            "99:\tlearn: 5.6281210\ttotal: 629ms\tremaining: 1.26s\n",
            "100:\tlearn: 5.6196334\ttotal: 631ms\tremaining: 1.24s\n",
            "101:\tlearn: 5.6139194\ttotal: 632ms\tremaining: 1.23s\n",
            "102:\tlearn: 5.6064233\ttotal: 634ms\tremaining: 1.21s\n",
            "103:\tlearn: 5.6002584\ttotal: 634ms\tremaining: 1.2s\n",
            "104:\tlearn: 5.5887030\ttotal: 635ms\tremaining: 1.18s\n",
            "105:\tlearn: 5.5850380\ttotal: 636ms\tremaining: 1.16s\n",
            "106:\tlearn: 5.5816272\ttotal: 637ms\tremaining: 1.15s\n",
            "107:\tlearn: 5.5700018\ttotal: 638ms\tremaining: 1.13s\n",
            "108:\tlearn: 5.5607026\ttotal: 721ms\tremaining: 1.26s\n",
            "109:\tlearn: 5.5572625\ttotal: 722ms\tremaining: 1.25s\n",
            "110:\tlearn: 5.5521776\ttotal: 722ms\tremaining: 1.23s\n",
            "111:\tlearn: 5.5479027\ttotal: 723ms\tremaining: 1.21s\n",
            "112:\tlearn: 5.5410498\ttotal: 724ms\tremaining: 1.2s\n",
            "113:\tlearn: 5.5338082\ttotal: 725ms\tremaining: 1.18s\n",
            "114:\tlearn: 5.5283129\ttotal: 726ms\tremaining: 1.17s\n",
            "115:\tlearn: 5.5205146\ttotal: 726ms\tremaining: 1.15s\n",
            "116:\tlearn: 5.5165089\ttotal: 727ms\tremaining: 1.14s\n",
            "117:\tlearn: 5.5120364\ttotal: 728ms\tremaining: 1.12s\n",
            "118:\tlearn: 5.5052095\ttotal: 729ms\tremaining: 1.11s\n",
            "119:\tlearn: 5.4974721\ttotal: 730ms\tremaining: 1.09s\n",
            "120:\tlearn: 5.4866998\ttotal: 730ms\tremaining: 1.08s\n",
            "121:\tlearn: 5.4828048\ttotal: 737ms\tremaining: 1.07s\n",
            "122:\tlearn: 5.4756579\ttotal: 817ms\tremaining: 1.18s\n",
            "123:\tlearn: 5.4697663\ttotal: 818ms\tremaining: 1.16s\n",
            "124:\tlearn: 5.4646841\ttotal: 819ms\tremaining: 1.15s\n",
            "125:\tlearn: 5.4580175\ttotal: 820ms\tremaining: 1.13s\n",
            "126:\tlearn: 5.4517516\ttotal: 821ms\tremaining: 1.12s\n",
            "127:\tlearn: 5.4471933\ttotal: 823ms\tremaining: 1.11s\n",
            "128:\tlearn: 5.4383416\ttotal: 824ms\tremaining: 1.09s\n",
            "129:\tlearn: 5.4353832\ttotal: 825ms\tremaining: 1.08s\n",
            "130:\tlearn: 5.4290805\ttotal: 826ms\tremaining: 1.06s\n",
            "131:\tlearn: 5.4229626\ttotal: 827ms\tremaining: 1.05s\n",
            "132:\tlearn: 5.4144269\ttotal: 828ms\tremaining: 1.04s\n",
            "133:\tlearn: 5.4046844\ttotal: 829ms\tremaining: 1.03s\n",
            "134:\tlearn: 5.3981431\ttotal: 911ms\tremaining: 1.11s\n",
            "135:\tlearn: 5.3898741\ttotal: 912ms\tremaining: 1.1s\n",
            "136:\tlearn: 5.3832473\ttotal: 913ms\tremaining: 1.09s\n",
            "137:\tlearn: 5.3759275\ttotal: 914ms\tremaining: 1.07s\n",
            "138:\tlearn: 5.3630790\ttotal: 916ms\tremaining: 1.06s\n",
            "139:\tlearn: 5.3530304\ttotal: 917ms\tremaining: 1.05s\n",
            "140:\tlearn: 5.3474449\ttotal: 918ms\tremaining: 1.03s\n",
            "141:\tlearn: 5.3416310\ttotal: 919ms\tremaining: 1.02s\n",
            "142:\tlearn: 5.3353775\ttotal: 920ms\tremaining: 1.01s\n",
            "143:\tlearn: 5.3315218\ttotal: 922ms\tremaining: 998ms\n",
            "144:\tlearn: 5.3255207\ttotal: 923ms\tremaining: 986ms\n",
            "145:\tlearn: 5.3221464\ttotal: 924ms\tremaining: 974ms\n",
            "146:\tlearn: 5.3142418\ttotal: 925ms\tremaining: 963ms\n",
            "147:\tlearn: 5.3097993\ttotal: 1.01s\tremaining: 1.03s\n",
            "148:\tlearn: 5.3032008\ttotal: 1.01s\tremaining: 1.02s\n",
            "149:\tlearn: 5.2979123\ttotal: 1.01s\tremaining: 1.01s\n",
            "150:\tlearn: 5.2936384\ttotal: 1.01s\tremaining: 996ms\n",
            "151:\tlearn: 5.2881110\ttotal: 1.01s\tremaining: 984ms\n",
            "152:\tlearn: 5.2849847\ttotal: 1.01s\tremaining: 972ms\n",
            "153:\tlearn: 5.2799841\ttotal: 1.01s\tremaining: 960ms\n",
            "154:\tlearn: 5.2730584\ttotal: 1.01s\tremaining: 948ms\n",
            "155:\tlearn: 5.2700874\ttotal: 1.01s\tremaining: 937ms\n",
            "156:\tlearn: 5.2633790\ttotal: 1.01s\tremaining: 925ms\n",
            "157:\tlearn: 5.2561456\ttotal: 1.02s\tremaining: 914ms\n",
            "158:\tlearn: 5.2501431\ttotal: 1.02s\tremaining: 903ms\n",
            "159:\tlearn: 5.2441617\ttotal: 1.02s\tremaining: 891ms\n",
            "160:\tlearn: 5.2374147\ttotal: 1.1s\tremaining: 952ms\n",
            "161:\tlearn: 5.2340520\ttotal: 1.1s\tremaining: 940ms\n",
            "162:\tlearn: 5.2287396\ttotal: 1.1s\tremaining: 928ms\n",
            "163:\tlearn: 5.2205730\ttotal: 1.1s\tremaining: 916ms\n",
            "164:\tlearn: 5.2140448\ttotal: 1.1s\tremaining: 905ms\n",
            "165:\tlearn: 5.2078016\ttotal: 1.11s\tremaining: 893ms\n",
            "166:\tlearn: 5.2005916\ttotal: 1.11s\tremaining: 882ms\n",
            "167:\tlearn: 5.1961158\ttotal: 1.11s\tremaining: 871ms\n",
            "168:\tlearn: 5.1924007\ttotal: 1.11s\tremaining: 860ms\n",
            "169:\tlearn: 5.1859162\ttotal: 1.11s\tremaining: 849ms\n",
            "170:\tlearn: 5.1785849\ttotal: 1.11s\tremaining: 838ms\n",
            "171:\tlearn: 5.1730067\ttotal: 1.11s\tremaining: 827ms\n",
            "172:\tlearn: 5.1657707\ttotal: 1.11s\tremaining: 816ms\n",
            "173:\tlearn: 5.1625808\ttotal: 1.12s\tremaining: 813ms\n",
            "174:\tlearn: 5.1575401\ttotal: 1.2s\tremaining: 855ms\n",
            "175:\tlearn: 5.1529598\ttotal: 1.2s\tremaining: 844ms\n",
            "176:\tlearn: 5.1489507\ttotal: 1.2s\tremaining: 833ms\n",
            "177:\tlearn: 5.1405144\ttotal: 1.2s\tremaining: 822ms\n",
            "178:\tlearn: 5.1314618\ttotal: 1.2s\tremaining: 812ms\n",
            "179:\tlearn: 5.1258574\ttotal: 1.2s\tremaining: 801ms\n",
            "180:\tlearn: 5.1153939\ttotal: 1.2s\tremaining: 790ms\n",
            "181:\tlearn: 5.1108025\ttotal: 1.2s\tremaining: 780ms\n",
            "182:\tlearn: 5.1053146\ttotal: 1.2s\tremaining: 770ms\n",
            "183:\tlearn: 5.0959148\ttotal: 1.2s\tremaining: 759ms\n",
            "184:\tlearn: 5.0888183\ttotal: 1.21s\tremaining: 749ms\n",
            "185:\tlearn: 5.0851317\ttotal: 1.21s\tremaining: 740ms\n",
            "186:\tlearn: 5.0782447\ttotal: 1.21s\tremaining: 730ms\n",
            "187:\tlearn: 5.0733204\ttotal: 1.21s\tremaining: 720ms\n",
            "188:\tlearn: 5.0671471\ttotal: 1.29s\tremaining: 759ms\n",
            "189:\tlearn: 5.0622804\ttotal: 1.29s\tremaining: 749ms\n",
            "190:\tlearn: 5.0583963\ttotal: 1.29s\tremaining: 739ms\n",
            "191:\tlearn: 5.0521873\ttotal: 1.29s\tremaining: 729ms\n",
            "192:\tlearn: 5.0481221\ttotal: 1.29s\tremaining: 718ms\n",
            "193:\tlearn: 5.0459955\ttotal: 1.3s\tremaining: 708ms\n",
            "194:\tlearn: 5.0382735\ttotal: 1.3s\tremaining: 699ms\n",
            "195:\tlearn: 5.0328508\ttotal: 1.3s\tremaining: 689ms\n",
            "196:\tlearn: 5.0277913\ttotal: 1.3s\tremaining: 679ms\n",
            "197:\tlearn: 5.0237180\ttotal: 1.3s\tremaining: 669ms\n",
            "198:\tlearn: 5.0206302\ttotal: 1.3s\tremaining: 660ms\n",
            "199:\tlearn: 5.0155960\ttotal: 1.3s\tremaining: 651ms\n",
            "200:\tlearn: 5.0061127\ttotal: 1.3s\tremaining: 642ms\n",
            "201:\tlearn: 5.0010577\ttotal: 1.31s\tremaining: 635ms\n",
            "202:\tlearn: 4.9986831\ttotal: 1.31s\tremaining: 626ms\n",
            "203:\tlearn: 4.9919499\ttotal: 1.38s\tremaining: 651ms\n",
            "204:\tlearn: 4.9857280\ttotal: 1.38s\tremaining: 641ms\n",
            "205:\tlearn: 4.9827002\ttotal: 1.38s\tremaining: 632ms\n",
            "206:\tlearn: 4.9769829\ttotal: 1.39s\tremaining: 622ms\n",
            "207:\tlearn: 4.9738908\ttotal: 1.39s\tremaining: 613ms\n",
            "208:\tlearn: 4.9681179\ttotal: 1.39s\tremaining: 604ms\n",
            "209:\tlearn: 4.9655479\ttotal: 1.39s\tremaining: 595ms\n",
            "210:\tlearn: 4.9627274\ttotal: 1.39s\tremaining: 586ms\n",
            "211:\tlearn: 4.9510099\ttotal: 1.39s\tremaining: 577ms\n",
            "212:\tlearn: 4.9478560\ttotal: 1.39s\tremaining: 568ms\n",
            "213:\tlearn: 4.9433956\ttotal: 1.39s\tremaining: 559ms\n",
            "214:\tlearn: 4.9377841\ttotal: 1.39s\tremaining: 550ms\n",
            "215:\tlearn: 4.9345917\ttotal: 1.39s\tremaining: 542ms\n",
            "216:\tlearn: 4.9276428\ttotal: 1.48s\tremaining: 565ms\n",
            "217:\tlearn: 4.9258537\ttotal: 1.48s\tremaining: 556ms\n",
            "218:\tlearn: 4.9234464\ttotal: 1.48s\tremaining: 547ms\n",
            "219:\tlearn: 4.9193974\ttotal: 1.48s\tremaining: 538ms\n",
            "220:\tlearn: 4.9153987\ttotal: 1.48s\tremaining: 530ms\n",
            "221:\tlearn: 4.9133303\ttotal: 1.48s\tremaining: 521ms\n",
            "222:\tlearn: 4.9114841\ttotal: 1.48s\tremaining: 512ms\n",
            "223:\tlearn: 4.9056256\ttotal: 1.48s\tremaining: 504ms\n",
            "224:\tlearn: 4.9034405\ttotal: 1.49s\tremaining: 495ms\n",
            "225:\tlearn: 4.8993154\ttotal: 1.49s\tremaining: 487ms\n",
            "226:\tlearn: 4.8949478\ttotal: 1.49s\tremaining: 478ms\n",
            "227:\tlearn: 4.8931950\ttotal: 1.49s\tremaining: 470ms\n",
            "228:\tlearn: 4.8895168\ttotal: 1.49s\tremaining: 461ms\n",
            "229:\tlearn: 4.8842854\ttotal: 1.57s\tremaining: 479ms\n",
            "230:\tlearn: 4.8817007\ttotal: 1.57s\tremaining: 470ms\n",
            "231:\tlearn: 4.8794107\ttotal: 1.57s\tremaining: 462ms\n",
            "232:\tlearn: 4.8750442\ttotal: 1.58s\tremaining: 453ms\n",
            "233:\tlearn: 4.8710363\ttotal: 1.58s\tremaining: 445ms\n",
            "234:\tlearn: 4.8688887\ttotal: 1.58s\tremaining: 436ms\n",
            "235:\tlearn: 4.8649426\ttotal: 1.58s\tremaining: 428ms\n",
            "236:\tlearn: 4.8587512\ttotal: 1.58s\tremaining: 420ms\n",
            "237:\tlearn: 4.8536475\ttotal: 1.58s\tremaining: 412ms\n",
            "238:\tlearn: 4.8474566\ttotal: 1.58s\tremaining: 404ms\n",
            "239:\tlearn: 4.8437788\ttotal: 1.58s\tremaining: 396ms\n",
            "240:\tlearn: 4.8409374\ttotal: 1.58s\tremaining: 388ms\n",
            "241:\tlearn: 4.8393878\ttotal: 1.67s\tremaining: 400ms\n",
            "242:\tlearn: 4.8322833\ttotal: 1.67s\tremaining: 392ms\n",
            "243:\tlearn: 4.8279006\ttotal: 1.67s\tremaining: 384ms\n",
            "244:\tlearn: 4.8238291\ttotal: 1.67s\tremaining: 376ms\n",
            "245:\tlearn: 4.8184854\ttotal: 1.67s\tremaining: 368ms\n",
            "246:\tlearn: 4.8137841\ttotal: 1.68s\tremaining: 360ms\n",
            "247:\tlearn: 4.8116192\ttotal: 1.68s\tremaining: 352ms\n",
            "248:\tlearn: 4.8090817\ttotal: 1.68s\tremaining: 344ms\n",
            "249:\tlearn: 4.8063730\ttotal: 1.68s\tremaining: 336ms\n",
            "250:\tlearn: 4.8031480\ttotal: 1.68s\tremaining: 328ms\n",
            "251:\tlearn: 4.7982610\ttotal: 1.68s\tremaining: 320ms\n",
            "252:\tlearn: 4.7937939\ttotal: 1.68s\tremaining: 313ms\n",
            "253:\tlearn: 4.7925565\ttotal: 1.76s\tremaining: 320ms\n",
            "254:\tlearn: 4.7879479\ttotal: 1.77s\tremaining: 312ms\n",
            "255:\tlearn: 4.7854991\ttotal: 1.77s\tremaining: 304ms\n",
            "256:\tlearn: 4.7801663\ttotal: 1.77s\tremaining: 296ms\n",
            "257:\tlearn: 4.7758219\ttotal: 1.77s\tremaining: 288ms\n",
            "258:\tlearn: 4.7734379\ttotal: 1.77s\tremaining: 280ms\n",
            "259:\tlearn: 4.7690973\ttotal: 1.77s\tremaining: 273ms\n",
            "260:\tlearn: 4.7655662\ttotal: 1.77s\tremaining: 265ms\n",
            "261:\tlearn: 4.7623964\ttotal: 1.77s\tremaining: 258ms\n",
            "262:\tlearn: 4.7593391\ttotal: 1.78s\tremaining: 250ms\n",
            "263:\tlearn: 4.7500084\ttotal: 1.78s\tremaining: 243ms\n",
            "264:\tlearn: 4.7478779\ttotal: 1.86s\tremaining: 246ms\n",
            "265:\tlearn: 4.7402978\ttotal: 1.86s\tremaining: 238ms\n",
            "266:\tlearn: 4.7366182\ttotal: 1.86s\tremaining: 230ms\n",
            "267:\tlearn: 4.7297612\ttotal: 1.86s\tremaining: 223ms\n",
            "268:\tlearn: 4.7267951\ttotal: 1.86s\tremaining: 215ms\n",
            "269:\tlearn: 4.7246763\ttotal: 1.86s\tremaining: 207ms\n",
            "270:\tlearn: 4.7215447\ttotal: 1.87s\tremaining: 200ms\n",
            "271:\tlearn: 4.7152374\ttotal: 1.87s\tremaining: 192ms\n",
            "272:\tlearn: 4.7137575\ttotal: 1.87s\tremaining: 185ms\n",
            "273:\tlearn: 4.7106310\ttotal: 1.87s\tremaining: 177ms\n",
            "274:\tlearn: 4.7063157\ttotal: 1.87s\tremaining: 170ms\n",
            "275:\tlearn: 4.7005772\ttotal: 1.87s\tremaining: 163ms\n",
            "276:\tlearn: 4.6967709\ttotal: 1.96s\tremaining: 163ms\n",
            "277:\tlearn: 4.6941392\ttotal: 1.96s\tremaining: 155ms\n",
            "278:\tlearn: 4.6913314\ttotal: 1.96s\tremaining: 147ms\n",
            "279:\tlearn: 4.6871915\ttotal: 1.96s\tremaining: 140ms\n",
            "280:\tlearn: 4.6805433\ttotal: 1.96s\tremaining: 133ms\n",
            "281:\tlearn: 4.6780948\ttotal: 1.96s\tremaining: 125ms\n",
            "282:\tlearn: 4.6726944\ttotal: 1.96s\tremaining: 118ms\n",
            "283:\tlearn: 4.6703096\ttotal: 1.96s\tremaining: 111ms\n",
            "284:\tlearn: 4.6669969\ttotal: 1.96s\tremaining: 103ms\n",
            "285:\tlearn: 4.6622506\ttotal: 1.96s\tremaining: 96.2ms\n",
            "286:\tlearn: 4.6604872\ttotal: 1.97s\tremaining: 89ms\n",
            "287:\tlearn: 4.6597673\ttotal: 1.97s\tremaining: 81.9ms\n",
            "288:\tlearn: 4.6590943\ttotal: 1.97s\tremaining: 74.9ms\n",
            "289:\tlearn: 4.6572622\ttotal: 1.97s\tremaining: 67.8ms\n",
            "290:\tlearn: 4.6542741\ttotal: 2.05s\tremaining: 63.5ms\n",
            "291:\tlearn: 4.6532464\ttotal: 2.05s\tremaining: 56.3ms\n",
            "292:\tlearn: 4.6478578\ttotal: 2.05s\tremaining: 49.1ms\n",
            "293:\tlearn: 4.6466947\ttotal: 2.05s\tremaining: 41.9ms\n",
            "294:\tlearn: 4.6450713\ttotal: 2.06s\tremaining: 34.8ms\n",
            "295:\tlearn: 4.6432975\ttotal: 2.06s\tremaining: 27.8ms\n",
            "296:\tlearn: 4.6394004\ttotal: 2.06s\tremaining: 20.8ms\n",
            "297:\tlearn: 4.6336091\ttotal: 2.06s\tremaining: 13.8ms\n",
            "298:\tlearn: 4.6315162\ttotal: 2.06s\tremaining: 6.88ms\n",
            "299:\tlearn: 4.6312371\ttotal: 2.06s\tremaining: 0us\n",
            "[CV]  depth=4, learning_rate=0.05, loss_function=MAE, n_estimators=300, random_state=123, score=0.413, total=   3.4s\n",
            "[Parallel(n_jobs=1)]: Done  11 out of  11 | elapsed:   28.8s remaining:    0.0s\n",
            "[CV] depth=4, learning_rate=0.05, loss_function=MAE, n_estimators=300, random_state=123 \n",
            "0:\tlearn: 8.1009440\ttotal: 1.03ms\tremaining: 309ms\n",
            "1:\tlearn: 8.0218912\ttotal: 2.07ms\tremaining: 309ms\n",
            "2:\tlearn: 7.9665556\ttotal: 3.06ms\tremaining: 303ms\n",
            "3:\tlearn: 7.9215851\ttotal: 3.88ms\tremaining: 287ms\n",
            "4:\tlearn: 7.8621585\ttotal: 4.65ms\tremaining: 274ms\n",
            "5:\tlearn: 7.7759611\ttotal: 5.47ms\tremaining: 268ms\n",
            "6:\tlearn: 7.7189921\ttotal: 6.24ms\tremaining: 261ms\n",
            "7:\tlearn: 7.6668715\ttotal: 7.06ms\tremaining: 258ms\n",
            "8:\tlearn: 7.5917229\ttotal: 7.84ms\tremaining: 254ms\n",
            "9:\tlearn: 7.5473872\ttotal: 8.67ms\tremaining: 251ms\n",
            "10:\tlearn: 7.4827622\ttotal: 9.4ms\tremaining: 247ms\n",
            "11:\tlearn: 7.3998312\ttotal: 10.1ms\tremaining: 242ms\n",
            "12:\tlearn: 7.3642863\ttotal: 10.8ms\tremaining: 238ms\n",
            "13:\tlearn: 7.3126770\ttotal: 63.6ms\tremaining: 1.3s\n",
            "14:\tlearn: 7.2270390\ttotal: 64.5ms\tremaining: 1.22s\n",
            "15:\tlearn: 7.1885094\ttotal: 65.3ms\tremaining: 1.16s\n",
            "16:\tlearn: 7.1495954\ttotal: 66.2ms\tremaining: 1.1s\n",
            "17:\tlearn: 7.0863865\ttotal: 66.9ms\tremaining: 1.05s\n",
            "18:\tlearn: 7.0425509\ttotal: 67.7ms\tremaining: 1s\n",
            "19:\tlearn: 6.9967752\ttotal: 68.5ms\tremaining: 959ms\n",
            "20:\tlearn: 6.9636777\ttotal: 69.2ms\tremaining: 920ms\n",
            "21:\tlearn: 6.9258320\ttotal: 70ms\tremaining: 884ms\n",
            "22:\tlearn: 6.8933086\ttotal: 70.8ms\tremaining: 852ms\n",
            "23:\tlearn: 6.8569513\ttotal: 71.5ms\tremaining: 822ms\n",
            "24:\tlearn: 6.8378810\ttotal: 72.3ms\tremaining: 795ms\n",
            "25:\tlearn: 6.7821953\ttotal: 73.1ms\tremaining: 770ms\n",
            "26:\tlearn: 6.7544476\ttotal: 73.8ms\tremaining: 746ms\n",
            "27:\tlearn: 6.7195353\ttotal: 159ms\tremaining: 1.54s\n",
            "28:\tlearn: 6.6968309\ttotal: 160ms\tremaining: 1.5s\n",
            "29:\tlearn: 6.6807200\ttotal: 162ms\tremaining: 1.46s\n",
            "30:\tlearn: 6.6544391\ttotal: 164ms\tremaining: 1.42s\n",
            "31:\tlearn: 6.6370996\ttotal: 165ms\tremaining: 1.38s\n",
            "32:\tlearn: 6.6112619\ttotal: 166ms\tremaining: 1.34s\n",
            "33:\tlearn: 6.5911622\ttotal: 168ms\tremaining: 1.31s\n",
            "34:\tlearn: 6.5660431\ttotal: 169ms\tremaining: 1.28s\n",
            "35:\tlearn: 6.5514502\ttotal: 172ms\tremaining: 1.26s\n",
            "36:\tlearn: 6.5350316\ttotal: 173ms\tremaining: 1.23s\n",
            "37:\tlearn: 6.5140279\ttotal: 256ms\tremaining: 1.76s\n",
            "38:\tlearn: 6.4824812\ttotal: 257ms\tremaining: 1.72s\n",
            "39:\tlearn: 6.4673408\ttotal: 258ms\tremaining: 1.68s\n",
            "40:\tlearn: 6.4328474\ttotal: 259ms\tremaining: 1.63s\n",
            "41:\tlearn: 6.4197954\ttotal: 259ms\tremaining: 1.59s\n",
            "42:\tlearn: 6.4099500\ttotal: 260ms\tremaining: 1.55s\n",
            "43:\tlearn: 6.3927376\ttotal: 261ms\tremaining: 1.52s\n",
            "44:\tlearn: 6.3711798\ttotal: 262ms\tremaining: 1.48s\n",
            "45:\tlearn: 6.3549343\ttotal: 262ms\tremaining: 1.45s\n",
            "46:\tlearn: 6.3332929\ttotal: 263ms\tremaining: 1.42s\n",
            "47:\tlearn: 6.3058004\ttotal: 264ms\tremaining: 1.39s\n",
            "48:\tlearn: 6.2890073\ttotal: 265ms\tremaining: 1.36s\n",
            "49:\tlearn: 6.2765784\ttotal: 351ms\tremaining: 1.76s\n",
            "50:\tlearn: 6.2657757\ttotal: 352ms\tremaining: 1.72s\n",
            "51:\tlearn: 6.2540386\ttotal: 353ms\tremaining: 1.68s\n",
            "52:\tlearn: 6.2359362\ttotal: 354ms\tremaining: 1.65s\n",
            "53:\tlearn: 6.2264459\ttotal: 355ms\tremaining: 1.61s\n",
            "54:\tlearn: 6.1995749\ttotal: 355ms\tremaining: 1.58s\n",
            "55:\tlearn: 6.1831521\ttotal: 356ms\tremaining: 1.55s\n",
            "56:\tlearn: 6.1714507\ttotal: 357ms\tremaining: 1.52s\n",
            "57:\tlearn: 6.1514183\ttotal: 358ms\tremaining: 1.49s\n",
            "58:\tlearn: 6.1385291\ttotal: 358ms\tremaining: 1.46s\n",
            "59:\tlearn: 6.1142048\ttotal: 359ms\tremaining: 1.44s\n",
            "60:\tlearn: 6.0906042\ttotal: 360ms\tremaining: 1.41s\n",
            "61:\tlearn: 6.0722959\ttotal: 361ms\tremaining: 1.38s\n",
            "62:\tlearn: 6.0563928\ttotal: 362ms\tremaining: 1.36s\n",
            "63:\tlearn: 6.0472190\ttotal: 447ms\tremaining: 1.65s\n",
            "64:\tlearn: 6.0263969\ttotal: 448ms\tremaining: 1.62s\n",
            "65:\tlearn: 6.0032885\ttotal: 449ms\tremaining: 1.59s\n",
            "66:\tlearn: 5.9845435\ttotal: 451ms\tremaining: 1.57s\n",
            "67:\tlearn: 5.9721452\ttotal: 451ms\tremaining: 1.54s\n",
            "68:\tlearn: 5.9651249\ttotal: 452ms\tremaining: 1.51s\n",
            "69:\tlearn: 5.9518547\ttotal: 453ms\tremaining: 1.49s\n",
            "70:\tlearn: 5.9386614\ttotal: 455ms\tremaining: 1.47s\n",
            "71:\tlearn: 5.9247056\ttotal: 456ms\tremaining: 1.44s\n",
            "72:\tlearn: 5.9129353\ttotal: 457ms\tremaining: 1.42s\n",
            "73:\tlearn: 5.9073179\ttotal: 458ms\tremaining: 1.4s\n",
            "74:\tlearn: 5.8992897\ttotal: 460ms\tremaining: 1.38s\n",
            "75:\tlearn: 5.8898794\ttotal: 542ms\tremaining: 1.6s\n",
            "76:\tlearn: 5.8820236\ttotal: 544ms\tremaining: 1.58s\n",
            "77:\tlearn: 5.8725380\ttotal: 545ms\tremaining: 1.55s\n",
            "78:\tlearn: 5.8653448\ttotal: 547ms\tremaining: 1.53s\n",
            "79:\tlearn: 5.8506060\ttotal: 547ms\tremaining: 1.5s\n",
            "80:\tlearn: 5.8418218\ttotal: 548ms\tremaining: 1.48s\n",
            "81:\tlearn: 5.8232523\ttotal: 549ms\tremaining: 1.46s\n",
            "82:\tlearn: 5.8129119\ttotal: 550ms\tremaining: 1.44s\n",
            "83:\tlearn: 5.8010878\ttotal: 551ms\tremaining: 1.42s\n",
            "84:\tlearn: 5.7876866\ttotal: 551ms\tremaining: 1.39s\n",
            "85:\tlearn: 5.7798567\ttotal: 552ms\tremaining: 1.37s\n",
            "86:\tlearn: 5.7717569\ttotal: 553ms\tremaining: 1.35s\n",
            "87:\tlearn: 5.7652060\ttotal: 559ms\tremaining: 1.35s\n",
            "88:\tlearn: 5.7536994\ttotal: 560ms\tremaining: 1.33s\n",
            "89:\tlearn: 5.7420201\ttotal: 638ms\tremaining: 1.49s\n",
            "90:\tlearn: 5.7312763\ttotal: 639ms\tremaining: 1.47s\n",
            "91:\tlearn: 5.7236876\ttotal: 640ms\tremaining: 1.45s\n",
            "92:\tlearn: 5.7155358\ttotal: 641ms\tremaining: 1.43s\n",
            "93:\tlearn: 5.7127457\ttotal: 643ms\tremaining: 1.41s\n",
            "94:\tlearn: 5.6979746\ttotal: 644ms\tremaining: 1.39s\n",
            "95:\tlearn: 5.6894421\ttotal: 645ms\tremaining: 1.37s\n",
            "96:\tlearn: 5.6812003\ttotal: 646ms\tremaining: 1.35s\n",
            "97:\tlearn: 5.6758037\ttotal: 647ms\tremaining: 1.33s\n",
            "98:\tlearn: 5.6677225\ttotal: 648ms\tremaining: 1.31s\n",
            "99:\tlearn: 5.6569849\ttotal: 649ms\tremaining: 1.3s\n",
            "100:\tlearn: 5.6499552\ttotal: 650ms\tremaining: 1.28s\n",
            "101:\tlearn: 5.6443106\ttotal: 651ms\tremaining: 1.26s\n",
            "102:\tlearn: 5.6387408\ttotal: 652ms\tremaining: 1.25s\n",
            "103:\tlearn: 5.6327472\ttotal: 653ms\tremaining: 1.23s\n",
            "104:\tlearn: 5.6286388\ttotal: 654ms\tremaining: 1.21s\n",
            "105:\tlearn: 5.6202844\ttotal: 655ms\tremaining: 1.2s\n",
            "106:\tlearn: 5.6148378\ttotal: 658ms\tremaining: 1.19s\n",
            "107:\tlearn: 5.6090919\ttotal: 659ms\tremaining: 1.17s\n",
            "108:\tlearn: 5.6018158\ttotal: 660ms\tremaining: 1.16s\n",
            "109:\tlearn: 5.5963598\ttotal: 661ms\tremaining: 1.14s\n",
            "110:\tlearn: 5.5881226\ttotal: 662ms\tremaining: 1.13s\n",
            "111:\tlearn: 5.5821587\ttotal: 663ms\tremaining: 1.11s\n",
            "112:\tlearn: 5.5726140\ttotal: 664ms\tremaining: 1.1s\n",
            "113:\tlearn: 5.5663835\ttotal: 665ms\tremaining: 1.08s\n",
            "114:\tlearn: 5.5572186\ttotal: 671ms\tremaining: 1.08s\n",
            "115:\tlearn: 5.5477370\ttotal: 672ms\tremaining: 1.06s\n",
            "116:\tlearn: 5.5406813\ttotal: 749ms\tremaining: 1.17s\n",
            "117:\tlearn: 5.5341219\ttotal: 749ms\tremaining: 1.16s\n",
            "118:\tlearn: 5.5289526\ttotal: 750ms\tremaining: 1.14s\n",
            "119:\tlearn: 5.5199470\ttotal: 751ms\tremaining: 1.13s\n",
            "120:\tlearn: 5.5099515\ttotal: 752ms\tremaining: 1.11s\n",
            "121:\tlearn: 5.5059461\ttotal: 753ms\tremaining: 1.1s\n",
            "122:\tlearn: 5.4989523\ttotal: 754ms\tremaining: 1.08s\n",
            "123:\tlearn: 5.4933707\ttotal: 755ms\tremaining: 1.07s\n",
            "124:\tlearn: 5.4853275\ttotal: 756ms\tremaining: 1.06s\n",
            "125:\tlearn: 5.4772597\ttotal: 757ms\tremaining: 1.04s\n",
            "126:\tlearn: 5.4700854\ttotal: 758ms\tremaining: 1.03s\n",
            "127:\tlearn: 5.4611713\ttotal: 764ms\tremaining: 1.03s\n",
            "128:\tlearn: 5.4498207\ttotal: 765ms\tremaining: 1.01s\n",
            "129:\tlearn: 5.4416366\ttotal: 844ms\tremaining: 1.1s\n",
            "130:\tlearn: 5.4360836\ttotal: 846ms\tremaining: 1.09s\n",
            "131:\tlearn: 5.4305981\ttotal: 846ms\tremaining: 1.08s\n",
            "132:\tlearn: 5.4232959\ttotal: 847ms\tremaining: 1.06s\n",
            "133:\tlearn: 5.4185587\ttotal: 848ms\tremaining: 1.05s\n",
            "134:\tlearn: 5.4135854\ttotal: 849ms\tremaining: 1.04s\n",
            "135:\tlearn: 5.4068417\ttotal: 850ms\tremaining: 1.02s\n",
            "136:\tlearn: 5.3988616\ttotal: 852ms\tremaining: 1.01s\n",
            "137:\tlearn: 5.3901509\ttotal: 853ms\tremaining: 1s\n",
            "138:\tlearn: 5.3813362\ttotal: 854ms\tremaining: 989ms\n",
            "139:\tlearn: 5.3688942\ttotal: 855ms\tremaining: 977ms\n",
            "140:\tlearn: 5.3633863\ttotal: 856ms\tremaining: 965ms\n",
            "141:\tlearn: 5.3562326\ttotal: 857ms\tremaining: 953ms\n",
            "142:\tlearn: 5.3475500\ttotal: 940ms\tremaining: 1.03s\n",
            "143:\tlearn: 5.3455409\ttotal: 942ms\tremaining: 1.02s\n",
            "144:\tlearn: 5.3362842\ttotal: 943ms\tremaining: 1.01s\n",
            "145:\tlearn: 5.3291095\ttotal: 944ms\tremaining: 996ms\n",
            "146:\tlearn: 5.3245380\ttotal: 945ms\tremaining: 984ms\n",
            "147:\tlearn: 5.3169677\ttotal: 947ms\tremaining: 973ms\n",
            "148:\tlearn: 5.3085049\ttotal: 948ms\tremaining: 961ms\n",
            "149:\tlearn: 5.3033024\ttotal: 949ms\tremaining: 949ms\n",
            "150:\tlearn: 5.3001414\ttotal: 950ms\tremaining: 938ms\n",
            "151:\tlearn: 5.2917732\ttotal: 951ms\tremaining: 926ms\n",
            "152:\tlearn: 5.2850985\ttotal: 953ms\tremaining: 916ms\n",
            "153:\tlearn: 5.2795708\ttotal: 954ms\tremaining: 904ms\n",
            "154:\tlearn: 5.2719239\ttotal: 955ms\tremaining: 893ms\n",
            "155:\tlearn: 5.2667430\ttotal: 1.03s\tremaining: 955ms\n",
            "156:\tlearn: 5.2606101\ttotal: 1.04s\tremaining: 944ms\n",
            "157:\tlearn: 5.2566464\ttotal: 1.04s\tremaining: 932ms\n",
            "158:\tlearn: 5.2494983\ttotal: 1.04s\tremaining: 921ms\n",
            "159:\tlearn: 5.2407004\ttotal: 1.04s\tremaining: 910ms\n",
            "160:\tlearn: 5.2354219\ttotal: 1.04s\tremaining: 899ms\n",
            "161:\tlearn: 5.2304636\ttotal: 1.04s\tremaining: 888ms\n",
            "162:\tlearn: 5.2246654\ttotal: 1.04s\tremaining: 878ms\n",
            "163:\tlearn: 5.2219870\ttotal: 1.04s\tremaining: 867ms\n",
            "164:\tlearn: 5.2160216\ttotal: 1.05s\tremaining: 856ms\n",
            "165:\tlearn: 5.2126827\ttotal: 1.05s\tremaining: 845ms\n",
            "166:\tlearn: 5.2068258\ttotal: 1.05s\tremaining: 835ms\n",
            "167:\tlearn: 5.1999304\ttotal: 1.05s\tremaining: 825ms\n",
            "168:\tlearn: 5.1947799\ttotal: 1.13s\tremaining: 877ms\n",
            "169:\tlearn: 5.1898078\ttotal: 1.13s\tremaining: 868ms\n",
            "170:\tlearn: 5.1832093\ttotal: 1.14s\tremaining: 857ms\n",
            "171:\tlearn: 5.1747390\ttotal: 1.14s\tremaining: 847ms\n",
            "172:\tlearn: 5.1701058\ttotal: 1.14s\tremaining: 836ms\n",
            "173:\tlearn: 5.1648491\ttotal: 1.14s\tremaining: 825ms\n",
            "174:\tlearn: 5.1634150\ttotal: 1.14s\tremaining: 815ms\n",
            "175:\tlearn: 5.1571213\ttotal: 1.14s\tremaining: 805ms\n",
            "176:\tlearn: 5.1530604\ttotal: 1.14s\tremaining: 795ms\n",
            "177:\tlearn: 5.1506187\ttotal: 1.15s\tremaining: 785ms\n",
            "178:\tlearn: 5.1418181\ttotal: 1.15s\tremaining: 775ms\n",
            "179:\tlearn: 5.1366441\ttotal: 1.15s\tremaining: 765ms\n",
            "180:\tlearn: 5.1318480\ttotal: 1.23s\tremaining: 806ms\n",
            "181:\tlearn: 5.1258726\ttotal: 1.23s\tremaining: 796ms\n",
            "182:\tlearn: 5.1218208\ttotal: 1.23s\tremaining: 786ms\n",
            "183:\tlearn: 5.1138026\ttotal: 1.23s\tremaining: 776ms\n",
            "184:\tlearn: 5.1062258\ttotal: 1.23s\tremaining: 765ms\n",
            "185:\tlearn: 5.1031167\ttotal: 1.23s\tremaining: 755ms\n",
            "186:\tlearn: 5.0968079\ttotal: 1.23s\tremaining: 746ms\n",
            "187:\tlearn: 5.0939415\ttotal: 1.24s\tremaining: 736ms\n",
            "188:\tlearn: 5.0875924\ttotal: 1.24s\tremaining: 726ms\n",
            "189:\tlearn: 5.0816788\ttotal: 1.24s\tremaining: 717ms\n",
            "190:\tlearn: 5.0749819\ttotal: 1.24s\tremaining: 710ms\n",
            "191:\tlearn: 5.0713266\ttotal: 1.32s\tremaining: 744ms\n",
            "192:\tlearn: 5.0664453\ttotal: 1.32s\tremaining: 734ms\n",
            "193:\tlearn: 5.0620178\ttotal: 1.32s\tremaining: 723ms\n",
            "194:\tlearn: 5.0555777\ttotal: 1.32s\tremaining: 714ms\n",
            "195:\tlearn: 5.0508380\ttotal: 1.33s\tremaining: 704ms\n",
            "196:\tlearn: 5.0453491\ttotal: 1.33s\tremaining: 694ms\n",
            "197:\tlearn: 5.0421019\ttotal: 1.33s\tremaining: 685ms\n",
            "198:\tlearn: 5.0397525\ttotal: 1.33s\tremaining: 675ms\n",
            "199:\tlearn: 5.0325537\ttotal: 1.33s\tremaining: 666ms\n",
            "200:\tlearn: 5.0304614\ttotal: 1.33s\tremaining: 657ms\n",
            "201:\tlearn: 5.0261168\ttotal: 1.33s\tremaining: 648ms\n",
            "202:\tlearn: 5.0212745\ttotal: 1.33s\tremaining: 638ms\n",
            "203:\tlearn: 5.0148083\ttotal: 1.42s\tremaining: 667ms\n",
            "204:\tlearn: 5.0108561\ttotal: 1.42s\tremaining: 658ms\n",
            "205:\tlearn: 5.0065228\ttotal: 1.42s\tremaining: 648ms\n",
            "206:\tlearn: 5.0056654\ttotal: 1.42s\tremaining: 639ms\n",
            "207:\tlearn: 5.0032654\ttotal: 1.42s\tremaining: 629ms\n",
            "208:\tlearn: 4.9980764\ttotal: 1.42s\tremaining: 620ms\n",
            "209:\tlearn: 4.9925134\ttotal: 1.43s\tremaining: 611ms\n",
            "210:\tlearn: 4.9883143\ttotal: 1.43s\tremaining: 602ms\n",
            "211:\tlearn: 4.9829283\ttotal: 1.43s\tremaining: 593ms\n",
            "212:\tlearn: 4.9776352\ttotal: 1.43s\tremaining: 584ms\n",
            "213:\tlearn: 4.9719171\ttotal: 1.43s\tremaining: 575ms\n",
            "214:\tlearn: 4.9675361\ttotal: 1.43s\tremaining: 566ms\n",
            "215:\tlearn: 4.9634768\ttotal: 1.51s\tremaining: 589ms\n",
            "216:\tlearn: 4.9526850\ttotal: 1.51s\tremaining: 580ms\n",
            "217:\tlearn: 4.9499752\ttotal: 1.52s\tremaining: 571ms\n",
            "218:\tlearn: 4.9462825\ttotal: 1.52s\tremaining: 561ms\n",
            "219:\tlearn: 4.9426303\ttotal: 1.52s\tremaining: 553ms\n",
            "220:\tlearn: 4.9375228\ttotal: 1.52s\tremaining: 544ms\n",
            "221:\tlearn: 4.9334535\ttotal: 1.52s\tremaining: 535ms\n",
            "222:\tlearn: 4.9273371\ttotal: 1.52s\tremaining: 526ms\n",
            "223:\tlearn: 4.9237735\ttotal: 1.52s\tremaining: 518ms\n",
            "224:\tlearn: 4.9182320\ttotal: 1.53s\tremaining: 509ms\n",
            "225:\tlearn: 4.9140968\ttotal: 1.53s\tremaining: 501ms\n",
            "226:\tlearn: 4.9062961\ttotal: 1.61s\tremaining: 518ms\n",
            "227:\tlearn: 4.8980782\ttotal: 1.61s\tremaining: 509ms\n",
            "228:\tlearn: 4.8942891\ttotal: 1.61s\tremaining: 500ms\n",
            "229:\tlearn: 4.8882258\ttotal: 1.61s\tremaining: 491ms\n",
            "230:\tlearn: 4.8819787\ttotal: 1.61s\tremaining: 482ms\n",
            "231:\tlearn: 4.8775931\ttotal: 1.62s\tremaining: 474ms\n",
            "232:\tlearn: 4.8725555\ttotal: 1.62s\tremaining: 465ms\n",
            "233:\tlearn: 4.8705481\ttotal: 1.62s\tremaining: 457ms\n",
            "234:\tlearn: 4.8643249\ttotal: 1.62s\tremaining: 448ms\n",
            "235:\tlearn: 4.8623869\ttotal: 1.62s\tremaining: 440ms\n",
            "236:\tlearn: 4.8591609\ttotal: 1.62s\tremaining: 431ms\n",
            "237:\tlearn: 4.8527387\ttotal: 1.63s\tremaining: 425ms\n",
            "238:\tlearn: 4.8495764\ttotal: 1.71s\tremaining: 436ms\n",
            "239:\tlearn: 4.8434750\ttotal: 1.71s\tremaining: 427ms\n",
            "240:\tlearn: 4.8386159\ttotal: 1.71s\tremaining: 418ms\n",
            "241:\tlearn: 4.8349410\ttotal: 1.71s\tremaining: 410ms\n",
            "242:\tlearn: 4.8317493\ttotal: 1.71s\tremaining: 401ms\n",
            "243:\tlearn: 4.8275763\ttotal: 1.71s\tremaining: 393ms\n",
            "244:\tlearn: 4.8236127\ttotal: 1.71s\tremaining: 384ms\n",
            "245:\tlearn: 4.8217136\ttotal: 1.71s\tremaining: 376ms\n",
            "246:\tlearn: 4.8131080\ttotal: 1.71s\tremaining: 368ms\n",
            "247:\tlearn: 4.8094967\ttotal: 1.72s\tremaining: 360ms\n",
            "248:\tlearn: 4.8063928\ttotal: 1.72s\tremaining: 352ms\n",
            "249:\tlearn: 4.8030402\ttotal: 1.72s\tremaining: 344ms\n",
            "250:\tlearn: 4.7992612\ttotal: 1.72s\tremaining: 336ms\n",
            "251:\tlearn: 4.7953678\ttotal: 1.8s\tremaining: 343ms\n",
            "252:\tlearn: 4.7909143\ttotal: 1.8s\tremaining: 335ms\n",
            "253:\tlearn: 4.7856561\ttotal: 1.8s\tremaining: 327ms\n",
            "254:\tlearn: 4.7832502\ttotal: 1.81s\tremaining: 319ms\n",
            "255:\tlearn: 4.7786438\ttotal: 1.81s\tremaining: 311ms\n",
            "256:\tlearn: 4.7763190\ttotal: 1.81s\tremaining: 303ms\n",
            "257:\tlearn: 4.7716299\ttotal: 1.81s\tremaining: 295ms\n",
            "258:\tlearn: 4.7685980\ttotal: 1.81s\tremaining: 287ms\n",
            "259:\tlearn: 4.7656290\ttotal: 1.81s\tremaining: 279ms\n",
            "260:\tlearn: 4.7622949\ttotal: 1.9s\tremaining: 284ms\n",
            "261:\tlearn: 4.7570926\ttotal: 1.9s\tremaining: 276ms\n",
            "262:\tlearn: 4.7537981\ttotal: 1.9s\tremaining: 268ms\n",
            "263:\tlearn: 4.7475965\ttotal: 1.9s\tremaining: 259ms\n",
            "264:\tlearn: 4.7427812\ttotal: 1.9s\tremaining: 251ms\n",
            "265:\tlearn: 4.7392216\ttotal: 1.91s\tremaining: 244ms\n",
            "266:\tlearn: 4.7358325\ttotal: 1.91s\tremaining: 236ms\n",
            "267:\tlearn: 4.7321739\ttotal: 1.91s\tremaining: 228ms\n",
            "268:\tlearn: 4.7280349\ttotal: 1.91s\tremaining: 220ms\n",
            "269:\tlearn: 4.7233099\ttotal: 1.91s\tremaining: 212ms\n",
            "270:\tlearn: 4.7199601\ttotal: 1.91s\tremaining: 204ms\n",
            "271:\tlearn: 4.7183939\ttotal: 1.91s\tremaining: 197ms\n",
            "272:\tlearn: 4.7126964\ttotal: 1.99s\tremaining: 197ms\n",
            "273:\tlearn: 4.7099651\ttotal: 2s\tremaining: 189ms\n",
            "274:\tlearn: 4.7074996\ttotal: 2s\tremaining: 181ms\n",
            "275:\tlearn: 4.7049143\ttotal: 2s\tremaining: 174ms\n",
            "276:\tlearn: 4.7021098\ttotal: 2s\tremaining: 166ms\n",
            "277:\tlearn: 4.7005002\ttotal: 2s\tremaining: 158ms\n",
            "278:\tlearn: 4.6975171\ttotal: 2s\tremaining: 151ms\n",
            "279:\tlearn: 4.6956180\ttotal: 2s\tremaining: 143ms\n",
            "280:\tlearn: 4.6935776\ttotal: 2s\tremaining: 135ms\n",
            "281:\tlearn: 4.6886549\ttotal: 2s\tremaining: 128ms\n",
            "282:\tlearn: 4.6862530\ttotal: 2.01s\tremaining: 121ms\n",
            "283:\tlearn: 4.6835251\ttotal: 2.01s\tremaining: 113ms\n",
            "284:\tlearn: 4.6818545\ttotal: 2.09s\tremaining: 110ms\n",
            "285:\tlearn: 4.6792246\ttotal: 2.09s\tremaining: 102ms\n",
            "286:\tlearn: 4.6706065\ttotal: 2.09s\tremaining: 94.8ms\n",
            "287:\tlearn: 4.6683523\ttotal: 2.09s\tremaining: 87.2ms\n",
            "288:\tlearn: 4.6664797\ttotal: 2.09s\tremaining: 79.7ms\n",
            "289:\tlearn: 4.6631197\ttotal: 2.1s\tremaining: 72.2ms\n",
            "290:\tlearn: 4.6606122\ttotal: 2.1s\tremaining: 64.8ms\n",
            "291:\tlearn: 4.6585000\ttotal: 2.1s\tremaining: 57.5ms\n",
            "292:\tlearn: 4.6575017\ttotal: 2.1s\tremaining: 50.2ms\n",
            "293:\tlearn: 4.6546054\ttotal: 2.1s\tremaining: 42.9ms\n",
            "294:\tlearn: 4.6531814\ttotal: 2.1s\tremaining: 35.6ms\n",
            "295:\tlearn: 4.6521511\ttotal: 2.1s\tremaining: 28.4ms\n",
            "296:\tlearn: 4.6496349\ttotal: 2.19s\tremaining: 22.1ms\n",
            "297:\tlearn: 4.6466746\ttotal: 2.19s\tremaining: 14.7ms\n",
            "298:\tlearn: 4.6438463\ttotal: 2.19s\tremaining: 7.33ms\n",
            "299:\tlearn: 4.6406439\ttotal: 2.19s\tremaining: 0us\n",
            "[CV]  depth=4, learning_rate=0.05, loss_function=MAE, n_estimators=300, random_state=123, score=0.276, total=   3.7s\n",
            "[Parallel(n_jobs=1)]: Done  12 out of  12 | elapsed:   32.5s remaining:    0.0s\n",
            "[CV] depth=5, learning_rate=0.05, loss_function=MAE, n_estimators=100, random_state=123 \n",
            "0:\tlearn: 8.1115540\ttotal: 2.63ms\tremaining: 260ms\n",
            "1:\tlearn: 7.9911974\ttotal: 4.47ms\tremaining: 219ms\n",
            "2:\tlearn: 7.9064198\ttotal: 7.07ms\tremaining: 228ms\n",
            "3:\tlearn: 7.7845648\ttotal: 8.7ms\tremaining: 209ms\n",
            "4:\tlearn: 7.6915368\ttotal: 10.3ms\tremaining: 196ms\n",
            "5:\tlearn: 7.6213059\ttotal: 11.6ms\tremaining: 182ms\n",
            "6:\tlearn: 7.5477316\ttotal: 12.6ms\tremaining: 168ms\n",
            "7:\tlearn: 7.4565533\ttotal: 13.9ms\tremaining: 160ms\n",
            "8:\tlearn: 7.3953472\ttotal: 14.9ms\tremaining: 151ms\n",
            "9:\tlearn: 7.3237521\ttotal: 86.6ms\tremaining: 779ms\n",
            "10:\tlearn: 7.2755581\ttotal: 87.8ms\tremaining: 711ms\n",
            "11:\tlearn: 7.2183705\ttotal: 88.9ms\tremaining: 652ms\n",
            "12:\tlearn: 7.1716807\ttotal: 89.9ms\tremaining: 602ms\n",
            "13:\tlearn: 7.1032996\ttotal: 91ms\tremaining: 559ms\n",
            "14:\tlearn: 7.0499994\ttotal: 92ms\tremaining: 522ms\n",
            "15:\tlearn: 7.0131477\ttotal: 93.1ms\tremaining: 489ms\n",
            "16:\tlearn: 6.9754394\ttotal: 94ms\tremaining: 459ms\n",
            "17:\tlearn: 6.9406955\ttotal: 95ms\tremaining: 433ms\n",
            "18:\tlearn: 6.8902989\ttotal: 96ms\tremaining: 409ms\n",
            "19:\tlearn: 6.8619222\ttotal: 102ms\tremaining: 410ms\n",
            "20:\tlearn: 6.8092176\ttotal: 183ms\tremaining: 689ms\n",
            "21:\tlearn: 6.7829847\ttotal: 184ms\tremaining: 654ms\n",
            "22:\tlearn: 6.7389009\ttotal: 185ms\tremaining: 621ms\n",
            "23:\tlearn: 6.7038233\ttotal: 186ms\tremaining: 590ms\n",
            "24:\tlearn: 6.6856518\ttotal: 187ms\tremaining: 562ms\n",
            "25:\tlearn: 6.6438704\ttotal: 189ms\tremaining: 537ms\n",
            "26:\tlearn: 6.6158815\ttotal: 190ms\tremaining: 512ms\n",
            "27:\tlearn: 6.5833819\ttotal: 191ms\tremaining: 490ms\n",
            "28:\tlearn: 6.5590825\ttotal: 192ms\tremaining: 469ms\n",
            "29:\tlearn: 6.5117800\ttotal: 193ms\tremaining: 450ms\n",
            "30:\tlearn: 6.4791899\ttotal: 278ms\tremaining: 620ms\n",
            "31:\tlearn: 6.4567199\ttotal: 280ms\tremaining: 594ms\n",
            "32:\tlearn: 6.4333433\ttotal: 281ms\tremaining: 570ms\n",
            "33:\tlearn: 6.3982951\ttotal: 282ms\tremaining: 547ms\n",
            "34:\tlearn: 6.3820104\ttotal: 283ms\tremaining: 525ms\n",
            "35:\tlearn: 6.3405002\ttotal: 284ms\tremaining: 504ms\n",
            "36:\tlearn: 6.3162100\ttotal: 285ms\tremaining: 485ms\n",
            "37:\tlearn: 6.2881723\ttotal: 286ms\tremaining: 466ms\n",
            "38:\tlearn: 6.2624959\ttotal: 287ms\tremaining: 448ms\n",
            "39:\tlearn: 6.2399679\ttotal: 288ms\tremaining: 432ms\n",
            "40:\tlearn: 6.2037220\ttotal: 289ms\tremaining: 415ms\n",
            "41:\tlearn: 6.1690889\ttotal: 375ms\tremaining: 518ms\n",
            "42:\tlearn: 6.1294646\ttotal: 376ms\tremaining: 498ms\n",
            "43:\tlearn: 6.1205097\ttotal: 377ms\tremaining: 480ms\n",
            "44:\tlearn: 6.1046795\ttotal: 380ms\tremaining: 464ms\n",
            "45:\tlearn: 6.0815998\ttotal: 381ms\tremaining: 447ms\n",
            "46:\tlearn: 6.0609206\ttotal: 382ms\tremaining: 431ms\n",
            "47:\tlearn: 6.0459677\ttotal: 383ms\tremaining: 415ms\n",
            "48:\tlearn: 6.0211408\ttotal: 385ms\tremaining: 400ms\n",
            "49:\tlearn: 5.9986512\ttotal: 386ms\tremaining: 386ms\n",
            "50:\tlearn: 5.9839348\ttotal: 387ms\tremaining: 372ms\n",
            "51:\tlearn: 5.9615489\ttotal: 388ms\tremaining: 358ms\n",
            "52:\tlearn: 5.9483800\ttotal: 470ms\tremaining: 417ms\n",
            "53:\tlearn: 5.9215318\ttotal: 472ms\tremaining: 402ms\n",
            "54:\tlearn: 5.9104079\ttotal: 473ms\tremaining: 387ms\n",
            "55:\tlearn: 5.8901392\ttotal: 474ms\tremaining: 373ms\n",
            "56:\tlearn: 5.8783664\ttotal: 475ms\tremaining: 359ms\n",
            "57:\tlearn: 5.8612222\ttotal: 476ms\tremaining: 345ms\n",
            "58:\tlearn: 5.8402948\ttotal: 477ms\tremaining: 332ms\n",
            "59:\tlearn: 5.8278471\ttotal: 478ms\tremaining: 319ms\n",
            "60:\tlearn: 5.8163858\ttotal: 479ms\tremaining: 306ms\n",
            "61:\tlearn: 5.8113615\ttotal: 480ms\tremaining: 294ms\n",
            "62:\tlearn: 5.8047384\ttotal: 567ms\tremaining: 333ms\n",
            "63:\tlearn: 5.7909917\ttotal: 568ms\tremaining: 320ms\n",
            "64:\tlearn: 5.7707303\ttotal: 569ms\tremaining: 307ms\n",
            "65:\tlearn: 5.7633102\ttotal: 570ms\tremaining: 294ms\n",
            "66:\tlearn: 5.7435873\ttotal: 571ms\tremaining: 281ms\n",
            "67:\tlearn: 5.7202298\ttotal: 572ms\tremaining: 269ms\n",
            "68:\tlearn: 5.7032446\ttotal: 574ms\tremaining: 258ms\n",
            "69:\tlearn: 5.6919067\ttotal: 575ms\tremaining: 246ms\n",
            "70:\tlearn: 5.6808209\ttotal: 576ms\tremaining: 235ms\n",
            "71:\tlearn: 5.6709418\ttotal: 577ms\tremaining: 224ms\n",
            "72:\tlearn: 5.6556182\ttotal: 578ms\tremaining: 214ms\n",
            "73:\tlearn: 5.6387356\ttotal: 661ms\tremaining: 232ms\n",
            "74:\tlearn: 5.6298412\ttotal: 663ms\tremaining: 221ms\n",
            "75:\tlearn: 5.6179232\ttotal: 664ms\tremaining: 210ms\n",
            "76:\tlearn: 5.6024870\ttotal: 665ms\tremaining: 199ms\n",
            "77:\tlearn: 5.5877882\ttotal: 666ms\tremaining: 188ms\n",
            "78:\tlearn: 5.5750705\ttotal: 667ms\tremaining: 177ms\n",
            "79:\tlearn: 5.5630101\ttotal: 668ms\tremaining: 167ms\n",
            "80:\tlearn: 5.5508657\ttotal: 669ms\tremaining: 157ms\n",
            "81:\tlearn: 5.5415573\ttotal: 671ms\tremaining: 147ms\n",
            "82:\tlearn: 5.5353308\ttotal: 672ms\tremaining: 138ms\n",
            "83:\tlearn: 5.5221000\ttotal: 673ms\tremaining: 128ms\n",
            "84:\tlearn: 5.5112764\ttotal: 758ms\tremaining: 134ms\n",
            "85:\tlearn: 5.5057472\ttotal: 759ms\tremaining: 124ms\n",
            "86:\tlearn: 5.5007954\ttotal: 760ms\tremaining: 114ms\n",
            "87:\tlearn: 5.4914121\ttotal: 761ms\tremaining: 104ms\n",
            "88:\tlearn: 5.4857597\ttotal: 762ms\tremaining: 94.2ms\n",
            "89:\tlearn: 5.4792358\ttotal: 763ms\tremaining: 84.8ms\n",
            "90:\tlearn: 5.4762954\ttotal: 765ms\tremaining: 75.6ms\n",
            "91:\tlearn: 5.4661840\ttotal: 767ms\tremaining: 66.7ms\n",
            "92:\tlearn: 5.4586102\ttotal: 774ms\tremaining: 58.2ms\n",
            "93:\tlearn: 5.4457529\ttotal: 854ms\tremaining: 54.5ms\n",
            "94:\tlearn: 5.4330281\ttotal: 855ms\tremaining: 45ms\n",
            "95:\tlearn: 5.4226693\ttotal: 856ms\tremaining: 35.7ms\n",
            "96:\tlearn: 5.4137747\ttotal: 857ms\tremaining: 26.5ms\n",
            "97:\tlearn: 5.4046301\ttotal: 858ms\tremaining: 17.5ms\n",
            "98:\tlearn: 5.3967011\ttotal: 860ms\tremaining: 8.68ms\n",
            "99:\tlearn: 5.3832572\ttotal: 861ms\tremaining: 0us\n",
            "[CV]  depth=5, learning_rate=0.05, loss_function=MAE, n_estimators=100, random_state=123, score=0.428, total=   2.3s\n",
            "[Parallel(n_jobs=1)]: Done  13 out of  13 | elapsed:   34.8s remaining:    0.0s\n",
            "[CV] depth=5, learning_rate=0.05, loss_function=MAE, n_estimators=100, random_state=123 \n",
            "0:\tlearn: 7.8369406\ttotal: 3.38ms\tremaining: 334ms\n",
            "1:\tlearn: 7.7864208\ttotal: 4.67ms\tremaining: 229ms\n",
            "2:\tlearn: 7.6948912\ttotal: 7ms\tremaining: 226ms\n",
            "3:\tlearn: 7.6090681\ttotal: 9.13ms\tremaining: 219ms\n",
            "4:\tlearn: 7.5478880\ttotal: 11.1ms\tremaining: 211ms\n",
            "5:\tlearn: 7.4560753\ttotal: 14.2ms\tremaining: 222ms\n",
            "6:\tlearn: 7.3824367\ttotal: 16.9ms\tremaining: 225ms\n",
            "7:\tlearn: 7.3235208\ttotal: 45.4ms\tremaining: 522ms\n",
            "8:\tlearn: 7.2472534\ttotal: 46.4ms\tremaining: 469ms\n",
            "9:\tlearn: 7.1962579\ttotal: 47.4ms\tremaining: 426ms\n",
            "10:\tlearn: 7.1507201\ttotal: 48.4ms\tremaining: 391ms\n",
            "11:\tlearn: 7.0971904\ttotal: 49.4ms\tremaining: 362ms\n",
            "12:\tlearn: 7.0668911\ttotal: 50.4ms\tremaining: 337ms\n",
            "13:\tlearn: 6.9897949\ttotal: 52.5ms\tremaining: 323ms\n",
            "14:\tlearn: 6.9553046\ttotal: 53.6ms\tremaining: 304ms\n",
            "15:\tlearn: 6.9152286\ttotal: 54.6ms\tremaining: 287ms\n",
            "16:\tlearn: 6.8822395\ttotal: 55.7ms\tremaining: 272ms\n",
            "17:\tlearn: 6.8282475\ttotal: 56.6ms\tremaining: 258ms\n",
            "18:\tlearn: 6.7838958\ttotal: 142ms\tremaining: 607ms\n",
            "19:\tlearn: 6.7440606\ttotal: 145ms\tremaining: 581ms\n",
            "20:\tlearn: 6.6995617\ttotal: 147ms\tremaining: 554ms\n",
            "21:\tlearn: 6.6512938\ttotal: 149ms\tremaining: 529ms\n",
            "22:\tlearn: 6.6289405\ttotal: 151ms\tremaining: 505ms\n",
            "23:\tlearn: 6.5910154\ttotal: 153ms\tremaining: 485ms\n",
            "24:\tlearn: 6.5725011\ttotal: 157ms\tremaining: 470ms\n",
            "25:\tlearn: 6.5397847\ttotal: 240ms\tremaining: 683ms\n",
            "26:\tlearn: 6.5116891\ttotal: 241ms\tremaining: 652ms\n",
            "27:\tlearn: 6.4866445\ttotal: 242ms\tremaining: 622ms\n",
            "28:\tlearn: 6.4621588\ttotal: 243ms\tremaining: 596ms\n",
            "29:\tlearn: 6.4135579\ttotal: 245ms\tremaining: 572ms\n",
            "30:\tlearn: 6.3945636\ttotal: 247ms\tremaining: 549ms\n",
            "31:\tlearn: 6.3629758\ttotal: 248ms\tremaining: 527ms\n",
            "32:\tlearn: 6.3304033\ttotal: 249ms\tremaining: 506ms\n",
            "33:\tlearn: 6.3121306\ttotal: 256ms\tremaining: 498ms\n",
            "34:\tlearn: 6.2965644\ttotal: 335ms\tremaining: 622ms\n",
            "35:\tlearn: 6.2709159\ttotal: 337ms\tremaining: 598ms\n",
            "36:\tlearn: 6.2391478\ttotal: 338ms\tremaining: 575ms\n",
            "37:\tlearn: 6.2105258\ttotal: 340ms\tremaining: 555ms\n",
            "38:\tlearn: 6.1776713\ttotal: 341ms\tremaining: 534ms\n",
            "39:\tlearn: 6.1632554\ttotal: 343ms\tremaining: 514ms\n",
            "40:\tlearn: 6.1338152\ttotal: 344ms\tremaining: 495ms\n",
            "41:\tlearn: 6.1104758\ttotal: 346ms\tremaining: 478ms\n",
            "42:\tlearn: 6.0942308\ttotal: 353ms\tremaining: 468ms\n",
            "43:\tlearn: 6.0690783\ttotal: 432ms\tremaining: 550ms\n",
            "44:\tlearn: 6.0542239\ttotal: 435ms\tremaining: 531ms\n",
            "45:\tlearn: 6.0346656\ttotal: 436ms\tremaining: 512ms\n",
            "46:\tlearn: 6.0101030\ttotal: 437ms\tremaining: 493ms\n",
            "47:\tlearn: 5.9924768\ttotal: 439ms\tremaining: 476ms\n",
            "48:\tlearn: 5.9665463\ttotal: 441ms\tremaining: 459ms\n",
            "49:\tlearn: 5.9465890\ttotal: 442ms\tremaining: 442ms\n",
            "50:\tlearn: 5.9171346\ttotal: 444ms\tremaining: 426ms\n",
            "51:\tlearn: 5.9041020\ttotal: 528ms\tremaining: 487ms\n",
            "52:\tlearn: 5.8780616\ttotal: 530ms\tremaining: 470ms\n",
            "53:\tlearn: 5.8611911\ttotal: 531ms\tremaining: 453ms\n",
            "54:\tlearn: 5.8503366\ttotal: 533ms\tremaining: 436ms\n",
            "55:\tlearn: 5.8313280\ttotal: 547ms\tremaining: 430ms\n",
            "56:\tlearn: 5.8163738\ttotal: 549ms\tremaining: 414ms\n",
            "57:\tlearn: 5.8018586\ttotal: 556ms\tremaining: 402ms\n",
            "58:\tlearn: 5.7741499\ttotal: 625ms\tremaining: 434ms\n",
            "59:\tlearn: 5.7491706\ttotal: 626ms\tremaining: 417ms\n",
            "60:\tlearn: 5.7269961\ttotal: 627ms\tremaining: 401ms\n",
            "61:\tlearn: 5.7119827\ttotal: 628ms\tremaining: 385ms\n",
            "62:\tlearn: 5.6976703\ttotal: 629ms\tremaining: 369ms\n",
            "63:\tlearn: 5.6764838\ttotal: 632ms\tremaining: 355ms\n",
            "64:\tlearn: 5.6562698\ttotal: 633ms\tremaining: 341ms\n",
            "65:\tlearn: 5.6482879\ttotal: 634ms\tremaining: 327ms\n",
            "66:\tlearn: 5.6380619\ttotal: 636ms\tremaining: 313ms\n",
            "67:\tlearn: 5.6248962\ttotal: 642ms\tremaining: 302ms\n",
            "68:\tlearn: 5.6148274\ttotal: 721ms\tremaining: 324ms\n",
            "69:\tlearn: 5.5940521\ttotal: 723ms\tremaining: 310ms\n",
            "70:\tlearn: 5.5832664\ttotal: 725ms\tremaining: 296ms\n",
            "71:\tlearn: 5.5772129\ttotal: 727ms\tremaining: 283ms\n",
            "72:\tlearn: 5.5623587\ttotal: 729ms\tremaining: 269ms\n",
            "73:\tlearn: 5.5482882\ttotal: 730ms\tremaining: 256ms\n",
            "74:\tlearn: 5.5378368\ttotal: 731ms\tremaining: 244ms\n",
            "75:\tlearn: 5.5190003\ttotal: 738ms\tremaining: 233ms\n",
            "76:\tlearn: 5.5094506\ttotal: 739ms\tremaining: 221ms\n",
            "77:\tlearn: 5.5047855\ttotal: 818ms\tremaining: 231ms\n",
            "78:\tlearn: 5.4943366\ttotal: 819ms\tremaining: 218ms\n",
            "79:\tlearn: 5.4912125\ttotal: 820ms\tremaining: 205ms\n",
            "80:\tlearn: 5.4841205\ttotal: 821ms\tremaining: 193ms\n",
            "81:\tlearn: 5.4729322\ttotal: 823ms\tremaining: 181ms\n",
            "82:\tlearn: 5.4629794\ttotal: 824ms\tremaining: 169ms\n",
            "83:\tlearn: 5.4500831\ttotal: 826ms\tremaining: 157ms\n",
            "84:\tlearn: 5.4415918\ttotal: 827ms\tremaining: 146ms\n",
            "85:\tlearn: 5.4345592\ttotal: 829ms\tremaining: 135ms\n",
            "86:\tlearn: 5.4241073\ttotal: 836ms\tremaining: 125ms\n",
            "87:\tlearn: 5.4213717\ttotal: 914ms\tremaining: 125ms\n",
            "88:\tlearn: 5.4118557\ttotal: 915ms\tremaining: 113ms\n",
            "89:\tlearn: 5.4001148\ttotal: 916ms\tremaining: 102ms\n",
            "90:\tlearn: 5.3881338\ttotal: 917ms\tremaining: 90.7ms\n",
            "91:\tlearn: 5.3794080\ttotal: 919ms\tremaining: 79.9ms\n",
            "92:\tlearn: 5.3702977\ttotal: 920ms\tremaining: 69.2ms\n",
            "93:\tlearn: 5.3611024\ttotal: 920ms\tremaining: 58.8ms\n",
            "94:\tlearn: 5.3475717\ttotal: 921ms\tremaining: 48.5ms\n",
            "95:\tlearn: 5.3312857\ttotal: 922ms\tremaining: 38.4ms\n",
            "96:\tlearn: 5.3257561\ttotal: 923ms\tremaining: 28.6ms\n",
            "97:\tlearn: 5.3172741\ttotal: 924ms\tremaining: 18.9ms\n",
            "98:\tlearn: 5.3101224\ttotal: 1.01s\tremaining: 10.2ms\n",
            "99:\tlearn: 5.3010938\ttotal: 1.01s\tremaining: 0us\n",
            "[CV]  depth=5, learning_rate=0.05, loss_function=MAE, n_estimators=100, random_state=123, score=0.377, total=   2.4s\n",
            "[Parallel(n_jobs=1)]: Done  14 out of  14 | elapsed:   37.2s remaining:    0.0s\n",
            "[CV] depth=5, learning_rate=0.05, loss_function=MAE, n_estimators=100, random_state=123 \n",
            "0:\tlearn: 8.0889595\ttotal: 1.21ms\tremaining: 119ms\n",
            "1:\tlearn: 7.9903942\ttotal: 2.39ms\tremaining: 117ms\n",
            "2:\tlearn: 7.8770376\ttotal: 3.42ms\tremaining: 110ms\n",
            "3:\tlearn: 7.7704897\ttotal: 4.42ms\tremaining: 106ms\n",
            "4:\tlearn: 7.6658222\ttotal: 5.39ms\tremaining: 103ms\n",
            "5:\tlearn: 7.5752564\ttotal: 6.38ms\tremaining: 100ms\n",
            "6:\tlearn: 7.4783266\ttotal: 7.38ms\tremaining: 98ms\n",
            "7:\tlearn: 7.4077241\ttotal: 8.33ms\tremaining: 95.8ms\n",
            "8:\tlearn: 7.3194401\ttotal: 9.28ms\tremaining: 93.9ms\n",
            "9:\tlearn: 7.2651704\ttotal: 10.1ms\tremaining: 91.3ms\n",
            "10:\tlearn: 7.2155294\ttotal: 11.2ms\tremaining: 90.5ms\n",
            "11:\tlearn: 7.1545470\ttotal: 12.2ms\tremaining: 89.2ms\n",
            "12:\tlearn: 7.0836508\ttotal: 18.4ms\tremaining: 123ms\n",
            "13:\tlearn: 7.0279160\ttotal: 98.3ms\tremaining: 604ms\n",
            "14:\tlearn: 6.9954076\ttotal: 99.3ms\tremaining: 563ms\n",
            "15:\tlearn: 6.9685427\ttotal: 100ms\tremaining: 526ms\n",
            "16:\tlearn: 6.9301079\ttotal: 101ms\tremaining: 495ms\n",
            "17:\tlearn: 6.8827531\ttotal: 102ms\tremaining: 466ms\n",
            "18:\tlearn: 6.8258627\ttotal: 103ms\tremaining: 441ms\n",
            "19:\tlearn: 6.7856396\ttotal: 104ms\tremaining: 418ms\n",
            "20:\tlearn: 6.7519097\ttotal: 106ms\tremaining: 397ms\n",
            "21:\tlearn: 6.6884611\ttotal: 106ms\tremaining: 377ms\n",
            "22:\tlearn: 6.6616908\ttotal: 107ms\tremaining: 360ms\n",
            "23:\tlearn: 6.6403856\ttotal: 109ms\tremaining: 344ms\n",
            "24:\tlearn: 6.6019506\ttotal: 110ms\tremaining: 329ms\n",
            "25:\tlearn: 6.5620029\ttotal: 194ms\tremaining: 553ms\n",
            "26:\tlearn: 6.5262372\ttotal: 196ms\tremaining: 529ms\n",
            "27:\tlearn: 6.4997077\ttotal: 197ms\tremaining: 506ms\n",
            "28:\tlearn: 6.4728712\ttotal: 198ms\tremaining: 484ms\n",
            "29:\tlearn: 6.4495501\ttotal: 199ms\tremaining: 463ms\n",
            "30:\tlearn: 6.4348080\ttotal: 200ms\tremaining: 444ms\n",
            "31:\tlearn: 6.4025294\ttotal: 200ms\tremaining: 426ms\n",
            "32:\tlearn: 6.3634604\ttotal: 201ms\tremaining: 409ms\n",
            "33:\tlearn: 6.3338615\ttotal: 202ms\tremaining: 393ms\n",
            "34:\tlearn: 6.3217672\ttotal: 203ms\tremaining: 378ms\n",
            "35:\tlearn: 6.3016916\ttotal: 204ms\tremaining: 363ms\n",
            "36:\tlearn: 6.2566493\ttotal: 289ms\tremaining: 492ms\n",
            "37:\tlearn: 6.2283082\ttotal: 290ms\tremaining: 474ms\n",
            "38:\tlearn: 6.2010798\ttotal: 291ms\tremaining: 455ms\n",
            "39:\tlearn: 6.1761533\ttotal: 292ms\tremaining: 438ms\n",
            "40:\tlearn: 6.1597341\ttotal: 293ms\tremaining: 422ms\n",
            "41:\tlearn: 6.1400770\ttotal: 294ms\tremaining: 406ms\n",
            "42:\tlearn: 6.1299774\ttotal: 295ms\tremaining: 391ms\n",
            "43:\tlearn: 6.1103132\ttotal: 296ms\tremaining: 377ms\n",
            "44:\tlearn: 6.0892372\ttotal: 297ms\tremaining: 363ms\n",
            "45:\tlearn: 6.0594692\ttotal: 298ms\tremaining: 350ms\n",
            "46:\tlearn: 6.0382113\ttotal: 299ms\tremaining: 337ms\n",
            "47:\tlearn: 6.0249680\ttotal: 300ms\tremaining: 325ms\n",
            "48:\tlearn: 6.0002748\ttotal: 301ms\tremaining: 314ms\n",
            "49:\tlearn: 5.9821415\ttotal: 302ms\tremaining: 302ms\n",
            "50:\tlearn: 5.9657371\ttotal: 304ms\tremaining: 292ms\n",
            "51:\tlearn: 5.9442968\ttotal: 305ms\tremaining: 282ms\n",
            "52:\tlearn: 5.9320370\ttotal: 306ms\tremaining: 271ms\n",
            "53:\tlearn: 5.9175331\ttotal: 307ms\tremaining: 262ms\n",
            "54:\tlearn: 5.9060399\ttotal: 308ms\tremaining: 252ms\n",
            "55:\tlearn: 5.8915062\ttotal: 309ms\tremaining: 243ms\n",
            "56:\tlearn: 5.8787395\ttotal: 310ms\tremaining: 234ms\n",
            "57:\tlearn: 5.8649227\ttotal: 311ms\tremaining: 225ms\n",
            "58:\tlearn: 5.8574453\ttotal: 396ms\tremaining: 275ms\n",
            "59:\tlearn: 5.8383982\ttotal: 398ms\tremaining: 265ms\n",
            "60:\tlearn: 5.8202025\ttotal: 400ms\tremaining: 256ms\n",
            "61:\tlearn: 5.8011440\ttotal: 401ms\tremaining: 246ms\n",
            "62:\tlearn: 5.7882448\ttotal: 404ms\tremaining: 237ms\n",
            "63:\tlearn: 5.7739489\ttotal: 405ms\tremaining: 228ms\n",
            "64:\tlearn: 5.7526112\ttotal: 406ms\tremaining: 219ms\n",
            "65:\tlearn: 5.7426299\ttotal: 408ms\tremaining: 210ms\n",
            "66:\tlearn: 5.7256102\ttotal: 409ms\tremaining: 201ms\n",
            "67:\tlearn: 5.7150151\ttotal: 411ms\tremaining: 193ms\n",
            "68:\tlearn: 5.7046670\ttotal: 493ms\tremaining: 221ms\n",
            "69:\tlearn: 5.6855284\ttotal: 494ms\tremaining: 212ms\n",
            "70:\tlearn: 5.6695261\ttotal: 496ms\tremaining: 203ms\n",
            "71:\tlearn: 5.6624668\ttotal: 497ms\tremaining: 193ms\n",
            "72:\tlearn: 5.6491814\ttotal: 498ms\tremaining: 184ms\n",
            "73:\tlearn: 5.6360320\ttotal: 499ms\tremaining: 175ms\n",
            "74:\tlearn: 5.6273663\ttotal: 500ms\tremaining: 167ms\n",
            "75:\tlearn: 5.6160055\ttotal: 501ms\tremaining: 158ms\n",
            "76:\tlearn: 5.6096255\ttotal: 502ms\tremaining: 150ms\n",
            "77:\tlearn: 5.5978647\ttotal: 503ms\tremaining: 142ms\n",
            "78:\tlearn: 5.5852551\ttotal: 515ms\tremaining: 137ms\n",
            "79:\tlearn: 5.5770352\ttotal: 589ms\tremaining: 147ms\n",
            "80:\tlearn: 5.5637279\ttotal: 591ms\tremaining: 139ms\n",
            "81:\tlearn: 5.5498379\ttotal: 592ms\tremaining: 130ms\n",
            "82:\tlearn: 5.5360833\ttotal: 593ms\tremaining: 121ms\n",
            "83:\tlearn: 5.5269205\ttotal: 594ms\tremaining: 113ms\n",
            "84:\tlearn: 5.5213455\ttotal: 595ms\tremaining: 105ms\n",
            "85:\tlearn: 5.5095057\ttotal: 596ms\tremaining: 97ms\n",
            "86:\tlearn: 5.4996027\ttotal: 597ms\tremaining: 89.2ms\n",
            "87:\tlearn: 5.4894808\ttotal: 598ms\tremaining: 81.5ms\n",
            "88:\tlearn: 5.4773690\ttotal: 604ms\tremaining: 74.7ms\n",
            "89:\tlearn: 5.4677622\ttotal: 685ms\tremaining: 76.2ms\n",
            "90:\tlearn: 5.4568073\ttotal: 687ms\tremaining: 67.9ms\n",
            "91:\tlearn: 5.4464786\ttotal: 688ms\tremaining: 59.8ms\n",
            "92:\tlearn: 5.4403639\ttotal: 689ms\tremaining: 51.8ms\n",
            "93:\tlearn: 5.4277914\ttotal: 690ms\tremaining: 44ms\n",
            "94:\tlearn: 5.4189404\ttotal: 691ms\tremaining: 36.4ms\n",
            "95:\tlearn: 5.4079812\ttotal: 692ms\tremaining: 28.8ms\n",
            "96:\tlearn: 5.3890515\ttotal: 693ms\tremaining: 21.4ms\n",
            "97:\tlearn: 5.3817419\ttotal: 694ms\tremaining: 14.2ms\n",
            "98:\tlearn: 5.3769023\ttotal: 695ms\tremaining: 7.03ms\n",
            "99:\tlearn: 5.3736332\ttotal: 702ms\tremaining: 0us\n",
            "[CV]  depth=5, learning_rate=0.05, loss_function=MAE, n_estimators=100, random_state=123, score=0.223, total=   2.2s\n",
            "[Parallel(n_jobs=1)]: Done  15 out of  15 | elapsed:   39.4s remaining:    0.0s\n",
            "[CV] depth=5, learning_rate=0.05, loss_function=MAE, n_estimators=300, random_state=123 \n",
            "0:\tlearn: 8.1115540\ttotal: 1.21ms\tremaining: 360ms\n",
            "1:\tlearn: 7.9911974\ttotal: 2.35ms\tremaining: 350ms\n",
            "2:\tlearn: 7.9064198\ttotal: 3.38ms\tremaining: 334ms\n",
            "3:\tlearn: 7.7845648\ttotal: 4.89ms\tremaining: 362ms\n",
            "4:\tlearn: 7.6915368\ttotal: 7.17ms\tremaining: 423ms\n",
            "5:\tlearn: 7.6213059\ttotal: 8.18ms\tremaining: 401ms\n",
            "6:\tlearn: 7.5477316\ttotal: 9.17ms\tremaining: 384ms\n",
            "7:\tlearn: 7.4565533\ttotal: 10.1ms\tremaining: 369ms\n",
            "8:\tlearn: 7.3953472\ttotal: 11ms\tremaining: 356ms\n",
            "9:\tlearn: 7.3237521\ttotal: 12ms\tremaining: 348ms\n",
            "10:\tlearn: 7.2755581\ttotal: 32.4ms\tremaining: 852ms\n",
            "11:\tlearn: 7.2183705\ttotal: 33.3ms\tremaining: 799ms\n",
            "12:\tlearn: 7.1716807\ttotal: 34.3ms\tremaining: 756ms\n",
            "13:\tlearn: 7.1032996\ttotal: 35.2ms\tremaining: 719ms\n",
            "14:\tlearn: 7.0499994\ttotal: 36.2ms\tremaining: 687ms\n",
            "15:\tlearn: 7.0131477\ttotal: 37.2ms\tremaining: 660ms\n",
            "16:\tlearn: 6.9754394\ttotal: 38.7ms\tremaining: 644ms\n",
            "17:\tlearn: 6.9406955\ttotal: 39.6ms\tremaining: 621ms\n",
            "18:\tlearn: 6.8902989\ttotal: 40.6ms\tremaining: 600ms\n",
            "19:\tlearn: 6.8619222\ttotal: 41.6ms\tremaining: 582ms\n",
            "20:\tlearn: 6.8092176\ttotal: 48ms\tremaining: 637ms\n",
            "21:\tlearn: 6.7829847\ttotal: 129ms\tremaining: 1.63s\n",
            "22:\tlearn: 6.7389009\ttotal: 130ms\tremaining: 1.57s\n",
            "23:\tlearn: 6.7038233\ttotal: 132ms\tremaining: 1.51s\n",
            "24:\tlearn: 6.6856518\ttotal: 133ms\tremaining: 1.46s\n",
            "25:\tlearn: 6.6438704\ttotal: 134ms\tremaining: 1.41s\n",
            "26:\tlearn: 6.6158815\ttotal: 136ms\tremaining: 1.37s\n",
            "27:\tlearn: 6.5833819\ttotal: 137ms\tremaining: 1.33s\n",
            "28:\tlearn: 6.5590825\ttotal: 138ms\tremaining: 1.29s\n",
            "29:\tlearn: 6.5117800\ttotal: 139ms\tremaining: 1.25s\n",
            "30:\tlearn: 6.4791899\ttotal: 145ms\tremaining: 1.26s\n",
            "31:\tlearn: 6.4567199\ttotal: 226ms\tremaining: 1.89s\n",
            "32:\tlearn: 6.4333433\ttotal: 227ms\tremaining: 1.84s\n",
            "33:\tlearn: 6.3982951\ttotal: 228ms\tremaining: 1.78s\n",
            "34:\tlearn: 6.3820104\ttotal: 229ms\tremaining: 1.74s\n",
            "35:\tlearn: 6.3405002\ttotal: 231ms\tremaining: 1.69s\n",
            "36:\tlearn: 6.3162100\ttotal: 232ms\tremaining: 1.65s\n",
            "37:\tlearn: 6.2881723\ttotal: 233ms\tremaining: 1.61s\n",
            "38:\tlearn: 6.2624959\ttotal: 234ms\tremaining: 1.57s\n",
            "39:\tlearn: 6.2399679\ttotal: 235ms\tremaining: 1.53s\n",
            "40:\tlearn: 6.2037220\ttotal: 236ms\tremaining: 1.49s\n",
            "41:\tlearn: 6.1690889\ttotal: 322ms\tremaining: 1.98s\n",
            "42:\tlearn: 6.1294646\ttotal: 323ms\tremaining: 1.93s\n",
            "43:\tlearn: 6.1205097\ttotal: 324ms\tremaining: 1.89s\n",
            "44:\tlearn: 6.1046795\ttotal: 325ms\tremaining: 1.84s\n",
            "45:\tlearn: 6.0815998\ttotal: 326ms\tremaining: 1.8s\n",
            "46:\tlearn: 6.0609206\ttotal: 327ms\tremaining: 1.76s\n",
            "47:\tlearn: 6.0459677\ttotal: 328ms\tremaining: 1.72s\n",
            "48:\tlearn: 6.0211408\ttotal: 329ms\tremaining: 1.69s\n",
            "49:\tlearn: 5.9986512\ttotal: 330ms\tremaining: 1.65s\n",
            "50:\tlearn: 5.9839348\ttotal: 331ms\tremaining: 1.62s\n",
            "51:\tlearn: 5.9615489\ttotal: 332ms\tremaining: 1.58s\n",
            "52:\tlearn: 5.9483800\ttotal: 419ms\tremaining: 1.95s\n",
            "53:\tlearn: 5.9215318\ttotal: 421ms\tremaining: 1.92s\n",
            "54:\tlearn: 5.9104079\ttotal: 422ms\tremaining: 1.88s\n",
            "55:\tlearn: 5.8901392\ttotal: 424ms\tremaining: 1.84s\n",
            "56:\tlearn: 5.8783664\ttotal: 425ms\tremaining: 1.81s\n",
            "57:\tlearn: 5.8612222\ttotal: 426ms\tremaining: 1.78s\n",
            "58:\tlearn: 5.8402948\ttotal: 428ms\tremaining: 1.75s\n",
            "59:\tlearn: 5.8278471\ttotal: 429ms\tremaining: 1.72s\n",
            "60:\tlearn: 5.8163858\ttotal: 430ms\tremaining: 1.68s\n",
            "61:\tlearn: 5.8113615\ttotal: 431ms\tremaining: 1.65s\n",
            "62:\tlearn: 5.8047384\ttotal: 515ms\tremaining: 1.94s\n",
            "63:\tlearn: 5.7909917\ttotal: 516ms\tremaining: 1.9s\n",
            "64:\tlearn: 5.7707303\ttotal: 517ms\tremaining: 1.87s\n",
            "65:\tlearn: 5.7633102\ttotal: 518ms\tremaining: 1.84s\n",
            "66:\tlearn: 5.7435873\ttotal: 519ms\tremaining: 1.8s\n",
            "67:\tlearn: 5.7202298\ttotal: 520ms\tremaining: 1.77s\n",
            "68:\tlearn: 5.7032446\ttotal: 521ms\tremaining: 1.74s\n",
            "69:\tlearn: 5.6919067\ttotal: 522ms\tremaining: 1.72s\n",
            "70:\tlearn: 5.6808209\ttotal: 523ms\tremaining: 1.69s\n",
            "71:\tlearn: 5.6709418\ttotal: 524ms\tremaining: 1.66s\n",
            "72:\tlearn: 5.6556182\ttotal: 531ms\tremaining: 1.65s\n",
            "73:\tlearn: 5.6387356\ttotal: 611ms\tremaining: 1.87s\n",
            "74:\tlearn: 5.6298412\ttotal: 613ms\tremaining: 1.84s\n",
            "75:\tlearn: 5.6179232\ttotal: 614ms\tremaining: 1.81s\n",
            "76:\tlearn: 5.6024870\ttotal: 616ms\tremaining: 1.78s\n",
            "77:\tlearn: 5.5877882\ttotal: 617ms\tremaining: 1.75s\n",
            "78:\tlearn: 5.5750705\ttotal: 618ms\tremaining: 1.73s\n",
            "79:\tlearn: 5.5630101\ttotal: 619ms\tremaining: 1.7s\n",
            "80:\tlearn: 5.5508657\ttotal: 620ms\tremaining: 1.68s\n",
            "81:\tlearn: 5.5415573\ttotal: 622ms\tremaining: 1.65s\n",
            "82:\tlearn: 5.5353308\ttotal: 622ms\tremaining: 1.63s\n",
            "83:\tlearn: 5.5221000\ttotal: 702ms\tremaining: 1.8s\n",
            "84:\tlearn: 5.5112764\ttotal: 703ms\tremaining: 1.78s\n",
            "85:\tlearn: 5.5057472\ttotal: 704ms\tremaining: 1.75s\n",
            "86:\tlearn: 5.5007954\ttotal: 705ms\tremaining: 1.73s\n",
            "87:\tlearn: 5.4914121\ttotal: 706ms\tremaining: 1.7s\n",
            "88:\tlearn: 5.4857597\ttotal: 707ms\tremaining: 1.68s\n",
            "89:\tlearn: 5.4792358\ttotal: 709ms\tremaining: 1.65s\n",
            "90:\tlearn: 5.4762954\ttotal: 710ms\tremaining: 1.63s\n",
            "91:\tlearn: 5.4661840\ttotal: 711ms\tremaining: 1.61s\n",
            "92:\tlearn: 5.4586102\ttotal: 713ms\tremaining: 1.59s\n",
            "93:\tlearn: 5.4457529\ttotal: 718ms\tremaining: 1.57s\n",
            "94:\tlearn: 5.4330281\ttotal: 719ms\tremaining: 1.55s\n",
            "95:\tlearn: 5.4226693\ttotal: 799ms\tremaining: 1.7s\n",
            "96:\tlearn: 5.4137747\ttotal: 800ms\tremaining: 1.67s\n",
            "97:\tlearn: 5.4046301\ttotal: 801ms\tremaining: 1.65s\n",
            "98:\tlearn: 5.3967011\ttotal: 802ms\tremaining: 1.63s\n",
            "99:\tlearn: 5.3832572\ttotal: 803ms\tremaining: 1.61s\n",
            "100:\tlearn: 5.3738731\ttotal: 806ms\tremaining: 1.59s\n",
            "101:\tlearn: 5.3662985\ttotal: 807ms\tremaining: 1.57s\n",
            "102:\tlearn: 5.3512400\ttotal: 808ms\tremaining: 1.54s\n",
            "103:\tlearn: 5.3422895\ttotal: 809ms\tremaining: 1.52s\n",
            "104:\tlearn: 5.3293075\ttotal: 810ms\tremaining: 1.5s\n",
            "105:\tlearn: 5.3190869\ttotal: 894ms\tremaining: 1.64s\n",
            "106:\tlearn: 5.3068013\ttotal: 896ms\tremaining: 1.61s\n",
            "107:\tlearn: 5.2984386\ttotal: 897ms\tremaining: 1.59s\n",
            "108:\tlearn: 5.2917481\ttotal: 897ms\tremaining: 1.57s\n",
            "109:\tlearn: 5.2830939\ttotal: 898ms\tremaining: 1.55s\n",
            "110:\tlearn: 5.2760061\ttotal: 900ms\tremaining: 1.53s\n",
            "111:\tlearn: 5.2703302\ttotal: 901ms\tremaining: 1.51s\n",
            "112:\tlearn: 5.2589714\ttotal: 902ms\tremaining: 1.49s\n",
            "113:\tlearn: 5.2500028\ttotal: 903ms\tremaining: 1.47s\n",
            "114:\tlearn: 5.2366775\ttotal: 904ms\tremaining: 1.45s\n",
            "115:\tlearn: 5.2311458\ttotal: 905ms\tremaining: 1.44s\n",
            "116:\tlearn: 5.2240031\ttotal: 991ms\tremaining: 1.55s\n",
            "117:\tlearn: 5.2179226\ttotal: 992ms\tremaining: 1.53s\n",
            "118:\tlearn: 5.2053790\ttotal: 993ms\tremaining: 1.51s\n",
            "119:\tlearn: 5.1958325\ttotal: 994ms\tremaining: 1.49s\n",
            "120:\tlearn: 5.1871612\ttotal: 995ms\tremaining: 1.47s\n",
            "121:\tlearn: 5.1801252\ttotal: 996ms\tremaining: 1.45s\n",
            "122:\tlearn: 5.1741056\ttotal: 997ms\tremaining: 1.43s\n",
            "123:\tlearn: 5.1653320\ttotal: 998ms\tremaining: 1.42s\n",
            "124:\tlearn: 5.1575186\ttotal: 999ms\tremaining: 1.4s\n",
            "125:\tlearn: 5.1502073\ttotal: 1s\tremaining: 1.38s\n",
            "126:\tlearn: 5.1451175\ttotal: 1.01s\tremaining: 1.37s\n",
            "127:\tlearn: 5.1358986\ttotal: 1.09s\tremaining: 1.46s\n",
            "128:\tlearn: 5.1295871\ttotal: 1.09s\tremaining: 1.44s\n",
            "129:\tlearn: 5.1246104\ttotal: 1.09s\tremaining: 1.42s\n",
            "130:\tlearn: 5.1209498\ttotal: 1.09s\tremaining: 1.41s\n",
            "131:\tlearn: 5.1136516\ttotal: 1.09s\tremaining: 1.39s\n",
            "132:\tlearn: 5.1068996\ttotal: 1.09s\tremaining: 1.37s\n",
            "133:\tlearn: 5.0954746\ttotal: 1.09s\tremaining: 1.35s\n",
            "134:\tlearn: 5.0866575\ttotal: 1.09s\tremaining: 1.34s\n",
            "135:\tlearn: 5.0821044\ttotal: 1.09s\tremaining: 1.32s\n",
            "136:\tlearn: 5.0746708\ttotal: 1.09s\tremaining: 1.3s\n",
            "137:\tlearn: 5.0693226\ttotal: 1.1s\tremaining: 1.29s\n",
            "138:\tlearn: 5.0606100\ttotal: 1.18s\tremaining: 1.37s\n",
            "139:\tlearn: 5.0521471\ttotal: 1.18s\tremaining: 1.35s\n",
            "140:\tlearn: 5.0419014\ttotal: 1.18s\tremaining: 1.34s\n",
            "141:\tlearn: 5.0382091\ttotal: 1.19s\tremaining: 1.32s\n",
            "142:\tlearn: 5.0282932\ttotal: 1.19s\tremaining: 1.3s\n",
            "143:\tlearn: 5.0207020\ttotal: 1.19s\tremaining: 1.29s\n",
            "144:\tlearn: 5.0155928\ttotal: 1.19s\tremaining: 1.27s\n",
            "145:\tlearn: 5.0122646\ttotal: 1.19s\tremaining: 1.25s\n",
            "146:\tlearn: 5.0021844\ttotal: 1.19s\tremaining: 1.24s\n",
            "147:\tlearn: 4.9932762\ttotal: 1.2s\tremaining: 1.23s\n",
            "148:\tlearn: 4.9852066\ttotal: 1.2s\tremaining: 1.21s\n",
            "149:\tlearn: 4.9778730\ttotal: 1.28s\tremaining: 1.28s\n",
            "150:\tlearn: 4.9740854\ttotal: 1.28s\tremaining: 1.26s\n",
            "151:\tlearn: 4.9703097\ttotal: 1.28s\tremaining: 1.25s\n",
            "152:\tlearn: 4.9657521\ttotal: 1.28s\tremaining: 1.23s\n",
            "153:\tlearn: 4.9515356\ttotal: 1.28s\tremaining: 1.22s\n",
            "154:\tlearn: 4.9459062\ttotal: 1.28s\tremaining: 1.2s\n",
            "155:\tlearn: 4.9418794\ttotal: 1.29s\tremaining: 1.19s\n",
            "156:\tlearn: 4.9346152\ttotal: 1.29s\tremaining: 1.17s\n",
            "157:\tlearn: 4.9261534\ttotal: 1.29s\tremaining: 1.16s\n",
            "158:\tlearn: 4.9170955\ttotal: 1.29s\tremaining: 1.14s\n",
            "159:\tlearn: 4.9076190\ttotal: 1.29s\tremaining: 1.13s\n",
            "160:\tlearn: 4.9029112\ttotal: 1.37s\tremaining: 1.19s\n",
            "161:\tlearn: 4.8989252\ttotal: 1.38s\tremaining: 1.17s\n",
            "162:\tlearn: 4.8862241\ttotal: 1.38s\tremaining: 1.16s\n",
            "163:\tlearn: 4.8811637\ttotal: 1.38s\tremaining: 1.14s\n",
            "164:\tlearn: 4.8754885\ttotal: 1.38s\tremaining: 1.13s\n",
            "165:\tlearn: 4.8672732\ttotal: 1.38s\tremaining: 1.11s\n",
            "166:\tlearn: 4.8603177\ttotal: 1.38s\tremaining: 1.1s\n",
            "167:\tlearn: 4.8562712\ttotal: 1.38s\tremaining: 1.08s\n",
            "168:\tlearn: 4.8534936\ttotal: 1.38s\tremaining: 1.07s\n",
            "169:\tlearn: 4.8451602\ttotal: 1.47s\tremaining: 1.12s\n",
            "170:\tlearn: 4.8394554\ttotal: 1.47s\tremaining: 1.11s\n",
            "171:\tlearn: 4.8282430\ttotal: 1.47s\tremaining: 1.1s\n",
            "172:\tlearn: 4.8227243\ttotal: 1.48s\tremaining: 1.08s\n",
            "173:\tlearn: 4.8147169\ttotal: 1.48s\tremaining: 1.07s\n",
            "174:\tlearn: 4.8053836\ttotal: 1.48s\tremaining: 1.05s\n",
            "175:\tlearn: 4.7997441\ttotal: 1.48s\tremaining: 1.04s\n",
            "176:\tlearn: 4.7894745\ttotal: 1.48s\tremaining: 1.03s\n",
            "177:\tlearn: 4.7851021\ttotal: 1.48s\tremaining: 1.01s\n",
            "178:\tlearn: 4.7777191\ttotal: 1.48s\tremaining: 1s\n",
            "179:\tlearn: 4.7725149\ttotal: 1.49s\tremaining: 993ms\n",
            "180:\tlearn: 4.7671729\ttotal: 1.57s\tremaining: 1.03s\n",
            "181:\tlearn: 4.7611831\ttotal: 1.57s\tremaining: 1.02s\n",
            "182:\tlearn: 4.7553813\ttotal: 1.57s\tremaining: 1s\n",
            "183:\tlearn: 4.7487740\ttotal: 1.57s\tremaining: 991ms\n",
            "184:\tlearn: 4.7411322\ttotal: 1.57s\tremaining: 977ms\n",
            "185:\tlearn: 4.7348724\ttotal: 1.57s\tremaining: 964ms\n",
            "186:\tlearn: 4.7297132\ttotal: 1.57s\tremaining: 951ms\n",
            "187:\tlearn: 4.7220985\ttotal: 1.57s\tremaining: 938ms\n",
            "188:\tlearn: 4.7125314\ttotal: 1.58s\tremaining: 926ms\n",
            "189:\tlearn: 4.7106047\ttotal: 1.58s\tremaining: 913ms\n",
            "190:\tlearn: 4.7038372\ttotal: 1.58s\tremaining: 902ms\n",
            "191:\tlearn: 4.6964145\ttotal: 1.66s\tremaining: 936ms\n",
            "192:\tlearn: 4.6895741\ttotal: 1.67s\tremaining: 923ms\n",
            "193:\tlearn: 4.6851015\ttotal: 1.67s\tremaining: 910ms\n",
            "194:\tlearn: 4.6811994\ttotal: 1.67s\tremaining: 898ms\n",
            "195:\tlearn: 4.6776724\ttotal: 1.67s\tremaining: 885ms\n",
            "196:\tlearn: 4.6695192\ttotal: 1.67s\tremaining: 873ms\n",
            "197:\tlearn: 4.6653206\ttotal: 1.67s\tremaining: 860ms\n",
            "198:\tlearn: 4.6604134\ttotal: 1.67s\tremaining: 848ms\n",
            "199:\tlearn: 4.6547008\ttotal: 1.67s\tremaining: 836ms\n",
            "200:\tlearn: 4.6459022\ttotal: 1.67s\tremaining: 824ms\n",
            "201:\tlearn: 4.6431107\ttotal: 1.67s\tremaining: 812ms\n",
            "202:\tlearn: 4.6394556\ttotal: 1.76s\tremaining: 841ms\n",
            "203:\tlearn: 4.6347846\ttotal: 1.76s\tremaining: 829ms\n",
            "204:\tlearn: 4.6295091\ttotal: 1.76s\tremaining: 817ms\n",
            "205:\tlearn: 4.6225467\ttotal: 1.76s\tremaining: 805ms\n",
            "206:\tlearn: 4.6155795\ttotal: 1.76s\tremaining: 793ms\n",
            "207:\tlearn: 4.6131653\ttotal: 1.77s\tremaining: 781ms\n",
            "208:\tlearn: 4.6084964\ttotal: 1.77s\tremaining: 770ms\n",
            "209:\tlearn: 4.6051739\ttotal: 1.77s\tremaining: 759ms\n",
            "210:\tlearn: 4.6010145\ttotal: 1.78s\tremaining: 750ms\n",
            "211:\tlearn: 4.5960410\ttotal: 1.86s\tremaining: 771ms\n",
            "212:\tlearn: 4.5923621\ttotal: 1.86s\tremaining: 759ms\n",
            "213:\tlearn: 4.5864674\ttotal: 1.86s\tremaining: 747ms\n",
            "214:\tlearn: 4.5834274\ttotal: 1.86s\tremaining: 736ms\n",
            "215:\tlearn: 4.5774818\ttotal: 1.86s\tremaining: 724ms\n",
            "216:\tlearn: 4.5748456\ttotal: 1.86s\tremaining: 713ms\n",
            "217:\tlearn: 4.5668729\ttotal: 1.86s\tremaining: 702ms\n",
            "218:\tlearn: 4.5615713\ttotal: 1.87s\tremaining: 690ms\n",
            "219:\tlearn: 4.5591302\ttotal: 1.87s\tremaining: 679ms\n",
            "220:\tlearn: 4.5551173\ttotal: 1.87s\tremaining: 668ms\n",
            "221:\tlearn: 4.5487560\ttotal: 1.95s\tremaining: 686ms\n",
            "222:\tlearn: 4.5445722\ttotal: 1.95s\tremaining: 675ms\n",
            "223:\tlearn: 4.5405755\ttotal: 1.96s\tremaining: 664ms\n",
            "224:\tlearn: 4.5367456\ttotal: 1.96s\tremaining: 653ms\n",
            "225:\tlearn: 4.5318290\ttotal: 1.96s\tremaining: 641ms\n",
            "226:\tlearn: 4.5256752\ttotal: 1.96s\tremaining: 631ms\n",
            "227:\tlearn: 4.5181388\ttotal: 1.96s\tremaining: 620ms\n",
            "228:\tlearn: 4.5132078\ttotal: 1.96s\tremaining: 609ms\n",
            "229:\tlearn: 4.5075947\ttotal: 1.96s\tremaining: 598ms\n",
            "230:\tlearn: 4.4996217\ttotal: 1.97s\tremaining: 587ms\n",
            "231:\tlearn: 4.4934977\ttotal: 2.05s\tremaining: 601ms\n",
            "232:\tlearn: 4.4907606\ttotal: 2.05s\tremaining: 590ms\n",
            "233:\tlearn: 4.4837107\ttotal: 2.05s\tremaining: 579ms\n",
            "234:\tlearn: 4.4799088\ttotal: 2.05s\tremaining: 568ms\n",
            "235:\tlearn: 4.4748720\ttotal: 2.06s\tremaining: 558ms\n",
            "236:\tlearn: 4.4710061\ttotal: 2.06s\tremaining: 547ms\n",
            "237:\tlearn: 4.4675084\ttotal: 2.06s\tremaining: 536ms\n",
            "238:\tlearn: 4.4607796\ttotal: 2.06s\tremaining: 526ms\n",
            "239:\tlearn: 4.4559773\ttotal: 2.07s\tremaining: 517ms\n",
            "240:\tlearn: 4.4535232\ttotal: 2.15s\tremaining: 525ms\n",
            "241:\tlearn: 4.4505359\ttotal: 2.15s\tremaining: 515ms\n",
            "242:\tlearn: 4.4478647\ttotal: 2.15s\tremaining: 504ms\n",
            "243:\tlearn: 4.4450392\ttotal: 2.15s\tremaining: 493ms\n",
            "244:\tlearn: 4.4387617\ttotal: 2.15s\tremaining: 483ms\n",
            "245:\tlearn: 4.4329221\ttotal: 2.15s\tremaining: 472ms\n",
            "246:\tlearn: 4.4294523\ttotal: 2.15s\tremaining: 462ms\n",
            "247:\tlearn: 4.4247593\ttotal: 2.15s\tremaining: 451ms\n",
            "248:\tlearn: 4.4199158\ttotal: 2.15s\tremaining: 441ms\n",
            "249:\tlearn: 4.4154686\ttotal: 2.15s\tremaining: 431ms\n",
            "250:\tlearn: 4.4105391\ttotal: 2.15s\tremaining: 421ms\n",
            "251:\tlearn: 4.4074332\ttotal: 2.16s\tremaining: 411ms\n",
            "252:\tlearn: 4.4026203\ttotal: 2.24s\tremaining: 417ms\n",
            "253:\tlearn: 4.3978338\ttotal: 2.24s\tremaining: 406ms\n",
            "254:\tlearn: 4.3900847\ttotal: 2.25s\tremaining: 396ms\n",
            "255:\tlearn: 4.3843866\ttotal: 2.25s\tremaining: 386ms\n",
            "256:\tlearn: 4.3828170\ttotal: 2.25s\tremaining: 376ms\n",
            "257:\tlearn: 4.3792933\ttotal: 2.25s\tremaining: 366ms\n",
            "258:\tlearn: 4.3746906\ttotal: 2.25s\tremaining: 356ms\n",
            "259:\tlearn: 4.3712460\ttotal: 2.25s\tremaining: 346ms\n",
            "260:\tlearn: 4.3668954\ttotal: 2.25s\tremaining: 336ms\n",
            "261:\tlearn: 4.3641856\ttotal: 2.25s\tremaining: 327ms\n",
            "262:\tlearn: 4.3595100\ttotal: 2.25s\tremaining: 317ms\n",
            "263:\tlearn: 4.3525129\ttotal: 2.25s\tremaining: 307ms\n",
            "264:\tlearn: 4.3459924\ttotal: 2.34s\tremaining: 309ms\n",
            "265:\tlearn: 4.3423354\ttotal: 2.34s\tremaining: 299ms\n",
            "266:\tlearn: 4.3399854\ttotal: 2.34s\tremaining: 289ms\n",
            "267:\tlearn: 4.3364247\ttotal: 2.34s\tremaining: 280ms\n",
            "268:\tlearn: 4.3306606\ttotal: 2.34s\tremaining: 270ms\n",
            "269:\tlearn: 4.3281806\ttotal: 2.34s\tremaining: 260ms\n",
            "270:\tlearn: 4.3227354\ttotal: 2.35s\tremaining: 251ms\n",
            "271:\tlearn: 4.3181991\ttotal: 2.35s\tremaining: 242ms\n",
            "272:\tlearn: 4.3107159\ttotal: 2.35s\tremaining: 232ms\n",
            "273:\tlearn: 4.3064082\ttotal: 2.43s\tremaining: 231ms\n",
            "274:\tlearn: 4.3011435\ttotal: 2.44s\tremaining: 221ms\n",
            "275:\tlearn: 4.2979298\ttotal: 2.44s\tremaining: 212ms\n",
            "276:\tlearn: 4.2943037\ttotal: 2.44s\tremaining: 202ms\n",
            "277:\tlearn: 4.2909210\ttotal: 2.44s\tremaining: 193ms\n",
            "278:\tlearn: 4.2881387\ttotal: 2.44s\tremaining: 184ms\n",
            "279:\tlearn: 4.2852994\ttotal: 2.44s\tremaining: 174ms\n",
            "280:\tlearn: 4.2791291\ttotal: 2.44s\tremaining: 165ms\n",
            "281:\tlearn: 4.2736589\ttotal: 2.44s\tremaining: 156ms\n",
            "282:\tlearn: 4.2681440\ttotal: 2.44s\tremaining: 147ms\n",
            "283:\tlearn: 4.2638443\ttotal: 2.53s\tremaining: 143ms\n",
            "284:\tlearn: 4.2593638\ttotal: 2.53s\tremaining: 133ms\n",
            "285:\tlearn: 4.2527331\ttotal: 2.53s\tremaining: 124ms\n",
            "286:\tlearn: 4.2502662\ttotal: 2.53s\tremaining: 115ms\n",
            "287:\tlearn: 4.2457010\ttotal: 2.53s\tremaining: 106ms\n",
            "288:\tlearn: 4.2423329\ttotal: 2.54s\tremaining: 96.5ms\n",
            "289:\tlearn: 4.2384917\ttotal: 2.54s\tremaining: 87.5ms\n",
            "290:\tlearn: 4.2357034\ttotal: 2.54s\tremaining: 78.5ms\n",
            "291:\tlearn: 4.2317194\ttotal: 2.54s\tremaining: 69.5ms\n",
            "292:\tlearn: 4.2289979\ttotal: 2.54s\tremaining: 60.7ms\n",
            "293:\tlearn: 4.2259045\ttotal: 2.54s\tremaining: 51.8ms\n",
            "294:\tlearn: 4.2198605\ttotal: 2.54s\tremaining: 43.1ms\n",
            "295:\tlearn: 4.2168160\ttotal: 2.63s\tremaining: 35.5ms\n",
            "296:\tlearn: 4.2144388\ttotal: 2.63s\tremaining: 26.5ms\n",
            "297:\tlearn: 4.2099063\ttotal: 2.63s\tremaining: 17.6ms\n",
            "298:\tlearn: 4.2060472\ttotal: 2.63s\tremaining: 8.8ms\n",
            "299:\tlearn: 4.2018998\ttotal: 2.63s\tremaining: 0us\n",
            "[CV]  depth=5, learning_rate=0.05, loss_function=MAE, n_estimators=300, random_state=123, score=0.464, total=   4.0s\n",
            "[Parallel(n_jobs=1)]: Done  16 out of  16 | elapsed:   43.4s remaining:    0.0s\n",
            "[CV] depth=5, learning_rate=0.05, loss_function=MAE, n_estimators=300, random_state=123 \n",
            "0:\tlearn: 7.8369406\ttotal: 1.2ms\tremaining: 359ms\n",
            "1:\tlearn: 7.7864208\ttotal: 2.4ms\tremaining: 358ms\n",
            "2:\tlearn: 7.6948912\ttotal: 3.39ms\tremaining: 335ms\n",
            "3:\tlearn: 7.6090681\ttotal: 4.45ms\tremaining: 330ms\n",
            "4:\tlearn: 7.5478880\ttotal: 5.46ms\tremaining: 322ms\n",
            "5:\tlearn: 7.4560753\ttotal: 6.43ms\tremaining: 315ms\n",
            "6:\tlearn: 7.3824367\ttotal: 7.39ms\tremaining: 309ms\n",
            "7:\tlearn: 7.3235208\ttotal: 8.37ms\tremaining: 306ms\n",
            "8:\tlearn: 7.2472534\ttotal: 9.35ms\tremaining: 302ms\n",
            "9:\tlearn: 7.1962579\ttotal: 10.4ms\tremaining: 302ms\n",
            "10:\tlearn: 7.1507201\ttotal: 11.4ms\tremaining: 299ms\n",
            "11:\tlearn: 7.0971904\ttotal: 36ms\tremaining: 865ms\n",
            "12:\tlearn: 7.0668911\ttotal: 37ms\tremaining: 818ms\n",
            "13:\tlearn: 6.9897949\ttotal: 38ms\tremaining: 776ms\n",
            "14:\tlearn: 6.9553046\ttotal: 39ms\tremaining: 740ms\n",
            "15:\tlearn: 6.9152286\ttotal: 39.9ms\tremaining: 708ms\n",
            "16:\tlearn: 6.8822395\ttotal: 40.8ms\tremaining: 680ms\n",
            "17:\tlearn: 6.8282475\ttotal: 41.7ms\tremaining: 654ms\n",
            "18:\tlearn: 6.7838958\ttotal: 43.5ms\tremaining: 643ms\n",
            "19:\tlearn: 6.7440606\ttotal: 44.4ms\tremaining: 622ms\n",
            "20:\tlearn: 6.6995617\ttotal: 45.4ms\tremaining: 603ms\n",
            "21:\tlearn: 6.6512938\ttotal: 46.3ms\tremaining: 585ms\n",
            "22:\tlearn: 6.6289405\ttotal: 127ms\tremaining: 1.52s\n",
            "23:\tlearn: 6.5910154\ttotal: 128ms\tremaining: 1.47s\n",
            "24:\tlearn: 6.5725011\ttotal: 129ms\tremaining: 1.42s\n",
            "25:\tlearn: 6.5397847\ttotal: 130ms\tremaining: 1.37s\n",
            "26:\tlearn: 6.5116891\ttotal: 131ms\tremaining: 1.32s\n",
            "27:\tlearn: 6.4866445\ttotal: 132ms\tremaining: 1.28s\n",
            "28:\tlearn: 6.4621588\ttotal: 133ms\tremaining: 1.24s\n",
            "29:\tlearn: 6.4135579\ttotal: 134ms\tremaining: 1.2s\n",
            "30:\tlearn: 6.3945636\ttotal: 135ms\tremaining: 1.17s\n",
            "31:\tlearn: 6.3629758\ttotal: 136ms\tremaining: 1.14s\n",
            "32:\tlearn: 6.3304033\ttotal: 142ms\tremaining: 1.15s\n",
            "33:\tlearn: 6.3121306\ttotal: 223ms\tremaining: 1.74s\n",
            "34:\tlearn: 6.2965644\ttotal: 225ms\tremaining: 1.7s\n",
            "35:\tlearn: 6.2709159\ttotal: 226ms\tremaining: 1.66s\n",
            "36:\tlearn: 6.2391478\ttotal: 227ms\tremaining: 1.61s\n",
            "37:\tlearn: 6.2105258\ttotal: 228ms\tremaining: 1.57s\n",
            "38:\tlearn: 6.1776713\ttotal: 229ms\tremaining: 1.53s\n",
            "39:\tlearn: 6.1632554\ttotal: 229ms\tremaining: 1.49s\n",
            "40:\tlearn: 6.1338152\ttotal: 231ms\tremaining: 1.46s\n",
            "41:\tlearn: 6.1104758\ttotal: 232ms\tremaining: 1.43s\n",
            "42:\tlearn: 6.0942308\ttotal: 233ms\tremaining: 1.39s\n",
            "43:\tlearn: 6.0690783\ttotal: 234ms\tremaining: 1.36s\n",
            "44:\tlearn: 6.0542239\ttotal: 235ms\tremaining: 1.33s\n",
            "45:\tlearn: 6.0346656\ttotal: 319ms\tremaining: 1.76s\n",
            "46:\tlearn: 6.0101030\ttotal: 320ms\tremaining: 1.73s\n",
            "47:\tlearn: 5.9924768\ttotal: 322ms\tremaining: 1.69s\n",
            "48:\tlearn: 5.9665463\ttotal: 323ms\tremaining: 1.65s\n",
            "49:\tlearn: 5.9465890\ttotal: 323ms\tremaining: 1.62s\n",
            "50:\tlearn: 5.9171346\ttotal: 325ms\tremaining: 1.58s\n",
            "51:\tlearn: 5.9041020\ttotal: 326ms\tremaining: 1.55s\n",
            "52:\tlearn: 5.8780616\ttotal: 327ms\tremaining: 1.52s\n",
            "53:\tlearn: 5.8611911\ttotal: 328ms\tremaining: 1.49s\n",
            "54:\tlearn: 5.8503366\ttotal: 328ms\tremaining: 1.46s\n",
            "55:\tlearn: 5.8313280\ttotal: 329ms\tremaining: 1.44s\n",
            "56:\tlearn: 5.8163738\ttotal: 415ms\tremaining: 1.77s\n",
            "57:\tlearn: 5.8018586\ttotal: 417ms\tremaining: 1.74s\n",
            "58:\tlearn: 5.7741499\ttotal: 418ms\tremaining: 1.71s\n",
            "59:\tlearn: 5.7491706\ttotal: 419ms\tremaining: 1.68s\n",
            "60:\tlearn: 5.7269961\ttotal: 421ms\tremaining: 1.65s\n",
            "61:\tlearn: 5.7119827\ttotal: 422ms\tremaining: 1.62s\n",
            "62:\tlearn: 5.6976703\ttotal: 424ms\tremaining: 1.59s\n",
            "63:\tlearn: 5.6764838\ttotal: 425ms\tremaining: 1.57s\n",
            "64:\tlearn: 5.6562698\ttotal: 426ms\tremaining: 1.54s\n",
            "65:\tlearn: 5.6482879\ttotal: 427ms\tremaining: 1.51s\n",
            "66:\tlearn: 5.6380619\ttotal: 512ms\tremaining: 1.78s\n",
            "67:\tlearn: 5.6248962\ttotal: 513ms\tremaining: 1.75s\n",
            "68:\tlearn: 5.6148274\ttotal: 514ms\tremaining: 1.72s\n",
            "69:\tlearn: 5.5940521\ttotal: 515ms\tremaining: 1.69s\n",
            "70:\tlearn: 5.5832664\ttotal: 516ms\tremaining: 1.66s\n",
            "71:\tlearn: 5.5772129\ttotal: 517ms\tremaining: 1.64s\n",
            "72:\tlearn: 5.5623587\ttotal: 518ms\tremaining: 1.61s\n",
            "73:\tlearn: 5.5482882\ttotal: 519ms\tremaining: 1.58s\n",
            "74:\tlearn: 5.5378368\ttotal: 520ms\tremaining: 1.56s\n",
            "75:\tlearn: 5.5190003\ttotal: 521ms\tremaining: 1.53s\n",
            "76:\tlearn: 5.5094506\ttotal: 522ms\tremaining: 1.51s\n",
            "77:\tlearn: 5.5047855\ttotal: 607ms\tremaining: 1.73s\n",
            "78:\tlearn: 5.4943366\ttotal: 608ms\tremaining: 1.7s\n",
            "79:\tlearn: 5.4912125\ttotal: 609ms\tremaining: 1.67s\n",
            "80:\tlearn: 5.4841205\ttotal: 611ms\tremaining: 1.65s\n",
            "81:\tlearn: 5.4729322\ttotal: 612ms\tremaining: 1.63s\n",
            "82:\tlearn: 5.4629794\ttotal: 613ms\tremaining: 1.6s\n",
            "83:\tlearn: 5.4500831\ttotal: 614ms\tremaining: 1.58s\n",
            "84:\tlearn: 5.4415918\ttotal: 615ms\tremaining: 1.56s\n",
            "85:\tlearn: 5.4345592\ttotal: 616ms\tremaining: 1.53s\n",
            "86:\tlearn: 5.4241073\ttotal: 617ms\tremaining: 1.51s\n",
            "87:\tlearn: 5.4213717\ttotal: 618ms\tremaining: 1.49s\n",
            "88:\tlearn: 5.4118557\ttotal: 704ms\tremaining: 1.67s\n",
            "89:\tlearn: 5.4001148\ttotal: 705ms\tremaining: 1.64s\n",
            "90:\tlearn: 5.3881338\ttotal: 706ms\tremaining: 1.62s\n",
            "91:\tlearn: 5.3794080\ttotal: 707ms\tremaining: 1.6s\n",
            "92:\tlearn: 5.3702977\ttotal: 708ms\tremaining: 1.57s\n",
            "93:\tlearn: 5.3611024\ttotal: 709ms\tremaining: 1.55s\n",
            "94:\tlearn: 5.3475717\ttotal: 710ms\tremaining: 1.53s\n",
            "95:\tlearn: 5.3312857\ttotal: 712ms\tremaining: 1.51s\n",
            "96:\tlearn: 5.3257561\ttotal: 714ms\tremaining: 1.49s\n",
            "97:\tlearn: 5.3172741\ttotal: 715ms\tremaining: 1.47s\n",
            "98:\tlearn: 5.3101224\ttotal: 800ms\tremaining: 1.62s\n",
            "99:\tlearn: 5.3010938\ttotal: 801ms\tremaining: 1.6s\n",
            "100:\tlearn: 5.2920747\ttotal: 802ms\tremaining: 1.58s\n",
            "101:\tlearn: 5.2842487\ttotal: 803ms\tremaining: 1.56s\n",
            "102:\tlearn: 5.2754207\ttotal: 804ms\tremaining: 1.54s\n",
            "103:\tlearn: 5.2705266\ttotal: 805ms\tremaining: 1.52s\n",
            "104:\tlearn: 5.2592721\ttotal: 806ms\tremaining: 1.5s\n",
            "105:\tlearn: 5.2526782\ttotal: 807ms\tremaining: 1.48s\n",
            "106:\tlearn: 5.2393556\ttotal: 809ms\tremaining: 1.46s\n",
            "107:\tlearn: 5.2303799\ttotal: 896ms\tremaining: 1.59s\n",
            "108:\tlearn: 5.2226999\ttotal: 897ms\tremaining: 1.57s\n",
            "109:\tlearn: 5.2134438\ttotal: 898ms\tremaining: 1.55s\n",
            "110:\tlearn: 5.2053422\ttotal: 899ms\tremaining: 1.53s\n",
            "111:\tlearn: 5.1941464\ttotal: 900ms\tremaining: 1.51s\n",
            "112:\tlearn: 5.1856898\ttotal: 901ms\tremaining: 1.49s\n",
            "113:\tlearn: 5.1768691\ttotal: 902ms\tremaining: 1.47s\n",
            "114:\tlearn: 5.1691299\ttotal: 904ms\tremaining: 1.45s\n",
            "115:\tlearn: 5.1651208\ttotal: 905ms\tremaining: 1.43s\n",
            "116:\tlearn: 5.1585459\ttotal: 906ms\tremaining: 1.42s\n",
            "117:\tlearn: 5.1516717\ttotal: 912ms\tremaining: 1.41s\n",
            "118:\tlearn: 5.1448578\ttotal: 992ms\tremaining: 1.51s\n",
            "119:\tlearn: 5.1322720\ttotal: 993ms\tremaining: 1.49s\n",
            "120:\tlearn: 5.1263706\ttotal: 994ms\tremaining: 1.47s\n",
            "121:\tlearn: 5.1230801\ttotal: 995ms\tremaining: 1.45s\n",
            "122:\tlearn: 5.1124880\ttotal: 996ms\tremaining: 1.43s\n",
            "123:\tlearn: 5.1071059\ttotal: 997ms\tremaining: 1.41s\n",
            "124:\tlearn: 5.1041144\ttotal: 999ms\tremaining: 1.4s\n",
            "125:\tlearn: 5.0948511\ttotal: 1000ms\tremaining: 1.38s\n",
            "126:\tlearn: 5.0890205\ttotal: 1s\tremaining: 1.36s\n",
            "127:\tlearn: 5.0758838\ttotal: 1s\tremaining: 1.35s\n",
            "128:\tlearn: 5.0680263\ttotal: 1.09s\tremaining: 1.44s\n",
            "129:\tlearn: 5.0633988\ttotal: 1.09s\tremaining: 1.42s\n",
            "130:\tlearn: 5.0535107\ttotal: 1.09s\tremaining: 1.41s\n",
            "131:\tlearn: 5.0433708\ttotal: 1.09s\tremaining: 1.39s\n",
            "132:\tlearn: 5.0303599\ttotal: 1.09s\tremaining: 1.37s\n",
            "133:\tlearn: 5.0248044\ttotal: 1.09s\tremaining: 1.35s\n",
            "134:\tlearn: 5.0176292\ttotal: 1.09s\tremaining: 1.34s\n",
            "135:\tlearn: 5.0083686\ttotal: 1.1s\tremaining: 1.32s\n",
            "136:\tlearn: 5.0033955\ttotal: 1.1s\tremaining: 1.3s\n",
            "137:\tlearn: 4.9928880\ttotal: 1.1s\tremaining: 1.29s\n",
            "138:\tlearn: 4.9872970\ttotal: 1.1s\tremaining: 1.27s\n",
            "139:\tlearn: 4.9789065\ttotal: 1.18s\tremaining: 1.35s\n",
            "140:\tlearn: 4.9692833\ttotal: 1.19s\tremaining: 1.34s\n",
            "141:\tlearn: 4.9641736\ttotal: 1.19s\tremaining: 1.32s\n",
            "142:\tlearn: 4.9594285\ttotal: 1.19s\tremaining: 1.3s\n",
            "143:\tlearn: 4.9508237\ttotal: 1.19s\tremaining: 1.29s\n",
            "144:\tlearn: 4.9460774\ttotal: 1.19s\tremaining: 1.27s\n",
            "145:\tlearn: 4.9413569\ttotal: 1.19s\tremaining: 1.25s\n",
            "146:\tlearn: 4.9368195\ttotal: 1.19s\tremaining: 1.24s\n",
            "147:\tlearn: 4.9315444\ttotal: 1.19s\tremaining: 1.23s\n",
            "148:\tlearn: 4.9224610\ttotal: 1.19s\tremaining: 1.21s\n",
            "149:\tlearn: 4.9169453\ttotal: 1.2s\tremaining: 1.2s\n",
            "150:\tlearn: 4.9126417\ttotal: 1.2s\tremaining: 1.18s\n",
            "151:\tlearn: 4.9027461\ttotal: 1.28s\tremaining: 1.25s\n",
            "152:\tlearn: 4.8964270\ttotal: 1.28s\tremaining: 1.23s\n",
            "153:\tlearn: 4.8910492\ttotal: 1.28s\tremaining: 1.22s\n",
            "154:\tlearn: 4.8844272\ttotal: 1.28s\tremaining: 1.2s\n",
            "155:\tlearn: 4.8801762\ttotal: 1.28s\tremaining: 1.19s\n",
            "156:\tlearn: 4.8759182\ttotal: 1.28s\tremaining: 1.17s\n",
            "157:\tlearn: 4.8708487\ttotal: 1.29s\tremaining: 1.16s\n",
            "158:\tlearn: 4.8659445\ttotal: 1.29s\tremaining: 1.14s\n",
            "159:\tlearn: 4.8636130\ttotal: 1.29s\tremaining: 1.13s\n",
            "160:\tlearn: 4.8545424\ttotal: 1.29s\tremaining: 1.11s\n",
            "161:\tlearn: 4.8484306\ttotal: 1.29s\tremaining: 1.1s\n",
            "162:\tlearn: 4.8404893\ttotal: 1.38s\tremaining: 1.16s\n",
            "163:\tlearn: 4.8310983\ttotal: 1.38s\tremaining: 1.14s\n",
            "164:\tlearn: 4.8249581\ttotal: 1.38s\tremaining: 1.13s\n",
            "165:\tlearn: 4.8153291\ttotal: 1.38s\tremaining: 1.11s\n",
            "166:\tlearn: 4.8091577\ttotal: 1.38s\tremaining: 1.1s\n",
            "167:\tlearn: 4.8023410\ttotal: 1.38s\tremaining: 1.09s\n",
            "168:\tlearn: 4.7952320\ttotal: 1.38s\tremaining: 1.07s\n",
            "169:\tlearn: 4.7890252\ttotal: 1.39s\tremaining: 1.06s\n",
            "170:\tlearn: 4.7843799\ttotal: 1.39s\tremaining: 1.05s\n",
            "171:\tlearn: 4.7799382\ttotal: 1.39s\tremaining: 1.03s\n",
            "172:\tlearn: 4.7759777\ttotal: 1.39s\tremaining: 1.02s\n",
            "173:\tlearn: 4.7680802\ttotal: 1.47s\tremaining: 1.07s\n",
            "174:\tlearn: 4.7665294\ttotal: 1.47s\tremaining: 1.05s\n",
            "175:\tlearn: 4.7590246\ttotal: 1.48s\tremaining: 1.04s\n",
            "176:\tlearn: 4.7519075\ttotal: 1.48s\tremaining: 1.02s\n",
            "177:\tlearn: 4.7444398\ttotal: 1.48s\tremaining: 1.01s\n",
            "178:\tlearn: 4.7352102\ttotal: 1.48s\tremaining: 999ms\n",
            "179:\tlearn: 4.7276751\ttotal: 1.48s\tremaining: 986ms\n",
            "180:\tlearn: 4.7156440\ttotal: 1.48s\tremaining: 973ms\n",
            "181:\tlearn: 4.7098217\ttotal: 1.48s\tremaining: 960ms\n",
            "182:\tlearn: 4.7069140\ttotal: 1.48s\tremaining: 948ms\n",
            "183:\tlearn: 4.7005288\ttotal: 1.48s\tremaining: 935ms\n",
            "184:\tlearn: 4.6957470\ttotal: 1.48s\tremaining: 923ms\n",
            "185:\tlearn: 4.6898286\ttotal: 1.57s\tremaining: 962ms\n",
            "186:\tlearn: 4.6826015\ttotal: 1.57s\tremaining: 949ms\n",
            "187:\tlearn: 4.6778411\ttotal: 1.57s\tremaining: 936ms\n",
            "188:\tlearn: 4.6724718\ttotal: 1.57s\tremaining: 924ms\n",
            "189:\tlearn: 4.6679649\ttotal: 1.57s\tremaining: 911ms\n",
            "190:\tlearn: 4.6614667\ttotal: 1.57s\tremaining: 899ms\n",
            "191:\tlearn: 4.6575623\ttotal: 1.57s\tremaining: 886ms\n",
            "192:\tlearn: 4.6508461\ttotal: 1.58s\tremaining: 874ms\n",
            "193:\tlearn: 4.6446025\ttotal: 1.58s\tremaining: 862ms\n",
            "194:\tlearn: 4.6416738\ttotal: 1.58s\tremaining: 851ms\n",
            "195:\tlearn: 4.6357057\ttotal: 1.67s\tremaining: 884ms\n",
            "196:\tlearn: 4.6297995\ttotal: 1.67s\tremaining: 873ms\n",
            "197:\tlearn: 4.6267706\ttotal: 1.67s\tremaining: 861ms\n",
            "198:\tlearn: 4.6224613\ttotal: 1.67s\tremaining: 849ms\n",
            "199:\tlearn: 4.6174068\ttotal: 1.67s\tremaining: 837ms\n",
            "200:\tlearn: 4.6141773\ttotal: 1.68s\tremaining: 825ms\n",
            "201:\tlearn: 4.6099674\ttotal: 1.68s\tremaining: 813ms\n",
            "202:\tlearn: 4.6030541\ttotal: 1.68s\tremaining: 804ms\n",
            "203:\tlearn: 4.5935167\ttotal: 1.68s\tremaining: 792ms\n",
            "204:\tlearn: 4.5920058\ttotal: 1.76s\tremaining: 817ms\n",
            "205:\tlearn: 4.5848266\ttotal: 1.76s\tremaining: 805ms\n",
            "206:\tlearn: 4.5785782\ttotal: 1.76s\tremaining: 793ms\n",
            "207:\tlearn: 4.5731459\ttotal: 1.76s\tremaining: 781ms\n",
            "208:\tlearn: 4.5703511\ttotal: 1.77s\tremaining: 769ms\n",
            "209:\tlearn: 4.5654209\ttotal: 1.77s\tremaining: 758ms\n",
            "210:\tlearn: 4.5587480\ttotal: 1.77s\tremaining: 746ms\n",
            "211:\tlearn: 4.5559670\ttotal: 1.77s\tremaining: 735ms\n",
            "212:\tlearn: 4.5550221\ttotal: 1.77s\tremaining: 723ms\n",
            "213:\tlearn: 4.5494483\ttotal: 1.77s\tremaining: 712ms\n",
            "214:\tlearn: 4.5452736\ttotal: 1.77s\tremaining: 701ms\n",
            "215:\tlearn: 4.5407271\ttotal: 1.77s\tremaining: 690ms\n",
            "216:\tlearn: 4.5322008\ttotal: 1.86s\tremaining: 712ms\n",
            "217:\tlearn: 4.5292444\ttotal: 1.86s\tremaining: 700ms\n",
            "218:\tlearn: 4.5253297\ttotal: 1.86s\tremaining: 689ms\n",
            "219:\tlearn: 4.5189671\ttotal: 1.86s\tremaining: 678ms\n",
            "220:\tlearn: 4.5135601\ttotal: 1.86s\tremaining: 666ms\n",
            "221:\tlearn: 4.5085913\ttotal: 1.87s\tremaining: 656ms\n",
            "222:\tlearn: 4.5043398\ttotal: 1.87s\tremaining: 645ms\n",
            "223:\tlearn: 4.4993239\ttotal: 1.87s\tremaining: 634ms\n",
            "224:\tlearn: 4.4955636\ttotal: 1.87s\tremaining: 623ms\n",
            "225:\tlearn: 4.4937537\ttotal: 1.87s\tremaining: 612ms\n",
            "226:\tlearn: 4.4903552\ttotal: 1.88s\tremaining: 603ms\n",
            "227:\tlearn: 4.4843458\ttotal: 1.95s\tremaining: 616ms\n",
            "228:\tlearn: 4.4812867\ttotal: 1.95s\tremaining: 605ms\n",
            "229:\tlearn: 4.4780407\ttotal: 1.95s\tremaining: 594ms\n",
            "230:\tlearn: 4.4743852\ttotal: 1.95s\tremaining: 583ms\n",
            "231:\tlearn: 4.4710991\ttotal: 1.95s\tremaining: 573ms\n",
            "232:\tlearn: 4.4681529\ttotal: 1.96s\tremaining: 562ms\n",
            "233:\tlearn: 4.4648611\ttotal: 1.96s\tremaining: 552ms\n",
            "234:\tlearn: 4.4604036\ttotal: 1.96s\tremaining: 541ms\n",
            "235:\tlearn: 4.4568166\ttotal: 1.96s\tremaining: 531ms\n",
            "236:\tlearn: 4.4498651\ttotal: 1.96s\tremaining: 521ms\n",
            "237:\tlearn: 4.4475415\ttotal: 1.96s\tremaining: 511ms\n",
            "238:\tlearn: 4.4416031\ttotal: 2.04s\tremaining: 522ms\n",
            "239:\tlearn: 4.4372121\ttotal: 2.05s\tremaining: 512ms\n",
            "240:\tlearn: 4.4343657\ttotal: 2.05s\tremaining: 501ms\n",
            "241:\tlearn: 4.4314475\ttotal: 2.05s\tremaining: 491ms\n",
            "242:\tlearn: 4.4245476\ttotal: 2.05s\tremaining: 481ms\n",
            "243:\tlearn: 4.4212766\ttotal: 2.05s\tremaining: 471ms\n",
            "244:\tlearn: 4.4175133\ttotal: 2.05s\tremaining: 461ms\n",
            "245:\tlearn: 4.4144229\ttotal: 2.05s\tremaining: 451ms\n",
            "246:\tlearn: 4.4099404\ttotal: 2.05s\tremaining: 441ms\n",
            "247:\tlearn: 4.4033455\ttotal: 2.05s\tremaining: 431ms\n",
            "248:\tlearn: 4.3973907\ttotal: 2.06s\tremaining: 422ms\n",
            "249:\tlearn: 4.3903801\ttotal: 2.06s\tremaining: 412ms\n",
            "250:\tlearn: 4.3832423\ttotal: 2.06s\tremaining: 403ms\n",
            "251:\tlearn: 4.3757961\ttotal: 2.06s\tremaining: 393ms\n",
            "252:\tlearn: 4.3729357\ttotal: 2.06s\tremaining: 384ms\n",
            "253:\tlearn: 4.3683536\ttotal: 2.07s\tremaining: 374ms\n",
            "254:\tlearn: 4.3602504\ttotal: 2.07s\tremaining: 365ms\n",
            "255:\tlearn: 4.3563103\ttotal: 2.07s\tremaining: 355ms\n",
            "256:\tlearn: 4.3532005\ttotal: 2.07s\tremaining: 346ms\n",
            "257:\tlearn: 4.3496047\ttotal: 2.07s\tremaining: 337ms\n",
            "258:\tlearn: 4.3458305\ttotal: 2.07s\tremaining: 328ms\n",
            "259:\tlearn: 4.3433770\ttotal: 2.07s\tremaining: 319ms\n",
            "260:\tlearn: 4.3371509\ttotal: 2.07s\tremaining: 310ms\n",
            "261:\tlearn: 4.3323607\ttotal: 2.15s\tremaining: 312ms\n",
            "262:\tlearn: 4.3282326\ttotal: 2.15s\tremaining: 303ms\n",
            "263:\tlearn: 4.3258145\ttotal: 2.16s\tremaining: 294ms\n",
            "264:\tlearn: 4.3227581\ttotal: 2.16s\tremaining: 285ms\n",
            "265:\tlearn: 4.3172697\ttotal: 2.16s\tremaining: 276ms\n",
            "266:\tlearn: 4.3106963\ttotal: 2.16s\tremaining: 267ms\n",
            "267:\tlearn: 4.3074258\ttotal: 2.16s\tremaining: 258ms\n",
            "268:\tlearn: 4.3017853\ttotal: 2.16s\tremaining: 249ms\n",
            "269:\tlearn: 4.2936670\ttotal: 2.16s\tremaining: 240ms\n",
            "270:\tlearn: 4.2890572\ttotal: 2.17s\tremaining: 232ms\n",
            "271:\tlearn: 4.2846578\ttotal: 2.25s\tremaining: 232ms\n",
            "272:\tlearn: 4.2805904\ttotal: 2.25s\tremaining: 223ms\n",
            "273:\tlearn: 4.2757011\ttotal: 2.25s\tremaining: 214ms\n",
            "274:\tlearn: 4.2701773\ttotal: 2.25s\tremaining: 205ms\n",
            "275:\tlearn: 4.2684272\ttotal: 2.25s\tremaining: 196ms\n",
            "276:\tlearn: 4.2673466\ttotal: 2.25s\tremaining: 187ms\n",
            "277:\tlearn: 4.2635054\ttotal: 2.25s\tremaining: 178ms\n",
            "278:\tlearn: 4.2623480\ttotal: 2.26s\tremaining: 170ms\n",
            "279:\tlearn: 4.2589321\ttotal: 2.26s\tremaining: 161ms\n",
            "280:\tlearn: 4.2551942\ttotal: 2.26s\tremaining: 153ms\n",
            "281:\tlearn: 4.2493369\ttotal: 2.26s\tremaining: 144ms\n",
            "282:\tlearn: 4.2457192\ttotal: 2.26s\tremaining: 136ms\n",
            "283:\tlearn: 4.2421907\ttotal: 2.34s\tremaining: 132ms\n",
            "284:\tlearn: 4.2397165\ttotal: 2.35s\tremaining: 123ms\n",
            "285:\tlearn: 4.2351913\ttotal: 2.35s\tremaining: 115ms\n",
            "286:\tlearn: 4.2319663\ttotal: 2.35s\tremaining: 106ms\n",
            "287:\tlearn: 4.2292403\ttotal: 2.35s\tremaining: 97.9ms\n",
            "288:\tlearn: 4.2254688\ttotal: 2.35s\tremaining: 89.5ms\n",
            "289:\tlearn: 4.2199880\ttotal: 2.35s\tremaining: 81.1ms\n",
            "290:\tlearn: 4.2165123\ttotal: 2.35s\tremaining: 72.8ms\n",
            "291:\tlearn: 4.2146556\ttotal: 2.35s\tremaining: 64.5ms\n",
            "292:\tlearn: 4.2093380\ttotal: 2.35s\tremaining: 56.3ms\n",
            "293:\tlearn: 4.2038433\ttotal: 2.36s\tremaining: 48.1ms\n",
            "294:\tlearn: 4.2003425\ttotal: 2.44s\tremaining: 41.4ms\n",
            "295:\tlearn: 4.1994040\ttotal: 2.44s\tremaining: 33ms\n",
            "296:\tlearn: 4.1964578\ttotal: 2.44s\tremaining: 24.7ms\n",
            "297:\tlearn: 4.1942358\ttotal: 2.44s\tremaining: 16.4ms\n",
            "298:\tlearn: 4.1915141\ttotal: 2.44s\tremaining: 8.18ms\n",
            "299:\tlearn: 4.1836078\ttotal: 2.45s\tremaining: 0us\n",
            "[CV]  depth=5, learning_rate=0.05, loss_function=MAE, n_estimators=300, random_state=123, score=0.411, total=   3.9s\n",
            "[Parallel(n_jobs=1)]: Done  17 out of  17 | elapsed:   47.3s remaining:    0.0s\n",
            "[CV] depth=5, learning_rate=0.05, loss_function=MAE, n_estimators=300, random_state=123 \n",
            "0:\tlearn: 8.0889595\ttotal: 1.22ms\tremaining: 365ms\n",
            "1:\tlearn: 7.9903942\ttotal: 2.51ms\tremaining: 374ms\n",
            "2:\tlearn: 7.8770376\ttotal: 3.58ms\tremaining: 355ms\n",
            "3:\tlearn: 7.7704897\ttotal: 4.65ms\tremaining: 344ms\n",
            "4:\tlearn: 7.6658222\ttotal: 5.68ms\tremaining: 335ms\n",
            "5:\tlearn: 7.5752564\ttotal: 6.67ms\tremaining: 327ms\n",
            "6:\tlearn: 7.4783266\ttotal: 7.62ms\tremaining: 319ms\n",
            "7:\tlearn: 7.4077241\ttotal: 8.56ms\tremaining: 312ms\n",
            "8:\tlearn: 7.3194401\ttotal: 9.57ms\tremaining: 309ms\n",
            "9:\tlearn: 7.2651704\ttotal: 10.5ms\tremaining: 304ms\n",
            "10:\tlearn: 7.2155294\ttotal: 74ms\tremaining: 1.94s\n",
            "11:\tlearn: 7.1545470\ttotal: 75.1ms\tremaining: 1.8s\n",
            "12:\tlearn: 7.0836508\ttotal: 76.1ms\tremaining: 1.68s\n",
            "13:\tlearn: 7.0279160\ttotal: 77.1ms\tremaining: 1.57s\n",
            "14:\tlearn: 6.9954076\ttotal: 78.1ms\tremaining: 1.48s\n",
            "15:\tlearn: 6.9685427\ttotal: 79ms\tremaining: 1.4s\n",
            "16:\tlearn: 6.9301079\ttotal: 80ms\tremaining: 1.33s\n",
            "17:\tlearn: 6.8827531\ttotal: 80.8ms\tremaining: 1.27s\n",
            "18:\tlearn: 6.8258627\ttotal: 81.7ms\tremaining: 1.21s\n",
            "19:\tlearn: 6.7856396\ttotal: 83ms\tremaining: 1.16s\n",
            "20:\tlearn: 6.7519097\ttotal: 84.7ms\tremaining: 1.12s\n",
            "21:\tlearn: 6.6884611\ttotal: 85.6ms\tremaining: 1.08s\n",
            "22:\tlearn: 6.6616908\ttotal: 171ms\tremaining: 2.06s\n",
            "23:\tlearn: 6.6403856\ttotal: 172ms\tremaining: 1.98s\n",
            "24:\tlearn: 6.6019506\ttotal: 173ms\tremaining: 1.9s\n",
            "25:\tlearn: 6.5620029\ttotal: 174ms\tremaining: 1.83s\n",
            "26:\tlearn: 6.5262372\ttotal: 175ms\tremaining: 1.77s\n",
            "27:\tlearn: 6.4997077\ttotal: 176ms\tremaining: 1.71s\n",
            "28:\tlearn: 6.4728712\ttotal: 177ms\tremaining: 1.65s\n",
            "29:\tlearn: 6.4495501\ttotal: 178ms\tremaining: 1.6s\n",
            "30:\tlearn: 6.4348080\ttotal: 179ms\tremaining: 1.55s\n",
            "31:\tlearn: 6.4025294\ttotal: 180ms\tremaining: 1.51s\n",
            "32:\tlearn: 6.3634604\ttotal: 181ms\tremaining: 1.46s\n",
            "33:\tlearn: 6.3338615\ttotal: 182ms\tremaining: 1.42s\n",
            "34:\tlearn: 6.3217672\ttotal: 267ms\tremaining: 2.02s\n",
            "35:\tlearn: 6.3016916\ttotal: 269ms\tremaining: 1.97s\n",
            "36:\tlearn: 6.2566493\ttotal: 270ms\tremaining: 1.92s\n",
            "37:\tlearn: 6.2283082\ttotal: 271ms\tremaining: 1.86s\n",
            "38:\tlearn: 6.2010798\ttotal: 272ms\tremaining: 1.82s\n",
            "39:\tlearn: 6.1761533\ttotal: 273ms\tremaining: 1.77s\n",
            "40:\tlearn: 6.1597341\ttotal: 274ms\tremaining: 1.73s\n",
            "41:\tlearn: 6.1400770\ttotal: 275ms\tremaining: 1.69s\n",
            "42:\tlearn: 6.1299774\ttotal: 275ms\tremaining: 1.65s\n",
            "43:\tlearn: 6.1103132\ttotal: 282ms\tremaining: 1.64s\n",
            "44:\tlearn: 6.0892372\ttotal: 363ms\tremaining: 2.06s\n",
            "45:\tlearn: 6.0594692\ttotal: 364ms\tremaining: 2.01s\n",
            "46:\tlearn: 6.0382113\ttotal: 365ms\tremaining: 1.96s\n",
            "47:\tlearn: 6.0249680\ttotal: 366ms\tremaining: 1.92s\n",
            "48:\tlearn: 6.0002748\ttotal: 367ms\tremaining: 1.88s\n",
            "49:\tlearn: 5.9821415\ttotal: 368ms\tremaining: 1.84s\n",
            "50:\tlearn: 5.9657371\ttotal: 369ms\tremaining: 1.8s\n",
            "51:\tlearn: 5.9442968\ttotal: 370ms\tremaining: 1.76s\n",
            "52:\tlearn: 5.9320370\ttotal: 371ms\tremaining: 1.73s\n",
            "53:\tlearn: 5.9175331\ttotal: 372ms\tremaining: 1.69s\n",
            "54:\tlearn: 5.9060399\ttotal: 458ms\tremaining: 2.04s\n",
            "55:\tlearn: 5.8915062\ttotal: 459ms\tremaining: 2s\n",
            "56:\tlearn: 5.8787395\ttotal: 460ms\tremaining: 1.96s\n",
            "57:\tlearn: 5.8649227\ttotal: 463ms\tremaining: 1.93s\n",
            "58:\tlearn: 5.8574453\ttotal: 464ms\tremaining: 1.9s\n",
            "59:\tlearn: 5.8383982\ttotal: 465ms\tremaining: 1.86s\n",
            "60:\tlearn: 5.8202025\ttotal: 466ms\tremaining: 1.83s\n",
            "61:\tlearn: 5.8011440\ttotal: 467ms\tremaining: 1.79s\n",
            "62:\tlearn: 5.7882448\ttotal: 468ms\tremaining: 1.76s\n",
            "63:\tlearn: 5.7739489\ttotal: 469ms\tremaining: 1.73s\n",
            "64:\tlearn: 5.7526112\ttotal: 470ms\tremaining: 1.7s\n",
            "65:\tlearn: 5.7426299\ttotal: 477ms\tremaining: 1.69s\n",
            "66:\tlearn: 5.7256102\ttotal: 554ms\tremaining: 1.93s\n",
            "67:\tlearn: 5.7150151\ttotal: 555ms\tremaining: 1.9s\n",
            "68:\tlearn: 5.7046670\ttotal: 557ms\tremaining: 1.86s\n",
            "69:\tlearn: 5.6855284\ttotal: 558ms\tremaining: 1.83s\n",
            "70:\tlearn: 5.6695261\ttotal: 559ms\tremaining: 1.8s\n",
            "71:\tlearn: 5.6624668\ttotal: 560ms\tremaining: 1.77s\n",
            "72:\tlearn: 5.6491814\ttotal: 560ms\tremaining: 1.74s\n",
            "73:\tlearn: 5.6360320\ttotal: 561ms\tremaining: 1.71s\n",
            "74:\tlearn: 5.6273663\ttotal: 562ms\tremaining: 1.69s\n",
            "75:\tlearn: 5.6160055\ttotal: 563ms\tremaining: 1.66s\n",
            "76:\tlearn: 5.6096255\ttotal: 650ms\tremaining: 1.88s\n",
            "77:\tlearn: 5.5978647\ttotal: 651ms\tremaining: 1.85s\n",
            "78:\tlearn: 5.5852551\ttotal: 652ms\tremaining: 1.82s\n",
            "79:\tlearn: 5.5770352\ttotal: 653ms\tremaining: 1.79s\n",
            "80:\tlearn: 5.5637279\ttotal: 655ms\tremaining: 1.77s\n",
            "81:\tlearn: 5.5498379\ttotal: 657ms\tremaining: 1.75s\n",
            "82:\tlearn: 5.5360833\ttotal: 658ms\tremaining: 1.72s\n",
            "83:\tlearn: 5.5269205\ttotal: 660ms\tremaining: 1.7s\n",
            "84:\tlearn: 5.5213455\ttotal: 662ms\tremaining: 1.67s\n",
            "85:\tlearn: 5.5095057\ttotal: 668ms\tremaining: 1.66s\n",
            "86:\tlearn: 5.4996027\ttotal: 746ms\tremaining: 1.83s\n",
            "87:\tlearn: 5.4894808\ttotal: 748ms\tremaining: 1.8s\n",
            "88:\tlearn: 5.4773690\ttotal: 749ms\tremaining: 1.77s\n",
            "89:\tlearn: 5.4677622\ttotal: 750ms\tremaining: 1.75s\n",
            "90:\tlearn: 5.4568073\ttotal: 750ms\tremaining: 1.72s\n",
            "91:\tlearn: 5.4464786\ttotal: 751ms\tremaining: 1.7s\n",
            "92:\tlearn: 5.4403639\ttotal: 753ms\tremaining: 1.67s\n",
            "93:\tlearn: 5.4277914\ttotal: 753ms\tremaining: 1.65s\n",
            "94:\tlearn: 5.4189404\ttotal: 754ms\tremaining: 1.63s\n",
            "95:\tlearn: 5.4079812\ttotal: 755ms\tremaining: 1.6s\n",
            "96:\tlearn: 5.3890515\ttotal: 756ms\tremaining: 1.58s\n",
            "97:\tlearn: 5.3817419\ttotal: 757ms\tremaining: 1.56s\n",
            "98:\tlearn: 5.3769023\ttotal: 842ms\tremaining: 1.71s\n",
            "99:\tlearn: 5.3736332\ttotal: 843ms\tremaining: 1.69s\n",
            "100:\tlearn: 5.3647632\ttotal: 844ms\tremaining: 1.66s\n",
            "101:\tlearn: 5.3570089\ttotal: 845ms\tremaining: 1.64s\n",
            "102:\tlearn: 5.3466044\ttotal: 846ms\tremaining: 1.62s\n",
            "103:\tlearn: 5.3362657\ttotal: 848ms\tremaining: 1.6s\n",
            "104:\tlearn: 5.3211065\ttotal: 849ms\tremaining: 1.58s\n",
            "105:\tlearn: 5.3077503\ttotal: 851ms\tremaining: 1.56s\n",
            "106:\tlearn: 5.2905634\ttotal: 852ms\tremaining: 1.54s\n",
            "107:\tlearn: 5.2827438\ttotal: 939ms\tremaining: 1.67s\n",
            "108:\tlearn: 5.2701828\ttotal: 940ms\tremaining: 1.65s\n",
            "109:\tlearn: 5.2605510\ttotal: 941ms\tremaining: 1.63s\n",
            "110:\tlearn: 5.2550233\ttotal: 942ms\tremaining: 1.6s\n",
            "111:\tlearn: 5.2512392\ttotal: 943ms\tremaining: 1.58s\n",
            "112:\tlearn: 5.2459491\ttotal: 944ms\tremaining: 1.56s\n",
            "113:\tlearn: 5.2315965\ttotal: 945ms\tremaining: 1.54s\n",
            "114:\tlearn: 5.2286915\ttotal: 946ms\tremaining: 1.52s\n",
            "115:\tlearn: 5.2211855\ttotal: 947ms\tremaining: 1.5s\n",
            "116:\tlearn: 5.2115866\ttotal: 948ms\tremaining: 1.48s\n",
            "117:\tlearn: 5.2038208\ttotal: 948ms\tremaining: 1.46s\n",
            "118:\tlearn: 5.1987472\ttotal: 955ms\tremaining: 1.45s\n",
            "119:\tlearn: 5.1882885\ttotal: 1.03s\tremaining: 1.55s\n",
            "120:\tlearn: 5.1833911\ttotal: 1.03s\tremaining: 1.53s\n",
            "121:\tlearn: 5.1778008\ttotal: 1.04s\tremaining: 1.51s\n",
            "122:\tlearn: 5.1726315\ttotal: 1.04s\tremaining: 1.49s\n",
            "123:\tlearn: 5.1596237\ttotal: 1.04s\tremaining: 1.47s\n",
            "124:\tlearn: 5.1503116\ttotal: 1.04s\tremaining: 1.46s\n",
            "125:\tlearn: 5.1376428\ttotal: 1.04s\tremaining: 1.44s\n",
            "126:\tlearn: 5.1281814\ttotal: 1.04s\tremaining: 1.42s\n",
            "127:\tlearn: 5.1163829\ttotal: 1.04s\tremaining: 1.4s\n",
            "128:\tlearn: 5.1079907\ttotal: 1.04s\tremaining: 1.39s\n",
            "129:\tlearn: 5.1018603\ttotal: 1.05s\tremaining: 1.37s\n",
            "130:\tlearn: 5.0943490\ttotal: 1.05s\tremaining: 1.35s\n",
            "131:\tlearn: 5.0877199\ttotal: 1.13s\tremaining: 1.44s\n",
            "132:\tlearn: 5.0851393\ttotal: 1.13s\tremaining: 1.42s\n",
            "133:\tlearn: 5.0822767\ttotal: 1.13s\tremaining: 1.4s\n",
            "134:\tlearn: 5.0786222\ttotal: 1.13s\tremaining: 1.39s\n",
            "135:\tlearn: 5.0724351\ttotal: 1.14s\tremaining: 1.37s\n",
            "136:\tlearn: 5.0648354\ttotal: 1.14s\tremaining: 1.35s\n",
            "137:\tlearn: 5.0513172\ttotal: 1.14s\tremaining: 1.33s\n",
            "138:\tlearn: 5.0458467\ttotal: 1.14s\tremaining: 1.32s\n",
            "139:\tlearn: 5.0377721\ttotal: 1.14s\tremaining: 1.3s\n",
            "140:\tlearn: 5.0338945\ttotal: 1.14s\tremaining: 1.28s\n",
            "141:\tlearn: 5.0249803\ttotal: 1.23s\tremaining: 1.36s\n",
            "142:\tlearn: 5.0218821\ttotal: 1.23s\tremaining: 1.35s\n",
            "143:\tlearn: 5.0179764\ttotal: 1.23s\tremaining: 1.33s\n",
            "144:\tlearn: 5.0130630\ttotal: 1.23s\tremaining: 1.31s\n",
            "145:\tlearn: 5.0030291\ttotal: 1.23s\tremaining: 1.3s\n",
            "146:\tlearn: 4.9997177\ttotal: 1.23s\tremaining: 1.28s\n",
            "147:\tlearn: 4.9957555\ttotal: 1.23s\tremaining: 1.27s\n",
            "148:\tlearn: 4.9830832\ttotal: 1.24s\tremaining: 1.25s\n",
            "149:\tlearn: 4.9806285\ttotal: 1.24s\tremaining: 1.24s\n",
            "150:\tlearn: 4.9744191\ttotal: 1.32s\tremaining: 1.31s\n",
            "151:\tlearn: 4.9658867\ttotal: 1.32s\tremaining: 1.29s\n",
            "152:\tlearn: 4.9621157\ttotal: 1.32s\tremaining: 1.27s\n",
            "153:\tlearn: 4.9568715\ttotal: 1.33s\tremaining: 1.26s\n",
            "154:\tlearn: 4.9525130\ttotal: 1.33s\tremaining: 1.24s\n",
            "155:\tlearn: 4.9457260\ttotal: 1.33s\tremaining: 1.23s\n",
            "156:\tlearn: 4.9384856\ttotal: 1.33s\tremaining: 1.21s\n",
            "157:\tlearn: 4.9343553\ttotal: 1.33s\tremaining: 1.2s\n",
            "158:\tlearn: 4.9294530\ttotal: 1.33s\tremaining: 1.18s\n",
            "159:\tlearn: 4.9264553\ttotal: 1.33s\tremaining: 1.17s\n",
            "160:\tlearn: 4.9237739\ttotal: 1.33s\tremaining: 1.15s\n",
            "161:\tlearn: 4.9205606\ttotal: 1.33s\tremaining: 1.14s\n",
            "162:\tlearn: 4.9180187\ttotal: 1.42s\tremaining: 1.19s\n",
            "163:\tlearn: 4.9116092\ttotal: 1.42s\tremaining: 1.18s\n",
            "164:\tlearn: 4.9072062\ttotal: 1.42s\tremaining: 1.16s\n",
            "165:\tlearn: 4.9022975\ttotal: 1.42s\tremaining: 1.15s\n",
            "166:\tlearn: 4.8988261\ttotal: 1.42s\tremaining: 1.13s\n",
            "167:\tlearn: 4.8922747\ttotal: 1.43s\tremaining: 1.12s\n",
            "168:\tlearn: 4.8874986\ttotal: 1.43s\tremaining: 1.1s\n",
            "169:\tlearn: 4.8783002\ttotal: 1.43s\tremaining: 1.09s\n",
            "170:\tlearn: 4.8705564\ttotal: 1.43s\tremaining: 1.08s\n",
            "171:\tlearn: 4.8584916\ttotal: 1.43s\tremaining: 1.06s\n",
            "172:\tlearn: 4.8517717\ttotal: 1.43s\tremaining: 1.05s\n",
            "173:\tlearn: 4.8482947\ttotal: 1.51s\tremaining: 1.1s\n",
            "174:\tlearn: 4.8423448\ttotal: 1.51s\tremaining: 1.08s\n",
            "175:\tlearn: 4.8361585\ttotal: 1.52s\tremaining: 1.07s\n",
            "176:\tlearn: 4.8313222\ttotal: 1.52s\tremaining: 1.05s\n",
            "177:\tlearn: 4.8258180\ttotal: 1.52s\tremaining: 1.04s\n",
            "178:\tlearn: 4.8175596\ttotal: 1.52s\tremaining: 1.03s\n",
            "179:\tlearn: 4.8113003\ttotal: 1.52s\tremaining: 1.01s\n",
            "180:\tlearn: 4.8039166\ttotal: 1.52s\tremaining: 1s\n",
            "181:\tlearn: 4.7967947\ttotal: 1.52s\tremaining: 987ms\n",
            "182:\tlearn: 4.7921518\ttotal: 1.52s\tremaining: 974ms\n",
            "183:\tlearn: 4.7888819\ttotal: 1.52s\tremaining: 961ms\n",
            "184:\tlearn: 4.7815087\ttotal: 1.61s\tremaining: 1s\n",
            "185:\tlearn: 4.7785296\ttotal: 1.61s\tremaining: 989ms\n",
            "186:\tlearn: 4.7724885\ttotal: 1.61s\tremaining: 976ms\n",
            "187:\tlearn: 4.7680338\ttotal: 1.62s\tremaining: 963ms\n",
            "188:\tlearn: 4.7617307\ttotal: 1.62s\tremaining: 950ms\n",
            "189:\tlearn: 4.7560372\ttotal: 1.62s\tremaining: 937ms\n",
            "190:\tlearn: 4.7456159\ttotal: 1.62s\tremaining: 924ms\n",
            "191:\tlearn: 4.7416008\ttotal: 1.62s\tremaining: 912ms\n",
            "192:\tlearn: 4.7340508\ttotal: 1.62s\tremaining: 899ms\n",
            "193:\tlearn: 4.7281652\ttotal: 1.62s\tremaining: 887ms\n",
            "194:\tlearn: 4.7223553\ttotal: 1.71s\tremaining: 920ms\n",
            "195:\tlearn: 4.7186216\ttotal: 1.71s\tremaining: 907ms\n",
            "196:\tlearn: 4.7147438\ttotal: 1.71s\tremaining: 894ms\n",
            "197:\tlearn: 4.7088649\ttotal: 1.71s\tremaining: 882ms\n",
            "198:\tlearn: 4.7031902\ttotal: 1.71s\tremaining: 869ms\n",
            "199:\tlearn: 4.6977444\ttotal: 1.71s\tremaining: 857ms\n",
            "200:\tlearn: 4.6890546\ttotal: 1.71s\tremaining: 845ms\n",
            "201:\tlearn: 4.6869570\ttotal: 1.72s\tremaining: 832ms\n",
            "202:\tlearn: 4.6822795\ttotal: 1.72s\tremaining: 820ms\n",
            "203:\tlearn: 4.6730671\ttotal: 1.72s\tremaining: 808ms\n",
            "204:\tlearn: 4.6676478\ttotal: 1.72s\tremaining: 799ms\n",
            "205:\tlearn: 4.6622442\ttotal: 1.8s\tremaining: 823ms\n",
            "206:\tlearn: 4.6555944\ttotal: 1.8s\tremaining: 811ms\n",
            "207:\tlearn: 4.6528944\ttotal: 1.81s\tremaining: 799ms\n",
            "208:\tlearn: 4.6516798\ttotal: 1.81s\tremaining: 787ms\n",
            "209:\tlearn: 4.6435450\ttotal: 1.81s\tremaining: 776ms\n",
            "210:\tlearn: 4.6390076\ttotal: 1.81s\tremaining: 764ms\n",
            "211:\tlearn: 4.6336567\ttotal: 1.81s\tremaining: 752ms\n",
            "212:\tlearn: 4.6282638\ttotal: 1.81s\tremaining: 741ms\n",
            "213:\tlearn: 4.6274767\ttotal: 1.81s\tremaining: 729ms\n",
            "214:\tlearn: 4.6228785\ttotal: 1.82s\tremaining: 720ms\n",
            "215:\tlearn: 4.6175495\ttotal: 1.82s\tremaining: 708ms\n",
            "216:\tlearn: 4.6148740\ttotal: 1.9s\tremaining: 727ms\n",
            "217:\tlearn: 4.6120093\ttotal: 1.9s\tremaining: 716ms\n",
            "218:\tlearn: 4.6080014\ttotal: 1.91s\tremaining: 705ms\n",
            "219:\tlearn: 4.6009880\ttotal: 1.91s\tremaining: 693ms\n",
            "220:\tlearn: 4.5966633\ttotal: 1.91s\tremaining: 682ms\n",
            "221:\tlearn: 4.5889832\ttotal: 1.91s\tremaining: 671ms\n",
            "222:\tlearn: 4.5845187\ttotal: 1.91s\tremaining: 659ms\n",
            "223:\tlearn: 4.5749638\ttotal: 1.91s\tremaining: 648ms\n",
            "224:\tlearn: 4.5699530\ttotal: 1.91s\tremaining: 637ms\n",
            "225:\tlearn: 4.5665685\ttotal: 1.91s\tremaining: 626ms\n",
            "226:\tlearn: 4.5632724\ttotal: 1.91s\tremaining: 615ms\n",
            "227:\tlearn: 4.5541069\ttotal: 2s\tremaining: 631ms\n",
            "228:\tlearn: 4.5505149\ttotal: 2s\tremaining: 620ms\n",
            "229:\tlearn: 4.5463189\ttotal: 2s\tremaining: 608ms\n",
            "230:\tlearn: 4.5404086\ttotal: 2s\tremaining: 597ms\n",
            "231:\tlearn: 4.5363255\ttotal: 2s\tremaining: 587ms\n",
            "232:\tlearn: 4.5311618\ttotal: 2s\tremaining: 576ms\n",
            "233:\tlearn: 4.5293041\ttotal: 2s\tremaining: 565ms\n",
            "234:\tlearn: 4.5228478\ttotal: 2s\tremaining: 554ms\n",
            "235:\tlearn: 4.5183591\ttotal: 2s\tremaining: 544ms\n",
            "236:\tlearn: 4.5142043\ttotal: 2.01s\tremaining: 533ms\n",
            "237:\tlearn: 4.5092204\ttotal: 2.01s\tremaining: 523ms\n",
            "238:\tlearn: 4.5032725\ttotal: 2.01s\tremaining: 513ms\n",
            "239:\tlearn: 4.5010237\ttotal: 2.09s\tremaining: 523ms\n",
            "240:\tlearn: 4.4987776\ttotal: 2.09s\tremaining: 513ms\n",
            "241:\tlearn: 4.4931936\ttotal: 2.1s\tremaining: 502ms\n",
            "242:\tlearn: 4.4882292\ttotal: 2.1s\tremaining: 492ms\n",
            "243:\tlearn: 4.4845661\ttotal: 2.1s\tremaining: 482ms\n",
            "244:\tlearn: 4.4800482\ttotal: 2.1s\tremaining: 471ms\n",
            "245:\tlearn: 4.4773648\ttotal: 2.1s\tremaining: 461ms\n",
            "246:\tlearn: 4.4702957\ttotal: 2.1s\tremaining: 451ms\n",
            "247:\tlearn: 4.4674400\ttotal: 2.11s\tremaining: 442ms\n",
            "248:\tlearn: 4.4644631\ttotal: 2.12s\tremaining: 433ms\n",
            "249:\tlearn: 4.4602966\ttotal: 2.19s\tremaining: 438ms\n",
            "250:\tlearn: 4.4571962\ttotal: 2.19s\tremaining: 428ms\n",
            "251:\tlearn: 4.4519544\ttotal: 2.19s\tremaining: 418ms\n",
            "252:\tlearn: 4.4461469\ttotal: 2.19s\tremaining: 407ms\n",
            "253:\tlearn: 4.4386988\ttotal: 2.19s\tremaining: 397ms\n",
            "254:\tlearn: 4.4358442\ttotal: 2.19s\tremaining: 387ms\n",
            "255:\tlearn: 4.4296952\ttotal: 2.19s\tremaining: 377ms\n",
            "256:\tlearn: 4.4255802\ttotal: 2.2s\tremaining: 368ms\n",
            "257:\tlearn: 4.4233959\ttotal: 2.2s\tremaining: 358ms\n",
            "258:\tlearn: 4.4148220\ttotal: 2.2s\tremaining: 348ms\n",
            "259:\tlearn: 4.4071792\ttotal: 2.2s\tremaining: 339ms\n",
            "260:\tlearn: 4.4013684\ttotal: 2.29s\tremaining: 342ms\n",
            "261:\tlearn: 4.3965074\ttotal: 2.29s\tremaining: 332ms\n",
            "262:\tlearn: 4.3917846\ttotal: 2.29s\tremaining: 322ms\n",
            "263:\tlearn: 4.3887766\ttotal: 2.29s\tremaining: 312ms\n",
            "264:\tlearn: 4.3842755\ttotal: 2.29s\tremaining: 302ms\n",
            "265:\tlearn: 4.3790762\ttotal: 2.29s\tremaining: 293ms\n",
            "266:\tlearn: 4.3726504\ttotal: 2.29s\tremaining: 283ms\n",
            "267:\tlearn: 4.3698911\ttotal: 2.29s\tremaining: 274ms\n",
            "268:\tlearn: 4.3652433\ttotal: 2.3s\tremaining: 265ms\n",
            "269:\tlearn: 4.3611576\ttotal: 2.3s\tremaining: 255ms\n",
            "270:\tlearn: 4.3578386\ttotal: 2.3s\tremaining: 246ms\n",
            "271:\tlearn: 4.3540633\ttotal: 2.38s\tremaining: 245ms\n",
            "272:\tlearn: 4.3492238\ttotal: 2.38s\tremaining: 236ms\n",
            "273:\tlearn: 4.3425463\ttotal: 2.38s\tremaining: 226ms\n",
            "274:\tlearn: 4.3397243\ttotal: 2.38s\tremaining: 217ms\n",
            "275:\tlearn: 4.3350524\ttotal: 2.39s\tremaining: 208ms\n",
            "276:\tlearn: 4.3285296\ttotal: 2.39s\tremaining: 198ms\n",
            "277:\tlearn: 4.3243887\ttotal: 2.39s\tremaining: 189ms\n",
            "278:\tlearn: 4.3205335\ttotal: 2.39s\tremaining: 180ms\n",
            "279:\tlearn: 4.3182741\ttotal: 2.39s\tremaining: 171ms\n",
            "280:\tlearn: 4.3147584\ttotal: 2.39s\tremaining: 162ms\n",
            "281:\tlearn: 4.3105184\ttotal: 2.39s\tremaining: 153ms\n",
            "282:\tlearn: 4.3093665\ttotal: 2.47s\tremaining: 149ms\n",
            "283:\tlearn: 4.3071663\ttotal: 2.47s\tremaining: 139ms\n",
            "284:\tlearn: 4.3039516\ttotal: 2.48s\tremaining: 130ms\n",
            "285:\tlearn: 4.3029221\ttotal: 2.48s\tremaining: 121ms\n",
            "286:\tlearn: 4.3009381\ttotal: 2.48s\tremaining: 112ms\n",
            "287:\tlearn: 4.2959768\ttotal: 2.48s\tremaining: 103ms\n",
            "288:\tlearn: 4.2928755\ttotal: 2.48s\tremaining: 94.4ms\n",
            "289:\tlearn: 4.2888284\ttotal: 2.48s\tremaining: 85.6ms\n",
            "290:\tlearn: 4.2874937\ttotal: 2.48s\tremaining: 76.8ms\n",
            "291:\tlearn: 4.2812429\ttotal: 2.48s\tremaining: 68.1ms\n",
            "292:\tlearn: 4.2775637\ttotal: 2.56s\tremaining: 61.3ms\n",
            "293:\tlearn: 4.2740086\ttotal: 2.56s\tremaining: 52.4ms\n",
            "294:\tlearn: 4.2698796\ttotal: 2.57s\tremaining: 43.5ms\n",
            "295:\tlearn: 4.2682617\ttotal: 2.57s\tremaining: 34.7ms\n",
            "296:\tlearn: 4.2614999\ttotal: 2.57s\tremaining: 25.9ms\n",
            "297:\tlearn: 4.2581928\ttotal: 2.57s\tremaining: 17.2ms\n",
            "298:\tlearn: 4.2542316\ttotal: 2.57s\tremaining: 8.6ms\n",
            "299:\tlearn: 4.2444213\ttotal: 2.57s\tremaining: 0us\n",
            "[CV]  depth=5, learning_rate=0.05, loss_function=MAE, n_estimators=300, random_state=123, score=0.223, total=   3.9s\n",
            "[Parallel(n_jobs=1)]: Done  18 out of  18 | elapsed:   51.2s remaining:    0.0s\n",
            "[Parallel(n_jobs=1)]: Done  18 out of  18 | elapsed:   51.2s finished\n",
            "0:\tlearn: 8.0184698\ttotal: 1.35ms\tremaining: 403ms\n",
            "1:\tlearn: 7.9476851\ttotal: 2.66ms\tremaining: 396ms\n",
            "2:\tlearn: 7.8478666\ttotal: 3.53ms\tremaining: 350ms\n",
            "3:\tlearn: 7.7965741\ttotal: 4.41ms\tremaining: 327ms\n",
            "4:\tlearn: 7.7478798\ttotal: 5.39ms\tremaining: 318ms\n",
            "5:\tlearn: 7.6969727\ttotal: 6.77ms\tremaining: 332ms\n",
            "6:\tlearn: 7.6354943\ttotal: 8.29ms\tremaining: 347ms\n",
            "7:\tlearn: 7.5495875\ttotal: 9.87ms\tremaining: 360ms\n",
            "8:\tlearn: 7.4548702\ttotal: 10.7ms\tremaining: 347ms\n",
            "9:\tlearn: 7.4078855\ttotal: 13.4ms\tremaining: 389ms\n",
            "10:\tlearn: 7.3520843\ttotal: 15.6ms\tremaining: 410ms\n",
            "11:\tlearn: 7.2919202\ttotal: 56.9ms\tremaining: 1.37s\n",
            "12:\tlearn: 7.2544932\ttotal: 58.7ms\tremaining: 1.29s\n",
            "13:\tlearn: 7.2068112\ttotal: 60.1ms\tremaining: 1.23s\n",
            "14:\tlearn: 7.1678287\ttotal: 62.2ms\tremaining: 1.18s\n",
            "15:\tlearn: 7.1371742\ttotal: 63.4ms\tremaining: 1.12s\n",
            "16:\tlearn: 7.1112169\ttotal: 64.9ms\tremaining: 1.08s\n",
            "17:\tlearn: 7.0666157\ttotal: 66.3ms\tremaining: 1.04s\n",
            "18:\tlearn: 7.0177671\ttotal: 67.2ms\tremaining: 993ms\n",
            "19:\tlearn: 6.9786851\ttotal: 68.8ms\tremaining: 963ms\n",
            "20:\tlearn: 6.9534826\ttotal: 70.1ms\tremaining: 932ms\n",
            "21:\tlearn: 6.9261377\ttotal: 153ms\tremaining: 1.93s\n",
            "22:\tlearn: 6.8870476\ttotal: 155ms\tremaining: 1.86s\n",
            "23:\tlearn: 6.8531058\ttotal: 156ms\tremaining: 1.79s\n",
            "24:\tlearn: 6.8077415\ttotal: 157ms\tremaining: 1.73s\n",
            "25:\tlearn: 6.7835252\ttotal: 159ms\tremaining: 1.67s\n",
            "26:\tlearn: 6.7557772\ttotal: 160ms\tremaining: 1.61s\n",
            "27:\tlearn: 6.7249087\ttotal: 160ms\tremaining: 1.56s\n",
            "28:\tlearn: 6.6901330\ttotal: 161ms\tremaining: 1.51s\n",
            "29:\tlearn: 6.6617553\ttotal: 163ms\tremaining: 1.46s\n",
            "30:\tlearn: 6.6437646\ttotal: 164ms\tremaining: 1.43s\n",
            "31:\tlearn: 6.6072141\ttotal: 171ms\tremaining: 1.43s\n",
            "32:\tlearn: 6.5833234\ttotal: 250ms\tremaining: 2.02s\n",
            "33:\tlearn: 6.5728422\ttotal: 251ms\tremaining: 1.96s\n",
            "34:\tlearn: 6.5622014\ttotal: 252ms\tremaining: 1.9s\n",
            "35:\tlearn: 6.5417097\ttotal: 252ms\tremaining: 1.85s\n",
            "36:\tlearn: 6.5210274\ttotal: 253ms\tremaining: 1.8s\n",
            "37:\tlearn: 6.5059392\ttotal: 254ms\tremaining: 1.75s\n",
            "38:\tlearn: 6.4737532\ttotal: 255ms\tremaining: 1.71s\n",
            "39:\tlearn: 6.4397795\ttotal: 256ms\tremaining: 1.66s\n",
            "40:\tlearn: 6.4154131\ttotal: 256ms\tremaining: 1.62s\n",
            "41:\tlearn: 6.3901760\ttotal: 257ms\tremaining: 1.58s\n",
            "42:\tlearn: 6.3688120\ttotal: 258ms\tremaining: 1.54s\n",
            "43:\tlearn: 6.3499694\ttotal: 259ms\tremaining: 1.51s\n",
            "44:\tlearn: 6.3405695\ttotal: 260ms\tremaining: 1.47s\n",
            "45:\tlearn: 6.3127722\ttotal: 345ms\tremaining: 1.91s\n",
            "46:\tlearn: 6.3011850\ttotal: 346ms\tremaining: 1.86s\n",
            "47:\tlearn: 6.2935783\ttotal: 347ms\tremaining: 1.82s\n",
            "48:\tlearn: 6.2771823\ttotal: 348ms\tremaining: 1.78s\n",
            "49:\tlearn: 6.2519597\ttotal: 349ms\tremaining: 1.74s\n",
            "50:\tlearn: 6.2390563\ttotal: 350ms\tremaining: 1.71s\n",
            "51:\tlearn: 6.2226361\ttotal: 351ms\tremaining: 1.67s\n",
            "52:\tlearn: 6.2091904\ttotal: 351ms\tremaining: 1.64s\n",
            "53:\tlearn: 6.1935321\ttotal: 352ms\tremaining: 1.6s\n",
            "54:\tlearn: 6.1730755\ttotal: 355ms\tremaining: 1.58s\n",
            "55:\tlearn: 6.1582940\ttotal: 361ms\tremaining: 1.57s\n",
            "56:\tlearn: 6.1397009\ttotal: 440ms\tremaining: 1.88s\n",
            "57:\tlearn: 6.1320622\ttotal: 442ms\tremaining: 1.84s\n",
            "58:\tlearn: 6.1257204\ttotal: 444ms\tremaining: 1.81s\n",
            "59:\tlearn: 6.1127246\ttotal: 445ms\tremaining: 1.78s\n",
            "60:\tlearn: 6.0965697\ttotal: 446ms\tremaining: 1.75s\n",
            "61:\tlearn: 6.0901516\ttotal: 447ms\tremaining: 1.72s\n",
            "62:\tlearn: 6.0741415\ttotal: 448ms\tremaining: 1.68s\n",
            "63:\tlearn: 6.0663004\ttotal: 449ms\tremaining: 1.65s\n",
            "64:\tlearn: 6.0477516\ttotal: 450ms\tremaining: 1.63s\n",
            "65:\tlearn: 6.0373697\ttotal: 451ms\tremaining: 1.6s\n",
            "66:\tlearn: 6.0268273\ttotal: 452ms\tremaining: 1.57s\n",
            "67:\tlearn: 6.0173155\ttotal: 453ms\tremaining: 1.54s\n",
            "68:\tlearn: 6.0093590\ttotal: 454ms\tremaining: 1.52s\n",
            "69:\tlearn: 5.9983336\ttotal: 455ms\tremaining: 1.49s\n",
            "70:\tlearn: 5.9869265\ttotal: 537ms\tremaining: 1.73s\n",
            "71:\tlearn: 5.9808770\ttotal: 538ms\tremaining: 1.7s\n",
            "72:\tlearn: 5.9731367\ttotal: 539ms\tremaining: 1.67s\n",
            "73:\tlearn: 5.9675300\ttotal: 539ms\tremaining: 1.65s\n",
            "74:\tlearn: 5.9589529\ttotal: 540ms\tremaining: 1.62s\n",
            "75:\tlearn: 5.9555225\ttotal: 541ms\tremaining: 1.59s\n",
            "76:\tlearn: 5.9484141\ttotal: 542ms\tremaining: 1.57s\n",
            "77:\tlearn: 5.9372078\ttotal: 543ms\tremaining: 1.54s\n",
            "78:\tlearn: 5.9308963\ttotal: 544ms\tremaining: 1.52s\n",
            "79:\tlearn: 5.9262387\ttotal: 545ms\tremaining: 1.5s\n",
            "80:\tlearn: 5.9159210\ttotal: 546ms\tremaining: 1.48s\n",
            "81:\tlearn: 5.9055013\ttotal: 552ms\tremaining: 1.47s\n",
            "82:\tlearn: 5.8945322\ttotal: 553ms\tremaining: 1.45s\n",
            "83:\tlearn: 5.8825007\ttotal: 633ms\tremaining: 1.63s\n",
            "84:\tlearn: 5.8699178\ttotal: 634ms\tremaining: 1.6s\n",
            "85:\tlearn: 5.8610624\ttotal: 635ms\tremaining: 1.58s\n",
            "86:\tlearn: 5.8490085\ttotal: 636ms\tremaining: 1.56s\n",
            "87:\tlearn: 5.8441866\ttotal: 637ms\tremaining: 1.53s\n",
            "88:\tlearn: 5.8361979\ttotal: 638ms\tremaining: 1.51s\n",
            "89:\tlearn: 5.8314082\ttotal: 639ms\tremaining: 1.49s\n",
            "90:\tlearn: 5.8190488\ttotal: 640ms\tremaining: 1.47s\n",
            "91:\tlearn: 5.8125358\ttotal: 641ms\tremaining: 1.45s\n",
            "92:\tlearn: 5.8025811\ttotal: 642ms\tremaining: 1.43s\n",
            "93:\tlearn: 5.7972016\ttotal: 643ms\tremaining: 1.41s\n",
            "94:\tlearn: 5.7883343\ttotal: 728ms\tremaining: 1.57s\n",
            "95:\tlearn: 5.7836128\ttotal: 729ms\tremaining: 1.55s\n",
            "96:\tlearn: 5.7763790\ttotal: 730ms\tremaining: 1.53s\n",
            "97:\tlearn: 5.7706703\ttotal: 731ms\tremaining: 1.5s\n",
            "98:\tlearn: 5.7611582\ttotal: 731ms\tremaining: 1.48s\n",
            "99:\tlearn: 5.7573037\ttotal: 732ms\tremaining: 1.46s\n",
            "100:\tlearn: 5.7468853\ttotal: 733ms\tremaining: 1.44s\n",
            "101:\tlearn: 5.7409937\ttotal: 734ms\tremaining: 1.42s\n",
            "102:\tlearn: 5.7366138\ttotal: 735ms\tremaining: 1.41s\n",
            "103:\tlearn: 5.7289048\ttotal: 736ms\tremaining: 1.39s\n",
            "104:\tlearn: 5.7242511\ttotal: 737ms\tremaining: 1.37s\n",
            "105:\tlearn: 5.7200815\ttotal: 739ms\tremaining: 1.35s\n",
            "106:\tlearn: 5.7137527\ttotal: 739ms\tremaining: 1.33s\n",
            "107:\tlearn: 5.7060097\ttotal: 824ms\tremaining: 1.46s\n",
            "108:\tlearn: 5.7018495\ttotal: 825ms\tremaining: 1.45s\n",
            "109:\tlearn: 5.6970604\ttotal: 826ms\tremaining: 1.43s\n",
            "110:\tlearn: 5.6938299\ttotal: 827ms\tremaining: 1.41s\n",
            "111:\tlearn: 5.6900580\ttotal: 828ms\tremaining: 1.39s\n",
            "112:\tlearn: 5.6824603\ttotal: 829ms\tremaining: 1.37s\n",
            "113:\tlearn: 5.6804657\ttotal: 830ms\tremaining: 1.35s\n",
            "114:\tlearn: 5.6758631\ttotal: 831ms\tremaining: 1.34s\n",
            "115:\tlearn: 5.6737121\ttotal: 833ms\tremaining: 1.32s\n",
            "116:\tlearn: 5.6660348\ttotal: 834ms\tremaining: 1.3s\n",
            "117:\tlearn: 5.6607426\ttotal: 835ms\tremaining: 1.29s\n",
            "118:\tlearn: 5.6502489\ttotal: 920ms\tremaining: 1.4s\n",
            "119:\tlearn: 5.6446097\ttotal: 921ms\tremaining: 1.38s\n",
            "120:\tlearn: 5.6398787\ttotal: 922ms\tremaining: 1.36s\n",
            "121:\tlearn: 5.6380102\ttotal: 923ms\tremaining: 1.35s\n",
            "122:\tlearn: 5.6349014\ttotal: 924ms\tremaining: 1.33s\n",
            "123:\tlearn: 5.6251126\ttotal: 924ms\tremaining: 1.31s\n",
            "124:\tlearn: 5.6203330\ttotal: 925ms\tremaining: 1.29s\n",
            "125:\tlearn: 5.6155450\ttotal: 926ms\tremaining: 1.28s\n",
            "126:\tlearn: 5.6092312\ttotal: 927ms\tremaining: 1.26s\n",
            "127:\tlearn: 5.6047297\ttotal: 928ms\tremaining: 1.25s\n",
            "128:\tlearn: 5.5977694\ttotal: 929ms\tremaining: 1.23s\n",
            "129:\tlearn: 5.5908427\ttotal: 930ms\tremaining: 1.22s\n",
            "130:\tlearn: 5.5814723\ttotal: 936ms\tremaining: 1.21s\n",
            "131:\tlearn: 5.5760146\ttotal: 1.01s\tremaining: 1.29s\n",
            "132:\tlearn: 5.5694179\ttotal: 1.02s\tremaining: 1.27s\n",
            "133:\tlearn: 5.5649332\ttotal: 1.02s\tremaining: 1.26s\n",
            "134:\tlearn: 5.5596524\ttotal: 1.02s\tremaining: 1.24s\n",
            "135:\tlearn: 5.5543224\ttotal: 1.02s\tremaining: 1.23s\n",
            "136:\tlearn: 5.5475787\ttotal: 1.02s\tremaining: 1.22s\n",
            "137:\tlearn: 5.5421846\ttotal: 1.02s\tremaining: 1.2s\n",
            "138:\tlearn: 5.5345055\ttotal: 1.02s\tremaining: 1.19s\n",
            "139:\tlearn: 5.5258882\ttotal: 1.02s\tremaining: 1.17s\n",
            "140:\tlearn: 5.5190853\ttotal: 1.02s\tremaining: 1.16s\n",
            "141:\tlearn: 5.5149163\ttotal: 1.03s\tremaining: 1.14s\n",
            "142:\tlearn: 5.5085954\ttotal: 1.03s\tremaining: 1.13s\n",
            "143:\tlearn: 5.5049103\ttotal: 1.11s\tremaining: 1.2s\n",
            "144:\tlearn: 5.4988987\ttotal: 1.11s\tremaining: 1.19s\n",
            "145:\tlearn: 5.4945737\ttotal: 1.11s\tremaining: 1.17s\n",
            "146:\tlearn: 5.4897358\ttotal: 1.11s\tremaining: 1.16s\n",
            "147:\tlearn: 5.4832374\ttotal: 1.11s\tremaining: 1.15s\n",
            "148:\tlearn: 5.4768531\ttotal: 1.12s\tremaining: 1.13s\n",
            "149:\tlearn: 5.4723010\ttotal: 1.12s\tremaining: 1.12s\n",
            "150:\tlearn: 5.4688554\ttotal: 1.12s\tremaining: 1.1s\n",
            "151:\tlearn: 5.4618930\ttotal: 1.12s\tremaining: 1.09s\n",
            "152:\tlearn: 5.4581253\ttotal: 1.12s\tremaining: 1.08s\n",
            "153:\tlearn: 5.4527666\ttotal: 1.12s\tremaining: 1.06s\n",
            "154:\tlearn: 5.4494695\ttotal: 1.12s\tremaining: 1.05s\n",
            "155:\tlearn: 5.4437315\ttotal: 1.12s\tremaining: 1.04s\n",
            "156:\tlearn: 5.4397414\ttotal: 1.21s\tremaining: 1.1s\n",
            "157:\tlearn: 5.4335718\ttotal: 1.21s\tremaining: 1.08s\n",
            "158:\tlearn: 5.4296429\ttotal: 1.21s\tremaining: 1.07s\n",
            "159:\tlearn: 5.4259069\ttotal: 1.21s\tremaining: 1.06s\n",
            "160:\tlearn: 5.4225093\ttotal: 1.21s\tremaining: 1.05s\n",
            "161:\tlearn: 5.4174943\ttotal: 1.21s\tremaining: 1.03s\n",
            "162:\tlearn: 5.4121454\ttotal: 1.21s\tremaining: 1.02s\n",
            "163:\tlearn: 5.4058174\ttotal: 1.22s\tremaining: 1.01s\n",
            "164:\tlearn: 5.4025523\ttotal: 1.22s\tremaining: 996ms\n",
            "165:\tlearn: 5.3988325\ttotal: 1.22s\tremaining: 983ms\n",
            "166:\tlearn: 5.3933003\ttotal: 1.22s\tremaining: 972ms\n",
            "167:\tlearn: 5.3863700\ttotal: 1.22s\tremaining: 959ms\n",
            "168:\tlearn: 5.3813366\ttotal: 1.3s\tremaining: 1.01s\n",
            "169:\tlearn: 5.3765166\ttotal: 1.3s\tremaining: 998ms\n",
            "170:\tlearn: 5.3719451\ttotal: 1.3s\tremaining: 985ms\n",
            "171:\tlearn: 5.3694332\ttotal: 1.31s\tremaining: 972ms\n",
            "172:\tlearn: 5.3642746\ttotal: 1.31s\tremaining: 960ms\n",
            "173:\tlearn: 5.3583362\ttotal: 1.31s\tremaining: 947ms\n",
            "174:\tlearn: 5.3540061\ttotal: 1.31s\tremaining: 935ms\n",
            "175:\tlearn: 5.3505729\ttotal: 1.31s\tremaining: 924ms\n",
            "176:\tlearn: 5.3443227\ttotal: 1.31s\tremaining: 912ms\n",
            "177:\tlearn: 5.3390507\ttotal: 1.31s\tremaining: 900ms\n",
            "178:\tlearn: 5.3355771\ttotal: 1.31s\tremaining: 888ms\n",
            "179:\tlearn: 5.3311325\ttotal: 1.4s\tremaining: 933ms\n",
            "180:\tlearn: 5.3284989\ttotal: 1.4s\tremaining: 921ms\n",
            "181:\tlearn: 5.3223199\ttotal: 1.4s\tremaining: 909ms\n",
            "182:\tlearn: 5.3172012\ttotal: 1.4s\tremaining: 897ms\n",
            "183:\tlearn: 5.3142129\ttotal: 1.4s\tremaining: 885ms\n",
            "184:\tlearn: 5.3083828\ttotal: 1.4s\tremaining: 873ms\n",
            "185:\tlearn: 5.3017307\ttotal: 1.41s\tremaining: 861ms\n",
            "186:\tlearn: 5.2965950\ttotal: 1.41s\tremaining: 850ms\n",
            "187:\tlearn: 5.2898339\ttotal: 1.41s\tremaining: 838ms\n",
            "188:\tlearn: 5.2864653\ttotal: 1.41s\tremaining: 827ms\n",
            "189:\tlearn: 5.2830601\ttotal: 1.41s\tremaining: 816ms\n",
            "190:\tlearn: 5.2804562\ttotal: 1.41s\tremaining: 805ms\n",
            "191:\tlearn: 5.2755214\ttotal: 1.41s\tremaining: 794ms\n",
            "192:\tlearn: 5.2714638\ttotal: 1.5s\tremaining: 829ms\n",
            "193:\tlearn: 5.2656064\ttotal: 1.5s\tremaining: 818ms\n",
            "194:\tlearn: 5.2614624\ttotal: 1.5s\tremaining: 806ms\n",
            "195:\tlearn: 5.2583625\ttotal: 1.5s\tremaining: 795ms\n",
            "196:\tlearn: 5.2541247\ttotal: 1.5s\tremaining: 784ms\n",
            "197:\tlearn: 5.2497303\ttotal: 1.5s\tremaining: 773ms\n",
            "198:\tlearn: 5.2471947\ttotal: 1.5s\tremaining: 762ms\n",
            "199:\tlearn: 5.2427048\ttotal: 1.5s\tremaining: 751ms\n",
            "200:\tlearn: 5.2362736\ttotal: 1.5s\tremaining: 740ms\n",
            "201:\tlearn: 5.2322674\ttotal: 1.5s\tremaining: 729ms\n",
            "202:\tlearn: 5.2285770\ttotal: 1.5s\tremaining: 719ms\n",
            "203:\tlearn: 5.2265415\ttotal: 1.5s\tremaining: 708ms\n",
            "204:\tlearn: 5.2228884\ttotal: 1.51s\tremaining: 698ms\n",
            "205:\tlearn: 5.2188593\ttotal: 1.59s\tremaining: 726ms\n",
            "206:\tlearn: 5.2129623\ttotal: 1.59s\tremaining: 715ms\n",
            "207:\tlearn: 5.2088034\ttotal: 1.59s\tremaining: 705ms\n",
            "208:\tlearn: 5.2051788\ttotal: 1.59s\tremaining: 694ms\n",
            "209:\tlearn: 5.2021246\ttotal: 1.59s\tremaining: 683ms\n",
            "210:\tlearn: 5.1973944\ttotal: 1.59s\tremaining: 673ms\n",
            "211:\tlearn: 5.1912833\ttotal: 1.6s\tremaining: 663ms\n",
            "212:\tlearn: 5.1869251\ttotal: 1.6s\tremaining: 654ms\n",
            "213:\tlearn: 5.1840555\ttotal: 1.6s\tremaining: 644ms\n",
            "214:\tlearn: 5.1796669\ttotal: 1.6s\tremaining: 634ms\n",
            "215:\tlearn: 5.1753518\ttotal: 1.69s\tremaining: 656ms\n",
            "216:\tlearn: 5.1739167\ttotal: 1.69s\tremaining: 646ms\n",
            "217:\tlearn: 5.1724675\ttotal: 1.69s\tremaining: 636ms\n",
            "218:\tlearn: 5.1676438\ttotal: 1.69s\tremaining: 625ms\n",
            "219:\tlearn: 5.1624800\ttotal: 1.69s\tremaining: 615ms\n",
            "220:\tlearn: 5.1578830\ttotal: 1.69s\tremaining: 605ms\n",
            "221:\tlearn: 5.1553140\ttotal: 1.69s\tremaining: 595ms\n",
            "222:\tlearn: 5.1521472\ttotal: 1.69s\tremaining: 585ms\n",
            "223:\tlearn: 5.1487581\ttotal: 1.69s\tremaining: 575ms\n",
            "224:\tlearn: 5.1459306\ttotal: 1.7s\tremaining: 565ms\n",
            "225:\tlearn: 5.1419520\ttotal: 1.7s\tremaining: 556ms\n",
            "226:\tlearn: 5.1383496\ttotal: 1.7s\tremaining: 546ms\n",
            "227:\tlearn: 5.1338458\ttotal: 1.7s\tremaining: 536ms\n",
            "228:\tlearn: 5.1310080\ttotal: 1.78s\tremaining: 553ms\n",
            "229:\tlearn: 5.1279766\ttotal: 1.78s\tremaining: 543ms\n",
            "230:\tlearn: 5.1269342\ttotal: 1.79s\tremaining: 534ms\n",
            "231:\tlearn: 5.1250968\ttotal: 1.79s\tremaining: 524ms\n",
            "232:\tlearn: 5.1205062\ttotal: 1.79s\tremaining: 515ms\n",
            "233:\tlearn: 5.1180062\ttotal: 1.79s\tremaining: 505ms\n",
            "234:\tlearn: 5.1149489\ttotal: 1.79s\tremaining: 496ms\n",
            "235:\tlearn: 5.1114185\ttotal: 1.79s\tremaining: 487ms\n",
            "236:\tlearn: 5.1090407\ttotal: 1.8s\tremaining: 478ms\n",
            "237:\tlearn: 5.1032880\ttotal: 1.8s\tremaining: 468ms\n",
            "238:\tlearn: 5.0987442\ttotal: 1.8s\tremaining: 459ms\n",
            "239:\tlearn: 5.0944992\ttotal: 1.88s\tremaining: 470ms\n",
            "240:\tlearn: 5.0923629\ttotal: 1.88s\tremaining: 461ms\n",
            "241:\tlearn: 5.0902408\ttotal: 1.88s\tremaining: 451ms\n",
            "242:\tlearn: 5.0872879\ttotal: 1.88s\tremaining: 442ms\n",
            "243:\tlearn: 5.0845792\ttotal: 1.88s\tremaining: 432ms\n",
            "244:\tlearn: 5.0836690\ttotal: 1.88s\tremaining: 423ms\n",
            "245:\tlearn: 5.0795098\ttotal: 1.89s\tremaining: 414ms\n",
            "246:\tlearn: 5.0758376\ttotal: 1.89s\tremaining: 405ms\n",
            "247:\tlearn: 5.0741279\ttotal: 1.89s\tremaining: 396ms\n",
            "248:\tlearn: 5.0703894\ttotal: 1.89s\tremaining: 387ms\n",
            "249:\tlearn: 5.0678011\ttotal: 1.89s\tremaining: 378ms\n",
            "250:\tlearn: 5.0646601\ttotal: 1.89s\tremaining: 369ms\n",
            "251:\tlearn: 5.0607973\ttotal: 1.89s\tremaining: 360ms\n",
            "252:\tlearn: 5.0592526\ttotal: 1.98s\tremaining: 367ms\n",
            "253:\tlearn: 5.0545616\ttotal: 1.98s\tremaining: 358ms\n",
            "254:\tlearn: 5.0500932\ttotal: 1.98s\tremaining: 349ms\n",
            "255:\tlearn: 5.0472318\ttotal: 1.98s\tremaining: 340ms\n",
            "256:\tlearn: 5.0447709\ttotal: 1.98s\tremaining: 331ms\n",
            "257:\tlearn: 5.0397452\ttotal: 1.98s\tremaining: 322ms\n",
            "258:\tlearn: 5.0355745\ttotal: 1.98s\tremaining: 314ms\n",
            "259:\tlearn: 5.0327965\ttotal: 1.98s\tremaining: 305ms\n",
            "260:\tlearn: 5.0307442\ttotal: 1.98s\tremaining: 296ms\n",
            "261:\tlearn: 5.0267806\ttotal: 1.98s\tremaining: 288ms\n",
            "262:\tlearn: 5.0234886\ttotal: 1.99s\tremaining: 279ms\n",
            "263:\tlearn: 5.0207360\ttotal: 1.99s\tremaining: 271ms\n",
            "264:\tlearn: 5.0165400\ttotal: 1.99s\tremaining: 263ms\n",
            "265:\tlearn: 5.0137032\ttotal: 2.07s\tremaining: 265ms\n",
            "266:\tlearn: 5.0124910\ttotal: 2.07s\tremaining: 256ms\n",
            "267:\tlearn: 5.0099091\ttotal: 2.08s\tremaining: 248ms\n",
            "268:\tlearn: 5.0069183\ttotal: 2.08s\tremaining: 239ms\n",
            "269:\tlearn: 5.0048491\ttotal: 2.08s\tremaining: 231ms\n",
            "270:\tlearn: 5.0026881\ttotal: 2.08s\tremaining: 222ms\n",
            "271:\tlearn: 4.9996583\ttotal: 2.08s\tremaining: 214ms\n",
            "272:\tlearn: 4.9968791\ttotal: 2.08s\tremaining: 206ms\n",
            "273:\tlearn: 4.9933919\ttotal: 2.08s\tremaining: 197ms\n",
            "274:\tlearn: 4.9907184\ttotal: 2.08s\tremaining: 189ms\n",
            "275:\tlearn: 4.9875344\ttotal: 2.08s\tremaining: 181ms\n",
            "276:\tlearn: 4.9838943\ttotal: 2.08s\tremaining: 173ms\n",
            "277:\tlearn: 4.9783194\ttotal: 2.17s\tremaining: 172ms\n",
            "278:\tlearn: 4.9769173\ttotal: 2.17s\tremaining: 163ms\n",
            "279:\tlearn: 4.9749046\ttotal: 2.17s\tremaining: 155ms\n",
            "280:\tlearn: 4.9729232\ttotal: 2.17s\tremaining: 147ms\n",
            "281:\tlearn: 4.9703691\ttotal: 2.17s\tremaining: 139ms\n",
            "282:\tlearn: 4.9650153\ttotal: 2.17s\tremaining: 130ms\n",
            "283:\tlearn: 4.9635334\ttotal: 2.17s\tremaining: 122ms\n",
            "284:\tlearn: 4.9600532\ttotal: 2.17s\tremaining: 114ms\n",
            "285:\tlearn: 4.9573605\ttotal: 2.17s\tremaining: 106ms\n",
            "286:\tlearn: 4.9547444\ttotal: 2.17s\tremaining: 98.5ms\n",
            "287:\tlearn: 4.9521285\ttotal: 2.18s\tremaining: 90.7ms\n",
            "288:\tlearn: 4.9501592\ttotal: 2.18s\tremaining: 83.1ms\n",
            "289:\tlearn: 4.9476448\ttotal: 2.26s\tremaining: 78ms\n",
            "290:\tlearn: 4.9456701\ttotal: 2.26s\tremaining: 70ms\n",
            "291:\tlearn: 4.9425018\ttotal: 2.27s\tremaining: 62.1ms\n",
            "292:\tlearn: 4.9398803\ttotal: 2.27s\tremaining: 54.1ms\n",
            "293:\tlearn: 4.9372712\ttotal: 2.27s\tremaining: 46.3ms\n",
            "294:\tlearn: 4.9348717\ttotal: 2.27s\tremaining: 38.4ms\n",
            "295:\tlearn: 4.9293980\ttotal: 2.27s\tremaining: 30.7ms\n",
            "296:\tlearn: 4.9260751\ttotal: 2.27s\tremaining: 22.9ms\n",
            "297:\tlearn: 4.9235536\ttotal: 2.27s\tremaining: 15.2ms\n",
            "298:\tlearn: 4.9202751\ttotal: 2.27s\tremaining: 7.6ms\n",
            "299:\tlearn: 4.9171178\ttotal: 2.27s\tremaining: 0us\n",
            "Fitting 3 folds for each of 48 candidates, totalling 144 fits\n",
            "[Parallel(n_jobs=1)]: Using backend SequentialBackend with 1 concurrent workers.\n",
            "[CV] boosting_type=gbdt, learning_rate=0.01, max_depth=2, metric=mae, num_iterations=500, objective=regression, random_state=12 \n",
            "[CV]  boosting_type=gbdt, learning_rate=0.01, max_depth=2, metric=mae, num_iterations=500, objective=regression, random_state=12, score=0.388, total=   0.7s\n",
            "[Parallel(n_jobs=1)]: Done   1 out of   1 | elapsed:    0.7s remaining:    0.0s\n",
            "[CV] boosting_type=gbdt, learning_rate=0.01, max_depth=2, metric=mae, num_iterations=500, objective=regression, random_state=12 \n",
            "[CV]  boosting_type=gbdt, learning_rate=0.01, max_depth=2, metric=mae, num_iterations=500, objective=regression, random_state=12, score=0.399, total=   0.8s\n",
            "[Parallel(n_jobs=1)]: Done   2 out of   2 | elapsed:    1.5s remaining:    0.0s\n",
            "[CV] boosting_type=gbdt, learning_rate=0.01, max_depth=2, metric=mae, num_iterations=500, objective=regression, random_state=12 \n",
            "[CV]  boosting_type=gbdt, learning_rate=0.01, max_depth=2, metric=mae, num_iterations=500, objective=regression, random_state=12, score=0.316, total=   1.0s\n",
            "[Parallel(n_jobs=1)]: Done   3 out of   3 | elapsed:    2.5s remaining:    0.0s\n",
            "[CV] boosting_type=gbdt, learning_rate=0.01, max_depth=3, metric=mae, num_iterations=500, objective=regression, random_state=12 \n",
            "[CV]  boosting_type=gbdt, learning_rate=0.01, max_depth=3, metric=mae, num_iterations=500, objective=regression, random_state=12, score=0.417, total=   1.1s\n",
            "[Parallel(n_jobs=1)]: Done   4 out of   4 | elapsed:    3.6s remaining:    0.0s\n",
            "[CV] boosting_type=gbdt, learning_rate=0.01, max_depth=3, metric=mae, num_iterations=500, objective=regression, random_state=12 \n",
            "[CV]  boosting_type=gbdt, learning_rate=0.01, max_depth=3, metric=mae, num_iterations=500, objective=regression, random_state=12, score=0.428, total=   1.2s\n",
            "[Parallel(n_jobs=1)]: Done   5 out of   5 | elapsed:    4.8s remaining:    0.0s\n",
            "[CV] boosting_type=gbdt, learning_rate=0.01, max_depth=3, metric=mae, num_iterations=500, objective=regression, random_state=12 \n",
            "[CV]  boosting_type=gbdt, learning_rate=0.01, max_depth=3, metric=mae, num_iterations=500, objective=regression, random_state=12, score=0.302, total=   1.2s\n",
            "[Parallel(n_jobs=1)]: Done   6 out of   6 | elapsed:    6.0s remaining:    0.0s\n",
            "[CV] boosting_type=gbdt, learning_rate=0.01, max_depth=4, metric=mae, num_iterations=500, objective=regression, random_state=12 \n",
            "[CV]  boosting_type=gbdt, learning_rate=0.01, max_depth=4, metric=mae, num_iterations=500, objective=regression, random_state=12, score=0.443, total=   1.8s\n",
            "[Parallel(n_jobs=1)]: Done   7 out of   7 | elapsed:    7.8s remaining:    0.0s\n",
            "[CV] boosting_type=gbdt, learning_rate=0.01, max_depth=4, metric=mae, num_iterations=500, objective=regression, random_state=12 \n",
            "[CV]  boosting_type=gbdt, learning_rate=0.01, max_depth=4, metric=mae, num_iterations=500, objective=regression, random_state=12, score=0.423, total=   1.9s\n",
            "[Parallel(n_jobs=1)]: Done   8 out of   8 | elapsed:    9.7s remaining:    0.0s\n",
            "[CV] boosting_type=gbdt, learning_rate=0.01, max_depth=4, metric=mae, num_iterations=500, objective=regression, random_state=12 \n",
            "[CV]  boosting_type=gbdt, learning_rate=0.01, max_depth=4, metric=mae, num_iterations=500, objective=regression, random_state=12, score=0.287, total=   1.7s\n",
            "[Parallel(n_jobs=1)]: Done   9 out of   9 | elapsed:   11.5s remaining:    0.0s\n",
            "[CV] boosting_type=gbdt, learning_rate=0.01, max_depth=5, metric=mae, num_iterations=500, objective=regression, random_state=12 \n",
            "[CV]  boosting_type=gbdt, learning_rate=0.01, max_depth=5, metric=mae, num_iterations=500, objective=regression, random_state=12, score=0.451, total=   2.6s\n",
            "[Parallel(n_jobs=1)]: Done  10 out of  10 | elapsed:   14.1s remaining:    0.0s\n",
            "[CV] boosting_type=gbdt, learning_rate=0.01, max_depth=5, metric=mae, num_iterations=500, objective=regression, random_state=12 \n",
            "[CV]  boosting_type=gbdt, learning_rate=0.01, max_depth=5, metric=mae, num_iterations=500, objective=regression, random_state=12, score=0.419, total=   2.4s\n",
            "[Parallel(n_jobs=1)]: Done  11 out of  11 | elapsed:   16.5s remaining:    0.0s\n",
            "[CV] boosting_type=gbdt, learning_rate=0.01, max_depth=5, metric=mae, num_iterations=500, objective=regression, random_state=12 \n",
            "[CV]  boosting_type=gbdt, learning_rate=0.01, max_depth=5, metric=mae, num_iterations=500, objective=regression, random_state=12, score=0.289, total=   2.7s\n",
            "[Parallel(n_jobs=1)]: Done  12 out of  12 | elapsed:   19.3s remaining:    0.0s\n",
            "[CV] boosting_type=gbdt, learning_rate=0.01, max_depth=6, metric=mae, num_iterations=500, objective=regression, random_state=12 \n",
            "[CV]  boosting_type=gbdt, learning_rate=0.01, max_depth=6, metric=mae, num_iterations=500, objective=regression, random_state=12, score=0.453, total=   3.1s\n",
            "[Parallel(n_jobs=1)]: Done  13 out of  13 | elapsed:   22.4s remaining:    0.0s\n",
            "[CV] boosting_type=gbdt, learning_rate=0.01, max_depth=6, metric=mae, num_iterations=500, objective=regression, random_state=12 \n",
            "[CV]  boosting_type=gbdt, learning_rate=0.01, max_depth=6, metric=mae, num_iterations=500, objective=regression, random_state=12, score=0.411, total=   3.3s\n",
            "[Parallel(n_jobs=1)]: Done  14 out of  14 | elapsed:   25.7s remaining:    0.0s\n",
            "[CV] boosting_type=gbdt, learning_rate=0.01, max_depth=6, metric=mae, num_iterations=500, objective=regression, random_state=12 \n",
            "[CV]  boosting_type=gbdt, learning_rate=0.01, max_depth=6, metric=mae, num_iterations=500, objective=regression, random_state=12, score=0.294, total=   3.4s\n",
            "[Parallel(n_jobs=1)]: Done  15 out of  15 | elapsed:   29.1s remaining:    0.0s\n",
            "[CV] boosting_type=gbdt, learning_rate=0.01, max_depth=7, metric=mae, num_iterations=500, objective=regression, random_state=12 \n",
            "[CV]  boosting_type=gbdt, learning_rate=0.01, max_depth=7, metric=mae, num_iterations=500, objective=regression, random_state=12, score=0.452, total=   3.2s\n",
            "[Parallel(n_jobs=1)]: Done  16 out of  16 | elapsed:   32.3s remaining:    0.0s\n",
            "[CV] boosting_type=gbdt, learning_rate=0.01, max_depth=7, metric=mae, num_iterations=500, objective=regression, random_state=12 \n",
            "[CV]  boosting_type=gbdt, learning_rate=0.01, max_depth=7, metric=mae, num_iterations=500, objective=regression, random_state=12, score=0.410, total=   3.6s\n",
            "[Parallel(n_jobs=1)]: Done  17 out of  17 | elapsed:   35.9s remaining:    0.0s\n",
            "[CV] boosting_type=gbdt, learning_rate=0.01, max_depth=7, metric=mae, num_iterations=500, objective=regression, random_state=12 \n",
            "[CV]  boosting_type=gbdt, learning_rate=0.01, max_depth=7, metric=mae, num_iterations=500, objective=regression, random_state=12, score=0.299, total=   3.8s\n",
            "[Parallel(n_jobs=1)]: Done  18 out of  18 | elapsed:   39.7s remaining:    0.0s\n",
            "[CV] boosting_type=gbdt, learning_rate=0.01, max_depth=8, metric=mae, num_iterations=500, objective=regression, random_state=12 \n",
            "[CV]  boosting_type=gbdt, learning_rate=0.01, max_depth=8, metric=mae, num_iterations=500, objective=regression, random_state=12, score=0.450, total=   3.8s\n",
            "[Parallel(n_jobs=1)]: Done  19 out of  19 | elapsed:   43.5s remaining:    0.0s\n",
            "[CV] boosting_type=gbdt, learning_rate=0.01, max_depth=8, metric=mae, num_iterations=500, objective=regression, random_state=12 \n",
            "[CV]  boosting_type=gbdt, learning_rate=0.01, max_depth=8, metric=mae, num_iterations=500, objective=regression, random_state=12, score=0.408, total=   4.3s\n",
            "[Parallel(n_jobs=1)]: Done  20 out of  20 | elapsed:   47.8s remaining:    0.0s\n",
            "[CV] boosting_type=gbdt, learning_rate=0.01, max_depth=8, metric=mae, num_iterations=500, objective=regression, random_state=12 \n",
            "[CV]  boosting_type=gbdt, learning_rate=0.01, max_depth=8, metric=mae, num_iterations=500, objective=regression, random_state=12, score=0.299, total=   3.8s\n",
            "[Parallel(n_jobs=1)]: Done  21 out of  21 | elapsed:   51.6s remaining:    0.0s\n",
            "[CV] boosting_type=gbdt, learning_rate=0.01, max_depth=9, metric=mae, num_iterations=500, objective=regression, random_state=12 \n",
            "[CV]  boosting_type=gbdt, learning_rate=0.01, max_depth=9, metric=mae, num_iterations=500, objective=regression, random_state=12, score=0.451, total=   4.1s\n",
            "[Parallel(n_jobs=1)]: Done  22 out of  22 | elapsed:   55.7s remaining:    0.0s\n",
            "[CV] boosting_type=gbdt, learning_rate=0.01, max_depth=9, metric=mae, num_iterations=500, objective=regression, random_state=12 \n",
            "[CV]  boosting_type=gbdt, learning_rate=0.01, max_depth=9, metric=mae, num_iterations=500, objective=regression, random_state=12, score=0.409, total=   4.5s\n",
            "[Parallel(n_jobs=1)]: Done  23 out of  23 | elapsed:  1.0min remaining:    0.0s\n",
            "[CV] boosting_type=gbdt, learning_rate=0.01, max_depth=9, metric=mae, num_iterations=500, objective=regression, random_state=12 \n",
            "[CV]  boosting_type=gbdt, learning_rate=0.01, max_depth=9, metric=mae, num_iterations=500, objective=regression, random_state=12, score=0.299, total=   4.4s\n",
            "[Parallel(n_jobs=1)]: Done  24 out of  24 | elapsed:  1.1min remaining:    0.0s\n",
            "[CV] boosting_type=gbdt, learning_rate=0.02, max_depth=2, metric=mae, num_iterations=500, objective=regression, random_state=12 \n",
            "[CV]  boosting_type=gbdt, learning_rate=0.02, max_depth=2, metric=mae, num_iterations=500, objective=regression, random_state=12, score=0.429, total=   0.7s\n",
            "[Parallel(n_jobs=1)]: Done  25 out of  25 | elapsed:  1.1min remaining:    0.0s\n",
            "[CV] boosting_type=gbdt, learning_rate=0.02, max_depth=2, metric=mae, num_iterations=500, objective=regression, random_state=12 \n",
            "[CV]  boosting_type=gbdt, learning_rate=0.02, max_depth=2, metric=mae, num_iterations=500, objective=regression, random_state=12, score=0.429, total=   0.8s\n",
            "[Parallel(n_jobs=1)]: Done  26 out of  26 | elapsed:  1.1min remaining:    0.0s\n",
            "[CV] boosting_type=gbdt, learning_rate=0.02, max_depth=2, metric=mae, num_iterations=500, objective=regression, random_state=12 \n",
            "[CV]  boosting_type=gbdt, learning_rate=0.02, max_depth=2, metric=mae, num_iterations=500, objective=regression, random_state=12, score=0.329, total=   0.7s\n",
            "[Parallel(n_jobs=1)]: Done  27 out of  27 | elapsed:  1.1min remaining:    0.0s\n",
            "[CV] boosting_type=gbdt, learning_rate=0.02, max_depth=3, metric=mae, num_iterations=500, objective=regression, random_state=12 \n",
            "[CV]  boosting_type=gbdt, learning_rate=0.02, max_depth=3, metric=mae, num_iterations=500, objective=regression, random_state=12, score=0.443, total=   1.9s\n",
            "[Parallel(n_jobs=1)]: Done  28 out of  28 | elapsed:  1.1min remaining:    0.0s\n",
            "[CV] boosting_type=gbdt, learning_rate=0.02, max_depth=3, metric=mae, num_iterations=500, objective=regression, random_state=12 \n",
            "[CV]  boosting_type=gbdt, learning_rate=0.02, max_depth=3, metric=mae, num_iterations=500, objective=regression, random_state=12, score=0.436, total=   2.7s\n",
            "[Parallel(n_jobs=1)]: Done  29 out of  29 | elapsed:  1.2min remaining:    0.0s\n",
            "[CV] boosting_type=gbdt, learning_rate=0.02, max_depth=3, metric=mae, num_iterations=500, objective=regression, random_state=12 \n",
            "[CV]  boosting_type=gbdt, learning_rate=0.02, max_depth=3, metric=mae, num_iterations=500, objective=regression, random_state=12, score=0.300, total=   1.3s\n",
            "[Parallel(n_jobs=1)]: Done  30 out of  30 | elapsed:  1.2min remaining:    0.0s\n",
            "[CV] boosting_type=gbdt, learning_rate=0.02, max_depth=4, metric=mae, num_iterations=500, objective=regression, random_state=12 \n",
            "[CV]  boosting_type=gbdt, learning_rate=0.02, max_depth=4, metric=mae, num_iterations=500, objective=regression, random_state=12, score=0.452, total=   1.5s\n",
            "[Parallel(n_jobs=1)]: Done  31 out of  31 | elapsed:  1.2min remaining:    0.0s\n",
            "[CV] boosting_type=gbdt, learning_rate=0.02, max_depth=4, metric=mae, num_iterations=500, objective=regression, random_state=12 \n",
            "[CV]  boosting_type=gbdt, learning_rate=0.02, max_depth=4, metric=mae, num_iterations=500, objective=regression, random_state=12, score=0.429, total=   1.6s\n",
            "[Parallel(n_jobs=1)]: Done  32 out of  32 | elapsed:  1.3min remaining:    0.0s\n",
            "[CV] boosting_type=gbdt, learning_rate=0.02, max_depth=4, metric=mae, num_iterations=500, objective=regression, random_state=12 \n",
            "[CV]  boosting_type=gbdt, learning_rate=0.02, max_depth=4, metric=mae, num_iterations=500, objective=regression, random_state=12, score=0.285, total=   1.9s\n",
            "[Parallel(n_jobs=1)]: Done  33 out of  33 | elapsed:  1.3min remaining:    0.0s\n",
            "[CV] boosting_type=gbdt, learning_rate=0.02, max_depth=5, metric=mae, num_iterations=500, objective=regression, random_state=12 \n",
            "[CV]  boosting_type=gbdt, learning_rate=0.02, max_depth=5, metric=mae, num_iterations=500, objective=regression, random_state=12, score=0.456, total=   2.0s\n",
            "[Parallel(n_jobs=1)]: Done  34 out of  34 | elapsed:  1.3min remaining:    0.0s\n",
            "[CV] boosting_type=gbdt, learning_rate=0.02, max_depth=5, metric=mae, num_iterations=500, objective=regression, random_state=12 \n",
            "[CV]  boosting_type=gbdt, learning_rate=0.02, max_depth=5, metric=mae, num_iterations=500, objective=regression, random_state=12, score=0.418, total=   2.3s\n",
            "[Parallel(n_jobs=1)]: Done  35 out of  35 | elapsed:  1.4min remaining:    0.0s\n",
            "[CV] boosting_type=gbdt, learning_rate=0.02, max_depth=5, metric=mae, num_iterations=500, objective=regression, random_state=12 \n",
            "[CV]  boosting_type=gbdt, learning_rate=0.02, max_depth=5, metric=mae, num_iterations=500, objective=regression, random_state=12, score=0.282, total=   2.5s\n",
            "[Parallel(n_jobs=1)]: Done  36 out of  36 | elapsed:  1.4min remaining:    0.0s\n",
            "[CV] boosting_type=gbdt, learning_rate=0.02, max_depth=6, metric=mae, num_iterations=500, objective=regression, random_state=12 \n",
            "[CV]  boosting_type=gbdt, learning_rate=0.02, max_depth=6, metric=mae, num_iterations=500, objective=regression, random_state=12, score=0.461, total=   2.5s\n",
            "[Parallel(n_jobs=1)]: Done  37 out of  37 | elapsed:  1.5min remaining:    0.0s\n",
            "[CV] boosting_type=gbdt, learning_rate=0.02, max_depth=6, metric=mae, num_iterations=500, objective=regression, random_state=12 \n",
            "[CV]  boosting_type=gbdt, learning_rate=0.02, max_depth=6, metric=mae, num_iterations=500, objective=regression, random_state=12, score=0.409, total=   2.7s\n",
            "[Parallel(n_jobs=1)]: Done  38 out of  38 | elapsed:  1.5min remaining:    0.0s\n",
            "[CV] boosting_type=gbdt, learning_rate=0.02, max_depth=6, metric=mae, num_iterations=500, objective=regression, random_state=12 \n",
            "[CV]  boosting_type=gbdt, learning_rate=0.02, max_depth=6, metric=mae, num_iterations=500, objective=regression, random_state=12, score=0.281, total=   2.9s\n",
            "[Parallel(n_jobs=1)]: Done  39 out of  39 | elapsed:  1.5min remaining:    0.0s\n",
            "[CV] boosting_type=gbdt, learning_rate=0.02, max_depth=7, metric=mae, num_iterations=500, objective=regression, random_state=12 \n",
            "[CV]  boosting_type=gbdt, learning_rate=0.02, max_depth=7, metric=mae, num_iterations=500, objective=regression, random_state=12, score=0.451, total=   2.8s\n",
            "[Parallel(n_jobs=1)]: Done  40 out of  40 | elapsed:  1.6min remaining:    0.0s\n",
            "[CV] boosting_type=gbdt, learning_rate=0.02, max_depth=7, metric=mae, num_iterations=500, objective=regression, random_state=12 \n",
            "[CV]  boosting_type=gbdt, learning_rate=0.02, max_depth=7, metric=mae, num_iterations=500, objective=regression, random_state=12, score=0.403, total=   3.4s\n",
            "[Parallel(n_jobs=1)]: Done  41 out of  41 | elapsed:  1.6min remaining:    0.0s\n",
            "[CV] boosting_type=gbdt, learning_rate=0.02, max_depth=7, metric=mae, num_iterations=500, objective=regression, random_state=12 \n",
            "[CV]  boosting_type=gbdt, learning_rate=0.02, max_depth=7, metric=mae, num_iterations=500, objective=regression, random_state=12, score=0.287, total=   3.9s\n",
            "[Parallel(n_jobs=1)]: Done  42 out of  42 | elapsed:  1.7min remaining:    0.0s\n",
            "[CV] boosting_type=gbdt, learning_rate=0.02, max_depth=8, metric=mae, num_iterations=500, objective=regression, random_state=12 \n",
            "[CV]  boosting_type=gbdt, learning_rate=0.02, max_depth=8, metric=mae, num_iterations=500, objective=regression, random_state=12, score=0.448, total=   3.2s\n",
            "[Parallel(n_jobs=1)]: Done  43 out of  43 | elapsed:  1.8min remaining:    0.0s\n",
            "[CV] boosting_type=gbdt, learning_rate=0.02, max_depth=8, metric=mae, num_iterations=500, objective=regression, random_state=12 \n",
            "[CV]  boosting_type=gbdt, learning_rate=0.02, max_depth=8, metric=mae, num_iterations=500, objective=regression, random_state=12, score=0.399, total=   3.8s\n",
            "[Parallel(n_jobs=1)]: Done  44 out of  44 | elapsed:  1.8min remaining:    0.0s\n",
            "[CV] boosting_type=gbdt, learning_rate=0.02, max_depth=8, metric=mae, num_iterations=500, objective=regression, random_state=12 \n",
            "[CV]  boosting_type=gbdt, learning_rate=0.02, max_depth=8, metric=mae, num_iterations=500, objective=regression, random_state=12, score=0.285, total=   3.6s\n",
            "[Parallel(n_jobs=1)]: Done  45 out of  45 | elapsed:  1.9min remaining:    0.0s\n",
            "[CV] boosting_type=gbdt, learning_rate=0.02, max_depth=9, metric=mae, num_iterations=500, objective=regression, random_state=12 \n",
            "[CV]  boosting_type=gbdt, learning_rate=0.02, max_depth=9, metric=mae, num_iterations=500, objective=regression, random_state=12, score=0.446, total=   3.5s\n",
            "[Parallel(n_jobs=1)]: Done  46 out of  46 | elapsed:  1.9min remaining:    0.0s\n",
            "[CV] boosting_type=gbdt, learning_rate=0.02, max_depth=9, metric=mae, num_iterations=500, objective=regression, random_state=12 \n",
            "[CV]  boosting_type=gbdt, learning_rate=0.02, max_depth=9, metric=mae, num_iterations=500, objective=regression, random_state=12, score=0.396, total=   4.4s\n",
            "[Parallel(n_jobs=1)]: Done  47 out of  47 | elapsed:  2.0min remaining:    0.0s\n",
            "[CV] boosting_type=gbdt, learning_rate=0.02, max_depth=9, metric=mae, num_iterations=500, objective=regression, random_state=12 \n",
            "[CV]  boosting_type=gbdt, learning_rate=0.02, max_depth=9, metric=mae, num_iterations=500, objective=regression, random_state=12, score=0.299, total=   3.9s\n",
            "[Parallel(n_jobs=1)]: Done  48 out of  48 | elapsed:  2.1min remaining:    0.0s\n",
            "[CV] boosting_type=dart, learning_rate=0.01, max_depth=2, metric=mae, num_iterations=500, objective=regression, random_state=12 \n",
            "[CV]  boosting_type=dart, learning_rate=0.01, max_depth=2, metric=mae, num_iterations=500, objective=regression, random_state=12, score=-1864.548, total=   2.3s\n",
            "[Parallel(n_jobs=1)]: Done  49 out of  49 | elapsed:  2.1min remaining:    0.0s\n",
            "[CV] boosting_type=dart, learning_rate=0.01, max_depth=2, metric=mae, num_iterations=500, objective=regression, random_state=12 \n",
            "[CV]  boosting_type=dart, learning_rate=0.01, max_depth=2, metric=mae, num_iterations=500, objective=regression, random_state=12, score=-1744.778, total=   2.2s\n",
            "[Parallel(n_jobs=1)]: Done  50 out of  50 | elapsed:  2.2min remaining:    0.0s\n",
            "[CV] boosting_type=dart, learning_rate=0.01, max_depth=2, metric=mae, num_iterations=500, objective=regression, random_state=12 \n",
            "[CV]  boosting_type=dart, learning_rate=0.01, max_depth=2, metric=mae, num_iterations=500, objective=regression, random_state=12, score=-2007.162, total=   2.2s\n",
            "[Parallel(n_jobs=1)]: Done  51 out of  51 | elapsed:  2.2min remaining:    0.0s\n",
            "[CV] boosting_type=dart, learning_rate=0.01, max_depth=3, metric=mae, num_iterations=500, objective=regression, random_state=12 \n",
            "[CV]  boosting_type=dart, learning_rate=0.01, max_depth=3, metric=mae, num_iterations=500, objective=regression, random_state=12, score=-1864.164, total=   3.0s\n",
            "[Parallel(n_jobs=1)]: Done  52 out of  52 | elapsed:  2.2min remaining:    0.0s\n",
            "[CV] boosting_type=dart, learning_rate=0.01, max_depth=3, metric=mae, num_iterations=500, objective=regression, random_state=12 \n",
            "[CV]  boosting_type=dart, learning_rate=0.01, max_depth=3, metric=mae, num_iterations=500, objective=regression, random_state=12, score=-1744.911, total=   3.6s\n",
            "[Parallel(n_jobs=1)]: Done  53 out of  53 | elapsed:  2.3min remaining:    0.0s\n",
            "[CV] boosting_type=dart, learning_rate=0.01, max_depth=3, metric=mae, num_iterations=500, objective=regression, random_state=12 \n",
            "[CV]  boosting_type=dart, learning_rate=0.01, max_depth=3, metric=mae, num_iterations=500, objective=regression, random_state=12, score=-2006.873, total=   3.1s\n",
            "[Parallel(n_jobs=1)]: Done  54 out of  54 | elapsed:  2.4min remaining:    0.0s\n",
            "[CV] boosting_type=dart, learning_rate=0.01, max_depth=4, metric=mae, num_iterations=500, objective=regression, random_state=12 \n",
            "[CV]  boosting_type=dart, learning_rate=0.01, max_depth=4, metric=mae, num_iterations=500, objective=regression, random_state=12, score=-1864.092, total=   4.9s\n",
            "[Parallel(n_jobs=1)]: Done  55 out of  55 | elapsed:  2.4min remaining:    0.0s\n",
            "[CV] boosting_type=dart, learning_rate=0.01, max_depth=4, metric=mae, num_iterations=500, objective=regression, random_state=12 \n",
            "[CV]  boosting_type=dart, learning_rate=0.01, max_depth=4, metric=mae, num_iterations=500, objective=regression, random_state=12, score=-1745.040, total=   4.6s\n",
            "[Parallel(n_jobs=1)]: Done  56 out of  56 | elapsed:  2.5min remaining:    0.0s\n",
            "[CV] boosting_type=dart, learning_rate=0.01, max_depth=4, metric=mae, num_iterations=500, objective=regression, random_state=12 \n",
            "[CV]  boosting_type=dart, learning_rate=0.01, max_depth=4, metric=mae, num_iterations=500, objective=regression, random_state=12, score=-2006.504, total=   4.5s\n",
            "[Parallel(n_jobs=1)]: Done  57 out of  57 | elapsed:  2.6min remaining:    0.0s\n",
            "[CV] boosting_type=dart, learning_rate=0.01, max_depth=5, metric=mae, num_iterations=500, objective=regression, random_state=12 \n",
            "[CV]  boosting_type=dart, learning_rate=0.01, max_depth=5, metric=mae, num_iterations=500, objective=regression, random_state=12, score=-1864.656, total=   5.9s\n",
            "[Parallel(n_jobs=1)]: Done  58 out of  58 | elapsed:  2.7min remaining:    0.0s\n",
            "[CV] boosting_type=dart, learning_rate=0.01, max_depth=5, metric=mae, num_iterations=500, objective=regression, random_state=12 \n",
            "[CV]  boosting_type=dart, learning_rate=0.01, max_depth=5, metric=mae, num_iterations=500, objective=regression, random_state=12, score=-1744.928, total=   7.7s\n",
            "[Parallel(n_jobs=1)]: Done  59 out of  59 | elapsed:  2.8min remaining:    0.0s\n",
            "[CV] boosting_type=dart, learning_rate=0.01, max_depth=5, metric=mae, num_iterations=500, objective=regression, random_state=12 \n",
            "[CV]  boosting_type=dart, learning_rate=0.01, max_depth=5, metric=mae, num_iterations=500, objective=regression, random_state=12, score=-2006.180, total=   6.0s\n",
            "[Parallel(n_jobs=1)]: Done  60 out of  60 | elapsed:  2.9min remaining:    0.0s\n",
            "[CV] boosting_type=dart, learning_rate=0.01, max_depth=6, metric=mae, num_iterations=500, objective=regression, random_state=12 \n",
            "[CV]  boosting_type=dart, learning_rate=0.01, max_depth=6, metric=mae, num_iterations=500, objective=regression, random_state=12, score=-1864.478, total=   6.4s\n",
            "[Parallel(n_jobs=1)]: Done  61 out of  61 | elapsed:  3.0min remaining:    0.0s\n",
            "[CV] boosting_type=dart, learning_rate=0.01, max_depth=6, metric=mae, num_iterations=500, objective=regression, random_state=12 \n",
            "[CV]  boosting_type=dart, learning_rate=0.01, max_depth=6, metric=mae, num_iterations=500, objective=regression, random_state=12, score=-1744.524, total=   8.1s\n",
            "[Parallel(n_jobs=1)]: Done  62 out of  62 | elapsed:  3.2min remaining:    0.0s\n",
            "[CV] boosting_type=dart, learning_rate=0.01, max_depth=6, metric=mae, num_iterations=500, objective=regression, random_state=12 \n",
            "[CV]  boosting_type=dart, learning_rate=0.01, max_depth=6, metric=mae, num_iterations=500, objective=regression, random_state=12, score=-2005.955, total=   9.4s\n",
            "[Parallel(n_jobs=1)]: Done  63 out of  63 | elapsed:  3.3min remaining:    0.0s\n",
            "[CV] boosting_type=dart, learning_rate=0.01, max_depth=7, metric=mae, num_iterations=500, objective=regression, random_state=12 \n",
            "[CV]  boosting_type=dart, learning_rate=0.01, max_depth=7, metric=mae, num_iterations=500, objective=regression, random_state=12, score=-1864.478, total=   7.2s\n",
            "[Parallel(n_jobs=1)]: Done  64 out of  64 | elapsed:  3.4min remaining:    0.0s\n",
            "[CV] boosting_type=dart, learning_rate=0.01, max_depth=7, metric=mae, num_iterations=500, objective=regression, random_state=12 \n",
            "[CV]  boosting_type=dart, learning_rate=0.01, max_depth=7, metric=mae, num_iterations=500, objective=regression, random_state=12, score=-1744.492, total=   8.4s\n",
            "[Parallel(n_jobs=1)]: Done  65 out of  65 | elapsed:  3.6min remaining:    0.0s\n",
            "[CV] boosting_type=dart, learning_rate=0.01, max_depth=7, metric=mae, num_iterations=500, objective=regression, random_state=12 \n",
            "[CV]  boosting_type=dart, learning_rate=0.01, max_depth=7, metric=mae, num_iterations=500, objective=regression, random_state=12, score=-2006.080, total=   8.8s\n",
            "[Parallel(n_jobs=1)]: Done  66 out of  66 | elapsed:  3.7min remaining:    0.0s\n",
            "[CV] boosting_type=dart, learning_rate=0.01, max_depth=8, metric=mae, num_iterations=500, objective=regression, random_state=12 \n",
            "[CV]  boosting_type=dart, learning_rate=0.01, max_depth=8, metric=mae, num_iterations=500, objective=regression, random_state=12, score=-1864.496, total=   8.1s\n",
            "[Parallel(n_jobs=1)]: Done  67 out of  67 | elapsed:  3.9min remaining:    0.0s\n",
            "[CV] boosting_type=dart, learning_rate=0.01, max_depth=8, metric=mae, num_iterations=500, objective=regression, random_state=12 \n",
            "[CV]  boosting_type=dart, learning_rate=0.01, max_depth=8, metric=mae, num_iterations=500, objective=regression, random_state=12, score=-1744.646, total=   8.6s\n",
            "[Parallel(n_jobs=1)]: Done  68 out of  68 | elapsed:  4.0min remaining:    0.0s\n",
            "[CV] boosting_type=dart, learning_rate=0.01, max_depth=8, metric=mae, num_iterations=500, objective=regression, random_state=12 \n",
            "[CV]  boosting_type=dart, learning_rate=0.01, max_depth=8, metric=mae, num_iterations=500, objective=regression, random_state=12, score=-2006.087, total=   8.8s\n",
            "[Parallel(n_jobs=1)]: Done  69 out of  69 | elapsed:  4.2min remaining:    0.0s\n",
            "[CV] boosting_type=dart, learning_rate=0.01, max_depth=9, metric=mae, num_iterations=500, objective=regression, random_state=12 \n",
            "[CV]  boosting_type=dart, learning_rate=0.01, max_depth=9, metric=mae, num_iterations=500, objective=regression, random_state=12, score=-1864.622, total=   7.6s\n",
            "[Parallel(n_jobs=1)]: Done  70 out of  70 | elapsed:  4.3min remaining:    0.0s\n",
            "[CV] boosting_type=dart, learning_rate=0.01, max_depth=9, metric=mae, num_iterations=500, objective=regression, random_state=12 \n",
            "[CV]  boosting_type=dart, learning_rate=0.01, max_depth=9, metric=mae, num_iterations=500, objective=regression, random_state=12, score=-1744.699, total=   9.3s\n",
            "[Parallel(n_jobs=1)]: Done  71 out of  71 | elapsed:  4.4min remaining:    0.0s\n",
            "[CV] boosting_type=dart, learning_rate=0.01, max_depth=9, metric=mae, num_iterations=500, objective=regression, random_state=12 \n",
            "[CV]  boosting_type=dart, learning_rate=0.01, max_depth=9, metric=mae, num_iterations=500, objective=regression, random_state=12, score=-2006.095, total=   8.7s\n",
            "[Parallel(n_jobs=1)]: Done  72 out of  72 | elapsed:  4.6min remaining:    0.0s\n",
            "[CV] boosting_type=dart, learning_rate=0.02, max_depth=2, metric=mae, num_iterations=500, objective=regression, random_state=12 \n",
            "[CV]  boosting_type=dart, learning_rate=0.02, max_depth=2, metric=mae, num_iterations=500, objective=regression, random_state=12, score=-442.966, total=   2.4s\n",
            "[Parallel(n_jobs=1)]: Done  73 out of  73 | elapsed:  4.6min remaining:    0.0s\n",
            "[CV] boosting_type=dart, learning_rate=0.02, max_depth=2, metric=mae, num_iterations=500, objective=regression, random_state=12 \n",
            "[CV]  boosting_type=dart, learning_rate=0.02, max_depth=2, metric=mae, num_iterations=500, objective=regression, random_state=12, score=-415.681, total=   2.5s\n",
            "[Parallel(n_jobs=1)]: Done  74 out of  74 | elapsed:  4.7min remaining:    0.0s\n",
            "[CV] boosting_type=dart, learning_rate=0.02, max_depth=2, metric=mae, num_iterations=500, objective=regression, random_state=12 \n",
            "[CV]  boosting_type=dart, learning_rate=0.02, max_depth=2, metric=mae, num_iterations=500, objective=regression, random_state=12, score=-478.248, total=   2.2s\n",
            "[Parallel(n_jobs=1)]: Done  75 out of  75 | elapsed:  4.7min remaining:    0.0s\n",
            "[CV] boosting_type=dart, learning_rate=0.02, max_depth=3, metric=mae, num_iterations=500, objective=regression, random_state=12 \n",
            "[CV]  boosting_type=dart, learning_rate=0.02, max_depth=3, metric=mae, num_iterations=500, objective=regression, random_state=12, score=-442.873, total=   3.1s\n",
            "[Parallel(n_jobs=1)]: Done  76 out of  76 | elapsed:  4.7min remaining:    0.0s\n",
            "[CV] boosting_type=dart, learning_rate=0.02, max_depth=3, metric=mae, num_iterations=500, objective=regression, random_state=12 \n",
            "[CV]  boosting_type=dart, learning_rate=0.02, max_depth=3, metric=mae, num_iterations=500, objective=regression, random_state=12, score=-415.783, total=   3.5s\n",
            "[Parallel(n_jobs=1)]: Done  77 out of  77 | elapsed:  4.8min remaining:    0.0s\n",
            "[CV] boosting_type=dart, learning_rate=0.02, max_depth=3, metric=mae, num_iterations=500, objective=regression, random_state=12 \n",
            "[CV]  boosting_type=dart, learning_rate=0.02, max_depth=3, metric=mae, num_iterations=500, objective=regression, random_state=12, score=-478.038, total=   3.4s\n",
            "[Parallel(n_jobs=1)]: Done  78 out of  78 | elapsed:  4.9min remaining:    0.0s\n",
            "[CV] boosting_type=dart, learning_rate=0.02, max_depth=4, metric=mae, num_iterations=500, objective=regression, random_state=12 \n",
            "[CV]  boosting_type=dart, learning_rate=0.02, max_depth=4, metric=mae, num_iterations=500, objective=regression, random_state=12, score=-442.855, total=   4.8s\n",
            "[Parallel(n_jobs=1)]: Done  79 out of  79 | elapsed:  4.9min remaining:    0.0s\n",
            "[CV] boosting_type=dart, learning_rate=0.02, max_depth=4, metric=mae, num_iterations=500, objective=regression, random_state=12 \n",
            "[CV]  boosting_type=dart, learning_rate=0.02, max_depth=4, metric=mae, num_iterations=500, objective=regression, random_state=12, score=-415.796, total=   4.6s\n",
            "[Parallel(n_jobs=1)]: Done  80 out of  80 | elapsed:  5.0min remaining:    0.0s\n",
            "[CV] boosting_type=dart, learning_rate=0.02, max_depth=4, metric=mae, num_iterations=500, objective=regression, random_state=12 \n",
            "[CV]  boosting_type=dart, learning_rate=0.02, max_depth=4, metric=mae, num_iterations=500, objective=regression, random_state=12, score=-477.957, total=   4.7s\n",
            "[Parallel(n_jobs=1)]: Done  81 out of  81 | elapsed:  5.1min remaining:    0.0s\n",
            "[CV] boosting_type=dart, learning_rate=0.02, max_depth=5, metric=mae, num_iterations=500, objective=regression, random_state=12 \n",
            "[CV]  boosting_type=dart, learning_rate=0.02, max_depth=5, metric=mae, num_iterations=500, objective=regression, random_state=12, score=-442.876, total=   8.7s\n",
            "[Parallel(n_jobs=1)]: Done  82 out of  82 | elapsed:  5.2min remaining:    0.0s\n",
            "[CV] boosting_type=dart, learning_rate=0.02, max_depth=5, metric=mae, num_iterations=500, objective=regression, random_state=12 \n",
            "[CV]  boosting_type=dart, learning_rate=0.02, max_depth=5, metric=mae, num_iterations=500, objective=regression, random_state=12, score=-415.775, total=   6.3s\n",
            "[Parallel(n_jobs=1)]: Done  83 out of  83 | elapsed:  5.3min remaining:    0.0s\n",
            "[CV] boosting_type=dart, learning_rate=0.02, max_depth=5, metric=mae, num_iterations=500, objective=regression, random_state=12 \n",
            "[CV]  boosting_type=dart, learning_rate=0.02, max_depth=5, metric=mae, num_iterations=500, objective=regression, random_state=12, score=-477.794, total=   6.1s\n",
            "[Parallel(n_jobs=1)]: Done  84 out of  84 | elapsed:  5.5min remaining:    0.0s\n",
            "[CV] boosting_type=dart, learning_rate=0.02, max_depth=6, metric=mae, num_iterations=500, objective=regression, random_state=12 \n",
            "[CV]  boosting_type=dart, learning_rate=0.02, max_depth=6, metric=mae, num_iterations=500, objective=regression, random_state=12, score=-442.936, total=   6.7s\n",
            "[Parallel(n_jobs=1)]: Done  85 out of  85 | elapsed:  5.6min remaining:    0.0s\n",
            "[CV] boosting_type=dart, learning_rate=0.02, max_depth=6, metric=mae, num_iterations=500, objective=regression, random_state=12 \n",
            "[CV]  boosting_type=dart, learning_rate=0.02, max_depth=6, metric=mae, num_iterations=500, objective=regression, random_state=12, score=-415.454, total=   7.1s\n",
            "[Parallel(n_jobs=1)]: Done  86 out of  86 | elapsed:  5.7min remaining:    0.0s\n",
            "[CV] boosting_type=dart, learning_rate=0.02, max_depth=6, metric=mae, num_iterations=500, objective=regression, random_state=12 \n",
            "[CV]  boosting_type=dart, learning_rate=0.02, max_depth=6, metric=mae, num_iterations=500, objective=regression, random_state=12, score=-477.809, total=   7.9s\n",
            "[Parallel(n_jobs=1)]: Done  87 out of  87 | elapsed:  5.8min remaining:    0.0s\n",
            "[CV] boosting_type=dart, learning_rate=0.02, max_depth=7, metric=mae, num_iterations=500, objective=regression, random_state=12 \n",
            "[CV]  boosting_type=dart, learning_rate=0.02, max_depth=7, metric=mae, num_iterations=500, objective=regression, random_state=12, score=-442.909, total=   8.5s\n",
            "[Parallel(n_jobs=1)]: Done  88 out of  88 | elapsed:  6.0min remaining:    0.0s\n",
            "[CV] boosting_type=dart, learning_rate=0.02, max_depth=7, metric=mae, num_iterations=500, objective=regression, random_state=12 \n",
            "[CV]  boosting_type=dart, learning_rate=0.02, max_depth=7, metric=mae, num_iterations=500, objective=regression, random_state=12, score=-415.547, total=   7.8s\n",
            "[Parallel(n_jobs=1)]: Done  89 out of  89 | elapsed:  6.1min remaining:    0.0s\n",
            "[CV] boosting_type=dart, learning_rate=0.02, max_depth=7, metric=mae, num_iterations=500, objective=regression, random_state=12 \n",
            "[CV]  boosting_type=dart, learning_rate=0.02, max_depth=7, metric=mae, num_iterations=500, objective=regression, random_state=12, score=-477.836, total=   8.7s\n",
            "[Parallel(n_jobs=1)]: Done  90 out of  90 | elapsed:  6.2min remaining:    0.0s\n",
            "[CV] boosting_type=dart, learning_rate=0.02, max_depth=8, metric=mae, num_iterations=500, objective=regression, random_state=12 \n",
            "[CV]  boosting_type=dart, learning_rate=0.02, max_depth=8, metric=mae, num_iterations=500, objective=regression, random_state=12, score=-442.910, total=   8.9s\n",
            "[Parallel(n_jobs=1)]: Done  91 out of  91 | elapsed:  6.4min remaining:    0.0s\n",
            "[CV] boosting_type=dart, learning_rate=0.02, max_depth=8, metric=mae, num_iterations=500, objective=regression, random_state=12 \n",
            "[CV]  boosting_type=dart, learning_rate=0.02, max_depth=8, metric=mae, num_iterations=500, objective=regression, random_state=12, score=-415.574, total=  10.9s\n",
            "[Parallel(n_jobs=1)]: Done  92 out of  92 | elapsed:  6.6min remaining:    0.0s\n",
            "[CV] boosting_type=dart, learning_rate=0.02, max_depth=8, metric=mae, num_iterations=500, objective=regression, random_state=12 \n",
            "[CV]  boosting_type=dart, learning_rate=0.02, max_depth=8, metric=mae, num_iterations=500, objective=regression, random_state=12, score=-477.773, total=   8.8s\n",
            "[Parallel(n_jobs=1)]: Done  93 out of  93 | elapsed:  6.7min remaining:    0.0s\n",
            "[CV] boosting_type=dart, learning_rate=0.02, max_depth=9, metric=mae, num_iterations=500, objective=regression, random_state=12 \n",
            "[CV]  boosting_type=dart, learning_rate=0.02, max_depth=9, metric=mae, num_iterations=500, objective=regression, random_state=12, score=-443.031, total=   8.1s\n",
            "[Parallel(n_jobs=1)]: Done  94 out of  94 | elapsed:  6.8min remaining:    0.0s\n",
            "[CV] boosting_type=dart, learning_rate=0.02, max_depth=9, metric=mae, num_iterations=500, objective=regression, random_state=12 \n",
            "[CV]  boosting_type=dart, learning_rate=0.02, max_depth=9, metric=mae, num_iterations=500, objective=regression, random_state=12, score=-415.618, total=   9.0s\n",
            "[Parallel(n_jobs=1)]: Done  95 out of  95 | elapsed:  7.0min remaining:    0.0s\n",
            "[CV] boosting_type=dart, learning_rate=0.02, max_depth=9, metric=mae, num_iterations=500, objective=regression, random_state=12 \n",
            "[CV]  boosting_type=dart, learning_rate=0.02, max_depth=9, metric=mae, num_iterations=500, objective=regression, random_state=12, score=-477.710, total=   9.5s\n",
            "[Parallel(n_jobs=1)]: Done  96 out of  96 | elapsed:  7.2min remaining:    0.0s\n",
            "[CV] boosting_type=goss, learning_rate=0.01, max_depth=2, metric=mae, num_iterations=500, objective=regression, random_state=12 \n",
            "[CV]  boosting_type=goss, learning_rate=0.01, max_depth=2, metric=mae, num_iterations=500, objective=regression, random_state=12, score=0.440, total=   1.7s\n",
            "[Parallel(n_jobs=1)]: Done  97 out of  97 | elapsed:  7.2min remaining:    0.0s\n",
            "[CV] boosting_type=goss, learning_rate=0.01, max_depth=2, metric=mae, num_iterations=500, objective=regression, random_state=12 \n",
            "[CV]  boosting_type=goss, learning_rate=0.01, max_depth=2, metric=mae, num_iterations=500, objective=regression, random_state=12, score=-8.723, total=   2.0s\n",
            "[Parallel(n_jobs=1)]: Done  98 out of  98 | elapsed:  7.2min remaining:    0.0s\n",
            "[CV] boosting_type=goss, learning_rate=0.01, max_depth=2, metric=mae, num_iterations=500, objective=regression, random_state=12 \n",
            "[CV]  boosting_type=goss, learning_rate=0.01, max_depth=2, metric=mae, num_iterations=500, objective=regression, random_state=12, score=-1.500, total=   0.8s\n",
            "[Parallel(n_jobs=1)]: Done  99 out of  99 | elapsed:  7.2min remaining:    0.0s\n",
            "[CV] boosting_type=goss, learning_rate=0.01, max_depth=3, metric=mae, num_iterations=500, objective=regression, random_state=12 \n",
            "[CV]  boosting_type=goss, learning_rate=0.01, max_depth=3, metric=mae, num_iterations=500, objective=regression, random_state=12, score=-3.136, total=   1.4s\n",
            "[CV] boosting_type=goss, learning_rate=0.01, max_depth=3, metric=mae, num_iterations=500, objective=regression, random_state=12 \n",
            "[CV]  boosting_type=goss, learning_rate=0.01, max_depth=3, metric=mae, num_iterations=500, objective=regression, random_state=12, score=-1.763, total=   1.3s\n",
            "[CV] boosting_type=goss, learning_rate=0.01, max_depth=3, metric=mae, num_iterations=500, objective=regression, random_state=12 \n",
            "[CV]  boosting_type=goss, learning_rate=0.01, max_depth=3, metric=mae, num_iterations=500, objective=regression, random_state=12, score=-0.875, total=   1.6s\n",
            "[CV] boosting_type=goss, learning_rate=0.01, max_depth=4, metric=mae, num_iterations=500, objective=regression, random_state=12 \n",
            "[CV]  boosting_type=goss, learning_rate=0.01, max_depth=4, metric=mae, num_iterations=500, objective=regression, random_state=12, score=-17.870, total=   1.8s\n",
            "[CV] boosting_type=goss, learning_rate=0.01, max_depth=4, metric=mae, num_iterations=500, objective=regression, random_state=12 \n",
            "[CV]  boosting_type=goss, learning_rate=0.01, max_depth=4, metric=mae, num_iterations=500, objective=regression, random_state=12, score=-1.284, total=   1.8s\n",
            "[CV] boosting_type=goss, learning_rate=0.01, max_depth=4, metric=mae, num_iterations=500, objective=regression, random_state=12 \n",
            "[CV]  boosting_type=goss, learning_rate=0.01, max_depth=4, metric=mae, num_iterations=500, objective=regression, random_state=12, score=-27.195, total=   2.2s\n",
            "[CV] boosting_type=goss, learning_rate=0.01, max_depth=5, metric=mae, num_iterations=500, objective=regression, random_state=12 \n",
            "[CV]  boosting_type=goss, learning_rate=0.01, max_depth=5, metric=mae, num_iterations=500, objective=regression, random_state=12, score=-0.318, total=   1.9s\n",
            "[CV] boosting_type=goss, learning_rate=0.01, max_depth=5, metric=mae, num_iterations=500, objective=regression, random_state=12 \n",
            "[CV]  boosting_type=goss, learning_rate=0.01, max_depth=5, metric=mae, num_iterations=500, objective=regression, random_state=12, score=-53.511, total=   2.4s\n",
            "[CV] boosting_type=goss, learning_rate=0.01, max_depth=5, metric=mae, num_iterations=500, objective=regression, random_state=12 \n",
            "[CV]  boosting_type=goss, learning_rate=0.01, max_depth=5, metric=mae, num_iterations=500, objective=regression, random_state=12, score=-1.491, total=   2.2s\n",
            "[CV] boosting_type=goss, learning_rate=0.01, max_depth=6, metric=mae, num_iterations=500, objective=regression, random_state=12 \n",
            "[CV]  boosting_type=goss, learning_rate=0.01, max_depth=6, metric=mae, num_iterations=500, objective=regression, random_state=12, score=-59.274, total=   2.4s\n",
            "[CV] boosting_type=goss, learning_rate=0.01, max_depth=6, metric=mae, num_iterations=500, objective=regression, random_state=12 \n",
            "[CV]  boosting_type=goss, learning_rate=0.01, max_depth=6, metric=mae, num_iterations=500, objective=regression, random_state=12, score=0.349, total=   2.4s\n",
            "[CV] boosting_type=goss, learning_rate=0.01, max_depth=6, metric=mae, num_iterations=500, objective=regression, random_state=12 \n",
            "[CV]  boosting_type=goss, learning_rate=0.01, max_depth=6, metric=mae, num_iterations=500, objective=regression, random_state=12, score=-0.132, total=   2.7s\n",
            "[CV] boosting_type=goss, learning_rate=0.01, max_depth=7, metric=mae, num_iterations=500, objective=regression, random_state=12 \n",
            "[CV]  boosting_type=goss, learning_rate=0.01, max_depth=7, metric=mae, num_iterations=500, objective=regression, random_state=12, score=0.446, total=   2.8s\n",
            "[CV] boosting_type=goss, learning_rate=0.01, max_depth=7, metric=mae, num_iterations=500, objective=regression, random_state=12 \n",
            "[CV]  boosting_type=goss, learning_rate=0.01, max_depth=7, metric=mae, num_iterations=500, objective=regression, random_state=12, score=0.172, total=   3.4s\n",
            "[CV] boosting_type=goss, learning_rate=0.01, max_depth=7, metric=mae, num_iterations=500, objective=regression, random_state=12 \n",
            "[CV]  boosting_type=goss, learning_rate=0.01, max_depth=7, metric=mae, num_iterations=500, objective=regression, random_state=12, score=-27.838, total=   2.5s\n",
            "[CV] boosting_type=goss, learning_rate=0.01, max_depth=8, metric=mae, num_iterations=500, objective=regression, random_state=12 \n",
            "[CV]  boosting_type=goss, learning_rate=0.01, max_depth=8, metric=mae, num_iterations=500, objective=regression, random_state=12, score=-11.714, total=   2.9s\n",
            "[CV] boosting_type=goss, learning_rate=0.01, max_depth=8, metric=mae, num_iterations=500, objective=regression, random_state=12 \n",
            "[CV]  boosting_type=goss, learning_rate=0.01, max_depth=8, metric=mae, num_iterations=500, objective=regression, random_state=12, score=-41.320, total=   2.8s\n",
            "[CV] boosting_type=goss, learning_rate=0.01, max_depth=8, metric=mae, num_iterations=500, objective=regression, random_state=12 \n",
            "[CV]  boosting_type=goss, learning_rate=0.01, max_depth=8, metric=mae, num_iterations=500, objective=regression, random_state=12, score=-1.606, total=   3.0s\n",
            "[CV] boosting_type=goss, learning_rate=0.01, max_depth=9, metric=mae, num_iterations=500, objective=regression, random_state=12 \n",
            "[CV]  boosting_type=goss, learning_rate=0.01, max_depth=9, metric=mae, num_iterations=500, objective=regression, random_state=12, score=-126.289, total=   2.7s\n",
            "[CV] boosting_type=goss, learning_rate=0.01, max_depth=9, metric=mae, num_iterations=500, objective=regression, random_state=12 \n",
            "[CV]  boosting_type=goss, learning_rate=0.01, max_depth=9, metric=mae, num_iterations=500, objective=regression, random_state=12, score=-19.758, total=   2.7s\n",
            "[CV] boosting_type=goss, learning_rate=0.01, max_depth=9, metric=mae, num_iterations=500, objective=regression, random_state=12 \n",
            "[CV]  boosting_type=goss, learning_rate=0.01, max_depth=9, metric=mae, num_iterations=500, objective=regression, random_state=12, score=-0.311, total=   3.0s\n",
            "[CV] boosting_type=goss, learning_rate=0.02, max_depth=2, metric=mae, num_iterations=500, objective=regression, random_state=12 \n",
            "[CV]  boosting_type=goss, learning_rate=0.02, max_depth=2, metric=mae, num_iterations=500, objective=regression, random_state=12, score=-67465824681.067, total=   0.8s\n",
            "[CV] boosting_type=goss, learning_rate=0.02, max_depth=2, metric=mae, num_iterations=500, objective=regression, random_state=12 \n",
            "[CV]  boosting_type=goss, learning_rate=0.02, max_depth=2, metric=mae, num_iterations=500, objective=regression, random_state=12, score=-1112343867511537.500, total=   0.9s\n",
            "[CV] boosting_type=goss, learning_rate=0.02, max_depth=2, metric=mae, num_iterations=500, objective=regression, random_state=12 \n",
            "[CV]  boosting_type=goss, learning_rate=0.02, max_depth=2, metric=mae, num_iterations=500, objective=regression, random_state=12, score=-2058513842.814, total=   1.0s\n",
            "[CV] boosting_type=goss, learning_rate=0.02, max_depth=3, metric=mae, num_iterations=500, objective=regression, random_state=12 \n",
            "[CV]  boosting_type=goss, learning_rate=0.02, max_depth=3, metric=mae, num_iterations=500, objective=regression, random_state=12, score=0.372, total=   1.1s\n",
            "[CV] boosting_type=goss, learning_rate=0.02, max_depth=3, metric=mae, num_iterations=500, objective=regression, random_state=12 \n",
            "[CV]  boosting_type=goss, learning_rate=0.02, max_depth=3, metric=mae, num_iterations=500, objective=regression, random_state=12, score=-3529414.515, total=   1.2s\n",
            "[CV] boosting_type=goss, learning_rate=0.02, max_depth=3, metric=mae, num_iterations=500, objective=regression, random_state=12 \n",
            "[CV]  boosting_type=goss, learning_rate=0.02, max_depth=3, metric=mae, num_iterations=500, objective=regression, random_state=12, score=-1693461.985, total=   1.3s\n",
            "[CV] boosting_type=goss, learning_rate=0.02, max_depth=4, metric=mae, num_iterations=500, objective=regression, random_state=12 \n",
            "[CV]  boosting_type=goss, learning_rate=0.02, max_depth=4, metric=mae, num_iterations=500, objective=regression, random_state=12, score=-4.922, total=   1.6s\n",
            "[CV] boosting_type=goss, learning_rate=0.02, max_depth=4, metric=mae, num_iterations=500, objective=regression, random_state=12 \n",
            "[CV]  boosting_type=goss, learning_rate=0.02, max_depth=4, metric=mae, num_iterations=500, objective=regression, random_state=12, score=-181222.703, total=   2.0s\n",
            "[CV] boosting_type=goss, learning_rate=0.02, max_depth=4, metric=mae, num_iterations=500, objective=regression, random_state=12 \n",
            "[CV]  boosting_type=goss, learning_rate=0.02, max_depth=4, metric=mae, num_iterations=500, objective=regression, random_state=12, score=-3384569919.708, total=   1.5s\n",
            "[CV] boosting_type=goss, learning_rate=0.02, max_depth=5, metric=mae, num_iterations=500, objective=regression, random_state=12 \n",
            "[CV]  boosting_type=goss, learning_rate=0.02, max_depth=5, metric=mae, num_iterations=500, objective=regression, random_state=12, score=-1.306, total=   1.9s\n",
            "[CV] boosting_type=goss, learning_rate=0.02, max_depth=5, metric=mae, num_iterations=500, objective=regression, random_state=12 \n",
            "[CV]  boosting_type=goss, learning_rate=0.02, max_depth=5, metric=mae, num_iterations=500, objective=regression, random_state=12, score=-45.418, total=   2.4s\n",
            "[CV] boosting_type=goss, learning_rate=0.02, max_depth=5, metric=mae, num_iterations=500, objective=regression, random_state=12 \n",
            "[CV]  boosting_type=goss, learning_rate=0.02, max_depth=5, metric=mae, num_iterations=500, objective=regression, random_state=12, score=-831229.687, total=   2.0s\n",
            "[CV] boosting_type=goss, learning_rate=0.02, max_depth=6, metric=mae, num_iterations=500, objective=regression, random_state=12 \n",
            "[CV]  boosting_type=goss, learning_rate=0.02, max_depth=6, metric=mae, num_iterations=500, objective=regression, random_state=12, score=-979821.026, total=   2.3s\n",
            "[CV] boosting_type=goss, learning_rate=0.02, max_depth=6, metric=mae, num_iterations=500, objective=regression, random_state=12 \n",
            "[CV]  boosting_type=goss, learning_rate=0.02, max_depth=6, metric=mae, num_iterations=500, objective=regression, random_state=12, score=-41590801.772, total=   2.4s\n",
            "[CV] boosting_type=goss, learning_rate=0.02, max_depth=6, metric=mae, num_iterations=500, objective=regression, random_state=12 \n",
            "[CV]  boosting_type=goss, learning_rate=0.02, max_depth=6, metric=mae, num_iterations=500, objective=regression, random_state=12, score=-866121.297, total=   2.3s\n",
            "[CV] boosting_type=goss, learning_rate=0.02, max_depth=7, metric=mae, num_iterations=500, objective=regression, random_state=12 \n",
            "[CV]  boosting_type=goss, learning_rate=0.02, max_depth=7, metric=mae, num_iterations=500, objective=regression, random_state=12, score=-2076.811, total=   2.2s\n",
            "[CV] boosting_type=goss, learning_rate=0.02, max_depth=7, metric=mae, num_iterations=500, objective=regression, random_state=12 \n",
            "[CV]  boosting_type=goss, learning_rate=0.02, max_depth=7, metric=mae, num_iterations=500, objective=regression, random_state=12, score=-298302616.760, total=   2.7s\n",
            "[CV] boosting_type=goss, learning_rate=0.02, max_depth=7, metric=mae, num_iterations=500, objective=regression, random_state=12 \n",
            "[CV]  boosting_type=goss, learning_rate=0.02, max_depth=7, metric=mae, num_iterations=500, objective=regression, random_state=12, score=-13474120.443, total=   2.3s\n",
            "[CV] boosting_type=goss, learning_rate=0.02, max_depth=8, metric=mae, num_iterations=500, objective=regression, random_state=12 \n",
            "[CV]  boosting_type=goss, learning_rate=0.02, max_depth=8, metric=mae, num_iterations=500, objective=regression, random_state=12, score=-87670677.224, total=   2.4s\n",
            "[CV] boosting_type=goss, learning_rate=0.02, max_depth=8, metric=mae, num_iterations=500, objective=regression, random_state=12 \n",
            "[CV]  boosting_type=goss, learning_rate=0.02, max_depth=8, metric=mae, num_iterations=500, objective=regression, random_state=12, score=-23067579666596646059329454080.000, total=   2.4s\n",
            "[CV] boosting_type=goss, learning_rate=0.02, max_depth=8, metric=mae, num_iterations=500, objective=regression, random_state=12 \n",
            "[CV]  boosting_type=goss, learning_rate=0.02, max_depth=8, metric=mae, num_iterations=500, objective=regression, random_state=12, score=-1056.406, total=   2.7s\n",
            "[CV] boosting_type=goss, learning_rate=0.02, max_depth=9, metric=mae, num_iterations=500, objective=regression, random_state=12 \n",
            "[CV]  boosting_type=goss, learning_rate=0.02, max_depth=9, metric=mae, num_iterations=500, objective=regression, random_state=12, score=-25.889, total=   2.2s\n",
            "[CV] boosting_type=goss, learning_rate=0.02, max_depth=9, metric=mae, num_iterations=500, objective=regression, random_state=12 \n",
            "[CV]  boosting_type=goss, learning_rate=0.02, max_depth=9, metric=mae, num_iterations=500, objective=regression, random_state=12, score=-0.677, total=   3.1s\n",
            "[CV] boosting_type=goss, learning_rate=0.02, max_depth=9, metric=mae, num_iterations=500, objective=regression, random_state=12 \n",
            "[CV]  boosting_type=goss, learning_rate=0.02, max_depth=9, metric=mae, num_iterations=500, objective=regression, random_state=12, score=-9976948.050, total=   2.6s\n",
            "[Parallel(n_jobs=1)]: Done 144 out of 144 | elapsed:  8.9min finished\n",
            "Fitting 3 folds for each of 2 candidates, totalling 6 fits\n",
            "[Parallel(n_jobs=1)]: Using backend SequentialBackend with 1 concurrent workers.\n",
            "[CV] normalize=True ..................................................\n",
            "[CV] ..................... normalize=True, score=-1.276, total=   0.1s\n",
            "[Parallel(n_jobs=1)]: Done   1 out of   1 | elapsed:    0.1s remaining:    0.0s\n",
            "[CV] normalize=True ..................................................\n",
            "[CV] ...................... normalize=True, score=0.061, total=   0.2s\n",
            "[Parallel(n_jobs=1)]: Done   2 out of   2 | elapsed:    0.3s remaining:    0.0s\n",
            "[CV] normalize=True ..................................................\n",
            "[CV] ...................... normalize=True, score=0.167, total=   0.1s\n",
            "[Parallel(n_jobs=1)]: Done   3 out of   3 | elapsed:    0.4s remaining:    0.0s\n",
            "[CV] normalize=False .................................................\n",
            "[CV] .................... normalize=False, score=-1.276, total=   0.1s\n",
            "[Parallel(n_jobs=1)]: Done   4 out of   4 | elapsed:    0.6s remaining:    0.0s\n",
            "[CV] normalize=False .................................................\n",
            "[CV] ..................... normalize=False, score=0.061, total=   0.1s\n",
            "[Parallel(n_jobs=1)]: Done   5 out of   5 | elapsed:    0.7s remaining:    0.0s\n",
            "[CV] normalize=False .................................................\n",
            "[CV] ..................... normalize=False, score=0.167, total=   0.3s\n",
            "[Parallel(n_jobs=1)]: Done   6 out of   6 | elapsed:    1.0s remaining:    0.0s\n",
            "[Parallel(n_jobs=1)]: Done   6 out of   6 | elapsed:    1.0s finished\n"
          ]
        }
      ],
      "source": [
        "model_fit(features_train, target_train)"
      ]
    },
    {
      "cell_type": "code",
      "execution_count": null,
      "metadata": {
        "id": "13uG8TJf5Ayl",
        "outputId": "d9e3136c-9c3f-4f02-85b3-e8807b9ef906"
      },
      "outputs": [
        {
          "data": {
            "text/html": [
              "<div>\n",
              "<style scoped>\n",
              "    .dataframe tbody tr th:only-of-type {\n",
              "        vertical-align: middle;\n",
              "    }\n",
              "\n",
              "    .dataframe tbody tr th {\n",
              "        vertical-align: top;\n",
              "    }\n",
              "\n",
              "    .dataframe thead th {\n",
              "        text-align: right;\n",
              "    }\n",
              "</style>\n",
              "<table border=\"1\" class=\"dataframe\">\n",
              "  <thead>\n",
              "    <tr style=\"text-align: right;\">\n",
              "      <th></th>\n",
              "      <th>model</th>\n",
              "      <th>mae_score</th>\n",
              "      <th>best_params</th>\n",
              "    </tr>\n",
              "  </thead>\n",
              "  <tbody>\n",
              "    <tr>\n",
              "      <td>0</td>\n",
              "      <td>CatBoostRegressor</td>\n",
              "      <td>4.917119</td>\n",
              "      <td>{'depth': 4, 'learning_rate': 0.05, 'loss_func...</td>\n",
              "    </tr>\n",
              "    <tr>\n",
              "      <td>1</td>\n",
              "      <td>LGBMRegressor</td>\n",
              "      <td>5.647758</td>\n",
              "      <td>{'boosting_type': 'gbdt', 'learning_rate': 0.0...</td>\n",
              "    </tr>\n",
              "    <tr>\n",
              "      <td>2</td>\n",
              "      <td>LinearRegression</td>\n",
              "      <td>6.334170</td>\n",
              "      <td>{'normalize': False}</td>\n",
              "    </tr>\n",
              "  </tbody>\n",
              "</table>\n",
              "</div>"
            ],
            "text/plain": [
              "               model  mae_score  \\\n",
              "0  CatBoostRegressor   4.917119   \n",
              "1      LGBMRegressor   5.647758   \n",
              "2   LinearRegression   6.334170   \n",
              "\n",
              "                                         best_params  \n",
              "0  {'depth': 4, 'learning_rate': 0.05, 'loss_func...  \n",
              "1  {'boosting_type': 'gbdt', 'learning_rate': 0.0...  \n",
              "2                               {'normalize': False}  "
            ]
          },
          "execution_count": 56,
          "metadata": {},
          "output_type": "execute_result"
        }
      ],
      "source": [
        "results = pd.DataFrame(results)\n",
        "results"
      ]
    },
    {
      "cell_type": "code",
      "execution_count": null,
      "metadata": {
        "id": "SN-_WEYm5Ayl"
      },
      "outputs": [],
      "source": [
        "best_result = {'depth': 4,\n",
        " 'learning_rate': 0.05,\n",
        " 'loss_function': 'MAE',\n",
        " 'n_estimators': 300,\n",
        " 'random_state': 123}"
      ]
    },
    {
      "cell_type": "markdown",
      "metadata": {
        "id": "nqxr9QAj5Ayl"
      },
      "source": [
        "Let's train the test set on the best CatBoostRegressor model."
      ]
    },
    {
      "cell_type": "code",
      "execution_count": null,
      "metadata": {
        "id": "Q0jxFNQU5Ayl"
      },
      "outputs": [],
      "source": [
        "model = CatBoostRegressor(**best_result)"
      ]
    },
    {
      "cell_type": "code",
      "execution_count": null,
      "metadata": {
        "id": "RQkgqH0W5Ayl",
        "outputId": "d6f9748a-966e-4ca5-8ad9-433ee33f2a41"
      },
      "outputs": [
        {
          "name": "stdout",
          "output_type": "stream",
          "text": [
            "0:\tlearn: 8.0184698\ttotal: 1.05ms\tremaining: 315ms\n",
            "1:\tlearn: 7.9476851\ttotal: 2.06ms\tremaining: 307ms\n",
            "2:\tlearn: 7.8478666\ttotal: 2.88ms\tremaining: 285ms\n",
            "3:\tlearn: 7.7965741\ttotal: 4.61ms\tremaining: 341ms\n",
            "4:\tlearn: 7.7478798\ttotal: 6.37ms\tremaining: 376ms\n",
            "5:\tlearn: 7.6969727\ttotal: 8.14ms\tremaining: 399ms\n",
            "6:\tlearn: 7.6354943\ttotal: 9.05ms\tremaining: 379ms\n",
            "7:\tlearn: 7.5495875\ttotal: 9.95ms\tremaining: 363ms\n",
            "8:\tlearn: 7.4548702\ttotal: 11.6ms\tremaining: 376ms\n",
            "9:\tlearn: 7.4078855\ttotal: 13.3ms\tremaining: 386ms\n",
            "10:\tlearn: 7.3520843\ttotal: 35.3ms\tremaining: 927ms\n",
            "11:\tlearn: 7.2919202\ttotal: 36.4ms\tremaining: 873ms\n",
            "12:\tlearn: 7.2544932\ttotal: 37.3ms\tremaining: 824ms\n",
            "13:\tlearn: 7.2068112\ttotal: 38.3ms\tremaining: 783ms\n",
            "14:\tlearn: 7.1678287\ttotal: 39.2ms\tremaining: 746ms\n",
            "15:\tlearn: 7.1371742\ttotal: 40.1ms\tremaining: 713ms\n",
            "16:\tlearn: 7.1112169\ttotal: 41.1ms\tremaining: 684ms\n",
            "17:\tlearn: 7.0666157\ttotal: 41.9ms\tremaining: 657ms\n",
            "18:\tlearn: 7.0177671\ttotal: 42.8ms\tremaining: 634ms\n",
            "19:\tlearn: 6.9786851\ttotal: 44.8ms\tremaining: 627ms\n",
            "20:\tlearn: 6.9534826\ttotal: 45.6ms\tremaining: 606ms\n",
            "21:\tlearn: 6.9261377\ttotal: 46.8ms\tremaining: 591ms\n",
            "22:\tlearn: 6.8870476\ttotal: 48.1ms\tremaining: 579ms\n",
            "23:\tlearn: 6.8531058\ttotal: 131ms\tremaining: 1.51s\n",
            "24:\tlearn: 6.8077415\ttotal: 132ms\tremaining: 1.45s\n",
            "25:\tlearn: 6.7835252\ttotal: 133ms\tremaining: 1.4s\n",
            "26:\tlearn: 6.7557772\ttotal: 134ms\tremaining: 1.35s\n",
            "27:\tlearn: 6.7249087\ttotal: 135ms\tremaining: 1.31s\n",
            "28:\tlearn: 6.6901330\ttotal: 136ms\tremaining: 1.27s\n",
            "29:\tlearn: 6.6617553\ttotal: 136ms\tremaining: 1.23s\n",
            "30:\tlearn: 6.6437646\ttotal: 137ms\tremaining: 1.19s\n",
            "31:\tlearn: 6.6072141\ttotal: 138ms\tremaining: 1.16s\n",
            "32:\tlearn: 6.5833234\ttotal: 139ms\tremaining: 1.12s\n",
            "33:\tlearn: 6.5728422\ttotal: 140ms\tremaining: 1.09s\n",
            "34:\tlearn: 6.5622014\ttotal: 141ms\tremaining: 1.06s\n",
            "35:\tlearn: 6.5417097\ttotal: 141ms\tremaining: 1.04s\n",
            "36:\tlearn: 6.5210274\ttotal: 227ms\tremaining: 1.61s\n",
            "37:\tlearn: 6.5059392\ttotal: 228ms\tremaining: 1.57s\n",
            "38:\tlearn: 6.4737532\ttotal: 229ms\tremaining: 1.53s\n",
            "39:\tlearn: 6.4397795\ttotal: 230ms\tremaining: 1.5s\n",
            "40:\tlearn: 6.4154131\ttotal: 231ms\tremaining: 1.46s\n",
            "41:\tlearn: 6.3901760\ttotal: 232ms\tremaining: 1.42s\n",
            "42:\tlearn: 6.3688120\ttotal: 233ms\tremaining: 1.39s\n",
            "43:\tlearn: 6.3499694\ttotal: 234ms\tremaining: 1.36s\n",
            "44:\tlearn: 6.3405695\ttotal: 234ms\tremaining: 1.33s\n",
            "45:\tlearn: 6.3127722\ttotal: 235ms\tremaining: 1.3s\n",
            "46:\tlearn: 6.3011850\ttotal: 236ms\tremaining: 1.27s\n",
            "47:\tlearn: 6.2935783\ttotal: 237ms\tremaining: 1.24s\n",
            "48:\tlearn: 6.2771823\ttotal: 238ms\tremaining: 1.22s\n",
            "49:\tlearn: 6.2519597\ttotal: 323ms\tremaining: 1.61s\n",
            "50:\tlearn: 6.2390563\ttotal: 324ms\tremaining: 1.58s\n",
            "51:\tlearn: 6.2226361\ttotal: 325ms\tremaining: 1.55s\n",
            "52:\tlearn: 6.2091904\ttotal: 326ms\tremaining: 1.52s\n",
            "53:\tlearn: 6.1935321\ttotal: 327ms\tremaining: 1.49s\n",
            "54:\tlearn: 6.1730755\ttotal: 328ms\tremaining: 1.46s\n",
            "55:\tlearn: 6.1582940\ttotal: 328ms\tremaining: 1.43s\n",
            "56:\tlearn: 6.1397009\ttotal: 329ms\tremaining: 1.4s\n",
            "57:\tlearn: 6.1320622\ttotal: 330ms\tremaining: 1.38s\n",
            "58:\tlearn: 6.1257204\ttotal: 331ms\tremaining: 1.35s\n",
            "59:\tlearn: 6.1127246\ttotal: 332ms\tremaining: 1.33s\n",
            "60:\tlearn: 6.0965697\ttotal: 333ms\tremaining: 1.3s\n",
            "61:\tlearn: 6.0901516\ttotal: 334ms\tremaining: 1.28s\n",
            "62:\tlearn: 6.0741415\ttotal: 418ms\tremaining: 1.57s\n",
            "63:\tlearn: 6.0663004\ttotal: 420ms\tremaining: 1.55s\n",
            "64:\tlearn: 6.0477516\ttotal: 421ms\tremaining: 1.52s\n",
            "65:\tlearn: 6.0373697\ttotal: 422ms\tremaining: 1.5s\n",
            "66:\tlearn: 6.0268273\ttotal: 423ms\tremaining: 1.47s\n",
            "67:\tlearn: 6.0173155\ttotal: 424ms\tremaining: 1.45s\n",
            "68:\tlearn: 6.0093590\ttotal: 424ms\tremaining: 1.42s\n",
            "69:\tlearn: 5.9983336\ttotal: 425ms\tremaining: 1.4s\n",
            "70:\tlearn: 5.9869265\ttotal: 427ms\tremaining: 1.38s\n",
            "71:\tlearn: 5.9808770\ttotal: 428ms\tremaining: 1.35s\n",
            "72:\tlearn: 5.9731367\ttotal: 429ms\tremaining: 1.33s\n",
            "73:\tlearn: 5.9675300\ttotal: 430ms\tremaining: 1.31s\n",
            "74:\tlearn: 5.9589529\ttotal: 514ms\tremaining: 1.54s\n",
            "75:\tlearn: 5.9555225\ttotal: 515ms\tremaining: 1.52s\n",
            "76:\tlearn: 5.9484141\ttotal: 516ms\tremaining: 1.49s\n",
            "77:\tlearn: 5.9372078\ttotal: 517ms\tremaining: 1.47s\n",
            "78:\tlearn: 5.9308963\ttotal: 518ms\tremaining: 1.45s\n",
            "79:\tlearn: 5.9262387\ttotal: 519ms\tremaining: 1.43s\n",
            "80:\tlearn: 5.9159210\ttotal: 520ms\tremaining: 1.4s\n",
            "81:\tlearn: 5.9055013\ttotal: 520ms\tremaining: 1.38s\n",
            "82:\tlearn: 5.8945322\ttotal: 521ms\tremaining: 1.36s\n",
            "83:\tlearn: 5.8825007\ttotal: 522ms\tremaining: 1.34s\n",
            "84:\tlearn: 5.8699178\ttotal: 523ms\tremaining: 1.32s\n",
            "85:\tlearn: 5.8610624\ttotal: 524ms\tremaining: 1.3s\n",
            "86:\tlearn: 5.8490085\ttotal: 525ms\tremaining: 1.28s\n",
            "87:\tlearn: 5.8441866\ttotal: 609ms\tremaining: 1.47s\n",
            "88:\tlearn: 5.8361979\ttotal: 610ms\tremaining: 1.45s\n",
            "89:\tlearn: 5.8314082\ttotal: 611ms\tremaining: 1.43s\n",
            "90:\tlearn: 5.8190488\ttotal: 613ms\tremaining: 1.41s\n",
            "91:\tlearn: 5.8125358\ttotal: 614ms\tremaining: 1.39s\n",
            "92:\tlearn: 5.8025811\ttotal: 616ms\tremaining: 1.37s\n",
            "93:\tlearn: 5.7972016\ttotal: 617ms\tremaining: 1.35s\n",
            "94:\tlearn: 5.7883343\ttotal: 618ms\tremaining: 1.33s\n",
            "95:\tlearn: 5.7836128\ttotal: 619ms\tremaining: 1.31s\n",
            "96:\tlearn: 5.7763790\ttotal: 620ms\tremaining: 1.3s\n",
            "97:\tlearn: 5.7706703\ttotal: 621ms\tremaining: 1.28s\n",
            "98:\tlearn: 5.7611582\ttotal: 627ms\tremaining: 1.27s\n",
            "99:\tlearn: 5.7573037\ttotal: 705ms\tremaining: 1.41s\n",
            "100:\tlearn: 5.7468853\ttotal: 706ms\tremaining: 1.39s\n",
            "101:\tlearn: 5.7409937\ttotal: 707ms\tremaining: 1.37s\n",
            "102:\tlearn: 5.7366138\ttotal: 708ms\tremaining: 1.35s\n",
            "103:\tlearn: 5.7289048\ttotal: 709ms\tremaining: 1.33s\n",
            "104:\tlearn: 5.7242511\ttotal: 710ms\tremaining: 1.32s\n",
            "105:\tlearn: 5.7200815\ttotal: 711ms\tremaining: 1.3s\n",
            "106:\tlearn: 5.7137527\ttotal: 711ms\tremaining: 1.28s\n",
            "107:\tlearn: 5.7060097\ttotal: 712ms\tremaining: 1.27s\n",
            "108:\tlearn: 5.7018495\ttotal: 713ms\tremaining: 1.25s\n",
            "109:\tlearn: 5.6970604\ttotal: 714ms\tremaining: 1.23s\n",
            "110:\tlearn: 5.6938299\ttotal: 715ms\tremaining: 1.22s\n",
            "111:\tlearn: 5.6900580\ttotal: 716ms\tremaining: 1.2s\n",
            "112:\tlearn: 5.6824603\ttotal: 801ms\tremaining: 1.33s\n",
            "113:\tlearn: 5.6804657\ttotal: 802ms\tremaining: 1.31s\n",
            "114:\tlearn: 5.6758631\ttotal: 803ms\tremaining: 1.29s\n",
            "115:\tlearn: 5.6737121\ttotal: 804ms\tremaining: 1.27s\n",
            "116:\tlearn: 5.6660348\ttotal: 806ms\tremaining: 1.26s\n",
            "117:\tlearn: 5.6607426\ttotal: 807ms\tremaining: 1.24s\n",
            "118:\tlearn: 5.6502489\ttotal: 808ms\tremaining: 1.23s\n",
            "119:\tlearn: 5.6446097\ttotal: 810ms\tremaining: 1.21s\n",
            "120:\tlearn: 5.6398787\ttotal: 811ms\tremaining: 1.2s\n",
            "121:\tlearn: 5.6380102\ttotal: 813ms\tremaining: 1.19s\n",
            "122:\tlearn: 5.6349014\ttotal: 898ms\tremaining: 1.29s\n",
            "123:\tlearn: 5.6251126\ttotal: 899ms\tremaining: 1.27s\n",
            "124:\tlearn: 5.6203330\ttotal: 900ms\tremaining: 1.26s\n",
            "125:\tlearn: 5.6155450\ttotal: 900ms\tremaining: 1.24s\n",
            "126:\tlearn: 5.6092312\ttotal: 901ms\tremaining: 1.23s\n",
            "127:\tlearn: 5.6047297\ttotal: 902ms\tremaining: 1.21s\n",
            "128:\tlearn: 5.5977694\ttotal: 903ms\tremaining: 1.2s\n",
            "129:\tlearn: 5.5908427\ttotal: 904ms\tremaining: 1.18s\n",
            "130:\tlearn: 5.5814723\ttotal: 905ms\tremaining: 1.17s\n",
            "131:\tlearn: 5.5760146\ttotal: 905ms\tremaining: 1.15s\n",
            "132:\tlearn: 5.5694179\ttotal: 906ms\tremaining: 1.14s\n",
            "133:\tlearn: 5.5649332\ttotal: 907ms\tremaining: 1.12s\n",
            "134:\tlearn: 5.5596524\ttotal: 913ms\tremaining: 1.12s\n",
            "135:\tlearn: 5.5543224\ttotal: 993ms\tremaining: 1.2s\n",
            "136:\tlearn: 5.5475787\ttotal: 994ms\tremaining: 1.18s\n",
            "137:\tlearn: 5.5421846\ttotal: 995ms\tremaining: 1.17s\n",
            "138:\tlearn: 5.5345055\ttotal: 996ms\tremaining: 1.15s\n",
            "139:\tlearn: 5.5258882\ttotal: 997ms\tremaining: 1.14s\n",
            "140:\tlearn: 5.5190853\ttotal: 998ms\tremaining: 1.13s\n",
            "141:\tlearn: 5.5149163\ttotal: 1000ms\tremaining: 1.11s\n",
            "142:\tlearn: 5.5085954\ttotal: 1s\tremaining: 1.1s\n",
            "143:\tlearn: 5.5049103\ttotal: 1s\tremaining: 1.08s\n",
            "144:\tlearn: 5.4988987\ttotal: 1s\tremaining: 1.07s\n",
            "145:\tlearn: 5.4945737\ttotal: 1s\tremaining: 1.06s\n",
            "146:\tlearn: 5.4897358\ttotal: 1.09s\tremaining: 1.13s\n",
            "147:\tlearn: 5.4832374\ttotal: 1.09s\tremaining: 1.12s\n",
            "148:\tlearn: 5.4768531\ttotal: 1.09s\tremaining: 1.1s\n",
            "149:\tlearn: 5.4723010\ttotal: 1.09s\tremaining: 1.09s\n",
            "150:\tlearn: 5.4688554\ttotal: 1.09s\tremaining: 1.08s\n",
            "151:\tlearn: 5.4618930\ttotal: 1.09s\tremaining: 1.06s\n",
            "152:\tlearn: 5.4581253\ttotal: 1.09s\tremaining: 1.05s\n",
            "153:\tlearn: 5.4527666\ttotal: 1.09s\tremaining: 1.04s\n",
            "154:\tlearn: 5.4494695\ttotal: 1.1s\tremaining: 1.02s\n",
            "155:\tlearn: 5.4437315\ttotal: 1.1s\tremaining: 1.01s\n",
            "156:\tlearn: 5.4397414\ttotal: 1.1s\tremaining: 1000ms\n",
            "157:\tlearn: 5.4335718\ttotal: 1.1s\tremaining: 992ms\n",
            "158:\tlearn: 5.4296429\ttotal: 1.18s\tremaining: 1.05s\n",
            "159:\tlearn: 5.4259069\ttotal: 1.19s\tremaining: 1.04s\n",
            "160:\tlearn: 5.4225093\ttotal: 1.19s\tremaining: 1.02s\n",
            "161:\tlearn: 5.4174943\ttotal: 1.19s\tremaining: 1.01s\n",
            "162:\tlearn: 5.4121454\ttotal: 1.19s\tremaining: 999ms\n",
            "163:\tlearn: 5.4058174\ttotal: 1.19s\tremaining: 986ms\n",
            "164:\tlearn: 5.4025523\ttotal: 1.19s\tremaining: 974ms\n",
            "165:\tlearn: 5.3988325\ttotal: 1.19s\tremaining: 963ms\n",
            "166:\tlearn: 5.3933003\ttotal: 1.19s\tremaining: 951ms\n",
            "167:\tlearn: 5.3863700\ttotal: 1.19s\tremaining: 939ms\n",
            "168:\tlearn: 5.3813366\ttotal: 1.2s\tremaining: 927ms\n",
            "169:\tlearn: 5.3765166\ttotal: 1.2s\tremaining: 915ms\n",
            "170:\tlearn: 5.3719451\ttotal: 1.2s\tremaining: 903ms\n",
            "171:\tlearn: 5.3694332\ttotal: 1.28s\tremaining: 953ms\n",
            "172:\tlearn: 5.3642746\ttotal: 1.28s\tremaining: 941ms\n",
            "173:\tlearn: 5.3583362\ttotal: 1.28s\tremaining: 928ms\n",
            "174:\tlearn: 5.3540061\ttotal: 1.28s\tremaining: 916ms\n",
            "175:\tlearn: 5.3505729\ttotal: 1.28s\tremaining: 904ms\n",
            "176:\tlearn: 5.3443227\ttotal: 1.28s\tremaining: 893ms\n",
            "177:\tlearn: 5.3390507\ttotal: 1.28s\tremaining: 881ms\n",
            "178:\tlearn: 5.3355771\ttotal: 1.29s\tremaining: 869ms\n",
            "179:\tlearn: 5.3311325\ttotal: 1.29s\tremaining: 858ms\n",
            "180:\tlearn: 5.3284989\ttotal: 1.29s\tremaining: 847ms\n",
            "181:\tlearn: 5.3223199\ttotal: 1.29s\tremaining: 836ms\n",
            "182:\tlearn: 5.3172012\ttotal: 1.29s\tremaining: 825ms\n",
            "183:\tlearn: 5.3142129\ttotal: 1.29s\tremaining: 814ms\n",
            "184:\tlearn: 5.3083828\ttotal: 1.38s\tremaining: 856ms\n",
            "185:\tlearn: 5.3017307\ttotal: 1.38s\tremaining: 844ms\n",
            "186:\tlearn: 5.2965950\ttotal: 1.38s\tremaining: 833ms\n",
            "187:\tlearn: 5.2898339\ttotal: 1.38s\tremaining: 822ms\n",
            "188:\tlearn: 5.2864653\ttotal: 1.38s\tremaining: 811ms\n",
            "189:\tlearn: 5.2830601\ttotal: 1.38s\tremaining: 800ms\n",
            "190:\tlearn: 5.2804562\ttotal: 1.38s\tremaining: 789ms\n",
            "191:\tlearn: 5.2755214\ttotal: 1.38s\tremaining: 778ms\n",
            "192:\tlearn: 5.2714638\ttotal: 1.38s\tremaining: 767ms\n",
            "193:\tlearn: 5.2656064\ttotal: 1.39s\tremaining: 757ms\n",
            "194:\tlearn: 5.2614624\ttotal: 1.39s\tremaining: 747ms\n",
            "195:\tlearn: 5.2583625\ttotal: 1.39s\tremaining: 736ms\n",
            "196:\tlearn: 5.2541247\ttotal: 1.47s\tremaining: 769ms\n",
            "197:\tlearn: 5.2497303\ttotal: 1.47s\tremaining: 759ms\n",
            "198:\tlearn: 5.2471947\ttotal: 1.47s\tremaining: 748ms\n",
            "199:\tlearn: 5.2427048\ttotal: 1.48s\tremaining: 738ms\n",
            "200:\tlearn: 5.2362736\ttotal: 1.48s\tremaining: 728ms\n",
            "201:\tlearn: 5.2322674\ttotal: 1.48s\tremaining: 717ms\n",
            "202:\tlearn: 5.2285770\ttotal: 1.48s\tremaining: 707ms\n",
            "203:\tlearn: 5.2265415\ttotal: 1.48s\tremaining: 697ms\n",
            "204:\tlearn: 5.2228884\ttotal: 1.48s\tremaining: 687ms\n",
            "205:\tlearn: 5.2188593\ttotal: 1.48s\tremaining: 676ms\n",
            "206:\tlearn: 5.2129623\ttotal: 1.48s\tremaining: 667ms\n",
            "207:\tlearn: 5.2088034\ttotal: 1.49s\tremaining: 657ms\n",
            "208:\tlearn: 5.2051788\ttotal: 1.49s\tremaining: 647ms\n",
            "209:\tlearn: 5.2021246\ttotal: 1.49s\tremaining: 637ms\n",
            "210:\tlearn: 5.1973944\ttotal: 1.57s\tremaining: 662ms\n",
            "211:\tlearn: 5.1912833\ttotal: 1.57s\tremaining: 652ms\n",
            "212:\tlearn: 5.1869251\ttotal: 1.57s\tremaining: 642ms\n",
            "213:\tlearn: 5.1840555\ttotal: 1.57s\tremaining: 633ms\n",
            "214:\tlearn: 5.1796669\ttotal: 1.58s\tremaining: 623ms\n",
            "215:\tlearn: 5.1753518\ttotal: 1.58s\tremaining: 614ms\n",
            "216:\tlearn: 5.1739167\ttotal: 1.58s\tremaining: 605ms\n",
            "217:\tlearn: 5.1724675\ttotal: 1.58s\tremaining: 596ms\n",
            "218:\tlearn: 5.1676438\ttotal: 1.58s\tremaining: 587ms\n",
            "219:\tlearn: 5.1624800\ttotal: 1.59s\tremaining: 577ms\n",
            "220:\tlearn: 5.1578830\ttotal: 1.59s\tremaining: 568ms\n",
            "221:\tlearn: 5.1553140\ttotal: 1.66s\tremaining: 585ms\n",
            "222:\tlearn: 5.1521472\ttotal: 1.66s\tremaining: 575ms\n",
            "223:\tlearn: 5.1487581\ttotal: 1.67s\tremaining: 565ms\n",
            "224:\tlearn: 5.1459306\ttotal: 1.67s\tremaining: 556ms\n",
            "225:\tlearn: 5.1419520\ttotal: 1.67s\tremaining: 546ms\n",
            "226:\tlearn: 5.1383496\ttotal: 1.67s\tremaining: 537ms\n",
            "227:\tlearn: 5.1338458\ttotal: 1.67s\tremaining: 528ms\n",
            "228:\tlearn: 5.1310080\ttotal: 1.67s\tremaining: 518ms\n",
            "229:\tlearn: 5.1279766\ttotal: 1.67s\tremaining: 509ms\n",
            "230:\tlearn: 5.1269342\ttotal: 1.67s\tremaining: 500ms\n",
            "231:\tlearn: 5.1250968\ttotal: 1.68s\tremaining: 491ms\n",
            "232:\tlearn: 5.1205062\ttotal: 1.68s\tremaining: 484ms\n",
            "233:\tlearn: 5.1180062\ttotal: 1.76s\tremaining: 496ms\n",
            "234:\tlearn: 5.1149489\ttotal: 1.76s\tremaining: 487ms\n",
            "235:\tlearn: 5.1114185\ttotal: 1.76s\tremaining: 478ms\n",
            "236:\tlearn: 5.1090407\ttotal: 1.76s\tremaining: 469ms\n",
            "237:\tlearn: 5.1032880\ttotal: 1.76s\tremaining: 459ms\n",
            "238:\tlearn: 5.0987442\ttotal: 1.76s\tremaining: 450ms\n",
            "239:\tlearn: 5.0944992\ttotal: 1.76s\tremaining: 441ms\n",
            "240:\tlearn: 5.0923629\ttotal: 1.76s\tremaining: 432ms\n",
            "241:\tlearn: 5.0902408\ttotal: 1.77s\tremaining: 423ms\n",
            "242:\tlearn: 5.0872879\ttotal: 1.77s\tremaining: 415ms\n",
            "243:\tlearn: 5.0845792\ttotal: 1.77s\tremaining: 406ms\n",
            "244:\tlearn: 5.0836690\ttotal: 1.77s\tremaining: 397ms\n",
            "245:\tlearn: 5.0795098\ttotal: 1.77s\tremaining: 389ms\n",
            "246:\tlearn: 5.0758376\ttotal: 1.77s\tremaining: 380ms\n",
            "247:\tlearn: 5.0741279\ttotal: 1.86s\tremaining: 389ms\n",
            "248:\tlearn: 5.0703894\ttotal: 1.86s\tremaining: 380ms\n",
            "249:\tlearn: 5.0678011\ttotal: 1.86s\tremaining: 372ms\n",
            "250:\tlearn: 5.0646601\ttotal: 1.86s\tremaining: 363ms\n",
            "251:\tlearn: 5.0607973\ttotal: 1.86s\tremaining: 354ms\n",
            "252:\tlearn: 5.0592526\ttotal: 1.86s\tremaining: 346ms\n",
            "253:\tlearn: 5.0545616\ttotal: 1.86s\tremaining: 337ms\n",
            "254:\tlearn: 5.0500932\ttotal: 1.86s\tremaining: 329ms\n",
            "255:\tlearn: 5.0472318\ttotal: 1.86s\tremaining: 320ms\n",
            "256:\tlearn: 5.0447709\ttotal: 1.86s\tremaining: 312ms\n",
            "257:\tlearn: 5.0397452\ttotal: 1.87s\tremaining: 304ms\n",
            "258:\tlearn: 5.0355745\ttotal: 1.87s\tremaining: 296ms\n",
            "259:\tlearn: 5.0327965\ttotal: 1.87s\tremaining: 288ms\n",
            "260:\tlearn: 5.0307442\ttotal: 1.95s\tremaining: 292ms\n",
            "261:\tlearn: 5.0267806\ttotal: 1.95s\tremaining: 283ms\n",
            "262:\tlearn: 5.0234886\ttotal: 1.95s\tremaining: 275ms\n",
            "263:\tlearn: 5.0207360\ttotal: 1.95s\tremaining: 267ms\n",
            "264:\tlearn: 5.0165400\ttotal: 1.96s\tremaining: 258ms\n",
            "265:\tlearn: 5.0137032\ttotal: 1.96s\tremaining: 250ms\n",
            "266:\tlearn: 5.0124910\ttotal: 1.96s\tremaining: 242ms\n",
            "267:\tlearn: 5.0099091\ttotal: 1.96s\tremaining: 234ms\n",
            "268:\tlearn: 5.0069183\ttotal: 1.96s\tremaining: 226ms\n",
            "269:\tlearn: 5.0048491\ttotal: 1.96s\tremaining: 218ms\n",
            "270:\tlearn: 5.0026881\ttotal: 1.96s\tremaining: 210ms\n",
            "271:\tlearn: 4.9996583\ttotal: 1.96s\tremaining: 202ms\n",
            "272:\tlearn: 4.9968791\ttotal: 2.05s\tremaining: 202ms\n",
            "273:\tlearn: 4.9933919\ttotal: 2.05s\tremaining: 194ms\n",
            "274:\tlearn: 4.9907184\ttotal: 2.05s\tremaining: 186ms\n",
            "275:\tlearn: 4.9875344\ttotal: 2.05s\tremaining: 178ms\n",
            "276:\tlearn: 4.9838943\ttotal: 2.05s\tremaining: 170ms\n",
            "277:\tlearn: 4.9783194\ttotal: 2.05s\tremaining: 163ms\n",
            "278:\tlearn: 4.9769173\ttotal: 2.05s\tremaining: 155ms\n",
            "279:\tlearn: 4.9749046\ttotal: 2.06s\tremaining: 147ms\n",
            "280:\tlearn: 4.9729232\ttotal: 2.06s\tremaining: 139ms\n",
            "281:\tlearn: 4.9703691\ttotal: 2.06s\tremaining: 131ms\n",
            "282:\tlearn: 4.9650153\ttotal: 2.06s\tremaining: 124ms\n",
            "283:\tlearn: 4.9635334\ttotal: 2.06s\tremaining: 116ms\n",
            "284:\tlearn: 4.9600532\ttotal: 2.14s\tremaining: 113ms\n",
            "285:\tlearn: 4.9573605\ttotal: 2.14s\tremaining: 105ms\n",
            "286:\tlearn: 4.9547444\ttotal: 2.15s\tremaining: 97.2ms\n",
            "287:\tlearn: 4.9521285\ttotal: 2.15s\tremaining: 89.4ms\n",
            "288:\tlearn: 4.9501592\ttotal: 2.15s\tremaining: 81.7ms\n",
            "289:\tlearn: 4.9476448\ttotal: 2.15s\tremaining: 74.1ms\n",
            "290:\tlearn: 4.9456701\ttotal: 2.15s\tremaining: 66.5ms\n",
            "291:\tlearn: 4.9425018\ttotal: 2.15s\tremaining: 58.9ms\n",
            "292:\tlearn: 4.9398803\ttotal: 2.15s\tremaining: 51.4ms\n",
            "293:\tlearn: 4.9372712\ttotal: 2.15s\tremaining: 43.9ms\n",
            "294:\tlearn: 4.9348717\ttotal: 2.15s\tremaining: 36.5ms\n",
            "295:\tlearn: 4.9293980\ttotal: 2.15s\tremaining: 29.1ms\n",
            "296:\tlearn: 4.9260751\ttotal: 2.15s\tremaining: 21.8ms\n",
            "297:\tlearn: 4.9235536\ttotal: 2.24s\tremaining: 15ms\n",
            "298:\tlearn: 4.9202751\ttotal: 2.24s\tremaining: 7.5ms\n",
            "299:\tlearn: 4.9171178\ttotal: 2.24s\tremaining: 0us\n"
          ]
        }
      ],
      "source": [
        "model.fit(features_train, target_train)\n",
        "pred_test = model.predict(features_test)"
      ]
    },
    {
      "cell_type": "code",
      "execution_count": null,
      "metadata": {
        "id": "iuKjiGAX5Ayl",
        "outputId": "b09bec60-a7a1-4f22-8c7c-17e76ab87a51"
      },
      "outputs": [
        {
          "name": "stdout",
          "output_type": "stream",
          "text": [
            "Итоговое значение MAE на тестовой выборке: 6.05\n"
          ]
        }
      ],
      "source": [
        "print('Итоговое значение MAE на тестовой выборке:', round(mean_absolute_error(pred_test,target_test), 2))"
      ]
    },
    {
      "cell_type": "markdown",
      "metadata": {
        "id": "PAErfrbt5Aym"
      },
      "source": [
        "We got the final value of MAE (6.05). It satisfies the customer's request."
      ]
    },
    {
      "cell_type": "markdown",
      "metadata": {
        "id": "xtLEY50e5Aym"
      },
      "source": [
        "Next, let's check which features are most important for predicting temperature."
      ]
    },
    {
      "cell_type": "code",
      "execution_count": null,
      "metadata": {
        "id": "haKCoB-t5Aym"
      },
      "outputs": [],
      "source": [
        "feature_importance = model.get_feature_importance(prettified=True).sort_values(by='Importances', ascending=True)"
      ]
    },
    {
      "cell_type": "code",
      "execution_count": null,
      "metadata": {
        "id": "RuIC4t3D5Aym",
        "outputId": "c7e9df54-15c7-4ddb-ccbc-bb173b4d9fea"
      },
      "outputs": [
        {
          "data": {
            "image/png": "[encoded data removed]",
            "text/plain": [
              "<Figure size 1080x576 with 1 Axes>"
            ]
          },
          "metadata": {
            "needs_background": "light"
          },
          "output_type": "display_data"
        }
      ],
      "source": [
        "fig, ax = plt.subplots(figsize =(15, 8))\n",
        "ax.barh(feature_importance['Feature Id'], feature_importance['Importances'], alpha=0.5)\n",
        "ax.grid(color='gray', linestyle='dashed', alpha=0.3)\n",
        "for i in ax.patches:\n",
        "    plt.text(i.get_width()+0.2, i.get_y()+0.2, \n",
        "             str(round((i.get_width()), 2)), \n",
        "             fontsize = 10, color ='dimgray')"
      ]
    },
    {
      "cell_type": "markdown",
      "metadata": {
        "id": "GdnALuDX5Ayn"
      },
      "source": [
        "### Results of model training and testing"
      ]
    },
    {
      "cell_type": "markdown",
      "metadata": {
        "id": "75Y4C44f5Ayn"
      },
      "source": [
        "- Tested 3 models on the training set: CatBoostRegressor, LGBMRegressor, LinearRegressing;\n",
        "- The CatBoostRegressor model was trained on the selected best hyperparameters;\n",
        "- Got the final metric MAE = 6.05\n",
        "- Determined the features + stages that have the greatest impact on the final temperature. With the exception of the characteristics Inlet temperature and Apparent power, the following 3 stages have the greatest influence on the outlet temperature:\n",
        "     1. Adding wire material 1;\n",
        "     2. Adding bulk material 14;\n",
        "     3. Adding bulk material 15."
      ]
    },
    {
      "cell_type": "markdown",
      "metadata": {
        "id": "fGmuE12R5Ayn"
      },
      "source": [
        "## Conclusion"
      ]
    },
    {
      "cell_type": "markdown",
      "metadata": {
        "id": "eCEn6HI85Ayn"
      },
      "source": [
        "<a id=\"cell3\"></a>\n",
        "**Current problem:**\n",
        "\n",
        "Build a model that will predict the outlet temperature of the steel. Thus, it is planned to solve the problem of overheating and, accordingly, excessive consumption of electricity.\n",
        "    \n",
        "**Result:**\n",
        "\n",
        "Based on the data received from the client on technological processes and step-by-step measurements of key\n",
        "characteristics, the CatBoostRegressor model was trained. The mean sum of the absolute difference between the actual value of the final temperature and its predicted value (MAE metric - mean absolute error) was 6.05 (°C).\n",
        "\n",
        "The stages that have the greatest impact on the outlet temperature are determined. Presumably, they should be paid attention to when further changing the production cycle to reduce power consumption.\n",
        "\n",
        "**Additional totals:**\n",
        "\n",
        "In accordance with the approved plan, all tasks were completed.\n",
        "\n",
        "Difficulties that arose and ways to solve them: correlating signs of power were combined into one according to physical laws; data without a target feature was excluded from the training data set as unsuitable.\n",
        "\n",
        "Key steps to solving the problem: high-quality data preprocessing, selection of parameters."
      ]
    }
  ],
  "metadata": {
    "ExecuteTimeLog": [
      {
        "duration": 1848,
        "start_time": "2021-12-18T09:20:16.034Z"
      },
      {
        "duration": 199,
        "start_time": "2021-12-18T09:21:48.637Z"
      },
      {
        "duration": 17,
        "start_time": "2021-12-18T09:23:39.821Z"
      },
      {
        "duration": 16,
        "start_time": "2021-12-18T09:24:06.719Z"
      },
      {
        "duration": 13,
        "start_time": "2021-12-18T09:24:12.657Z"
      },
      {
        "duration": 14,
        "start_time": "2021-12-18T09:24:16.248Z"
      },
      {
        "duration": 20,
        "start_time": "2021-12-18T09:24:56.738Z"
      },
      {
        "duration": 13,
        "start_time": "2021-12-18T09:25:00.057Z"
      },
      {
        "duration": 13,
        "start_time": "2021-12-18T09:25:03.176Z"
      },
      {
        "duration": 14,
        "start_time": "2021-12-18T09:25:06.537Z"
      },
      {
        "duration": 37,
        "start_time": "2021-12-18T09:25:30.297Z"
      },
      {
        "duration": 43,
        "start_time": "2021-12-18T09:26:00.638Z"
      },
      {
        "duration": 39,
        "start_time": "2021-12-18T09:26:07.096Z"
      },
      {
        "duration": 56,
        "start_time": "2021-12-18T09:26:19.251Z"
      },
      {
        "duration": 69,
        "start_time": "2021-12-18T09:27:18.258Z"
      },
      {
        "duration": 68,
        "start_time": "2021-12-18T09:27:26.997Z"
      },
      {
        "duration": 68,
        "start_time": "2021-12-18T09:27:37.991Z"
      },
      {
        "duration": 66,
        "start_time": "2021-12-18T09:28:01.669Z"
      },
      {
        "duration": 5,
        "start_time": "2021-12-18T09:29:48.787Z"
      },
      {
        "duration": 699,
        "start_time": "2021-12-18T09:29:58.100Z"
      },
      {
        "duration": 244,
        "start_time": "2021-12-18T09:30:25.349Z"
      },
      {
        "duration": 244,
        "start_time": "2021-12-18T09:30:36.170Z"
      },
      {
        "duration": 6,
        "start_time": "2021-12-18T09:30:46.609Z"
      },
      {
        "duration": 82,
        "start_time": "2021-12-18T09:30:49.797Z"
      },
      {
        "duration": 5,
        "start_time": "2021-12-18T09:32:39.808Z"
      },
      {
        "duration": 67,
        "start_time": "2021-12-18T09:32:43.737Z"
      },
      {
        "duration": 65,
        "start_time": "2021-12-18T09:42:53.232Z"
      },
      {
        "duration": 5,
        "start_time": "2021-12-18T09:44:05.271Z"
      },
      {
        "duration": 61,
        "start_time": "2021-12-18T09:44:07.496Z"
      },
      {
        "duration": 369,
        "start_time": "2021-12-18T12:18:09.128Z"
      },
      {
        "duration": 1421,
        "start_time": "2021-12-18T12:18:20.967Z"
      },
      {
        "duration": -2728,
        "start_time": "2021-12-18T12:18:25.118Z"
      },
      {
        "duration": -2728,
        "start_time": "2021-12-18T12:18:25.121Z"
      },
      {
        "duration": -2728,
        "start_time": "2021-12-18T12:18:25.122Z"
      },
      {
        "duration": -2728,
        "start_time": "2021-12-18T12:18:25.123Z"
      },
      {
        "duration": 55,
        "start_time": "2021-12-18T12:18:39.587Z"
      },
      {
        "duration": 1259,
        "start_time": "2021-12-18T12:18:44.856Z"
      },
      {
        "duration": 187,
        "start_time": "2021-12-18T12:18:46.117Z"
      },
      {
        "duration": 4,
        "start_time": "2021-12-18T12:18:46.306Z"
      },
      {
        "duration": 50,
        "start_time": "2021-12-18T12:18:46.311Z"
      },
      {
        "duration": 10,
        "start_time": "2021-12-18T12:18:46.363Z"
      },
      {
        "duration": 5,
        "start_time": "2021-12-18T12:20:01.884Z"
      },
      {
        "duration": 205,
        "start_time": "2021-12-18T12:33:37.179Z"
      },
      {
        "duration": 227,
        "start_time": "2021-12-18T12:33:53.808Z"
      },
      {
        "duration": 239,
        "start_time": "2021-12-18T12:33:58.639Z"
      },
      {
        "duration": 6,
        "start_time": "2021-12-18T12:34:12.598Z"
      },
      {
        "duration": 238,
        "start_time": "2021-12-18T12:34:28.978Z"
      },
      {
        "duration": 387,
        "start_time": "2021-12-18T12:35:47.051Z"
      },
      {
        "duration": 749,
        "start_time": "2021-12-18T12:37:23.075Z"
      },
      {
        "duration": 634,
        "start_time": "2021-12-18T12:37:34.398Z"
      },
      {
        "duration": 389,
        "start_time": "2021-12-18T12:38:16.634Z"
      },
      {
        "duration": 398,
        "start_time": "2021-12-18T12:38:41.787Z"
      },
      {
        "duration": 223,
        "start_time": "2021-12-18T12:39:38.574Z"
      },
      {
        "duration": 383,
        "start_time": "2021-12-18T12:40:13.027Z"
      },
      {
        "duration": 1009,
        "start_time": "2021-12-18T12:41:41.188Z"
      },
      {
        "duration": 1775,
        "start_time": "2021-12-18T12:42:19.803Z"
      },
      {
        "duration": 1499,
        "start_time": "2021-12-18T12:42:25.231Z"
      },
      {
        "duration": 1295,
        "start_time": "2021-12-18T12:42:32.753Z"
      },
      {
        "duration": 733,
        "start_time": "2021-12-18T12:43:06.938Z"
      },
      {
        "duration": 614,
        "start_time": "2021-12-18T12:43:11.024Z"
      },
      {
        "duration": 385,
        "start_time": "2021-12-18T12:43:43.879Z"
      },
      {
        "duration": 4,
        "start_time": "2021-12-18T12:45:57.562Z"
      },
      {
        "duration": 5,
        "start_time": "2021-12-18T12:46:06.390Z"
      },
      {
        "duration": 871,
        "start_time": "2021-12-18T12:46:23.475Z"
      },
      {
        "duration": 4,
        "start_time": "2021-12-18T12:46:34.960Z"
      },
      {
        "duration": 434,
        "start_time": "2021-12-18T12:46:36.521Z"
      },
      {
        "duration": 4,
        "start_time": "2021-12-18T12:46:41.633Z"
      },
      {
        "duration": 395,
        "start_time": "2021-12-18T12:46:43.204Z"
      },
      {
        "duration": 4,
        "start_time": "2021-12-18T12:46:56.161Z"
      },
      {
        "duration": 4,
        "start_time": "2021-12-18T12:46:57.359Z"
      },
      {
        "duration": 785,
        "start_time": "2021-12-18T12:46:58.999Z"
      },
      {
        "duration": 4,
        "start_time": "2021-12-18T12:47:49.587Z"
      },
      {
        "duration": 376,
        "start_time": "2021-12-18T12:47:51.039Z"
      },
      {
        "duration": 4,
        "start_time": "2021-12-18T12:48:02.848Z"
      },
      {
        "duration": 384,
        "start_time": "2021-12-18T12:48:05.264Z"
      },
      {
        "duration": 4,
        "start_time": "2021-12-18T12:48:32.347Z"
      },
      {
        "duration": 358,
        "start_time": "2021-12-18T12:48:34.540Z"
      },
      {
        "duration": 4,
        "start_time": "2021-12-18T12:48:41.687Z"
      },
      {
        "duration": 358,
        "start_time": "2021-12-18T12:48:43.987Z"
      },
      {
        "duration": 4,
        "start_time": "2021-12-18T12:49:01.183Z"
      },
      {
        "duration": 374,
        "start_time": "2021-12-18T12:49:03.274Z"
      },
      {
        "duration": 4,
        "start_time": "2021-12-18T12:49:18.111Z"
      },
      {
        "duration": 492,
        "start_time": "2021-12-18T12:49:19.806Z"
      },
      {
        "duration": 4,
        "start_time": "2021-12-18T12:49:38.172Z"
      },
      {
        "duration": 839,
        "start_time": "2021-12-18T12:49:39.645Z"
      },
      {
        "duration": 454,
        "start_time": "2021-12-18T12:50:59.115Z"
      },
      {
        "duration": 810,
        "start_time": "2021-12-18T12:51:25.402Z"
      },
      {
        "duration": 599,
        "start_time": "2021-12-18T12:51:59.868Z"
      },
      {
        "duration": 775,
        "start_time": "2021-12-18T12:52:08.492Z"
      },
      {
        "duration": 953,
        "start_time": "2021-12-18T12:52:12.913Z"
      },
      {
        "duration": 385,
        "start_time": "2021-12-18T12:52:25.197Z"
      },
      {
        "duration": 1426,
        "start_time": "2021-12-18T12:53:44.094Z"
      },
      {
        "duration": 741,
        "start_time": "2021-12-18T12:53:50.826Z"
      },
      {
        "duration": 783,
        "start_time": "2021-12-18T12:54:54.789Z"
      },
      {
        "duration": 151,
        "start_time": "2021-12-18T12:55:03.389Z"
      },
      {
        "duration": 922,
        "start_time": "2021-12-18T12:55:14.380Z"
      },
      {
        "duration": 348,
        "start_time": "2021-12-18T12:55:40.854Z"
      },
      {
        "duration": 715,
        "start_time": "2021-12-18T12:58:00.549Z"
      },
      {
        "duration": 535,
        "start_time": "2021-12-18T12:58:05.049Z"
      },
      {
        "duration": 382,
        "start_time": "2021-12-18T12:58:23.424Z"
      },
      {
        "duration": 715,
        "start_time": "2021-12-18T12:58:39.126Z"
      },
      {
        "duration": 384,
        "start_time": "2021-12-18T12:59:11.985Z"
      },
      {
        "duration": 522,
        "start_time": "2021-12-18T12:59:19.598Z"
      },
      {
        "duration": 419,
        "start_time": "2021-12-18T12:59:32.074Z"
      },
      {
        "duration": 805,
        "start_time": "2021-12-18T13:00:03.249Z"
      },
      {
        "duration": 432,
        "start_time": "2021-12-18T13:00:21.560Z"
      },
      {
        "duration": 1110,
        "start_time": "2021-12-18T13:01:24.495Z"
      },
      {
        "duration": 792,
        "start_time": "2021-12-18T13:02:25.465Z"
      },
      {
        "duration": 463,
        "start_time": "2021-12-18T13:02:31.334Z"
      },
      {
        "duration": 631,
        "start_time": "2021-12-18T13:03:12.566Z"
      },
      {
        "duration": 627,
        "start_time": "2021-12-18T13:03:15.898Z"
      },
      {
        "duration": 536,
        "start_time": "2021-12-18T13:03:18.862Z"
      },
      {
        "duration": 406,
        "start_time": "2021-12-18T13:03:22.094Z"
      },
      {
        "duration": 413,
        "start_time": "2021-12-18T13:03:24.909Z"
      },
      {
        "duration": 988,
        "start_time": "2021-12-18T13:03:42.455Z"
      },
      {
        "duration": 596,
        "start_time": "2021-12-18T13:03:47.046Z"
      },
      {
        "duration": 425,
        "start_time": "2021-12-18T13:04:37.223Z"
      },
      {
        "duration": 417,
        "start_time": "2021-12-18T13:04:42.102Z"
      },
      {
        "duration": 486,
        "start_time": "2021-12-18T13:04:45.193Z"
      },
      {
        "duration": 413,
        "start_time": "2021-12-18T13:04:50.918Z"
      },
      {
        "duration": 414,
        "start_time": "2021-12-18T13:04:54.528Z"
      },
      {
        "duration": 7,
        "start_time": "2021-12-18T13:06:09.837Z"
      },
      {
        "duration": 78,
        "start_time": "2021-12-18T13:06:42.217Z"
      },
      {
        "duration": 405,
        "start_time": "2021-12-18T13:07:06.484Z"
      },
      {
        "duration": 4,
        "start_time": "2021-12-18T13:07:09.791Z"
      },
      {
        "duration": 423,
        "start_time": "2021-12-18T13:07:20.687Z"
      },
      {
        "duration": 4,
        "start_time": "2021-12-18T13:07:59.045Z"
      },
      {
        "duration": 605,
        "start_time": "2021-12-18T13:08:01.718Z"
      },
      {
        "duration": 115,
        "start_time": "2021-12-18T13:14:43.978Z"
      },
      {
        "duration": 112,
        "start_time": "2021-12-18T13:14:51.528Z"
      },
      {
        "duration": 69,
        "start_time": "2021-12-18T13:14:58.550Z"
      },
      {
        "duration": 77,
        "start_time": "2021-12-18T13:15:20.803Z"
      },
      {
        "duration": 91,
        "start_time": "2021-12-18T13:15:29.483Z"
      },
      {
        "duration": 85,
        "start_time": "2021-12-18T13:15:36.042Z"
      },
      {
        "duration": 6,
        "start_time": "2021-12-18T13:15:43.616Z"
      },
      {
        "duration": 71,
        "start_time": "2021-12-18T13:16:39.983Z"
      },
      {
        "duration": 424,
        "start_time": "2021-12-18T13:17:54.836Z"
      },
      {
        "duration": 4,
        "start_time": "2021-12-18T13:19:36.275Z"
      },
      {
        "duration": 452,
        "start_time": "2021-12-18T13:19:38.654Z"
      },
      {
        "duration": 437,
        "start_time": "2021-12-18T13:19:43.871Z"
      },
      {
        "duration": 4,
        "start_time": "2021-12-18T13:20:29.826Z"
      },
      {
        "duration": 79,
        "start_time": "2021-12-18T13:20:42.935Z"
      },
      {
        "duration": 69,
        "start_time": "2021-12-18T13:20:45.747Z"
      },
      {
        "duration": 6,
        "start_time": "2021-12-18T13:20:51.711Z"
      },
      {
        "duration": 399,
        "start_time": "2021-12-18T13:21:57.188Z"
      },
      {
        "duration": 6,
        "start_time": "2021-12-18T13:22:13.127Z"
      },
      {
        "duration": 6,
        "start_time": "2021-12-18T13:23:41.175Z"
      },
      {
        "duration": 6,
        "start_time": "2021-12-18T13:23:47.983Z"
      },
      {
        "duration": 3,
        "start_time": "2021-12-18T13:40:09.307Z"
      },
      {
        "duration": 508,
        "start_time": "2021-12-18T13:40:16.971Z"
      },
      {
        "duration": 6,
        "start_time": "2021-12-18T13:40:30.108Z"
      },
      {
        "duration": 475,
        "start_time": "2021-12-18T13:40:34.060Z"
      },
      {
        "duration": 514,
        "start_time": "2021-12-18T13:41:13.291Z"
      },
      {
        "duration": 378,
        "start_time": "2021-12-18T13:41:17.134Z"
      },
      {
        "duration": 11,
        "start_time": "2021-12-18T13:41:40.274Z"
      },
      {
        "duration": 11,
        "start_time": "2021-12-18T13:41:46.251Z"
      },
      {
        "duration": 5,
        "start_time": "2021-12-18T13:43:33.185Z"
      },
      {
        "duration": 4,
        "start_time": "2021-12-18T13:43:38.549Z"
      },
      {
        "duration": 5,
        "start_time": "2021-12-18T13:43:41.628Z"
      },
      {
        "duration": 6,
        "start_time": "2021-12-18T13:43:47.084Z"
      },
      {
        "duration": 93,
        "start_time": "2021-12-18T15:02:07.763Z"
      },
      {
        "duration": 77,
        "start_time": "2021-12-18T15:02:10.702Z"
      },
      {
        "duration": 112,
        "start_time": "2021-12-18T15:11:42.199Z"
      },
      {
        "duration": 15,
        "start_time": "2021-12-18T15:11:46.027Z"
      },
      {
        "duration": 21,
        "start_time": "2021-12-18T15:11:48.485Z"
      },
      {
        "duration": 14,
        "start_time": "2021-12-18T15:13:01.869Z"
      },
      {
        "duration": 29,
        "start_time": "2021-12-18T15:16:44.815Z"
      },
      {
        "duration": 407,
        "start_time": "2021-12-18T15:17:52.614Z"
      },
      {
        "duration": 33,
        "start_time": "2021-12-18T15:21:49.590Z"
      },
      {
        "duration": 437,
        "start_time": "2021-12-18T15:27:00.660Z"
      },
      {
        "duration": 9,
        "start_time": "2021-12-18T15:36:56.156Z"
      },
      {
        "duration": 11,
        "start_time": "2021-12-18T15:36:59.991Z"
      },
      {
        "duration": 10,
        "start_time": "2021-12-18T15:37:08.321Z"
      },
      {
        "duration": 8,
        "start_time": "2021-12-18T15:38:49.536Z"
      },
      {
        "duration": 14,
        "start_time": "2021-12-18T15:39:31.440Z"
      },
      {
        "duration": 13,
        "start_time": "2021-12-18T15:39:51.368Z"
      },
      {
        "duration": 6,
        "start_time": "2021-12-18T15:40:16.398Z"
      },
      {
        "duration": 247,
        "start_time": "2021-12-18T15:40:28.987Z"
      },
      {
        "duration": 10,
        "start_time": "2021-12-18T15:40:37.598Z"
      },
      {
        "duration": 8,
        "start_time": "2021-12-18T15:41:36.642Z"
      },
      {
        "duration": 9,
        "start_time": "2021-12-18T15:41:50.399Z"
      },
      {
        "duration": 8,
        "start_time": "2021-12-18T15:41:52.666Z"
      },
      {
        "duration": 56,
        "start_time": "2021-12-18T15:51:52.949Z"
      },
      {
        "duration": 15,
        "start_time": "2021-12-18T15:54:50.481Z"
      },
      {
        "duration": 75,
        "start_time": "2021-12-18T15:55:25.187Z"
      },
      {
        "duration": 1498,
        "start_time": "2021-12-18T19:00:39.088Z"
      },
      {
        "duration": 250,
        "start_time": "2021-12-18T19:00:40.589Z"
      },
      {
        "duration": 1118,
        "start_time": "2021-12-21T14:36:25.697Z"
      },
      {
        "duration": 343,
        "start_time": "2021-12-21T14:36:26.817Z"
      },
      {
        "duration": 3,
        "start_time": "2021-12-21T14:36:27.163Z"
      },
      {
        "duration": 7,
        "start_time": "2021-12-21T14:36:27.169Z"
      },
      {
        "duration": 43,
        "start_time": "2021-12-21T14:36:27.179Z"
      },
      {
        "duration": 26,
        "start_time": "2021-12-21T14:36:27.224Z"
      },
      {
        "duration": 8,
        "start_time": "2021-12-21T14:36:27.252Z"
      },
      {
        "duration": 433,
        "start_time": "2021-12-21T14:36:27.262Z"
      },
      {
        "duration": 423,
        "start_time": "2021-12-21T14:36:27.699Z"
      },
      {
        "duration": 5,
        "start_time": "2021-12-21T14:36:28.124Z"
      },
      {
        "duration": 14,
        "start_time": "2021-12-21T14:36:28.130Z"
      },
      {
        "duration": 474,
        "start_time": "2021-12-21T14:36:28.146Z"
      },
      {
        "duration": 2,
        "start_time": "2021-12-21T14:36:28.622Z"
      },
      {
        "duration": 347,
        "start_time": "2021-12-21T14:36:28.626Z"
      },
      {
        "duration": 85,
        "start_time": "2021-12-21T14:36:28.975Z"
      },
      {
        "duration": 13,
        "start_time": "2021-12-21T14:36:29.062Z"
      },
      {
        "duration": 25,
        "start_time": "2021-12-21T14:36:29.077Z"
      },
      {
        "duration": 450,
        "start_time": "2021-12-21T14:36:29.104Z"
      },
      {
        "duration": 33,
        "start_time": "2021-12-21T14:36:29.556Z"
      },
      {
        "duration": 437,
        "start_time": "2021-12-21T14:36:29.591Z"
      },
      {
        "duration": 18,
        "start_time": "2021-12-21T14:36:30.030Z"
      },
      {
        "duration": 22,
        "start_time": "2021-12-21T14:36:30.050Z"
      },
      {
        "duration": 56,
        "start_time": "2021-12-21T14:36:30.074Z"
      },
      {
        "duration": 21,
        "start_time": "2021-12-21T14:36:30.132Z"
      },
      {
        "duration": 13,
        "start_time": "2021-12-21T14:36:44.975Z"
      },
      {
        "duration": 13,
        "start_time": "2021-12-21T14:38:14.613Z"
      },
      {
        "duration": 26,
        "start_time": "2021-12-21T14:39:19.432Z"
      },
      {
        "duration": 6,
        "start_time": "2021-12-21T14:51:16.467Z"
      },
      {
        "duration": 12,
        "start_time": "2021-12-21T14:54:50.190Z"
      },
      {
        "duration": 303,
        "start_time": "2021-12-21T14:55:05.207Z"
      },
      {
        "duration": 9,
        "start_time": "2021-12-21T14:55:14.431Z"
      },
      {
        "duration": 4,
        "start_time": "2021-12-21T14:55:36.813Z"
      },
      {
        "duration": 3,
        "start_time": "2021-12-21T14:56:13.831Z"
      },
      {
        "duration": 3,
        "start_time": "2021-12-21T14:56:20.982Z"
      },
      {
        "duration": 37,
        "start_time": "2021-12-21T14:56:26.275Z"
      },
      {
        "duration": 10,
        "start_time": "2021-12-21T14:57:38.135Z"
      },
      {
        "duration": 5202,
        "start_time": "2021-12-21T15:07:28.610Z"
      },
      {
        "duration": 1138,
        "start_time": "2021-12-21T15:07:58.771Z"
      },
      {
        "duration": 180,
        "start_time": "2021-12-21T15:07:59.911Z"
      },
      {
        "duration": 3,
        "start_time": "2021-12-21T15:08:00.093Z"
      },
      {
        "duration": 16,
        "start_time": "2021-12-21T15:08:00.098Z"
      },
      {
        "duration": 60,
        "start_time": "2021-12-21T15:08:00.115Z"
      },
      {
        "duration": 15,
        "start_time": "2021-12-21T15:08:00.176Z"
      },
      {
        "duration": 12,
        "start_time": "2021-12-21T15:08:00.193Z"
      },
      {
        "duration": 512,
        "start_time": "2021-12-21T15:08:00.207Z"
      },
      {
        "duration": 424,
        "start_time": "2021-12-21T15:08:00.722Z"
      },
      {
        "duration": 5,
        "start_time": "2021-12-21T15:08:01.149Z"
      },
      {
        "duration": 31,
        "start_time": "2021-12-21T15:08:01.156Z"
      },
      {
        "duration": 505,
        "start_time": "2021-12-21T15:08:01.189Z"
      },
      {
        "duration": 6,
        "start_time": "2021-12-21T15:08:01.696Z"
      },
      {
        "duration": 25,
        "start_time": "2021-12-21T15:08:01.704Z"
      },
      {
        "duration": 336,
        "start_time": "2021-12-21T15:08:01.730Z"
      },
      {
        "duration": 91,
        "start_time": "2021-12-21T15:08:02.067Z"
      },
      {
        "duration": 14,
        "start_time": "2021-12-21T15:08:02.160Z"
      },
      {
        "duration": 44,
        "start_time": "2021-12-21T15:08:02.176Z"
      },
      {
        "duration": 430,
        "start_time": "2021-12-21T15:08:02.222Z"
      },
      {
        "duration": 30,
        "start_time": "2021-12-21T15:08:02.654Z"
      },
      {
        "duration": 431,
        "start_time": "2021-12-21T15:08:02.685Z"
      },
      {
        "duration": 8,
        "start_time": "2021-12-21T15:08:03.118Z"
      },
      {
        "duration": 21,
        "start_time": "2021-12-21T15:08:03.127Z"
      },
      {
        "duration": 51,
        "start_time": "2021-12-21T15:08:03.150Z"
      },
      {
        "duration": 10,
        "start_time": "2021-12-21T15:08:03.202Z"
      },
      {
        "duration": 5,
        "start_time": "2021-12-21T15:08:03.214Z"
      },
      {
        "duration": 12,
        "start_time": "2021-12-21T15:08:03.243Z"
      },
      {
        "duration": 1135,
        "start_time": "2021-12-21T15:08:03.257Z"
      },
      {
        "duration": -12,
        "start_time": "2021-12-21T15:08:04.406Z"
      },
      {
        "duration": 859,
        "start_time": "2021-12-21T15:08:11.336Z"
      },
      {
        "duration": 3,
        "start_time": "2021-12-21T15:08:38.597Z"
      },
      {
        "duration": 12,
        "start_time": "2021-12-21T15:08:40.683Z"
      },
      {
        "duration": 6,
        "start_time": "2021-12-21T15:10:01.079Z"
      },
      {
        "duration": 9,
        "start_time": "2021-12-21T15:10:03.113Z"
      },
      {
        "duration": 3,
        "start_time": "2021-12-21T15:10:10.513Z"
      },
      {
        "duration": 4,
        "start_time": "2021-12-21T15:10:49.843Z"
      },
      {
        "duration": 7,
        "start_time": "2021-12-21T15:10:51.500Z"
      },
      {
        "duration": 69,
        "start_time": "2021-12-21T15:11:52.724Z"
      },
      {
        "duration": 206,
        "start_time": "2021-12-21T15:12:11.103Z"
      },
      {
        "duration": 210,
        "start_time": "2021-12-21T15:12:19.800Z"
      },
      {
        "duration": 11,
        "start_time": "2021-12-21T15:12:27.374Z"
      },
      {
        "duration": 5,
        "start_time": "2021-12-21T15:21:29.717Z"
      },
      {
        "duration": 6,
        "start_time": "2021-12-21T15:21:35.191Z"
      },
      {
        "duration": 7,
        "start_time": "2021-12-21T15:22:44.215Z"
      },
      {
        "duration": 7,
        "start_time": "2021-12-21T15:22:51.076Z"
      },
      {
        "duration": 462,
        "start_time": "2021-12-21T15:29:30.622Z"
      },
      {
        "duration": 1239,
        "start_time": "2021-12-21T15:29:41.506Z"
      },
      {
        "duration": 179,
        "start_time": "2021-12-21T15:29:42.746Z"
      },
      {
        "duration": 3,
        "start_time": "2021-12-21T15:29:42.927Z"
      },
      {
        "duration": 5,
        "start_time": "2021-12-21T15:29:42.932Z"
      },
      {
        "duration": 44,
        "start_time": "2021-12-21T15:29:42.939Z"
      },
      {
        "duration": 11,
        "start_time": "2021-12-21T15:29:42.984Z"
      },
      {
        "duration": 8,
        "start_time": "2021-12-21T15:29:42.997Z"
      },
      {
        "duration": 440,
        "start_time": "2021-12-21T15:29:43.007Z"
      },
      {
        "duration": 415,
        "start_time": "2021-12-21T15:29:43.450Z"
      },
      {
        "duration": 5,
        "start_time": "2021-12-21T15:29:43.866Z"
      },
      {
        "duration": 7,
        "start_time": "2021-12-21T15:29:43.872Z"
      },
      {
        "duration": 466,
        "start_time": "2021-12-21T15:29:43.881Z"
      },
      {
        "duration": 5,
        "start_time": "2021-12-21T15:29:44.349Z"
      },
      {
        "duration": 4,
        "start_time": "2021-12-21T15:29:44.355Z"
      },
      {
        "duration": 346,
        "start_time": "2021-12-21T15:29:44.360Z"
      },
      {
        "duration": 80,
        "start_time": "2021-12-21T15:29:44.708Z"
      },
      {
        "duration": 13,
        "start_time": "2021-12-21T15:29:44.789Z"
      },
      {
        "duration": 45,
        "start_time": "2021-12-21T15:29:44.803Z"
      },
      {
        "duration": 460,
        "start_time": "2021-12-21T15:29:44.849Z"
      },
      {
        "duration": 46,
        "start_time": "2021-12-21T15:29:45.311Z"
      },
      {
        "duration": 413,
        "start_time": "2021-12-21T15:29:45.359Z"
      },
      {
        "duration": 9,
        "start_time": "2021-12-21T15:29:45.775Z"
      },
      {
        "duration": 10,
        "start_time": "2021-12-21T15:29:45.788Z"
      },
      {
        "duration": 73,
        "start_time": "2021-12-21T15:29:45.800Z"
      },
      {
        "duration": 9,
        "start_time": "2021-12-21T15:29:45.875Z"
      },
      {
        "duration": 9,
        "start_time": "2021-12-21T15:29:45.886Z"
      },
      {
        "duration": 5,
        "start_time": "2021-12-21T15:29:45.897Z"
      },
      {
        "duration": 286,
        "start_time": "2021-12-21T15:29:45.904Z"
      },
      {
        "duration": -6,
        "start_time": "2021-12-21T15:29:46.198Z"
      },
      {
        "duration": -10,
        "start_time": "2021-12-21T15:29:46.203Z"
      },
      {
        "duration": -22,
        "start_time": "2021-12-21T15:29:46.216Z"
      },
      {
        "duration": -24,
        "start_time": "2021-12-21T15:29:46.219Z"
      },
      {
        "duration": -27,
        "start_time": "2021-12-21T15:29:46.223Z"
      },
      {
        "duration": -29,
        "start_time": "2021-12-21T15:29:46.226Z"
      },
      {
        "duration": 8,
        "start_time": "2021-12-21T15:35:40.494Z"
      },
      {
        "duration": 8,
        "start_time": "2021-12-21T15:35:49.835Z"
      },
      {
        "duration": 7,
        "start_time": "2021-12-21T15:35:52.884Z"
      },
      {
        "duration": 7,
        "start_time": "2021-12-21T15:36:03.230Z"
      },
      {
        "duration": 797,
        "start_time": "2021-12-21T15:36:15.650Z"
      },
      {
        "duration": 9,
        "start_time": "2021-12-21T15:36:23.677Z"
      },
      {
        "duration": 4,
        "start_time": "2021-12-21T15:37:03.439Z"
      },
      {
        "duration": 278,
        "start_time": "2021-12-21T15:37:06.196Z"
      },
      {
        "duration": 431,
        "start_time": "2021-12-21T15:37:10.139Z"
      },
      {
        "duration": 10,
        "start_time": "2021-12-21T15:37:15.896Z"
      },
      {
        "duration": 8,
        "start_time": "2021-12-21T15:37:45.436Z"
      },
      {
        "duration": 9,
        "start_time": "2021-12-21T15:37:51.165Z"
      },
      {
        "duration": 201,
        "start_time": "2021-12-21T15:39:11.289Z"
      },
      {
        "duration": 7,
        "start_time": "2021-12-21T15:39:16.667Z"
      },
      {
        "duration": 249,
        "start_time": "2021-12-21T15:39:52.043Z"
      },
      {
        "duration": 7,
        "start_time": "2021-12-21T15:39:59.290Z"
      },
      {
        "duration": 9,
        "start_time": "2021-12-21T15:40:18.095Z"
      },
      {
        "duration": 204,
        "start_time": "2021-12-21T15:41:36.251Z"
      },
      {
        "duration": 1201,
        "start_time": "2021-12-21T15:41:50.614Z"
      },
      {
        "duration": 183,
        "start_time": "2021-12-21T15:41:51.817Z"
      },
      {
        "duration": 3,
        "start_time": "2021-12-21T15:41:52.002Z"
      },
      {
        "duration": 6,
        "start_time": "2021-12-21T15:41:52.007Z"
      },
      {
        "duration": 47,
        "start_time": "2021-12-21T15:41:52.015Z"
      },
      {
        "duration": 12,
        "start_time": "2021-12-21T15:41:52.064Z"
      },
      {
        "duration": 4,
        "start_time": "2021-12-21T15:41:52.078Z"
      },
      {
        "duration": 441,
        "start_time": "2021-12-21T15:41:52.084Z"
      },
      {
        "duration": 404,
        "start_time": "2021-12-21T15:41:52.528Z"
      },
      {
        "duration": 9,
        "start_time": "2021-12-21T15:41:52.935Z"
      },
      {
        "duration": 7,
        "start_time": "2021-12-21T15:41:52.946Z"
      },
      {
        "duration": 468,
        "start_time": "2021-12-21T15:41:52.955Z"
      },
      {
        "duration": 5,
        "start_time": "2021-12-21T15:41:53.425Z"
      },
      {
        "duration": 10,
        "start_time": "2021-12-21T15:41:53.432Z"
      },
      {
        "duration": 334,
        "start_time": "2021-12-21T15:41:53.444Z"
      },
      {
        "duration": 91,
        "start_time": "2021-12-21T15:41:53.780Z"
      },
      {
        "duration": 14,
        "start_time": "2021-12-21T15:41:53.873Z"
      },
      {
        "duration": 27,
        "start_time": "2021-12-21T15:41:53.889Z"
      },
      {
        "duration": 432,
        "start_time": "2021-12-21T15:41:53.917Z"
      },
      {
        "duration": 32,
        "start_time": "2021-12-21T15:41:54.350Z"
      },
      {
        "duration": 440,
        "start_time": "2021-12-21T15:41:54.383Z"
      },
      {
        "duration": 17,
        "start_time": "2021-12-21T15:41:54.825Z"
      },
      {
        "duration": 8,
        "start_time": "2021-12-21T15:41:54.843Z"
      },
      {
        "duration": 50,
        "start_time": "2021-12-21T15:41:54.853Z"
      },
      {
        "duration": 39,
        "start_time": "2021-12-21T15:41:54.904Z"
      },
      {
        "duration": 6,
        "start_time": "2021-12-21T15:41:54.945Z"
      },
      {
        "duration": 5,
        "start_time": "2021-12-21T15:41:54.954Z"
      },
      {
        "duration": 8,
        "start_time": "2021-12-21T15:41:54.960Z"
      },
      {
        "duration": 4,
        "start_time": "2021-12-21T15:41:54.969Z"
      },
      {
        "duration": 13,
        "start_time": "2021-12-21T15:41:54.974Z"
      },
      {
        "duration": 12,
        "start_time": "2021-12-21T15:41:54.988Z"
      },
      {
        "duration": 306,
        "start_time": "2021-12-21T15:41:55.001Z"
      },
      {
        "duration": -6,
        "start_time": "2021-12-21T15:41:55.314Z"
      },
      {
        "duration": -9,
        "start_time": "2021-12-21T15:41:55.318Z"
      },
      {
        "duration": 11,
        "start_time": "2021-12-21T15:43:47.103Z"
      },
      {
        "duration": 10,
        "start_time": "2021-12-21T15:44:05.696Z"
      },
      {
        "duration": 4,
        "start_time": "2021-12-21T15:44:12.288Z"
      },
      {
        "duration": 8,
        "start_time": "2021-12-21T15:44:13.459Z"
      },
      {
        "duration": 4,
        "start_time": "2021-12-21T15:44:40.773Z"
      },
      {
        "duration": 7,
        "start_time": "2021-12-21T15:44:42.183Z"
      },
      {
        "duration": 227,
        "start_time": "2021-12-21T15:44:45.176Z"
      },
      {
        "duration": 193,
        "start_time": "2021-12-21T15:44:48.598Z"
      },
      {
        "duration": 7,
        "start_time": "2021-12-21T15:44:53.839Z"
      },
      {
        "duration": 1227,
        "start_time": "2021-12-21T15:47:10.414Z"
      },
      {
        "duration": 185,
        "start_time": "2021-12-21T15:47:11.643Z"
      },
      {
        "duration": 4,
        "start_time": "2021-12-21T15:47:11.831Z"
      },
      {
        "duration": 6,
        "start_time": "2021-12-21T15:47:11.837Z"
      },
      {
        "duration": 51,
        "start_time": "2021-12-21T15:47:11.845Z"
      },
      {
        "duration": 11,
        "start_time": "2021-12-21T15:47:11.898Z"
      },
      {
        "duration": 32,
        "start_time": "2021-12-21T15:47:11.910Z"
      },
      {
        "duration": 447,
        "start_time": "2021-12-21T15:47:11.944Z"
      },
      {
        "duration": 596,
        "start_time": "2021-12-21T15:47:12.393Z"
      },
      {
        "duration": 5,
        "start_time": "2021-12-21T15:47:12.991Z"
      },
      {
        "duration": 11,
        "start_time": "2021-12-21T15:47:12.998Z"
      },
      {
        "duration": 479,
        "start_time": "2021-12-21T15:47:13.010Z"
      },
      {
        "duration": 5,
        "start_time": "2021-12-21T15:47:13.491Z"
      },
      {
        "duration": 5,
        "start_time": "2021-12-21T15:47:13.497Z"
      },
      {
        "duration": 353,
        "start_time": "2021-12-21T15:47:13.503Z"
      },
      {
        "duration": 87,
        "start_time": "2021-12-21T15:47:13.858Z"
      },
      {
        "duration": 12,
        "start_time": "2021-12-21T15:47:13.946Z"
      },
      {
        "duration": 26,
        "start_time": "2021-12-21T15:47:13.960Z"
      },
      {
        "duration": 444,
        "start_time": "2021-12-21T15:47:13.988Z"
      },
      {
        "duration": 40,
        "start_time": "2021-12-21T15:47:14.434Z"
      },
      {
        "duration": 465,
        "start_time": "2021-12-21T15:47:14.476Z"
      },
      {
        "duration": 10,
        "start_time": "2021-12-21T15:47:14.942Z"
      },
      {
        "duration": 23,
        "start_time": "2021-12-21T15:47:14.955Z"
      },
      {
        "duration": 64,
        "start_time": "2021-12-21T15:47:14.980Z"
      },
      {
        "duration": 11,
        "start_time": "2021-12-21T15:47:15.045Z"
      },
      {
        "duration": 21,
        "start_time": "2021-12-21T15:47:15.057Z"
      },
      {
        "duration": 25,
        "start_time": "2021-12-21T15:47:15.080Z"
      },
      {
        "duration": 13,
        "start_time": "2021-12-21T15:47:15.107Z"
      },
      {
        "duration": 25,
        "start_time": "2021-12-21T15:47:15.121Z"
      },
      {
        "duration": 22,
        "start_time": "2021-12-21T15:47:15.147Z"
      },
      {
        "duration": 8,
        "start_time": "2021-12-21T15:47:15.171Z"
      },
      {
        "duration": 48,
        "start_time": "2021-12-21T15:47:15.181Z"
      },
      {
        "duration": 8,
        "start_time": "2021-12-21T15:47:15.233Z"
      },
      {
        "duration": 18,
        "start_time": "2021-12-21T15:47:15.243Z"
      },
      {
        "duration": 22,
        "start_time": "2021-12-21T15:47:15.263Z"
      },
      {
        "duration": 31,
        "start_time": "2021-12-21T15:48:48.647Z"
      },
      {
        "duration": 77,
        "start_time": "2021-12-21T15:48:59.543Z"
      },
      {
        "duration": 7,
        "start_time": "2021-12-21T15:49:02.598Z"
      },
      {
        "duration": 7,
        "start_time": "2021-12-21T15:49:04.944Z"
      },
      {
        "duration": 9,
        "start_time": "2021-12-21T15:52:40.347Z"
      },
      {
        "duration": 8,
        "start_time": "2021-12-21T15:55:37.537Z"
      },
      {
        "duration": 8,
        "start_time": "2021-12-21T15:55:41.886Z"
      },
      {
        "duration": 282,
        "start_time": "2021-12-21T15:56:12.246Z"
      },
      {
        "duration": 10,
        "start_time": "2021-12-21T15:56:23.617Z"
      },
      {
        "duration": 10,
        "start_time": "2021-12-21T15:59:05.673Z"
      },
      {
        "duration": 6,
        "start_time": "2021-12-21T15:59:12.149Z"
      },
      {
        "duration": 5,
        "start_time": "2021-12-21T16:01:17.241Z"
      },
      {
        "duration": 11,
        "start_time": "2021-12-21T16:01:46.897Z"
      },
      {
        "duration": 10,
        "start_time": "2021-12-21T16:01:50.290Z"
      },
      {
        "duration": 1222,
        "start_time": "2021-12-21T16:02:00.212Z"
      },
      {
        "duration": 193,
        "start_time": "2021-12-21T16:02:01.436Z"
      },
      {
        "duration": 4,
        "start_time": "2021-12-21T16:02:01.631Z"
      },
      {
        "duration": 9,
        "start_time": "2021-12-21T16:02:01.636Z"
      },
      {
        "duration": 63,
        "start_time": "2021-12-21T16:02:01.647Z"
      },
      {
        "duration": 13,
        "start_time": "2021-12-21T16:02:01.712Z"
      },
      {
        "duration": 19,
        "start_time": "2021-12-21T16:02:01.727Z"
      },
      {
        "duration": 448,
        "start_time": "2021-12-21T16:02:01.749Z"
      },
      {
        "duration": 410,
        "start_time": "2021-12-21T16:02:02.199Z"
      },
      {
        "duration": 5,
        "start_time": "2021-12-21T16:02:02.611Z"
      },
      {
        "duration": 14,
        "start_time": "2021-12-21T16:02:02.617Z"
      },
      {
        "duration": 470,
        "start_time": "2021-12-21T16:02:02.633Z"
      },
      {
        "duration": 7,
        "start_time": "2021-12-21T16:02:03.105Z"
      },
      {
        "duration": 9,
        "start_time": "2021-12-21T16:02:03.113Z"
      },
      {
        "duration": 336,
        "start_time": "2021-12-21T16:02:03.123Z"
      },
      {
        "duration": 87,
        "start_time": "2021-12-21T16:02:03.461Z"
      },
      {
        "duration": 12,
        "start_time": "2021-12-21T16:02:03.549Z"
      },
      {
        "duration": 27,
        "start_time": "2021-12-21T16:02:03.563Z"
      },
      {
        "duration": 439,
        "start_time": "2021-12-21T16:02:03.591Z"
      },
      {
        "duration": 39,
        "start_time": "2021-12-21T16:02:04.032Z"
      },
      {
        "duration": 453,
        "start_time": "2021-12-21T16:02:04.072Z"
      },
      {
        "duration": 21,
        "start_time": "2021-12-21T16:02:04.527Z"
      },
      {
        "duration": 22,
        "start_time": "2021-12-21T16:02:04.551Z"
      },
      {
        "duration": 50,
        "start_time": "2021-12-21T16:02:04.576Z"
      },
      {
        "duration": 13,
        "start_time": "2021-12-21T16:02:04.640Z"
      },
      {
        "duration": 10,
        "start_time": "2021-12-21T16:02:04.654Z"
      },
      {
        "duration": 7,
        "start_time": "2021-12-21T16:02:04.665Z"
      },
      {
        "duration": 14,
        "start_time": "2021-12-21T16:02:04.673Z"
      },
      {
        "duration": 7,
        "start_time": "2021-12-21T16:02:04.689Z"
      },
      {
        "duration": 16,
        "start_time": "2021-12-21T16:02:04.698Z"
      },
      {
        "duration": 6,
        "start_time": "2021-12-21T16:02:04.716Z"
      },
      {
        "duration": 25,
        "start_time": "2021-12-21T16:02:04.724Z"
      },
      {
        "duration": 3,
        "start_time": "2021-12-21T16:02:04.751Z"
      },
      {
        "duration": 12,
        "start_time": "2021-12-21T16:02:04.756Z"
      },
      {
        "duration": 16,
        "start_time": "2021-12-21T16:02:04.770Z"
      },
      {
        "duration": 9,
        "start_time": "2021-12-21T16:02:04.788Z"
      },
      {
        "duration": 6,
        "start_time": "2021-12-21T16:02:04.799Z"
      },
      {
        "duration": 20,
        "start_time": "2021-12-21T16:02:04.807Z"
      },
      {
        "duration": 7,
        "start_time": "2021-12-21T17:45:27.801Z"
      },
      {
        "duration": 11,
        "start_time": "2021-12-21T17:45:33.786Z"
      },
      {
        "duration": 375,
        "start_time": "2021-12-21T17:45:35.590Z"
      },
      {
        "duration": 11,
        "start_time": "2021-12-21T17:51:02.959Z"
      },
      {
        "duration": 14,
        "start_time": "2021-12-21T17:51:27.525Z"
      },
      {
        "duration": 14,
        "start_time": "2021-12-21T17:51:33.106Z"
      },
      {
        "duration": 5,
        "start_time": "2021-12-21T17:51:55.824Z"
      },
      {
        "duration": 21,
        "start_time": "2021-12-21T17:51:59.608Z"
      },
      {
        "duration": 1177,
        "start_time": "2021-12-21T17:52:08.437Z"
      },
      {
        "duration": 182,
        "start_time": "2021-12-21T17:52:09.617Z"
      },
      {
        "duration": 3,
        "start_time": "2021-12-21T17:52:09.802Z"
      },
      {
        "duration": 7,
        "start_time": "2021-12-21T17:52:09.808Z"
      },
      {
        "duration": 46,
        "start_time": "2021-12-21T17:52:09.816Z"
      },
      {
        "duration": 11,
        "start_time": "2021-12-21T17:52:09.864Z"
      },
      {
        "duration": 9,
        "start_time": "2021-12-21T17:52:09.877Z"
      },
      {
        "duration": 431,
        "start_time": "2021-12-21T17:52:09.888Z"
      },
      {
        "duration": 409,
        "start_time": "2021-12-21T17:52:10.322Z"
      },
      {
        "duration": 5,
        "start_time": "2021-12-21T17:52:10.741Z"
      },
      {
        "duration": 6,
        "start_time": "2021-12-21T17:52:10.748Z"
      },
      {
        "duration": 465,
        "start_time": "2021-12-21T17:52:10.756Z"
      },
      {
        "duration": 5,
        "start_time": "2021-12-21T17:52:11.223Z"
      },
      {
        "duration": 13,
        "start_time": "2021-12-21T17:52:11.229Z"
      },
      {
        "duration": 322,
        "start_time": "2021-12-21T17:52:11.243Z"
      },
      {
        "duration": 82,
        "start_time": "2021-12-21T17:52:11.566Z"
      },
      {
        "duration": 13,
        "start_time": "2021-12-21T17:52:11.649Z"
      },
      {
        "duration": 36,
        "start_time": "2021-12-21T17:52:11.663Z"
      },
      {
        "duration": 440,
        "start_time": "2021-12-21T17:52:11.701Z"
      },
      {
        "duration": 30,
        "start_time": "2021-12-21T17:52:12.143Z"
      },
      {
        "duration": 432,
        "start_time": "2021-12-21T17:52:12.175Z"
      },
      {
        "duration": 9,
        "start_time": "2021-12-21T17:52:12.608Z"
      },
      {
        "duration": 26,
        "start_time": "2021-12-21T17:52:12.620Z"
      },
      {
        "duration": 49,
        "start_time": "2021-12-21T17:52:12.648Z"
      },
      {
        "duration": 10,
        "start_time": "2021-12-21T17:52:12.699Z"
      },
      {
        "duration": 7,
        "start_time": "2021-12-21T17:52:12.711Z"
      },
      {
        "duration": 6,
        "start_time": "2021-12-21T17:52:12.742Z"
      },
      {
        "duration": 8,
        "start_time": "2021-12-21T17:52:12.750Z"
      },
      {
        "duration": 4,
        "start_time": "2021-12-21T17:52:12.759Z"
      },
      {
        "duration": 10,
        "start_time": "2021-12-21T17:52:12.764Z"
      },
      {
        "duration": 5,
        "start_time": "2021-12-21T17:52:12.776Z"
      },
      {
        "duration": 11,
        "start_time": "2021-12-21T17:52:12.782Z"
      },
      {
        "duration": 4,
        "start_time": "2021-12-21T17:52:12.795Z"
      },
      {
        "duration": 45,
        "start_time": "2021-12-21T17:52:12.800Z"
      },
      {
        "duration": 13,
        "start_time": "2021-12-21T17:52:12.846Z"
      },
      {
        "duration": 9,
        "start_time": "2021-12-21T17:52:12.861Z"
      },
      {
        "duration": 5,
        "start_time": "2021-12-21T17:52:12.871Z"
      },
      {
        "duration": 16,
        "start_time": "2021-12-21T17:52:12.877Z"
      },
      {
        "duration": 12,
        "start_time": "2021-12-21T17:52:12.895Z"
      },
      {
        "duration": 11,
        "start_time": "2021-12-21T17:54:40.833Z"
      },
      {
        "duration": 8,
        "start_time": "2021-12-21T17:55:05.635Z"
      },
      {
        "duration": 328,
        "start_time": "2021-12-21T17:55:10.003Z"
      },
      {
        "duration": 8,
        "start_time": "2021-12-21T17:55:14.189Z"
      },
      {
        "duration": 13,
        "start_time": "2021-12-21T17:55:30.612Z"
      },
      {
        "duration": 7,
        "start_time": "2021-12-21T17:55:36.866Z"
      },
      {
        "duration": 330,
        "start_time": "2021-12-21T17:56:52.769Z"
      },
      {
        "duration": 202,
        "start_time": "2021-12-21T17:57:02.204Z"
      },
      {
        "duration": 208,
        "start_time": "2021-12-21T17:57:07.127Z"
      },
      {
        "duration": 10917,
        "start_time": "2021-12-21T17:57:26.252Z"
      },
      {
        "duration": 392,
        "start_time": "2021-12-21T17:58:01.902Z"
      },
      {
        "duration": 9,
        "start_time": "2021-12-21T17:58:09.924Z"
      },
      {
        "duration": 13,
        "start_time": "2021-12-21T17:58:12.459Z"
      },
      {
        "duration": 5,
        "start_time": "2021-12-21T18:00:13.391Z"
      },
      {
        "duration": 61,
        "start_time": "2021-12-21T18:01:29.380Z"
      },
      {
        "duration": 498,
        "start_time": "2021-12-21T18:01:32.447Z"
      },
      {
        "duration": 423,
        "start_time": "2021-12-21T18:01:49.124Z"
      },
      {
        "duration": 476,
        "start_time": "2021-12-21T18:01:52.649Z"
      },
      {
        "duration": 1690,
        "start_time": "2021-12-21T18:01:55.406Z"
      },
      {
        "duration": 11,
        "start_time": "2021-12-21T18:01:59.805Z"
      },
      {
        "duration": 227,
        "start_time": "2021-12-21T18:02:06.326Z"
      },
      {
        "duration": 7,
        "start_time": "2021-12-21T18:02:08.725Z"
      },
      {
        "duration": 5031,
        "start_time": "2021-12-21T18:02:15.653Z"
      },
      {
        "duration": 455,
        "start_time": "2021-12-21T18:02:26.356Z"
      },
      {
        "duration": 8823,
        "start_time": "2021-12-21T18:02:27.994Z"
      },
      {
        "duration": 12,
        "start_time": "2021-12-21T18:02:38.554Z"
      },
      {
        "duration": 5,
        "start_time": "2021-12-21T18:02:55.143Z"
      },
      {
        "duration": 10,
        "start_time": "2021-12-21T18:02:58.586Z"
      },
      {
        "duration": 1273,
        "start_time": "2021-12-21T18:03:28.862Z"
      },
      {
        "duration": 189,
        "start_time": "2021-12-21T18:03:30.138Z"
      },
      {
        "duration": 3,
        "start_time": "2021-12-21T18:03:30.330Z"
      },
      {
        "duration": 10,
        "start_time": "2021-12-21T18:03:30.335Z"
      },
      {
        "duration": 66,
        "start_time": "2021-12-21T18:03:30.347Z"
      },
      {
        "duration": 32,
        "start_time": "2021-12-21T18:03:30.415Z"
      },
      {
        "duration": 15,
        "start_time": "2021-12-21T18:03:30.449Z"
      },
      {
        "duration": 507,
        "start_time": "2021-12-21T18:03:30.466Z"
      },
      {
        "duration": 497,
        "start_time": "2021-12-21T18:03:30.976Z"
      },
      {
        "duration": 5,
        "start_time": "2021-12-21T18:03:31.476Z"
      },
      {
        "duration": 16,
        "start_time": "2021-12-21T18:03:31.483Z"
      },
      {
        "duration": 599,
        "start_time": "2021-12-21T18:03:31.501Z"
      },
      {
        "duration": 5,
        "start_time": "2021-12-21T18:03:32.102Z"
      },
      {
        "duration": 10,
        "start_time": "2021-12-21T18:03:32.114Z"
      },
      {
        "duration": 399,
        "start_time": "2021-12-21T18:03:32.126Z"
      },
      {
        "duration": 84,
        "start_time": "2021-12-21T18:03:32.527Z"
      },
      {
        "duration": 37,
        "start_time": "2021-12-21T18:03:32.613Z"
      },
      {
        "duration": 37,
        "start_time": "2021-12-21T18:03:32.652Z"
      },
      {
        "duration": 444,
        "start_time": "2021-12-21T18:03:32.691Z"
      },
      {
        "duration": 34,
        "start_time": "2021-12-21T18:03:33.140Z"
      },
      {
        "duration": 434,
        "start_time": "2021-12-21T18:03:33.176Z"
      },
      {
        "duration": 9,
        "start_time": "2021-12-21T18:03:33.612Z"
      },
      {
        "duration": 22,
        "start_time": "2021-12-21T18:03:33.622Z"
      },
      {
        "duration": 61,
        "start_time": "2021-12-21T18:03:33.646Z"
      },
      {
        "duration": 32,
        "start_time": "2021-12-21T18:03:33.709Z"
      },
      {
        "duration": 7,
        "start_time": "2021-12-21T18:03:33.743Z"
      },
      {
        "duration": 5,
        "start_time": "2021-12-21T18:03:33.755Z"
      },
      {
        "duration": 9,
        "start_time": "2021-12-21T18:03:33.763Z"
      },
      {
        "duration": 4,
        "start_time": "2021-12-21T18:03:33.774Z"
      },
      {
        "duration": 10,
        "start_time": "2021-12-21T18:03:33.780Z"
      },
      {
        "duration": 6,
        "start_time": "2021-12-21T18:03:33.792Z"
      },
      {
        "duration": 50,
        "start_time": "2021-12-21T18:03:33.799Z"
      },
      {
        "duration": 4,
        "start_time": "2021-12-21T18:03:33.850Z"
      },
      {
        "duration": 16,
        "start_time": "2021-12-21T18:03:33.856Z"
      },
      {
        "duration": 36,
        "start_time": "2021-12-21T18:03:33.874Z"
      },
      {
        "duration": 9,
        "start_time": "2021-12-21T18:03:33.912Z"
      },
      {
        "duration": 4,
        "start_time": "2021-12-21T18:03:33.923Z"
      },
      {
        "duration": 15,
        "start_time": "2021-12-21T18:03:33.928Z"
      },
      {
        "duration": 4,
        "start_time": "2021-12-21T18:03:33.944Z"
      },
      {
        "duration": 506,
        "start_time": "2021-12-21T18:03:33.950Z"
      },
      {
        "duration": -60,
        "start_time": "2021-12-21T18:03:34.517Z"
      },
      {
        "duration": 19,
        "start_time": "2021-12-21T18:05:28.330Z"
      },
      {
        "duration": 23,
        "start_time": "2021-12-21T18:05:30.207Z"
      },
      {
        "duration": 37,
        "start_time": "2021-12-21T18:05:33.321Z"
      },
      {
        "duration": 25,
        "start_time": "2021-12-21T18:05:34.558Z"
      },
      {
        "duration": 1274,
        "start_time": "2021-12-21T18:05:41.098Z"
      },
      {
        "duration": 185,
        "start_time": "2021-12-21T18:05:42.374Z"
      },
      {
        "duration": 3,
        "start_time": "2021-12-21T18:05:42.561Z"
      },
      {
        "duration": 6,
        "start_time": "2021-12-21T18:05:42.566Z"
      },
      {
        "duration": 57,
        "start_time": "2021-12-21T18:05:42.573Z"
      },
      {
        "duration": 24,
        "start_time": "2021-12-21T18:05:42.631Z"
      },
      {
        "duration": 7,
        "start_time": "2021-12-21T18:05:42.657Z"
      },
      {
        "duration": 484,
        "start_time": "2021-12-21T18:05:42.667Z"
      },
      {
        "duration": 535,
        "start_time": "2021-12-21T18:05:43.153Z"
      },
      {
        "duration": 5,
        "start_time": "2021-12-21T18:05:43.690Z"
      },
      {
        "duration": 10,
        "start_time": "2021-12-21T18:05:43.697Z"
      },
      {
        "duration": 496,
        "start_time": "2021-12-21T18:05:43.709Z"
      },
      {
        "duration": 7,
        "start_time": "2021-12-21T18:05:44.207Z"
      },
      {
        "duration": 11,
        "start_time": "2021-12-21T18:05:44.215Z"
      },
      {
        "duration": 332,
        "start_time": "2021-12-21T18:05:44.228Z"
      },
      {
        "duration": 82,
        "start_time": "2021-12-21T18:05:44.562Z"
      },
      {
        "duration": 13,
        "start_time": "2021-12-21T18:05:44.646Z"
      },
      {
        "duration": 30,
        "start_time": "2021-12-21T18:05:44.660Z"
      },
      {
        "duration": 445,
        "start_time": "2021-12-21T18:05:44.692Z"
      },
      {
        "duration": 33,
        "start_time": "2021-12-21T18:05:45.141Z"
      },
      {
        "duration": 451,
        "start_time": "2021-12-21T18:05:45.176Z"
      },
      {
        "duration": 17,
        "start_time": "2021-12-21T18:05:45.629Z"
      },
      {
        "duration": 11,
        "start_time": "2021-12-21T18:05:45.649Z"
      },
      {
        "duration": 54,
        "start_time": "2021-12-21T18:05:45.662Z"
      },
      {
        "duration": 32,
        "start_time": "2021-12-21T18:05:45.718Z"
      },
      {
        "duration": 7,
        "start_time": "2021-12-21T18:05:45.752Z"
      },
      {
        "duration": 7,
        "start_time": "2021-12-21T18:05:45.760Z"
      },
      {
        "duration": 11,
        "start_time": "2021-12-21T18:05:45.769Z"
      },
      {
        "duration": 4,
        "start_time": "2021-12-21T18:05:45.782Z"
      },
      {
        "duration": 12,
        "start_time": "2021-12-21T18:05:45.787Z"
      },
      {
        "duration": 4,
        "start_time": "2021-12-21T18:05:45.800Z"
      },
      {
        "duration": 35,
        "start_time": "2021-12-21T18:05:45.806Z"
      },
      {
        "duration": 5,
        "start_time": "2021-12-21T18:05:45.843Z"
      },
      {
        "duration": 10,
        "start_time": "2021-12-21T18:05:45.850Z"
      },
      {
        "duration": 26,
        "start_time": "2021-12-21T18:05:45.862Z"
      },
      {
        "duration": 12,
        "start_time": "2021-12-21T18:05:45.890Z"
      },
      {
        "duration": 11,
        "start_time": "2021-12-21T18:05:45.904Z"
      },
      {
        "duration": 24,
        "start_time": "2021-12-21T18:05:45.917Z"
      },
      {
        "duration": 13,
        "start_time": "2021-12-21T18:05:45.943Z"
      },
      {
        "duration": 550,
        "start_time": "2021-12-21T18:05:45.958Z"
      },
      {
        "duration": 73,
        "start_time": "2021-12-21T18:05:46.438Z"
      },
      {
        "duration": 509,
        "start_time": "2021-12-21T18:06:51.582Z"
      },
      {
        "duration": 3,
        "start_time": "2021-12-21T18:06:59.479Z"
      },
      {
        "duration": 13,
        "start_time": "2021-12-21T18:07:01.357Z"
      },
      {
        "duration": 3,
        "start_time": "2021-12-21T18:07:38.385Z"
      },
      {
        "duration": 4,
        "start_time": "2021-12-21T18:07:46.539Z"
      },
      {
        "duration": 11,
        "start_time": "2021-12-21T18:07:49.626Z"
      },
      {
        "duration": 8,
        "start_time": "2021-12-21T18:17:26.833Z"
      },
      {
        "duration": 3,
        "start_time": "2021-12-21T18:20:30.307Z"
      },
      {
        "duration": 22,
        "start_time": "2021-12-21T18:20:34.498Z"
      },
      {
        "duration": 5,
        "start_time": "2021-12-21T18:21:00.793Z"
      },
      {
        "duration": 376,
        "start_time": "2021-12-21T18:22:36.525Z"
      },
      {
        "duration": 230,
        "start_time": "2021-12-21T18:23:00.247Z"
      },
      {
        "duration": 14,
        "start_time": "2021-12-21T18:23:10.713Z"
      },
      {
        "duration": 12,
        "start_time": "2021-12-21T18:23:13.871Z"
      },
      {
        "duration": 1303,
        "start_time": "2021-12-21T18:23:55.273Z"
      },
      {
        "duration": 186,
        "start_time": "2021-12-21T18:23:56.578Z"
      },
      {
        "duration": 3,
        "start_time": "2021-12-21T18:23:56.766Z"
      },
      {
        "duration": 5,
        "start_time": "2021-12-21T18:23:56.772Z"
      },
      {
        "duration": 47,
        "start_time": "2021-12-21T18:23:56.778Z"
      },
      {
        "duration": 26,
        "start_time": "2021-12-21T18:23:56.827Z"
      },
      {
        "duration": 5,
        "start_time": "2021-12-21T18:23:56.855Z"
      },
      {
        "duration": 445,
        "start_time": "2021-12-21T18:23:56.864Z"
      },
      {
        "duration": 423,
        "start_time": "2021-12-21T18:23:57.312Z"
      },
      {
        "duration": 6,
        "start_time": "2021-12-21T18:23:57.741Z"
      },
      {
        "duration": 10,
        "start_time": "2021-12-21T18:23:57.749Z"
      },
      {
        "duration": 690,
        "start_time": "2021-12-21T18:23:57.761Z"
      },
      {
        "duration": 7,
        "start_time": "2021-12-21T18:23:58.453Z"
      },
      {
        "duration": 4,
        "start_time": "2021-12-21T18:23:58.462Z"
      },
      {
        "duration": 352,
        "start_time": "2021-12-21T18:23:58.468Z"
      },
      {
        "duration": 78,
        "start_time": "2021-12-21T18:23:58.822Z"
      },
      {
        "duration": 13,
        "start_time": "2021-12-21T18:23:58.902Z"
      },
      {
        "duration": 50,
        "start_time": "2021-12-21T18:23:58.917Z"
      },
      {
        "duration": 643,
        "start_time": "2021-12-21T18:23:58.969Z"
      },
      {
        "duration": 52,
        "start_time": "2021-12-21T18:23:59.614Z"
      },
      {
        "duration": 439,
        "start_time": "2021-12-21T18:23:59.668Z"
      },
      {
        "duration": 9,
        "start_time": "2021-12-21T18:24:00.109Z"
      },
      {
        "duration": 20,
        "start_time": "2021-12-21T18:24:00.122Z"
      },
      {
        "duration": 60,
        "start_time": "2021-12-21T18:24:00.144Z"
      },
      {
        "duration": 10,
        "start_time": "2021-12-21T18:24:00.206Z"
      },
      {
        "duration": 20,
        "start_time": "2021-12-21T18:24:00.245Z"
      },
      {
        "duration": 6,
        "start_time": "2021-12-21T18:24:00.267Z"
      },
      {
        "duration": 13,
        "start_time": "2021-12-21T18:24:00.275Z"
      },
      {
        "duration": 5,
        "start_time": "2021-12-21T18:24:00.291Z"
      },
      {
        "duration": 14,
        "start_time": "2021-12-21T18:24:00.298Z"
      },
      {
        "duration": 16,
        "start_time": "2021-12-21T18:24:00.314Z"
      },
      {
        "duration": 4,
        "start_time": "2021-12-21T18:24:00.342Z"
      },
      {
        "duration": 17,
        "start_time": "2021-12-21T18:24:00.348Z"
      },
      {
        "duration": 17,
        "start_time": "2021-12-21T18:24:00.367Z"
      },
      {
        "duration": 11,
        "start_time": "2021-12-21T18:24:00.386Z"
      },
      {
        "duration": 5,
        "start_time": "2021-12-21T18:24:00.399Z"
      },
      {
        "duration": 20,
        "start_time": "2021-12-21T18:24:00.406Z"
      },
      {
        "duration": 3,
        "start_time": "2021-12-21T18:24:00.428Z"
      },
      {
        "duration": 4,
        "start_time": "2021-12-21T18:24:00.441Z"
      },
      {
        "duration": 17,
        "start_time": "2021-12-21T18:24:00.447Z"
      },
      {
        "duration": 14,
        "start_time": "2021-12-21T18:24:00.465Z"
      },
      {
        "duration": 12,
        "start_time": "2021-12-21T18:24:00.481Z"
      },
      {
        "duration": 668,
        "start_time": "2021-12-21T18:24:00.495Z"
      },
      {
        "duration": 24,
        "start_time": "2021-12-21T18:24:01.165Z"
      },
      {
        "duration": 10,
        "start_time": "2021-12-21T18:24:01.191Z"
      },
      {
        "duration": 34,
        "start_time": "2021-12-21T18:24:16.901Z"
      },
      {
        "duration": 24,
        "start_time": "2021-12-21T18:24:34.079Z"
      },
      {
        "duration": 315,
        "start_time": "2021-12-21T18:24:50.927Z"
      },
      {
        "duration": 203,
        "start_time": "2021-12-21T18:24:53.731Z"
      },
      {
        "duration": 5,
        "start_time": "2021-12-21T18:25:01.469Z"
      },
      {
        "duration": 334,
        "start_time": "2021-12-21T18:25:08.861Z"
      },
      {
        "duration": 279,
        "start_time": "2021-12-21T18:25:16.923Z"
      },
      {
        "duration": 215,
        "start_time": "2021-12-21T18:25:38.668Z"
      },
      {
        "duration": 43,
        "start_time": "2021-12-21T18:25:50.937Z"
      },
      {
        "duration": 21,
        "start_time": "2021-12-21T18:25:56.310Z"
      },
      {
        "duration": 23,
        "start_time": "2021-12-21T18:26:10.002Z"
      },
      {
        "duration": 3,
        "start_time": "2021-12-21T18:27:29.896Z"
      },
      {
        "duration": 23,
        "start_time": "2021-12-21T18:27:32.407Z"
      },
      {
        "duration": 21,
        "start_time": "2021-12-21T18:27:39.588Z"
      },
      {
        "duration": 35,
        "start_time": "2021-12-21T18:27:49.589Z"
      },
      {
        "duration": 22,
        "start_time": "2021-12-21T18:30:50.132Z"
      },
      {
        "duration": 16,
        "start_time": "2021-12-21T18:30:58.454Z"
      },
      {
        "duration": 10,
        "start_time": "2021-12-21T18:31:03.018Z"
      },
      {
        "duration": 29,
        "start_time": "2021-12-21T18:31:07.135Z"
      },
      {
        "duration": 287,
        "start_time": "2021-12-21T18:31:18.207Z"
      },
      {
        "duration": 79,
        "start_time": "2021-12-21T18:31:35.269Z"
      },
      {
        "duration": 1528,
        "start_time": "2021-12-21T18:32:04.285Z"
      },
      {
        "duration": 204,
        "start_time": "2021-12-21T18:32:05.815Z"
      },
      {
        "duration": 4,
        "start_time": "2021-12-21T18:32:06.021Z"
      },
      {
        "duration": 8,
        "start_time": "2021-12-21T18:32:06.027Z"
      },
      {
        "duration": 61,
        "start_time": "2021-12-21T18:32:06.037Z"
      },
      {
        "duration": 12,
        "start_time": "2021-12-21T18:32:06.099Z"
      },
      {
        "duration": 5,
        "start_time": "2021-12-21T18:32:06.113Z"
      },
      {
        "duration": 477,
        "start_time": "2021-12-21T18:32:06.120Z"
      },
      {
        "duration": 476,
        "start_time": "2021-12-21T18:32:06.600Z"
      },
      {
        "duration": 5,
        "start_time": "2021-12-21T18:32:07.078Z"
      },
      {
        "duration": 12,
        "start_time": "2021-12-21T18:32:07.085Z"
      },
      {
        "duration": 544,
        "start_time": "2021-12-21T18:32:07.099Z"
      },
      {
        "duration": 8,
        "start_time": "2021-12-21T18:32:07.645Z"
      },
      {
        "duration": 13,
        "start_time": "2021-12-21T18:32:07.655Z"
      },
      {
        "duration": 368,
        "start_time": "2021-12-21T18:32:07.670Z"
      },
      {
        "duration": 83,
        "start_time": "2021-12-21T18:32:08.042Z"
      },
      {
        "duration": 17,
        "start_time": "2021-12-21T18:32:08.145Z"
      },
      {
        "duration": 31,
        "start_time": "2021-12-21T18:32:08.164Z"
      },
      {
        "duration": 508,
        "start_time": "2021-12-21T18:32:08.196Z"
      },
      {
        "duration": 60,
        "start_time": "2021-12-21T18:32:08.706Z"
      },
      {
        "duration": 515,
        "start_time": "2021-12-21T18:32:08.768Z"
      },
      {
        "duration": 8,
        "start_time": "2021-12-21T18:32:09.286Z"
      },
      {
        "duration": 11,
        "start_time": "2021-12-21T18:32:09.296Z"
      },
      {
        "duration": 81,
        "start_time": "2021-12-21T18:32:09.309Z"
      },
      {
        "duration": 10,
        "start_time": "2021-12-21T18:32:09.392Z"
      },
      {
        "duration": 7,
        "start_time": "2021-12-21T18:32:09.404Z"
      },
      {
        "duration": 12,
        "start_time": "2021-12-21T18:32:09.415Z"
      },
      {
        "duration": 27,
        "start_time": "2021-12-21T18:32:09.441Z"
      },
      {
        "duration": 8,
        "start_time": "2021-12-21T18:32:09.470Z"
      },
      {
        "duration": 12,
        "start_time": "2021-12-21T18:32:09.480Z"
      },
      {
        "duration": 9,
        "start_time": "2021-12-21T18:32:09.494Z"
      },
      {
        "duration": 4,
        "start_time": "2021-12-21T18:32:09.505Z"
      },
      {
        "duration": 11,
        "start_time": "2021-12-21T18:32:09.510Z"
      },
      {
        "duration": 27,
        "start_time": "2021-12-21T18:32:09.523Z"
      },
      {
        "duration": 11,
        "start_time": "2021-12-21T18:32:09.552Z"
      },
      {
        "duration": 18,
        "start_time": "2021-12-21T18:32:09.565Z"
      },
      {
        "duration": 25,
        "start_time": "2021-12-21T18:32:09.585Z"
      },
      {
        "duration": 7,
        "start_time": "2021-12-21T18:32:09.612Z"
      },
      {
        "duration": 37,
        "start_time": "2021-12-21T18:32:09.621Z"
      },
      {
        "duration": 10,
        "start_time": "2021-12-21T18:32:09.660Z"
      },
      {
        "duration": 19,
        "start_time": "2021-12-21T18:32:09.672Z"
      },
      {
        "duration": 19,
        "start_time": "2021-12-21T18:32:09.693Z"
      },
      {
        "duration": 518,
        "start_time": "2021-12-21T18:32:09.714Z"
      },
      {
        "duration": 28,
        "start_time": "2021-12-21T18:32:10.206Z"
      },
      {
        "duration": 20,
        "start_time": "2021-12-21T18:32:10.215Z"
      },
      {
        "duration": 112,
        "start_time": "2021-12-21T18:35:57.091Z"
      },
      {
        "duration": 6182,
        "start_time": "2021-12-21T18:36:00.139Z"
      },
      {
        "duration": 5769,
        "start_time": "2021-12-21T18:36:13.217Z"
      },
      {
        "duration": 1121,
        "start_time": "2021-12-21T18:36:28.508Z"
      },
      {
        "duration": 195,
        "start_time": "2021-12-21T18:36:29.631Z"
      },
      {
        "duration": 3,
        "start_time": "2021-12-21T18:36:29.828Z"
      },
      {
        "duration": 6,
        "start_time": "2021-12-21T18:36:29.833Z"
      },
      {
        "duration": 51,
        "start_time": "2021-12-21T18:36:29.845Z"
      },
      {
        "duration": 11,
        "start_time": "2021-12-21T18:36:29.898Z"
      },
      {
        "duration": 6,
        "start_time": "2021-12-21T18:36:29.911Z"
      },
      {
        "duration": 486,
        "start_time": "2021-12-21T18:36:29.919Z"
      },
      {
        "duration": 547,
        "start_time": "2021-12-21T18:36:30.408Z"
      },
      {
        "duration": 5,
        "start_time": "2021-12-21T18:36:30.957Z"
      },
      {
        "duration": 17,
        "start_time": "2021-12-21T18:36:30.964Z"
      },
      {
        "duration": 498,
        "start_time": "2021-12-21T18:36:30.983Z"
      },
      {
        "duration": 5,
        "start_time": "2021-12-21T18:36:31.483Z"
      },
      {
        "duration": 23,
        "start_time": "2021-12-21T18:36:31.490Z"
      },
      {
        "duration": 380,
        "start_time": "2021-12-21T18:36:31.515Z"
      },
      {
        "duration": 85,
        "start_time": "2021-12-21T18:36:31.897Z"
      },
      {
        "duration": 14,
        "start_time": "2021-12-21T18:36:31.983Z"
      },
      {
        "duration": 54,
        "start_time": "2021-12-21T18:36:31.999Z"
      },
      {
        "duration": 433,
        "start_time": "2021-12-21T18:36:32.055Z"
      },
      {
        "duration": 31,
        "start_time": "2021-12-21T18:36:32.490Z"
      },
      {
        "duration": 460,
        "start_time": "2021-12-21T18:36:32.523Z"
      },
      {
        "duration": 9,
        "start_time": "2021-12-21T18:36:32.985Z"
      },
      {
        "duration": 15,
        "start_time": "2021-12-21T18:36:32.998Z"
      },
      {
        "duration": 75,
        "start_time": "2021-12-21T18:36:33.015Z"
      },
      {
        "duration": 10,
        "start_time": "2021-12-21T18:36:33.092Z"
      },
      {
        "duration": 19,
        "start_time": "2021-12-21T18:36:33.104Z"
      },
      {
        "duration": 49,
        "start_time": "2021-12-21T18:36:33.125Z"
      },
      {
        "duration": 29,
        "start_time": "2021-12-21T18:36:33.175Z"
      },
      {
        "duration": 30,
        "start_time": "2021-12-21T18:36:33.207Z"
      },
      {
        "duration": 24,
        "start_time": "2021-12-21T18:36:33.239Z"
      },
      {
        "duration": 28,
        "start_time": "2021-12-21T18:36:33.265Z"
      },
      {
        "duration": 23,
        "start_time": "2021-12-21T18:36:33.294Z"
      },
      {
        "duration": 42,
        "start_time": "2021-12-21T18:36:33.319Z"
      },
      {
        "duration": 50,
        "start_time": "2021-12-21T18:36:33.363Z"
      },
      {
        "duration": 16,
        "start_time": "2021-12-21T18:36:33.415Z"
      },
      {
        "duration": 41,
        "start_time": "2021-12-21T18:36:33.433Z"
      },
      {
        "duration": 25,
        "start_time": "2021-12-21T18:36:33.476Z"
      },
      {
        "duration": 23,
        "start_time": "2021-12-21T18:36:33.503Z"
      },
      {
        "duration": 42,
        "start_time": "2021-12-21T18:36:33.528Z"
      },
      {
        "duration": 14,
        "start_time": "2021-12-21T18:36:33.572Z"
      },
      {
        "duration": 37,
        "start_time": "2021-12-21T18:36:33.588Z"
      },
      {
        "duration": 28,
        "start_time": "2021-12-21T18:36:33.627Z"
      },
      {
        "duration": 5625,
        "start_time": "2021-12-21T18:36:33.657Z"
      },
      {
        "duration": 66,
        "start_time": "2021-12-21T18:36:39.218Z"
      },
      {
        "duration": 63,
        "start_time": "2021-12-21T18:36:39.222Z"
      },
      {
        "duration": 8,
        "start_time": "2021-12-21T18:36:43.700Z"
      },
      {
        "duration": 25,
        "start_time": "2021-12-21T18:36:48.114Z"
      },
      {
        "duration": 24,
        "start_time": "2021-12-21T18:36:53.468Z"
      },
      {
        "duration": 75,
        "start_time": "2021-12-21T18:37:16.053Z"
      },
      {
        "duration": 6062,
        "start_time": "2021-12-21T18:37:17.156Z"
      },
      {
        "duration": 25,
        "start_time": "2021-12-21T18:37:31.995Z"
      },
      {
        "duration": 24,
        "start_time": "2021-12-21T18:37:44.385Z"
      },
      {
        "duration": 13,
        "start_time": "2021-12-21T18:37:47.483Z"
      },
      {
        "duration": 22,
        "start_time": "2021-12-21T18:38:08.858Z"
      },
      {
        "duration": 9,
        "start_time": "2021-12-21T18:38:27.817Z"
      },
      {
        "duration": 13,
        "start_time": "2021-12-21T18:38:32.099Z"
      },
      {
        "duration": 17,
        "start_time": "2021-12-21T18:38:35.556Z"
      },
      {
        "duration": 8,
        "start_time": "2021-12-21T18:38:39.933Z"
      },
      {
        "duration": 9,
        "start_time": "2021-12-21T18:38:43.635Z"
      },
      {
        "duration": 10,
        "start_time": "2021-12-21T18:38:47.008Z"
      },
      {
        "duration": 8,
        "start_time": "2021-12-21T18:39:30.229Z"
      },
      {
        "duration": 353,
        "start_time": "2021-12-21T18:39:34.517Z"
      },
      {
        "duration": 24,
        "start_time": "2021-12-21T18:39:39.734Z"
      },
      {
        "duration": 17,
        "start_time": "2021-12-21T18:39:44.761Z"
      },
      {
        "duration": 24,
        "start_time": "2021-12-21T18:39:47.512Z"
      },
      {
        "duration": 338,
        "start_time": "2021-12-21T18:40:21.169Z"
      },
      {
        "duration": 30,
        "start_time": "2021-12-21T18:40:23.272Z"
      },
      {
        "duration": 19,
        "start_time": "2021-12-21T18:41:10.314Z"
      },
      {
        "duration": 33,
        "start_time": "2021-12-21T18:41:21.333Z"
      },
      {
        "duration": 19,
        "start_time": "2021-12-21T19:01:00.934Z"
      },
      {
        "duration": 5,
        "start_time": "2021-12-21T19:02:24.698Z"
      },
      {
        "duration": 5,
        "start_time": "2021-12-21T19:03:40.065Z"
      },
      {
        "duration": 21,
        "start_time": "2021-12-21T19:04:06.695Z"
      },
      {
        "duration": 5,
        "start_time": "2021-12-21T19:04:14.964Z"
      },
      {
        "duration": 19,
        "start_time": "2021-12-21T19:04:16.985Z"
      },
      {
        "duration": 42,
        "start_time": "2021-12-21T19:11:21.669Z"
      },
      {
        "duration": 6,
        "start_time": "2021-12-21T19:11:28.898Z"
      },
      {
        "duration": 80,
        "start_time": "2021-12-21T19:28:11.124Z"
      },
      {
        "duration": 206,
        "start_time": "2021-12-21T19:28:16.460Z"
      },
      {
        "duration": 7,
        "start_time": "2021-12-21T19:28:20.437Z"
      },
      {
        "duration": 4,
        "start_time": "2021-12-21T19:28:22.341Z"
      },
      {
        "duration": 4,
        "start_time": "2021-12-21T19:28:31.018Z"
      },
      {
        "duration": 4,
        "start_time": "2021-12-21T19:28:35.087Z"
      },
      {
        "duration": 193,
        "start_time": "2021-12-21T19:29:07.676Z"
      },
      {
        "duration": 207,
        "start_time": "2021-12-21T19:29:20.981Z"
      },
      {
        "duration": 196,
        "start_time": "2021-12-21T19:29:29.096Z"
      },
      {
        "duration": 246,
        "start_time": "2021-12-21T19:29:33.593Z"
      },
      {
        "duration": 215,
        "start_time": "2021-12-21T19:29:36.308Z"
      },
      {
        "duration": 7,
        "start_time": "2021-12-21T19:29:44.943Z"
      },
      {
        "duration": 634,
        "start_time": "2021-12-21T19:29:47.261Z"
      },
      {
        "duration": 5,
        "start_time": "2021-12-21T19:29:51.353Z"
      },
      {
        "duration": 4,
        "start_time": "2021-12-21T19:29:57.314Z"
      },
      {
        "duration": 265,
        "start_time": "2021-12-21T19:30:09.256Z"
      },
      {
        "duration": 4,
        "start_time": "2021-12-21T19:30:15.242Z"
      },
      {
        "duration": 5,
        "start_time": "2021-12-21T19:30:20.212Z"
      },
      {
        "duration": 198,
        "start_time": "2021-12-21T19:30:27.169Z"
      },
      {
        "duration": 4,
        "start_time": "2021-12-21T19:30:41.523Z"
      },
      {
        "duration": 4,
        "start_time": "2021-12-21T19:30:42.998Z"
      },
      {
        "duration": 3,
        "start_time": "2021-12-21T19:30:58.086Z"
      },
      {
        "duration": 4,
        "start_time": "2021-12-21T19:31:13.554Z"
      },
      {
        "duration": 3,
        "start_time": "2021-12-21T19:31:15.201Z"
      },
      {
        "duration": 3,
        "start_time": "2021-12-21T19:31:17.312Z"
      },
      {
        "duration": 3,
        "start_time": "2021-12-21T19:31:19.963Z"
      },
      {
        "duration": 4,
        "start_time": "2021-12-21T19:31:26.960Z"
      },
      {
        "duration": 5,
        "start_time": "2021-12-21T19:31:33.518Z"
      },
      {
        "duration": 80,
        "start_time": "2021-12-21T19:31:39.417Z"
      },
      {
        "duration": 3,
        "start_time": "2021-12-21T19:31:41.888Z"
      },
      {
        "duration": 243,
        "start_time": "2021-12-21T19:31:57.131Z"
      },
      {
        "duration": 4,
        "start_time": "2021-12-21T19:31:59.456Z"
      },
      {
        "duration": 3,
        "start_time": "2021-12-21T19:32:33.026Z"
      },
      {
        "duration": 79,
        "start_time": "2021-12-21T19:32:36.592Z"
      },
      {
        "duration": 3,
        "start_time": "2021-12-21T19:32:39.310Z"
      },
      {
        "duration": 4,
        "start_time": "2021-12-21T19:32:42.723Z"
      },
      {
        "duration": 2,
        "start_time": "2021-12-21T19:32:51.881Z"
      },
      {
        "duration": 3,
        "start_time": "2021-12-21T19:32:53.327Z"
      },
      {
        "duration": 3,
        "start_time": "2021-12-21T19:32:53.659Z"
      },
      {
        "duration": 4,
        "start_time": "2021-12-21T19:32:55.318Z"
      },
      {
        "duration": 4,
        "start_time": "2021-12-21T19:33:06.887Z"
      },
      {
        "duration": 3,
        "start_time": "2021-12-21T19:33:08.576Z"
      },
      {
        "duration": 251,
        "start_time": "2021-12-21T19:33:40.229Z"
      },
      {
        "duration": 2,
        "start_time": "2021-12-21T19:33:44.337Z"
      },
      {
        "duration": 3,
        "start_time": "2021-12-21T19:33:45.713Z"
      },
      {
        "duration": 3,
        "start_time": "2021-12-21T19:33:47.098Z"
      },
      {
        "duration": 5,
        "start_time": "2021-12-21T19:33:48.841Z"
      },
      {
        "duration": 3,
        "start_time": "2021-12-21T19:33:55.056Z"
      },
      {
        "duration": 5,
        "start_time": "2021-12-21T19:33:56.905Z"
      },
      {
        "duration": 5,
        "start_time": "2021-12-21T19:34:36.754Z"
      },
      {
        "duration": 3,
        "start_time": "2021-12-21T19:34:41.474Z"
      },
      {
        "duration": 3,
        "start_time": "2021-12-21T19:34:43.654Z"
      },
      {
        "duration": 304,
        "start_time": "2021-12-21T19:34:53.341Z"
      },
      {
        "duration": 3,
        "start_time": "2021-12-21T19:34:55.525Z"
      },
      {
        "duration": 2,
        "start_time": "2021-12-21T19:34:57.035Z"
      },
      {
        "duration": 5,
        "start_time": "2021-12-21T19:34:58.501Z"
      },
      {
        "duration": 41,
        "start_time": "2021-12-21T19:35:49.823Z"
      },
      {
        "duration": 24,
        "start_time": "2021-12-21T19:35:53.607Z"
      },
      {
        "duration": 34,
        "start_time": "2021-12-21T19:36:04.454Z"
      },
      {
        "duration": 66,
        "start_time": "2021-12-21T19:36:22.236Z"
      },
      {
        "duration": 25,
        "start_time": "2021-12-21T19:36:25.311Z"
      },
      {
        "duration": 1330,
        "start_time": "2021-12-21T19:37:18.687Z"
      },
      {
        "duration": 210,
        "start_time": "2021-12-21T19:37:20.020Z"
      },
      {
        "duration": 4,
        "start_time": "2021-12-21T19:37:20.232Z"
      },
      {
        "duration": 17,
        "start_time": "2021-12-21T19:37:20.238Z"
      },
      {
        "duration": 56,
        "start_time": "2021-12-21T19:37:20.258Z"
      },
      {
        "duration": 12,
        "start_time": "2021-12-21T19:37:20.315Z"
      },
      {
        "duration": 8,
        "start_time": "2021-12-21T19:37:20.342Z"
      },
      {
        "duration": 556,
        "start_time": "2021-12-21T19:37:20.353Z"
      },
      {
        "duration": 543,
        "start_time": "2021-12-21T19:37:20.912Z"
      },
      {
        "duration": 7,
        "start_time": "2021-12-21T19:37:21.458Z"
      },
      {
        "duration": 11,
        "start_time": "2021-12-21T19:37:21.467Z"
      },
      {
        "duration": 593,
        "start_time": "2021-12-21T19:37:21.480Z"
      },
      {
        "duration": 6,
        "start_time": "2021-12-21T19:37:22.075Z"
      },
      {
        "duration": 10,
        "start_time": "2021-12-21T19:37:22.083Z"
      },
      {
        "duration": 413,
        "start_time": "2021-12-21T19:37:22.095Z"
      },
      {
        "duration": 93,
        "start_time": "2021-12-21T19:37:22.510Z"
      },
      {
        "duration": 13,
        "start_time": "2021-12-21T19:37:22.605Z"
      },
      {
        "duration": 45,
        "start_time": "2021-12-21T19:37:22.621Z"
      },
      {
        "duration": 514,
        "start_time": "2021-12-21T19:37:22.669Z"
      },
      {
        "duration": 33,
        "start_time": "2021-12-21T19:37:23.186Z"
      },
      {
        "duration": 507,
        "start_time": "2021-12-21T19:37:23.241Z"
      },
      {
        "duration": 13,
        "start_time": "2021-12-21T19:37:23.751Z"
      },
      {
        "duration": 12,
        "start_time": "2021-12-21T19:37:23.768Z"
      },
      {
        "duration": 86,
        "start_time": "2021-12-21T19:37:23.783Z"
      },
      {
        "duration": 14,
        "start_time": "2021-12-21T19:37:23.872Z"
      },
      {
        "duration": 8,
        "start_time": "2021-12-21T19:37:23.889Z"
      },
      {
        "duration": 11,
        "start_time": "2021-12-21T19:37:23.899Z"
      },
      {
        "duration": 29,
        "start_time": "2021-12-21T19:37:23.912Z"
      },
      {
        "duration": 5,
        "start_time": "2021-12-21T19:37:23.950Z"
      },
      {
        "duration": 14,
        "start_time": "2021-12-21T19:37:23.957Z"
      },
      {
        "duration": 12,
        "start_time": "2021-12-21T19:37:23.974Z"
      },
      {
        "duration": 5,
        "start_time": "2021-12-21T19:37:23.989Z"
      },
      {
        "duration": 11,
        "start_time": "2021-12-21T19:37:23.996Z"
      },
      {
        "duration": 12,
        "start_time": "2021-12-21T19:37:24.008Z"
      },
      {
        "duration": 31,
        "start_time": "2021-12-21T19:37:24.022Z"
      },
      {
        "duration": 19,
        "start_time": "2021-12-21T19:37:24.056Z"
      },
      {
        "duration": 7,
        "start_time": "2021-12-21T19:37:24.077Z"
      },
      {
        "duration": 23,
        "start_time": "2021-12-21T19:37:24.086Z"
      },
      {
        "duration": 3,
        "start_time": "2021-12-21T19:37:24.111Z"
      },
      {
        "duration": 9,
        "start_time": "2021-12-21T19:37:24.116Z"
      },
      {
        "duration": 10,
        "start_time": "2021-12-21T19:37:24.126Z"
      },
      {
        "duration": 16,
        "start_time": "2021-12-21T19:37:24.148Z"
      },
      {
        "duration": 29,
        "start_time": "2021-12-21T19:37:24.166Z"
      },
      {
        "duration": 4,
        "start_time": "2021-12-21T19:37:24.197Z"
      },
      {
        "duration": 322,
        "start_time": "2021-12-21T19:37:24.203Z"
      },
      {
        "duration": 114,
        "start_time": "2021-12-21T19:37:24.413Z"
      },
      {
        "duration": 112,
        "start_time": "2021-12-21T19:37:24.416Z"
      },
      {
        "duration": 110,
        "start_time": "2021-12-21T19:37:24.420Z"
      },
      {
        "duration": 108,
        "start_time": "2021-12-21T19:37:24.423Z"
      },
      {
        "duration": 94,
        "start_time": "2021-12-21T19:37:24.439Z"
      },
      {
        "duration": 33,
        "start_time": "2021-12-21T19:37:29.924Z"
      },
      {
        "duration": 40,
        "start_time": "2021-12-21T19:38:06.965Z"
      },
      {
        "duration": 10,
        "start_time": "2021-12-21T19:38:14.872Z"
      },
      {
        "duration": 1364,
        "start_time": "2021-12-21T19:39:43.961Z"
      },
      {
        "duration": 201,
        "start_time": "2021-12-21T19:39:45.328Z"
      },
      {
        "duration": 3,
        "start_time": "2021-12-21T19:39:45.531Z"
      },
      {
        "duration": 12,
        "start_time": "2021-12-21T19:39:45.535Z"
      },
      {
        "duration": 63,
        "start_time": "2021-12-21T19:39:45.549Z"
      },
      {
        "duration": 11,
        "start_time": "2021-12-21T19:39:45.614Z"
      },
      {
        "duration": 18,
        "start_time": "2021-12-21T19:39:45.627Z"
      },
      {
        "duration": 513,
        "start_time": "2021-12-21T19:39:45.648Z"
      },
      {
        "duration": 505,
        "start_time": "2021-12-21T19:39:46.164Z"
      },
      {
        "duration": 6,
        "start_time": "2021-12-21T19:39:46.671Z"
      },
      {
        "duration": 16,
        "start_time": "2021-12-21T19:39:46.679Z"
      },
      {
        "duration": 578,
        "start_time": "2021-12-21T19:39:46.697Z"
      },
      {
        "duration": 7,
        "start_time": "2021-12-21T19:39:47.277Z"
      },
      {
        "duration": 6,
        "start_time": "2021-12-21T19:39:47.286Z"
      },
      {
        "duration": 418,
        "start_time": "2021-12-21T19:39:47.293Z"
      },
      {
        "duration": 100,
        "start_time": "2021-12-21T19:39:47.713Z"
      },
      {
        "duration": 14,
        "start_time": "2021-12-21T19:39:47.814Z"
      },
      {
        "duration": 33,
        "start_time": "2021-12-21T19:39:47.849Z"
      },
      {
        "duration": 497,
        "start_time": "2021-12-21T19:39:47.884Z"
      },
      {
        "duration": 35,
        "start_time": "2021-12-21T19:39:48.383Z"
      },
      {
        "duration": 513,
        "start_time": "2021-12-21T19:39:48.419Z"
      },
      {
        "duration": 23,
        "start_time": "2021-12-21T19:39:48.934Z"
      },
      {
        "duration": 27,
        "start_time": "2021-12-21T19:39:48.961Z"
      },
      {
        "duration": 67,
        "start_time": "2021-12-21T19:39:48.991Z"
      },
      {
        "duration": 14,
        "start_time": "2021-12-21T19:39:49.060Z"
      },
      {
        "duration": 16,
        "start_time": "2021-12-21T19:39:49.076Z"
      },
      {
        "duration": 5,
        "start_time": "2021-12-21T19:39:49.094Z"
      },
      {
        "duration": 9,
        "start_time": "2021-12-21T19:39:49.102Z"
      },
      {
        "duration": 3,
        "start_time": "2021-12-21T19:39:49.113Z"
      },
      {
        "duration": 26,
        "start_time": "2021-12-21T19:39:49.118Z"
      },
      {
        "duration": 31,
        "start_time": "2021-12-21T19:39:49.146Z"
      },
      {
        "duration": 4,
        "start_time": "2021-12-21T19:39:49.180Z"
      },
      {
        "duration": 19,
        "start_time": "2021-12-21T19:39:49.187Z"
      },
      {
        "duration": 8,
        "start_time": "2021-12-21T19:39:49.207Z"
      },
      {
        "duration": 19,
        "start_time": "2021-12-21T19:39:49.216Z"
      },
      {
        "duration": 17,
        "start_time": "2021-12-21T19:39:49.237Z"
      },
      {
        "duration": 11,
        "start_time": "2021-12-21T19:39:49.256Z"
      },
      {
        "duration": 20,
        "start_time": "2021-12-21T19:39:49.269Z"
      },
      {
        "duration": 6,
        "start_time": "2021-12-21T19:39:49.291Z"
      },
      {
        "duration": 9,
        "start_time": "2021-12-21T19:39:49.298Z"
      },
      {
        "duration": 8,
        "start_time": "2021-12-21T19:39:49.309Z"
      },
      {
        "duration": 11,
        "start_time": "2021-12-21T19:39:49.319Z"
      },
      {
        "duration": 28,
        "start_time": "2021-12-21T19:39:49.332Z"
      },
      {
        "duration": 5,
        "start_time": "2021-12-21T19:39:49.362Z"
      },
      {
        "duration": 19,
        "start_time": "2021-12-21T19:39:49.370Z"
      },
      {
        "duration": 5,
        "start_time": "2021-12-21T19:39:49.391Z"
      },
      {
        "duration": 25,
        "start_time": "2021-12-21T19:39:49.399Z"
      },
      {
        "duration": 19,
        "start_time": "2021-12-21T19:39:49.426Z"
      },
      {
        "duration": 38,
        "start_time": "2021-12-21T19:39:49.457Z"
      },
      {
        "duration": 15,
        "start_time": "2021-12-21T19:39:49.497Z"
      },
      {
        "duration": 17,
        "start_time": "2021-12-21T19:41:36.754Z"
      },
      {
        "duration": 1234,
        "start_time": "2021-12-21T19:49:58.414Z"
      },
      {
        "duration": 186,
        "start_time": "2021-12-21T19:49:59.650Z"
      },
      {
        "duration": 3,
        "start_time": "2021-12-21T19:49:59.839Z"
      },
      {
        "duration": 13,
        "start_time": "2021-12-21T19:49:59.848Z"
      },
      {
        "duration": 54,
        "start_time": "2021-12-21T19:49:59.863Z"
      },
      {
        "duration": 23,
        "start_time": "2021-12-21T19:49:59.919Z"
      },
      {
        "duration": 20,
        "start_time": "2021-12-21T19:49:59.949Z"
      },
      {
        "duration": 542,
        "start_time": "2021-12-21T19:49:59.973Z"
      },
      {
        "duration": 445,
        "start_time": "2021-12-21T19:50:00.518Z"
      },
      {
        "duration": 6,
        "start_time": "2021-12-21T19:50:00.965Z"
      },
      {
        "duration": 76,
        "start_time": "2021-12-21T19:50:00.973Z"
      },
      {
        "duration": 517,
        "start_time": "2021-12-21T19:50:01.051Z"
      },
      {
        "duration": 5,
        "start_time": "2021-12-21T19:50:01.570Z"
      },
      {
        "duration": 28,
        "start_time": "2021-12-21T19:50:01.577Z"
      },
      {
        "duration": 377,
        "start_time": "2021-12-21T19:50:01.606Z"
      },
      {
        "duration": 90,
        "start_time": "2021-12-21T19:50:01.984Z"
      },
      {
        "duration": 12,
        "start_time": "2021-12-21T19:50:02.076Z"
      },
      {
        "duration": 58,
        "start_time": "2021-12-21T19:50:02.090Z"
      },
      {
        "duration": 438,
        "start_time": "2021-12-21T19:50:02.150Z"
      },
      {
        "duration": 32,
        "start_time": "2021-12-21T19:50:02.590Z"
      },
      {
        "duration": 436,
        "start_time": "2021-12-21T19:50:02.641Z"
      },
      {
        "duration": 9,
        "start_time": "2021-12-21T19:50:03.079Z"
      },
      {
        "duration": 7,
        "start_time": "2021-12-21T19:50:03.092Z"
      },
      {
        "duration": 77,
        "start_time": "2021-12-21T19:50:03.102Z"
      },
      {
        "duration": 9,
        "start_time": "2021-12-21T19:50:03.181Z"
      },
      {
        "duration": 17,
        "start_time": "2021-12-21T19:50:03.192Z"
      },
      {
        "duration": 5,
        "start_time": "2021-12-21T19:50:03.211Z"
      },
      {
        "duration": 13,
        "start_time": "2021-12-21T19:50:03.218Z"
      },
      {
        "duration": 15,
        "start_time": "2021-12-21T19:50:03.233Z"
      },
      {
        "duration": 32,
        "start_time": "2021-12-21T19:50:03.250Z"
      },
      {
        "duration": 11,
        "start_time": "2021-12-21T19:50:03.284Z"
      },
      {
        "duration": 3,
        "start_time": "2021-12-21T19:50:03.297Z"
      },
      {
        "duration": 9,
        "start_time": "2021-12-21T19:50:03.302Z"
      },
      {
        "duration": 8,
        "start_time": "2021-12-21T19:50:03.313Z"
      },
      {
        "duration": 13,
        "start_time": "2021-12-21T19:50:03.323Z"
      },
      {
        "duration": 13,
        "start_time": "2021-12-21T19:50:03.338Z"
      },
      {
        "duration": 16,
        "start_time": "2021-12-21T19:50:03.352Z"
      },
      {
        "duration": 17,
        "start_time": "2021-12-21T19:50:03.370Z"
      },
      {
        "duration": 3,
        "start_time": "2021-12-21T19:50:03.388Z"
      },
      {
        "duration": 7,
        "start_time": "2021-12-21T19:50:03.392Z"
      },
      {
        "duration": 10,
        "start_time": "2021-12-21T19:50:03.401Z"
      },
      {
        "duration": 13,
        "start_time": "2021-12-21T19:50:03.412Z"
      },
      {
        "duration": 30,
        "start_time": "2021-12-21T19:50:03.427Z"
      },
      {
        "duration": 4,
        "start_time": "2021-12-21T19:50:03.459Z"
      },
      {
        "duration": 8,
        "start_time": "2021-12-21T19:50:03.464Z"
      },
      {
        "duration": 13,
        "start_time": "2021-12-21T19:50:03.474Z"
      },
      {
        "duration": 26,
        "start_time": "2021-12-21T19:50:03.489Z"
      },
      {
        "duration": 36,
        "start_time": "2021-12-21T19:50:03.517Z"
      },
      {
        "duration": 18,
        "start_time": "2021-12-21T19:50:03.555Z"
      },
      {
        "duration": 1384,
        "start_time": "2021-12-21T19:51:16.503Z"
      },
      {
        "duration": 202,
        "start_time": "2021-12-21T19:51:17.889Z"
      },
      {
        "duration": 3,
        "start_time": "2021-12-21T19:51:18.093Z"
      },
      {
        "duration": 25,
        "start_time": "2021-12-21T19:51:18.098Z"
      },
      {
        "duration": 57,
        "start_time": "2021-12-21T19:51:18.124Z"
      },
      {
        "duration": 16,
        "start_time": "2021-12-21T19:51:18.183Z"
      },
      {
        "duration": 5,
        "start_time": "2021-12-21T19:51:18.201Z"
      },
      {
        "duration": 557,
        "start_time": "2021-12-21T19:51:18.209Z"
      },
      {
        "duration": 468,
        "start_time": "2021-12-21T19:51:18.769Z"
      },
      {
        "duration": 5,
        "start_time": "2021-12-21T19:51:19.239Z"
      },
      {
        "duration": 11,
        "start_time": "2021-12-21T19:51:19.247Z"
      },
      {
        "duration": 551,
        "start_time": "2021-12-21T19:51:19.261Z"
      },
      {
        "duration": 5,
        "start_time": "2021-12-21T19:51:19.814Z"
      },
      {
        "duration": 7,
        "start_time": "2021-12-21T19:51:19.821Z"
      },
      {
        "duration": 380,
        "start_time": "2021-12-21T19:51:19.829Z"
      },
      {
        "duration": 89,
        "start_time": "2021-12-21T19:51:20.211Z"
      },
      {
        "duration": 12,
        "start_time": "2021-12-21T19:51:20.302Z"
      },
      {
        "duration": 48,
        "start_time": "2021-12-21T19:51:20.316Z"
      },
      {
        "duration": 506,
        "start_time": "2021-12-21T19:51:20.367Z"
      },
      {
        "duration": 32,
        "start_time": "2021-12-21T19:51:20.875Z"
      },
      {
        "duration": 505,
        "start_time": "2021-12-21T19:51:20.909Z"
      },
      {
        "duration": 11,
        "start_time": "2021-12-21T19:51:21.415Z"
      },
      {
        "duration": 19,
        "start_time": "2021-12-21T19:51:21.442Z"
      },
      {
        "duration": 74,
        "start_time": "2021-12-21T19:51:21.464Z"
      },
      {
        "duration": 13,
        "start_time": "2021-12-21T19:51:21.540Z"
      },
      {
        "duration": 23,
        "start_time": "2021-12-21T19:51:21.555Z"
      },
      {
        "duration": 36,
        "start_time": "2021-12-21T19:51:21.580Z"
      },
      {
        "duration": 21,
        "start_time": "2021-12-21T19:51:21.618Z"
      },
      {
        "duration": 27,
        "start_time": "2021-12-21T19:51:21.640Z"
      },
      {
        "duration": 40,
        "start_time": "2021-12-21T19:51:21.669Z"
      },
      {
        "duration": 34,
        "start_time": "2021-12-21T19:51:21.711Z"
      },
      {
        "duration": 19,
        "start_time": "2021-12-21T19:51:21.746Z"
      },
      {
        "duration": 22,
        "start_time": "2021-12-21T19:51:21.767Z"
      },
      {
        "duration": 37,
        "start_time": "2021-12-21T19:51:21.791Z"
      },
      {
        "duration": 32,
        "start_time": "2021-12-21T19:51:21.829Z"
      },
      {
        "duration": 26,
        "start_time": "2021-12-21T19:51:21.863Z"
      },
      {
        "duration": 26,
        "start_time": "2021-12-21T19:51:21.890Z"
      },
      {
        "duration": 34,
        "start_time": "2021-12-21T19:51:21.917Z"
      },
      {
        "duration": 36,
        "start_time": "2021-12-21T19:51:21.953Z"
      },
      {
        "duration": 22,
        "start_time": "2021-12-21T19:51:21.991Z"
      },
      {
        "duration": 38,
        "start_time": "2021-12-21T19:51:22.015Z"
      },
      {
        "duration": 47,
        "start_time": "2021-12-21T19:51:22.056Z"
      },
      {
        "duration": 45,
        "start_time": "2021-12-21T19:51:22.104Z"
      },
      {
        "duration": 15,
        "start_time": "2021-12-21T19:51:22.151Z"
      },
      {
        "duration": 36,
        "start_time": "2021-12-21T19:51:22.168Z"
      },
      {
        "duration": 50,
        "start_time": "2021-12-21T19:51:22.206Z"
      },
      {
        "duration": 9,
        "start_time": "2021-12-21T19:51:22.258Z"
      },
      {
        "duration": 29,
        "start_time": "2021-12-21T19:51:22.269Z"
      },
      {
        "duration": 27,
        "start_time": "2021-12-21T19:51:22.300Z"
      },
      {
        "duration": 30,
        "start_time": "2021-12-21T19:51:22.329Z"
      },
      {
        "duration": 27,
        "start_time": "2021-12-21T19:52:50.414Z"
      },
      {
        "duration": 7,
        "start_time": "2021-12-21T19:57:30.660Z"
      },
      {
        "duration": 292,
        "start_time": "2021-12-21T19:58:05.658Z"
      },
      {
        "duration": 205,
        "start_time": "2021-12-21T19:59:43.182Z"
      },
      {
        "duration": 6,
        "start_time": "2021-12-21T19:59:53.086Z"
      },
      {
        "duration": 6,
        "start_time": "2021-12-21T20:02:21.726Z"
      },
      {
        "duration": 3,
        "start_time": "2021-12-21T20:14:03.909Z"
      },
      {
        "duration": 2,
        "start_time": "2021-12-21T20:19:56.929Z"
      },
      {
        "duration": 8,
        "start_time": "2021-12-21T20:24:16.486Z"
      },
      {
        "duration": 4,
        "start_time": "2021-12-21T20:26:29.692Z"
      },
      {
        "duration": 1972,
        "start_time": "2021-12-21T20:26:55.627Z"
      },
      {
        "duration": 4,
        "start_time": "2021-12-21T20:28:24.906Z"
      },
      {
        "duration": 1746,
        "start_time": "2021-12-21T20:28:27.111Z"
      },
      {
        "duration": 18,
        "start_time": "2021-12-21T20:29:55.600Z"
      },
      {
        "duration": 4,
        "start_time": "2021-12-21T20:31:33.364Z"
      },
      {
        "duration": 1567,
        "start_time": "2021-12-21T20:31:35.546Z"
      },
      {
        "duration": 5,
        "start_time": "2021-12-21T20:45:15.730Z"
      },
      {
        "duration": 3,
        "start_time": "2021-12-21T20:45:18.280Z"
      },
      {
        "duration": 3,
        "start_time": "2021-12-21T20:45:21.369Z"
      },
      {
        "duration": 4,
        "start_time": "2021-12-21T20:45:22.761Z"
      },
      {
        "duration": 1534,
        "start_time": "2021-12-21T20:45:24.806Z"
      },
      {
        "duration": 3,
        "start_time": "2021-12-21T20:45:55.061Z"
      },
      {
        "duration": 393,
        "start_time": "2021-12-21T20:45:57.106Z"
      },
      {
        "duration": 4,
        "start_time": "2021-12-21T20:46:06.216Z"
      },
      {
        "duration": 2112,
        "start_time": "2021-12-21T20:46:08.773Z"
      },
      {
        "duration": 5,
        "start_time": "2021-12-21T20:46:17.186Z"
      },
      {
        "duration": 3,
        "start_time": "2021-12-21T20:46:22.878Z"
      },
      {
        "duration": 2022,
        "start_time": "2021-12-21T20:46:25.795Z"
      },
      {
        "duration": 4,
        "start_time": "2021-12-21T20:46:48.321Z"
      },
      {
        "duration": 25079,
        "start_time": "2021-12-21T20:46:50.907Z"
      },
      {
        "duration": 90,
        "start_time": "2021-12-21T20:47:15.898Z"
      },
      {
        "duration": 4,
        "start_time": "2021-12-21T20:47:18.537Z"
      },
      {
        "duration": 240109,
        "start_time": "2021-12-21T20:47:20.737Z"
      },
      {
        "duration": 5,
        "start_time": "2021-12-21T20:51:29.911Z"
      },
      {
        "duration": 9,
        "start_time": "2021-12-21T20:51:52.957Z"
      },
      {
        "duration": 10,
        "start_time": "2021-12-21T20:52:03.896Z"
      },
      {
        "duration": 4,
        "start_time": "2021-12-21T20:52:11.336Z"
      },
      {
        "duration": 1630,
        "start_time": "2021-12-21T20:52:13.241Z"
      },
      {
        "duration": 27,
        "start_time": "2021-12-22T09:28:13.770Z"
      },
      {
        "duration": 21,
        "start_time": "2021-12-22T09:28:22.374Z"
      },
      {
        "duration": 5,
        "start_time": "2021-12-22T09:28:33.155Z"
      },
      {
        "duration": 4,
        "start_time": "2021-12-22T09:33:45.400Z"
      },
      {
        "duration": 3116,
        "start_time": "2021-12-22T09:33:47.238Z"
      },
      {
        "duration": 1447,
        "start_time": "2021-12-22T18:18:06.360Z"
      },
      {
        "duration": 322,
        "start_time": "2021-12-22T18:18:07.809Z"
      },
      {
        "duration": 3,
        "start_time": "2021-12-22T18:18:08.133Z"
      },
      {
        "duration": 14,
        "start_time": "2021-12-22T18:18:08.138Z"
      },
      {
        "duration": 48,
        "start_time": "2021-12-22T18:18:08.153Z"
      },
      {
        "duration": 11,
        "start_time": "2021-12-22T18:18:08.203Z"
      },
      {
        "duration": 4,
        "start_time": "2021-12-22T18:18:08.216Z"
      },
      {
        "duration": 428,
        "start_time": "2021-12-22T18:18:08.222Z"
      },
      {
        "duration": 397,
        "start_time": "2021-12-22T18:18:08.653Z"
      },
      {
        "duration": 4,
        "start_time": "2021-12-22T18:18:09.052Z"
      },
      {
        "duration": 10,
        "start_time": "2021-12-22T18:18:09.058Z"
      },
      {
        "duration": 443,
        "start_time": "2021-12-22T18:18:09.069Z"
      },
      {
        "duration": 5,
        "start_time": "2021-12-22T18:18:09.514Z"
      },
      {
        "duration": 5,
        "start_time": "2021-12-22T18:18:09.520Z"
      },
      {
        "duration": 309,
        "start_time": "2021-12-22T18:18:09.526Z"
      },
      {
        "duration": 62,
        "start_time": "2021-12-22T18:18:09.837Z"
      },
      {
        "duration": 12,
        "start_time": "2021-12-22T18:18:09.901Z"
      },
      {
        "duration": 47,
        "start_time": "2021-12-22T18:18:09.914Z"
      },
      {
        "duration": 397,
        "start_time": "2021-12-22T18:18:09.963Z"
      },
      {
        "duration": 30,
        "start_time": "2021-12-22T18:18:10.362Z"
      },
      {
        "duration": 402,
        "start_time": "2021-12-22T18:18:10.394Z"
      },
      {
        "duration": 9,
        "start_time": "2021-12-22T18:18:10.798Z"
      },
      {
        "duration": 7,
        "start_time": "2021-12-22T18:18:10.811Z"
      },
      {
        "duration": 43,
        "start_time": "2021-12-22T18:18:10.842Z"
      },
      {
        "duration": 9,
        "start_time": "2021-12-22T18:18:10.886Z"
      },
      {
        "duration": 7,
        "start_time": "2021-12-22T18:18:10.896Z"
      },
      {
        "duration": 6,
        "start_time": "2021-12-22T18:18:10.905Z"
      },
      {
        "duration": 33,
        "start_time": "2021-12-22T18:18:10.912Z"
      },
      {
        "duration": 4,
        "start_time": "2021-12-22T18:18:10.946Z"
      },
      {
        "duration": 10,
        "start_time": "2021-12-22T18:18:10.951Z"
      },
      {
        "duration": 9,
        "start_time": "2021-12-22T18:18:10.963Z"
      },
      {
        "duration": 3,
        "start_time": "2021-12-22T18:18:10.973Z"
      },
      {
        "duration": 11,
        "start_time": "2021-12-22T18:18:10.978Z"
      },
      {
        "duration": 8,
        "start_time": "2021-12-22T18:18:10.990Z"
      },
      {
        "duration": 12,
        "start_time": "2021-12-22T18:18:10.999Z"
      },
      {
        "duration": 8,
        "start_time": "2021-12-22T18:18:11.012Z"
      },
      {
        "duration": 4,
        "start_time": "2021-12-22T18:18:11.041Z"
      },
      {
        "duration": 13,
        "start_time": "2021-12-22T18:18:11.046Z"
      },
      {
        "duration": 2,
        "start_time": "2021-12-22T18:18:11.061Z"
      },
      {
        "duration": 6,
        "start_time": "2021-12-22T18:18:11.065Z"
      },
      {
        "duration": 9,
        "start_time": "2021-12-22T18:18:11.073Z"
      },
      {
        "duration": 10,
        "start_time": "2021-12-22T18:18:11.083Z"
      },
      {
        "duration": 18,
        "start_time": "2021-12-22T18:18:11.095Z"
      },
      {
        "duration": 3,
        "start_time": "2021-12-22T18:18:11.115Z"
      },
      {
        "duration": 22,
        "start_time": "2021-12-22T18:18:11.119Z"
      },
      {
        "duration": 12,
        "start_time": "2021-12-22T18:18:11.142Z"
      },
      {
        "duration": 26,
        "start_time": "2021-12-22T18:18:11.155Z"
      },
      {
        "duration": 16,
        "start_time": "2021-12-22T18:18:11.183Z"
      },
      {
        "duration": 7,
        "start_time": "2021-12-22T18:18:11.200Z"
      },
      {
        "duration": 20,
        "start_time": "2021-12-22T18:18:11.209Z"
      },
      {
        "duration": 14,
        "start_time": "2021-12-22T18:18:11.230Z"
      },
      {
        "duration": 6,
        "start_time": "2021-12-22T18:18:11.245Z"
      },
      {
        "duration": 11,
        "start_time": "2021-12-22T18:18:11.253Z"
      },
      {
        "duration": 9,
        "start_time": "2021-12-22T18:18:11.265Z"
      },
      {
        "duration": 1709,
        "start_time": "2021-12-22T18:18:11.275Z"
      },
      {
        "duration": 215,
        "start_time": "2021-12-22T18:18:25.043Z"
      },
      {
        "duration": 3,
        "start_time": "2021-12-22T18:18:29.544Z"
      },
      {
        "duration": 4,
        "start_time": "2021-12-22T18:18:31.073Z"
      },
      {
        "duration": 1607,
        "start_time": "2021-12-22T18:18:32.644Z"
      },
      {
        "duration": 4,
        "start_time": "2021-12-22T18:19:50.059Z"
      },
      {
        "duration": 10753,
        "start_time": "2021-12-22T18:19:52.086Z"
      },
      {
        "duration": 4,
        "start_time": "2021-12-22T18:21:02.133Z"
      },
      {
        "duration": 5,
        "start_time": "2021-12-22T18:21:26.530Z"
      },
      {
        "duration": 6,
        "start_time": "2021-12-22T18:22:34.649Z"
      },
      {
        "duration": 3,
        "start_time": "2021-12-22T18:22:40.947Z"
      },
      {
        "duration": 4,
        "start_time": "2021-12-22T18:22:42.627Z"
      },
      {
        "duration": 651931,
        "start_time": "2021-12-22T18:22:44.085Z"
      },
      {
        "duration": 5,
        "start_time": "2021-12-22T18:35:01.587Z"
      },
      {
        "duration": 3,
        "start_time": "2021-12-22T18:35:08.971Z"
      },
      {
        "duration": 4,
        "start_time": "2021-12-22T18:35:10.835Z"
      },
      {
        "duration": 417,
        "start_time": "2021-12-22T18:35:12.422Z"
      },
      {
        "duration": 5,
        "start_time": "2021-12-22T18:35:21.592Z"
      },
      {
        "duration": 1086030,
        "start_time": "2021-12-22T18:35:23.757Z"
      },
      {
        "duration": 3,
        "start_time": "2021-12-22T19:14:11.932Z"
      },
      {
        "duration": 4,
        "start_time": "2021-12-22T19:14:17.844Z"
      },
      {
        "duration": 5,
        "start_time": "2021-12-22T19:14:26.337Z"
      },
      {
        "duration": 3,
        "start_time": "2021-12-22T19:14:28.040Z"
      },
      {
        "duration": 5,
        "start_time": "2021-12-22T19:14:35.157Z"
      },
      {
        "duration": 3,
        "start_time": "2021-12-22T19:14:38.190Z"
      },
      {
        "duration": 3,
        "start_time": "2021-12-22T19:14:43.888Z"
      },
      {
        "duration": 4,
        "start_time": "2021-12-22T19:14:46.731Z"
      },
      {
        "duration": 3,
        "start_time": "2021-12-22T19:15:56.063Z"
      },
      {
        "duration": 3,
        "start_time": "2021-12-22T19:15:57.291Z"
      },
      {
        "duration": 872,
        "start_time": "2021-12-22T19:15:59.075Z"
      },
      {
        "duration": 4,
        "start_time": "2021-12-22T19:16:01.968Z"
      },
      {
        "duration": 8,
        "start_time": "2021-12-22T19:16:23.608Z"
      },
      {
        "duration": 3,
        "start_time": "2021-12-22T19:16:26.247Z"
      },
      {
        "duration": 4,
        "start_time": "2021-12-22T19:16:31.428Z"
      },
      {
        "duration": 151396,
        "start_time": "2021-12-22T19:16:33.457Z"
      },
      {
        "duration": 5,
        "start_time": "2021-12-22T19:29:31.664Z"
      },
      {
        "duration": 9,
        "start_time": "2021-12-22T19:31:50.462Z"
      },
      {
        "duration": 4,
        "start_time": "2021-12-22T19:42:55.831Z"
      },
      {
        "duration": 4,
        "start_time": "2021-12-22T19:43:49.470Z"
      },
      {
        "duration": 113,
        "start_time": "2021-12-22T19:44:39.854Z"
      },
      {
        "duration": 204,
        "start_time": "2021-12-22T19:45:40.451Z"
      },
      {
        "duration": 5,
        "start_time": "2021-12-22T19:45:50.301Z"
      },
      {
        "duration": 203,
        "start_time": "2021-12-22T19:46:03.519Z"
      },
      {
        "duration": 5,
        "start_time": "2021-12-22T19:49:07.713Z"
      },
      {
        "duration": 12,
        "start_time": "2021-12-22T19:49:12.973Z"
      },
      {
        "duration": 66,
        "start_time": "2021-12-22T19:49:23.191Z"
      },
      {
        "duration": 5,
        "start_time": "2021-12-22T19:49:27.537Z"
      },
      {
        "duration": 64,
        "start_time": "2021-12-22T19:49:58.249Z"
      },
      {
        "duration": 219,
        "start_time": "2021-12-22T19:50:02.192Z"
      },
      {
        "duration": 6,
        "start_time": "2021-12-22T19:50:07.258Z"
      },
      {
        "duration": 6,
        "start_time": "2021-12-22T19:55:02.856Z"
      },
      {
        "duration": 63,
        "start_time": "2021-12-22T19:56:16.612Z"
      },
      {
        "duration": 3,
        "start_time": "2021-12-22T19:56:52.899Z"
      },
      {
        "duration": 4348,
        "start_time": "2021-12-22T19:57:14.283Z"
      },
      {
        "duration": 63,
        "start_time": "2021-12-22T19:57:57.379Z"
      },
      {
        "duration": 5,
        "start_time": "2021-12-22T19:58:02.604Z"
      },
      {
        "duration": 6,
        "start_time": "2021-12-22T19:59:32.563Z"
      },
      {
        "duration": 199,
        "start_time": "2021-12-22T20:01:50.863Z"
      },
      {
        "duration": 243,
        "start_time": "2021-12-22T20:02:31.192Z"
      },
      {
        "duration": 3,
        "start_time": "2021-12-22T20:02:35.107Z"
      },
      {
        "duration": 12,
        "start_time": "2021-12-22T20:02:37.332Z"
      },
      {
        "duration": 275,
        "start_time": "2021-12-22T20:02:42.933Z"
      },
      {
        "duration": 5,
        "start_time": "2021-12-22T20:08:38.055Z"
      },
      {
        "duration": 220,
        "start_time": "2021-12-22T20:08:42.655Z"
      },
      {
        "duration": 210,
        "start_time": "2021-12-22T20:08:52.451Z"
      },
      {
        "duration": 2152,
        "start_time": "2021-12-23T16:08:17.655Z"
      },
      {
        "duration": 219,
        "start_time": "2021-12-23T16:08:19.811Z"
      },
      {
        "duration": 5,
        "start_time": "2021-12-23T16:08:20.034Z"
      },
      {
        "duration": 10,
        "start_time": "2021-12-23T16:08:20.043Z"
      },
      {
        "duration": 71,
        "start_time": "2021-12-23T16:08:20.056Z"
      },
      {
        "duration": 42,
        "start_time": "2021-12-23T16:08:20.130Z"
      },
      {
        "duration": 7,
        "start_time": "2021-12-23T16:08:20.175Z"
      },
      {
        "duration": 872,
        "start_time": "2021-12-23T16:08:20.187Z"
      },
      {
        "duration": 911,
        "start_time": "2021-12-23T16:08:21.062Z"
      },
      {
        "duration": 7,
        "start_time": "2021-12-23T16:08:21.977Z"
      },
      {
        "duration": 6,
        "start_time": "2021-12-23T16:08:21.987Z"
      },
      {
        "duration": 815,
        "start_time": "2021-12-23T16:08:21.996Z"
      },
      {
        "duration": 8,
        "start_time": "2021-12-23T16:08:22.824Z"
      },
      {
        "duration": 5,
        "start_time": "2021-12-23T16:08:22.834Z"
      },
      {
        "duration": 680,
        "start_time": "2021-12-23T16:08:22.842Z"
      },
      {
        "duration": 146,
        "start_time": "2021-12-23T16:08:23.525Z"
      },
      {
        "duration": 25,
        "start_time": "2021-12-23T16:08:23.674Z"
      },
      {
        "duration": 73,
        "start_time": "2021-12-23T16:08:23.702Z"
      },
      {
        "duration": 925,
        "start_time": "2021-12-23T16:08:23.778Z"
      },
      {
        "duration": 86,
        "start_time": "2021-12-23T16:08:24.706Z"
      },
      {
        "duration": 776,
        "start_time": "2021-12-23T16:08:24.795Z"
      },
      {
        "duration": 14,
        "start_time": "2021-12-23T16:08:25.573Z"
      },
      {
        "duration": 12,
        "start_time": "2021-12-23T16:08:25.593Z"
      },
      {
        "duration": 153,
        "start_time": "2021-12-23T16:08:25.608Z"
      },
      {
        "duration": 18,
        "start_time": "2021-12-23T16:08:25.763Z"
      },
      {
        "duration": 9,
        "start_time": "2021-12-23T16:08:25.783Z"
      },
      {
        "duration": 7,
        "start_time": "2021-12-23T16:08:25.795Z"
      },
      {
        "duration": 12,
        "start_time": "2021-12-23T16:08:25.805Z"
      },
      {
        "duration": 6,
        "start_time": "2021-12-23T16:08:25.861Z"
      },
      {
        "duration": 19,
        "start_time": "2021-12-23T16:08:25.870Z"
      },
      {
        "duration": 15,
        "start_time": "2021-12-23T16:08:25.892Z"
      },
      {
        "duration": 8,
        "start_time": "2021-12-23T16:08:25.910Z"
      },
      {
        "duration": 48,
        "start_time": "2021-12-23T16:08:25.920Z"
      },
      {
        "duration": 20,
        "start_time": "2021-12-23T16:08:25.971Z"
      },
      {
        "duration": 24,
        "start_time": "2021-12-23T16:08:25.994Z"
      },
      {
        "duration": 15,
        "start_time": "2021-12-23T16:08:26.020Z"
      },
      {
        "duration": 12,
        "start_time": "2021-12-23T16:08:26.037Z"
      },
      {
        "duration": 27,
        "start_time": "2021-12-23T16:08:26.051Z"
      },
      {
        "duration": 7,
        "start_time": "2021-12-23T16:08:26.080Z"
      },
      {
        "duration": 13,
        "start_time": "2021-12-23T16:08:26.089Z"
      },
      {
        "duration": 7,
        "start_time": "2021-12-23T16:08:26.105Z"
      },
      {
        "duration": 11,
        "start_time": "2021-12-23T16:08:26.114Z"
      },
      {
        "duration": 68,
        "start_time": "2021-12-23T16:08:26.128Z"
      },
      {
        "duration": 6,
        "start_time": "2021-12-23T16:08:26.199Z"
      },
      {
        "duration": 8,
        "start_time": "2021-12-23T16:08:26.208Z"
      },
      {
        "duration": 9,
        "start_time": "2021-12-23T16:08:26.219Z"
      },
      {
        "duration": 45,
        "start_time": "2021-12-23T16:08:26.260Z"
      },
      {
        "duration": 57,
        "start_time": "2021-12-23T16:08:26.307Z"
      },
      {
        "duration": 11,
        "start_time": "2021-12-23T16:08:26.368Z"
      },
      {
        "duration": 32,
        "start_time": "2021-12-23T16:08:26.382Z"
      },
      {
        "duration": 9,
        "start_time": "2021-12-23T16:08:26.417Z"
      },
      {
        "duration": 7,
        "start_time": "2021-12-23T16:08:26.460Z"
      },
      {
        "duration": 9,
        "start_time": "2021-12-23T16:08:26.470Z"
      },
      {
        "duration": 7,
        "start_time": "2021-12-23T16:08:26.482Z"
      },
      {
        "duration": 36,
        "start_time": "2021-12-23T17:33:06.599Z"
      },
      {
        "duration": 32,
        "start_time": "2021-12-23T17:33:06.605Z"
      },
      {
        "duration": 31,
        "start_time": "2021-12-23T17:33:06.609Z"
      },
      {
        "duration": 28,
        "start_time": "2021-12-23T17:33:06.614Z"
      },
      {
        "duration": 26,
        "start_time": "2021-12-23T17:33:06.618Z"
      },
      {
        "duration": 10,
        "start_time": "2021-12-23T17:33:06.636Z"
      },
      {
        "duration": 0,
        "start_time": "2021-12-23T17:33:06.648Z"
      },
      {
        "duration": 8090377,
        "start_time": "2021-12-23T17:33:09.350Z"
      },
      {
        "duration": 14,
        "start_time": "2021-12-23T20:14:06.933Z"
      },
      {
        "duration": 8,
        "start_time": "2021-12-23T20:14:35.037Z"
      },
      {
        "duration": 6,
        "start_time": "2021-12-23T20:14:39.189Z"
      },
      {
        "duration": 4,
        "start_time": "2021-12-23T20:15:26.597Z"
      },
      {
        "duration": 3481,
        "start_time": "2021-12-23T20:15:27.850Z"
      },
      {
        "duration": 4,
        "start_time": "2021-12-23T20:16:16.311Z"
      },
      {
        "duration": 5119,
        "start_time": "2021-12-23T20:16:17.244Z"
      },
      {
        "duration": 7,
        "start_time": "2021-12-23T20:16:28.458Z"
      },
      {
        "duration": 7,
        "start_time": "2021-12-23T20:16:47.470Z"
      },
      {
        "duration": 337,
        "start_time": "2021-12-23T20:17:56.461Z"
      },
      {
        "duration": 6,
        "start_time": "2021-12-23T20:17:58.335Z"
      },
      {
        "duration": 7,
        "start_time": "2021-12-23T20:18:08.533Z"
      },
      {
        "duration": 7,
        "start_time": "2021-12-23T21:30:09.963Z"
      },
      {
        "duration": 7,
        "start_time": "2021-12-23T21:30:15.368Z"
      },
      {
        "duration": 7,
        "start_time": "2021-12-23T21:30:30.543Z"
      },
      {
        "duration": 7,
        "start_time": "2021-12-23T21:30:35.356Z"
      },
      {
        "duration": 7,
        "start_time": "2021-12-23T21:30:50.272Z"
      },
      {
        "duration": 6,
        "start_time": "2021-12-23T21:30:54.075Z"
      },
      {
        "duration": 6,
        "start_time": "2021-12-23T21:30:56.682Z"
      },
      {
        "duration": 8474,
        "start_time": "2021-12-23T21:31:11.451Z"
      },
      {
        "duration": 330,
        "start_time": "2021-12-23T21:31:36.745Z"
      },
      {
        "duration": 377,
        "start_time": "2021-12-23T21:31:45.538Z"
      },
      {
        "duration": 8,
        "start_time": "2021-12-23T21:34:30.023Z"
      },
      {
        "duration": 7,
        "start_time": "2021-12-23T21:34:33.489Z"
      },
      {
        "duration": 393,
        "start_time": "2021-12-23T21:35:19.936Z"
      },
      {
        "duration": 354,
        "start_time": "2021-12-23T21:35:22.989Z"
      },
      {
        "duration": 10446,
        "start_time": "2021-12-23T21:35:54.093Z"
      },
      {
        "duration": 119,
        "start_time": "2021-12-23T21:36:04.424Z"
      },
      {
        "duration": 825,
        "start_time": "2021-12-23T21:36:07.162Z"
      },
      {
        "duration": 775,
        "start_time": "2021-12-23T21:36:38.551Z"
      },
      {
        "duration": 452,
        "start_time": "2021-12-23T21:37:10.053Z"
      },
      {
        "duration": 339,
        "start_time": "2021-12-23T21:38:25.163Z"
      },
      {
        "duration": 7,
        "start_time": "2021-12-23T21:39:06.094Z"
      },
      {
        "duration": 370,
        "start_time": "2021-12-23T21:39:50.279Z"
      },
      {
        "duration": 105,
        "start_time": "2021-12-23T21:40:06.529Z"
      },
      {
        "duration": 113,
        "start_time": "2021-12-23T21:40:06.922Z"
      },
      {
        "duration": 15,
        "start_time": "2021-12-23T21:40:11.202Z"
      },
      {
        "duration": 345,
        "start_time": "2021-12-23T21:40:19.728Z"
      },
      {
        "duration": 11,
        "start_time": "2021-12-23T21:40:22.654Z"
      },
      {
        "duration": 112,
        "start_time": "2021-12-23T21:40:49.162Z"
      },
      {
        "duration": 16,
        "start_time": "2021-12-23T21:40:51.986Z"
      },
      {
        "duration": 359,
        "start_time": "2021-12-23T21:41:06.099Z"
      },
      {
        "duration": 1311,
        "start_time": "2021-12-24T18:23:09.653Z"
      },
      {
        "duration": 237,
        "start_time": "2021-12-24T18:23:10.966Z"
      },
      {
        "duration": 3,
        "start_time": "2021-12-24T18:23:11.207Z"
      },
      {
        "duration": 35,
        "start_time": "2021-12-24T18:23:11.211Z"
      },
      {
        "duration": 59,
        "start_time": "2021-12-24T18:23:11.247Z"
      },
      {
        "duration": 11,
        "start_time": "2021-12-24T18:23:11.308Z"
      },
      {
        "duration": 6,
        "start_time": "2021-12-24T18:23:11.322Z"
      },
      {
        "duration": 480,
        "start_time": "2021-12-24T18:23:11.330Z"
      },
      {
        "duration": 439,
        "start_time": "2021-12-24T18:23:11.812Z"
      },
      {
        "duration": 5,
        "start_time": "2021-12-24T18:23:12.252Z"
      },
      {
        "duration": 25,
        "start_time": "2021-12-24T18:23:12.259Z"
      },
      {
        "duration": 487,
        "start_time": "2021-12-24T18:23:12.286Z"
      },
      {
        "duration": 5,
        "start_time": "2021-12-24T18:23:12.775Z"
      },
      {
        "duration": 11,
        "start_time": "2021-12-24T18:23:12.781Z"
      },
      {
        "duration": 312,
        "start_time": "2021-12-24T18:23:12.794Z"
      },
      {
        "duration": 93,
        "start_time": "2021-12-24T18:23:13.108Z"
      },
      {
        "duration": 13,
        "start_time": "2021-12-24T18:23:13.203Z"
      },
      {
        "duration": 28,
        "start_time": "2021-12-24T18:23:13.218Z"
      },
      {
        "duration": 472,
        "start_time": "2021-12-24T18:23:13.248Z"
      },
      {
        "duration": 31,
        "start_time": "2021-12-24T18:23:13.722Z"
      },
      {
        "duration": 453,
        "start_time": "2021-12-24T18:23:13.755Z"
      },
      {
        "duration": 10,
        "start_time": "2021-12-24T18:23:14.212Z"
      },
      {
        "duration": 9,
        "start_time": "2021-12-24T18:23:14.224Z"
      },
      {
        "duration": 79,
        "start_time": "2021-12-24T18:23:14.234Z"
      },
      {
        "duration": 10,
        "start_time": "2021-12-24T18:23:14.314Z"
      },
      {
        "duration": 9,
        "start_time": "2021-12-24T18:23:14.326Z"
      },
      {
        "duration": 5,
        "start_time": "2021-12-24T18:23:14.336Z"
      },
      {
        "duration": 8,
        "start_time": "2021-12-24T18:23:14.342Z"
      },
      {
        "duration": 4,
        "start_time": "2021-12-24T18:23:14.351Z"
      },
      {
        "duration": 35,
        "start_time": "2021-12-24T18:23:14.356Z"
      },
      {
        "duration": 10,
        "start_time": "2021-12-24T18:23:14.393Z"
      },
      {
        "duration": 3,
        "start_time": "2021-12-24T18:23:14.405Z"
      },
      {
        "duration": 9,
        "start_time": "2021-12-24T18:23:14.410Z"
      },
      {
        "duration": 7,
        "start_time": "2021-12-24T18:23:14.421Z"
      },
      {
        "duration": 7,
        "start_time": "2021-12-24T18:23:14.430Z"
      },
      {
        "duration": 11,
        "start_time": "2021-12-24T18:23:14.439Z"
      },
      {
        "duration": 4,
        "start_time": "2021-12-24T18:23:14.451Z"
      },
      {
        "duration": 14,
        "start_time": "2021-12-24T18:23:14.492Z"
      },
      {
        "duration": 3,
        "start_time": "2021-12-24T18:23:14.507Z"
      },
      {
        "duration": 21,
        "start_time": "2021-12-24T18:23:14.512Z"
      },
      {
        "duration": 11,
        "start_time": "2021-12-24T18:23:14.535Z"
      },
      {
        "duration": 12,
        "start_time": "2021-12-24T18:23:14.548Z"
      },
      {
        "duration": 20,
        "start_time": "2021-12-24T18:23:14.563Z"
      },
      {
        "duration": 6,
        "start_time": "2021-12-24T18:23:14.585Z"
      },
      {
        "duration": 5,
        "start_time": "2021-12-24T18:23:14.593Z"
      },
      {
        "duration": 7,
        "start_time": "2021-12-24T18:23:14.599Z"
      },
      {
        "duration": 27,
        "start_time": "2021-12-24T18:23:14.607Z"
      },
      {
        "duration": 20,
        "start_time": "2021-12-24T18:23:14.636Z"
      },
      {
        "duration": 39,
        "start_time": "2021-12-24T18:23:14.658Z"
      },
      {
        "duration": 21,
        "start_time": "2021-12-24T18:23:14.699Z"
      },
      {
        "duration": 7,
        "start_time": "2021-12-24T18:23:14.722Z"
      },
      {
        "duration": 6,
        "start_time": "2021-12-24T18:23:14.731Z"
      },
      {
        "duration": 12,
        "start_time": "2021-12-24T18:23:14.738Z"
      },
      {
        "duration": 9,
        "start_time": "2021-12-24T18:23:14.752Z"
      },
      {
        "duration": 768229,
        "start_time": "2021-12-24T18:23:14.763Z"
      },
      {
        "duration": 101,
        "start_time": "2021-12-24T18:36:02.996Z"
      },
      {
        "duration": 272,
        "start_time": "2021-12-24T18:36:03.099Z"
      },
      {
        "duration": -936,
        "start_time": "2021-12-24T18:36:04.309Z"
      },
      {
        "duration": -941,
        "start_time": "2021-12-24T18:36:04.315Z"
      },
      {
        "duration": -950,
        "start_time": "2021-12-24T18:36:04.325Z"
      },
      {
        "duration": -954,
        "start_time": "2021-12-24T18:36:04.330Z"
      },
      {
        "duration": 1143,
        "start_time": "2021-12-24T18:42:41.616Z"
      },
      {
        "duration": 225,
        "start_time": "2021-12-24T18:42:42.761Z"
      },
      {
        "duration": 2,
        "start_time": "2021-12-24T18:42:42.988Z"
      },
      {
        "duration": 5,
        "start_time": "2021-12-24T18:42:42.992Z"
      },
      {
        "duration": 44,
        "start_time": "2021-12-24T18:42:42.999Z"
      },
      {
        "duration": 12,
        "start_time": "2021-12-24T18:42:43.045Z"
      },
      {
        "duration": 4,
        "start_time": "2021-12-24T18:42:43.059Z"
      },
      {
        "duration": 454,
        "start_time": "2021-12-24T18:42:43.092Z"
      },
      {
        "duration": 443,
        "start_time": "2021-12-24T18:42:43.548Z"
      },
      {
        "duration": 5,
        "start_time": "2021-12-24T18:42:43.993Z"
      },
      {
        "duration": 5,
        "start_time": "2021-12-24T18:42:44.000Z"
      },
      {
        "duration": 491,
        "start_time": "2021-12-24T18:42:44.006Z"
      },
      {
        "duration": 5,
        "start_time": "2021-12-24T18:42:44.499Z"
      },
      {
        "duration": 3,
        "start_time": "2021-12-24T18:42:44.506Z"
      },
      {
        "duration": 435,
        "start_time": "2021-12-24T18:42:44.510Z"
      },
      {
        "duration": 85,
        "start_time": "2021-12-24T18:42:44.947Z"
      },
      {
        "duration": 13,
        "start_time": "2021-12-24T18:42:45.034Z"
      },
      {
        "duration": 52,
        "start_time": "2021-12-24T18:42:45.049Z"
      },
      {
        "duration": 465,
        "start_time": "2021-12-24T18:42:45.103Z"
      },
      {
        "duration": 37,
        "start_time": "2021-12-24T18:42:45.570Z"
      },
      {
        "duration": 476,
        "start_time": "2021-12-24T18:42:45.608Z"
      },
      {
        "duration": 11,
        "start_time": "2021-12-24T18:42:46.087Z"
      },
      {
        "duration": 9,
        "start_time": "2021-12-24T18:42:46.102Z"
      },
      {
        "duration": 66,
        "start_time": "2021-12-24T18:42:46.113Z"
      },
      {
        "duration": 11,
        "start_time": "2021-12-24T18:42:46.191Z"
      },
      {
        "duration": 15,
        "start_time": "2021-12-24T18:42:46.204Z"
      },
      {
        "duration": 32,
        "start_time": "2021-12-24T18:42:46.221Z"
      },
      {
        "duration": 18,
        "start_time": "2021-12-24T18:42:46.254Z"
      },
      {
        "duration": 17,
        "start_time": "2021-12-24T18:42:46.273Z"
      },
      {
        "duration": 14,
        "start_time": "2021-12-24T18:42:46.292Z"
      },
      {
        "duration": 16,
        "start_time": "2021-12-24T18:42:46.308Z"
      },
      {
        "duration": 18,
        "start_time": "2021-12-24T18:42:46.326Z"
      },
      {
        "duration": 17,
        "start_time": "2021-12-24T18:42:46.345Z"
      },
      {
        "duration": 19,
        "start_time": "2021-12-24T18:42:46.364Z"
      },
      {
        "duration": 26,
        "start_time": "2021-12-24T18:42:46.385Z"
      },
      {
        "duration": 10,
        "start_time": "2021-12-24T18:42:46.413Z"
      },
      {
        "duration": 12,
        "start_time": "2021-12-24T18:42:46.425Z"
      },
      {
        "duration": 17,
        "start_time": "2021-12-24T18:42:46.438Z"
      },
      {
        "duration": 15,
        "start_time": "2021-12-24T18:42:46.457Z"
      },
      {
        "duration": 18,
        "start_time": "2021-12-24T18:42:46.473Z"
      },
      {
        "duration": 20,
        "start_time": "2021-12-24T18:42:46.492Z"
      },
      {
        "duration": 14,
        "start_time": "2021-12-24T18:42:46.514Z"
      },
      {
        "duration": 27,
        "start_time": "2021-12-24T18:42:46.529Z"
      },
      {
        "duration": 4,
        "start_time": "2021-12-24T18:42:46.557Z"
      },
      {
        "duration": 17,
        "start_time": "2021-12-24T18:42:46.562Z"
      },
      {
        "duration": 21,
        "start_time": "2021-12-24T18:42:46.581Z"
      },
      {
        "duration": 29,
        "start_time": "2021-12-24T18:42:46.604Z"
      },
      {
        "duration": 21,
        "start_time": "2021-12-24T18:42:46.635Z"
      },
      {
        "duration": 5,
        "start_time": "2021-12-24T18:42:46.658Z"
      },
      {
        "duration": 42,
        "start_time": "2021-12-24T18:42:46.665Z"
      },
      {
        "duration": 17,
        "start_time": "2021-12-24T18:42:46.708Z"
      },
      {
        "duration": 14,
        "start_time": "2021-12-24T18:42:46.727Z"
      },
      {
        "duration": 29,
        "start_time": "2021-12-24T18:42:46.742Z"
      },
      {
        "duration": 24,
        "start_time": "2021-12-24T18:42:46.773Z"
      },
      {
        "duration": 972394,
        "start_time": "2021-12-24T18:42:46.798Z"
      },
      {
        "duration": 99,
        "start_time": "2021-12-24T18:58:59.194Z"
      },
      {
        "duration": 228,
        "start_time": "2021-12-24T18:58:59.295Z"
      },
      {
        "duration": -948,
        "start_time": "2021-12-24T18:59:00.473Z"
      },
      {
        "duration": -957,
        "start_time": "2021-12-24T18:59:00.483Z"
      },
      {
        "duration": -960,
        "start_time": "2021-12-24T18:59:00.487Z"
      },
      {
        "duration": -963,
        "start_time": "2021-12-24T18:59:00.491Z"
      },
      {
        "duration": 5,
        "start_time": "2021-12-24T19:43:26.739Z"
      },
      {
        "duration": 2336,
        "start_time": "2021-12-24T19:43:32.316Z"
      },
      {
        "duration": 10,
        "start_time": "2021-12-24T19:43:36.527Z"
      },
      {
        "duration": 5,
        "start_time": "2021-12-24T19:43:39.631Z"
      },
      {
        "duration": 4,
        "start_time": "2021-12-24T19:43:46.542Z"
      },
      {
        "duration": 10,
        "start_time": "2021-12-24T19:44:01.968Z"
      },
      {
        "duration": 4,
        "start_time": "2021-12-24T19:44:04.822Z"
      },
      {
        "duration": 134,
        "start_time": "2021-12-24T19:44:06.943Z"
      },
      {
        "duration": 2,
        "start_time": "2021-12-24T19:44:19.713Z"
      },
      {
        "duration": 4,
        "start_time": "2021-12-24T19:44:22.127Z"
      },
      {
        "duration": 887,
        "start_time": "2021-12-24T19:44:23.700Z"
      },
      {
        "duration": 10,
        "start_time": "2021-12-24T19:44:59.900Z"
      },
      {
        "duration": 3,
        "start_time": "2021-12-24T19:45:01.765Z"
      },
      {
        "duration": 4,
        "start_time": "2021-12-24T19:45:03.499Z"
      },
      {
        "duration": 1776,
        "start_time": "2021-12-24T19:45:05.187Z"
      },
      {
        "duration": 6,
        "start_time": "2021-12-24T19:45:23.069Z"
      },
      {
        "duration": 11,
        "start_time": "2021-12-24T19:45:28.671Z"
      },
      {
        "duration": 5,
        "start_time": "2021-12-24T19:45:30.376Z"
      },
      {
        "duration": 5,
        "start_time": "2021-12-24T19:45:34.298Z"
      },
      {
        "duration": 10,
        "start_time": "2021-12-24T19:45:41.037Z"
      },
      {
        "duration": 4,
        "start_time": "2021-12-24T19:45:44.252Z"
      },
      {
        "duration": 2,
        "start_time": "2021-12-24T19:45:46.005Z"
      },
      {
        "duration": 1175,
        "start_time": "2021-12-24T19:45:47.477Z"
      },
      {
        "duration": 3,
        "start_time": "2021-12-24T19:45:51.700Z"
      },
      {
        "duration": 2,
        "start_time": "2021-12-24T19:45:53.160Z"
      },
      {
        "duration": 3128,
        "start_time": "2021-12-24T19:45:54.781Z"
      },
      {
        "duration": 6,
        "start_time": "2021-12-24T19:46:01.989Z"
      },
      {
        "duration": 143,
        "start_time": "2021-12-24T19:46:06.686Z"
      },
      {
        "duration": 875,
        "start_time": "2021-12-24T19:48:27.092Z"
      },
      {
        "duration": 7025,
        "start_time": "2021-12-24T19:49:12.152Z"
      },
      {
        "duration": 2002,
        "start_time": "2021-12-24T19:50:00.391Z"
      },
      {
        "duration": 6,
        "start_time": "2021-12-24T19:52:44.561Z"
      },
      {
        "duration": 5,
        "start_time": "2021-12-24T19:54:20.976Z"
      },
      {
        "duration": 3,
        "start_time": "2021-12-24T19:54:25.943Z"
      },
      {
        "duration": 166,
        "start_time": "2021-12-24T19:55:08.480Z"
      },
      {
        "duration": 2,
        "start_time": "2021-12-24T19:55:27.780Z"
      },
      {
        "duration": 2289,
        "start_time": "2021-12-24T19:55:54.833Z"
      },
      {
        "duration": 5,
        "start_time": "2021-12-24T19:55:58.028Z"
      },
      {
        "duration": 4,
        "start_time": "2021-12-24T19:57:02.916Z"
      },
      {
        "duration": 4,
        "start_time": "2021-12-24T19:57:06.161Z"
      },
      {
        "duration": 6,
        "start_time": "2021-12-24T19:57:13.176Z"
      },
      {
        "duration": 5,
        "start_time": "2021-12-24T19:57:15.487Z"
      },
      {
        "duration": 6,
        "start_time": "2021-12-24T19:58:34.968Z"
      },
      {
        "duration": 5,
        "start_time": "2021-12-24T19:58:55.640Z"
      },
      {
        "duration": 5,
        "start_time": "2021-12-24T19:59:01.223Z"
      },
      {
        "duration": 4,
        "start_time": "2021-12-24T19:59:02.626Z"
      },
      {
        "duration": 5,
        "start_time": "2021-12-24T19:59:08.566Z"
      },
      {
        "duration": 7,
        "start_time": "2021-12-24T19:59:13.088Z"
      },
      {
        "duration": 330,
        "start_time": "2021-12-24T19:59:32.211Z"
      },
      {
        "duration": 5,
        "start_time": "2021-12-24T19:59:37.876Z"
      },
      {
        "duration": 2765,
        "start_time": "2021-12-24T19:59:54.757Z"
      },
      {
        "duration": 3,
        "start_time": "2021-12-24T20:00:14.924Z"
      },
      {
        "duration": 2975,
        "start_time": "2021-12-24T20:00:16.605Z"
      },
      {
        "duration": 12,
        "start_time": "2021-12-24T20:01:21.425Z"
      },
      {
        "duration": 3,
        "start_time": "2021-12-24T20:01:23.646Z"
      },
      {
        "duration": 5,
        "start_time": "2021-12-24T20:01:24.964Z"
      },
      {
        "duration": 2798,
        "start_time": "2021-12-24T20:01:26.586Z"
      },
      {
        "duration": 135,
        "start_time": "2021-12-24T20:01:40.641Z"
      },
      {
        "duration": 5,
        "start_time": "2021-12-24T20:01:44.219Z"
      },
      {
        "duration": 4,
        "start_time": "2021-12-24T20:01:47.053Z"
      },
      {
        "duration": 2888,
        "start_time": "2021-12-24T20:01:48.713Z"
      },
      {
        "duration": 12,
        "start_time": "2021-12-24T20:15:38.312Z"
      },
      {
        "duration": 132,
        "start_time": "2021-12-24T20:35:02.236Z"
      },
      {
        "duration": 138,
        "start_time": "2021-12-24T20:35:05.183Z"
      },
      {
        "duration": 143,
        "start_time": "2021-12-24T20:35:07.906Z"
      },
      {
        "duration": 322,
        "start_time": "2021-12-24T20:47:42.589Z"
      },
      {
        "duration": 44,
        "start_time": "2021-12-24T20:47:55.637Z"
      },
      {
        "duration": 5,
        "start_time": "2021-12-24T20:47:58.018Z"
      },
      {
        "duration": 12,
        "start_time": "2021-12-24T20:49:23.577Z"
      },
      {
        "duration": 153,
        "start_time": "2021-12-24T20:49:29.700Z"
      },
      {
        "duration": 8,
        "start_time": "2021-12-24T20:51:00.930Z"
      },
      {
        "duration": 8,
        "start_time": "2021-12-24T20:51:10.878Z"
      },
      {
        "duration": 50,
        "start_time": "2021-12-24T20:51:12.315Z"
      },
      {
        "duration": 11,
        "start_time": "2021-12-24T20:51:13.886Z"
      },
      {
        "duration": 144,
        "start_time": "2021-12-24T20:51:20.936Z"
      },
      {
        "duration": 315,
        "start_time": "2021-12-24T20:51:29.053Z"
      },
      {
        "duration": 307,
        "start_time": "2021-12-24T20:51:33.364Z"
      },
      {
        "duration": 7,
        "start_time": "2021-12-24T20:51:45.229Z"
      },
      {
        "duration": 7,
        "start_time": "2021-12-24T20:51:58.111Z"
      },
      {
        "duration": 396,
        "start_time": "2021-12-24T20:53:01.352Z"
      },
      {
        "duration": 305,
        "start_time": "2021-12-24T20:54:02.968Z"
      },
      {
        "duration": 328,
        "start_time": "2021-12-24T20:54:07.087Z"
      },
      {
        "duration": 386,
        "start_time": "2021-12-24T20:55:08.429Z"
      },
      {
        "duration": 8,
        "start_time": "2021-12-24T20:55:36.986Z"
      },
      {
        "duration": 318,
        "start_time": "2021-12-24T20:55:38.411Z"
      },
      {
        "duration": 385,
        "start_time": "2021-12-24T20:55:40.514Z"
      },
      {
        "duration": 410,
        "start_time": "2021-12-24T20:55:47.301Z"
      },
      {
        "duration": 506,
        "start_time": "2021-12-24T20:55:51.809Z"
      },
      {
        "duration": 395,
        "start_time": "2021-12-24T20:57:14.548Z"
      },
      {
        "duration": 151,
        "start_time": "2021-12-24T20:57:27.401Z"
      },
      {
        "duration": 383,
        "start_time": "2021-12-24T20:57:32.577Z"
      },
      {
        "duration": 437,
        "start_time": "2021-12-24T20:57:56.097Z"
      },
      {
        "duration": 601,
        "start_time": "2021-12-24T20:59:16.200Z"
      },
      {
        "duration": 613,
        "start_time": "2021-12-24T20:59:24.232Z"
      },
      {
        "duration": 628,
        "start_time": "2021-12-24T20:59:29.122Z"
      },
      {
        "duration": 620,
        "start_time": "2021-12-24T20:59:40.168Z"
      },
      {
        "duration": 746,
        "start_time": "2021-12-24T20:59:44.322Z"
      },
      {
        "duration": 626,
        "start_time": "2021-12-24T20:59:47.962Z"
      },
      {
        "duration": 220,
        "start_time": "2021-12-24T20:59:54.714Z"
      },
      {
        "duration": 616,
        "start_time": "2021-12-24T20:59:58.099Z"
      },
      {
        "duration": 652,
        "start_time": "2021-12-24T21:00:05.773Z"
      },
      {
        "duration": 629,
        "start_time": "2021-12-24T21:00:34.288Z"
      },
      {
        "duration": 772,
        "start_time": "2021-12-24T21:00:44.003Z"
      },
      {
        "duration": 602,
        "start_time": "2021-12-24T21:01:17.582Z"
      },
      {
        "duration": 577,
        "start_time": "2021-12-24T21:01:24.438Z"
      },
      {
        "duration": 628,
        "start_time": "2021-12-24T21:01:29.775Z"
      },
      {
        "duration": 603,
        "start_time": "2021-12-24T21:01:33.530Z"
      },
      {
        "duration": 616,
        "start_time": "2021-12-24T21:01:39.542Z"
      },
      {
        "duration": 602,
        "start_time": "2021-12-24T21:01:44.504Z"
      },
      {
        "duration": 2481,
        "start_time": "2021-12-24T21:03:06.071Z"
      },
      {
        "duration": 6,
        "start_time": "2021-12-24T21:03:25.592Z"
      },
      {
        "duration": 142,
        "start_time": "2021-12-24T21:05:31.773Z"
      },
      {
        "duration": 10,
        "start_time": "2021-12-24T21:06:12.962Z"
      },
      {
        "duration": 2113,
        "start_time": "2021-12-24T21:06:36.790Z"
      },
      {
        "duration": 2196,
        "start_time": "2021-12-24T21:06:44.377Z"
      },
      {
        "duration": 2055,
        "start_time": "2021-12-24T21:06:49.875Z"
      },
      {
        "duration": 4,
        "start_time": "2021-12-24T21:06:55.772Z"
      },
      {
        "duration": 6,
        "start_time": "2021-12-24T21:06:59.155Z"
      },
      {
        "duration": 2289,
        "start_time": "2021-12-24T21:07:02.993Z"
      },
      {
        "duration": 43,
        "start_time": "2021-12-24T21:07:05.849Z"
      },
      {
        "duration": 6,
        "start_time": "2021-12-24T21:07:08.420Z"
      },
      {
        "duration": 2495,
        "start_time": "2021-12-24T21:08:41.814Z"
      },
      {
        "duration": 2866,
        "start_time": "2021-12-24T21:08:48.362Z"
      },
      {
        "duration": 3082,
        "start_time": "2021-12-24T21:09:00.334Z"
      },
      {
        "duration": 12,
        "start_time": "2021-12-24T21:09:12.993Z"
      },
      {
        "duration": 3,
        "start_time": "2021-12-24T21:09:32.362Z"
      },
      {
        "duration": 140,
        "start_time": "2021-12-24T21:09:40.511Z"
      },
      {
        "duration": 3,
        "start_time": "2021-12-24T21:12:11.245Z"
      },
      {
        "duration": 884,
        "start_time": "2021-12-24T21:12:45.107Z"
      },
      {
        "duration": 1067,
        "start_time": "2021-12-24T21:13:02.715Z"
      },
      {
        "duration": 2478,
        "start_time": "2021-12-24T21:13:06.441Z"
      },
      {
        "duration": 1670,
        "start_time": "2021-12-24T21:13:12.896Z"
      },
      {
        "duration": 15,
        "start_time": "2021-12-24T21:13:16.679Z"
      },
      {
        "duration": 44,
        "start_time": "2021-12-24T21:13:19.613Z"
      },
      {
        "duration": 8,
        "start_time": "2021-12-24T21:13:22.795Z"
      },
      {
        "duration": 53,
        "start_time": "2021-12-24T22:28:41.223Z"
      },
      {
        "duration": 1229,
        "start_time": "2021-12-25T06:52:45.441Z"
      },
      {
        "duration": 307,
        "start_time": "2021-12-25T06:52:46.673Z"
      },
      {
        "duration": 3,
        "start_time": "2021-12-25T06:52:46.982Z"
      },
      {
        "duration": 6,
        "start_time": "2021-12-25T06:52:46.987Z"
      },
      {
        "duration": 43,
        "start_time": "2021-12-25T06:52:47.194Z"
      },
      {
        "duration": 13,
        "start_time": "2021-12-25T06:52:48.540Z"
      },
      {
        "duration": 5,
        "start_time": "2021-12-25T06:52:48.856Z"
      },
      {
        "duration": 419,
        "start_time": "2021-12-25T06:52:49.344Z"
      },
      {
        "duration": 405,
        "start_time": "2021-12-25T06:52:49.811Z"
      },
      {
        "duration": 5,
        "start_time": "2021-12-25T06:52:50.217Z"
      },
      {
        "duration": 6,
        "start_time": "2021-12-25T06:52:50.309Z"
      },
      {
        "duration": 448,
        "start_time": "2021-12-25T06:52:50.495Z"
      },
      {
        "duration": 5,
        "start_time": "2021-12-25T06:52:50.945Z"
      },
      {
        "duration": 3,
        "start_time": "2021-12-25T06:52:51.209Z"
      },
      {
        "duration": 354,
        "start_time": "2021-12-25T06:52:51.352Z"
      },
      {
        "duration": 71,
        "start_time": "2021-12-25T06:52:51.858Z"
      },
      {
        "duration": 14,
        "start_time": "2021-12-25T06:52:52.401Z"
      },
      {
        "duration": 25,
        "start_time": "2021-12-25T06:52:52.909Z"
      },
      {
        "duration": 400,
        "start_time": "2021-12-25T06:52:53.294Z"
      },
      {
        "duration": 31,
        "start_time": "2021-12-25T06:52:53.855Z"
      },
      {
        "duration": 417,
        "start_time": "2021-12-25T06:52:54.217Z"
      },
      {
        "duration": 10,
        "start_time": "2021-12-25T06:52:54.636Z"
      },
      {
        "duration": 9,
        "start_time": "2021-12-25T06:52:54.810Z"
      },
      {
        "duration": 48,
        "start_time": "2021-12-25T06:52:55.875Z"
      },
      {
        "duration": 10,
        "start_time": "2021-12-25T06:52:56.397Z"
      },
      {
        "duration": 7,
        "start_time": "2021-12-25T06:53:36.836Z"
      },
      {
        "duration": 6,
        "start_time": "2021-12-25T06:53:37.142Z"
      },
      {
        "duration": 9,
        "start_time": "2021-12-25T06:53:37.927Z"
      },
      {
        "duration": 4,
        "start_time": "2021-12-25T06:53:38.823Z"
      },
      {
        "duration": 9,
        "start_time": "2021-12-25T06:54:49.981Z"
      },
      {
        "duration": 11,
        "start_time": "2021-12-25T06:54:51.944Z"
      },
      {
        "duration": 4,
        "start_time": "2021-12-25T06:55:37.401Z"
      },
      {
        "duration": 8,
        "start_time": "2021-12-25T06:55:41.476Z"
      },
      {
        "duration": 8,
        "start_time": "2021-12-25T06:55:42.087Z"
      },
      {
        "duration": 11,
        "start_time": "2021-12-25T06:56:01.726Z"
      },
      {
        "duration": 12,
        "start_time": "2021-12-25T06:56:02.418Z"
      },
      {
        "duration": 6,
        "start_time": "2021-12-25T06:56:02.948Z"
      },
      {
        "duration": 15,
        "start_time": "2021-12-25T06:56:03.104Z"
      },
      {
        "duration": 3,
        "start_time": "2021-12-25T06:56:03.271Z"
      },
      {
        "duration": 3,
        "start_time": "2021-12-25T06:56:03.413Z"
      },
      {
        "duration": 5,
        "start_time": "2021-12-25T06:56:03.588Z"
      },
      {
        "duration": 7,
        "start_time": "2021-12-25T06:56:03.750Z"
      },
      {
        "duration": 19,
        "start_time": "2021-12-25T06:56:34.095Z"
      },
      {
        "duration": 4,
        "start_time": "2021-12-25T06:56:35.113Z"
      },
      {
        "duration": 4,
        "start_time": "2021-12-25T06:56:36.112Z"
      },
      {
        "duration": 6,
        "start_time": "2021-12-25T06:57:02.837Z"
      },
      {
        "duration": 26,
        "start_time": "2021-12-25T06:57:04.143Z"
      },
      {
        "duration": 31,
        "start_time": "2021-12-25T06:57:04.588Z"
      },
      {
        "duration": 6,
        "start_time": "2021-12-25T06:57:29.905Z"
      },
      {
        "duration": 21,
        "start_time": "2021-12-25T06:57:30.552Z"
      },
      {
        "duration": 6,
        "start_time": "2021-12-25T06:57:31.193Z"
      },
      {
        "duration": 5,
        "start_time": "2021-12-25T06:57:33.353Z"
      },
      {
        "duration": 3,
        "start_time": "2021-12-25T06:58:04.584Z"
      },
      {
        "duration": 4,
        "start_time": "2021-12-25T06:58:05.817Z"
      },
      {
        "duration": 3,
        "start_time": "2021-12-25T06:58:18.052Z"
      },
      {
        "duration": 3,
        "start_time": "2021-12-25T06:58:20.615Z"
      },
      {
        "duration": 2861,
        "start_time": "2021-12-25T06:58:22.061Z"
      },
      {
        "duration": 4,
        "start_time": "2021-12-25T06:59:03.569Z"
      },
      {
        "duration": 13,
        "start_time": "2021-12-25T06:59:06.844Z"
      },
      {
        "duration": 546,
        "start_time": "2021-12-25T06:59:08.230Z"
      },
      {
        "duration": 27,
        "start_time": "2021-12-25T07:01:16.310Z"
      },
      {
        "duration": 2359,
        "start_time": "2021-12-25T08:36:36.442Z"
      },
      {
        "duration": 180,
        "start_time": "2021-12-25T08:36:38.802Z"
      },
      {
        "duration": 2,
        "start_time": "2021-12-25T08:36:38.984Z"
      },
      {
        "duration": 5,
        "start_time": "2021-12-25T08:36:38.988Z"
      },
      {
        "duration": 45,
        "start_time": "2021-12-25T08:36:38.994Z"
      },
      {
        "duration": 14,
        "start_time": "2021-12-25T08:36:39.041Z"
      },
      {
        "duration": 12,
        "start_time": "2021-12-25T08:36:39.056Z"
      },
      {
        "duration": 407,
        "start_time": "2021-12-25T08:36:39.070Z"
      },
      {
        "duration": 393,
        "start_time": "2021-12-25T08:36:39.479Z"
      },
      {
        "duration": 5,
        "start_time": "2021-12-25T08:36:39.873Z"
      },
      {
        "duration": 9,
        "start_time": "2021-12-25T08:36:39.879Z"
      },
      {
        "duration": 446,
        "start_time": "2021-12-25T08:36:39.889Z"
      },
      {
        "duration": 5,
        "start_time": "2021-12-25T08:36:40.337Z"
      },
      {
        "duration": 3,
        "start_time": "2021-12-25T08:36:40.343Z"
      },
      {
        "duration": 318,
        "start_time": "2021-12-25T08:36:40.348Z"
      },
      {
        "duration": 81,
        "start_time": "2021-12-25T08:36:40.668Z"
      },
      {
        "duration": 12,
        "start_time": "2021-12-25T08:36:40.751Z"
      },
      {
        "duration": 23,
        "start_time": "2021-12-25T08:36:40.764Z"
      },
      {
        "duration": 410,
        "start_time": "2021-12-25T08:36:40.789Z"
      },
      {
        "duration": 42,
        "start_time": "2021-12-25T08:36:41.200Z"
      },
      {
        "duration": 390,
        "start_time": "2021-12-25T08:36:41.243Z"
      },
      {
        "duration": 7,
        "start_time": "2021-12-25T08:36:41.635Z"
      },
      {
        "duration": 6,
        "start_time": "2021-12-25T08:36:41.646Z"
      },
      {
        "duration": 75,
        "start_time": "2021-12-25T08:36:41.654Z"
      },
      {
        "duration": 9,
        "start_time": "2021-12-25T08:36:41.730Z"
      },
      {
        "duration": 7,
        "start_time": "2021-12-25T08:36:41.740Z"
      },
      {
        "duration": 4,
        "start_time": "2021-12-25T08:36:41.749Z"
      },
      {
        "duration": 7,
        "start_time": "2021-12-25T08:36:41.754Z"
      },
      {
        "duration": 3,
        "start_time": "2021-12-25T08:36:41.762Z"
      },
      {
        "duration": 7,
        "start_time": "2021-12-25T08:36:41.767Z"
      },
      {
        "duration": 8,
        "start_time": "2021-12-25T08:36:41.775Z"
      },
      {
        "duration": 3,
        "start_time": "2021-12-25T08:36:41.785Z"
      },
      {
        "duration": 42,
        "start_time": "2021-12-25T08:36:41.789Z"
      },
      {
        "duration": 6,
        "start_time": "2021-12-25T08:36:41.832Z"
      },
      {
        "duration": 11,
        "start_time": "2021-12-25T08:36:41.840Z"
      },
      {
        "duration": 9,
        "start_time": "2021-12-25T08:36:41.852Z"
      },
      {
        "duration": 4,
        "start_time": "2021-12-25T08:36:41.862Z"
      },
      {
        "duration": 13,
        "start_time": "2021-12-25T08:36:41.867Z"
      },
      {
        "duration": 2,
        "start_time": "2021-12-25T08:36:41.882Z"
      },
      {
        "duration": 5,
        "start_time": "2021-12-25T08:36:41.885Z"
      },
      {
        "duration": 6,
        "start_time": "2021-12-25T08:36:41.891Z"
      },
      {
        "duration": 34,
        "start_time": "2021-12-25T08:36:41.898Z"
      },
      {
        "duration": 17,
        "start_time": "2021-12-25T08:36:41.934Z"
      },
      {
        "duration": 3,
        "start_time": "2021-12-25T08:36:41.952Z"
      },
      {
        "duration": 6,
        "start_time": "2021-12-25T08:36:41.957Z"
      },
      {
        "duration": 29,
        "start_time": "2021-12-25T08:36:41.964Z"
      },
      {
        "duration": 5,
        "start_time": "2021-12-25T08:36:41.994Z"
      },
      {
        "duration": 48,
        "start_time": "2021-12-25T08:36:42.001Z"
      },
      {
        "duration": 7,
        "start_time": "2021-12-25T08:36:42.051Z"
      },
      {
        "duration": 18,
        "start_time": "2021-12-25T08:36:42.059Z"
      },
      {
        "duration": 5,
        "start_time": "2021-12-25T08:36:42.079Z"
      },
      {
        "duration": 4,
        "start_time": "2021-12-25T08:36:42.086Z"
      },
      {
        "duration": 6,
        "start_time": "2021-12-25T08:36:42.091Z"
      },
      {
        "duration": 3,
        "start_time": "2021-12-25T08:36:42.127Z"
      },
      {
        "duration": 588398,
        "start_time": "2021-12-25T08:36:42.131Z"
      },
      {
        "duration": 102,
        "start_time": "2021-12-25T08:46:30.532Z"
      },
      {
        "duration": 8,
        "start_time": "2021-12-25T08:46:30.636Z"
      },
      {
        "duration": 7,
        "start_time": "2021-12-25T08:46:30.646Z"
      },
      {
        "duration": 3567,
        "start_time": "2021-12-25T08:46:30.654Z"
      },
      {
        "duration": 4,
        "start_time": "2021-12-25T08:46:34.222Z"
      },
      {
        "duration": 7,
        "start_time": "2021-12-25T08:46:34.228Z"
      },
      {
        "duration": 525,
        "start_time": "2021-12-25T08:46:34.237Z"
      }
    ],
    "kernelspec": {
      "display_name": "Python 3 (ipykernel)",
      "language": "python",
      "name": "python3"
    },
    "language_info": {
      "codemirror_mode": {
        "name": "ipython",
        "version": 3
      },
      "file_extension": ".py",
      "mimetype": "text/x-python",
      "name": "python",
      "nbconvert_exporter": "python",
      "pygments_lexer": "ipython3",
      "version": "3.9.5"
    },
    "toc": {
      "base_numbering": 1,
      "nav_menu": {},
      "number_sections": true,
      "sideBar": true,
      "skip_h1_title": true,
      "title_cell": "Table of Contents",
      "title_sidebar": "Contents",
      "toc_cell": false,
      "toc_position": {},
      "toc_section_display": true,
      "toc_window_display": false
    },
    "colab": {
      "name": "20-Stell-temperature-prediction.ipynb",
      "provenance": [],
      "collapsed_sections": [
        "PTVP0VBA5AyT",
        "eLCwqP0U5AyX",
        "K4dLyx0C5AyY",
        "TKd8pQVr5AyY",
        "1Euxwuqt5AyZ",
        "HL5pRRen5Aya",
        "Kg6ZBkmo5Ayb",
        "K8pKhCIn5Ayb",
        "9RvAqyEk5Ayc",
        "we_nkUFj5Ayf",
        "zAgQy1AX5Ayg",
        "PIQ6CPER5Ayi",
        "GdnALuDX5Ayn"
      ]
    }
  },
  "nbformat": 4,
  "nbformat_minor": 0
}