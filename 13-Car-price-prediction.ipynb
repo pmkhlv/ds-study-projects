{
  "cells": [
    {
      "cell_type": "markdown",
      "metadata": {
        "id": "q60qYe4spQTE"
      },
      "source": [
        "# Determining the cost of cars"
      ]
    },
    {
      "cell_type": "markdown",
      "metadata": {
        "id": "W_O_NI65pQTE"
      },
      "source": [
        "Service for the sale of used cars \"XXX\" is developing an application to attract new customers. You can quickly find out the market value of your car. We have historical data at our disposal: technical characteristics, configurations and prices of cars. I need to build a model to determine the cost.\n",
        "\n",
        "The customer is important:\n",
        "\n",
        "- quality of prediction;\n",
        "- prediction speed;\n",
        "- studying time."
      ]
    },
    {
      "cell_type": "markdown",
      "metadata": {
        "id": "eHjS2qJhpQTF"
      },
      "source": [
        "## Data preparation"
      ]
    },
    {
      "cell_type": "code",
      "execution_count": null,
      "metadata": {
        "id": "00yq-EtlpQTF"
      },
      "outputs": [],
      "source": [
        "import pandas as pd\n",
        "import numpy as np\n",
        "import matplotlib.pyplot as plt\n",
        "import matplotlib\n",
        "import seaborn as sns\n",
        "import time\n",
        "import lightgbm as lgb\n",
        "from catboost import CatBoostRegressor, CatBoost\n",
        "from sklearn.linear_model import LinearRegression\n",
        "from sklearn.preprocessing import OrdinalEncoder\n",
        "from sklearn.model_selection import train_test_split, GridSearchCV, RandomizedSearchCV \n",
        "from sklearn.metrics import mean_squared_error, make_scorer\n",
        "\n",
        "%matplotlib inline"
      ]
    },
    {
      "cell_type": "code",
      "execution_count": null,
      "metadata": {
        "id": "N9OTWBo_pQTH"
      },
      "outputs": [],
      "source": [
        "df = pd.read_csv('/datasets/autos.csv', parse_dates=['DateCrawled', 'DateCreated', 'LastSeen'])\n",
        "df.columns = df.columns.str.lower()"
      ]
    },
    {
      "cell_type": "code",
      "execution_count": null,
      "metadata": {
        "id": "x4UipyUkpQTH",
        "outputId": "61b0c763-d6d2-4f4a-adbd-05fa56be3156"
      },
      "outputs": [
        {
          "data": {
            "text/html": [
              "<div>\n",
              "<style scoped>\n",
              "    .dataframe tbody tr th:only-of-type {\n",
              "        vertical-align: middle;\n",
              "    }\n",
              "\n",
              "    .dataframe tbody tr th {\n",
              "        vertical-align: top;\n",
              "    }\n",
              "\n",
              "    .dataframe thead th {\n",
              "        text-align: right;\n",
              "    }\n",
              "</style>\n",
              "<table border=\"1\" class=\"dataframe\">\n",
              "  <thead>\n",
              "    <tr style=\"text-align: right;\">\n",
              "      <th></th>\n",
              "      <th>datecrawled</th>\n",
              "      <th>price</th>\n",
              "      <th>vehicletype</th>\n",
              "      <th>registrationyear</th>\n",
              "      <th>gearbox</th>\n",
              "      <th>power</th>\n",
              "      <th>model</th>\n",
              "      <th>kilometer</th>\n",
              "      <th>registrationmonth</th>\n",
              "      <th>fueltype</th>\n",
              "      <th>brand</th>\n",
              "      <th>notrepaired</th>\n",
              "      <th>datecreated</th>\n",
              "      <th>numberofpictures</th>\n",
              "      <th>postalcode</th>\n",
              "      <th>lastseen</th>\n",
              "    </tr>\n",
              "  </thead>\n",
              "  <tbody>\n",
              "    <tr>\n",
              "      <td>0</td>\n",
              "      <td>2016-03-24 11:52:17</td>\n",
              "      <td>480</td>\n",
              "      <td>NaN</td>\n",
              "      <td>1993</td>\n",
              "      <td>manual</td>\n",
              "      <td>0</td>\n",
              "      <td>golf</td>\n",
              "      <td>150000</td>\n",
              "      <td>0</td>\n",
              "      <td>petrol</td>\n",
              "      <td>volkswagen</td>\n",
              "      <td>NaN</td>\n",
              "      <td>2016-03-24</td>\n",
              "      <td>0</td>\n",
              "      <td>70435</td>\n",
              "      <td>2016-04-07 03:16:57</td>\n",
              "    </tr>\n",
              "    <tr>\n",
              "      <td>1</td>\n",
              "      <td>2016-03-24 10:58:45</td>\n",
              "      <td>18300</td>\n",
              "      <td>coupe</td>\n",
              "      <td>2011</td>\n",
              "      <td>manual</td>\n",
              "      <td>190</td>\n",
              "      <td>NaN</td>\n",
              "      <td>125000</td>\n",
              "      <td>5</td>\n",
              "      <td>gasoline</td>\n",
              "      <td>audi</td>\n",
              "      <td>yes</td>\n",
              "      <td>2016-03-24</td>\n",
              "      <td>0</td>\n",
              "      <td>66954</td>\n",
              "      <td>2016-04-07 01:46:50</td>\n",
              "    </tr>\n",
              "    <tr>\n",
              "      <td>2</td>\n",
              "      <td>2016-03-14 12:52:21</td>\n",
              "      <td>9800</td>\n",
              "      <td>suv</td>\n",
              "      <td>2004</td>\n",
              "      <td>auto</td>\n",
              "      <td>163</td>\n",
              "      <td>grand</td>\n",
              "      <td>125000</td>\n",
              "      <td>8</td>\n",
              "      <td>gasoline</td>\n",
              "      <td>jeep</td>\n",
              "      <td>NaN</td>\n",
              "      <td>2016-03-14</td>\n",
              "      <td>0</td>\n",
              "      <td>90480</td>\n",
              "      <td>2016-04-05 12:47:46</td>\n",
              "    </tr>\n",
              "    <tr>\n",
              "      <td>3</td>\n",
              "      <td>2016-03-17 16:54:04</td>\n",
              "      <td>1500</td>\n",
              "      <td>small</td>\n",
              "      <td>2001</td>\n",
              "      <td>manual</td>\n",
              "      <td>75</td>\n",
              "      <td>golf</td>\n",
              "      <td>150000</td>\n",
              "      <td>6</td>\n",
              "      <td>petrol</td>\n",
              "      <td>volkswagen</td>\n",
              "      <td>no</td>\n",
              "      <td>2016-03-17</td>\n",
              "      <td>0</td>\n",
              "      <td>91074</td>\n",
              "      <td>2016-03-17 17:40:17</td>\n",
              "    </tr>\n",
              "    <tr>\n",
              "      <td>4</td>\n",
              "      <td>2016-03-31 17:25:20</td>\n",
              "      <td>3600</td>\n",
              "      <td>small</td>\n",
              "      <td>2008</td>\n",
              "      <td>manual</td>\n",
              "      <td>69</td>\n",
              "      <td>fabia</td>\n",
              "      <td>90000</td>\n",
              "      <td>7</td>\n",
              "      <td>gasoline</td>\n",
              "      <td>skoda</td>\n",
              "      <td>no</td>\n",
              "      <td>2016-03-31</td>\n",
              "      <td>0</td>\n",
              "      <td>60437</td>\n",
              "      <td>2016-04-06 10:17:21</td>\n",
              "    </tr>\n",
              "  </tbody>\n",
              "</table>\n",
              "</div>"
            ],
            "text/plain": [
              "          datecrawled  price vehicletype  registrationyear gearbox  power  \\\n",
              "0 2016-03-24 11:52:17    480         NaN              1993  manual      0   \n",
              "1 2016-03-24 10:58:45  18300       coupe              2011  manual    190   \n",
              "2 2016-03-14 12:52:21   9800         suv              2004    auto    163   \n",
              "3 2016-03-17 16:54:04   1500       small              2001  manual     75   \n",
              "4 2016-03-31 17:25:20   3600       small              2008  manual     69   \n",
              "\n",
              "   model  kilometer  registrationmonth  fueltype       brand notrepaired  \\\n",
              "0   golf     150000                  0    petrol  volkswagen         NaN   \n",
              "1    NaN     125000                  5  gasoline        audi         yes   \n",
              "2  grand     125000                  8  gasoline        jeep         NaN   \n",
              "3   golf     150000                  6    petrol  volkswagen          no   \n",
              "4  fabia      90000                  7  gasoline       skoda          no   \n",
              "\n",
              "  datecreated  numberofpictures  postalcode            lastseen  \n",
              "0  2016-03-24                 0       70435 2016-04-07 03:16:57  \n",
              "1  2016-03-24                 0       66954 2016-04-07 01:46:50  \n",
              "2  2016-03-14                 0       90480 2016-04-05 12:47:46  \n",
              "3  2016-03-17                 0       91074 2016-03-17 17:40:17  \n",
              "4  2016-03-31                 0       60437 2016-04-06 10:17:21  "
            ]
          },
          "execution_count": 3,
          "metadata": {},
          "output_type": "execute_result"
        }
      ],
      "source": [
        "df.head()"
      ]
    },
    {
      "cell_type": "code",
      "execution_count": null,
      "metadata": {
        "id": "yqidYpIlpQTH",
        "outputId": "45ca8ac9-3aa2-4e49-ab68-3eed99cbfa54"
      },
      "outputs": [
        {
          "name": "stdout",
          "output_type": "stream",
          "text": [
            "<class 'pandas.core.frame.DataFrame'>\n",
            "RangeIndex: 354369 entries, 0 to 354368\n",
            "Data columns (total 16 columns):\n",
            "datecrawled          354369 non-null datetime64[ns]\n",
            "price                354369 non-null int64\n",
            "vehicletype          316879 non-null object\n",
            "registrationyear     354369 non-null int64\n",
            "gearbox              334536 non-null object\n",
            "power                354369 non-null int64\n",
            "model                334664 non-null object\n",
            "kilometer            354369 non-null int64\n",
            "registrationmonth    354369 non-null int64\n",
            "fueltype             321474 non-null object\n",
            "brand                354369 non-null object\n",
            "notrepaired          283215 non-null object\n",
            "datecreated          354369 non-null datetime64[ns]\n",
            "numberofpictures     354369 non-null int64\n",
            "postalcode           354369 non-null int64\n",
            "lastseen             354369 non-null datetime64[ns]\n",
            "dtypes: datetime64[ns](3), int64(7), object(6)\n",
            "memory usage: 43.3+ MB\n"
          ]
        },
        {
          "data": {
            "text/plain": [
              "None"
            ]
          },
          "metadata": {},
          "output_type": "display_data"
        },
        {
          "data": {
            "text/html": [
              "<div>\n",
              "<style scoped>\n",
              "    .dataframe tbody tr th:only-of-type {\n",
              "        vertical-align: middle;\n",
              "    }\n",
              "\n",
              "    .dataframe tbody tr th {\n",
              "        vertical-align: top;\n",
              "    }\n",
              "\n",
              "    .dataframe thead th {\n",
              "        text-align: right;\n",
              "    }\n",
              "</style>\n",
              "<table border=\"1\" class=\"dataframe\">\n",
              "  <thead>\n",
              "    <tr style=\"text-align: right;\">\n",
              "      <th></th>\n",
              "      <th>count</th>\n",
              "      <th>mean</th>\n",
              "      <th>std</th>\n",
              "      <th>min</th>\n",
              "      <th>25%</th>\n",
              "      <th>50%</th>\n",
              "      <th>75%</th>\n",
              "      <th>max</th>\n",
              "    </tr>\n",
              "  </thead>\n",
              "  <tbody>\n",
              "    <tr>\n",
              "      <td>price</td>\n",
              "      <td>354369.0</td>\n",
              "      <td>4416.656776</td>\n",
              "      <td>4514.158514</td>\n",
              "      <td>0.0</td>\n",
              "      <td>1050.0</td>\n",
              "      <td>2700.0</td>\n",
              "      <td>6400.0</td>\n",
              "      <td>20000.0</td>\n",
              "    </tr>\n",
              "    <tr>\n",
              "      <td>registrationyear</td>\n",
              "      <td>354369.0</td>\n",
              "      <td>2004.234448</td>\n",
              "      <td>90.227958</td>\n",
              "      <td>1000.0</td>\n",
              "      <td>1999.0</td>\n",
              "      <td>2003.0</td>\n",
              "      <td>2008.0</td>\n",
              "      <td>9999.0</td>\n",
              "    </tr>\n",
              "    <tr>\n",
              "      <td>power</td>\n",
              "      <td>354369.0</td>\n",
              "      <td>110.094337</td>\n",
              "      <td>189.850405</td>\n",
              "      <td>0.0</td>\n",
              "      <td>69.0</td>\n",
              "      <td>105.0</td>\n",
              "      <td>143.0</td>\n",
              "      <td>20000.0</td>\n",
              "    </tr>\n",
              "    <tr>\n",
              "      <td>kilometer</td>\n",
              "      <td>354369.0</td>\n",
              "      <td>128211.172535</td>\n",
              "      <td>37905.341530</td>\n",
              "      <td>5000.0</td>\n",
              "      <td>125000.0</td>\n",
              "      <td>150000.0</td>\n",
              "      <td>150000.0</td>\n",
              "      <td>150000.0</td>\n",
              "    </tr>\n",
              "    <tr>\n",
              "      <td>registrationmonth</td>\n",
              "      <td>354369.0</td>\n",
              "      <td>5.714645</td>\n",
              "      <td>3.726421</td>\n",
              "      <td>0.0</td>\n",
              "      <td>3.0</td>\n",
              "      <td>6.0</td>\n",
              "      <td>9.0</td>\n",
              "      <td>12.0</td>\n",
              "    </tr>\n",
              "    <tr>\n",
              "      <td>numberofpictures</td>\n",
              "      <td>354369.0</td>\n",
              "      <td>0.000000</td>\n",
              "      <td>0.000000</td>\n",
              "      <td>0.0</td>\n",
              "      <td>0.0</td>\n",
              "      <td>0.0</td>\n",
              "      <td>0.0</td>\n",
              "      <td>0.0</td>\n",
              "    </tr>\n",
              "    <tr>\n",
              "      <td>postalcode</td>\n",
              "      <td>354369.0</td>\n",
              "      <td>50508.689087</td>\n",
              "      <td>25783.096248</td>\n",
              "      <td>1067.0</td>\n",
              "      <td>30165.0</td>\n",
              "      <td>49413.0</td>\n",
              "      <td>71083.0</td>\n",
              "      <td>99998.0</td>\n",
              "    </tr>\n",
              "  </tbody>\n",
              "</table>\n",
              "</div>"
            ],
            "text/plain": [
              "                      count           mean           std     min       25%  \\\n",
              "price              354369.0    4416.656776   4514.158514     0.0    1050.0   \n",
              "registrationyear   354369.0    2004.234448     90.227958  1000.0    1999.0   \n",
              "power              354369.0     110.094337    189.850405     0.0      69.0   \n",
              "kilometer          354369.0  128211.172535  37905.341530  5000.0  125000.0   \n",
              "registrationmonth  354369.0       5.714645      3.726421     0.0       3.0   \n",
              "numberofpictures   354369.0       0.000000      0.000000     0.0       0.0   \n",
              "postalcode         354369.0   50508.689087  25783.096248  1067.0   30165.0   \n",
              "\n",
              "                        50%       75%       max  \n",
              "price                2700.0    6400.0   20000.0  \n",
              "registrationyear     2003.0    2008.0    9999.0  \n",
              "power                 105.0     143.0   20000.0  \n",
              "kilometer          150000.0  150000.0  150000.0  \n",
              "registrationmonth       6.0       9.0      12.0  \n",
              "numberofpictures        0.0       0.0       0.0  \n",
              "postalcode          49413.0   71083.0   99998.0  "
            ]
          },
          "metadata": {},
          "output_type": "display_data"
        }
      ],
      "source": [
        "display(df.info())\n",
        "display(df.describe().T)"
      ]
    },
    {
      "cell_type": "markdown",
      "metadata": {
        "id": "94fgqKVhpQTI"
      },
      "source": [
        "At this stage, the presence of outliers in the features **registrationyear** (0 and 9999) and **power** (0 and 20.000 hp) can be accurately determined.\n",
        "\n",
        "To be done:\n",
        "- check gaps, fill in or delete\n",
        "- calculate the age of the car at the time of the creation of the questionnaire (the date of the creation of the questionnaire minus the date of registration)\n",
        "- remove redundant features\n",
        "- identify anomalies\n",
        "- change data types\n",
        "- check for duplicates"
      ]
    },
    {
      "cell_type": "markdown",
      "metadata": {
        "id": "LH3d1ZrXpQTI"
      },
      "source": [
        "### Filling gaps"
      ]
    },
    {
      "cell_type": "code",
      "execution_count": null,
      "metadata": {
        "id": "BHm_wpdupQTI",
        "outputId": "96bb5a23-ade6-4b7b-ba68-5543a8d1bce4"
      },
      "outputs": [
        {
          "data": {
            "text/plain": [
              "datecrawled              0\n",
              "price                    0\n",
              "vehicletype          37490\n",
              "registrationyear         0\n",
              "gearbox              19833\n",
              "power                    0\n",
              "model                19705\n",
              "kilometer                0\n",
              "registrationmonth        0\n",
              "fueltype             32895\n",
              "brand                    0\n",
              "notrepaired          71154\n",
              "datecreated              0\n",
              "numberofpictures         0\n",
              "postalcode               0\n",
              "lastseen                 0\n",
              "dtype: int64"
            ]
          },
          "execution_count": 5,
          "metadata": {},
          "output_type": "execute_result"
        }
      ],
      "source": [
        "df.isna().sum()"
      ]
    },
    {
      "cell_type": "markdown",
      "metadata": {
        "id": "1yEpayUrpQTJ"
      },
      "source": [
        "For each feature, we will individually process the gaps further."
      ]
    },
    {
      "cell_type": "markdown",
      "metadata": {
        "id": "Pkg_CvnepQTJ"
      },
      "source": [
        "***Vehicletype***"
      ]
    },
    {
      "cell_type": "code",
      "execution_count": null,
      "metadata": {
        "id": "e4-6CO4SpQTJ",
        "outputId": "2699d333-f5a9-4e7e-81e2-aa99a9edfb3f"
      },
      "outputs": [
        {
          "data": {
            "text/plain": [
              "sedan          91457\n",
              "small          79831\n",
              "wagon          65166\n",
              "bus            28775\n",
              "convertible    20203\n",
              "coupe          16163\n",
              "suv            11996\n",
              "other           3288\n",
              "Name: vehicletype, dtype: int64"
            ]
          },
          "execution_count": 6,
          "metadata": {},
          "output_type": "execute_result"
        }
      ],
      "source": [
        "df['vehicletype'].value_counts()"
      ]
    },
    {
      "cell_type": "code",
      "execution_count": null,
      "metadata": {
        "id": "e0DNKExxpQTJ",
        "outputId": "1e1a59f2-a17f-442b-9d79-f3ea78a9f79a"
      },
      "outputs": [
        {
          "data": {
            "text/html": [
              "<div>\n",
              "<style scoped>\n",
              "    .dataframe tbody tr th:only-of-type {\n",
              "        vertical-align: middle;\n",
              "    }\n",
              "\n",
              "    .dataframe tbody tr th {\n",
              "        vertical-align: top;\n",
              "    }\n",
              "\n",
              "    .dataframe thead th {\n",
              "        text-align: right;\n",
              "    }\n",
              "</style>\n",
              "<table border=\"1\" class=\"dataframe\">\n",
              "  <thead>\n",
              "    <tr style=\"text-align: right;\">\n",
              "      <th></th>\n",
              "      <th>datecrawled</th>\n",
              "      <th>price</th>\n",
              "      <th>vehicletype</th>\n",
              "      <th>registrationyear</th>\n",
              "      <th>gearbox</th>\n",
              "      <th>power</th>\n",
              "      <th>model</th>\n",
              "      <th>kilometer</th>\n",
              "      <th>registrationmonth</th>\n",
              "      <th>fueltype</th>\n",
              "      <th>brand</th>\n",
              "      <th>notrepaired</th>\n",
              "      <th>datecreated</th>\n",
              "      <th>numberofpictures</th>\n",
              "      <th>postalcode</th>\n",
              "      <th>lastseen</th>\n",
              "    </tr>\n",
              "  </thead>\n",
              "  <tbody>\n",
              "    <tr>\n",
              "      <td>55773</td>\n",
              "      <td>2016-03-19 07:54:41</td>\n",
              "      <td>1000</td>\n",
              "      <td>other</td>\n",
              "      <td>1999</td>\n",
              "      <td>manual</td>\n",
              "      <td>110</td>\n",
              "      <td>golf</td>\n",
              "      <td>150000</td>\n",
              "      <td>5</td>\n",
              "      <td>gasoline</td>\n",
              "      <td>volkswagen</td>\n",
              "      <td>no</td>\n",
              "      <td>2016-03-19</td>\n",
              "      <td>0</td>\n",
              "      <td>16515</td>\n",
              "      <td>2016-03-21 12:17:18</td>\n",
              "    </tr>\n",
              "    <tr>\n",
              "      <td>221876</td>\n",
              "      <td>2016-04-03 11:40:10</td>\n",
              "      <td>1000</td>\n",
              "      <td>other</td>\n",
              "      <td>1999</td>\n",
              "      <td>manual</td>\n",
              "      <td>101</td>\n",
              "      <td>a3</td>\n",
              "      <td>150000</td>\n",
              "      <td>11</td>\n",
              "      <td>petrol</td>\n",
              "      <td>audi</td>\n",
              "      <td>NaN</td>\n",
              "      <td>2016-04-03</td>\n",
              "      <td>0</td>\n",
              "      <td>96114</td>\n",
              "      <td>2016-04-07 12:44:48</td>\n",
              "    </tr>\n",
              "    <tr>\n",
              "      <td>295085</td>\n",
              "      <td>2016-03-29 20:58:56</td>\n",
              "      <td>3000</td>\n",
              "      <td>other</td>\n",
              "      <td>2002</td>\n",
              "      <td>manual</td>\n",
              "      <td>16</td>\n",
              "      <td>zafira</td>\n",
              "      <td>5000</td>\n",
              "      <td>7</td>\n",
              "      <td>petrol</td>\n",
              "      <td>opel</td>\n",
              "      <td>no</td>\n",
              "      <td>2016-03-29</td>\n",
              "      <td>0</td>\n",
              "      <td>55543</td>\n",
              "      <td>2016-04-06 07:17:28</td>\n",
              "    </tr>\n",
              "  </tbody>\n",
              "</table>\n",
              "</div>"
            ],
            "text/plain": [
              "               datecrawled  price vehicletype  registrationyear gearbox  \\\n",
              "55773  2016-03-19 07:54:41   1000       other              1999  manual   \n",
              "221876 2016-04-03 11:40:10   1000       other              1999  manual   \n",
              "295085 2016-03-29 20:58:56   3000       other              2002  manual   \n",
              "\n",
              "        power   model  kilometer  registrationmonth  fueltype       brand  \\\n",
              "55773     110    golf     150000                  5  gasoline  volkswagen   \n",
              "221876    101      a3     150000                 11    petrol        audi   \n",
              "295085     16  zafira       5000                  7    petrol        opel   \n",
              "\n",
              "       notrepaired datecreated  numberofpictures  postalcode  \\\n",
              "55773           no  2016-03-19                 0       16515   \n",
              "221876         NaN  2016-04-03                 0       96114   \n",
              "295085          no  2016-03-29                 0       55543   \n",
              "\n",
              "                  lastseen  \n",
              "55773  2016-03-21 12:17:18  \n",
              "221876 2016-04-07 12:44:48  \n",
              "295085 2016-04-06 07:17:28  "
            ]
          },
          "metadata": {},
          "output_type": "display_data"
        },
        {
          "data": {
            "text/html": [
              "<div>\n",
              "<style scoped>\n",
              "    .dataframe tbody tr th:only-of-type {\n",
              "        vertical-align: middle;\n",
              "    }\n",
              "\n",
              "    .dataframe tbody tr th {\n",
              "        vertical-align: top;\n",
              "    }\n",
              "\n",
              "    .dataframe thead th {\n",
              "        text-align: right;\n",
              "    }\n",
              "</style>\n",
              "<table border=\"1\" class=\"dataframe\">\n",
              "  <thead>\n",
              "    <tr style=\"text-align: right;\">\n",
              "      <th></th>\n",
              "      <th>datecrawled</th>\n",
              "      <th>price</th>\n",
              "      <th>vehicletype</th>\n",
              "      <th>registrationyear</th>\n",
              "      <th>gearbox</th>\n",
              "      <th>power</th>\n",
              "      <th>model</th>\n",
              "      <th>kilometer</th>\n",
              "      <th>registrationmonth</th>\n",
              "      <th>fueltype</th>\n",
              "      <th>brand</th>\n",
              "      <th>notrepaired</th>\n",
              "      <th>datecreated</th>\n",
              "      <th>numberofpictures</th>\n",
              "      <th>postalcode</th>\n",
              "      <th>lastseen</th>\n",
              "    </tr>\n",
              "  </thead>\n",
              "  <tbody>\n",
              "    <tr>\n",
              "      <td>232478</td>\n",
              "      <td>2016-03-13 11:43:10</td>\n",
              "      <td>1400</td>\n",
              "      <td>NaN</td>\n",
              "      <td>2016</td>\n",
              "      <td>manual</td>\n",
              "      <td>55</td>\n",
              "      <td>golf</td>\n",
              "      <td>150000</td>\n",
              "      <td>3</td>\n",
              "      <td>petrol</td>\n",
              "      <td>volkswagen</td>\n",
              "      <td>NaN</td>\n",
              "      <td>2016-03-13</td>\n",
              "      <td>0</td>\n",
              "      <td>52062</td>\n",
              "      <td>2016-03-17 13:15:28</td>\n",
              "    </tr>\n",
              "    <tr>\n",
              "      <td>320195</td>\n",
              "      <td>2016-03-06 01:43:32</td>\n",
              "      <td>5500</td>\n",
              "      <td>NaN</td>\n",
              "      <td>2017</td>\n",
              "      <td>manual</td>\n",
              "      <td>140</td>\n",
              "      <td>golf</td>\n",
              "      <td>150000</td>\n",
              "      <td>10</td>\n",
              "      <td>gasoline</td>\n",
              "      <td>volkswagen</td>\n",
              "      <td>no</td>\n",
              "      <td>2016-01-29</td>\n",
              "      <td>0</td>\n",
              "      <td>14943</td>\n",
              "      <td>2016-03-28 14:45:05</td>\n",
              "    </tr>\n",
              "    <tr>\n",
              "      <td>101847</td>\n",
              "      <td>2016-04-04 18:51:15</td>\n",
              "      <td>200</td>\n",
              "      <td>NaN</td>\n",
              "      <td>2000</td>\n",
              "      <td>NaN</td>\n",
              "      <td>0</td>\n",
              "      <td>punto</td>\n",
              "      <td>150000</td>\n",
              "      <td>0</td>\n",
              "      <td>NaN</td>\n",
              "      <td>fiat</td>\n",
              "      <td>NaN</td>\n",
              "      <td>2016-04-04</td>\n",
              "      <td>0</td>\n",
              "      <td>73095</td>\n",
              "      <td>2016-04-04 18:51:15</td>\n",
              "    </tr>\n",
              "  </tbody>\n",
              "</table>\n",
              "</div>"
            ],
            "text/plain": [
              "               datecrawled  price vehicletype  registrationyear gearbox  \\\n",
              "232478 2016-03-13 11:43:10   1400         NaN              2016  manual   \n",
              "320195 2016-03-06 01:43:32   5500         NaN              2017  manual   \n",
              "101847 2016-04-04 18:51:15    200         NaN              2000     NaN   \n",
              "\n",
              "        power  model  kilometer  registrationmonth  fueltype       brand  \\\n",
              "232478     55   golf     150000                  3    petrol  volkswagen   \n",
              "320195    140   golf     150000                 10  gasoline  volkswagen   \n",
              "101847      0  punto     150000                  0       NaN        fiat   \n",
              "\n",
              "       notrepaired datecreated  numberofpictures  postalcode  \\\n",
              "232478         NaN  2016-03-13                 0       52062   \n",
              "320195          no  2016-01-29                 0       14943   \n",
              "101847         NaN  2016-04-04                 0       73095   \n",
              "\n",
              "                  lastseen  \n",
              "232478 2016-03-17 13:15:28  \n",
              "320195 2016-03-28 14:45:05  \n",
              "101847 2016-04-04 18:51:15  "
            ]
          },
          "metadata": {},
          "output_type": "display_data"
        }
      ],
      "source": [
        "display(df[df['vehicletype'] == 'other'].sample(3))\n",
        "display(df[df['vehicletype'].isna()].sample(3))"
      ]
    },
    {
      "cell_type": "markdown",
      "metadata": {
        "id": "TcqBBYGDpQTJ"
      },
      "source": [
        "As can be seen from the data, the \"other\" car type includes not only undefined cars, but also quite understandable ones, for example, VW Golf, Transporter, Caddy.\n",
        "The same thing with missing data on this feature.\n",
        "Therefore, all missing values here will be replaced by \"other\"."
      ]
    },
    {
      "cell_type": "code",
      "execution_count": null,
      "metadata": {
        "id": "rmxCFLgbpQTJ"
      },
      "outputs": [],
      "source": [
        "df['vehicletype'] = df['vehicletype'].fillna('other')"
      ]
    },
    {
      "cell_type": "markdown",
      "metadata": {
        "id": "yZ5g_y-4pQTK"
      },
      "source": [
        "***Gearbox***"
      ]
    },
    {
      "cell_type": "code",
      "execution_count": null,
      "metadata": {
        "id": "WMs16y44pQTK",
        "outputId": "88d5d47c-1859-4d1f-8885-2f7ff557dada"
      },
      "outputs": [
        {
          "data": {
            "text/plain": [
              "manual    268251\n",
              "auto       66285\n",
              "Name: gearbox, dtype: int64"
            ]
          },
          "execution_count": 9,
          "metadata": {},
          "output_type": "execute_result"
        }
      ],
      "source": [
        "df['gearbox'].value_counts()"
      ]
    },
    {
      "cell_type": "markdown",
      "metadata": {
        "id": "5CL8xzKlpQTK"
      },
      "source": [
        "We cannot replace missing gearbox values with one of the known values. Therefore, I propose to leave the gaps as they are, just replace them with \"other\" so that some models do not swear."
      ]
    },
    {
      "cell_type": "code",
      "execution_count": null,
      "metadata": {
        "id": "swdivpS7pQTK"
      },
      "outputs": [],
      "source": [
        "df['gearbox'] = df['gearbox'].fillna('other')"
      ]
    },
    {
      "cell_type": "markdown",
      "metadata": {
        "id": "H_ninDoQpQTK"
      },
      "source": [
        "***Model***"
      ]
    },
    {
      "cell_type": "markdown",
      "metadata": {
        "id": "LGrKsl03pQTK"
      },
      "source": [
        "There are a lot of car models, I definitely can’t replace one with one. There was an idea to check that the models were skipped for some specific brand, and then think about it."
      ]
    },
    {
      "cell_type": "code",
      "execution_count": null,
      "metadata": {
        "scrolled": true,
        "id": "B1QmGJw-pQTK",
        "outputId": "ef38b5a9-fc5d-495f-b67a-a9f24a093693"
      },
      "outputs": [
        {
          "data": {
            "text/plain": [
              "volkswagen        3505\n",
              "sonstige_autos    3374\n",
              "bmw               1935\n",
              "opel              1871\n",
              "audi              1283\n",
              "mercedes_benz     1210\n",
              "ford              1013\n",
              "peugeot            891\n",
              "renault            735\n",
              "fiat               502\n",
              "mazda              352\n",
              "smart              268\n",
              "citroen            249\n",
              "seat               235\n",
              "hyundai            228\n",
              "nissan             207\n",
              "mitsubishi         160\n",
              "toyota             157\n",
              "honda              155\n",
              "skoda              141\n",
              "suzuki             137\n",
              "alfa_romeo         137\n",
              "kia                113\n",
              "chevrolet          110\n",
              "volvo              109\n",
              "trabant             95\n",
              "chrysler            89\n",
              "rover               82\n",
              "mini                62\n",
              "daewoo              46\n",
              "subaru              44\n",
              "porsche             42\n",
              "daihatsu            39\n",
              "jeep                26\n",
              "lancia              23\n",
              "dacia               22\n",
              "saab                16\n",
              "lada                15\n",
              "jaguar              14\n",
              "land_rover          13\n",
              "Name: brand, dtype: int64"
            ]
          },
          "execution_count": 11,
          "metadata": {},
          "output_type": "execute_result"
        }
      ],
      "source": [
        "df['brand'][df['model'].isna()].value_counts()"
      ]
    },
    {
      "cell_type": "markdown",
      "metadata": {
        "id": "Y9f0-Qj5pQTL"
      },
      "source": [
        "An interesting result is that we have many cars without a specific brand (**sonstige_autos**). At the same time, gaps in models do not depend on the brand. Therefore, we change them to \"other\"."
      ]
    },
    {
      "cell_type": "code",
      "execution_count": null,
      "metadata": {
        "id": "nF9OnrJapQTL"
      },
      "outputs": [],
      "source": [
        "df['model'] = df['model'].fillna('other')"
      ]
    },
    {
      "cell_type": "markdown",
      "metadata": {
        "id": "FkOUv4r5pQTL"
      },
      "source": [
        "***Fueltype***"
      ]
    },
    {
      "cell_type": "code",
      "execution_count": null,
      "metadata": {
        "id": "TNe-v-ZbpQTL",
        "outputId": "fbe3e374-2227-448d-c8d8-6c68709bc9d5"
      },
      "outputs": [
        {
          "data": {
            "text/plain": [
              "petrol      216352\n",
              "gasoline     98720\n",
              "lpg           5310\n",
              "cng            565\n",
              "hybrid         233\n",
              "other          204\n",
              "electric        90\n",
              "Name: fueltype, dtype: int64"
            ]
          },
          "execution_count": 13,
          "metadata": {},
          "output_type": "execute_result"
        }
      ],
      "source": [
        "df['fueltype'].value_counts()"
      ]
    },
    {
      "cell_type": "code",
      "execution_count": null,
      "metadata": {
        "id": "XsxKjDwipQTL",
        "outputId": "f0616162-76a9-45b4-9ae1-e71e9f78f5ca"
      },
      "outputs": [
        {
          "data": {
            "text/html": [
              "<div>\n",
              "<style scoped>\n",
              "    .dataframe tbody tr th:only-of-type {\n",
              "        vertical-align: middle;\n",
              "    }\n",
              "\n",
              "    .dataframe tbody tr th {\n",
              "        vertical-align: top;\n",
              "    }\n",
              "\n",
              "    .dataframe thead th {\n",
              "        text-align: right;\n",
              "    }\n",
              "</style>\n",
              "<table border=\"1\" class=\"dataframe\">\n",
              "  <thead>\n",
              "    <tr style=\"text-align: right;\">\n",
              "      <th></th>\n",
              "      <th>datecrawled</th>\n",
              "      <th>price</th>\n",
              "      <th>vehicletype</th>\n",
              "      <th>registrationyear</th>\n",
              "      <th>gearbox</th>\n",
              "      <th>power</th>\n",
              "      <th>model</th>\n",
              "      <th>kilometer</th>\n",
              "      <th>registrationmonth</th>\n",
              "      <th>fueltype</th>\n",
              "      <th>brand</th>\n",
              "      <th>notrepaired</th>\n",
              "      <th>datecreated</th>\n",
              "      <th>numberofpictures</th>\n",
              "      <th>postalcode</th>\n",
              "      <th>lastseen</th>\n",
              "    </tr>\n",
              "  </thead>\n",
              "  <tbody>\n",
              "    <tr>\n",
              "      <td>81717</td>\n",
              "      <td>2016-03-31 13:06:18</td>\n",
              "      <td>2990</td>\n",
              "      <td>wagon</td>\n",
              "      <td>1988</td>\n",
              "      <td>manual</td>\n",
              "      <td>0</td>\n",
              "      <td>601</td>\n",
              "      <td>60000</td>\n",
              "      <td>9</td>\n",
              "      <td>other</td>\n",
              "      <td>trabant</td>\n",
              "      <td>no</td>\n",
              "      <td>2016-03-31</td>\n",
              "      <td>0</td>\n",
              "      <td>64546</td>\n",
              "      <td>2016-04-05 22:45:52</td>\n",
              "    </tr>\n",
              "    <tr>\n",
              "      <td>28054</td>\n",
              "      <td>2016-03-27 18:39:14</td>\n",
              "      <td>1050</td>\n",
              "      <td>small</td>\n",
              "      <td>1984</td>\n",
              "      <td>manual</td>\n",
              "      <td>20</td>\n",
              "      <td>601</td>\n",
              "      <td>100000</td>\n",
              "      <td>1</td>\n",
              "      <td>other</td>\n",
              "      <td>trabant</td>\n",
              "      <td>no</td>\n",
              "      <td>2016-03-27</td>\n",
              "      <td>0</td>\n",
              "      <td>56751</td>\n",
              "      <td>2016-04-05 14:47:44</td>\n",
              "    </tr>\n",
              "    <tr>\n",
              "      <td>363</td>\n",
              "      <td>2016-03-14 23:52:32</td>\n",
              "      <td>6500</td>\n",
              "      <td>sedan</td>\n",
              "      <td>2007</td>\n",
              "      <td>manual</td>\n",
              "      <td>125</td>\n",
              "      <td>focus</td>\n",
              "      <td>125000</td>\n",
              "      <td>9</td>\n",
              "      <td>other</td>\n",
              "      <td>ford</td>\n",
              "      <td>no</td>\n",
              "      <td>2016-03-14</td>\n",
              "      <td>0</td>\n",
              "      <td>97199</td>\n",
              "      <td>2016-04-05 11:51:03</td>\n",
              "    </tr>\n",
              "  </tbody>\n",
              "</table>\n",
              "</div>"
            ],
            "text/plain": [
              "              datecrawled  price vehicletype  registrationyear gearbox  power  \\\n",
              "81717 2016-03-31 13:06:18   2990       wagon              1988  manual      0   \n",
              "28054 2016-03-27 18:39:14   1050       small              1984  manual     20   \n",
              "363   2016-03-14 23:52:32   6500       sedan              2007  manual    125   \n",
              "\n",
              "       model  kilometer  registrationmonth fueltype    brand notrepaired  \\\n",
              "81717    601      60000                  9    other  trabant          no   \n",
              "28054    601     100000                  1    other  trabant          no   \n",
              "363    focus     125000                  9    other     ford          no   \n",
              "\n",
              "      datecreated  numberofpictures  postalcode            lastseen  \n",
              "81717  2016-03-31                 0       64546 2016-04-05 22:45:52  \n",
              "28054  2016-03-27                 0       56751 2016-04-05 14:47:44  \n",
              "363    2016-03-14                 0       97199 2016-04-05 11:51:03  "
            ]
          },
          "metadata": {},
          "output_type": "display_data"
        },
        {
          "data": {
            "text/html": [
              "<div>\n",
              "<style scoped>\n",
              "    .dataframe tbody tr th:only-of-type {\n",
              "        vertical-align: middle;\n",
              "    }\n",
              "\n",
              "    .dataframe tbody tr th {\n",
              "        vertical-align: top;\n",
              "    }\n",
              "\n",
              "    .dataframe thead th {\n",
              "        text-align: right;\n",
              "    }\n",
              "</style>\n",
              "<table border=\"1\" class=\"dataframe\">\n",
              "  <thead>\n",
              "    <tr style=\"text-align: right;\">\n",
              "      <th></th>\n",
              "      <th>datecrawled</th>\n",
              "      <th>price</th>\n",
              "      <th>vehicletype</th>\n",
              "      <th>registrationyear</th>\n",
              "      <th>gearbox</th>\n",
              "      <th>power</th>\n",
              "      <th>model</th>\n",
              "      <th>kilometer</th>\n",
              "      <th>registrationmonth</th>\n",
              "      <th>fueltype</th>\n",
              "      <th>brand</th>\n",
              "      <th>notrepaired</th>\n",
              "      <th>datecreated</th>\n",
              "      <th>numberofpictures</th>\n",
              "      <th>postalcode</th>\n",
              "      <th>lastseen</th>\n",
              "    </tr>\n",
              "  </thead>\n",
              "  <tbody>\n",
              "    <tr>\n",
              "      <td>242639</td>\n",
              "      <td>2016-03-16 07:55:13</td>\n",
              "      <td>2030</td>\n",
              "      <td>other</td>\n",
              "      <td>2016</td>\n",
              "      <td>other</td>\n",
              "      <td>0</td>\n",
              "      <td>corsa</td>\n",
              "      <td>125000</td>\n",
              "      <td>0</td>\n",
              "      <td>NaN</td>\n",
              "      <td>opel</td>\n",
              "      <td>NaN</td>\n",
              "      <td>2016-03-16</td>\n",
              "      <td>0</td>\n",
              "      <td>22303</td>\n",
              "      <td>2016-03-19 06:45:59</td>\n",
              "    </tr>\n",
              "    <tr>\n",
              "      <td>147392</td>\n",
              "      <td>2016-03-14 08:55:18</td>\n",
              "      <td>899</td>\n",
              "      <td>other</td>\n",
              "      <td>1995</td>\n",
              "      <td>manual</td>\n",
              "      <td>55</td>\n",
              "      <td>other</td>\n",
              "      <td>150000</td>\n",
              "      <td>1</td>\n",
              "      <td>NaN</td>\n",
              "      <td>mercedes_benz</td>\n",
              "      <td>NaN</td>\n",
              "      <td>2016-03-14</td>\n",
              "      <td>0</td>\n",
              "      <td>99631</td>\n",
              "      <td>2016-04-07 08:45:18</td>\n",
              "    </tr>\n",
              "    <tr>\n",
              "      <td>318874</td>\n",
              "      <td>2016-04-04 19:42:16</td>\n",
              "      <td>7200</td>\n",
              "      <td>small</td>\n",
              "      <td>2009</td>\n",
              "      <td>manual</td>\n",
              "      <td>75</td>\n",
              "      <td>one</td>\n",
              "      <td>80000</td>\n",
              "      <td>0</td>\n",
              "      <td>NaN</td>\n",
              "      <td>mini</td>\n",
              "      <td>yes</td>\n",
              "      <td>2016-04-04</td>\n",
              "      <td>0</td>\n",
              "      <td>97453</td>\n",
              "      <td>2016-04-06 21:45:38</td>\n",
              "    </tr>\n",
              "  </tbody>\n",
              "</table>\n",
              "</div>"
            ],
            "text/plain": [
              "               datecrawled  price vehicletype  registrationyear gearbox  \\\n",
              "242639 2016-03-16 07:55:13   2030       other              2016   other   \n",
              "147392 2016-03-14 08:55:18    899       other              1995  manual   \n",
              "318874 2016-04-04 19:42:16   7200       small              2009  manual   \n",
              "\n",
              "        power  model  kilometer  registrationmonth fueltype          brand  \\\n",
              "242639      0  corsa     125000                  0      NaN           opel   \n",
              "147392     55  other     150000                  1      NaN  mercedes_benz   \n",
              "318874     75    one      80000                  0      NaN           mini   \n",
              "\n",
              "       notrepaired datecreated  numberofpictures  postalcode  \\\n",
              "242639         NaN  2016-03-16                 0       22303   \n",
              "147392         NaN  2016-03-14                 0       99631   \n",
              "318874         yes  2016-04-04                 0       97453   \n",
              "\n",
              "                  lastseen  \n",
              "242639 2016-03-19 06:45:59  \n",
              "147392 2016-04-07 08:45:18  \n",
              "318874 2016-04-06 21:45:38  "
            ]
          },
          "metadata": {},
          "output_type": "display_data"
        }
      ],
      "source": [
        "display(df[(df['fueltype'] == 'other') & (df['model'] != 'other')].sample(3))\n",
        "display(df[df['fueltype'].isna()].sample(3))"
      ]
    },
    {
      "cell_type": "markdown",
      "metadata": {
        "id": "6ZbZbxvvpQTL"
      },
      "source": [
        "With the type of fuel, the same thing turned out as with the type of body: the values \"other\" can be for all models. Therefore, we will replace all gaps with the value \"other\"."
      ]
    },
    {
      "cell_type": "code",
      "execution_count": null,
      "metadata": {
        "id": "dXw-e90kpQTM"
      },
      "outputs": [],
      "source": [
        "df['fueltype'] = df['fueltype'].fillna('other')"
      ]
    },
    {
      "cell_type": "markdown",
      "metadata": {
        "id": "212mFiJ_pQTM"
      },
      "source": [
        "***Notrepaired***"
      ]
    },
    {
      "cell_type": "code",
      "execution_count": null,
      "metadata": {
        "id": "Sv8c7mOWpQTM",
        "outputId": "546e17a8-6d3a-43e7-f7b8-3fa1597a39f1"
      },
      "outputs": [
        {
          "data": {
            "text/plain": [
              "no     247161\n",
              "yes     36054\n",
              "Name: notrepaired, dtype: int64"
            ]
          },
          "execution_count": 16,
          "metadata": {},
          "output_type": "execute_result"
        }
      ],
      "source": [
        "df['notrepaired'].value_counts()"
      ]
    },
    {
      "cell_type": "code",
      "execution_count": null,
      "metadata": {
        "id": "15Sc8aq8pQTM"
      },
      "outputs": [],
      "source": [
        "df['notrepaired'] = df['notrepaired'].fillna('na')"
      ]
    },
    {
      "cell_type": "markdown",
      "metadata": {
        "id": "2BdRfsrXpQTM"
      },
      "source": [
        "It is not logical to replace more than 70 gaps passes with \"yes\" or \"no\". So let's replace it with NA."
      ]
    },
    {
      "cell_type": "markdown",
      "metadata": {
        "id": "xAI3M0ntpQTM"
      },
      "source": [
        "### Cars' age"
      ]
    },
    {
      "cell_type": "markdown",
      "metadata": {
        "id": "i0_ueUPzpQTN"
      },
      "source": [
        "The age of the car will be calculated in years as the difference between the date the profile was created (DateCreated) and the year the car was registered (RegistrationYear)."
      ]
    },
    {
      "cell_type": "raw",
      "metadata": {
        "id": "liJpa1xHpQTN"
      },
      "source": [
        "df['age'] = df['datecreated'].dt.year - df['registrationyear']\n",
        "df.query('age < 0')['age'].count()"
      ]
    },
    {
      "cell_type": "markdown",
      "metadata": {
        "id": "c4ZMdxRApQTN"
      },
      "source": [
        "### Removing features and duplicates"
      ]
    },
    {
      "cell_type": "markdown",
      "metadata": {
        "id": "qQ_h5A9apQTN"
      },
      "source": [
        "Now I can remove all signs that cannot affect the price of the car."
      ]
    },
    {
      "cell_type": "code",
      "execution_count": null,
      "metadata": {
        "id": "thbmQuS8pQTN"
      },
      "outputs": [],
      "source": [
        "\"\"\"\n",
        "DESCRIPTION OF FEATURES TO BE REMOVED\n",
        "\n",
        "DateCrawled - date of downloading the questionnaire from the database\n",
        "DateCreated - date of creation of the questionnaire\n",
        "RegistrationMonth - month of car registration\n",
        "NumberOfPictures - the number of photos of the car\n",
        "PostalCode - postal code of the owner of the profile (user)\n",
        "LastSeen - the date of the user's last activity - there was an idea that this is the date the car was sold, but all the values ​​are there\n",
        "                                                     dated 2016, so you can delete.\n",
        "\"\"\"\n",
        "\n",
        "df = df.drop(['datecrawled', 'datecreated', 'registrationmonth', 'postalcode', 'numberofpictures', 'lastseen'], axis=1)"
      ]
    },
    {
      "cell_type": "markdown",
      "metadata": {
        "id": "DnXQpBXxpQTN"
      },
      "source": [
        "Deleting duplicates"
      ]
    },
    {
      "cell_type": "code",
      "execution_count": null,
      "metadata": {
        "id": "9sT1B8KZpQTN",
        "outputId": "0af5dcce-8387-48a0-aac1-05d2263979df"
      },
      "outputs": [
        {
          "data": {
            "text/plain": [
              "45191"
            ]
          },
          "execution_count": 19,
          "metadata": {},
          "output_type": "execute_result"
        }
      ],
      "source": [
        "df.duplicated().sum()"
      ]
    },
    {
      "cell_type": "code",
      "execution_count": null,
      "metadata": {
        "scrolled": true,
        "id": "gWx39-izpQTO",
        "outputId": "fa08a278-59fb-4556-be61-1c51e9d0fabd"
      },
      "outputs": [
        {
          "data": {
            "text/html": [
              "<div>\n",
              "<style scoped>\n",
              "    .dataframe tbody tr th:only-of-type {\n",
              "        vertical-align: middle;\n",
              "    }\n",
              "\n",
              "    .dataframe tbody tr th {\n",
              "        vertical-align: top;\n",
              "    }\n",
              "\n",
              "    .dataframe thead th {\n",
              "        text-align: right;\n",
              "    }\n",
              "</style>\n",
              "<table border=\"1\" class=\"dataframe\">\n",
              "  <thead>\n",
              "    <tr style=\"text-align: right;\">\n",
              "      <th></th>\n",
              "      <th>price</th>\n",
              "      <th>vehicletype</th>\n",
              "      <th>registrationyear</th>\n",
              "      <th>gearbox</th>\n",
              "      <th>power</th>\n",
              "      <th>model</th>\n",
              "      <th>kilometer</th>\n",
              "      <th>fueltype</th>\n",
              "      <th>brand</th>\n",
              "      <th>notrepaired</th>\n",
              "    </tr>\n",
              "  </thead>\n",
              "  <tbody>\n",
              "    <tr>\n",
              "      <td>0</td>\n",
              "      <td>480</td>\n",
              "      <td>other</td>\n",
              "      <td>1993</td>\n",
              "      <td>manual</td>\n",
              "      <td>0</td>\n",
              "      <td>golf</td>\n",
              "      <td>150000</td>\n",
              "      <td>petrol</td>\n",
              "      <td>volkswagen</td>\n",
              "      <td>na</td>\n",
              "    </tr>\n",
              "    <tr>\n",
              "      <td>1</td>\n",
              "      <td>18300</td>\n",
              "      <td>coupe</td>\n",
              "      <td>2011</td>\n",
              "      <td>manual</td>\n",
              "      <td>190</td>\n",
              "      <td>other</td>\n",
              "      <td>125000</td>\n",
              "      <td>gasoline</td>\n",
              "      <td>audi</td>\n",
              "      <td>yes</td>\n",
              "    </tr>\n",
              "    <tr>\n",
              "      <td>2</td>\n",
              "      <td>9800</td>\n",
              "      <td>suv</td>\n",
              "      <td>2004</td>\n",
              "      <td>auto</td>\n",
              "      <td>163</td>\n",
              "      <td>grand</td>\n",
              "      <td>125000</td>\n",
              "      <td>gasoline</td>\n",
              "      <td>jeep</td>\n",
              "      <td>na</td>\n",
              "    </tr>\n",
              "    <tr>\n",
              "      <td>3</td>\n",
              "      <td>1500</td>\n",
              "      <td>small</td>\n",
              "      <td>2001</td>\n",
              "      <td>manual</td>\n",
              "      <td>75</td>\n",
              "      <td>golf</td>\n",
              "      <td>150000</td>\n",
              "      <td>petrol</td>\n",
              "      <td>volkswagen</td>\n",
              "      <td>no</td>\n",
              "    </tr>\n",
              "    <tr>\n",
              "      <td>4</td>\n",
              "      <td>3600</td>\n",
              "      <td>small</td>\n",
              "      <td>2008</td>\n",
              "      <td>manual</td>\n",
              "      <td>69</td>\n",
              "      <td>fabia</td>\n",
              "      <td>90000</td>\n",
              "      <td>gasoline</td>\n",
              "      <td>skoda</td>\n",
              "      <td>no</td>\n",
              "    </tr>\n",
              "    <tr>\n",
              "      <td>...</td>\n",
              "      <td>...</td>\n",
              "      <td>...</td>\n",
              "      <td>...</td>\n",
              "      <td>...</td>\n",
              "      <td>...</td>\n",
              "      <td>...</td>\n",
              "      <td>...</td>\n",
              "      <td>...</td>\n",
              "      <td>...</td>\n",
              "      <td>...</td>\n",
              "    </tr>\n",
              "    <tr>\n",
              "      <td>309173</td>\n",
              "      <td>0</td>\n",
              "      <td>other</td>\n",
              "      <td>2005</td>\n",
              "      <td>manual</td>\n",
              "      <td>0</td>\n",
              "      <td>colt</td>\n",
              "      <td>150000</td>\n",
              "      <td>petrol</td>\n",
              "      <td>mitsubishi</td>\n",
              "      <td>yes</td>\n",
              "    </tr>\n",
              "    <tr>\n",
              "      <td>309174</td>\n",
              "      <td>2200</td>\n",
              "      <td>other</td>\n",
              "      <td>2005</td>\n",
              "      <td>other</td>\n",
              "      <td>0</td>\n",
              "      <td>other</td>\n",
              "      <td>20000</td>\n",
              "      <td>other</td>\n",
              "      <td>sonstige_autos</td>\n",
              "      <td>na</td>\n",
              "    </tr>\n",
              "    <tr>\n",
              "      <td>309175</td>\n",
              "      <td>1199</td>\n",
              "      <td>convertible</td>\n",
              "      <td>2000</td>\n",
              "      <td>auto</td>\n",
              "      <td>101</td>\n",
              "      <td>fortwo</td>\n",
              "      <td>125000</td>\n",
              "      <td>petrol</td>\n",
              "      <td>smart</td>\n",
              "      <td>no</td>\n",
              "    </tr>\n",
              "    <tr>\n",
              "      <td>309176</td>\n",
              "      <td>9200</td>\n",
              "      <td>bus</td>\n",
              "      <td>1996</td>\n",
              "      <td>manual</td>\n",
              "      <td>102</td>\n",
              "      <td>transporter</td>\n",
              "      <td>150000</td>\n",
              "      <td>gasoline</td>\n",
              "      <td>volkswagen</td>\n",
              "      <td>no</td>\n",
              "    </tr>\n",
              "    <tr>\n",
              "      <td>309177</td>\n",
              "      <td>3400</td>\n",
              "      <td>wagon</td>\n",
              "      <td>2002</td>\n",
              "      <td>manual</td>\n",
              "      <td>100</td>\n",
              "      <td>golf</td>\n",
              "      <td>150000</td>\n",
              "      <td>gasoline</td>\n",
              "      <td>volkswagen</td>\n",
              "      <td>na</td>\n",
              "    </tr>\n",
              "  </tbody>\n",
              "</table>\n",
              "<p>309178 rows × 10 columns</p>\n",
              "</div>"
            ],
            "text/plain": [
              "        price  vehicletype  registrationyear gearbox  power        model  \\\n",
              "0         480        other              1993  manual      0         golf   \n",
              "1       18300        coupe              2011  manual    190        other   \n",
              "2        9800          suv              2004    auto    163        grand   \n",
              "3        1500        small              2001  manual     75         golf   \n",
              "4        3600        small              2008  manual     69        fabia   \n",
              "...       ...          ...               ...     ...    ...          ...   \n",
              "309173      0        other              2005  manual      0         colt   \n",
              "309174   2200        other              2005   other      0        other   \n",
              "309175   1199  convertible              2000    auto    101       fortwo   \n",
              "309176   9200          bus              1996  manual    102  transporter   \n",
              "309177   3400        wagon              2002  manual    100         golf   \n",
              "\n",
              "        kilometer  fueltype           brand notrepaired  \n",
              "0          150000    petrol      volkswagen          na  \n",
              "1          125000  gasoline            audi         yes  \n",
              "2          125000  gasoline            jeep          na  \n",
              "3          150000    petrol      volkswagen          no  \n",
              "4           90000  gasoline           skoda          no  \n",
              "...           ...       ...             ...         ...  \n",
              "309173     150000    petrol      mitsubishi         yes  \n",
              "309174      20000     other  sonstige_autos          na  \n",
              "309175     125000    petrol           smart          no  \n",
              "309176     150000  gasoline      volkswagen          no  \n",
              "309177     150000  gasoline      volkswagen          na  \n",
              "\n",
              "[309178 rows x 10 columns]"
            ]
          },
          "execution_count": 20,
          "metadata": {},
          "output_type": "execute_result"
        }
      ],
      "source": [
        "df.drop_duplicates(inplace=True)\n",
        "df.reset_index(drop=True)"
      ]
    },
    {
      "cell_type": "markdown",
      "metadata": {
        "id": "iHZx49IApQTO"
      },
      "source": [
        "### Anomaly detection"
      ]
    },
    {
      "cell_type": "code",
      "execution_count": null,
      "metadata": {
        "id": "HgwiA_FqpQTO",
        "outputId": "a5745c8b-bca8-468f-b60f-72cd2a7f91b7"
      },
      "outputs": [
        {
          "data": {
            "text/html": [
              "<div>\n",
              "<style scoped>\n",
              "    .dataframe tbody tr th:only-of-type {\n",
              "        vertical-align: middle;\n",
              "    }\n",
              "\n",
              "    .dataframe tbody tr th {\n",
              "        vertical-align: top;\n",
              "    }\n",
              "\n",
              "    .dataframe thead th {\n",
              "        text-align: right;\n",
              "    }\n",
              "</style>\n",
              "<table border=\"1\" class=\"dataframe\">\n",
              "  <thead>\n",
              "    <tr style=\"text-align: right;\">\n",
              "      <th></th>\n",
              "      <th>count</th>\n",
              "      <th>mean</th>\n",
              "      <th>std</th>\n",
              "      <th>min</th>\n",
              "      <th>25%</th>\n",
              "      <th>50%</th>\n",
              "      <th>75%</th>\n",
              "      <th>max</th>\n",
              "    </tr>\n",
              "  </thead>\n",
              "  <tbody>\n",
              "    <tr>\n",
              "      <td>price</td>\n",
              "      <td>309178.0</td>\n",
              "      <td>4487.898495</td>\n",
              "      <td>4565.099808</td>\n",
              "      <td>0.0</td>\n",
              "      <td>1100.0</td>\n",
              "      <td>2800.0</td>\n",
              "      <td>6500.0</td>\n",
              "      <td>20000.0</td>\n",
              "    </tr>\n",
              "    <tr>\n",
              "      <td>registrationyear</td>\n",
              "      <td>309178.0</td>\n",
              "      <td>2004.362875</td>\n",
              "      <td>92.563413</td>\n",
              "      <td>1000.0</td>\n",
              "      <td>1999.0</td>\n",
              "      <td>2003.0</td>\n",
              "      <td>2008.0</td>\n",
              "      <td>9999.0</td>\n",
              "    </tr>\n",
              "    <tr>\n",
              "      <td>power</td>\n",
              "      <td>309178.0</td>\n",
              "      <td>110.996976</td>\n",
              "      <td>201.009413</td>\n",
              "      <td>0.0</td>\n",
              "      <td>69.0</td>\n",
              "      <td>105.0</td>\n",
              "      <td>143.0</td>\n",
              "      <td>20000.0</td>\n",
              "    </tr>\n",
              "    <tr>\n",
              "      <td>kilometer</td>\n",
              "      <td>309178.0</td>\n",
              "      <td>127221.131516</td>\n",
              "      <td>38526.706414</td>\n",
              "      <td>5000.0</td>\n",
              "      <td>125000.0</td>\n",
              "      <td>150000.0</td>\n",
              "      <td>150000.0</td>\n",
              "      <td>150000.0</td>\n",
              "    </tr>\n",
              "  </tbody>\n",
              "</table>\n",
              "</div>"
            ],
            "text/plain": [
              "                     count           mean           std     min       25%  \\\n",
              "price             309178.0    4487.898495   4565.099808     0.0    1100.0   \n",
              "registrationyear  309178.0    2004.362875     92.563413  1000.0    1999.0   \n",
              "power             309178.0     110.996976    201.009413     0.0      69.0   \n",
              "kilometer         309178.0  127221.131516  38526.706414  5000.0  125000.0   \n",
              "\n",
              "                       50%       75%       max  \n",
              "price               2800.0    6500.0   20000.0  \n",
              "registrationyear    2003.0    2008.0    9999.0  \n",
              "power                105.0     143.0   20000.0  \n",
              "kilometer         150000.0  150000.0  150000.0  "
            ]
          },
          "execution_count": 21,
          "metadata": {},
          "output_type": "execute_result"
        }
      ],
      "source": [
        "df.describe().T"
      ]
    },
    {
      "cell_type": "markdown",
      "metadata": {
        "id": "uMDx1Uh4pQTO"
      },
      "source": [
        "***Price anomalies***"
      ]
    },
    {
      "cell_type": "markdown",
      "metadata": {
        "id": "xN9-0AxHpQTO"
      },
      "source": [
        "Estimated distribution of the target attribute price."
      ]
    },
    {
      "cell_type": "code",
      "execution_count": null,
      "metadata": {
        "scrolled": true,
        "id": "NiEGeQrnpQTO"
      },
      "outputs": [],
      "source": [
        "def distribution_plot(feature, nbins=100):\n",
        "    fig, ax = plt.subplots(figsize=(14,4))\n",
        "    fig = sns.distplot(df[feature], bins=nbins).set_title(f'Target Feature Distribution {feature}')\n",
        "    ax.set(xlabel='feature', ylabel='%')"
      ]
    },
    {
      "cell_type": "code",
      "execution_count": null,
      "metadata": {
        "id": "dHs2HAQRpQTO",
        "outputId": "7b7071fa-5e05-4236-b0da-7622b6aae87d"
      },
      "outputs": [
        {
          "data": {
            "image/png": "[encoded data removed]",
            "text/plain": [
              "<Figure size 1008x288 with 1 Axes>"
            ]
          },
          "metadata": {
            "needs_background": "light"
          },
          "output_type": "display_data"
        }
      ],
      "source": [
        "distribution_plot('price')"
      ]
    },
    {
      "cell_type": "markdown",
      "metadata": {
        "id": "uHqXYkt1pQTP"
      },
      "source": [
        "Delete all rows where the price is less than 5."
      ]
    },
    {
      "cell_type": "code",
      "execution_count": null,
      "metadata": {
        "id": "o0ENSy3-pQTP"
      },
      "outputs": [],
      "source": [
        "df = df.drop(df.query('price < 5').index).reset_index(drop=True)"
      ]
    },
    {
      "cell_type": "markdown",
      "metadata": {
        "id": "6WQWLN3zpQTP"
      },
      "source": [
        "***RegistrationYear anomalies***"
      ]
    },
    {
      "cell_type": "markdown",
      "metadata": {
        "id": "ifeOWOsepQTP"
      },
      "source": [
        "Delete lines where the year of registration is earlier than 1900 or later than 2021."
      ]
    },
    {
      "cell_type": "code",
      "execution_count": null,
      "metadata": {
        "id": "PnI-czfSpQTP"
      },
      "outputs": [],
      "source": [
        "df = df.drop(df[(df['registrationyear'] > 2021) | (df['registrationyear'] < 1900)].index).reset_index(drop=True)"
      ]
    },
    {
      "cell_type": "markdown",
      "metadata": {
        "id": "oSkB8T8ypQTQ"
      },
      "source": [
        "***Power anomalies***"
      ]
    },
    {
      "cell_type": "markdown",
      "metadata": {
        "id": "H8zJAKmxpQTQ"
      },
      "source": [
        "Filling zero **Power** values with median values for a particular model."
      ]
    },
    {
      "cell_type": "code",
      "execution_count": null,
      "metadata": {
        "id": "RNoqE3F-pQTQ"
      },
      "outputs": [],
      "source": [
        "power_spectrum = df.query('power !=0').pivot_table(index=['brand','model','vehicletype'],values='power',aggfunc='median')"
      ]
    },
    {
      "cell_type": "code",
      "execution_count": null,
      "metadata": {
        "id": "RiR9GAWbpQTQ"
      },
      "outputs": [],
      "source": [
        "def power(row):\n",
        "    power = row['power'] \n",
        "    brand = row['brand']\n",
        "    model = row['model']\n",
        "    body = row['vehicletype']\n",
        "    new_power = power\n",
        "    if power == 0:\n",
        "        try:\n",
        "            new_power = power_spectrum.loc[(brand, model, body)].iloc[0]\n",
        "        except:\n",
        "            new_power = 0\n",
        "    return new_power"
      ]
    },
    {
      "cell_type": "code",
      "execution_count": null,
      "metadata": {
        "id": "UUC6X_GCpQTQ"
      },
      "outputs": [],
      "source": [
        "df['power'] = df.apply(power, axis = 1)"
      ]
    },
    {
      "cell_type": "raw",
      "metadata": {
        "id": "A9czl4wJpQTQ"
      },
      "source": [
        "df = df.drop(df.query('power == 0').index).reset_index(drop=True)"
      ]
    },
    {
      "cell_type": "markdown",
      "metadata": {
        "id": "XQdIxqPKpQTQ"
      },
      "source": [
        "Let's look at the current distribution of the feature."
      ]
    },
    {
      "cell_type": "code",
      "execution_count": null,
      "metadata": {
        "scrolled": true,
        "id": "HrqWnxGwpQTQ",
        "outputId": "188c62e6-5c2c-442e-baaf-7eec3b6a3c48"
      },
      "outputs": [
        {
          "data": {
            "text/plain": [
              "array([[<matplotlib.axes._subplots.AxesSubplot object at 0x7fe62ff14b10>]],\n",
              "      dtype=object)"
            ]
          },
          "execution_count": 29,
          "metadata": {},
          "output_type": "execute_result"
        },
        {
          "data": {
            "image/png": "[encoded data removed]",
            "text/plain": [
              "<Figure size 1008x288 with 1 Axes>"
            ]
          },
          "metadata": {
            "needs_background": "light"
          },
          "output_type": "display_data"
        }
      ],
      "source": [
        "df.hist('power', bins=20, figsize=(14, 4))"
      ]
    },
    {
      "cell_type": "markdown",
      "metadata": {
        "id": "B-ItCel4pQTR"
      },
      "source": [
        "Let's look at objects that have a power of more than 400 hp. and sort by price. The more powerful the car, the more expensive."
      ]
    },
    {
      "cell_type": "code",
      "execution_count": null,
      "metadata": {
        "scrolled": true,
        "id": "AG8r6IJSpQTR",
        "outputId": "90f64263-6a72-4dbb-9453-06d91581d998"
      },
      "outputs": [
        {
          "data": {
            "text/html": [
              "<div>\n",
              "<style scoped>\n",
              "    .dataframe tbody tr th:only-of-type {\n",
              "        vertical-align: middle;\n",
              "    }\n",
              "\n",
              "    .dataframe tbody tr th {\n",
              "        vertical-align: top;\n",
              "    }\n",
              "\n",
              "    .dataframe thead th {\n",
              "        text-align: right;\n",
              "    }\n",
              "</style>\n",
              "<table border=\"1\" class=\"dataframe\">\n",
              "  <thead>\n",
              "    <tr style=\"text-align: right;\">\n",
              "      <th></th>\n",
              "      <th>price</th>\n",
              "      <th>vehicletype</th>\n",
              "      <th>registrationyear</th>\n",
              "      <th>gearbox</th>\n",
              "      <th>power</th>\n",
              "      <th>model</th>\n",
              "      <th>kilometer</th>\n",
              "      <th>fueltype</th>\n",
              "      <th>brand</th>\n",
              "      <th>notrepaired</th>\n",
              "    </tr>\n",
              "  </thead>\n",
              "  <tbody>\n",
              "    <tr>\n",
              "      <td>298856</td>\n",
              "      <td>20000</td>\n",
              "      <td>coupe</td>\n",
              "      <td>2006</td>\n",
              "      <td>auto</td>\n",
              "      <td>476.0</td>\n",
              "      <td>other</td>\n",
              "      <td>125000</td>\n",
              "      <td>petrol</td>\n",
              "      <td>mercedes_benz</td>\n",
              "      <td>no</td>\n",
              "    </tr>\n",
              "    <tr>\n",
              "      <td>174031</td>\n",
              "      <td>20000</td>\n",
              "      <td>sedan</td>\n",
              "      <td>2006</td>\n",
              "      <td>manual</td>\n",
              "      <td>420.0</td>\n",
              "      <td>other</td>\n",
              "      <td>150000</td>\n",
              "      <td>petrol</td>\n",
              "      <td>audi</td>\n",
              "      <td>no</td>\n",
              "    </tr>\n",
              "    <tr>\n",
              "      <td>126351</td>\n",
              "      <td>20000</td>\n",
              "      <td>sedan</td>\n",
              "      <td>2008</td>\n",
              "      <td>auto</td>\n",
              "      <td>408.0</td>\n",
              "      <td>7er</td>\n",
              "      <td>100000</td>\n",
              "      <td>petrol</td>\n",
              "      <td>bmw</td>\n",
              "      <td>no</td>\n",
              "    </tr>\n",
              "    <tr>\n",
              "      <td>30891</td>\n",
              "      <td>20000</td>\n",
              "      <td>sedan</td>\n",
              "      <td>2003</td>\n",
              "      <td>auto</td>\n",
              "      <td>500.0</td>\n",
              "      <td>s_klasse</td>\n",
              "      <td>80000</td>\n",
              "      <td>petrol</td>\n",
              "      <td>mercedes_benz</td>\n",
              "      <td>no</td>\n",
              "    </tr>\n",
              "    <tr>\n",
              "      <td>130856</td>\n",
              "      <td>20000</td>\n",
              "      <td>sedan</td>\n",
              "      <td>2007</td>\n",
              "      <td>auto</td>\n",
              "      <td>450.0</td>\n",
              "      <td>other</td>\n",
              "      <td>150000</td>\n",
              "      <td>petrol</td>\n",
              "      <td>audi</td>\n",
              "      <td>no</td>\n",
              "    </tr>\n",
              "    <tr>\n",
              "      <td>24390</td>\n",
              "      <td>20000</td>\n",
              "      <td>sedan</td>\n",
              "      <td>2006</td>\n",
              "      <td>auto</td>\n",
              "      <td>507.0</td>\n",
              "      <td>m_reihe</td>\n",
              "      <td>150000</td>\n",
              "      <td>petrol</td>\n",
              "      <td>bmw</td>\n",
              "      <td>no</td>\n",
              "    </tr>\n",
              "    <tr>\n",
              "      <td>239691</td>\n",
              "      <td>20000</td>\n",
              "      <td>wagon</td>\n",
              "      <td>2004</td>\n",
              "      <td>auto</td>\n",
              "      <td>450.0</td>\n",
              "      <td>other</td>\n",
              "      <td>150000</td>\n",
              "      <td>petrol</td>\n",
              "      <td>audi</td>\n",
              "      <td>no</td>\n",
              "    </tr>\n",
              "    <tr>\n",
              "      <td>292853</td>\n",
              "      <td>20000</td>\n",
              "      <td>other</td>\n",
              "      <td>2016</td>\n",
              "      <td>auto</td>\n",
              "      <td>507.0</td>\n",
              "      <td>m_reihe</td>\n",
              "      <td>150000</td>\n",
              "      <td>other</td>\n",
              "      <td>bmw</td>\n",
              "      <td>na</td>\n",
              "    </tr>\n",
              "    <tr>\n",
              "      <td>183961</td>\n",
              "      <td>19999</td>\n",
              "      <td>coupe</td>\n",
              "      <td>2007</td>\n",
              "      <td>auto</td>\n",
              "      <td>514.0</td>\n",
              "      <td>other</td>\n",
              "      <td>150000</td>\n",
              "      <td>petrol</td>\n",
              "      <td>mercedes_benz</td>\n",
              "      <td>no</td>\n",
              "    </tr>\n",
              "    <tr>\n",
              "      <td>214173</td>\n",
              "      <td>19999</td>\n",
              "      <td>wagon</td>\n",
              "      <td>2007</td>\n",
              "      <td>auto</td>\n",
              "      <td>435.0</td>\n",
              "      <td>other</td>\n",
              "      <td>125000</td>\n",
              "      <td>petrol</td>\n",
              "      <td>audi</td>\n",
              "      <td>no</td>\n",
              "    </tr>\n",
              "    <tr>\n",
              "      <td>113158</td>\n",
              "      <td>19999</td>\n",
              "      <td>sedan</td>\n",
              "      <td>2005</td>\n",
              "      <td>other</td>\n",
              "      <td>550.0</td>\n",
              "      <td>other</td>\n",
              "      <td>150000</td>\n",
              "      <td>other</td>\n",
              "      <td>mercedes_benz</td>\n",
              "      <td>no</td>\n",
              "    </tr>\n",
              "    <tr>\n",
              "      <td>130600</td>\n",
              "      <td>19999</td>\n",
              "      <td>sedan</td>\n",
              "      <td>2008</td>\n",
              "      <td>auto</td>\n",
              "      <td>450.0</td>\n",
              "      <td>3er</td>\n",
              "      <td>90000</td>\n",
              "      <td>petrol</td>\n",
              "      <td>bmw</td>\n",
              "      <td>no</td>\n",
              "    </tr>\n",
              "    <tr>\n",
              "      <td>142374</td>\n",
              "      <td>19998</td>\n",
              "      <td>coupe</td>\n",
              "      <td>2005</td>\n",
              "      <td>auto</td>\n",
              "      <td>476.0</td>\n",
              "      <td>other</td>\n",
              "      <td>150000</td>\n",
              "      <td>petrol</td>\n",
              "      <td>mercedes_benz</td>\n",
              "      <td>no</td>\n",
              "    </tr>\n",
              "    <tr>\n",
              "      <td>205727</td>\n",
              "      <td>19998</td>\n",
              "      <td>wagon</td>\n",
              "      <td>2006</td>\n",
              "      <td>auto</td>\n",
              "      <td>435.0</td>\n",
              "      <td>other</td>\n",
              "      <td>150000</td>\n",
              "      <td>petrol</td>\n",
              "      <td>audi</td>\n",
              "      <td>no</td>\n",
              "    </tr>\n",
              "    <tr>\n",
              "      <td>158521</td>\n",
              "      <td>19990</td>\n",
              "      <td>suv</td>\n",
              "      <td>2005</td>\n",
              "      <td>auto</td>\n",
              "      <td>450.0</td>\n",
              "      <td>cayenne</td>\n",
              "      <td>90000</td>\n",
              "      <td>petrol</td>\n",
              "      <td>porsche</td>\n",
              "      <td>no</td>\n",
              "    </tr>\n",
              "    <tr>\n",
              "      <td>294502</td>\n",
              "      <td>19990</td>\n",
              "      <td>sedan</td>\n",
              "      <td>2006</td>\n",
              "      <td>auto</td>\n",
              "      <td>431.0</td>\n",
              "      <td>300c</td>\n",
              "      <td>125000</td>\n",
              "      <td>petrol</td>\n",
              "      <td>chrysler</td>\n",
              "      <td>no</td>\n",
              "    </tr>\n",
              "    <tr>\n",
              "      <td>109917</td>\n",
              "      <td>19980</td>\n",
              "      <td>wagon</td>\n",
              "      <td>2007</td>\n",
              "      <td>manual</td>\n",
              "      <td>420.0</td>\n",
              "      <td>other</td>\n",
              "      <td>150000</td>\n",
              "      <td>petrol</td>\n",
              "      <td>audi</td>\n",
              "      <td>no</td>\n",
              "    </tr>\n",
              "    <tr>\n",
              "      <td>20238</td>\n",
              "      <td>19950</td>\n",
              "      <td>sedan</td>\n",
              "      <td>2007</td>\n",
              "      <td>auto</td>\n",
              "      <td>450.0</td>\n",
              "      <td>a8</td>\n",
              "      <td>150000</td>\n",
              "      <td>petrol</td>\n",
              "      <td>audi</td>\n",
              "      <td>no</td>\n",
              "    </tr>\n",
              "    <tr>\n",
              "      <td>270191</td>\n",
              "      <td>19950</td>\n",
              "      <td>sedan</td>\n",
              "      <td>2007</td>\n",
              "      <td>auto</td>\n",
              "      <td>450.0</td>\n",
              "      <td>other</td>\n",
              "      <td>150000</td>\n",
              "      <td>petrol</td>\n",
              "      <td>audi</td>\n",
              "      <td>no</td>\n",
              "    </tr>\n",
              "    <tr>\n",
              "      <td>218349</td>\n",
              "      <td>19900</td>\n",
              "      <td>convertible</td>\n",
              "      <td>1967</td>\n",
              "      <td>auto</td>\n",
              "      <td>408.0</td>\n",
              "      <td>galaxy</td>\n",
              "      <td>100000</td>\n",
              "      <td>petrol</td>\n",
              "      <td>ford</td>\n",
              "      <td>no</td>\n",
              "    </tr>\n",
              "    <tr>\n",
              "      <td>51757</td>\n",
              "      <td>19900</td>\n",
              "      <td>sedan</td>\n",
              "      <td>2007</td>\n",
              "      <td>manual</td>\n",
              "      <td>420.0</td>\n",
              "      <td>a4</td>\n",
              "      <td>150000</td>\n",
              "      <td>petrol</td>\n",
              "      <td>audi</td>\n",
              "      <td>no</td>\n",
              "    </tr>\n",
              "    <tr>\n",
              "      <td>125129</td>\n",
              "      <td>19900</td>\n",
              "      <td>coupe</td>\n",
              "      <td>2004</td>\n",
              "      <td>auto</td>\n",
              "      <td>519.0</td>\n",
              "      <td>clk</td>\n",
              "      <td>125000</td>\n",
              "      <td>petrol</td>\n",
              "      <td>mercedes_benz</td>\n",
              "      <td>no</td>\n",
              "    </tr>\n",
              "    <tr>\n",
              "      <td>95278</td>\n",
              "      <td>19900</td>\n",
              "      <td>sedan</td>\n",
              "      <td>2007</td>\n",
              "      <td>auto</td>\n",
              "      <td>450.0</td>\n",
              "      <td>other</td>\n",
              "      <td>150000</td>\n",
              "      <td>petrol</td>\n",
              "      <td>audi</td>\n",
              "      <td>no</td>\n",
              "    </tr>\n",
              "    <tr>\n",
              "      <td>149725</td>\n",
              "      <td>19900</td>\n",
              "      <td>wagon</td>\n",
              "      <td>2004</td>\n",
              "      <td>auto</td>\n",
              "      <td>476.0</td>\n",
              "      <td>e_klasse</td>\n",
              "      <td>150000</td>\n",
              "      <td>petrol</td>\n",
              "      <td>mercedes_benz</td>\n",
              "      <td>no</td>\n",
              "    </tr>\n",
              "    <tr>\n",
              "      <td>228174</td>\n",
              "      <td>19900</td>\n",
              "      <td>coupe</td>\n",
              "      <td>2005</td>\n",
              "      <td>auto</td>\n",
              "      <td>500.0</td>\n",
              "      <td>cl</td>\n",
              "      <td>150000</td>\n",
              "      <td>petrol</td>\n",
              "      <td>mercedes_benz</td>\n",
              "      <td>no</td>\n",
              "    </tr>\n",
              "    <tr>\n",
              "      <td>229169</td>\n",
              "      <td>19900</td>\n",
              "      <td>sedan</td>\n",
              "      <td>2007</td>\n",
              "      <td>auto</td>\n",
              "      <td>517.0</td>\n",
              "      <td>s_klasse</td>\n",
              "      <td>150000</td>\n",
              "      <td>petrol</td>\n",
              "      <td>mercedes_benz</td>\n",
              "      <td>no</td>\n",
              "    </tr>\n",
              "    <tr>\n",
              "      <td>231051</td>\n",
              "      <td>19900</td>\n",
              "      <td>wagon</td>\n",
              "      <td>2006</td>\n",
              "      <td>auto</td>\n",
              "      <td>435.0</td>\n",
              "      <td>other</td>\n",
              "      <td>125000</td>\n",
              "      <td>petrol</td>\n",
              "      <td>audi</td>\n",
              "      <td>no</td>\n",
              "    </tr>\n",
              "    <tr>\n",
              "      <td>245990</td>\n",
              "      <td>19800</td>\n",
              "      <td>wagon</td>\n",
              "      <td>2007</td>\n",
              "      <td>auto</td>\n",
              "      <td>435.0</td>\n",
              "      <td>other</td>\n",
              "      <td>125000</td>\n",
              "      <td>petrol</td>\n",
              "      <td>audi</td>\n",
              "      <td>no</td>\n",
              "    </tr>\n",
              "    <tr>\n",
              "      <td>131351</td>\n",
              "      <td>19800</td>\n",
              "      <td>suv</td>\n",
              "      <td>2007</td>\n",
              "      <td>auto</td>\n",
              "      <td>500.0</td>\n",
              "      <td>cayenne</td>\n",
              "      <td>150000</td>\n",
              "      <td>petrol</td>\n",
              "      <td>porsche</td>\n",
              "      <td>no</td>\n",
              "    </tr>\n",
              "    <tr>\n",
              "      <td>21955</td>\n",
              "      <td>19800</td>\n",
              "      <td>suv</td>\n",
              "      <td>2009</td>\n",
              "      <td>auto</td>\n",
              "      <td>426.0</td>\n",
              "      <td>grand</td>\n",
              "      <td>150000</td>\n",
              "      <td>petrol</td>\n",
              "      <td>jeep</td>\n",
              "      <td>no</td>\n",
              "    </tr>\n",
              "  </tbody>\n",
              "</table>\n",
              "</div>"
            ],
            "text/plain": [
              "        price  vehicletype  registrationyear gearbox  power     model  \\\n",
              "298856  20000        coupe              2006    auto  476.0     other   \n",
              "174031  20000        sedan              2006  manual  420.0     other   \n",
              "126351  20000        sedan              2008    auto  408.0       7er   \n",
              "30891   20000        sedan              2003    auto  500.0  s_klasse   \n",
              "130856  20000        sedan              2007    auto  450.0     other   \n",
              "24390   20000        sedan              2006    auto  507.0   m_reihe   \n",
              "239691  20000        wagon              2004    auto  450.0     other   \n",
              "292853  20000        other              2016    auto  507.0   m_reihe   \n",
              "183961  19999        coupe              2007    auto  514.0     other   \n",
              "214173  19999        wagon              2007    auto  435.0     other   \n",
              "113158  19999        sedan              2005   other  550.0     other   \n",
              "130600  19999        sedan              2008    auto  450.0       3er   \n",
              "142374  19998        coupe              2005    auto  476.0     other   \n",
              "205727  19998        wagon              2006    auto  435.0     other   \n",
              "158521  19990          suv              2005    auto  450.0   cayenne   \n",
              "294502  19990        sedan              2006    auto  431.0      300c   \n",
              "109917  19980        wagon              2007  manual  420.0     other   \n",
              "20238   19950        sedan              2007    auto  450.0        a8   \n",
              "270191  19950        sedan              2007    auto  450.0     other   \n",
              "218349  19900  convertible              1967    auto  408.0    galaxy   \n",
              "51757   19900        sedan              2007  manual  420.0        a4   \n",
              "125129  19900        coupe              2004    auto  519.0       clk   \n",
              "95278   19900        sedan              2007    auto  450.0     other   \n",
              "149725  19900        wagon              2004    auto  476.0  e_klasse   \n",
              "228174  19900        coupe              2005    auto  500.0        cl   \n",
              "229169  19900        sedan              2007    auto  517.0  s_klasse   \n",
              "231051  19900        wagon              2006    auto  435.0     other   \n",
              "245990  19800        wagon              2007    auto  435.0     other   \n",
              "131351  19800          suv              2007    auto  500.0   cayenne   \n",
              "21955   19800          suv              2009    auto  426.0     grand   \n",
              "\n",
              "        kilometer fueltype          brand notrepaired  \n",
              "298856     125000   petrol  mercedes_benz          no  \n",
              "174031     150000   petrol           audi          no  \n",
              "126351     100000   petrol            bmw          no  \n",
              "30891       80000   petrol  mercedes_benz          no  \n",
              "130856     150000   petrol           audi          no  \n",
              "24390      150000   petrol            bmw          no  \n",
              "239691     150000   petrol           audi          no  \n",
              "292853     150000    other            bmw          na  \n",
              "183961     150000   petrol  mercedes_benz          no  \n",
              "214173     125000   petrol           audi          no  \n",
              "113158     150000    other  mercedes_benz          no  \n",
              "130600      90000   petrol            bmw          no  \n",
              "142374     150000   petrol  mercedes_benz          no  \n",
              "205727     150000   petrol           audi          no  \n",
              "158521      90000   petrol        porsche          no  \n",
              "294502     125000   petrol       chrysler          no  \n",
              "109917     150000   petrol           audi          no  \n",
              "20238      150000   petrol           audi          no  \n",
              "270191     150000   petrol           audi          no  \n",
              "218349     100000   petrol           ford          no  \n",
              "51757      150000   petrol           audi          no  \n",
              "125129     125000   petrol  mercedes_benz          no  \n",
              "95278      150000   petrol           audi          no  \n",
              "149725     150000   petrol  mercedes_benz          no  \n",
              "228174     150000   petrol  mercedes_benz          no  \n",
              "229169     150000   petrol  mercedes_benz          no  \n",
              "231051     125000   petrol           audi          no  \n",
              "245990     125000   petrol           audi          no  \n",
              "131351     150000   petrol        porsche          no  \n",
              "21955      150000   petrol           jeep          no  "
            ]
          },
          "execution_count": 30,
          "metadata": {},
          "output_type": "execute_result"
        }
      ],
      "source": [
        "df.query('power > 400').sort_values(by='price', ascending=False).head(30)"
      ]
    },
    {
      "cell_type": "markdown",
      "metadata": {
        "id": "Kaw3JW7-pQTR"
      },
      "source": [
        "The maximum power close to reality is 550 hp.\n",
        "Delete all objects where Power is greater than 550 or less than 20 (there are not so many values and they are rather erroneous.)"
      ]
    },
    {
      "cell_type": "code",
      "execution_count": null,
      "metadata": {
        "id": "lCPEFYUUpQTR"
      },
      "outputs": [],
      "source": [
        "df = df.drop(df.query('power > 550 | power < 20').index).reset_index(drop=True)"
      ]
    },
    {
      "cell_type": "markdown",
      "metadata": {
        "id": "0c3jo70xpQTR"
      },
      "source": [
        "Let's change the type of values to int, because now it's a float."
      ]
    },
    {
      "cell_type": "code",
      "execution_count": null,
      "metadata": {
        "id": "LkQr4BftpQTR"
      },
      "outputs": [],
      "source": [
        "df['power'] = df['power'].astype('int')"
      ]
    },
    {
      "cell_type": "code",
      "execution_count": null,
      "metadata": {
        "id": "X31eI5V6pQTR",
        "outputId": "20b7d7fe-a9f3-4734-e11b-3b33114d663f"
      },
      "outputs": [
        {
          "data": {
            "text/html": [
              "<div>\n",
              "<style scoped>\n",
              "    .dataframe tbody tr th:only-of-type {\n",
              "        vertical-align: middle;\n",
              "    }\n",
              "\n",
              "    .dataframe tbody tr th {\n",
              "        vertical-align: top;\n",
              "    }\n",
              "\n",
              "    .dataframe thead th {\n",
              "        text-align: right;\n",
              "    }\n",
              "</style>\n",
              "<table border=\"1\" class=\"dataframe\">\n",
              "  <thead>\n",
              "    <tr style=\"text-align: right;\">\n",
              "      <th></th>\n",
              "      <th>count</th>\n",
              "      <th>mean</th>\n",
              "      <th>std</th>\n",
              "      <th>min</th>\n",
              "      <th>25%</th>\n",
              "      <th>50%</th>\n",
              "      <th>75%</th>\n",
              "      <th>max</th>\n",
              "    </tr>\n",
              "  </thead>\n",
              "  <tbody>\n",
              "    <tr>\n",
              "      <td>price</td>\n",
              "      <td>298289.0</td>\n",
              "      <td>4639.397507</td>\n",
              "      <td>4566.138102</td>\n",
              "      <td>5.0</td>\n",
              "      <td>1200.0</td>\n",
              "      <td>2950.0</td>\n",
              "      <td>6700.0</td>\n",
              "      <td>20000.0</td>\n",
              "    </tr>\n",
              "    <tr>\n",
              "      <td>registrationyear</td>\n",
              "      <td>298289.0</td>\n",
              "      <td>2003.262014</td>\n",
              "      <td>7.494957</td>\n",
              "      <td>1910.0</td>\n",
              "      <td>1999.0</td>\n",
              "      <td>2003.0</td>\n",
              "      <td>2008.0</td>\n",
              "      <td>2019.0</td>\n",
              "    </tr>\n",
              "    <tr>\n",
              "      <td>power</td>\n",
              "      <td>298289.0</td>\n",
              "      <td>119.303055</td>\n",
              "      <td>52.788740</td>\n",
              "      <td>20.0</td>\n",
              "      <td>75.0</td>\n",
              "      <td>110.0</td>\n",
              "      <td>145.0</td>\n",
              "      <td>550.0</td>\n",
              "    </tr>\n",
              "    <tr>\n",
              "      <td>kilometer</td>\n",
              "      <td>298289.0</td>\n",
              "      <td>127490.939994</td>\n",
              "      <td>37949.995956</td>\n",
              "      <td>5000.0</td>\n",
              "      <td>125000.0</td>\n",
              "      <td>150000.0</td>\n",
              "      <td>150000.0</td>\n",
              "      <td>150000.0</td>\n",
              "    </tr>\n",
              "  </tbody>\n",
              "</table>\n",
              "</div>"
            ],
            "text/plain": [
              "                     count           mean           std     min       25%  \\\n",
              "price             298289.0    4639.397507   4566.138102     5.0    1200.0   \n",
              "registrationyear  298289.0    2003.262014      7.494957  1910.0    1999.0   \n",
              "power             298289.0     119.303055     52.788740    20.0      75.0   \n",
              "kilometer         298289.0  127490.939994  37949.995956  5000.0  125000.0   \n",
              "\n",
              "                       50%       75%       max  \n",
              "price               2950.0    6700.0   20000.0  \n",
              "registrationyear    2003.0    2008.0    2019.0  \n",
              "power                110.0     145.0     550.0  \n",
              "kilometer         150000.0  150000.0  150000.0  "
            ]
          },
          "execution_count": 33,
          "metadata": {},
          "output_type": "execute_result"
        }
      ],
      "source": [
        "df.describe().T"
      ]
    },
    {
      "cell_type": "markdown",
      "metadata": {
        "id": "DbQIKjIupQTR"
      },
      "source": [
        "**CONCLUSION**"
      ]
    },
    {
      "cell_type": "markdown",
      "metadata": {
        "id": "Rqmew4p8pQTR"
      },
      "source": [
        "Data prepared for further work:\n",
        "  - Missing values replaced\n",
        "  - Duplicates removed\n",
        "  - Anomalies removed\n",
        "  - Extra signs removed"
      ]
    },
    {
      "cell_type": "markdown",
      "metadata": {
        "id": "gQiMPyn2pQTS"
      },
      "source": [
        "## Model training"
      ]
    },
    {
      "cell_type": "markdown",
      "metadata": {
        "id": "AuYpxDNApQTS"
      },
      "source": [
        "In this section, we will train models without hyperparameter fitting."
      ]
    },
    {
      "cell_type": "markdown",
      "metadata": {
        "id": "sI51WcbFpQTS"
      },
      "source": [
        "### Preparing splits"
      ]
    },
    {
      "cell_type": "markdown",
      "metadata": {
        "id": "pKGis9XppQTS"
      },
      "source": [
        "I will first copy the dataset for training linear regression, in it we will not set the data type to **category**."
      ]
    },
    {
      "cell_type": "code",
      "execution_count": null,
      "metadata": {
        "id": "aadXnl7TpQTS"
      },
      "outputs": [],
      "source": [
        "df_non_cat = df.copy()"
      ]
    },
    {
      "cell_type": "markdown",
      "metadata": {
        "id": "LfzEYFrNpQTS"
      },
      "source": [
        "Selecting categorical features, change the data type to **category**, form samples for the CatBoost and LightGBM models."
      ]
    },
    {
      "cell_type": "code",
      "execution_count": null,
      "metadata": {
        "id": "NGMYtZqopQTS"
      },
      "outputs": [],
      "source": [
        "cat_columns = ['vehicletype', 'gearbox', 'model', 'fueltype', 'brand', 'notrepaired']\n",
        "num_columns = list(df.describe().columns)"
      ]
    },
    {
      "cell_type": "code",
      "execution_count": null,
      "metadata": {
        "id": "0hDE1n1ppQTS"
      },
      "outputs": [],
      "source": [
        "df[cat_columns] = df[cat_columns].astype('category')"
      ]
    },
    {
      "cell_type": "code",
      "execution_count": null,
      "metadata": {
        "id": "nFGqiXUgpQTT"
      },
      "outputs": [],
      "source": [
        "cat_features = df.drop(['price'], axis=1)\n",
        "cat_target = df['price']"
      ]
    },
    {
      "cell_type": "code",
      "execution_count": null,
      "metadata": {
        "id": "JHdfK5gkpQTT"
      },
      "outputs": [],
      "source": [
        "Xcat_train, Xcat_test, ycat_train, ycat_test = train_test_split(cat_features, cat_target, test_size=0.25, random_state=42)"
      ]
    },
    {
      "cell_type": "markdown",
      "metadata": {
        "id": "S0cbEg00pQTT"
      },
      "source": [
        "__________"
      ]
    },
    {
      "cell_type": "markdown",
      "metadata": {
        "id": "vMkF5PLvpQTT"
      },
      "source": [
        "Encode categorical features for working with linear regression."
      ]
    },
    {
      "cell_type": "code",
      "execution_count": null,
      "metadata": {
        "id": "qkrgGIEopQTT"
      },
      "outputs": [],
      "source": [
        "encoder = OrdinalEncoder()\n",
        "df_non_cat_encoded = pd.DataFrame(encoder.fit_transform(df_non_cat[cat_columns]))\n",
        "df_non_cat = df_non_cat.join(df_non_cat_encoded).drop(cat_columns, axis=1)"
      ]
    },
    {
      "cell_type": "markdown",
      "metadata": {
        "id": "8PYhWpqKpQTT"
      },
      "source": [
        "Making splits for working with linear regression (without changing the data type)."
      ]
    },
    {
      "cell_type": "code",
      "execution_count": null,
      "metadata": {
        "id": "tXkld63xpQTT"
      },
      "outputs": [],
      "source": [
        "features = df_non_cat.drop(['price'], axis=1)\n",
        "target = df_non_cat['price']"
      ]
    },
    {
      "cell_type": "code",
      "execution_count": null,
      "metadata": {
        "id": "8HBGxNwlpQTT"
      },
      "outputs": [],
      "source": [
        "X_train, X_test, y_train, y_test = train_test_split(features, target, test_size=0.25, random_state=42)"
      ]
    },
    {
      "cell_type": "code",
      "execution_count": null,
      "metadata": {
        "id": "GKICeI_9pQTT"
      },
      "outputs": [],
      "source": [
        "def rmse(predictions, targets):\n",
        "    return np.sqrt(((predictions - targets) ** 2).mean())\n",
        "rmse_score = make_scorer(rmse, greater_is_better = False)"
      ]
    },
    {
      "cell_type": "markdown",
      "metadata": {
        "id": "hj3LipmNpQTU"
      },
      "source": [
        "### LinearRegression"
      ]
    },
    {
      "cell_type": "code",
      "execution_count": null,
      "metadata": {
        "id": "D2wkJ0H2pQTU"
      },
      "outputs": [],
      "source": [
        "lr_model = LinearRegression()"
      ]
    },
    {
      "cell_type": "code",
      "execution_count": null,
      "metadata": {
        "id": "tnk3eOVQpQTU",
        "outputId": "7fc3ca84-7e60-41ab-db1e-c66d0b735f90"
      },
      "outputs": [
        {
          "name": "stdout",
          "output_type": "stream",
          "text": [
            "CPU times: user 63.7 ms, sys: 4.1 ms, total: 67.8 ms\n",
            "Wall time: 61.2 ms\n"
          ]
        },
        {
          "data": {
            "text/plain": [
              "LinearRegression(copy_X=True, fit_intercept=True, n_jobs=None, normalize=False)"
            ]
          },
          "execution_count": 44,
          "metadata": {},
          "output_type": "execute_result"
        }
      ],
      "source": [
        "%%time\n",
        "lr_model.fit(X_train, y_train)"
      ]
    },
    {
      "cell_type": "code",
      "execution_count": null,
      "metadata": {
        "id": "wdZgOo8WpQTU",
        "outputId": "0ae52153-c1e8-4c0d-8b6f-88fc5fa7383d"
      },
      "outputs": [
        {
          "name": "stdout",
          "output_type": "stream",
          "text": [
            "CPU times: user 31.7 ms, sys: 51.7 ms, total: 83.5 ms\n",
            "Wall time: 60.7 ms\n"
          ]
        },
        {
          "data": {
            "text/plain": [
              "3151.8817242509135"
            ]
          },
          "execution_count": 45,
          "metadata": {},
          "output_type": "execute_result"
        }
      ],
      "source": [
        "%%time\n",
        "rmse(lr_model.predict(X_test), y_test)"
      ]
    },
    {
      "cell_type": "markdown",
      "metadata": {
        "id": "1oo1YKetpQTV"
      },
      "source": [
        "**LinearRegression**\n",
        "\n",
        "**RMSE: 3151**\n",
        "\n",
        "**TIME: ~71 ms (fit) + 30 ms (predict)**"
      ]
    },
    {
      "cell_type": "markdown",
      "metadata": {
        "id": "SdTkQgYqpQTV"
      },
      "source": [
        "### CatBoost"
      ]
    },
    {
      "cell_type": "raw",
      "metadata": {
        "id": "jCk2MveTpQTV"
      },
      "source": [
        "catboost_model = CatBoostRegressor(cat_features=cat_columns)"
      ]
    },
    {
      "cell_type": "raw",
      "metadata": {
        "id": "2mt-bCfwpQTW"
      },
      "source": [
        "%%time\n",
        "catboost_model.fit(Xcat_train, ycat_train, verbose=200)"
      ]
    },
    {
      "cell_type": "raw",
      "metadata": {
        "id": "QcCbbn_hpQTW"
      },
      "source": [
        "%%time\n",
        "rmse(catboost_model.predict(Xcat_test), ycat_test)"
      ]
    },
    {
      "cell_type": "markdown",
      "metadata": {
        "id": "izxpama1pQTX"
      },
      "source": [
        "**CatBoost**\n",
        "\n",
        "**RMSE: 1723**\n",
        "\n",
        "**TIME: 12 min (fit) + 1 s (predict)**"
      ]
    },
    {
      "cell_type": "markdown",
      "metadata": {
        "id": "VXcbE5jZpQTX"
      },
      "source": [
        "### LightGBM"
      ]
    },
    {
      "cell_type": "raw",
      "metadata": {
        "id": "06A0pFM0pQTX"
      },
      "source": [
        "lgbm_model = lgb.LGBMRegressor()"
      ]
    },
    {
      "cell_type": "raw",
      "metadata": {
        "id": "83ABG9XXpQTX"
      },
      "source": [
        "%%time\n",
        "lgbm_model.fit(Xcat_train, ycat_train, categorical_feature=cat_columns, verbose=10)"
      ]
    },
    {
      "cell_type": "raw",
      "metadata": {
        "id": "JKMrag9PpQTY"
      },
      "source": [
        "%%time\n",
        "rmse(lgbm_model.predict(Xcat_test), ycat_test)"
      ]
    },
    {
      "cell_type": "markdown",
      "metadata": {
        "id": "7UGaB4MWpQTY"
      },
      "source": [
        "**LightGBM**\n",
        "\n",
        "**RMSE: 1690**\n",
        "\n",
        "**TIME: 12 min (fit) + 1 s (predict)**"
      ]
    },
    {
      "cell_type": "markdown",
      "metadata": {
        "id": "3nZ-KWGWpQUD"
      },
      "source": [
        "### Conclusion"
      ]
    },
    {
      "cell_type": "markdown",
      "metadata": {
        "id": "BWVNWnXrpQUD"
      },
      "source": [
        "The best solution out of the box was shown by the LightGBM model."
      ]
    },
    {
      "cell_type": "markdown",
      "metadata": {
        "id": "079JiQ61pQUD"
      },
      "source": [
        "## Analysis of models"
      ]
    },
    {
      "cell_type": "markdown",
      "metadata": {
        "id": "wIYZ9y8mpQUE"
      },
      "source": [
        "Let's select the parameters for the models."
      ]
    },
    {
      "cell_type": "markdown",
      "metadata": {
        "id": "laeTKCikpQUE"
      },
      "source": [
        "### CatBoost"
      ]
    },
    {
      "cell_type": "markdown",
      "metadata": {
        "id": "Q9W_l_1apQUE"
      },
      "source": [
        "Подбор параметром сделаем через GridSearchCV и RandomizedSearchCV."
      ]
    },
    {
      "cell_type": "raw",
      "metadata": {
        "id": "d7aRkWc6pQUE"
      },
      "source": [
        "catboost_params = {'depth':[3,4],\n",
        "          'iterations':[500],\n",
        "          'learning_rate':[0.03, 0.05], \n",
        "          'l2_leaf_reg':[3, 5]}"
      ]
    },
    {
      "cell_type": "raw",
      "metadata": {
        "id": "FOKE6EL-pQUE"
      },
      "source": [
        "catboost_model = CatBoostRegressor(cat_features=cat_columns)"
      ]
    },
    {
      "cell_type": "raw",
      "metadata": {
        "id": "m8hp7Xm1pQUF"
      },
      "source": [
        "catboost_grid = GridSearchCV(estimator=catboost_model,\n",
        "                             param_grid=catboost_params,\n",
        "                             scoring=rmse_score,\n",
        "                             cv=3,\n",
        "                             n_jobs=-1,\n",
        "                             verbose=3)"
      ]
    },
    {
      "cell_type": "raw",
      "metadata": {
        "scrolled": true,
        "id": "JTtgiREypQUF"
      },
      "source": [
        "catboost_grid.fit(Xcat_train, ycat_train)    "
      ]
    },
    {
      "cell_type": "raw",
      "metadata": {
        "id": "Il3j0LgEpQUF"
      },
      "source": [
        "catboost_grid.best_score_"
      ]
    },
    {
      "cell_type": "markdown",
      "metadata": {
        "id": "uGSZlc8RpQUF"
      },
      "source": [
        "The best RMSE result was **1813**.\n",
        "\n",
        "Next, run RandomizedSearchCV."
      ]
    },
    {
      "cell_type": "raw",
      "metadata": {
        "id": "Dny2cSKjpQUG"
      },
      "source": [
        "catboost_random_params = {'depth':range(2, 10),\n",
        "          'iterations':[400, 700, 500],\n",
        "          'learning_rate':[0.03, 0.05, 0.06], \n",
        "          'l2_leaf_reg':[3, 5, 6]}"
      ]
    },
    {
      "cell_type": "raw",
      "metadata": {
        "id": "k6YHrFlSpQUG"
      },
      "source": [
        "cb_rand_grid = RandomizedSearchCV(estimator=catboost_model,\n",
        "                               param_distributions=catboost_random_params,\n",
        "                               scoring=rmse_score,\n",
        "                               cv=3,\n",
        "                               n_iter=3,\n",
        "                               n_jobs=-1,\n",
        "                               verbose=False)"
      ]
    },
    {
      "cell_type": "raw",
      "metadata": {
        "id": "aBdu_pT8pQUG"
      },
      "source": [
        "cb_rand_grid.fit(Xcat_train, ycat_train)    "
      ]
    },
    {
      "cell_type": "raw",
      "metadata": {
        "id": "NAliNnvTpQUG"
      },
      "source": [
        "cb_rand_grid.best_params_"
      ]
    },
    {
      "cell_type": "raw",
      "metadata": {
        "id": "wm8ZQqV_pQUG"
      },
      "source": [
        "cb_rand_grid.best_score_"
      ]
    },
    {
      "cell_type": "markdown",
      "metadata": {
        "id": "XlG7MBEOpQUH"
      },
      "source": [
        "The RMSE result of the model on the best parameters was **1706**, these parameters will be used further."
      ]
    },
    {
      "cell_type": "code",
      "execution_count": null,
      "metadata": {
        "id": "UtSTdsbLpQUH"
      },
      "outputs": [],
      "source": [
        "best_params = {'learning_rate': 0.05, 'l2_leaf_reg': 3, 'iterations': 700, 'depth': 7}\n",
        "catboost_model = CatBoostRegressor(**best_params, cat_features=cat_columns) "
      ]
    },
    {
      "cell_type": "code",
      "execution_count": null,
      "metadata": {
        "id": "mbdp8DuwpQUH",
        "outputId": "8cf524c4-ec4e-4a1c-d86c-ae833ea6882b"
      },
      "outputs": [
        {
          "name": "stdout",
          "output_type": "stream",
          "text": [
            "0:\tlearn: 4416.3982526\ttotal: 1.13s\tremaining: 13m 9s\n",
            "200:\tlearn: 1777.3367360\ttotal: 3m 10s\tremaining: 7m 53s\n",
            "400:\tlearn: 1704.7614542\ttotal: 6m 22s\tremaining: 4m 45s\n",
            "600:\tlearn: 1671.5790784\ttotal: 9m 35s\tremaining: 1m 34s\n",
            "699:\tlearn: 1658.8054960\ttotal: 11m 12s\tremaining: 0us\n",
            "CPU times: user 9min 58s, sys: 1min 15s, total: 11min 14s\n",
            "Wall time: 11min 17s\n"
          ]
        },
        {
          "data": {
            "text/plain": [
              "<catboost.core.CatBoostRegressor at 0x7fe6328aeb10>"
            ]
          },
          "execution_count": 47,
          "metadata": {},
          "output_type": "execute_result"
        }
      ],
      "source": [
        "%%time\n",
        "catboost_model.fit(Xcat_train, ycat_train, verbose=200)"
      ]
    },
    {
      "cell_type": "raw",
      "metadata": {
        "id": "8ZeAUI7fpQUH"
      },
      "source": [
        "%%time\n",
        "rmse(catboost_model.predict(Xcat_test), ycat_test)"
      ]
    },
    {
      "cell_type": "markdown",
      "metadata": {
        "id": "Xj-BKbx5pQUI"
      },
      "source": [
        "**CatBoost**\n",
        "\n",
        "**RMSE: 1802**\n",
        "\n",
        "**TIME: 8 min (fit) + 1 s (predict)**"
      ]
    },
    {
      "cell_type": "markdown",
      "metadata": {
        "id": "qSbDDt2ApQUI"
      },
      "source": [
        "Let's build a graph of significant features for the current model."
      ]
    },
    {
      "cell_type": "code",
      "execution_count": null,
      "metadata": {
        "id": "tIayw5t8pQUI",
        "outputId": "b00b3b31-62fb-4259-85f0-7abd8b43c812"
      },
      "outputs": [
        {
          "data": {
            "text/plain": [
              "<matplotlib.axes._subplots.AxesSubplot at 0x7fe633cd6190>"
            ]
          },
          "execution_count": 108,
          "metadata": {},
          "output_type": "execute_result"
        },
        {
          "data": {
            "image/png": "[encoded data removed]",
            "text/plain": [
              "<Figure size 432x288 with 1 Axes>"
            ]
          },
          "metadata": {
            "needs_background": "light"
          },
          "output_type": "display_data"
        }
      ],
      "source": [
        "pd.Series(catboost_model.feature_importances_, index=Xcat_train.columns).nlargest(3).plot(kind='barh')"
      ]
    },
    {
      "cell_type": "markdown",
      "metadata": {
        "id": "z-owBpUlpQUI"
      },
      "source": [
        "### LightGBM"
      ]
    },
    {
      "cell_type": "markdown",
      "metadata": {
        "id": "p3HG6vRPpQUI"
      },
      "source": [
        "Let's train the LightGBM model on random parameters."
      ]
    },
    {
      "cell_type": "code",
      "execution_count": null,
      "metadata": {
        "id": "bMRv1-6vpQUI"
      },
      "outputs": [],
      "source": [
        "lgbm_model = lgb.LGBMRegressor(learning_rate=0.2, num_leaves=5, max_depth=700, categorical_feature=cat_columns)"
      ]
    },
    {
      "cell_type": "code",
      "execution_count": null,
      "metadata": {
        "id": "8_7prNMfpQUJ",
        "outputId": "f24431f9-4ef9-4d45-e592-57d4c237fbd1"
      },
      "outputs": [
        {
          "name": "stderr",
          "output_type": "stream",
          "text": [
            "/opt/conda/lib/python3.7/site-packages/lightgbm/basic.py:842: UserWarning: categorical_feature keyword has been found in `params` and will be ignored.\n",
            "Please use categorical_feature argument of the Dataset constructor to pass this parameter.\n",
            "  .format(key))\n",
            "/opt/conda/lib/python3.7/site-packages/lightgbm/basic.py:863: UserWarning: categorical_feature in param dict is overridden.\n",
            "  warnings.warn('{} in param dict is overridden.'.format(cat_alias))\n"
          ]
        },
        {
          "name": "stdout",
          "output_type": "stream",
          "text": [
            "CPU times: user 17.5 s, sys: 78.1 ms, total: 17.5 s\n",
            "Wall time: 17.9 s\n"
          ]
        },
        {
          "data": {
            "text/plain": [
              "LGBMRegressor(boosting_type='gbdt',\n",
              "              categorical_feature=['vehicletype', 'gearbox', 'model',\n",
              "                                   'fueltype', 'brand', 'notrepaired'],\n",
              "              class_weight=None, colsample_bytree=1.0, importance_type='split',\n",
              "              learning_rate=0.2, max_depth=700, min_child_samples=20,\n",
              "              min_child_weight=0.001, min_split_gain=0.0, n_estimators=100,\n",
              "              n_jobs=-1, num_leaves=5, objective=None, random_state=None,\n",
              "              reg_alpha=0.0, reg_lambda=0.0, silent=True, subsample=1.0,\n",
              "              subsample_for_bin=200000, subsample_freq=0)"
            ]
          },
          "execution_count": 110,
          "metadata": {},
          "output_type": "execute_result"
        }
      ],
      "source": [
        "%%time\n",
        "lgbm_model.fit(Xcat_train, ycat_train)    "
      ]
    },
    {
      "cell_type": "raw",
      "metadata": {
        "id": "R7W0dBYzpQUJ"
      },
      "source": [
        "%%time\n",
        "rmse(lgbm_model.predict(Xcat_test), ycat_test)"
      ]
    },
    {
      "cell_type": "markdown",
      "metadata": {
        "id": "hCcAjgTzpQUJ"
      },
      "source": [
        "**LightGBM**\n",
        "\n",
        "**RMSE: 1825**\n",
        "\n",
        "**TIME: 3 s (fit) + 340 ms (predict)**"
      ]
    },
    {
      "cell_type": "markdown",
      "metadata": {
        "id": "AV3YqRKFpQUJ"
      },
      "source": [
        "Let's build a graph of significant features for the current model."
      ]
    },
    {
      "cell_type": "code",
      "execution_count": null,
      "metadata": {
        "id": "2wDkXvU-pQUJ",
        "outputId": "c053ed13-c00f-4a00-c991-ccc4d51bed53"
      },
      "outputs": [
        {
          "data": {
            "text/plain": [
              "<matplotlib.axes._subplots.AxesSubplot at 0x7fe633bafbd0>"
            ]
          },
          "execution_count": 118,
          "metadata": {},
          "output_type": "execute_result"
        },
        {
          "data": {
            "image/png": "[encoded data removed]",
            "text/plain": [
              "<Figure size 432x288 with 1 Axes>"
            ]
          },
          "metadata": {
            "needs_background": "light"
          },
          "output_type": "display_data"
        }
      ],
      "source": [
        "pd.Series(lgbm_model.feature_importances_, index=Xcat_train.columns).nlargest(3).plot(kind='barh')"
      ]
    },
    {
      "cell_type": "code",
      "execution_count": null,
      "metadata": {
        "id": "1RCwNIf6pQUK"
      },
      "outputs": [],
      "source": [
        "# Сводим результаты в итоговую таблицу\n",
        "cols = pd.MultiIndex.from_arrays([['Before Tuning', 'Before Tuning', 'After Tuning', 'After Tuning'],\n",
        "                                ['RMSE', 'TIME (fit + pred), s', 'RMSE', 'TIME (fit + pred), s']])\n",
        "data = [\n",
        "        [3151, 101, None, None],\n",
        "        [1723, 721, 1802, 481],\n",
        "        [1690, 721, 1825, 180]]\n",
        "\n",
        "results = pd.DataFrame(data=data, columns=cols, index=[['LinReg', 'CatBoost', 'LGBM']])\n"
      ]
    },
    {
      "cell_type": "markdown",
      "metadata": {
        "id": "tLGOdx9wpQUK"
      },
      "source": [
        "### Вывод"
      ]
    },
    {
      "cell_type": "code",
      "execution_count": null,
      "metadata": {
        "id": "HsWuqVlNpQUK",
        "outputId": "b44ef861-509b-4ff4-b76c-0806c0fce6d5"
      },
      "outputs": [
        {
          "data": {
            "text/html": [
              "<div>\n",
              "<style scoped>\n",
              "    .dataframe tbody tr th:only-of-type {\n",
              "        vertical-align: middle;\n",
              "    }\n",
              "\n",
              "    .dataframe tbody tr th {\n",
              "        vertical-align: top;\n",
              "    }\n",
              "\n",
              "    .dataframe thead tr th {\n",
              "        text-align: left;\n",
              "    }\n",
              "</style>\n",
              "<table border=\"1\" class=\"dataframe\">\n",
              "  <thead>\n",
              "    <tr>\n",
              "      <th></th>\n",
              "      <th colspan=\"2\" halign=\"left\">Before Tuning</th>\n",
              "      <th colspan=\"2\" halign=\"left\">After Tuning</th>\n",
              "    </tr>\n",
              "    <tr>\n",
              "      <th></th>\n",
              "      <th>RMSE</th>\n",
              "      <th>TIME (fit + pred), s</th>\n",
              "      <th>RMSE</th>\n",
              "      <th>TIME (fit + pred), s</th>\n",
              "    </tr>\n",
              "  </thead>\n",
              "  <tbody>\n",
              "    <tr>\n",
              "      <td>LinReg</td>\n",
              "      <td>3151</td>\n",
              "      <td>101</td>\n",
              "      <td>NaN</td>\n",
              "      <td>NaN</td>\n",
              "    </tr>\n",
              "    <tr>\n",
              "      <td>CatBoost</td>\n",
              "      <td>1723</td>\n",
              "      <td>721</td>\n",
              "      <td>1802.0</td>\n",
              "      <td>481.0</td>\n",
              "    </tr>\n",
              "    <tr>\n",
              "      <td>LGBM</td>\n",
              "      <td>1690</td>\n",
              "      <td>721</td>\n",
              "      <td>1825.0</td>\n",
              "      <td>180.0</td>\n",
              "    </tr>\n",
              "  </tbody>\n",
              "</table>\n",
              "</div>"
            ],
            "text/plain": [
              "         Before Tuning                      After Tuning                     \n",
              "                  RMSE TIME (fit + pred), s         RMSE TIME (fit + pred), s\n",
              "LinReg            3151                  101          NaN                  NaN\n",
              "CatBoost          1723                  721       1802.0                481.0\n",
              "LGBM              1690                  721       1825.0                180.0"
            ]
          },
          "execution_count": 114,
          "metadata": {},
          "output_type": "execute_result"
        }
      ],
      "source": [
        "results"
      ]
    },
    {
      "cell_type": "markdown",
      "metadata": {
        "id": "QF76vIBTpQUK"
      },
      "source": [
        "***Metrics***\n",
        "\n",
        "According to the results of testing three models on standard parameters and selected ones, the best result was shown by the LightGBM RMSE: 1690, TIME: 12 min (fit) + 1 s (predict) model.\n",
        "\n",
        "\n",
        "***Importance of features:***\n",
        "\n",
        "Both models identified the vehicle registration year as the most important feature. CatBoost considered power as the next most important attribute, and LGBM - model, which in my opinion is more rational."
      ]
    }
  ],
  "metadata": {
    "ExecuteTimeLog": [
      {
        "duration": 1186,
        "start_time": "2021-10-03T20:56:06.240Z"
      },
      {
        "duration": 4,
        "start_time": "2021-10-03T20:56:11.601Z"
      },
      {
        "duration": 1182,
        "start_time": "2021-10-03T20:56:59.964Z"
      },
      {
        "duration": 1149,
        "start_time": "2021-10-03T20:57:33.388Z"
      },
      {
        "duration": 1132,
        "start_time": "2021-10-03T20:57:36.800Z"
      },
      {
        "duration": 20,
        "start_time": "2021-10-03T20:57:40.354Z"
      },
      {
        "duration": 136,
        "start_time": "2021-10-03T20:58:37.449Z"
      },
      {
        "duration": 340,
        "start_time": "2021-10-03T20:59:48.013Z"
      },
      {
        "duration": 6,
        "start_time": "2021-10-03T20:59:53.100Z"
      },
      {
        "duration": 334,
        "start_time": "2021-10-03T21:00:00.441Z"
      },
      {
        "duration": 4,
        "start_time": "2021-10-03T21:00:05.512Z"
      },
      {
        "duration": 4,
        "start_time": "2021-10-03T21:00:38.903Z"
      },
      {
        "duration": 36,
        "start_time": "2021-10-03T21:00:44.194Z"
      },
      {
        "duration": 591,
        "start_time": "2021-10-04T16:42:37.344Z"
      },
      {
        "duration": 747,
        "start_time": "2021-10-04T16:42:43.685Z"
      },
      {
        "duration": 18,
        "start_time": "2021-10-04T16:42:55.078Z"
      },
      {
        "duration": 941,
        "start_time": "2021-10-04T16:43:23.151Z"
      },
      {
        "duration": 13,
        "start_time": "2021-10-04T16:43:25.876Z"
      },
      {
        "duration": 82,
        "start_time": "2021-10-04T16:43:44.239Z"
      },
      {
        "duration": 1043,
        "start_time": "2021-10-04T16:46:10.834Z"
      },
      {
        "duration": 13,
        "start_time": "2021-10-04T16:46:16.258Z"
      },
      {
        "duration": 13,
        "start_time": "2021-10-04T16:54:34.317Z"
      },
      {
        "duration": 170,
        "start_time": "2021-10-04T16:55:16.946Z"
      },
      {
        "duration": 336,
        "start_time": "2021-10-04T17:06:48.591Z"
      },
      {
        "duration": 23,
        "start_time": "2021-10-04T17:06:59.380Z"
      },
      {
        "duration": 366,
        "start_time": "2021-10-04T17:07:02.548Z"
      },
      {
        "duration": 18,
        "start_time": "2021-10-04T17:07:08.552Z"
      },
      {
        "duration": 72,
        "start_time": "2021-10-04T17:08:14.226Z"
      },
      {
        "duration": 80,
        "start_time": "2021-10-04T17:08:42.605Z"
      },
      {
        "duration": 78,
        "start_time": "2021-10-04T17:09:59.749Z"
      },
      {
        "duration": 144,
        "start_time": "2021-10-04T17:10:14.204Z"
      },
      {
        "duration": 151,
        "start_time": "2021-10-04T17:10:16.976Z"
      },
      {
        "duration": 76,
        "start_time": "2021-10-04T17:10:27.581Z"
      },
      {
        "duration": 341,
        "start_time": "2021-10-04T17:10:40.404Z"
      },
      {
        "duration": 417,
        "start_time": "2021-10-04T17:10:45.089Z"
      },
      {
        "duration": 470,
        "start_time": "2021-10-04T17:10:48.128Z"
      },
      {
        "duration": 360,
        "start_time": "2021-10-04T17:10:50.696Z"
      },
      {
        "duration": 77,
        "start_time": "2021-10-04T17:11:01.114Z"
      },
      {
        "duration": 78,
        "start_time": "2021-10-04T17:11:27.455Z"
      },
      {
        "duration": 76,
        "start_time": "2021-10-04T17:11:34.421Z"
      },
      {
        "duration": 76,
        "start_time": "2021-10-04T17:11:41.643Z"
      },
      {
        "duration": 73,
        "start_time": "2021-10-04T17:11:52.453Z"
      },
      {
        "duration": 76,
        "start_time": "2021-10-04T17:11:55.807Z"
      },
      {
        "duration": 75,
        "start_time": "2021-10-04T17:11:58.471Z"
      },
      {
        "duration": 75,
        "start_time": "2021-10-04T17:12:04.736Z"
      },
      {
        "duration": 78,
        "start_time": "2021-10-04T17:12:07.944Z"
      },
      {
        "duration": 137,
        "start_time": "2021-10-04T17:12:12.850Z"
      },
      {
        "duration": 73,
        "start_time": "2021-10-04T17:12:15.473Z"
      },
      {
        "duration": 76,
        "start_time": "2021-10-04T17:12:17.964Z"
      },
      {
        "duration": 78,
        "start_time": "2021-10-04T17:12:23.155Z"
      },
      {
        "duration": 77,
        "start_time": "2021-10-04T17:13:29.965Z"
      },
      {
        "duration": 314,
        "start_time": "2021-10-04T17:13:46.387Z"
      },
      {
        "duration": 362,
        "start_time": "2021-10-04T17:13:52.201Z"
      },
      {
        "duration": 73,
        "start_time": "2021-10-04T17:13:55.408Z"
      },
      {
        "duration": 74,
        "start_time": "2021-10-04T17:14:04.101Z"
      },
      {
        "duration": 332,
        "start_time": "2021-10-04T17:14:08.902Z"
      },
      {
        "duration": 321,
        "start_time": "2021-10-04T17:14:15.982Z"
      },
      {
        "duration": 81,
        "start_time": "2021-10-04T17:14:26.992Z"
      },
      {
        "duration": 84,
        "start_time": "2021-10-04T17:16:10.622Z"
      },
      {
        "duration": 73,
        "start_time": "2021-10-04T17:17:43.561Z"
      },
      {
        "duration": 281,
        "start_time": "2021-10-04T17:26:16.202Z"
      },
      {
        "duration": 390,
        "start_time": "2021-10-04T17:26:20.993Z"
      },
      {
        "duration": 18,
        "start_time": "2021-10-04T17:26:25.851Z"
      },
      {
        "duration": 32,
        "start_time": "2021-10-04T17:26:36.031Z"
      },
      {
        "duration": 33,
        "start_time": "2021-10-04T17:27:27.772Z"
      },
      {
        "duration": 28,
        "start_time": "2021-10-04T17:27:40.546Z"
      },
      {
        "duration": 29,
        "start_time": "2021-10-04T17:27:48.175Z"
      },
      {
        "duration": 28,
        "start_time": "2021-10-04T17:27:53.873Z"
      },
      {
        "duration": 29,
        "start_time": "2021-10-04T17:27:58.261Z"
      },
      {
        "duration": 29,
        "start_time": "2021-10-04T17:28:00.969Z"
      },
      {
        "duration": 30,
        "start_time": "2021-10-04T17:28:03.703Z"
      },
      {
        "duration": 30,
        "start_time": "2021-10-04T17:28:11.615Z"
      },
      {
        "duration": 30,
        "start_time": "2021-10-04T17:28:22.400Z"
      },
      {
        "duration": 30,
        "start_time": "2021-10-04T17:28:26.571Z"
      },
      {
        "duration": 28,
        "start_time": "2021-10-04T17:29:58.059Z"
      },
      {
        "duration": 205,
        "start_time": "2021-10-04T17:30:26.363Z"
      },
      {
        "duration": 53,
        "start_time": "2021-10-04T17:30:29.477Z"
      },
      {
        "duration": 52,
        "start_time": "2021-10-04T17:30:49.646Z"
      },
      {
        "duration": 428,
        "start_time": "2021-10-04T17:34:44.587Z"
      },
      {
        "duration": 8234,
        "start_time": "2021-10-04T17:35:06.844Z"
      },
      {
        "duration": 255,
        "start_time": "2021-10-04T17:35:23.581Z"
      },
      {
        "duration": 4845,
        "start_time": "2021-10-04T17:35:33.994Z"
      },
      {
        "duration": 3,
        "start_time": "2021-10-04T17:39:29.511Z"
      },
      {
        "duration": 17,
        "start_time": "2021-10-04T17:40:32.477Z"
      },
      {
        "duration": 3441,
        "start_time": "2021-10-04T17:40:38.747Z"
      },
      {
        "duration": 208,
        "start_time": "2021-10-04T17:40:41.982Z"
      },
      {
        "duration": 15,
        "start_time": "2021-10-04T17:40:53.485Z"
      },
      {
        "duration": 1508,
        "start_time": "2021-10-04T17:41:06.933Z"
      },
      {
        "duration": 15,
        "start_time": "2021-10-04T17:41:10.004Z"
      },
      {
        "duration": 23,
        "start_time": "2021-10-04T17:41:16.191Z"
      },
      {
        "duration": 79,
        "start_time": "2021-10-04T17:41:17.544Z"
      },
      {
        "duration": 31,
        "start_time": "2021-10-04T17:41:19.077Z"
      },
      {
        "duration": 56,
        "start_time": "2021-10-04T17:41:22.363Z"
      },
      {
        "duration": 18,
        "start_time": "2021-10-04T17:41:23.982Z"
      },
      {
        "duration": 64,
        "start_time": "2021-10-04T17:41:32.162Z"
      },
      {
        "duration": 75,
        "start_time": "2021-10-04T17:41:35.330Z"
      },
      {
        "duration": 32,
        "start_time": "2021-10-04T17:43:25.235Z"
      },
      {
        "duration": 32,
        "start_time": "2021-10-04T17:43:32.575Z"
      },
      {
        "duration": 19,
        "start_time": "2021-10-04T17:46:06.761Z"
      },
      {
        "duration": 19,
        "start_time": "2021-10-04T17:46:16.424Z"
      },
      {
        "duration": 34,
        "start_time": "2021-10-04T17:46:47.393Z"
      },
      {
        "duration": 21,
        "start_time": "2021-10-04T17:46:55.154Z"
      },
      {
        "duration": 17,
        "start_time": "2021-10-04T17:47:12.090Z"
      },
      {
        "duration": 34,
        "start_time": "2021-10-04T17:47:25.562Z"
      },
      {
        "duration": 21,
        "start_time": "2021-10-04T17:47:53.032Z"
      },
      {
        "duration": 70,
        "start_time": "2021-10-04T17:48:00.092Z"
      },
      {
        "duration": 19,
        "start_time": "2021-10-04T17:48:04.977Z"
      },
      {
        "duration": 24,
        "start_time": "2021-10-04T17:48:13.803Z"
      },
      {
        "duration": 19,
        "start_time": "2021-10-04T17:51:56.012Z"
      },
      {
        "duration": 33,
        "start_time": "2021-10-04T17:52:33.119Z"
      },
      {
        "duration": 51,
        "start_time": "2021-10-04T17:53:05.068Z"
      },
      {
        "duration": 3,
        "start_time": "2021-10-04T18:01:10.710Z"
      },
      {
        "duration": 288,
        "start_time": "2021-10-04T18:02:12.276Z"
      },
      {
        "duration": 5,
        "start_time": "2021-10-04T18:03:26.186Z"
      },
      {
        "duration": 6857,
        "start_time": "2021-10-04T18:06:17.311Z"
      },
      {
        "duration": 205,
        "start_time": "2021-10-04T18:06:56.275Z"
      },
      {
        "duration": 295,
        "start_time": "2021-10-04T18:06:58.757Z"
      },
      {
        "duration": 261,
        "start_time": "2021-10-04T18:07:03.263Z"
      },
      {
        "duration": 95,
        "start_time": "2021-10-04T18:07:10.760Z"
      },
      {
        "duration": 270,
        "start_time": "2021-10-04T18:07:14.250Z"
      },
      {
        "duration": 26,
        "start_time": "2021-10-04T18:11:15.135Z"
      },
      {
        "duration": 249,
        "start_time": "2021-10-04T18:11:16.912Z"
      },
      {
        "duration": 269,
        "start_time": "2021-10-04T18:11:27.809Z"
      },
      {
        "duration": 390,
        "start_time": "2021-10-04T18:12:40.075Z"
      },
      {
        "duration": 400,
        "start_time": "2021-10-04T18:13:43.929Z"
      },
      {
        "duration": 53,
        "start_time": "2021-10-04T18:15:14.792Z"
      },
      {
        "duration": 59,
        "start_time": "2021-10-04T18:15:17.926Z"
      },
      {
        "duration": 85,
        "start_time": "2021-10-04T18:15:20.042Z"
      },
      {
        "duration": 117,
        "start_time": "2021-10-04T18:15:44.281Z"
      },
      {
        "duration": 112,
        "start_time": "2021-10-04T18:15:53.789Z"
      },
      {
        "duration": 67,
        "start_time": "2021-10-04T18:16:00.367Z"
      },
      {
        "duration": 4,
        "start_time": "2021-10-04T18:18:04.738Z"
      },
      {
        "duration": 570,
        "start_time": "2021-10-04T18:45:49.991Z"
      },
      {
        "duration": 3,
        "start_time": "2021-10-04T18:45:53.798Z"
      },
      {
        "duration": 48618,
        "start_time": "2021-10-04T18:46:05.241Z"
      },
      {
        "duration": 4,
        "start_time": "2021-10-04T18:47:20.764Z"
      },
      {
        "duration": 89,
        "start_time": "2021-10-04T18:53:42.522Z"
      },
      {
        "duration": 61,
        "start_time": "2021-10-04T18:53:45.674Z"
      },
      {
        "duration": 16,
        "start_time": "2021-10-04T18:53:48.269Z"
      },
      {
        "duration": 28,
        "start_time": "2021-10-04T18:54:36.447Z"
      },
      {
        "duration": 19,
        "start_time": "2021-10-04T18:55:04.346Z"
      },
      {
        "duration": 19,
        "start_time": "2021-10-04T18:55:06.691Z"
      },
      {
        "duration": 22,
        "start_time": "2021-10-04T18:59:23.517Z"
      },
      {
        "duration": 60,
        "start_time": "2021-10-04T19:00:17.041Z"
      },
      {
        "duration": 3773,
        "start_time": "2021-10-04T19:00:32.988Z"
      },
      {
        "duration": 230,
        "start_time": "2021-10-04T19:00:40.240Z"
      },
      {
        "duration": 249,
        "start_time": "2021-10-04T19:00:48.974Z"
      },
      {
        "duration": 213,
        "start_time": "2021-10-04T19:00:53.795Z"
      },
      {
        "duration": 19,
        "start_time": "2021-10-04T19:01:08.331Z"
      },
      {
        "duration": 22,
        "start_time": "2021-10-04T19:01:23.796Z"
      },
      {
        "duration": 590,
        "start_time": "2021-10-04T19:01:29.928Z"
      },
      {
        "duration": 266,
        "start_time": "2021-10-04T19:01:38.380Z"
      },
      {
        "duration": 22,
        "start_time": "2021-10-04T19:01:42.902Z"
      },
      {
        "duration": 4430,
        "start_time": "2021-10-04T19:02:07.679Z"
      },
      {
        "duration": 4448,
        "start_time": "2021-10-04T19:02:20.696Z"
      },
      {
        "duration": 24,
        "start_time": "2021-10-04T19:02:30.458Z"
      },
      {
        "duration": 23,
        "start_time": "2021-10-04T19:02:58.741Z"
      },
      {
        "duration": 4348,
        "start_time": "2021-10-04T19:03:03.804Z"
      },
      {
        "duration": 21,
        "start_time": "2021-10-04T19:03:09.258Z"
      },
      {
        "duration": 293,
        "start_time": "2021-10-04T19:03:16.258Z"
      },
      {
        "duration": 293,
        "start_time": "2021-10-04T19:03:28.577Z"
      },
      {
        "duration": 17,
        "start_time": "2021-10-04T19:03:36.096Z"
      },
      {
        "duration": 90,
        "start_time": "2021-10-04T19:03:45.876Z"
      },
      {
        "duration": 299,
        "start_time": "2021-10-04T19:04:03.605Z"
      },
      {
        "duration": 23,
        "start_time": "2021-10-04T19:04:13.064Z"
      },
      {
        "duration": 22,
        "start_time": "2021-10-04T19:04:15.732Z"
      },
      {
        "duration": 87,
        "start_time": "2021-10-04T19:04:36.518Z"
      },
      {
        "duration": 293,
        "start_time": "2021-10-04T19:04:42.475Z"
      },
      {
        "duration": 358,
        "start_time": "2021-10-04T19:04:44.919Z"
      },
      {
        "duration": 21,
        "start_time": "2021-10-04T19:04:48.366Z"
      },
      {
        "duration": 3787,
        "start_time": "2021-10-04T19:05:18.651Z"
      },
      {
        "duration": 82,
        "start_time": "2021-10-04T19:05:25.372Z"
      },
      {
        "duration": 880,
        "start_time": "2021-10-04T19:05:35.939Z"
      },
      {
        "duration": 394,
        "start_time": "2021-10-04T19:05:38.904Z"
      },
      {
        "duration": 87,
        "start_time": "2021-10-04T19:05:42.488Z"
      },
      {
        "duration": 5,
        "start_time": "2021-10-04T19:05:48.758Z"
      },
      {
        "duration": 83,
        "start_time": "2021-10-04T19:05:59.959Z"
      },
      {
        "duration": 83,
        "start_time": "2021-10-04T19:07:56.166Z"
      },
      {
        "duration": 3334,
        "start_time": "2021-10-04T19:08:07.347Z"
      },
      {
        "duration": 90,
        "start_time": "2021-10-04T19:08:12.189Z"
      },
      {
        "duration": 18,
        "start_time": "2021-10-04T19:08:26.732Z"
      },
      {
        "duration": 26,
        "start_time": "2021-10-04T19:08:36.388Z"
      },
      {
        "duration": 19,
        "start_time": "2021-10-04T19:08:42.888Z"
      },
      {
        "duration": 19,
        "start_time": "2021-10-04T19:08:51.677Z"
      },
      {
        "duration": 19,
        "start_time": "2021-10-04T19:09:02.287Z"
      },
      {
        "duration": 20,
        "start_time": "2021-10-04T19:09:09.964Z"
      },
      {
        "duration": 19,
        "start_time": "2021-10-04T19:09:18.519Z"
      },
      {
        "duration": 263,
        "start_time": "2021-10-04T19:09:23.025Z"
      },
      {
        "duration": 3254,
        "start_time": "2021-10-04T19:09:49.097Z"
      },
      {
        "duration": 18,
        "start_time": "2021-10-04T19:09:52.353Z"
      },
      {
        "duration": 17,
        "start_time": "2021-10-04T19:09:58.023Z"
      },
      {
        "duration": 4,
        "start_time": "2021-10-04T19:10:08.924Z"
      },
      {
        "duration": 19,
        "start_time": "2021-10-04T19:10:49.880Z"
      },
      {
        "duration": 20,
        "start_time": "2021-10-04T19:10:57.519Z"
      },
      {
        "duration": 18,
        "start_time": "2021-10-04T19:11:42.287Z"
      },
      {
        "duration": 19,
        "start_time": "2021-10-04T19:11:48.540Z"
      },
      {
        "duration": 19,
        "start_time": "2021-10-04T19:11:55.222Z"
      },
      {
        "duration": 20,
        "start_time": "2021-10-04T19:12:58.845Z"
      },
      {
        "duration": 1757,
        "start_time": "2021-10-04T19:13:54.096Z"
      },
      {
        "duration": 25,
        "start_time": "2021-10-04T19:13:59.323Z"
      },
      {
        "duration": 19,
        "start_time": "2021-10-04T19:14:01.378Z"
      },
      {
        "duration": 779,
        "start_time": "2021-10-04T19:14:18.556Z"
      },
      {
        "duration": 19,
        "start_time": "2021-10-04T19:14:19.949Z"
      },
      {
        "duration": 19,
        "start_time": "2021-10-04T19:14:24.804Z"
      },
      {
        "duration": 66,
        "start_time": "2021-10-04T19:14:27.793Z"
      },
      {
        "duration": 96,
        "start_time": "2021-10-04T19:14:33.248Z"
      },
      {
        "duration": 18,
        "start_time": "2021-10-04T19:14:44.560Z"
      },
      {
        "duration": 15,
        "start_time": "2021-10-04T19:16:41.030Z"
      },
      {
        "duration": 275,
        "start_time": "2021-10-04T19:17:02.661Z"
      },
      {
        "duration": 252,
        "start_time": "2021-10-04T19:17:05.893Z"
      },
      {
        "duration": 251,
        "start_time": "2021-10-04T19:17:08.756Z"
      },
      {
        "duration": 278,
        "start_time": "2021-10-04T19:17:14.311Z"
      },
      {
        "duration": 174,
        "start_time": "2021-10-04T19:17:16.990Z"
      },
      {
        "duration": 21,
        "start_time": "2021-10-04T19:17:19.242Z"
      },
      {
        "duration": 263,
        "start_time": "2021-10-04T19:17:23.581Z"
      },
      {
        "duration": 19,
        "start_time": "2021-10-04T19:17:27.220Z"
      },
      {
        "duration": 266,
        "start_time": "2021-10-04T19:17:33.094Z"
      },
      {
        "duration": 320,
        "start_time": "2021-10-04T19:17:35.977Z"
      },
      {
        "duration": 20,
        "start_time": "2021-10-04T19:17:38.643Z"
      },
      {
        "duration": 18,
        "start_time": "2021-10-04T19:17:52.778Z"
      },
      {
        "duration": 24,
        "start_time": "2021-10-04T19:18:01.557Z"
      },
      {
        "duration": 341,
        "start_time": "2021-10-04T19:18:55.473Z"
      },
      {
        "duration": 15,
        "start_time": "2021-10-04T19:19:00.286Z"
      },
      {
        "duration": 13,
        "start_time": "2021-10-04T19:19:03.788Z"
      },
      {
        "duration": 285,
        "start_time": "2021-10-04T19:19:14.857Z"
      },
      {
        "duration": 35,
        "start_time": "2021-10-04T19:19:19.272Z"
      },
      {
        "duration": 14,
        "start_time": "2021-10-04T19:20:00.082Z"
      },
      {
        "duration": 98,
        "start_time": "2021-10-04T19:20:13.139Z"
      },
      {
        "duration": 113,
        "start_time": "2021-10-04T19:20:18.653Z"
      },
      {
        "duration": 102,
        "start_time": "2021-10-04T19:20:20.817Z"
      },
      {
        "duration": 28,
        "start_time": "2021-10-04T19:20:23.350Z"
      },
      {
        "duration": 17,
        "start_time": "2021-10-04T19:22:43.306Z"
      },
      {
        "duration": 6475,
        "start_time": "2021-10-04T19:24:04.179Z"
      },
      {
        "duration": 6281,
        "start_time": "2021-10-04T19:24:14.578Z"
      },
      {
        "duration": 611,
        "start_time": "2021-10-04T19:24:42.129Z"
      },
      {
        "duration": 17,
        "start_time": "2021-10-04T19:24:45.320Z"
      },
      {
        "duration": 1223,
        "start_time": "2021-10-04T19:24:50.087Z"
      },
      {
        "duration": 536,
        "start_time": "2021-10-04T19:25:11.799Z"
      },
      {
        "duration": 531,
        "start_time": "2021-10-04T19:25:11.808Z"
      },
      {
        "duration": 18,
        "start_time": "2021-10-04T19:25:15.309Z"
      },
      {
        "duration": 1160,
        "start_time": "2021-10-04T19:26:02.629Z"
      },
      {
        "duration": 4,
        "start_time": "2021-10-04T19:26:05.219Z"
      },
      {
        "duration": 370,
        "start_time": "2021-10-04T19:28:14.073Z"
      },
      {
        "duration": 301,
        "start_time": "2021-10-04T19:28:24.786Z"
      },
      {
        "duration": 1069,
        "start_time": "2021-10-04T19:28:56.323Z"
      },
      {
        "duration": 128,
        "start_time": "2021-10-04T19:29:09.960Z"
      },
      {
        "duration": 371,
        "start_time": "2021-10-04T19:29:13.171Z"
      },
      {
        "duration": 254,
        "start_time": "2021-10-04T19:29:16.401Z"
      },
      {
        "duration": 6,
        "start_time": "2021-10-04T19:29:24.297Z"
      },
      {
        "duration": 1061,
        "start_time": "2021-10-04T19:29:27.983Z"
      },
      {
        "duration": 61,
        "start_time": "2021-10-04T19:29:29.546Z"
      },
      {
        "duration": 7,
        "start_time": "2021-10-04T19:29:30.593Z"
      },
      {
        "duration": 72,
        "start_time": "2021-10-04T19:29:37.434Z"
      },
      {
        "duration": 1066,
        "start_time": "2021-10-04T19:29:40.329Z"
      },
      {
        "duration": 66,
        "start_time": "2021-10-04T19:29:41.542Z"
      },
      {
        "duration": 6,
        "start_time": "2021-10-04T19:29:44.105Z"
      },
      {
        "duration": 25,
        "start_time": "2021-10-04T19:29:54.879Z"
      },
      {
        "duration": 30,
        "start_time": "2021-10-04T19:29:55.978Z"
      },
      {
        "duration": 19,
        "start_time": "2021-10-04T19:29:58.104Z"
      },
      {
        "duration": 146,
        "start_time": "2021-10-04T19:32:57.752Z"
      },
      {
        "duration": 18,
        "start_time": "2021-10-04T19:33:03.443Z"
      },
      {
        "duration": 3,
        "start_time": "2021-10-04T19:34:56.750Z"
      },
      {
        "duration": 229,
        "start_time": "2021-10-04T19:34:59.225Z"
      },
      {
        "duration": 5939,
        "start_time": "2021-10-04T19:36:32.082Z"
      },
      {
        "duration": 6032,
        "start_time": "2021-10-04T19:36:58.623Z"
      },
      {
        "duration": 6236,
        "start_time": "2021-10-04T19:37:25.757Z"
      },
      {
        "duration": 5543,
        "start_time": "2021-10-04T19:37:42.760Z"
      },
      {
        "duration": 19,
        "start_time": "2021-10-04T19:38:11.012Z"
      },
      {
        "duration": 176,
        "start_time": "2021-10-04T19:38:47.232Z"
      },
      {
        "duration": 20,
        "start_time": "2021-10-04T19:38:49.401Z"
      },
      {
        "duration": 29,
        "start_time": "2021-10-04T19:38:59.522Z"
      },
      {
        "duration": 6,
        "start_time": "2021-10-04T19:39:07.824Z"
      },
      {
        "duration": 8,
        "start_time": "2021-10-04T19:39:10.637Z"
      },
      {
        "duration": 6,
        "start_time": "2021-10-04T19:39:32.363Z"
      },
      {
        "duration": 8,
        "start_time": "2021-10-04T19:39:34.555Z"
      },
      {
        "duration": 9,
        "start_time": "2021-10-04T19:58:19.651Z"
      },
      {
        "duration": 90,
        "start_time": "2021-10-04T20:20:18.901Z"
      },
      {
        "duration": 12,
        "start_time": "2021-10-04T20:20:23.382Z"
      },
      {
        "duration": 32,
        "start_time": "2021-10-04T20:46:07.692Z"
      },
      {
        "duration": 30,
        "start_time": "2021-10-04T20:46:13.692Z"
      },
      {
        "duration": 19,
        "start_time": "2021-10-04T20:47:52.137Z"
      },
      {
        "duration": 677,
        "start_time": "2021-10-04T20:51:55.256Z"
      },
      {
        "duration": 5,
        "start_time": "2021-10-04T20:51:58.725Z"
      },
      {
        "duration": 868,
        "start_time": "2021-10-04T20:52:15.325Z"
      },
      {
        "duration": 6,
        "start_time": "2021-10-04T20:52:20.464Z"
      },
      {
        "duration": 227,
        "start_time": "2021-10-04T20:52:27.827Z"
      },
      {
        "duration": 5,
        "start_time": "2021-10-04T20:52:36.157Z"
      },
      {
        "duration": 24,
        "start_time": "2021-10-04T20:52:59.379Z"
      },
      {
        "duration": 4,
        "start_time": "2021-10-04T20:53:10.813Z"
      },
      {
        "duration": 211,
        "start_time": "2021-10-04T21:00:19.648Z"
      },
      {
        "duration": 172,
        "start_time": "2021-10-04T21:00:30.161Z"
      },
      {
        "duration": 678,
        "start_time": "2021-10-04T21:00:53.990Z"
      },
      {
        "duration": 37,
        "start_time": "2021-10-04T21:00:57.014Z"
      },
      {
        "duration": 33,
        "start_time": "2021-10-04T21:01:19.160Z"
      },
      {
        "duration": 2326,
        "start_time": "2021-10-04T21:01:51.635Z"
      },
      {
        "duration": 8,
        "start_time": "2021-10-04T21:01:57.152Z"
      },
      {
        "duration": 5,
        "start_time": "2021-10-04T21:02:10.092Z"
      },
      {
        "duration": 2196,
        "start_time": "2021-10-04T21:03:15.798Z"
      },
      {
        "duration": 5,
        "start_time": "2021-10-04T21:03:19.158Z"
      },
      {
        "duration": 1895,
        "start_time": "2021-10-04T21:03:38.556Z"
      },
      {
        "duration": 5,
        "start_time": "2021-10-04T21:03:41.191Z"
      },
      {
        "duration": 8,
        "start_time": "2021-10-04T21:03:49.630Z"
      },
      {
        "duration": 6,
        "start_time": "2021-10-04T21:03:51.385Z"
      },
      {
        "duration": 7,
        "start_time": "2021-10-04T21:04:02.839Z"
      },
      {
        "duration": 5,
        "start_time": "2021-10-04T21:04:05.073Z"
      },
      {
        "duration": 55,
        "start_time": "2021-10-04T21:05:13.474Z"
      },
      {
        "duration": 4,
        "start_time": "2021-10-04T21:05:22.271Z"
      },
      {
        "duration": 237,
        "start_time": "2021-10-04T21:05:41.376Z"
      },
      {
        "duration": 5,
        "start_time": "2021-10-04T21:07:04.953Z"
      },
      {
        "duration": 4,
        "start_time": "2021-10-04T21:07:07.336Z"
      },
      {
        "duration": 218,
        "start_time": "2021-10-04T21:16:28.399Z"
      },
      {
        "duration": 220,
        "start_time": "2021-10-04T21:16:36.856Z"
      },
      {
        "duration": 4,
        "start_time": "2021-10-04T21:17:05.135Z"
      },
      {
        "duration": 74,
        "start_time": "2021-10-04T21:17:15.510Z"
      },
      {
        "duration": 67,
        "start_time": "2021-10-04T21:17:18.333Z"
      },
      {
        "duration": 33,
        "start_time": "2021-10-04T21:17:21.367Z"
      },
      {
        "duration": 351,
        "start_time": "2021-10-04T21:17:23.773Z"
      },
      {
        "duration": 33,
        "start_time": "2021-10-04T21:17:26.218Z"
      },
      {
        "duration": 33,
        "start_time": "2021-10-04T21:23:38.827Z"
      },
      {
        "duration": 5,
        "start_time": "2021-10-04T21:23:41.987Z"
      },
      {
        "duration": 36,
        "start_time": "2021-10-04T21:26:08.128Z"
      },
      {
        "duration": 16,
        "start_time": "2021-10-04T21:26:24.267Z"
      },
      {
        "duration": 10,
        "start_time": "2021-10-04T21:26:30.479Z"
      },
      {
        "duration": 259,
        "start_time": "2021-10-04T21:27:52.617Z"
      },
      {
        "duration": 25,
        "start_time": "2021-10-04T21:28:10.862Z"
      },
      {
        "duration": 72,
        "start_time": "2021-10-04T21:28:19.025Z"
      },
      {
        "duration": 72,
        "start_time": "2021-10-04T21:28:20.788Z"
      },
      {
        "duration": 558,
        "start_time": "2021-10-04T21:28:58.142Z"
      },
      {
        "duration": 998,
        "start_time": "2021-10-04T21:28:58.702Z"
      },
      {
        "duration": 18,
        "start_time": "2021-10-04T21:28:59.702Z"
      },
      {
        "duration": 177,
        "start_time": "2021-10-04T21:28:59.722Z"
      },
      {
        "duration": 34,
        "start_time": "2021-10-04T21:28:59.900Z"
      },
      {
        "duration": 84,
        "start_time": "2021-10-04T21:28:59.945Z"
      },
      {
        "duration": 41,
        "start_time": "2021-10-04T21:29:00.031Z"
      },
      {
        "duration": 81,
        "start_time": "2021-10-04T21:29:00.075Z"
      },
      {
        "duration": 19,
        "start_time": "2021-10-04T21:29:00.158Z"
      },
      {
        "duration": 36,
        "start_time": "2021-10-04T21:29:00.179Z"
      },
      {
        "duration": 38,
        "start_time": "2021-10-04T21:29:00.217Z"
      },
      {
        "duration": 24,
        "start_time": "2021-10-04T21:29:00.257Z"
      },
      {
        "duration": 19,
        "start_time": "2021-10-04T21:29:00.283Z"
      },
      {
        "duration": 45,
        "start_time": "2021-10-04T21:29:00.304Z"
      },
      {
        "duration": 73,
        "start_time": "2021-10-04T21:29:00.351Z"
      },
      {
        "duration": 18,
        "start_time": "2021-10-04T21:29:00.426Z"
      },
      {
        "duration": 300,
        "start_time": "2021-10-04T21:29:00.446Z"
      },
      {
        "duration": 772,
        "start_time": "2021-10-04T21:28:59.976Z"
      },
      {
        "duration": 763,
        "start_time": "2021-10-04T21:28:59.986Z"
      },
      {
        "duration": 762,
        "start_time": "2021-10-04T21:28:59.988Z"
      },
      {
        "duration": 760,
        "start_time": "2021-10-04T21:28:59.991Z"
      },
      {
        "duration": 538,
        "start_time": "2021-10-04T21:29:28.078Z"
      },
      {
        "duration": 913,
        "start_time": "2021-10-04T21:29:28.619Z"
      },
      {
        "duration": 18,
        "start_time": "2021-10-04T21:29:29.534Z"
      },
      {
        "duration": 177,
        "start_time": "2021-10-04T21:29:29.553Z"
      },
      {
        "duration": 33,
        "start_time": "2021-10-04T21:29:29.732Z"
      },
      {
        "duration": 91,
        "start_time": "2021-10-04T21:29:29.767Z"
      },
      {
        "duration": 31,
        "start_time": "2021-10-04T21:29:29.860Z"
      },
      {
        "duration": 72,
        "start_time": "2021-10-04T21:29:29.893Z"
      },
      {
        "duration": 17,
        "start_time": "2021-10-04T21:29:29.967Z"
      },
      {
        "duration": 31,
        "start_time": "2021-10-04T21:29:29.986Z"
      },
      {
        "duration": 43,
        "start_time": "2021-10-04T21:29:30.019Z"
      },
      {
        "duration": 20,
        "start_time": "2021-10-04T21:29:30.064Z"
      },
      {
        "duration": 21,
        "start_time": "2021-10-04T21:29:30.086Z"
      },
      {
        "duration": 42,
        "start_time": "2021-10-04T21:29:30.109Z"
      },
      {
        "duration": 74,
        "start_time": "2021-10-04T21:29:30.152Z"
      },
      {
        "duration": 39,
        "start_time": "2021-10-04T21:29:30.227Z"
      },
      {
        "duration": 30,
        "start_time": "2021-10-04T21:29:30.268Z"
      },
      {
        "duration": 40,
        "start_time": "2021-10-04T21:29:30.299Z"
      },
      {
        "duration": 42,
        "start_time": "2021-10-04T21:29:30.340Z"
      },
      {
        "duration": 78,
        "start_time": "2021-10-04T21:37:28.464Z"
      },
      {
        "duration": 17,
        "start_time": "2021-10-04T21:37:53.218Z"
      },
      {
        "duration": 73,
        "start_time": "2021-10-04T21:39:34.594Z"
      },
      {
        "duration": 19,
        "start_time": "2021-10-04T21:39:45.929Z"
      },
      {
        "duration": 74,
        "start_time": "2021-10-04T21:39:49.474Z"
      },
      {
        "duration": 136,
        "start_time": "2021-10-04T21:41:00.824Z"
      },
      {
        "duration": 54,
        "start_time": "2021-10-04T21:42:04.492Z"
      },
      {
        "duration": 74,
        "start_time": "2021-10-04T21:44:26.799Z"
      },
      {
        "duration": 183,
        "start_time": "2021-10-04T21:44:46.590Z"
      },
      {
        "duration": 1151,
        "start_time": "2021-10-04T21:45:29.899Z"
      },
      {
        "duration": 728,
        "start_time": "2021-10-04T21:45:45.760Z"
      },
      {
        "duration": 11,
        "start_time": "2021-10-04T21:46:01.434Z"
      },
      {
        "duration": 77,
        "start_time": "2021-10-04T21:46:03.786Z"
      },
      {
        "duration": 733,
        "start_time": "2021-10-04T21:46:11.697Z"
      },
      {
        "duration": 24,
        "start_time": "2021-10-04T21:46:24.597Z"
      },
      {
        "duration": 77,
        "start_time": "2021-10-04T21:46:58.823Z"
      },
      {
        "duration": 215,
        "start_time": "2021-10-04T21:47:03.652Z"
      },
      {
        "duration": 204,
        "start_time": "2021-10-04T21:47:09.022Z"
      },
      {
        "duration": 219,
        "start_time": "2021-10-04T21:47:14.461Z"
      },
      {
        "duration": 1096,
        "start_time": "2021-10-04T21:47:20.067Z"
      },
      {
        "duration": 29,
        "start_time": "2021-10-04T21:47:30.395Z"
      },
      {
        "duration": 19,
        "start_time": "2021-10-04T21:47:39.460Z"
      },
      {
        "duration": 133,
        "start_time": "2021-10-04T21:47:45.935Z"
      },
      {
        "duration": 16,
        "start_time": "2021-10-04T21:48:12.660Z"
      },
      {
        "duration": 14,
        "start_time": "2021-10-04T21:48:17.871Z"
      },
      {
        "duration": 13,
        "start_time": "2021-10-04T21:48:24.173Z"
      },
      {
        "duration": 44,
        "start_time": "2021-10-04T21:49:07.406Z"
      },
      {
        "duration": 212,
        "start_time": "2021-10-04T21:49:13.927Z"
      },
      {
        "duration": 6,
        "start_time": "2021-10-04T21:49:19.918Z"
      },
      {
        "duration": 6,
        "start_time": "2021-10-04T21:49:26.165Z"
      },
      {
        "duration": 9,
        "start_time": "2021-10-04T21:49:32.177Z"
      },
      {
        "duration": 211,
        "start_time": "2021-10-04T21:49:45.585Z"
      },
      {
        "duration": 6,
        "start_time": "2021-10-04T21:49:53.722Z"
      },
      {
        "duration": 12,
        "start_time": "2021-10-04T21:50:03.985Z"
      },
      {
        "duration": 4,
        "start_time": "2021-10-04T21:50:39.537Z"
      },
      {
        "duration": 4,
        "start_time": "2021-10-04T21:50:51.038Z"
      },
      {
        "duration": 250,
        "start_time": "2021-10-04T21:50:54.766Z"
      },
      {
        "duration": 4,
        "start_time": "2021-10-04T21:50:57.034Z"
      },
      {
        "duration": 38,
        "start_time": "2021-10-04T21:51:10.270Z"
      },
      {
        "duration": 868,
        "start_time": "2021-10-04T21:51:27.412Z"
      },
      {
        "duration": 6,
        "start_time": "2021-10-04T21:51:37.342Z"
      },
      {
        "duration": 570,
        "start_time": "2021-10-05T17:00:08.045Z"
      },
      {
        "duration": 885,
        "start_time": "2021-10-05T17:00:08.617Z"
      },
      {
        "duration": 6,
        "start_time": "2021-10-05T17:00:09.504Z"
      },
      {
        "duration": 16,
        "start_time": "2021-10-05T17:00:09.512Z"
      },
      {
        "duration": 185,
        "start_time": "2021-10-05T17:00:09.530Z"
      },
      {
        "duration": 29,
        "start_time": "2021-10-05T17:00:09.717Z"
      },
      {
        "duration": 85,
        "start_time": "2021-10-05T17:00:09.748Z"
      },
      {
        "duration": 31,
        "start_time": "2021-10-05T17:00:09.835Z"
      },
      {
        "duration": 73,
        "start_time": "2021-10-05T17:00:09.868Z"
      },
      {
        "duration": 17,
        "start_time": "2021-10-05T17:00:09.943Z"
      },
      {
        "duration": 44,
        "start_time": "2021-10-05T17:00:09.962Z"
      },
      {
        "duration": 33,
        "start_time": "2021-10-05T17:00:10.008Z"
      },
      {
        "duration": 21,
        "start_time": "2021-10-05T17:00:10.043Z"
      },
      {
        "duration": 17,
        "start_time": "2021-10-05T17:00:10.066Z"
      },
      {
        "duration": 40,
        "start_time": "2021-10-05T17:00:10.084Z"
      },
      {
        "duration": 82,
        "start_time": "2021-10-05T17:00:10.126Z"
      },
      {
        "duration": 17,
        "start_time": "2021-10-05T17:00:10.210Z"
      },
      {
        "duration": 30,
        "start_time": "2021-10-05T17:00:10.229Z"
      },
      {
        "duration": 38,
        "start_time": "2021-10-05T17:00:10.261Z"
      },
      {
        "duration": 32,
        "start_time": "2021-10-05T17:00:10.301Z"
      },
      {
        "duration": 48,
        "start_time": "2021-10-05T17:00:10.335Z"
      },
      {
        "duration": 89,
        "start_time": "2021-10-05T17:00:10.385Z"
      },
      {
        "duration": 72,
        "start_time": "2021-10-05T17:00:10.476Z"
      },
      {
        "duration": 80,
        "start_time": "2021-10-05T17:00:10.550Z"
      },
      {
        "duration": 21,
        "start_time": "2021-10-05T17:00:10.632Z"
      },
      {
        "duration": 302,
        "start_time": "2021-10-05T17:03:56.798Z"
      },
      {
        "duration": 51,
        "start_time": "2021-10-05T17:16:55.201Z"
      },
      {
        "duration": 52,
        "start_time": "2021-10-05T17:16:58.506Z"
      },
      {
        "duration": 136,
        "start_time": "2021-10-05T17:20:22.022Z"
      },
      {
        "duration": 617,
        "start_time": "2021-10-05T17:21:00.074Z"
      },
      {
        "duration": 892,
        "start_time": "2021-10-05T17:21:00.693Z"
      },
      {
        "duration": 7,
        "start_time": "2021-10-05T17:21:01.587Z"
      },
      {
        "duration": 14,
        "start_time": "2021-10-05T17:21:01.600Z"
      },
      {
        "duration": 197,
        "start_time": "2021-10-05T17:21:01.616Z"
      },
      {
        "duration": 88,
        "start_time": "2021-10-05T17:21:01.815Z"
      },
      {
        "duration": 31,
        "start_time": "2021-10-05T17:21:01.905Z"
      },
      {
        "duration": 77,
        "start_time": "2021-10-05T17:21:01.938Z"
      },
      {
        "duration": 19,
        "start_time": "2021-10-05T17:21:02.018Z"
      },
      {
        "duration": 33,
        "start_time": "2021-10-05T17:21:02.039Z"
      },
      {
        "duration": 36,
        "start_time": "2021-10-05T17:21:02.074Z"
      },
      {
        "duration": 21,
        "start_time": "2021-10-05T17:21:02.113Z"
      },
      {
        "duration": 21,
        "start_time": "2021-10-05T17:21:02.135Z"
      },
      {
        "duration": 47,
        "start_time": "2021-10-05T17:21:02.157Z"
      },
      {
        "duration": 76,
        "start_time": "2021-10-05T17:21:02.206Z"
      },
      {
        "duration": 31,
        "start_time": "2021-10-05T17:21:02.284Z"
      },
      {
        "duration": 31,
        "start_time": "2021-10-05T17:21:02.316Z"
      },
      {
        "duration": 19,
        "start_time": "2021-10-05T17:21:02.349Z"
      },
      {
        "duration": 48,
        "start_time": "2021-10-05T17:21:02.370Z"
      },
      {
        "duration": 84,
        "start_time": "2021-10-05T17:21:02.420Z"
      },
      {
        "duration": 74,
        "start_time": "2021-10-05T17:21:02.506Z"
      },
      {
        "duration": 224,
        "start_time": "2021-10-05T17:21:02.582Z"
      },
      {
        "duration": 3725,
        "start_time": "2021-10-05T17:23:28.801Z"
      },
      {
        "duration": 592,
        "start_time": "2021-10-05T17:23:39.434Z"
      },
      {
        "duration": 916,
        "start_time": "2021-10-05T17:23:40.028Z"
      },
      {
        "duration": 7,
        "start_time": "2021-10-05T17:23:40.946Z"
      },
      {
        "duration": 29,
        "start_time": "2021-10-05T17:23:40.954Z"
      },
      {
        "duration": 179,
        "start_time": "2021-10-05T17:23:40.984Z"
      },
      {
        "duration": 79,
        "start_time": "2021-10-05T17:23:41.165Z"
      },
      {
        "duration": 30,
        "start_time": "2021-10-05T17:23:41.245Z"
      },
      {
        "duration": 75,
        "start_time": "2021-10-05T17:23:41.277Z"
      },
      {
        "duration": 18,
        "start_time": "2021-10-05T17:23:41.354Z"
      },
      {
        "duration": 49,
        "start_time": "2021-10-05T17:23:41.373Z"
      },
      {
        "duration": 40,
        "start_time": "2021-10-05T17:23:41.424Z"
      },
      {
        "duration": 37,
        "start_time": "2021-10-05T17:23:41.465Z"
      },
      {
        "duration": 27,
        "start_time": "2021-10-05T17:23:41.503Z"
      },
      {
        "duration": 38,
        "start_time": "2021-10-05T17:23:41.531Z"
      },
      {
        "duration": 108,
        "start_time": "2021-10-05T17:23:41.570Z"
      },
      {
        "duration": 24,
        "start_time": "2021-10-05T17:23:41.680Z"
      },
      {
        "duration": 34,
        "start_time": "2021-10-05T17:23:41.706Z"
      },
      {
        "duration": 34,
        "start_time": "2021-10-05T17:23:41.742Z"
      },
      {
        "duration": 75,
        "start_time": "2021-10-05T17:23:41.778Z"
      },
      {
        "duration": 30,
        "start_time": "2021-10-05T17:23:41.855Z"
      },
      {
        "duration": 87,
        "start_time": "2021-10-05T17:23:41.900Z"
      },
      {
        "duration": 82,
        "start_time": "2021-10-05T17:23:41.989Z"
      },
      {
        "duration": 37,
        "start_time": "2021-10-05T17:23:42.074Z"
      },
      {
        "duration": 615,
        "start_time": "2021-10-05T17:24:44.722Z"
      },
      {
        "duration": 929,
        "start_time": "2021-10-05T17:24:45.339Z"
      },
      {
        "duration": 8,
        "start_time": "2021-10-05T17:24:46.270Z"
      },
      {
        "duration": 25,
        "start_time": "2021-10-05T17:24:46.279Z"
      },
      {
        "duration": 180,
        "start_time": "2021-10-05T17:24:46.306Z"
      },
      {
        "duration": 81,
        "start_time": "2021-10-05T17:24:46.488Z"
      },
      {
        "duration": 40,
        "start_time": "2021-10-05T17:24:46.571Z"
      },
      {
        "duration": 63,
        "start_time": "2021-10-05T17:24:46.614Z"
      },
      {
        "duration": 37,
        "start_time": "2021-10-05T17:24:46.680Z"
      },
      {
        "duration": 32,
        "start_time": "2021-10-05T17:24:46.719Z"
      },
      {
        "duration": 20,
        "start_time": "2021-10-05T17:24:46.753Z"
      },
      {
        "duration": 38,
        "start_time": "2021-10-05T17:24:46.774Z"
      },
      {
        "duration": 19,
        "start_time": "2021-10-05T17:24:46.814Z"
      },
      {
        "duration": 34,
        "start_time": "2021-10-05T17:24:46.834Z"
      },
      {
        "duration": 95,
        "start_time": "2021-10-05T17:24:46.870Z"
      },
      {
        "duration": 35,
        "start_time": "2021-10-05T17:24:46.967Z"
      },
      {
        "duration": 31,
        "start_time": "2021-10-05T17:24:47.004Z"
      },
      {
        "duration": 21,
        "start_time": "2021-10-05T17:24:47.037Z"
      },
      {
        "duration": 42,
        "start_time": "2021-10-05T17:24:47.059Z"
      },
      {
        "duration": 80,
        "start_time": "2021-10-05T17:24:47.103Z"
      },
      {
        "duration": 81,
        "start_time": "2021-10-05T17:24:47.185Z"
      },
      {
        "duration": 213,
        "start_time": "2021-10-05T17:24:47.269Z"
      },
      {
        "duration": 148,
        "start_time": "2021-10-05T17:32:55.514Z"
      },
      {
        "duration": 316,
        "start_time": "2021-10-05T17:33:26.737Z"
      },
      {
        "duration": 50,
        "start_time": "2021-10-05T17:33:37.585Z"
      },
      {
        "duration": 3589,
        "start_time": "2021-10-05T17:34:11.451Z"
      },
      {
        "duration": 1148,
        "start_time": "2021-10-05T17:34:54.596Z"
      },
      {
        "duration": 139,
        "start_time": "2021-10-05T17:41:36.413Z"
      },
      {
        "duration": 133,
        "start_time": "2021-10-05T17:41:42.046Z"
      },
      {
        "duration": 297,
        "start_time": "2021-10-05T17:42:12.012Z"
      },
      {
        "duration": 166,
        "start_time": "2021-10-05T17:42:23.179Z"
      },
      {
        "duration": 138,
        "start_time": "2021-10-05T17:42:25.372Z"
      },
      {
        "duration": 178,
        "start_time": "2021-10-05T17:42:38.408Z"
      },
      {
        "duration": 319,
        "start_time": "2021-10-05T17:42:57.292Z"
      },
      {
        "duration": 150,
        "start_time": "2021-10-05T17:43:01.564Z"
      },
      {
        "duration": 180,
        "start_time": "2021-10-05T17:43:08.958Z"
      },
      {
        "duration": 473,
        "start_time": "2021-10-05T17:46:27.430Z"
      },
      {
        "duration": 352,
        "start_time": "2021-10-05T17:47:24.959Z"
      },
      {
        "duration": 46,
        "start_time": "2021-10-05T17:48:36.381Z"
      },
      {
        "duration": 7527,
        "start_time": "2021-10-05T17:48:39.787Z"
      },
      {
        "duration": 418,
        "start_time": "2021-10-05T17:49:03.093Z"
      },
      {
        "duration": 416,
        "start_time": "2021-10-05T17:49:17.438Z"
      },
      {
        "duration": 50,
        "start_time": "2021-10-05T17:49:57.552Z"
      },
      {
        "duration": 162,
        "start_time": "2021-10-05T17:50:00.542Z"
      },
      {
        "duration": 134,
        "start_time": "2021-10-05T17:50:08.416Z"
      },
      {
        "duration": 424,
        "start_time": "2021-10-05T17:50:17.366Z"
      },
      {
        "duration": 443,
        "start_time": "2021-10-05T17:50:21.202Z"
      },
      {
        "duration": 448,
        "start_time": "2021-10-05T17:50:25.634Z"
      },
      {
        "duration": 689,
        "start_time": "2021-10-05T17:50:33.971Z"
      },
      {
        "duration": 491,
        "start_time": "2021-10-05T17:51:14.515Z"
      },
      {
        "duration": 496,
        "start_time": "2021-10-05T17:51:24.733Z"
      },
      {
        "duration": 607,
        "start_time": "2021-10-05T17:51:39.744Z"
      },
      {
        "duration": 43,
        "start_time": "2021-10-05T17:52:12.209Z"
      },
      {
        "duration": 44,
        "start_time": "2021-10-05T17:52:14.589Z"
      },
      {
        "duration": 500,
        "start_time": "2021-10-05T17:52:23.886Z"
      },
      {
        "duration": 491,
        "start_time": "2021-10-05T17:53:14.856Z"
      },
      {
        "duration": 497,
        "start_time": "2021-10-05T17:53:16.880Z"
      },
      {
        "duration": 573,
        "start_time": "2021-10-05T17:53:23.323Z"
      },
      {
        "duration": 494,
        "start_time": "2021-10-05T17:53:31.645Z"
      },
      {
        "duration": 512,
        "start_time": "2021-10-05T17:54:09.507Z"
      },
      {
        "duration": 312,
        "start_time": "2021-10-05T17:54:29.533Z"
      },
      {
        "duration": 742,
        "start_time": "2021-10-05T17:54:40.926Z"
      },
      {
        "duration": 51,
        "start_time": "2021-10-05T17:55:02.429Z"
      },
      {
        "duration": 767,
        "start_time": "2021-10-05T17:55:19.205Z"
      },
      {
        "duration": 76,
        "start_time": "2021-10-05T17:55:29.093Z"
      },
      {
        "duration": 442,
        "start_time": "2021-10-05T17:55:46.318Z"
      },
      {
        "duration": 280,
        "start_time": "2021-10-05T17:55:56.248Z"
      },
      {
        "duration": 412,
        "start_time": "2021-10-05T17:55:59.655Z"
      },
      {
        "duration": 412,
        "start_time": "2021-10-05T17:56:06.903Z"
      },
      {
        "duration": 317,
        "start_time": "2021-10-05T17:56:10.352Z"
      },
      {
        "duration": 314,
        "start_time": "2021-10-05T17:56:43.891Z"
      },
      {
        "duration": 25,
        "start_time": "2021-10-05T17:57:52.223Z"
      },
      {
        "duration": 17,
        "start_time": "2021-10-05T17:57:57.065Z"
      },
      {
        "duration": 3174,
        "start_time": "2021-10-05T17:58:07.348Z"
      },
      {
        "duration": 132,
        "start_time": "2021-10-05T17:58:11.401Z"
      },
      {
        "duration": 13,
        "start_time": "2021-10-05T17:58:18.414Z"
      },
      {
        "duration": 13,
        "start_time": "2021-10-05T17:58:24.890Z"
      },
      {
        "duration": 190,
        "start_time": "2021-10-05T18:15:45.221Z"
      },
      {
        "duration": 48,
        "start_time": "2021-10-05T18:16:23.862Z"
      },
      {
        "duration": 796,
        "start_time": "2021-10-05T18:16:36.510Z"
      },
      {
        "duration": 74,
        "start_time": "2021-10-05T18:16:39.859Z"
      },
      {
        "duration": 342,
        "start_time": "2021-10-05T18:16:44.414Z"
      },
      {
        "duration": 481,
        "start_time": "2021-10-05T18:16:55.357Z"
      },
      {
        "duration": 13,
        "start_time": "2021-10-05T18:19:00.447Z"
      },
      {
        "duration": 67,
        "start_time": "2021-10-05T18:19:11.163Z"
      },
      {
        "duration": 20,
        "start_time": "2021-10-05T18:19:17.706Z"
      },
      {
        "duration": 22,
        "start_time": "2021-10-05T18:20:14.785Z"
      },
      {
        "duration": 3672,
        "start_time": "2021-10-05T18:20:28.741Z"
      },
      {
        "duration": 21,
        "start_time": "2021-10-05T18:20:32.733Z"
      },
      {
        "duration": 9,
        "start_time": "2021-10-05T18:20:40.852Z"
      },
      {
        "duration": 9,
        "start_time": "2021-10-05T18:20:47.706Z"
      },
      {
        "duration": 10,
        "start_time": "2021-10-05T18:20:59.416Z"
      },
      {
        "duration": 23,
        "start_time": "2021-10-05T18:21:08.406Z"
      },
      {
        "duration": 3,
        "start_time": "2021-10-05T18:22:24.338Z"
      },
      {
        "duration": 4,
        "start_time": "2021-10-05T18:22:57.078Z"
      },
      {
        "duration": 504,
        "start_time": "2021-10-05T18:23:06.198Z"
      },
      {
        "duration": 500,
        "start_time": "2021-10-05T18:23:24.463Z"
      },
      {
        "duration": 4,
        "start_time": "2021-10-05T18:24:40.649Z"
      },
      {
        "duration": 468,
        "start_time": "2021-10-05T18:24:42.471Z"
      },
      {
        "duration": 3,
        "start_time": "2021-10-05T18:24:57.079Z"
      },
      {
        "duration": 140,
        "start_time": "2021-10-05T18:25:04.487Z"
      },
      {
        "duration": 4,
        "start_time": "2021-10-05T18:25:21.575Z"
      },
      {
        "duration": 4,
        "start_time": "2021-10-05T18:25:30.219Z"
      },
      {
        "duration": 506,
        "start_time": "2021-10-05T18:25:31.531Z"
      },
      {
        "duration": 4,
        "start_time": "2021-10-05T18:27:59.906Z"
      },
      {
        "duration": 482,
        "start_time": "2021-10-05T18:28:13.456Z"
      },
      {
        "duration": 4,
        "start_time": "2021-10-05T18:28:42.728Z"
      },
      {
        "duration": 479,
        "start_time": "2021-10-05T18:28:44.439Z"
      },
      {
        "duration": 293,
        "start_time": "2021-10-05T18:28:51.655Z"
      },
      {
        "duration": 297,
        "start_time": "2021-10-05T18:28:56.245Z"
      },
      {
        "duration": 254,
        "start_time": "2021-10-05T18:28:58.936Z"
      },
      {
        "duration": 276,
        "start_time": "2021-10-05T18:29:08.905Z"
      },
      {
        "duration": 23,
        "start_time": "2021-10-05T18:29:57.402Z"
      },
      {
        "duration": 11,
        "start_time": "2021-10-05T18:30:03.519Z"
      },
      {
        "duration": 98,
        "start_time": "2021-10-05T18:30:13.730Z"
      },
      {
        "duration": 10,
        "start_time": "2021-10-05T18:30:24.203Z"
      },
      {
        "duration": 11,
        "start_time": "2021-10-05T18:30:27.775Z"
      },
      {
        "duration": 10,
        "start_time": "2021-10-05T18:30:44.754Z"
      },
      {
        "duration": 10,
        "start_time": "2021-10-05T18:30:47.783Z"
      },
      {
        "duration": 96,
        "start_time": "2021-10-05T18:30:54.404Z"
      },
      {
        "duration": 10,
        "start_time": "2021-10-05T18:31:15.573Z"
      },
      {
        "duration": 10,
        "start_time": "2021-10-05T18:31:23.859Z"
      },
      {
        "duration": 10,
        "start_time": "2021-10-05T18:31:38.928Z"
      },
      {
        "duration": 19,
        "start_time": "2021-10-05T18:32:04.687Z"
      },
      {
        "duration": 6,
        "start_time": "2021-10-05T18:32:16.559Z"
      },
      {
        "duration": 47,
        "start_time": "2021-10-05T18:33:02.929Z"
      },
      {
        "duration": 33,
        "start_time": "2021-10-05T18:33:12.882Z"
      },
      {
        "duration": 111,
        "start_time": "2021-10-05T18:33:22.941Z"
      },
      {
        "duration": 18,
        "start_time": "2021-10-05T18:33:27.554Z"
      },
      {
        "duration": 65,
        "start_time": "2021-10-05T18:33:53.127Z"
      },
      {
        "duration": 155,
        "start_time": "2021-10-05T18:35:59.107Z"
      },
      {
        "duration": 1073,
        "start_time": "2021-10-05T18:36:07.874Z"
      },
      {
        "duration": 914,
        "start_time": "2021-10-05T18:36:08.948Z"
      },
      {
        "duration": 7,
        "start_time": "2021-10-05T18:36:09.864Z"
      },
      {
        "duration": 15,
        "start_time": "2021-10-05T18:36:09.873Z"
      },
      {
        "duration": 181,
        "start_time": "2021-10-05T18:36:09.899Z"
      },
      {
        "duration": 85,
        "start_time": "2021-10-05T18:36:10.082Z"
      },
      {
        "duration": 39,
        "start_time": "2021-10-05T18:36:10.169Z"
      },
      {
        "duration": 61,
        "start_time": "2021-10-05T18:36:10.211Z"
      },
      {
        "duration": 34,
        "start_time": "2021-10-05T18:36:10.274Z"
      },
      {
        "duration": 30,
        "start_time": "2021-10-05T18:36:10.310Z"
      },
      {
        "duration": 20,
        "start_time": "2021-10-05T18:36:10.342Z"
      },
      {
        "duration": 36,
        "start_time": "2021-10-05T18:36:10.364Z"
      },
      {
        "duration": 18,
        "start_time": "2021-10-05T18:36:10.402Z"
      },
      {
        "duration": 31,
        "start_time": "2021-10-05T18:36:10.422Z"
      },
      {
        "duration": 87,
        "start_time": "2021-10-05T18:36:10.455Z"
      },
      {
        "duration": 17,
        "start_time": "2021-10-05T18:36:10.544Z"
      },
      {
        "duration": 48,
        "start_time": "2021-10-05T18:36:10.562Z"
      },
      {
        "duration": 21,
        "start_time": "2021-10-05T18:36:10.612Z"
      },
      {
        "duration": 25,
        "start_time": "2021-10-05T18:36:10.634Z"
      },
      {
        "duration": 185,
        "start_time": "2021-10-05T18:36:10.661Z"
      },
      {
        "duration": 219,
        "start_time": "2021-10-05T18:36:10.848Z"
      },
      {
        "duration": 71,
        "start_time": "2021-10-05T18:36:11.068Z"
      },
      {
        "duration": 4,
        "start_time": "2021-10-05T18:36:11.141Z"
      },
      {
        "duration": 448,
        "start_time": "2021-10-05T18:36:11.146Z"
      },
      {
        "duration": 86,
        "start_time": "2021-10-05T18:36:11.595Z"
      },
      {
        "duration": 58,
        "start_time": "2021-10-05T18:36:11.683Z"
      },
      {
        "duration": 67,
        "start_time": "2021-10-05T18:36:11.743Z"
      },
      {
        "duration": 18,
        "start_time": "2021-10-05T18:54:24.472Z"
      },
      {
        "duration": 6,
        "start_time": "2021-10-05T18:54:45.767Z"
      },
      {
        "duration": 32,
        "start_time": "2021-10-05T18:54:53.841Z"
      },
      {
        "duration": 221,
        "start_time": "2021-10-05T18:55:06.103Z"
      },
      {
        "duration": 215,
        "start_time": "2021-10-05T18:55:10.142Z"
      },
      {
        "duration": 227,
        "start_time": "2021-10-05T18:55:28.850Z"
      },
      {
        "duration": 35,
        "start_time": "2021-10-05T18:55:44.987Z"
      },
      {
        "duration": 165,
        "start_time": "2021-10-05T18:55:55.035Z"
      },
      {
        "duration": 34,
        "start_time": "2021-10-05T18:55:58.340Z"
      },
      {
        "duration": 1026,
        "start_time": "2021-10-05T18:58:31.020Z"
      },
      {
        "duration": 917,
        "start_time": "2021-10-05T18:58:32.048Z"
      },
      {
        "duration": 7,
        "start_time": "2021-10-05T18:58:32.966Z"
      },
      {
        "duration": 26,
        "start_time": "2021-10-05T18:58:32.975Z"
      },
      {
        "duration": 184,
        "start_time": "2021-10-05T18:58:33.003Z"
      },
      {
        "duration": 85,
        "start_time": "2021-10-05T18:58:33.189Z"
      },
      {
        "duration": 37,
        "start_time": "2021-10-05T18:58:33.277Z"
      },
      {
        "duration": 59,
        "start_time": "2021-10-05T18:58:33.318Z"
      },
      {
        "duration": 33,
        "start_time": "2021-10-05T18:58:33.379Z"
      },
      {
        "duration": 33,
        "start_time": "2021-10-05T18:58:33.414Z"
      },
      {
        "duration": 28,
        "start_time": "2021-10-05T18:58:33.448Z"
      },
      {
        "duration": 34,
        "start_time": "2021-10-05T18:58:33.477Z"
      },
      {
        "duration": 17,
        "start_time": "2021-10-05T18:58:33.512Z"
      },
      {
        "duration": 31,
        "start_time": "2021-10-05T18:58:33.531Z"
      },
      {
        "duration": 90,
        "start_time": "2021-10-05T18:58:33.564Z"
      },
      {
        "duration": 17,
        "start_time": "2021-10-05T18:58:33.656Z"
      },
      {
        "duration": 43,
        "start_time": "2021-10-05T18:58:33.675Z"
      },
      {
        "duration": 19,
        "start_time": "2021-10-05T18:58:33.719Z"
      },
      {
        "duration": 25,
        "start_time": "2021-10-05T18:58:33.740Z"
      },
      {
        "duration": 145,
        "start_time": "2021-10-05T18:58:33.767Z"
      },
      {
        "duration": 149,
        "start_time": "2021-10-05T18:58:33.913Z"
      },
      {
        "duration": 61,
        "start_time": "2021-10-05T18:58:34.064Z"
      },
      {
        "duration": 3,
        "start_time": "2021-10-05T18:58:34.127Z"
      },
      {
        "duration": 449,
        "start_time": "2021-10-05T18:58:34.132Z"
      },
      {
        "duration": 84,
        "start_time": "2021-10-05T18:58:34.582Z"
      },
      {
        "duration": 43,
        "start_time": "2021-10-05T18:58:34.668Z"
      },
      {
        "duration": 51,
        "start_time": "2021-10-05T18:58:34.713Z"
      },
      {
        "duration": 436,
        "start_time": "2021-10-05T19:00:51.509Z"
      },
      {
        "duration": 44,
        "start_time": "2021-10-05T19:01:17.870Z"
      },
      {
        "duration": 710,
        "start_time": "2021-10-05T19:01:21.988Z"
      },
      {
        "duration": 224,
        "start_time": "2021-10-05T19:01:40.327Z"
      },
      {
        "duration": 232,
        "start_time": "2021-10-05T19:01:46.545Z"
      },
      {
        "duration": 43,
        "start_time": "2021-10-05T19:02:01.680Z"
      },
      {
        "duration": 1326,
        "start_time": "2021-10-05T19:02:03.922Z"
      },
      {
        "duration": 295,
        "start_time": "2021-10-05T19:02:15.864Z"
      },
      {
        "duration": 236,
        "start_time": "2021-10-05T19:02:21.900Z"
      },
      {
        "duration": 223,
        "start_time": "2021-10-05T19:02:41.334Z"
      },
      {
        "duration": 245,
        "start_time": "2021-10-05T19:02:44.712Z"
      },
      {
        "duration": 259,
        "start_time": "2021-10-05T19:02:49.636Z"
      },
      {
        "duration": 243,
        "start_time": "2021-10-05T19:02:58.771Z"
      },
      {
        "duration": 9,
        "start_time": "2021-10-05T19:03:12.869Z"
      },
      {
        "duration": 85,
        "start_time": "2021-10-05T19:03:23.418Z"
      },
      {
        "duration": 69,
        "start_time": "2021-10-05T19:03:34.977Z"
      },
      {
        "duration": 85,
        "start_time": "2021-10-05T19:03:42.651Z"
      },
      {
        "duration": 81,
        "start_time": "2021-10-05T19:03:48.125Z"
      },
      {
        "duration": 81,
        "start_time": "2021-10-05T19:03:55.359Z"
      },
      {
        "duration": 83,
        "start_time": "2021-10-05T19:03:59.061Z"
      },
      {
        "duration": 988,
        "start_time": "2021-10-05T19:05:21.457Z"
      },
      {
        "duration": 937,
        "start_time": "2021-10-05T19:05:22.447Z"
      },
      {
        "duration": 7,
        "start_time": "2021-10-05T19:05:23.387Z"
      },
      {
        "duration": 20,
        "start_time": "2021-10-05T19:05:23.400Z"
      },
      {
        "duration": 193,
        "start_time": "2021-10-05T19:05:23.422Z"
      },
      {
        "duration": 85,
        "start_time": "2021-10-05T19:05:23.617Z"
      },
      {
        "duration": 33,
        "start_time": "2021-10-05T19:05:23.704Z"
      },
      {
        "duration": 79,
        "start_time": "2021-10-05T19:05:23.739Z"
      },
      {
        "duration": 18,
        "start_time": "2021-10-05T19:05:23.820Z"
      },
      {
        "duration": 33,
        "start_time": "2021-10-05T19:05:23.840Z"
      },
      {
        "duration": 36,
        "start_time": "2021-10-05T19:05:23.875Z"
      },
      {
        "duration": 21,
        "start_time": "2021-10-05T19:05:23.913Z"
      },
      {
        "duration": 18,
        "start_time": "2021-10-05T19:05:23.936Z"
      },
      {
        "duration": 48,
        "start_time": "2021-10-05T19:05:23.956Z"
      },
      {
        "duration": 73,
        "start_time": "2021-10-05T19:05:24.006Z"
      },
      {
        "duration": 18,
        "start_time": "2021-10-05T19:05:24.100Z"
      },
      {
        "duration": 30,
        "start_time": "2021-10-05T19:05:24.120Z"
      },
      {
        "duration": 21,
        "start_time": "2021-10-05T19:05:24.152Z"
      },
      {
        "duration": 40,
        "start_time": "2021-10-05T19:05:24.174Z"
      },
      {
        "duration": 138,
        "start_time": "2021-10-05T19:05:24.216Z"
      },
      {
        "duration": 155,
        "start_time": "2021-10-05T19:05:24.356Z"
      },
      {
        "duration": 54,
        "start_time": "2021-10-05T19:05:24.512Z"
      },
      {
        "duration": 3,
        "start_time": "2021-10-05T19:05:24.569Z"
      },
      {
        "duration": 483,
        "start_time": "2021-10-05T19:05:24.574Z"
      },
      {
        "duration": 87,
        "start_time": "2021-10-05T19:05:25.058Z"
      },
      {
        "duration": 42,
        "start_time": "2021-10-05T19:05:25.147Z"
      },
      {
        "duration": 284,
        "start_time": "2021-10-05T19:05:25.191Z"
      },
      {
        "duration": 46,
        "start_time": "2021-10-05T19:05:25.477Z"
      },
      {
        "duration": -43,
        "start_time": "2021-10-05T19:05:25.568Z"
      },
      {
        "duration": 89,
        "start_time": "2021-10-05T19:15:06.264Z"
      },
      {
        "duration": 82,
        "start_time": "2021-10-05T19:15:11.013Z"
      },
      {
        "duration": 9,
        "start_time": "2021-10-05T19:15:18.374Z"
      },
      {
        "duration": 254,
        "start_time": "2021-10-05T19:15:24.103Z"
      },
      {
        "duration": 274,
        "start_time": "2021-10-05T19:15:32.211Z"
      },
      {
        "duration": 163,
        "start_time": "2021-10-05T19:16:39.310Z"
      },
      {
        "duration": 1107,
        "start_time": "2021-10-05T19:17:01.864Z"
      },
      {
        "duration": 1123,
        "start_time": "2021-10-05T19:17:18.611Z"
      },
      {
        "duration": 154,
        "start_time": "2021-10-05T19:17:42.160Z"
      },
      {
        "duration": 216,
        "start_time": "2021-10-05T19:17:45.730Z"
      },
      {
        "duration": 137,
        "start_time": "2021-10-05T19:18:55.274Z"
      },
      {
        "duration": 246,
        "start_time": "2021-10-05T19:19:14.836Z"
      },
      {
        "duration": 227,
        "start_time": "2021-10-05T19:19:40.883Z"
      },
      {
        "duration": 13263,
        "start_time": "2021-10-05T19:19:52.501Z"
      },
      {
        "duration": 232,
        "start_time": "2021-10-05T19:20:19.881Z"
      },
      {
        "duration": 303,
        "start_time": "2021-10-05T19:20:22.250Z"
      },
      {
        "duration": 146,
        "start_time": "2021-10-05T19:20:37.398Z"
      },
      {
        "duration": 134,
        "start_time": "2021-10-05T19:20:41.707Z"
      },
      {
        "duration": 19,
        "start_time": "2021-10-05T19:20:44.023Z"
      },
      {
        "duration": 7581,
        "start_time": "2021-10-05T19:21:25.092Z"
      },
      {
        "duration": 12,
        "start_time": "2021-10-05T19:21:37.081Z"
      },
      {
        "duration": 18,
        "start_time": "2021-10-05T19:21:39.767Z"
      },
      {
        "duration": 14,
        "start_time": "2021-10-05T19:21:45.929Z"
      },
      {
        "duration": 13,
        "start_time": "2021-10-05T19:21:48.470Z"
      },
      {
        "duration": 20,
        "start_time": "2021-10-05T19:21:51.944Z"
      },
      {
        "duration": 23,
        "start_time": "2021-10-05T19:22:05.011Z"
      },
      {
        "duration": 21,
        "start_time": "2021-10-05T19:22:14.043Z"
      },
      {
        "duration": 23,
        "start_time": "2021-10-05T19:22:26.808Z"
      },
      {
        "duration": 292,
        "start_time": "2021-10-05T19:25:19.509Z"
      },
      {
        "duration": 374,
        "start_time": "2021-10-05T19:25:27.280Z"
      },
      {
        "duration": 300,
        "start_time": "2021-10-05T19:25:42.087Z"
      },
      {
        "duration": 111,
        "start_time": "2021-10-05T19:27:29.543Z"
      },
      {
        "duration": 7346,
        "start_time": "2021-10-05T19:27:52.632Z"
      },
      {
        "duration": 94,
        "start_time": "2021-10-05T19:28:10.834Z"
      },
      {
        "duration": 10,
        "start_time": "2021-10-05T19:28:27.513Z"
      },
      {
        "duration": 9,
        "start_time": "2021-10-05T19:29:12.376Z"
      },
      {
        "duration": 19,
        "start_time": "2021-10-05T19:29:40.457Z"
      },
      {
        "duration": 1011,
        "start_time": "2021-10-05T19:29:50.553Z"
      },
      {
        "duration": 995,
        "start_time": "2021-10-05T19:29:51.566Z"
      },
      {
        "duration": 7,
        "start_time": "2021-10-05T19:29:52.563Z"
      },
      {
        "duration": 15,
        "start_time": "2021-10-05T19:29:52.572Z"
      },
      {
        "duration": 188,
        "start_time": "2021-10-05T19:29:52.589Z"
      },
      {
        "duration": 83,
        "start_time": "2021-10-05T19:29:52.779Z"
      },
      {
        "duration": 37,
        "start_time": "2021-10-05T19:29:52.864Z"
      },
      {
        "duration": 66,
        "start_time": "2021-10-05T19:29:52.903Z"
      },
      {
        "duration": 31,
        "start_time": "2021-10-05T19:29:52.971Z"
      },
      {
        "duration": 31,
        "start_time": "2021-10-05T19:29:53.003Z"
      },
      {
        "duration": 19,
        "start_time": "2021-10-05T19:29:53.036Z"
      },
      {
        "duration": 21,
        "start_time": "2021-10-05T19:29:53.056Z"
      },
      {
        "duration": 33,
        "start_time": "2021-10-05T19:29:53.078Z"
      },
      {
        "duration": 31,
        "start_time": "2021-10-05T19:29:53.112Z"
      },
      {
        "duration": 88,
        "start_time": "2021-10-05T19:29:53.144Z"
      },
      {
        "duration": 18,
        "start_time": "2021-10-05T19:29:53.233Z"
      },
      {
        "duration": 46,
        "start_time": "2021-10-05T19:29:53.253Z"
      },
      {
        "duration": 19,
        "start_time": "2021-10-05T19:29:53.301Z"
      },
      {
        "duration": 24,
        "start_time": "2021-10-05T19:29:53.322Z"
      },
      {
        "duration": 138,
        "start_time": "2021-10-05T19:29:53.348Z"
      },
      {
        "duration": 153,
        "start_time": "2021-10-05T19:29:53.487Z"
      },
      {
        "duration": 63,
        "start_time": "2021-10-05T19:29:53.642Z"
      },
      {
        "duration": 3,
        "start_time": "2021-10-05T19:29:53.708Z"
      },
      {
        "duration": 452,
        "start_time": "2021-10-05T19:29:53.713Z"
      },
      {
        "duration": 83,
        "start_time": "2021-10-05T19:29:54.167Z"
      },
      {
        "duration": 50,
        "start_time": "2021-10-05T19:29:54.252Z"
      },
      {
        "duration": 80,
        "start_time": "2021-10-05T19:29:54.303Z"
      },
      {
        "duration": 9,
        "start_time": "2021-10-05T19:29:54.384Z"
      },
      {
        "duration": 13381,
        "start_time": "2021-10-05T19:29:54.400Z"
      },
      {
        "duration": 46,
        "start_time": "2021-10-05T19:30:07.782Z"
      },
      {
        "duration": 21,
        "start_time": "2021-10-05T19:30:07.830Z"
      },
      {
        "duration": 219,
        "start_time": "2021-10-05T19:30:07.853Z"
      },
      {
        "duration": -13,
        "start_time": "2021-10-05T19:30:08.087Z"
      },
      {
        "duration": -15,
        "start_time": "2021-10-05T19:30:08.090Z"
      },
      {
        "duration": 128,
        "start_time": "2021-10-05T19:30:36.606Z"
      },
      {
        "duration": 992,
        "start_time": "2021-10-05T19:30:41.557Z"
      },
      {
        "duration": 908,
        "start_time": "2021-10-05T19:30:42.551Z"
      },
      {
        "duration": 7,
        "start_time": "2021-10-05T19:30:43.461Z"
      },
      {
        "duration": 16,
        "start_time": "2021-10-05T19:30:43.469Z"
      },
      {
        "duration": 190,
        "start_time": "2021-10-05T19:30:43.486Z"
      },
      {
        "duration": 90,
        "start_time": "2021-10-05T19:30:43.677Z"
      },
      {
        "duration": 35,
        "start_time": "2021-10-05T19:30:43.768Z"
      },
      {
        "duration": 63,
        "start_time": "2021-10-05T19:30:43.806Z"
      },
      {
        "duration": 34,
        "start_time": "2021-10-05T19:30:43.871Z"
      },
      {
        "duration": 32,
        "start_time": "2021-10-05T19:30:43.907Z"
      },
      {
        "duration": 20,
        "start_time": "2021-10-05T19:30:43.941Z"
      },
      {
        "duration": 46,
        "start_time": "2021-10-05T19:30:43.962Z"
      },
      {
        "duration": 18,
        "start_time": "2021-10-05T19:30:44.010Z"
      },
      {
        "duration": 35,
        "start_time": "2021-10-05T19:30:44.029Z"
      },
      {
        "duration": 92,
        "start_time": "2021-10-05T19:30:44.066Z"
      },
      {
        "duration": 19,
        "start_time": "2021-10-05T19:30:44.160Z"
      },
      {
        "duration": 43,
        "start_time": "2021-10-05T19:30:44.181Z"
      },
      {
        "duration": 31,
        "start_time": "2021-10-05T19:30:44.226Z"
      },
      {
        "duration": 26,
        "start_time": "2021-10-05T19:30:44.258Z"
      },
      {
        "duration": 142,
        "start_time": "2021-10-05T19:30:44.285Z"
      },
      {
        "duration": 158,
        "start_time": "2021-10-05T19:30:44.429Z"
      },
      {
        "duration": 66,
        "start_time": "2021-10-05T19:30:44.589Z"
      },
      {
        "duration": 3,
        "start_time": "2021-10-05T19:30:44.658Z"
      },
      {
        "duration": 466,
        "start_time": "2021-10-05T19:30:44.663Z"
      },
      {
        "duration": 84,
        "start_time": "2021-10-05T19:30:45.131Z"
      },
      {
        "duration": 41,
        "start_time": "2021-10-05T19:30:45.217Z"
      },
      {
        "duration": 92,
        "start_time": "2021-10-05T19:30:45.260Z"
      },
      {
        "duration": 4,
        "start_time": "2021-10-05T19:30:45.353Z"
      },
      {
        "duration": 13552,
        "start_time": "2021-10-05T19:30:45.358Z"
      },
      {
        "duration": 41,
        "start_time": "2021-10-05T19:30:58.911Z"
      },
      {
        "duration": 14,
        "start_time": "2021-10-05T19:30:58.953Z"
      },
      {
        "duration": 308,
        "start_time": "2021-10-05T19:30:58.968Z"
      },
      {
        "duration": 201,
        "start_time": "2021-10-05T19:30:59.277Z"
      },
      {
        "duration": 26,
        "start_time": "2021-10-05T19:30:59.479Z"
      },
      {
        "duration": 21,
        "start_time": "2021-10-05T19:32:21.787Z"
      },
      {
        "duration": 22,
        "start_time": "2021-10-05T19:32:24.854Z"
      },
      {
        "duration": 11,
        "start_time": "2021-10-05T19:32:30.722Z"
      },
      {
        "duration": 8,
        "start_time": "2021-10-05T19:32:37.270Z"
      },
      {
        "duration": 253,
        "start_time": "2021-10-05T19:33:15.097Z"
      },
      {
        "duration": 165,
        "start_time": "2021-10-05T19:33:17.029Z"
      },
      {
        "duration": 18,
        "start_time": "2021-10-05T19:34:05.723Z"
      },
      {
        "duration": 26,
        "start_time": "2021-10-05T19:35:13.858Z"
      },
      {
        "duration": 20,
        "start_time": "2021-10-05T19:56:19.289Z"
      },
      {
        "duration": 21,
        "start_time": "2021-10-05T19:56:31.955Z"
      },
      {
        "duration": 20,
        "start_time": "2021-10-05T19:56:54.414Z"
      },
      {
        "duration": 21,
        "start_time": "2021-10-05T19:57:02.152Z"
      },
      {
        "duration": 9,
        "start_time": "2021-10-05T19:57:10.762Z"
      },
      {
        "duration": 9,
        "start_time": "2021-10-05T19:57:16.578Z"
      },
      {
        "duration": 54,
        "start_time": "2021-10-05T19:57:48.778Z"
      },
      {
        "duration": 48,
        "start_time": "2021-10-05T19:59:18.260Z"
      },
      {
        "duration": 1006,
        "start_time": "2021-10-05T19:59:59.657Z"
      },
      {
        "duration": 960,
        "start_time": "2021-10-05T20:00:00.664Z"
      },
      {
        "duration": 7,
        "start_time": "2021-10-05T20:00:01.626Z"
      },
      {
        "duration": 21,
        "start_time": "2021-10-05T20:00:01.635Z"
      },
      {
        "duration": 186,
        "start_time": "2021-10-05T20:00:01.657Z"
      },
      {
        "duration": 91,
        "start_time": "2021-10-05T20:00:01.844Z"
      },
      {
        "duration": 33,
        "start_time": "2021-10-05T20:00:01.936Z"
      },
      {
        "duration": 76,
        "start_time": "2021-10-05T20:00:01.972Z"
      },
      {
        "duration": 19,
        "start_time": "2021-10-05T20:00:02.050Z"
      },
      {
        "duration": 50,
        "start_time": "2021-10-05T20:00:02.070Z"
      },
      {
        "duration": 43,
        "start_time": "2021-10-05T20:00:02.122Z"
      },
      {
        "duration": 32,
        "start_time": "2021-10-05T20:00:02.167Z"
      },
      {
        "duration": 18,
        "start_time": "2021-10-05T20:00:02.201Z"
      },
      {
        "duration": 32,
        "start_time": "2021-10-05T20:00:02.221Z"
      },
      {
        "duration": 85,
        "start_time": "2021-10-05T20:00:02.255Z"
      },
      {
        "duration": 18,
        "start_time": "2021-10-05T20:00:02.342Z"
      },
      {
        "duration": 49,
        "start_time": "2021-10-05T20:00:02.362Z"
      },
      {
        "duration": 22,
        "start_time": "2021-10-05T20:00:02.413Z"
      },
      {
        "duration": 25,
        "start_time": "2021-10-05T20:00:02.436Z"
      },
      {
        "duration": 155,
        "start_time": "2021-10-05T20:00:02.462Z"
      },
      {
        "duration": 197,
        "start_time": "2021-10-05T20:00:02.619Z"
      },
      {
        "duration": 56,
        "start_time": "2021-10-05T20:00:02.818Z"
      },
      {
        "duration": 3,
        "start_time": "2021-10-05T20:00:02.878Z"
      },
      {
        "duration": 471,
        "start_time": "2021-10-05T20:00:02.882Z"
      },
      {
        "duration": 85,
        "start_time": "2021-10-05T20:00:03.354Z"
      },
      {
        "duration": 65,
        "start_time": "2021-10-05T20:00:03.441Z"
      },
      {
        "duration": 91,
        "start_time": "2021-10-05T20:00:03.508Z"
      },
      {
        "duration": 4,
        "start_time": "2021-10-05T20:00:03.601Z"
      },
      {
        "duration": 13145,
        "start_time": "2021-10-05T20:00:03.606Z"
      },
      {
        "duration": 32,
        "start_time": "2021-10-05T20:00:16.753Z"
      },
      {
        "duration": 16,
        "start_time": "2021-10-05T20:00:16.787Z"
      },
      {
        "duration": 18,
        "start_time": "2021-10-05T20:00:33.114Z"
      },
      {
        "duration": 86,
        "start_time": "2021-10-05T20:00:45.999Z"
      },
      {
        "duration": 19,
        "start_time": "2021-10-05T20:00:47.474Z"
      },
      {
        "duration": 65,
        "start_time": "2021-10-05T20:01:27.065Z"
      },
      {
        "duration": 56,
        "start_time": "2021-10-05T20:01:38.720Z"
      },
      {
        "duration": 41,
        "start_time": "2021-10-05T20:02:32.633Z"
      },
      {
        "duration": 55,
        "start_time": "2021-10-05T20:02:34.774Z"
      },
      {
        "duration": 43,
        "start_time": "2021-10-05T20:03:40.170Z"
      },
      {
        "duration": 66,
        "start_time": "2021-10-05T20:03:42.734Z"
      },
      {
        "duration": 6,
        "start_time": "2021-10-05T20:04:17.162Z"
      },
      {
        "duration": 5,
        "start_time": "2021-10-05T20:04:21.876Z"
      },
      {
        "duration": 20,
        "start_time": "2021-10-05T20:04:46.516Z"
      },
      {
        "duration": 20,
        "start_time": "2021-10-05T20:05:03.768Z"
      },
      {
        "duration": 17,
        "start_time": "2021-10-05T20:05:21.893Z"
      },
      {
        "duration": 18,
        "start_time": "2021-10-05T20:07:05.504Z"
      },
      {
        "duration": 279,
        "start_time": "2021-10-05T20:08:06.525Z"
      },
      {
        "duration": 17,
        "start_time": "2021-10-05T20:09:35.573Z"
      },
      {
        "duration": 16,
        "start_time": "2021-10-05T20:09:44.488Z"
      },
      {
        "duration": 19,
        "start_time": "2021-10-05T20:09:55.286Z"
      },
      {
        "duration": 41,
        "start_time": "2021-10-05T20:11:49.705Z"
      },
      {
        "duration": 56,
        "start_time": "2021-10-05T20:11:56.233Z"
      },
      {
        "duration": 988,
        "start_time": "2021-10-05T20:12:31.954Z"
      },
      {
        "duration": 903,
        "start_time": "2021-10-05T20:12:32.944Z"
      },
      {
        "duration": 6,
        "start_time": "2021-10-05T20:12:33.849Z"
      },
      {
        "duration": 27,
        "start_time": "2021-10-05T20:12:33.857Z"
      },
      {
        "duration": 185,
        "start_time": "2021-10-05T20:12:33.885Z"
      },
      {
        "duration": 79,
        "start_time": "2021-10-05T20:12:34.071Z"
      },
      {
        "duration": 30,
        "start_time": "2021-10-05T20:12:34.152Z"
      },
      {
        "duration": 74,
        "start_time": "2021-10-05T20:12:34.184Z"
      },
      {
        "duration": 18,
        "start_time": "2021-10-05T20:12:34.259Z"
      },
      {
        "duration": 52,
        "start_time": "2021-10-05T20:12:34.279Z"
      },
      {
        "duration": 35,
        "start_time": "2021-10-05T20:12:34.333Z"
      },
      {
        "duration": 46,
        "start_time": "2021-10-05T20:12:34.369Z"
      },
      {
        "duration": 23,
        "start_time": "2021-10-05T20:12:34.417Z"
      },
      {
        "duration": 40,
        "start_time": "2021-10-05T20:12:34.441Z"
      },
      {
        "duration": 87,
        "start_time": "2021-10-05T20:12:34.482Z"
      },
      {
        "duration": 18,
        "start_time": "2021-10-05T20:12:34.570Z"
      },
      {
        "duration": 51,
        "start_time": "2021-10-05T20:12:34.589Z"
      },
      {
        "duration": 25,
        "start_time": "2021-10-05T20:12:34.641Z"
      },
      {
        "duration": 43,
        "start_time": "2021-10-05T20:12:34.667Z"
      },
      {
        "duration": 153,
        "start_time": "2021-10-05T20:12:34.712Z"
      },
      {
        "duration": 146,
        "start_time": "2021-10-05T20:12:34.866Z"
      },
      {
        "duration": 58,
        "start_time": "2021-10-05T20:12:35.014Z"
      },
      {
        "duration": 9,
        "start_time": "2021-10-05T20:12:35.076Z"
      },
      {
        "duration": 478,
        "start_time": "2021-10-05T20:12:35.087Z"
      },
      {
        "duration": 88,
        "start_time": "2021-10-05T20:12:35.567Z"
      },
      {
        "duration": 45,
        "start_time": "2021-10-05T20:12:35.656Z"
      },
      {
        "duration": 95,
        "start_time": "2021-10-05T20:12:35.703Z"
      },
      {
        "duration": 4,
        "start_time": "2021-10-05T20:12:35.800Z"
      },
      {
        "duration": 13248,
        "start_time": "2021-10-05T20:12:35.806Z"
      },
      {
        "duration": 535,
        "start_time": "2021-10-05T20:12:49.056Z"
      },
      {
        "duration": -120,
        "start_time": "2021-10-05T20:12:49.713Z"
      },
      {
        "duration": -124,
        "start_time": "2021-10-05T20:12:49.717Z"
      },
      {
        "duration": -125,
        "start_time": "2021-10-05T20:12:49.719Z"
      },
      {
        "duration": -139,
        "start_time": "2021-10-05T20:12:49.734Z"
      },
      {
        "duration": -141,
        "start_time": "2021-10-05T20:12:49.737Z"
      },
      {
        "duration": 481,
        "start_time": "2021-10-05T20:13:02.660Z"
      },
      {
        "duration": 271,
        "start_time": "2021-10-05T20:13:33.302Z"
      },
      {
        "duration": 1029,
        "start_time": "2021-10-05T20:13:42.323Z"
      },
      {
        "duration": 986,
        "start_time": "2021-10-05T20:13:43.353Z"
      },
      {
        "duration": 7,
        "start_time": "2021-10-05T20:13:44.341Z"
      },
      {
        "duration": 21,
        "start_time": "2021-10-05T20:13:44.350Z"
      },
      {
        "duration": 190,
        "start_time": "2021-10-05T20:13:44.372Z"
      },
      {
        "duration": 95,
        "start_time": "2021-10-05T20:13:44.564Z"
      },
      {
        "duration": 39,
        "start_time": "2021-10-05T20:13:44.661Z"
      },
      {
        "duration": 61,
        "start_time": "2021-10-05T20:13:44.701Z"
      },
      {
        "duration": 35,
        "start_time": "2021-10-05T20:13:44.764Z"
      },
      {
        "duration": 32,
        "start_time": "2021-10-05T20:13:44.801Z"
      },
      {
        "duration": 19,
        "start_time": "2021-10-05T20:13:44.835Z"
      },
      {
        "duration": 21,
        "start_time": "2021-10-05T20:13:44.855Z"
      },
      {
        "duration": 34,
        "start_time": "2021-10-05T20:13:44.877Z"
      },
      {
        "duration": 31,
        "start_time": "2021-10-05T20:13:44.912Z"
      },
      {
        "duration": 93,
        "start_time": "2021-10-05T20:13:44.945Z"
      },
      {
        "duration": 19,
        "start_time": "2021-10-05T20:13:45.039Z"
      },
      {
        "duration": 43,
        "start_time": "2021-10-05T20:13:45.060Z"
      },
      {
        "duration": 20,
        "start_time": "2021-10-05T20:13:45.104Z"
      },
      {
        "duration": 27,
        "start_time": "2021-10-05T20:13:45.126Z"
      },
      {
        "duration": 164,
        "start_time": "2021-10-05T20:13:45.155Z"
      },
      {
        "duration": 188,
        "start_time": "2021-10-05T20:13:45.321Z"
      },
      {
        "duration": 56,
        "start_time": "2021-10-05T20:13:45.510Z"
      },
      {
        "duration": 5,
        "start_time": "2021-10-05T20:13:45.568Z"
      },
      {
        "duration": 471,
        "start_time": "2021-10-05T20:13:45.575Z"
      },
      {
        "duration": 89,
        "start_time": "2021-10-05T20:13:46.047Z"
      },
      {
        "duration": 64,
        "start_time": "2021-10-05T20:13:46.138Z"
      },
      {
        "duration": 79,
        "start_time": "2021-10-05T20:13:46.206Z"
      },
      {
        "duration": 12,
        "start_time": "2021-10-05T20:13:46.288Z"
      },
      {
        "duration": 13559,
        "start_time": "2021-10-05T20:13:46.302Z"
      },
      {
        "duration": 289,
        "start_time": "2021-10-05T20:13:59.863Z"
      },
      {
        "duration": 21,
        "start_time": "2021-10-05T20:14:00.154Z"
      },
      {
        "duration": 57,
        "start_time": "2021-10-05T20:14:00.177Z"
      },
      {
        "duration": 69,
        "start_time": "2021-10-05T20:14:00.235Z"
      },
      {
        "duration": 7,
        "start_time": "2021-10-05T20:14:00.305Z"
      },
      {
        "duration": 52,
        "start_time": "2021-10-05T20:28:45.800Z"
      },
      {
        "duration": 235,
        "start_time": "2021-10-05T20:29:03.102Z"
      },
      {
        "duration": 11,
        "start_time": "2021-10-05T20:30:27.298Z"
      },
      {
        "duration": 14,
        "start_time": "2021-10-05T20:32:23.790Z"
      },
      {
        "duration": 70,
        "start_time": "2021-10-05T20:33:03.287Z"
      },
      {
        "duration": 134,
        "start_time": "2021-10-05T20:34:52.217Z"
      },
      {
        "duration": 4,
        "start_time": "2021-10-05T20:35:02.956Z"
      },
      {
        "duration": 4,
        "start_time": "2021-10-05T20:35:08.470Z"
      },
      {
        "duration": 71,
        "start_time": "2021-10-05T20:35:13.451Z"
      },
      {
        "duration": 971,
        "start_time": "2021-10-05T20:45:30.821Z"
      },
      {
        "duration": 3,
        "start_time": "2021-10-05T20:45:34.863Z"
      },
      {
        "duration": 118,
        "start_time": "2021-10-05T20:45:36.160Z"
      },
      {
        "duration": 14,
        "start_time": "2021-10-05T20:45:41.927Z"
      },
      {
        "duration": 4,
        "start_time": "2021-10-05T20:47:09.685Z"
      },
      {
        "duration": 17,
        "start_time": "2021-10-05T20:47:13.860Z"
      },
      {
        "duration": 50,
        "start_time": "2021-10-05T20:47:29.244Z"
      },
      {
        "duration": 11,
        "start_time": "2021-10-05T20:47:42.862Z"
      },
      {
        "duration": 43,
        "start_time": "2021-10-05T20:47:43.920Z"
      },
      {
        "duration": 11,
        "start_time": "2021-10-05T20:47:45.516Z"
      },
      {
        "duration": 3,
        "start_time": "2021-10-05T20:48:04.489Z"
      },
      {
        "duration": 2,
        "start_time": "2021-10-05T20:48:27.807Z"
      },
      {
        "duration": 96,
        "start_time": "2021-10-05T20:48:43.464Z"
      },
      {
        "duration": 145,
        "start_time": "2021-10-05T20:49:33.228Z"
      },
      {
        "duration": 21,
        "start_time": "2021-10-05T20:49:44.757Z"
      },
      {
        "duration": 5,
        "start_time": "2021-10-05T20:49:47.029Z"
      },
      {
        "duration": 3,
        "start_time": "2021-10-05T20:49:52.633Z"
      },
      {
        "duration": 136,
        "start_time": "2021-10-05T20:50:16.498Z"
      },
      {
        "duration": 129,
        "start_time": "2021-10-05T20:50:22.214Z"
      },
      {
        "duration": 195,
        "start_time": "2021-10-05T20:50:31.704Z"
      },
      {
        "duration": 1131,
        "start_time": "2021-10-05T21:10:16.081Z"
      },
      {
        "duration": 919,
        "start_time": "2021-10-05T21:10:17.214Z"
      },
      {
        "duration": 6,
        "start_time": "2021-10-05T21:10:18.135Z"
      },
      {
        "duration": 29,
        "start_time": "2021-10-05T21:10:18.143Z"
      },
      {
        "duration": 179,
        "start_time": "2021-10-05T21:10:18.173Z"
      },
      {
        "duration": 87,
        "start_time": "2021-10-05T21:10:18.353Z"
      },
      {
        "duration": 31,
        "start_time": "2021-10-05T21:10:18.442Z"
      },
      {
        "duration": 68,
        "start_time": "2021-10-05T21:10:18.475Z"
      },
      {
        "duration": 18,
        "start_time": "2021-10-05T21:10:18.545Z"
      },
      {
        "duration": 43,
        "start_time": "2021-10-05T21:10:18.565Z"
      },
      {
        "duration": 25,
        "start_time": "2021-10-05T21:10:18.610Z"
      },
      {
        "duration": 23,
        "start_time": "2021-10-05T21:10:18.637Z"
      },
      {
        "duration": 19,
        "start_time": "2021-10-05T21:10:18.661Z"
      },
      {
        "duration": 44,
        "start_time": "2021-10-05T21:10:18.681Z"
      },
      {
        "duration": 82,
        "start_time": "2021-10-05T21:10:18.726Z"
      },
      {
        "duration": 18,
        "start_time": "2021-10-05T21:10:18.809Z"
      },
      {
        "duration": 30,
        "start_time": "2021-10-05T21:10:18.828Z"
      },
      {
        "duration": 39,
        "start_time": "2021-10-05T21:10:18.860Z"
      },
      {
        "duration": 23,
        "start_time": "2021-10-05T21:10:18.901Z"
      },
      {
        "duration": 134,
        "start_time": "2021-10-05T21:10:18.926Z"
      },
      {
        "duration": 153,
        "start_time": "2021-10-05T21:10:19.061Z"
      },
      {
        "duration": 55,
        "start_time": "2021-10-05T21:10:19.216Z"
      },
      {
        "duration": 4,
        "start_time": "2021-10-05T21:10:19.272Z"
      },
      {
        "duration": 454,
        "start_time": "2021-10-05T21:10:19.277Z"
      },
      {
        "duration": 78,
        "start_time": "2021-10-05T21:10:19.733Z"
      },
      {
        "duration": 40,
        "start_time": "2021-10-05T21:10:19.813Z"
      },
      {
        "duration": 95,
        "start_time": "2021-10-05T21:10:19.856Z"
      },
      {
        "duration": 3,
        "start_time": "2021-10-05T21:10:19.953Z"
      },
      {
        "duration": 13263,
        "start_time": "2021-10-05T21:10:19.958Z"
      },
      {
        "duration": 282,
        "start_time": "2021-10-05T21:10:33.223Z"
      },
      {
        "duration": 21,
        "start_time": "2021-10-05T21:10:33.507Z"
      },
      {
        "duration": 42,
        "start_time": "2021-10-05T21:10:33.530Z"
      },
      {
        "duration": 26,
        "start_time": "2021-10-05T21:10:33.574Z"
      },
      {
        "duration": 56,
        "start_time": "2021-10-05T21:10:33.602Z"
      },
      {
        "duration": 9,
        "start_time": "2021-10-05T21:10:33.660Z"
      },
      {
        "duration": 2,
        "start_time": "2021-10-05T21:10:33.671Z"
      },
      {
        "duration": 140,
        "start_time": "2021-10-05T21:10:33.674Z"
      },
      {
        "duration": 7,
        "start_time": "2021-10-05T21:10:33.815Z"
      },
      {
        "duration": 52,
        "start_time": "2021-10-05T21:10:33.823Z"
      },
      {
        "duration": 24,
        "start_time": "2021-10-05T21:10:33.877Z"
      },
      {
        "duration": 2,
        "start_time": "2021-10-05T21:10:33.903Z"
      },
      {
        "duration": 230,
        "start_time": "2021-10-05T21:10:33.907Z"
      },
      {
        "duration": 56,
        "start_time": "2021-10-05T21:10:34.083Z"
      },
      {
        "duration": 635,
        "start_time": "2021-10-05T21:16:25.938Z"
      },
      {
        "duration": 20,
        "start_time": "2021-10-05T21:19:52.361Z"
      },
      {
        "duration": 109,
        "start_time": "2021-10-05T21:19:53.634Z"
      },
      {
        "duration": 2,
        "start_time": "2021-10-05T21:20:11.084Z"
      },
      {
        "duration": 183,
        "start_time": "2021-10-05T21:20:18.300Z"
      },
      {
        "duration": 5,
        "start_time": "2021-10-05T21:24:54.750Z"
      },
      {
        "duration": 3,
        "start_time": "2021-10-05T21:27:58.594Z"
      },
      {
        "duration": 144,
        "start_time": "2021-10-05T21:31:29.313Z"
      },
      {
        "duration": 1248,
        "start_time": "2021-10-05T21:31:37.586Z"
      },
      {
        "duration": 531,
        "start_time": "2021-10-05T21:31:45.134Z"
      },
      {
        "duration": 287,
        "start_time": "2021-10-05T21:31:54.888Z"
      },
      {
        "duration": 17,
        "start_time": "2021-10-05T21:31:56.945Z"
      },
      {
        "duration": 4,
        "start_time": "2021-10-05T21:32:06.779Z"
      },
      {
        "duration": 127,
        "start_time": "2021-10-05T21:32:10.027Z"
      },
      {
        "duration": 544,
        "start_time": "2021-10-05T21:32:16.445Z"
      },
      {
        "duration": 2765,
        "start_time": "2021-10-05T21:32:27.594Z"
      },
      {
        "duration": 2894,
        "start_time": "2021-10-05T21:32:41.104Z"
      },
      {
        "duration": 2606,
        "start_time": "2021-10-05T21:32:51.880Z"
      },
      {
        "duration": 2948,
        "start_time": "2021-10-05T21:33:06.186Z"
      },
      {
        "duration": 5,
        "start_time": "2021-10-05T21:33:09.887Z"
      },
      {
        "duration": 3904,
        "start_time": "2021-10-05T21:34:06.374Z"
      },
      {
        "duration": 294,
        "start_time": "2021-10-05T21:34:11.450Z"
      },
      {
        "duration": 1110,
        "start_time": "2021-10-05T21:35:59.864Z"
      },
      {
        "duration": 954,
        "start_time": "2021-10-05T21:36:00.976Z"
      },
      {
        "duration": 7,
        "start_time": "2021-10-05T21:36:01.932Z"
      },
      {
        "duration": 52,
        "start_time": "2021-10-05T21:36:01.941Z"
      },
      {
        "duration": 182,
        "start_time": "2021-10-05T21:36:01.995Z"
      },
      {
        "duration": 85,
        "start_time": "2021-10-05T21:36:02.179Z"
      },
      {
        "duration": 38,
        "start_time": "2021-10-05T21:36:02.265Z"
      },
      {
        "duration": 62,
        "start_time": "2021-10-05T21:36:02.305Z"
      },
      {
        "duration": 33,
        "start_time": "2021-10-05T21:36:02.369Z"
      },
      {
        "duration": 31,
        "start_time": "2021-10-05T21:36:02.404Z"
      },
      {
        "duration": 22,
        "start_time": "2021-10-05T21:36:02.436Z"
      },
      {
        "duration": 21,
        "start_time": "2021-10-05T21:36:02.459Z"
      },
      {
        "duration": 33,
        "start_time": "2021-10-05T21:36:02.482Z"
      },
      {
        "duration": 35,
        "start_time": "2021-10-05T21:36:02.516Z"
      },
      {
        "duration": 81,
        "start_time": "2021-10-05T21:36:02.553Z"
      },
      {
        "duration": 17,
        "start_time": "2021-10-05T21:36:02.636Z"
      },
      {
        "duration": 40,
        "start_time": "2021-10-05T21:36:02.655Z"
      },
      {
        "duration": 21,
        "start_time": "2021-10-05T21:36:02.697Z"
      },
      {
        "duration": 28,
        "start_time": "2021-10-05T21:36:02.719Z"
      },
      {
        "duration": 138,
        "start_time": "2021-10-05T21:36:02.748Z"
      },
      {
        "duration": 155,
        "start_time": "2021-10-05T21:36:02.887Z"
      },
      {
        "duration": 67,
        "start_time": "2021-10-05T21:36:03.044Z"
      },
      {
        "duration": 3,
        "start_time": "2021-10-05T21:36:03.115Z"
      },
      {
        "duration": 469,
        "start_time": "2021-10-05T21:36:03.120Z"
      },
      {
        "duration": 82,
        "start_time": "2021-10-05T21:36:03.591Z"
      },
      {
        "duration": 52,
        "start_time": "2021-10-05T21:36:03.675Z"
      },
      {
        "duration": 92,
        "start_time": "2021-10-05T21:36:03.728Z"
      },
      {
        "duration": 5,
        "start_time": "2021-10-05T21:36:03.821Z"
      },
      {
        "duration": 13616,
        "start_time": "2021-10-05T21:36:03.828Z"
      },
      {
        "duration": 287,
        "start_time": "2021-10-05T21:36:17.445Z"
      },
      {
        "duration": 20,
        "start_time": "2021-10-05T21:36:17.734Z"
      },
      {
        "duration": 53,
        "start_time": "2021-10-05T21:36:17.755Z"
      },
      {
        "duration": 4,
        "start_time": "2021-10-05T21:36:17.810Z"
      },
      {
        "duration": 55,
        "start_time": "2021-10-05T21:36:17.815Z"
      },
      {
        "duration": 28,
        "start_time": "2021-10-05T21:36:17.872Z"
      },
      {
        "duration": 3,
        "start_time": "2021-10-05T21:36:17.901Z"
      },
      {
        "duration": 110,
        "start_time": "2021-10-05T21:36:17.905Z"
      },
      {
        "duration": 6,
        "start_time": "2021-10-05T21:36:18.017Z"
      },
      {
        "duration": 38,
        "start_time": "2021-10-05T21:36:18.025Z"
      },
      {
        "duration": 12913,
        "start_time": "2021-10-05T21:36:18.065Z"
      },
      {
        "duration": 96,
        "start_time": "2021-10-05T21:36:30.980Z"
      },
      {
        "duration": 172,
        "start_time": "2021-10-05T21:36:31.077Z"
      },
      {
        "duration": 2,
        "start_time": "2021-10-05T21:36:31.251Z"
      },
      {
        "duration": 318,
        "start_time": "2021-10-05T21:36:31.255Z"
      },
      {
        "duration": 31,
        "start_time": "2021-10-05T21:36:31.544Z"
      },
      {
        "duration": 27,
        "start_time": "2021-10-05T21:41:26.475Z"
      },
      {
        "duration": 168,
        "start_time": "2021-10-05T21:41:28.834Z"
      },
      {
        "duration": 3,
        "start_time": "2021-10-05T21:41:30.377Z"
      },
      {
        "duration": 218,
        "start_time": "2021-10-05T21:41:31.570Z"
      },
      {
        "duration": 20,
        "start_time": "2021-10-05T21:41:48.482Z"
      },
      {
        "duration": 1376,
        "start_time": "2021-10-05T21:42:16.127Z"
      },
      {
        "duration": 8,
        "start_time": "2021-10-05T21:42:21.079Z"
      },
      {
        "duration": 1060,
        "start_time": "2021-10-05T21:42:27.034Z"
      },
      {
        "duration": 906,
        "start_time": "2021-10-05T21:42:28.096Z"
      },
      {
        "duration": 8,
        "start_time": "2021-10-05T21:42:29.004Z"
      },
      {
        "duration": 15,
        "start_time": "2021-10-05T21:42:29.014Z"
      },
      {
        "duration": 194,
        "start_time": "2021-10-05T21:42:29.031Z"
      },
      {
        "duration": 84,
        "start_time": "2021-10-05T21:42:29.227Z"
      },
      {
        "duration": 32,
        "start_time": "2021-10-05T21:42:29.313Z"
      },
      {
        "duration": 80,
        "start_time": "2021-10-05T21:42:29.348Z"
      },
      {
        "duration": 19,
        "start_time": "2021-10-05T21:42:29.430Z"
      },
      {
        "duration": 49,
        "start_time": "2021-10-05T21:42:29.451Z"
      },
      {
        "duration": 21,
        "start_time": "2021-10-05T21:42:29.502Z"
      },
      {
        "duration": 21,
        "start_time": "2021-10-05T21:42:29.525Z"
      },
      {
        "duration": 18,
        "start_time": "2021-10-05T21:42:29.548Z"
      },
      {
        "duration": 61,
        "start_time": "2021-10-05T21:42:29.568Z"
      },
      {
        "duration": 87,
        "start_time": "2021-10-05T21:42:29.630Z"
      },
      {
        "duration": 18,
        "start_time": "2021-10-05T21:42:29.718Z"
      },
      {
        "duration": 37,
        "start_time": "2021-10-05T21:42:29.737Z"
      },
      {
        "duration": 29,
        "start_time": "2021-10-05T21:42:29.776Z"
      },
      {
        "duration": 38,
        "start_time": "2021-10-05T21:42:29.807Z"
      },
      {
        "duration": 126,
        "start_time": "2021-10-05T21:42:29.847Z"
      },
      {
        "duration": 160,
        "start_time": "2021-10-05T21:42:29.975Z"
      },
      {
        "duration": 53,
        "start_time": "2021-10-05T21:42:30.136Z"
      },
      {
        "duration": 4,
        "start_time": "2021-10-05T21:42:30.201Z"
      },
      {
        "duration": 455,
        "start_time": "2021-10-05T21:42:30.207Z"
      },
      {
        "duration": 88,
        "start_time": "2021-10-05T21:42:30.664Z"
      },
      {
        "duration": 49,
        "start_time": "2021-10-05T21:42:30.754Z"
      },
      {
        "duration": 82,
        "start_time": "2021-10-05T21:42:30.805Z"
      },
      {
        "duration": 4,
        "start_time": "2021-10-05T21:42:30.899Z"
      },
      {
        "duration": 13120,
        "start_time": "2021-10-05T21:42:30.905Z"
      },
      {
        "duration": 287,
        "start_time": "2021-10-05T21:42:44.027Z"
      },
      {
        "duration": 21,
        "start_time": "2021-10-05T21:42:44.316Z"
      },
      {
        "duration": 60,
        "start_time": "2021-10-05T21:42:44.339Z"
      },
      {
        "duration": 6,
        "start_time": "2021-10-05T21:42:44.401Z"
      },
      {
        "duration": 57,
        "start_time": "2021-10-05T21:42:44.408Z"
      },
      {
        "duration": 35,
        "start_time": "2021-10-05T21:42:44.467Z"
      },
      {
        "duration": 3,
        "start_time": "2021-10-05T21:42:44.504Z"
      },
      {
        "duration": 132,
        "start_time": "2021-10-05T21:42:44.509Z"
      },
      {
        "duration": 7,
        "start_time": "2021-10-05T21:42:44.643Z"
      },
      {
        "duration": 65,
        "start_time": "2021-10-05T21:42:44.652Z"
      },
      {
        "duration": 4870,
        "start_time": "2021-10-05T21:42:44.719Z"
      },
      {
        "duration": 362,
        "start_time": "2021-10-05T21:42:49.591Z"
      },
      {
        "duration": 180,
        "start_time": "2021-10-05T21:42:49.955Z"
      },
      {
        "duration": 1628,
        "start_time": "2021-10-05T21:42:50.137Z"
      },
      {
        "duration": 3,
        "start_time": "2021-10-05T21:42:51.766Z"
      },
      {
        "duration": 168,
        "start_time": "2021-10-05T21:43:06.933Z"
      },
      {
        "duration": 1066,
        "start_time": "2021-10-05T21:43:14.833Z"
      },
      {
        "duration": 931,
        "start_time": "2021-10-05T21:43:15.901Z"
      },
      {
        "duration": 7,
        "start_time": "2021-10-05T21:43:16.835Z"
      },
      {
        "duration": 17,
        "start_time": "2021-10-05T21:43:16.844Z"
      },
      {
        "duration": 184,
        "start_time": "2021-10-05T21:43:16.863Z"
      },
      {
        "duration": 82,
        "start_time": "2021-10-05T21:43:17.049Z"
      },
      {
        "duration": 32,
        "start_time": "2021-10-05T21:43:17.132Z"
      },
      {
        "duration": 74,
        "start_time": "2021-10-05T21:43:17.167Z"
      },
      {
        "duration": 19,
        "start_time": "2021-10-05T21:43:17.243Z"
      },
      {
        "duration": 47,
        "start_time": "2021-10-05T21:43:17.263Z"
      },
      {
        "duration": 27,
        "start_time": "2021-10-05T21:43:17.311Z"
      },
      {
        "duration": 29,
        "start_time": "2021-10-05T21:43:17.340Z"
      },
      {
        "duration": 18,
        "start_time": "2021-10-05T21:43:17.371Z"
      },
      {
        "duration": 39,
        "start_time": "2021-10-05T21:43:17.390Z"
      },
      {
        "duration": 78,
        "start_time": "2021-10-05T21:43:17.431Z"
      },
      {
        "duration": 17,
        "start_time": "2021-10-05T21:43:17.510Z"
      },
      {
        "duration": 31,
        "start_time": "2021-10-05T21:43:17.528Z"
      },
      {
        "duration": 19,
        "start_time": "2021-10-05T21:43:17.561Z"
      },
      {
        "duration": 38,
        "start_time": "2021-10-05T21:43:17.582Z"
      },
      {
        "duration": 133,
        "start_time": "2021-10-05T21:43:17.622Z"
      },
      {
        "duration": 147,
        "start_time": "2021-10-05T21:43:17.756Z"
      },
      {
        "duration": 54,
        "start_time": "2021-10-05T21:43:17.904Z"
      },
      {
        "duration": 3,
        "start_time": "2021-10-05T21:43:17.961Z"
      },
      {
        "duration": 443,
        "start_time": "2021-10-05T21:43:17.966Z"
      },
      {
        "duration": 70,
        "start_time": "2021-10-05T21:43:18.411Z"
      },
      {
        "duration": 50,
        "start_time": "2021-10-05T21:43:18.483Z"
      },
      {
        "duration": 81,
        "start_time": "2021-10-05T21:43:18.535Z"
      },
      {
        "duration": 3,
        "start_time": "2021-10-05T21:43:18.618Z"
      },
      {
        "duration": 13386,
        "start_time": "2021-10-05T21:43:18.623Z"
      },
      {
        "duration": 279,
        "start_time": "2021-10-05T21:43:32.010Z"
      },
      {
        "duration": 23,
        "start_time": "2021-10-05T21:43:32.290Z"
      },
      {
        "duration": 41,
        "start_time": "2021-10-05T21:43:32.315Z"
      },
      {
        "duration": 5,
        "start_time": "2021-10-05T21:43:32.357Z"
      },
      {
        "duration": 78,
        "start_time": "2021-10-05T21:43:32.363Z"
      },
      {
        "duration": 10,
        "start_time": "2021-10-05T21:43:32.443Z"
      },
      {
        "duration": 2,
        "start_time": "2021-10-05T21:43:32.455Z"
      },
      {
        "duration": 121,
        "start_time": "2021-10-05T21:43:32.459Z"
      },
      {
        "duration": 6,
        "start_time": "2021-10-05T21:43:32.582Z"
      },
      {
        "duration": 47,
        "start_time": "2021-10-05T21:43:32.589Z"
      },
      {
        "duration": 5012,
        "start_time": "2021-10-05T21:43:32.637Z"
      },
      {
        "duration": 353,
        "start_time": "2021-10-05T21:43:37.650Z"
      },
      {
        "duration": 164,
        "start_time": "2021-10-05T21:43:38.004Z"
      },
      {
        "duration": 1644,
        "start_time": "2021-10-05T21:43:38.169Z"
      },
      {
        "duration": 3,
        "start_time": "2021-10-05T21:43:39.814Z"
      },
      {
        "duration": 1063,
        "start_time": "2021-10-05T21:51:32.751Z"
      },
      {
        "duration": 901,
        "start_time": "2021-10-05T21:51:33.816Z"
      },
      {
        "duration": 6,
        "start_time": "2021-10-05T21:51:34.719Z"
      },
      {
        "duration": 17,
        "start_time": "2021-10-05T21:51:34.727Z"
      },
      {
        "duration": 184,
        "start_time": "2021-10-05T21:51:34.745Z"
      },
      {
        "duration": 83,
        "start_time": "2021-10-05T21:51:34.930Z"
      },
      {
        "duration": 33,
        "start_time": "2021-10-05T21:51:35.015Z"
      },
      {
        "duration": 83,
        "start_time": "2021-10-05T21:51:35.050Z"
      },
      {
        "duration": 19,
        "start_time": "2021-10-05T21:51:35.135Z"
      },
      {
        "duration": 50,
        "start_time": "2021-10-05T21:51:35.156Z"
      },
      {
        "duration": 22,
        "start_time": "2021-10-05T21:51:35.207Z"
      },
      {
        "duration": 27,
        "start_time": "2021-10-05T21:51:35.231Z"
      },
      {
        "duration": 19,
        "start_time": "2021-10-05T21:51:35.260Z"
      },
      {
        "duration": 45,
        "start_time": "2021-10-05T21:51:35.281Z"
      },
      {
        "duration": 83,
        "start_time": "2021-10-05T21:51:35.328Z"
      },
      {
        "duration": 18,
        "start_time": "2021-10-05T21:51:35.412Z"
      },
      {
        "duration": 30,
        "start_time": "2021-10-05T21:51:35.431Z"
      },
      {
        "duration": 36,
        "start_time": "2021-10-05T21:51:35.463Z"
      },
      {
        "duration": 27,
        "start_time": "2021-10-05T21:51:35.501Z"
      },
      {
        "duration": 128,
        "start_time": "2021-10-05T21:51:35.529Z"
      },
      {
        "duration": 149,
        "start_time": "2021-10-05T21:51:35.659Z"
      },
      {
        "duration": 55,
        "start_time": "2021-10-05T21:51:35.809Z"
      },
      {
        "duration": 3,
        "start_time": "2021-10-05T21:51:35.868Z"
      },
      {
        "duration": 456,
        "start_time": "2021-10-05T21:51:35.873Z"
      },
      {
        "duration": 80,
        "start_time": "2021-10-05T21:51:36.330Z"
      },
      {
        "duration": 39,
        "start_time": "2021-10-05T21:51:36.412Z"
      },
      {
        "duration": 89,
        "start_time": "2021-10-05T21:51:36.453Z"
      },
      {
        "duration": 3,
        "start_time": "2021-10-05T21:51:36.544Z"
      },
      {
        "duration": 13456,
        "start_time": "2021-10-05T21:51:36.549Z"
      },
      {
        "duration": 297,
        "start_time": "2021-10-05T21:51:50.007Z"
      },
      {
        "duration": 21,
        "start_time": "2021-10-05T21:51:50.305Z"
      },
      {
        "duration": 41,
        "start_time": "2021-10-05T21:51:50.328Z"
      },
      {
        "duration": 5,
        "start_time": "2021-10-05T21:51:50.371Z"
      },
      {
        "duration": 76,
        "start_time": "2021-10-05T21:51:50.377Z"
      },
      {
        "duration": 9,
        "start_time": "2021-10-05T21:51:50.455Z"
      },
      {
        "duration": 2,
        "start_time": "2021-10-05T21:51:50.466Z"
      },
      {
        "duration": 129,
        "start_time": "2021-10-05T21:51:50.470Z"
      },
      {
        "duration": 6,
        "start_time": "2021-10-05T21:51:50.601Z"
      },
      {
        "duration": 40,
        "start_time": "2021-10-05T21:51:50.609Z"
      },
      {
        "duration": 575,
        "start_time": "2021-10-05T21:51:50.651Z"
      },
      {
        "duration": 73,
        "start_time": "2021-10-05T21:51:51.155Z"
      },
      {
        "duration": 30,
        "start_time": "2021-10-05T21:51:51.199Z"
      },
      {
        "duration": 26,
        "start_time": "2021-10-05T21:51:51.204Z"
      },
      {
        "duration": 21,
        "start_time": "2021-10-05T21:51:51.210Z"
      },
      {
        "duration": 17,
        "start_time": "2021-10-05T21:51:51.215Z"
      },
      {
        "duration": 13,
        "start_time": "2021-10-05T21:51:51.220Z"
      },
      {
        "duration": 219,
        "start_time": "2021-10-05T21:57:32.356Z"
      },
      {
        "duration": 153,
        "start_time": "2021-10-05T21:57:50.046Z"
      },
      {
        "duration": 162,
        "start_time": "2021-10-05T21:58:35.707Z"
      },
      {
        "duration": 43,
        "start_time": "2021-10-05T21:58:52.120Z"
      },
      {
        "duration": 124,
        "start_time": "2021-10-05T21:58:55.566Z"
      },
      {
        "duration": 165,
        "start_time": "2021-10-05T22:00:05.120Z"
      },
      {
        "duration": 364,
        "start_time": "2021-10-05T22:00:37.351Z"
      },
      {
        "duration": 11,
        "start_time": "2021-10-05T22:00:45.134Z"
      },
      {
        "duration": 390,
        "start_time": "2021-10-05T22:00:59.918Z"
      },
      {
        "duration": 12,
        "start_time": "2021-10-05T22:01:02.284Z"
      },
      {
        "duration": 22,
        "start_time": "2021-10-05T22:01:05.483Z"
      },
      {
        "duration": 51,
        "start_time": "2021-10-05T22:02:09.565Z"
      },
      {
        "duration": 515,
        "start_time": "2021-10-05T22:03:21.855Z"
      },
      {
        "duration": 141,
        "start_time": "2021-10-05T22:03:29.740Z"
      },
      {
        "duration": 1105,
        "start_time": "2021-10-05T22:03:46.494Z"
      },
      {
        "duration": 928,
        "start_time": "2021-10-05T22:03:47.601Z"
      },
      {
        "duration": 6,
        "start_time": "2021-10-05T22:03:48.531Z"
      },
      {
        "duration": 15,
        "start_time": "2021-10-05T22:03:48.539Z"
      },
      {
        "duration": 185,
        "start_time": "2021-10-05T22:03:48.555Z"
      },
      {
        "duration": 83,
        "start_time": "2021-10-05T22:03:48.741Z"
      },
      {
        "duration": 32,
        "start_time": "2021-10-05T22:03:48.826Z"
      },
      {
        "duration": 76,
        "start_time": "2021-10-05T22:03:48.860Z"
      },
      {
        "duration": 17,
        "start_time": "2021-10-05T22:03:48.939Z"
      },
      {
        "duration": 45,
        "start_time": "2021-10-05T22:03:48.958Z"
      },
      {
        "duration": 19,
        "start_time": "2021-10-05T22:03:49.004Z"
      },
      {
        "duration": 20,
        "start_time": "2021-10-05T22:03:49.024Z"
      },
      {
        "duration": 17,
        "start_time": "2021-10-05T22:03:49.045Z"
      },
      {
        "duration": 51,
        "start_time": "2021-10-05T22:03:49.064Z"
      },
      {
        "duration": 83,
        "start_time": "2021-10-05T22:03:49.117Z"
      },
      {
        "duration": 18,
        "start_time": "2021-10-05T22:03:49.202Z"
      },
      {
        "duration": 30,
        "start_time": "2021-10-05T22:03:49.221Z"
      },
      {
        "duration": 22,
        "start_time": "2021-10-05T22:03:49.252Z"
      },
      {
        "duration": 42,
        "start_time": "2021-10-05T22:03:49.275Z"
      },
      {
        "duration": 123,
        "start_time": "2021-10-05T22:03:49.319Z"
      },
      {
        "duration": 149,
        "start_time": "2021-10-05T22:03:49.444Z"
      },
      {
        "duration": 59,
        "start_time": "2021-10-05T22:03:49.594Z"
      },
      {
        "duration": 3,
        "start_time": "2021-10-05T22:03:49.654Z"
      },
      {
        "duration": 467,
        "start_time": "2021-10-05T22:03:49.659Z"
      },
      {
        "duration": 84,
        "start_time": "2021-10-05T22:03:50.127Z"
      },
      {
        "duration": 41,
        "start_time": "2021-10-05T22:03:50.213Z"
      },
      {
        "duration": 96,
        "start_time": "2021-10-05T22:03:50.259Z"
      },
      {
        "duration": 4,
        "start_time": "2021-10-05T22:03:50.357Z"
      },
      {
        "duration": 13591,
        "start_time": "2021-10-05T22:03:50.363Z"
      },
      {
        "duration": 287,
        "start_time": "2021-10-05T22:04:03.956Z"
      },
      {
        "duration": 19,
        "start_time": "2021-10-05T22:04:04.245Z"
      },
      {
        "duration": 58,
        "start_time": "2021-10-05T22:04:04.266Z"
      },
      {
        "duration": 4,
        "start_time": "2021-10-05T22:04:04.326Z"
      },
      {
        "duration": 58,
        "start_time": "2021-10-05T22:04:04.332Z"
      },
      {
        "duration": 10,
        "start_time": "2021-10-05T22:04:04.400Z"
      },
      {
        "duration": 2,
        "start_time": "2021-10-05T22:04:04.412Z"
      },
      {
        "duration": 135,
        "start_time": "2021-10-05T22:04:04.416Z"
      },
      {
        "duration": 9,
        "start_time": "2021-10-05T22:04:04.553Z"
      },
      {
        "duration": 57,
        "start_time": "2021-10-05T22:04:04.563Z"
      },
      {
        "duration": 396,
        "start_time": "2021-10-05T22:04:04.622Z"
      },
      {
        "duration": 237,
        "start_time": "2021-10-05T22:04:05.020Z"
      },
      {
        "duration": 98,
        "start_time": "2021-10-05T22:04:05.161Z"
      },
      {
        "duration": 76,
        "start_time": "2021-10-05T22:04:05.185Z"
      },
      {
        "duration": 71,
        "start_time": "2021-10-05T22:04:05.191Z"
      },
      {
        "duration": 67,
        "start_time": "2021-10-05T22:04:05.196Z"
      },
      {
        "duration": 40,
        "start_time": "2021-10-05T22:04:05.224Z"
      },
      {
        "duration": 35,
        "start_time": "2021-10-05T22:04:05.231Z"
      },
      {
        "duration": 965,
        "start_time": "2021-10-05T22:06:13.265Z"
      },
      {
        "duration": 23,
        "start_time": "2021-10-05T22:06:25.292Z"
      },
      {
        "duration": 131,
        "start_time": "2021-10-05T22:06:42.273Z"
      },
      {
        "duration": 83,
        "start_time": "2021-10-05T22:06:52.065Z"
      },
      {
        "duration": 10,
        "start_time": "2021-10-05T22:07:29.158Z"
      },
      {
        "duration": 323,
        "start_time": "2021-10-05T22:07:30.765Z"
      },
      {
        "duration": 1579,
        "start_time": "2021-10-05T22:07:33.474Z"
      },
      {
        "duration": 31,
        "start_time": "2021-10-05T22:07:50.447Z"
      },
      {
        "duration": 34,
        "start_time": "2021-10-05T22:08:35.084Z"
      },
      {
        "duration": 12,
        "start_time": "2021-10-05T22:08:42.458Z"
      },
      {
        "duration": 14,
        "start_time": "2021-10-05T22:08:46.646Z"
      },
      {
        "duration": 11,
        "start_time": "2021-10-05T22:09:37.205Z"
      },
      {
        "duration": 10,
        "start_time": "2021-10-05T22:09:41.027Z"
      },
      {
        "duration": 13,
        "start_time": "2021-10-05T22:10:29.220Z"
      },
      {
        "duration": 15,
        "start_time": "2021-10-05T22:10:30.841Z"
      },
      {
        "duration": 75,
        "start_time": "2021-10-05T22:10:35.577Z"
      },
      {
        "duration": 3,
        "start_time": "2021-10-05T22:10:36.771Z"
      },
      {
        "duration": 130,
        "start_time": "2021-10-05T22:10:37.988Z"
      },
      {
        "duration": 3,
        "start_time": "2021-10-05T22:14:40.631Z"
      },
      {
        "duration": 4,
        "start_time": "2021-10-05T22:14:46.904Z"
      },
      {
        "duration": 134,
        "start_time": "2021-10-05T22:14:54.664Z"
      },
      {
        "duration": 132,
        "start_time": "2021-10-05T22:15:08.710Z"
      },
      {
        "duration": 2,
        "start_time": "2021-10-05T22:16:08.402Z"
      },
      {
        "duration": 4,
        "start_time": "2021-10-05T22:16:10.737Z"
      },
      {
        "duration": 525,
        "start_time": "2021-10-05T22:16:37.874Z"
      },
      {
        "duration": 49,
        "start_time": "2021-10-05T22:17:07.161Z"
      },
      {
        "duration": 47,
        "start_time": "2021-10-05T22:17:13.233Z"
      },
      {
        "duration": 173,
        "start_time": "2021-10-05T22:17:20.252Z"
      },
      {
        "duration": 44,
        "start_time": "2021-10-05T22:17:31.410Z"
      },
      {
        "duration": 4,
        "start_time": "2021-10-05T22:17:33.893Z"
      },
      {
        "duration": 4,
        "start_time": "2021-10-05T22:17:36.957Z"
      },
      {
        "duration": 43,
        "start_time": "2021-10-05T22:17:43.886Z"
      },
      {
        "duration": 5,
        "start_time": "2021-10-05T22:17:47.201Z"
      },
      {
        "duration": 4,
        "start_time": "2021-10-05T22:17:50.185Z"
      },
      {
        "duration": 45,
        "start_time": "2021-10-05T22:21:12.160Z"
      },
      {
        "duration": 7,
        "start_time": "2021-10-05T22:21:17.017Z"
      },
      {
        "duration": 139,
        "start_time": "2021-10-05T22:21:53.564Z"
      },
      {
        "duration": 1265,
        "start_time": "2021-10-06T14:37:21.724Z"
      },
      {
        "duration": 1010,
        "start_time": "2021-10-06T14:37:22.991Z"
      },
      {
        "duration": 8,
        "start_time": "2021-10-06T14:37:24.003Z"
      },
      {
        "duration": 18,
        "start_time": "2021-10-06T14:37:24.012Z"
      },
      {
        "duration": 203,
        "start_time": "2021-10-06T14:37:24.032Z"
      },
      {
        "duration": 87,
        "start_time": "2021-10-06T14:37:24.237Z"
      },
      {
        "duration": 37,
        "start_time": "2021-10-06T14:37:24.326Z"
      },
      {
        "duration": 66,
        "start_time": "2021-10-06T14:37:24.365Z"
      },
      {
        "duration": 20,
        "start_time": "2021-10-06T14:37:24.450Z"
      },
      {
        "duration": 32,
        "start_time": "2021-10-06T14:37:24.472Z"
      },
      {
        "duration": 22,
        "start_time": "2021-10-06T14:37:24.506Z"
      },
      {
        "duration": 22,
        "start_time": "2021-10-06T14:37:24.549Z"
      },
      {
        "duration": 18,
        "start_time": "2021-10-06T14:37:24.573Z"
      },
      {
        "duration": 33,
        "start_time": "2021-10-06T14:37:24.593Z"
      },
      {
        "duration": 77,
        "start_time": "2021-10-06T14:37:24.649Z"
      },
      {
        "duration": 36,
        "start_time": "2021-10-06T14:37:24.728Z"
      },
      {
        "duration": 33,
        "start_time": "2021-10-06T14:37:24.766Z"
      },
      {
        "duration": 22,
        "start_time": "2021-10-06T14:37:24.801Z"
      },
      {
        "duration": 48,
        "start_time": "2021-10-06T14:37:24.825Z"
      },
      {
        "duration": 136,
        "start_time": "2021-10-06T14:37:24.876Z"
      },
      {
        "duration": 172,
        "start_time": "2021-10-06T14:37:25.014Z"
      },
      {
        "duration": 79,
        "start_time": "2021-10-06T14:37:25.189Z"
      },
      {
        "duration": 3,
        "start_time": "2021-10-06T14:37:25.273Z"
      },
      {
        "duration": 437,
        "start_time": "2021-10-06T14:37:25.279Z"
      },
      {
        "duration": 88,
        "start_time": "2021-10-06T14:37:25.719Z"
      },
      {
        "duration": 52,
        "start_time": "2021-10-06T14:37:25.809Z"
      },
      {
        "duration": 97,
        "start_time": "2021-10-06T14:37:25.863Z"
      },
      {
        "duration": 3,
        "start_time": "2021-10-06T14:37:25.962Z"
      },
      {
        "duration": 13975,
        "start_time": "2021-10-06T14:37:25.967Z"
      },
      {
        "duration": 293,
        "start_time": "2021-10-06T14:37:39.943Z"
      },
      {
        "duration": 26,
        "start_time": "2021-10-06T14:37:40.237Z"
      },
      {
        "duration": 46,
        "start_time": "2021-10-06T14:37:40.265Z"
      },
      {
        "duration": 5,
        "start_time": "2021-10-06T14:37:40.313Z"
      },
      {
        "duration": 84,
        "start_time": "2021-10-06T14:37:40.319Z"
      },
      {
        "duration": 11,
        "start_time": "2021-10-06T14:37:40.405Z"
      },
      {
        "duration": 67,
        "start_time": "2021-10-06T14:37:40.418Z"
      },
      {
        "duration": 122,
        "start_time": "2021-10-06T14:37:40.487Z"
      },
      {
        "duration": 7,
        "start_time": "2021-10-06T14:37:40.611Z"
      },
      {
        "duration": 61,
        "start_time": "2021-10-06T14:37:40.620Z"
      },
      {
        "duration": 476,
        "start_time": "2021-10-06T14:37:40.683Z"
      },
      {
        "duration": 10,
        "start_time": "2021-10-06T14:37:41.161Z"
      },
      {
        "duration": 88,
        "start_time": "2021-10-06T14:37:41.172Z"
      },
      {
        "duration": 3,
        "start_time": "2021-10-06T14:37:41.262Z"
      },
      {
        "duration": 183,
        "start_time": "2021-10-06T14:37:41.267Z"
      },
      {
        "duration": 98,
        "start_time": "2021-10-06T14:37:41.452Z"
      },
      {
        "duration": 425,
        "start_time": "2021-10-06T14:37:41.127Z"
      },
      {
        "duration": 410,
        "start_time": "2021-10-06T14:38:21.502Z"
      },
      {
        "duration": 209,
        "start_time": "2021-10-06T14:38:29.842Z"
      },
      {
        "duration": 145,
        "start_time": "2021-10-06T14:40:08.104Z"
      },
      {
        "duration": 100,
        "start_time": "2021-10-06T14:40:27.851Z"
      },
      {
        "duration": 225,
        "start_time": "2021-10-06T14:42:04.766Z"
      },
      {
        "duration": 166,
        "start_time": "2021-10-06T14:42:09.102Z"
      },
      {
        "duration": 174,
        "start_time": "2021-10-06T14:42:10.278Z"
      },
      {
        "duration": 4,
        "start_time": "2021-10-06T14:44:27.381Z"
      },
      {
        "duration": 477,
        "start_time": "2021-10-06T14:44:59.227Z"
      },
      {
        "duration": 4,
        "start_time": "2021-10-06T14:45:05.883Z"
      },
      {
        "duration": 4,
        "start_time": "2021-10-06T14:45:11.002Z"
      },
      {
        "duration": 3,
        "start_time": "2021-10-06T14:45:12.894Z"
      },
      {
        "duration": 224,
        "start_time": "2021-10-06T14:45:14.730Z"
      },
      {
        "duration": 81,
        "start_time": "2021-10-06T14:45:44.872Z"
      },
      {
        "duration": 5,
        "start_time": "2021-10-06T14:45:49.910Z"
      },
      {
        "duration": 59,
        "start_time": "2021-10-06T14:46:23.902Z"
      },
      {
        "duration": 3,
        "start_time": "2021-10-06T14:46:25.726Z"
      },
      {
        "duration": 3,
        "start_time": "2021-10-06T14:46:27.076Z"
      },
      {
        "duration": 59,
        "start_time": "2021-10-06T14:46:28.747Z"
      },
      {
        "duration": 16,
        "start_time": "2021-10-06T14:46:37.277Z"
      },
      {
        "duration": 13,
        "start_time": "2021-10-06T14:46:40.459Z"
      },
      {
        "duration": 5,
        "start_time": "2021-10-06T14:46:44.576Z"
      },
      {
        "duration": 5,
        "start_time": "2021-10-06T14:47:13.119Z"
      },
      {
        "duration": 3,
        "start_time": "2021-10-06T14:47:30.211Z"
      },
      {
        "duration": 5,
        "start_time": "2021-10-06T14:47:32.929Z"
      },
      {
        "duration": 6,
        "start_time": "2021-10-06T14:51:00.073Z"
      },
      {
        "duration": 3,
        "start_time": "2021-10-06T14:51:18.368Z"
      },
      {
        "duration": 7,
        "start_time": "2021-10-06T14:51:20.667Z"
      },
      {
        "duration": 3,
        "start_time": "2021-10-06T14:52:20.991Z"
      },
      {
        "duration": 3,
        "start_time": "2021-10-06T14:52:27.754Z"
      },
      {
        "duration": 3,
        "start_time": "2021-10-06T14:53:04.781Z"
      },
      {
        "duration": 234,
        "start_time": "2021-10-06T14:53:34.409Z"
      },
      {
        "duration": 546565,
        "start_time": "2021-10-06T14:53:40.956Z"
      },
      {
        "duration": 16,
        "start_time": "2021-10-06T15:10:23.066Z"
      },
      {
        "duration": 15,
        "start_time": "2021-10-06T15:10:37.374Z"
      },
      {
        "duration": 13,
        "start_time": "2021-10-06T15:10:39.142Z"
      },
      {
        "duration": 12,
        "start_time": "2021-10-06T15:11:02.384Z"
      },
      {
        "duration": 13,
        "start_time": "2021-10-06T15:11:03.100Z"
      },
      {
        "duration": 7,
        "start_time": "2021-10-06T15:11:07.708Z"
      },
      {
        "duration": 4,
        "start_time": "2021-10-06T15:11:52.468Z"
      },
      {
        "duration": 61,
        "start_time": "2021-10-06T15:11:56.923Z"
      },
      {
        "duration": 67,
        "start_time": "2021-10-06T15:12:32.583Z"
      },
      {
        "duration": 13,
        "start_time": "2021-10-06T15:12:35.891Z"
      },
      {
        "duration": 12,
        "start_time": "2021-10-06T15:12:36.736Z"
      },
      {
        "duration": 14,
        "start_time": "2021-10-06T15:12:37.301Z"
      },
      {
        "duration": 727,
        "start_time": "2021-10-06T15:13:18.643Z"
      },
      {
        "duration": 3,
        "start_time": "2021-10-06T15:14:46.087Z"
      },
      {
        "duration": 3,
        "start_time": "2021-10-06T15:14:48.313Z"
      },
      {
        "duration": 12227,
        "start_time": "2021-10-06T15:15:25.735Z"
      },
      {
        "duration": 8562,
        "start_time": "2021-10-06T15:16:07.587Z"
      },
      {
        "duration": 384106,
        "start_time": "2021-10-06T15:16:22.781Z"
      },
      {
        "duration": 133,
        "start_time": "2021-10-06T15:23:03.627Z"
      },
      {
        "duration": 21189,
        "start_time": "2021-10-06T15:23:24.137Z"
      },
      {
        "duration": 8856,
        "start_time": "2021-10-06T15:23:53.329Z"
      },
      {
        "duration": 91859,
        "start_time": "2021-10-06T15:25:04.820Z"
      },
      {
        "duration": 22164,
        "start_time": "2021-10-06T15:26:43.271Z"
      },
      {
        "duration": 6965,
        "start_time": "2021-10-06T15:49:24.279Z"
      },
      {
        "duration": 460,
        "start_time": "2021-10-06T15:49:30.786Z"
      },
      {
        "duration": 3,
        "start_time": "2021-10-06T15:49:33.556Z"
      },
      {
        "duration": 68635,
        "start_time": "2021-10-06T15:49:35.709Z"
      },
      {
        "duration": 122586,
        "start_time": "2021-10-06T15:51:20.871Z"
      },
      {
        "duration": 727,
        "start_time": "2021-10-06T17:01:22.267Z"
      },
      {
        "duration": 68,
        "start_time": "2021-10-06T17:01:55.848Z"
      },
      {
        "duration": 3,
        "start_time": "2021-10-06T17:29:28.284Z"
      },
      {
        "duration": 7,
        "start_time": "2021-10-06T17:31:20.778Z"
      },
      {
        "duration": 3,
        "start_time": "2021-10-06T17:32:00.643Z"
      },
      {
        "duration": 4,
        "start_time": "2021-10-06T17:35:33.497Z"
      },
      {
        "duration": 3,
        "start_time": "2021-10-06T17:35:52.402Z"
      },
      {
        "duration": 127,
        "start_time": "2021-10-06T17:39:19.745Z"
      },
      {
        "duration": 4,
        "start_time": "2021-10-06T17:39:24.336Z"
      },
      {
        "duration": 3,
        "start_time": "2021-10-06T17:40:44.371Z"
      },
      {
        "duration": 138,
        "start_time": "2021-10-06T17:40:47.331Z"
      },
      {
        "duration": 3,
        "start_time": "2021-10-06T17:40:56.309Z"
      },
      {
        "duration": 59594,
        "start_time": "2021-10-06T17:40:57.914Z"
      },
      {
        "duration": 6,
        "start_time": "2021-10-06T17:44:00.623Z"
      },
      {
        "duration": 3,
        "start_time": "2021-10-06T17:44:34.316Z"
      },
      {
        "duration": 3,
        "start_time": "2021-10-06T17:44:43.162Z"
      },
      {
        "duration": 3,
        "start_time": "2021-10-06T17:44:47.630Z"
      },
      {
        "duration": 4,
        "start_time": "2021-10-07T06:57:10.203Z"
      },
      {
        "duration": 1265,
        "start_time": "2021-10-07T06:58:02.617Z"
      },
      {
        "duration": 1022,
        "start_time": "2021-10-07T06:58:03.884Z"
      },
      {
        "duration": 7,
        "start_time": "2021-10-07T06:58:04.908Z"
      },
      {
        "duration": 18,
        "start_time": "2021-10-07T06:58:04.917Z"
      },
      {
        "duration": 209,
        "start_time": "2021-10-07T06:58:04.950Z"
      },
      {
        "duration": 86,
        "start_time": "2021-10-07T06:58:05.164Z"
      },
      {
        "duration": 40,
        "start_time": "2021-10-07T06:58:05.252Z"
      },
      {
        "duration": 87,
        "start_time": "2021-10-07T06:58:05.295Z"
      },
      {
        "duration": 18,
        "start_time": "2021-10-07T06:58:05.384Z"
      },
      {
        "duration": 30,
        "start_time": "2021-10-07T06:58:05.404Z"
      },
      {
        "duration": 30,
        "start_time": "2021-10-07T06:58:05.450Z"
      },
      {
        "duration": 22,
        "start_time": "2021-10-07T06:58:05.482Z"
      },
      {
        "duration": 52,
        "start_time": "2021-10-07T06:58:05.506Z"
      },
      {
        "duration": 34,
        "start_time": "2021-10-07T06:58:05.561Z"
      },
      {
        "duration": 95,
        "start_time": "2021-10-07T06:58:05.597Z"
      },
      {
        "duration": 18,
        "start_time": "2021-10-07T06:58:05.694Z"
      },
      {
        "duration": 49,
        "start_time": "2021-10-07T06:58:05.713Z"
      },
      {
        "duration": 21,
        "start_time": "2021-10-07T06:58:05.763Z"
      },
      {
        "duration": 26,
        "start_time": "2021-10-07T06:58:05.785Z"
      },
      {
        "duration": 173,
        "start_time": "2021-10-07T06:58:05.813Z"
      },
      {
        "duration": 173,
        "start_time": "2021-10-07T06:58:05.988Z"
      },
      {
        "duration": 60,
        "start_time": "2021-10-07T06:58:06.163Z"
      },
      {
        "duration": 3,
        "start_time": "2021-10-07T06:58:06.227Z"
      },
      {
        "duration": 477,
        "start_time": "2021-10-07T06:58:06.232Z"
      },
      {
        "duration": 88,
        "start_time": "2021-10-07T06:58:06.711Z"
      },
      {
        "duration": 51,
        "start_time": "2021-10-07T06:58:06.801Z"
      },
      {
        "duration": 95,
        "start_time": "2021-10-07T06:58:06.854Z"
      },
      {
        "duration": 10,
        "start_time": "2021-10-07T06:58:06.952Z"
      },
      {
        "duration": 14493,
        "start_time": "2021-10-07T06:58:06.964Z"
      },
      {
        "duration": 291,
        "start_time": "2021-10-07T06:58:21.460Z"
      },
      {
        "duration": 25,
        "start_time": "2021-10-07T06:58:21.754Z"
      },
      {
        "duration": 47,
        "start_time": "2021-10-07T06:58:21.781Z"
      },
      {
        "duration": 8,
        "start_time": "2021-10-07T06:58:21.849Z"
      },
      {
        "duration": 60,
        "start_time": "2021-10-07T06:58:21.865Z"
      },
      {
        "duration": 29,
        "start_time": "2021-10-07T06:58:21.927Z"
      },
      {
        "duration": 52,
        "start_time": "2021-10-07T06:58:21.959Z"
      },
      {
        "duration": 157,
        "start_time": "2021-10-07T06:58:22.013Z"
      },
      {
        "duration": 8,
        "start_time": "2021-10-07T06:58:22.172Z"
      },
      {
        "duration": 56,
        "start_time": "2021-10-07T06:58:22.182Z"
      },
      {
        "duration": 529,
        "start_time": "2021-10-07T06:58:22.240Z"
      },
      {
        "duration": 9,
        "start_time": "2021-10-07T06:58:22.771Z"
      },
      {
        "duration": 56,
        "start_time": "2021-10-07T06:58:22.782Z"
      },
      {
        "duration": 9,
        "start_time": "2021-10-07T06:58:22.840Z"
      },
      {
        "duration": 6,
        "start_time": "2021-10-07T06:58:22.852Z"
      },
      {
        "duration": 104,
        "start_time": "2021-10-07T06:58:22.860Z"
      },
      {
        "duration": 88,
        "start_time": "2021-10-07T06:58:22.966Z"
      },
      {
        "duration": 7,
        "start_time": "2021-10-07T06:58:23.057Z"
      },
      {
        "duration": 520384,
        "start_time": "2021-10-07T06:58:23.066Z"
      },
      {
        "duration": 705,
        "start_time": "2021-10-07T07:07:03.452Z"
      },
      {
        "duration": 3,
        "start_time": "2021-10-07T07:07:04.158Z"
      },
      {
        "duration": 5597,
        "start_time": "2021-10-07T07:07:04.163Z"
      },
      {
        "duration": 805,
        "start_time": "2021-10-07T07:07:09.761Z"
      },
      {
        "duration": 3,
        "start_time": "2021-10-07T07:07:10.568Z"
      },
      {
        "duration": 4,
        "start_time": "2021-10-07T07:07:10.649Z"
      },
      {
        "duration": 7,
        "start_time": "2021-10-07T07:07:10.655Z"
      },
      {
        "duration": 1178,
        "start_time": "2021-10-07T09:40:55.486Z"
      },
      {
        "duration": 903,
        "start_time": "2021-10-07T09:40:56.665Z"
      },
      {
        "duration": 9,
        "start_time": "2021-10-07T09:40:57.570Z"
      },
      {
        "duration": 16,
        "start_time": "2021-10-07T09:40:57.581Z"
      },
      {
        "duration": 186,
        "start_time": "2021-10-07T09:40:57.599Z"
      },
      {
        "duration": 84,
        "start_time": "2021-10-07T09:40:57.787Z"
      },
      {
        "duration": 32,
        "start_time": "2021-10-07T09:40:57.873Z"
      },
      {
        "duration": 83,
        "start_time": "2021-10-07T09:40:57.908Z"
      },
      {
        "duration": 19,
        "start_time": "2021-10-07T09:40:57.994Z"
      },
      {
        "duration": 44,
        "start_time": "2021-10-07T09:40:58.014Z"
      },
      {
        "duration": 26,
        "start_time": "2021-10-07T09:40:58.059Z"
      },
      {
        "duration": 24,
        "start_time": "2021-10-07T09:40:58.091Z"
      },
      {
        "duration": 38,
        "start_time": "2021-10-07T09:40:58.117Z"
      },
      {
        "duration": 33,
        "start_time": "2021-10-07T09:40:58.157Z"
      },
      {
        "duration": 90,
        "start_time": "2021-10-07T09:40:58.192Z"
      },
      {
        "duration": 18,
        "start_time": "2021-10-07T09:40:58.284Z"
      },
      {
        "duration": 47,
        "start_time": "2021-10-07T09:40:58.303Z"
      },
      {
        "duration": 19,
        "start_time": "2021-10-07T09:40:58.352Z"
      },
      {
        "duration": 24,
        "start_time": "2021-10-07T09:40:58.373Z"
      },
      {
        "duration": 136,
        "start_time": "2021-10-07T09:40:58.399Z"
      },
      {
        "duration": 157,
        "start_time": "2021-10-07T09:40:58.537Z"
      },
      {
        "duration": 66,
        "start_time": "2021-10-07T09:40:58.695Z"
      },
      {
        "duration": 4,
        "start_time": "2021-10-07T09:40:58.765Z"
      },
      {
        "duration": 423,
        "start_time": "2021-10-07T09:40:58.772Z"
      },
      {
        "duration": 85,
        "start_time": "2021-10-07T09:40:59.197Z"
      },
      {
        "duration": 40,
        "start_time": "2021-10-07T09:40:59.284Z"
      },
      {
        "duration": 94,
        "start_time": "2021-10-07T09:40:59.326Z"
      },
      {
        "duration": 5,
        "start_time": "2021-10-07T09:40:59.421Z"
      },
      {
        "duration": 13428,
        "start_time": "2021-10-07T09:40:59.428Z"
      },
      {
        "duration": 282,
        "start_time": "2021-10-07T09:41:12.858Z"
      },
      {
        "duration": 27,
        "start_time": "2021-10-07T09:41:13.143Z"
      },
      {
        "duration": 45,
        "start_time": "2021-10-07T09:41:13.172Z"
      },
      {
        "duration": 6,
        "start_time": "2021-10-07T09:41:13.219Z"
      },
      {
        "duration": 60,
        "start_time": "2021-10-07T09:41:13.250Z"
      },
      {
        "duration": 10,
        "start_time": "2021-10-07T09:41:13.312Z"
      },
      {
        "duration": 69,
        "start_time": "2021-10-07T09:41:13.324Z"
      },
      {
        "duration": 130,
        "start_time": "2021-10-07T09:41:13.395Z"
      },
      {
        "duration": 7,
        "start_time": "2021-10-07T09:41:13.526Z"
      },
      {
        "duration": 53,
        "start_time": "2021-10-07T09:41:13.534Z"
      },
      {
        "duration": 457,
        "start_time": "2021-10-07T09:41:13.589Z"
      },
      {
        "duration": 10,
        "start_time": "2021-10-07T09:41:14.047Z"
      },
      {
        "duration": 63,
        "start_time": "2021-10-07T09:41:14.058Z"
      },
      {
        "duration": 4,
        "start_time": "2021-10-07T09:41:14.122Z"
      },
      {
        "duration": 16,
        "start_time": "2021-10-07T09:41:14.127Z"
      },
      {
        "duration": 62,
        "start_time": "2021-10-07T09:41:14.145Z"
      },
      {
        "duration": 148,
        "start_time": "2021-10-07T09:41:14.208Z"
      },
      {
        "duration": 3,
        "start_time": "2021-10-07T09:41:14.359Z"
      },
      {
        "duration": 21580,
        "start_time": "2021-10-07T09:41:14.365Z"
      },
      {
        "duration": 165,
        "start_time": "2021-10-07T09:41:35.946Z"
      },
      {
        "duration": 2,
        "start_time": "2021-10-07T09:41:36.113Z"
      },
      {
        "duration": 5637,
        "start_time": "2021-10-07T09:41:36.116Z"
      },
      {
        "duration": 801,
        "start_time": "2021-10-07T09:41:41.754Z"
      },
      {
        "duration": 3,
        "start_time": "2021-10-07T09:41:42.556Z"
      },
      {
        "duration": 5,
        "start_time": "2021-10-07T09:41:42.560Z"
      },
      {
        "duration": 9,
        "start_time": "2021-10-07T09:41:42.567Z"
      },
      {
        "duration": 1157,
        "start_time": "2021-10-07T09:42:17.308Z"
      },
      {
        "duration": 903,
        "start_time": "2021-10-07T09:42:18.467Z"
      },
      {
        "duration": 8,
        "start_time": "2021-10-07T09:42:19.372Z"
      },
      {
        "duration": 16,
        "start_time": "2021-10-07T09:42:19.382Z"
      },
      {
        "duration": 198,
        "start_time": "2021-10-07T09:42:19.400Z"
      },
      {
        "duration": 90,
        "start_time": "2021-10-07T09:42:19.601Z"
      },
      {
        "duration": 33,
        "start_time": "2021-10-07T09:42:19.693Z"
      },
      {
        "duration": 79,
        "start_time": "2021-10-07T09:42:19.729Z"
      },
      {
        "duration": 19,
        "start_time": "2021-10-07T09:42:19.811Z"
      },
      {
        "duration": 45,
        "start_time": "2021-10-07T09:42:19.832Z"
      },
      {
        "duration": 19,
        "start_time": "2021-10-07T09:42:19.879Z"
      },
      {
        "duration": 22,
        "start_time": "2021-10-07T09:42:19.899Z"
      },
      {
        "duration": 43,
        "start_time": "2021-10-07T09:42:19.922Z"
      },
      {
        "duration": 31,
        "start_time": "2021-10-07T09:42:19.967Z"
      },
      {
        "duration": 95,
        "start_time": "2021-10-07T09:42:20.000Z"
      },
      {
        "duration": 20,
        "start_time": "2021-10-07T09:42:20.097Z"
      },
      {
        "duration": 50,
        "start_time": "2021-10-07T09:42:20.119Z"
      },
      {
        "duration": 23,
        "start_time": "2021-10-07T09:42:20.171Z"
      },
      {
        "duration": 26,
        "start_time": "2021-10-07T09:42:20.196Z"
      },
      {
        "duration": 154,
        "start_time": "2021-10-07T09:42:20.225Z"
      },
      {
        "duration": 153,
        "start_time": "2021-10-07T09:42:20.381Z"
      },
      {
        "duration": 61,
        "start_time": "2021-10-07T09:42:20.535Z"
      },
      {
        "duration": 3,
        "start_time": "2021-10-07T09:42:20.601Z"
      },
      {
        "duration": 434,
        "start_time": "2021-10-07T09:42:20.607Z"
      },
      {
        "duration": 74,
        "start_time": "2021-10-07T09:42:21.043Z"
      },
      {
        "duration": 56,
        "start_time": "2021-10-07T09:42:21.119Z"
      },
      {
        "duration": 91,
        "start_time": "2021-10-07T09:42:21.177Z"
      },
      {
        "duration": 4,
        "start_time": "2021-10-07T09:42:21.270Z"
      },
      {
        "duration": 13136,
        "start_time": "2021-10-07T09:42:21.277Z"
      },
      {
        "duration": 276,
        "start_time": "2021-10-07T09:42:34.414Z"
      },
      {
        "duration": 19,
        "start_time": "2021-10-07T09:42:34.691Z"
      },
      {
        "duration": 61,
        "start_time": "2021-10-07T09:42:34.712Z"
      },
      {
        "duration": 4,
        "start_time": "2021-10-07T09:42:34.775Z"
      },
      {
        "duration": 69,
        "start_time": "2021-10-07T09:42:34.781Z"
      },
      {
        "duration": 11,
        "start_time": "2021-10-07T09:42:34.852Z"
      },
      {
        "duration": 46,
        "start_time": "2021-10-07T09:42:34.864Z"
      },
      {
        "duration": 130,
        "start_time": "2021-10-07T09:42:34.911Z"
      },
      {
        "duration": 11,
        "start_time": "2021-10-07T09:42:35.043Z"
      },
      {
        "duration": 53,
        "start_time": "2021-10-07T09:42:35.055Z"
      },
      {
        "duration": 469,
        "start_time": "2021-10-07T09:42:35.110Z"
      },
      {
        "duration": 9,
        "start_time": "2021-10-07T09:42:35.582Z"
      },
      {
        "duration": 67,
        "start_time": "2021-10-07T09:42:35.593Z"
      },
      {
        "duration": 2,
        "start_time": "2021-10-07T09:42:35.662Z"
      },
      {
        "duration": 7,
        "start_time": "2021-10-07T09:42:35.666Z"
      },
      {
        "duration": 93,
        "start_time": "2021-10-07T09:42:35.674Z"
      },
      {
        "duration": 86,
        "start_time": "2021-10-07T09:42:35.769Z"
      },
      {
        "duration": 4,
        "start_time": "2021-10-07T09:42:35.857Z"
      },
      {
        "duration": 3,
        "start_time": "2021-10-07T09:42:35.949Z"
      },
      {
        "duration": 6,
        "start_time": "2021-10-07T09:42:35.954Z"
      },
      {
        "duration": 2668993,
        "start_time": "2021-10-07T09:42:35.961Z"
      },
      {
        "duration": 5,
        "start_time": "2021-10-07T10:31:58.344Z"
      },
      {
        "duration": 4,
        "start_time": "2021-10-07T10:32:06.755Z"
      },
      {
        "duration": 5,
        "start_time": "2021-10-07T10:32:46.912Z"
      },
      {
        "duration": 275,
        "start_time": "2021-10-07T10:32:53.190Z"
      },
      {
        "duration": 4,
        "start_time": "2021-10-07T10:32:57.228Z"
      },
      {
        "duration": 4,
        "start_time": "2021-10-07T10:33:06.341Z"
      },
      {
        "duration": 3,
        "start_time": "2021-10-07T10:34:04.247Z"
      },
      {
        "duration": 4736,
        "start_time": "2021-10-07T10:35:37.355Z"
      },
      {
        "duration": 3,
        "start_time": "2021-10-07T10:36:41.920Z"
      },
      {
        "duration": 2509,
        "start_time": "2021-10-07T10:36:44.046Z"
      },
      {
        "duration": 2,
        "start_time": "2021-10-07T10:37:07.900Z"
      },
      {
        "duration": 8478,
        "start_time": "2021-10-07T10:37:09.936Z"
      },
      {
        "duration": 4,
        "start_time": "2021-10-07T10:37:37.941Z"
      },
      {
        "duration": 3,
        "start_time": "2021-10-07T10:37:45.508Z"
      },
      {
        "duration": 2,
        "start_time": "2021-10-07T10:40:22.563Z"
      },
      {
        "duration": 3,
        "start_time": "2021-10-07T10:40:51.037Z"
      },
      {
        "duration": 1551,
        "start_time": "2021-10-07T10:40:52.596Z"
      },
      {
        "duration": 3,
        "start_time": "2021-10-07T10:40:58.879Z"
      },
      {
        "duration": 1418,
        "start_time": "2021-10-07T10:41:00.450Z"
      },
      {
        "duration": 3,
        "start_time": "2021-10-07T10:41:05.376Z"
      },
      {
        "duration": 1460,
        "start_time": "2021-10-07T10:41:06.712Z"
      },
      {
        "duration": 5,
        "start_time": "2021-10-07T10:41:31.489Z"
      },
      {
        "duration": 3,
        "start_time": "2021-10-07T10:42:34.746Z"
      },
      {
        "duration": 172768,
        "start_time": "2021-10-07T10:42:37.497Z"
      },
      {
        "duration": 264,
        "start_time": "2021-10-07T10:54:43.993Z"
      },
      {
        "duration": 172848,
        "start_time": "2021-10-07T10:55:27.938Z"
      },
      {
        "duration": 6,
        "start_time": "2021-10-07T13:47:10.069Z"
      },
      {
        "duration": 4,
        "start_time": "2021-10-07T13:48:32.348Z"
      },
      {
        "duration": 77,
        "start_time": "2021-10-07T13:49:28.994Z"
      },
      {
        "duration": 103,
        "start_time": "2021-10-07T13:49:50.588Z"
      },
      {
        "duration": 198,
        "start_time": "2021-10-07T13:51:24.982Z"
      },
      {
        "duration": 3,
        "start_time": "2021-10-07T13:53:46.085Z"
      },
      {
        "duration": 2004728,
        "start_time": "2021-10-07T13:54:07.587Z"
      },
      {
        "duration": 4,
        "start_time": "2021-10-07T14:39:30.414Z"
      },
      {
        "duration": 4,
        "start_time": "2021-10-07T14:44:52.941Z"
      },
      {
        "duration": 3,
        "start_time": "2021-10-07T14:45:56.629Z"
      },
      {
        "duration": 434645,
        "start_time": "2021-10-07T14:46:40.526Z"
      },
      {
        "duration": 97,
        "start_time": "2021-10-07T18:59:02.044Z"
      },
      {
        "duration": 66,
        "start_time": "2021-10-07T19:00:54.735Z"
      },
      {
        "duration": 3,
        "start_time": "2021-10-07T19:01:23.649Z"
      },
      {
        "duration": 6788,
        "start_time": "2021-10-07T19:02:19.149Z"
      },
      {
        "duration": 4,
        "start_time": "2021-10-07T19:05:03.522Z"
      },
      {
        "duration": 3,
        "start_time": "2021-10-07T19:05:42.997Z"
      },
      {
        "duration": 3,
        "start_time": "2021-10-07T19:07:08.967Z"
      },
      {
        "duration": 146,
        "start_time": "2021-10-07T19:08:01.242Z"
      },
      {
        "duration": 130,
        "start_time": "2021-10-07T19:08:14.529Z"
      },
      {
        "duration": 248,
        "start_time": "2021-10-07T19:09:05.486Z"
      },
      {
        "duration": 64,
        "start_time": "2021-10-07T19:41:03.829Z"
      },
      {
        "duration": 60,
        "start_time": "2021-10-07T19:41:28.459Z"
      },
      {
        "duration": 76,
        "start_time": "2021-10-07T19:41:32.621Z"
      },
      {
        "duration": 4,
        "start_time": "2021-10-07T19:41:36.671Z"
      },
      {
        "duration": 3,
        "start_time": "2021-10-07T19:42:24.513Z"
      },
      {
        "duration": 335,
        "start_time": "2021-10-07T19:54:32.745Z"
      },
      {
        "duration": 183,
        "start_time": "2021-10-07T19:54:43.730Z"
      },
      {
        "duration": 3,
        "start_time": "2021-10-07T19:54:51.802Z"
      },
      {
        "duration": 357,
        "start_time": "2021-10-07T19:56:52.894Z"
      },
      {
        "duration": 190,
        "start_time": "2021-10-07T19:57:51.520Z"
      },
      {
        "duration": 210,
        "start_time": "2021-10-07T19:57:54.617Z"
      },
      {
        "duration": 227,
        "start_time": "2021-10-07T19:59:37.982Z"
      },
      {
        "duration": 4,
        "start_time": "2021-10-07T19:59:56.055Z"
      },
      {
        "duration": 191,
        "start_time": "2021-10-07T19:59:57.406Z"
      },
      {
        "duration": 2,
        "start_time": "2021-10-07T20:00:11.453Z"
      },
      {
        "duration": 3,
        "start_time": "2021-10-07T20:00:13.607Z"
      },
      {
        "duration": 197,
        "start_time": "2021-10-07T20:00:15.339Z"
      },
      {
        "duration": 182,
        "start_time": "2021-10-07T20:01:26.258Z"
      },
      {
        "duration": 2,
        "start_time": "2021-10-07T20:01:35.030Z"
      },
      {
        "duration": 3,
        "start_time": "2021-10-07T20:01:38.054Z"
      },
      {
        "duration": 192,
        "start_time": "2021-10-07T20:01:39.389Z"
      },
      {
        "duration": 3,
        "start_time": "2021-10-07T20:02:35.389Z"
      },
      {
        "duration": 189,
        "start_time": "2021-10-07T20:02:42.428Z"
      },
      {
        "duration": 3,
        "start_time": "2021-10-07T20:24:54.219Z"
      },
      {
        "duration": 195,
        "start_time": "2021-10-07T20:24:58.008Z"
      },
      {
        "duration": 3014,
        "start_time": "2021-10-07T20:25:07.341Z"
      },
      {
        "duration": 2873,
        "start_time": "2021-10-07T20:25:21.284Z"
      },
      {
        "duration": 249,
        "start_time": "2021-10-07T20:25:44.211Z"
      },
      {
        "duration": 3,
        "start_time": "2021-10-07T20:26:02.159Z"
      },
      {
        "duration": 3037,
        "start_time": "2021-10-07T20:26:03.417Z"
      },
      {
        "duration": 235,
        "start_time": "2021-10-07T20:26:10.223Z"
      },
      {
        "duration": 70,
        "start_time": "2021-10-07T20:27:45.050Z"
      },
      {
        "duration": 3,
        "start_time": "2021-10-07T20:28:13.068Z"
      },
      {
        "duration": 2479,
        "start_time": "2021-10-07T20:28:15.672Z"
      },
      {
        "duration": 210,
        "start_time": "2021-10-07T20:28:20.448Z"
      },
      {
        "duration": 3,
        "start_time": "2021-10-07T20:28:25.226Z"
      },
      {
        "duration": 2517,
        "start_time": "2021-10-07T20:28:26.539Z"
      },
      {
        "duration": 271,
        "start_time": "2021-10-07T20:28:30.682Z"
      },
      {
        "duration": 3,
        "start_time": "2021-10-07T20:28:35.893Z"
      },
      {
        "duration": 2948,
        "start_time": "2021-10-07T20:28:37.208Z"
      },
      {
        "duration": 265,
        "start_time": "2021-10-07T20:29:00.809Z"
      },
      {
        "duration": 1129,
        "start_time": "2021-10-07T20:38:53.736Z"
      },
      {
        "duration": 1325,
        "start_time": "2021-10-07T20:38:54.867Z"
      },
      {
        "duration": 7,
        "start_time": "2021-10-07T20:38:56.194Z"
      },
      {
        "duration": 17,
        "start_time": "2021-10-07T20:38:56.202Z"
      },
      {
        "duration": 193,
        "start_time": "2021-10-07T20:38:56.221Z"
      },
      {
        "duration": 84,
        "start_time": "2021-10-07T20:38:56.415Z"
      },
      {
        "duration": 31,
        "start_time": "2021-10-07T20:38:56.501Z"
      },
      {
        "duration": 75,
        "start_time": "2021-10-07T20:38:56.534Z"
      },
      {
        "duration": 18,
        "start_time": "2021-10-07T20:38:56.611Z"
      },
      {
        "duration": 48,
        "start_time": "2021-10-07T20:38:56.631Z"
      },
      {
        "duration": 19,
        "start_time": "2021-10-07T20:38:56.681Z"
      },
      {
        "duration": 21,
        "start_time": "2021-10-07T20:38:56.702Z"
      },
      {
        "duration": 33,
        "start_time": "2021-10-07T20:38:56.724Z"
      },
      {
        "duration": 30,
        "start_time": "2021-10-07T20:38:56.759Z"
      },
      {
        "duration": 94,
        "start_time": "2021-10-07T20:38:56.791Z"
      },
      {
        "duration": 18,
        "start_time": "2021-10-07T20:38:56.886Z"
      },
      {
        "duration": 46,
        "start_time": "2021-10-07T20:38:56.906Z"
      },
      {
        "duration": 22,
        "start_time": "2021-10-07T20:38:56.953Z"
      },
      {
        "duration": 24,
        "start_time": "2021-10-07T20:38:56.977Z"
      },
      {
        "duration": 143,
        "start_time": "2021-10-07T20:38:57.003Z"
      },
      {
        "duration": 158,
        "start_time": "2021-10-07T20:38:57.149Z"
      },
      {
        "duration": 61,
        "start_time": "2021-10-07T20:38:57.308Z"
      },
      {
        "duration": 3,
        "start_time": "2021-10-07T20:38:57.371Z"
      },
      {
        "duration": 404,
        "start_time": "2021-10-07T20:38:57.376Z"
      },
      {
        "duration": 86,
        "start_time": "2021-10-07T20:38:57.782Z"
      },
      {
        "duration": 41,
        "start_time": "2021-10-07T20:38:57.870Z"
      },
      {
        "duration": 95,
        "start_time": "2021-10-07T20:38:57.915Z"
      },
      {
        "duration": 4,
        "start_time": "2021-10-07T20:38:58.012Z"
      },
      {
        "duration": 13938,
        "start_time": "2021-10-07T20:38:58.017Z"
      },
      {
        "duration": 267,
        "start_time": "2021-10-07T20:39:11.957Z"
      },
      {
        "duration": 30,
        "start_time": "2021-10-07T20:39:12.225Z"
      },
      {
        "duration": 48,
        "start_time": "2021-10-07T20:39:12.257Z"
      },
      {
        "duration": 6,
        "start_time": "2021-10-07T20:39:12.307Z"
      },
      {
        "duration": 82,
        "start_time": "2021-10-07T20:39:12.314Z"
      },
      {
        "duration": 12,
        "start_time": "2021-10-07T20:39:12.398Z"
      },
      {
        "duration": 70,
        "start_time": "2021-10-07T20:39:12.412Z"
      },
      {
        "duration": 132,
        "start_time": "2021-10-07T20:39:12.484Z"
      },
      {
        "duration": 7,
        "start_time": "2021-10-07T20:39:12.618Z"
      },
      {
        "duration": 64,
        "start_time": "2021-10-07T20:39:12.626Z"
      },
      {
        "duration": 483,
        "start_time": "2021-10-07T20:39:12.691Z"
      },
      {
        "duration": 9,
        "start_time": "2021-10-07T20:39:13.176Z"
      },
      {
        "duration": 62,
        "start_time": "2021-10-07T20:39:13.187Z"
      },
      {
        "duration": 3,
        "start_time": "2021-10-07T20:39:13.251Z"
      },
      {
        "duration": 5,
        "start_time": "2021-10-07T20:39:13.255Z"
      },
      {
        "duration": 56,
        "start_time": "2021-10-07T20:39:13.262Z"
      },
      {
        "duration": 103,
        "start_time": "2021-10-07T20:39:13.350Z"
      },
      {
        "duration": 102,
        "start_time": "2021-10-07T22:02:02.512Z"
      },
      {
        "duration": 1659,
        "start_time": "2021-10-10T20:15:11.352Z"
      },
      {
        "duration": 1395,
        "start_time": "2021-10-10T20:15:14.437Z"
      },
      {
        "duration": 11,
        "start_time": "2021-10-10T20:15:18.583Z"
      },
      {
        "duration": 118,
        "start_time": "2021-10-10T20:15:37.875Z"
      },
      {
        "duration": 9,
        "start_time": "2021-10-10T20:16:26.180Z"
      },
      {
        "duration": 86,
        "start_time": "2021-10-10T20:16:33.390Z"
      },
      {
        "duration": 22,
        "start_time": "2021-10-10T20:16:37.282Z"
      },
      {
        "duration": 22,
        "start_time": "2021-10-10T20:16:55.782Z"
      },
      {
        "duration": 4572,
        "start_time": "2021-10-10T20:17:02.477Z"
      },
      {
        "duration": 74,
        "start_time": "2021-10-10T20:17:24.924Z"
      },
      {
        "duration": 75,
        "start_time": "2021-10-10T20:17:29.480Z"
      },
      {
        "duration": 1264,
        "start_time": "2021-10-10T20:17:32.559Z"
      },
      {
        "duration": 917,
        "start_time": "2021-10-10T20:18:49.580Z"
      },
      {
        "duration": 41,
        "start_time": "2021-10-10T20:19:07.458Z"
      },
      {
        "duration": 23,
        "start_time": "2021-10-10T20:19:13.944Z"
      },
      {
        "duration": 14,
        "start_time": "2021-10-10T20:19:21.532Z"
      },
      {
        "duration": 40,
        "start_time": "2021-10-10T20:19:28.714Z"
      },
      {
        "duration": 176,
        "start_time": "2021-10-10T20:19:52.324Z"
      },
      {
        "duration": 536,
        "start_time": "2021-10-10T20:20:24.002Z"
      },
      {
        "duration": 1910,
        "start_time": "2021-10-10T20:20:32.080Z"
      },
      {
        "duration": 1850,
        "start_time": "2021-10-10T20:20:38.074Z"
      },
      {
        "duration": 1820,
        "start_time": "2021-10-10T20:20:44.188Z"
      },
      {
        "duration": 574,
        "start_time": "2021-10-10T20:20:49.262Z"
      },
      {
        "duration": 20,
        "start_time": "2021-10-10T20:21:20.192Z"
      },
      {
        "duration": 59,
        "start_time": "2021-10-10T20:21:29.331Z"
      },
      {
        "duration": 60,
        "start_time": "2021-10-10T20:31:06.293Z"
      },
      {
        "duration": 7,
        "start_time": "2021-10-10T20:35:47.705Z"
      },
      {
        "duration": 6,
        "start_time": "2021-10-10T20:35:58.042Z"
      },
      {
        "duration": 11,
        "start_time": "2021-10-10T20:36:04.467Z"
      },
      {
        "duration": 9,
        "start_time": "2021-10-10T20:36:42.380Z"
      },
      {
        "duration": 25,
        "start_time": "2021-10-10T20:36:51.663Z"
      },
      {
        "duration": 263,
        "start_time": "2021-10-10T20:37:13.577Z"
      },
      {
        "duration": 297,
        "start_time": "2021-10-10T20:38:01.747Z"
      },
      {
        "duration": 20,
        "start_time": "2021-10-10T20:38:08.649Z"
      },
      {
        "duration": 280,
        "start_time": "2021-10-10T20:38:49.629Z"
      },
      {
        "duration": 17,
        "start_time": "2021-10-10T20:39:13.258Z"
      },
      {
        "duration": 270,
        "start_time": "2021-10-10T20:40:00.954Z"
      },
      {
        "duration": 368,
        "start_time": "2021-10-10T20:40:09.374Z"
      },
      {
        "duration": 20,
        "start_time": "2021-10-10T20:40:15.874Z"
      },
      {
        "duration": 283,
        "start_time": "2021-10-10T20:40:29.664Z"
      },
      {
        "duration": 23,
        "start_time": "2021-10-10T20:40:31.431Z"
      },
      {
        "duration": 23,
        "start_time": "2021-10-10T20:40:54.310Z"
      },
      {
        "duration": 24,
        "start_time": "2021-10-10T20:41:15.569Z"
      },
      {
        "duration": 23,
        "start_time": "2021-10-10T20:41:41.489Z"
      },
      {
        "duration": 19,
        "start_time": "2021-10-10T20:43:47.478Z"
      },
      {
        "duration": 291,
        "start_time": "2021-10-10T20:47:38.813Z"
      },
      {
        "duration": 289,
        "start_time": "2021-10-10T20:47:55.273Z"
      },
      {
        "duration": 23,
        "start_time": "2021-10-10T20:47:58.656Z"
      },
      {
        "duration": 27,
        "start_time": "2021-10-10T20:48:05.667Z"
      },
      {
        "duration": 22,
        "start_time": "2021-10-10T20:48:12.060Z"
      },
      {
        "duration": 24,
        "start_time": "2021-10-10T20:48:25.661Z"
      },
      {
        "duration": 92,
        "start_time": "2021-10-10T20:48:34.941Z"
      },
      {
        "duration": 106,
        "start_time": "2021-10-10T20:48:46.929Z"
      },
      {
        "duration": 87,
        "start_time": "2021-10-10T20:48:51.165Z"
      },
      {
        "duration": 256,
        "start_time": "2021-10-10T20:48:56.357Z"
      },
      {
        "duration": 24,
        "start_time": "2021-10-10T20:49:03.160Z"
      },
      {
        "duration": 12,
        "start_time": "2021-10-10T20:50:09.570Z"
      },
      {
        "duration": 14,
        "start_time": "2021-10-10T20:50:12.187Z"
      },
      {
        "duration": 1566,
        "start_time": "2021-10-10T21:05:25.788Z"
      },
      {
        "duration": 1431,
        "start_time": "2021-10-10T21:05:27.356Z"
      },
      {
        "duration": 29,
        "start_time": "2021-10-10T21:05:28.790Z"
      },
      {
        "duration": 270,
        "start_time": "2021-10-10T21:05:28.822Z"
      },
      {
        "duration": 130,
        "start_time": "2021-10-10T21:05:29.095Z"
      },
      {
        "duration": 55,
        "start_time": "2021-10-10T21:05:29.227Z"
      },
      {
        "duration": 111,
        "start_time": "2021-10-10T21:05:29.285Z"
      },
      {
        "duration": 27,
        "start_time": "2021-10-10T21:05:29.399Z"
      },
      {
        "duration": 64,
        "start_time": "2021-10-10T21:05:29.430Z"
      },
      {
        "duration": 28,
        "start_time": "2021-10-10T21:05:29.497Z"
      },
      {
        "duration": 58,
        "start_time": "2021-10-10T21:05:29.527Z"
      },
      {
        "duration": 26,
        "start_time": "2021-10-10T21:05:29.588Z"
      },
      {
        "duration": 66,
        "start_time": "2021-10-10T21:05:29.616Z"
      },
      {
        "duration": 137,
        "start_time": "2021-10-10T21:05:29.684Z"
      },
      {
        "duration": 27,
        "start_time": "2021-10-10T21:05:29.824Z"
      },
      {
        "duration": 68,
        "start_time": "2021-10-10T21:05:29.853Z"
      },
      {
        "duration": 55,
        "start_time": "2021-10-10T21:05:29.924Z"
      },
      {
        "duration": 40,
        "start_time": "2021-10-10T21:05:29.982Z"
      },
      {
        "duration": 217,
        "start_time": "2021-10-10T21:05:30.024Z"
      },
      {
        "duration": 258,
        "start_time": "2021-10-10T21:05:30.243Z"
      },
      {
        "duration": 104,
        "start_time": "2021-10-10T21:05:30.503Z"
      },
      {
        "duration": 5,
        "start_time": "2021-10-10T21:05:30.609Z"
      },
      {
        "duration": 777,
        "start_time": "2021-10-10T21:05:30.616Z"
      },
      {
        "duration": 137,
        "start_time": "2021-10-10T21:05:31.396Z"
      },
      {
        "duration": 77,
        "start_time": "2021-10-10T21:05:31.536Z"
      },
      {
        "duration": 147,
        "start_time": "2021-10-10T21:05:31.616Z"
      },
      {
        "duration": 7,
        "start_time": "2021-10-10T21:05:31.773Z"
      },
      {
        "duration": 26264,
        "start_time": "2021-10-10T21:05:31.784Z"
      },
      {
        "duration": 480,
        "start_time": "2021-10-10T21:05:58.050Z"
      },
      {
        "duration": 54,
        "start_time": "2021-10-10T21:05:58.533Z"
      },
      {
        "duration": 85,
        "start_time": "2021-10-10T21:05:58.589Z"
      },
      {
        "duration": 6,
        "start_time": "2021-10-10T21:05:58.677Z"
      },
      {
        "duration": 96,
        "start_time": "2021-10-10T21:05:58.685Z"
      },
      {
        "duration": 16,
        "start_time": "2021-10-10T21:05:58.783Z"
      },
      {
        "duration": 78,
        "start_time": "2021-10-10T21:05:58.801Z"
      },
      {
        "duration": 207,
        "start_time": "2021-10-10T21:05:58.881Z"
      },
      {
        "duration": 10,
        "start_time": "2021-10-10T21:05:59.090Z"
      },
      {
        "duration": 80,
        "start_time": "2021-10-10T21:05:59.102Z"
      },
      {
        "duration": 752,
        "start_time": "2021-10-10T21:05:59.185Z"
      },
      {
        "duration": 11,
        "start_time": "2021-10-10T21:05:59.940Z"
      },
      {
        "duration": 68,
        "start_time": "2021-10-10T21:05:59.953Z"
      },
      {
        "duration": 4,
        "start_time": "2021-10-10T21:06:00.024Z"
      },
      {
        "duration": 13,
        "start_time": "2021-10-10T21:06:00.030Z"
      },
      {
        "duration": 77,
        "start_time": "2021-10-10T21:06:00.045Z"
      },
      {
        "duration": 157,
        "start_time": "2021-10-10T21:06:00.124Z"
      },
      {
        "duration": 82,
        "start_time": "2021-10-10T21:06:00.284Z"
      },
      {
        "duration": 677926,
        "start_time": "2021-10-10T21:06:00.370Z"
      },
      {
        "duration": 1001,
        "start_time": "2021-10-10T21:17:18.299Z"
      },
      {
        "duration": 14,
        "start_time": "2021-10-10T21:17:19.303Z"
      },
      {
        "duration": 62,
        "start_time": "2021-10-10T21:17:19.320Z"
      },
      {
        "duration": 103,
        "start_time": "2021-10-10T21:26:40.107Z"
      },
      {
        "duration": 5,
        "start_time": "2021-10-10T21:26:43.229Z"
      },
      {
        "duration": 426,
        "start_time": "2021-10-10T21:31:36.556Z"
      },
      {
        "duration": 330,
        "start_time": "2021-10-10T21:32:42.643Z"
      },
      {
        "duration": 546,
        "start_time": "2021-10-10T21:33:15.568Z"
      },
      {
        "duration": 394,
        "start_time": "2021-10-10T21:33:24.641Z"
      },
      {
        "duration": 420,
        "start_time": "2021-10-10T21:33:52.167Z"
      },
      {
        "duration": 299,
        "start_time": "2021-10-10T21:34:13.759Z"
      },
      {
        "duration": 92,
        "start_time": "2021-10-10T21:34:21.432Z"
      },
      {
        "duration": 500,
        "start_time": "2021-10-10T21:34:24.359Z"
      },
      {
        "duration": 412,
        "start_time": "2021-10-10T21:34:54.501Z"
      },
      {
        "duration": 409,
        "start_time": "2021-10-10T21:35:37.403Z"
      },
      {
        "duration": 307,
        "start_time": "2021-10-10T21:37:23.792Z"
      },
      {
        "duration": 281,
        "start_time": "2021-10-10T21:37:36.679Z"
      },
      {
        "duration": 287,
        "start_time": "2021-10-10T21:37:44.413Z"
      },
      {
        "duration": 259,
        "start_time": "2021-10-10T21:37:58.351Z"
      },
      {
        "duration": 248,
        "start_time": "2021-10-10T21:38:09.953Z"
      },
      {
        "duration": 4,
        "start_time": "2021-10-10T21:38:14.578Z"
      },
      {
        "duration": 9,
        "start_time": "2021-10-10T21:38:19.928Z"
      },
      {
        "duration": 8,
        "start_time": "2021-10-10T21:38:45.469Z"
      },
      {
        "duration": 15,
        "start_time": "2021-10-10T21:38:47.326Z"
      },
      {
        "duration": 917,
        "start_time": "2021-10-10T21:39:00.754Z"
      },
      {
        "duration": 5,
        "start_time": "2021-10-10T21:39:21.811Z"
      },
      {
        "duration": 10,
        "start_time": "2021-10-10T21:39:23.626Z"
      },
      {
        "duration": 7,
        "start_time": "2021-10-10T21:39:32.572Z"
      },
      {
        "duration": 12,
        "start_time": "2021-10-10T21:39:33.669Z"
      },
      {
        "duration": 15,
        "start_time": "2021-10-10T21:39:35.407Z"
      },
      {
        "duration": 4,
        "start_time": "2021-10-10T21:39:41.564Z"
      },
      {
        "duration": 11,
        "start_time": "2021-10-10T21:39:42.914Z"
      },
      {
        "duration": 7,
        "start_time": "2021-10-10T21:40:05.565Z"
      },
      {
        "duration": 18,
        "start_time": "2021-10-10T21:40:07.559Z"
      },
      {
        "duration": 387,
        "start_time": "2021-10-10T21:40:22.533Z"
      },
      {
        "duration": 5,
        "start_time": "2021-10-10T21:40:37.696Z"
      },
      {
        "duration": 10,
        "start_time": "2021-10-10T21:40:41.034Z"
      },
      {
        "duration": 250,
        "start_time": "2021-10-10T21:41:18.660Z"
      },
      {
        "duration": 287,
        "start_time": "2021-10-10T21:41:31.853Z"
      },
      {
        "duration": 6,
        "start_time": "2021-10-10T21:41:42.773Z"
      },
      {
        "duration": 313,
        "start_time": "2021-10-10T21:41:47.567Z"
      },
      {
        "duration": 270,
        "start_time": "2021-10-10T21:41:50.852Z"
      },
      {
        "duration": 277,
        "start_time": "2021-10-10T21:42:00.206Z"
      },
      {
        "duration": 5,
        "start_time": "2021-10-10T21:42:10.038Z"
      },
      {
        "duration": 283,
        "start_time": "2021-10-10T21:42:12.202Z"
      },
      {
        "duration": 10,
        "start_time": "2021-10-10T21:42:20.541Z"
      },
      {
        "duration": 6,
        "start_time": "2021-10-10T21:42:28.617Z"
      },
      {
        "duration": 6,
        "start_time": "2021-10-10T21:43:03.345Z"
      },
      {
        "duration": 11,
        "start_time": "2021-10-10T21:43:08.964Z"
      },
      {
        "duration": 328,
        "start_time": "2021-10-10T21:43:31.790Z"
      },
      {
        "duration": 498,
        "start_time": "2021-10-10T21:43:51.217Z"
      },
      {
        "duration": 499,
        "start_time": "2021-10-10T21:44:03.934Z"
      },
      {
        "duration": 341,
        "start_time": "2021-10-10T21:44:30.533Z"
      },
      {
        "duration": 412,
        "start_time": "2021-10-10T21:44:34.020Z"
      },
      {
        "duration": 5,
        "start_time": "2021-10-10T21:44:47.456Z"
      },
      {
        "duration": 12,
        "start_time": "2021-10-10T21:44:56.600Z"
      },
      {
        "duration": 360,
        "start_time": "2021-10-10T21:45:15.847Z"
      },
      {
        "duration": 305,
        "start_time": "2021-10-10T21:45:44.415Z"
      },
      {
        "duration": 359,
        "start_time": "2021-10-10T21:45:47.859Z"
      },
      {
        "duration": 339,
        "start_time": "2021-10-10T21:46:38.819Z"
      },
      {
        "duration": 256,
        "start_time": "2021-10-10T21:47:30.013Z"
      },
      {
        "duration": 4,
        "start_time": "2021-10-10T21:50:56.730Z"
      },
      {
        "duration": 17971,
        "start_time": "2021-10-10T21:50:58.609Z"
      },
      {
        "duration": 10,
        "start_time": "2021-10-10T21:52:13.007Z"
      },
      {
        "duration": 14,
        "start_time": "2021-10-10T21:52:14.825Z"
      },
      {
        "duration": 10,
        "start_time": "2021-10-10T21:52:21.244Z"
      },
      {
        "duration": 14,
        "start_time": "2021-10-10T21:52:22.938Z"
      },
      {
        "duration": 292,
        "start_time": "2021-10-10T21:53:07.698Z"
      },
      {
        "duration": 419,
        "start_time": "2021-10-10T21:53:53.694Z"
      },
      {
        "duration": 6,
        "start_time": "2021-10-10T21:55:21.079Z"
      },
      {
        "duration": 251,
        "start_time": "2021-10-10T21:55:56.026Z"
      },
      {
        "duration": 4,
        "start_time": "2021-10-10T22:00:29.134Z"
      },
      {
        "duration": 6,
        "start_time": "2021-10-10T22:00:42.640Z"
      }
    ],
    "kernelspec": {
      "display_name": "Python 3 (ipykernel)",
      "language": "python",
      "name": "python3"
    },
    "language_info": {
      "codemirror_mode": {
        "name": "ipython",
        "version": 3
      },
      "file_extension": ".py",
      "mimetype": "text/x-python",
      "name": "python",
      "nbconvert_exporter": "python",
      "pygments_lexer": "ipython3",
      "version": "3.9.5"
    },
    "toc": {
      "base_numbering": 1,
      "nav_menu": {},
      "number_sections": true,
      "sideBar": true,
      "skip_h1_title": true,
      "title_cell": "Table of Contents",
      "title_sidebar": "Contents",
      "toc_cell": false,
      "toc_position": {},
      "toc_section_display": true,
      "toc_window_display": false
    },
    "colab": {
      "name": "Копия блокнота \"13-Car-price-prediction.ipynb\"",
      "provenance": [],
      "collapsed_sections": [
        "xAI3M0ntpQTM",
        "c4ZMdxRApQTN",
        "iHZx49IApQTO",
        "sI51WcbFpQTS",
        "hj3LipmNpQTU",
        "SdTkQgYqpQTV",
        "VXcbE5jZpQTX",
        "3nZ-KWGWpQUD",
        "laeTKCikpQUE",
        "z-owBpUlpQUI",
        "tLGOdx9wpQUK"
      ]
    }
  },
  "nbformat": 4,
  "nbformat_minor": 0
}