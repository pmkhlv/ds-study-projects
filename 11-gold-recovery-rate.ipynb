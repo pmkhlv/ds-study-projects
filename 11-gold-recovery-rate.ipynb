{
  "cells": [
    {
      "cell_type": "markdown",
      "metadata": {
        "id": "kxgq8aZ04m4-"
      },
      "source": [
        "# Recovering gold from ore"
      ]
    },
    {
      "cell_type": "markdown",
      "metadata": {
        "id": "Z-jWMJDy4m4_"
      },
      "source": [
        "Preparing a model that should predict the recovery rate of gold from gold-bearing ore. We have data with mining and refining parameters.\n",
        "\n",
        "The model will help to optimize production, so as not to start the plant with unprofitable characteristics.\n",
        "\n",
        "Plan of the project:\n",
        "\n",
        "1. Preparing the data;\n",
        "2. EDA;\n",
        "3. Building and training the model."
      ]
    },
    {
      "cell_type": "markdown",
      "metadata": {
        "id": "flpoF1VI4m4_"
      },
      "source": [
        "## Preparing the data"
      ]
    },
    {
      "cell_type": "markdown",
      "metadata": {
        "id": "1BKUV-Ux4m5A"
      },
      "source": [
        "### Discover the data"
      ]
    },
    {
      "cell_type": "markdown",
      "metadata": {
        "id": "abtacjaw4m5A"
      },
      "source": [
        "Loading necessary libraries and tools."
      ]
    },
    {
      "cell_type": "code",
      "execution_count": null,
      "metadata": {
        "id": "y6JnKk094m5B"
      },
      "outputs": [],
      "source": [
        "import pandas as pd\n",
        "import numpy as np\n",
        "from numpy.random import RandomState\n",
        "from sklearn import metrics\n",
        "from sklearn.pipeline import Pipeline\n",
        "from sklearn.impute import SimpleImputer\n",
        "from sklearn.preprocessing import StandardScaler, Imputer\n",
        "from sklearn.ensemble import RandomForestRegressor\n",
        "from sklearn.linear_model import LinearRegression, Lasso\n",
        "from sklearn.model_selection import GridSearchCV\n",
        "import matplotlib.pyplot as plt\n",
        "import seaborn as sns"
      ]
    },
    {
      "cell_type": "code",
      "execution_count": null,
      "metadata": {
        "id": "X44VYY1-4m5C"
      },
      "outputs": [],
      "source": [
        "pd.set_option('display.max_columns', 100)\n",
        "pd.set_option('display.max_rows', 100)\n",
        "sns.set_palette('Dark2')"
      ]
    },
    {
      "cell_type": "markdown",
      "metadata": {
        "id": "Q-xXXb1f4m5C"
      },
      "source": [
        "<br>\n",
        "Loading data files."
      ]
    },
    {
      "cell_type": "code",
      "execution_count": null,
      "metadata": {
        "id": "g1BdsUCK4m5D"
      },
      "outputs": [],
      "source": [
        "gold_train = pd.read_csv('/datasets/gold_recovery_train.csv', index_col='date')\n",
        "gold_test = pd.read_csv('/datasets/gold_recovery_test.csv', index_col='date')\n",
        "gold_full = pd.read_csv('/datasets/gold_recovery_full.csv', index_col='date')\n",
        "\n",
        "df_list = [gold_train, gold_test, gold_full]\n",
        "name_list = ['gold_train', 'gold_test', 'gold_full']"
      ]
    },
    {
      "cell_type": "markdown",
      "metadata": {
        "id": "pL_cI3eB4m5D"
      },
      "source": [
        "<br>\n",
        "Let's see what a complete dataset looks like."
      ]
    },
    {
      "cell_type": "code",
      "execution_count": null,
      "metadata": {
        "scrolled": false,
        "id": "7GZyVcmP4m5E",
        "outputId": "47ba00a1-8f16-4fa4-bdf8-336903ae1f4e"
      },
      "outputs": [
        {
          "data": {
            "text/html": [
              "<div>\n",
              "<style scoped>\n",
              "    .dataframe tbody tr th:only-of-type {\n",
              "        vertical-align: middle;\n",
              "    }\n",
              "\n",
              "    .dataframe tbody tr th {\n",
              "        vertical-align: top;\n",
              "    }\n",
              "\n",
              "    .dataframe thead th {\n",
              "        text-align: right;\n",
              "    }\n",
              "</style>\n",
              "<table border=\"1\" class=\"dataframe\">\n",
              "  <thead>\n",
              "    <tr style=\"text-align: right;\">\n",
              "      <th></th>\n",
              "      <th>final.output.concentrate_ag</th>\n",
              "      <th>final.output.concentrate_pb</th>\n",
              "      <th>final.output.concentrate_sol</th>\n",
              "      <th>final.output.concentrate_au</th>\n",
              "      <th>final.output.recovery</th>\n",
              "      <th>final.output.tail_ag</th>\n",
              "      <th>final.output.tail_pb</th>\n",
              "      <th>final.output.tail_sol</th>\n",
              "      <th>final.output.tail_au</th>\n",
              "      <th>primary_cleaner.input.sulfate</th>\n",
              "      <th>primary_cleaner.input.depressant</th>\n",
              "      <th>primary_cleaner.input.feed_size</th>\n",
              "      <th>primary_cleaner.input.xanthate</th>\n",
              "      <th>primary_cleaner.output.concentrate_ag</th>\n",
              "      <th>primary_cleaner.output.concentrate_pb</th>\n",
              "      <th>primary_cleaner.output.concentrate_sol</th>\n",
              "      <th>primary_cleaner.output.concentrate_au</th>\n",
              "      <th>primary_cleaner.output.tail_ag</th>\n",
              "      <th>primary_cleaner.output.tail_pb</th>\n",
              "      <th>primary_cleaner.output.tail_sol</th>\n",
              "      <th>primary_cleaner.output.tail_au</th>\n",
              "      <th>primary_cleaner.state.floatbank8_a_air</th>\n",
              "      <th>primary_cleaner.state.floatbank8_a_level</th>\n",
              "      <th>primary_cleaner.state.floatbank8_b_air</th>\n",
              "      <th>primary_cleaner.state.floatbank8_b_level</th>\n",
              "      <th>primary_cleaner.state.floatbank8_c_air</th>\n",
              "      <th>primary_cleaner.state.floatbank8_c_level</th>\n",
              "      <th>primary_cleaner.state.floatbank8_d_air</th>\n",
              "      <th>primary_cleaner.state.floatbank8_d_level</th>\n",
              "      <th>rougher.calculation.sulfate_to_au_concentrate</th>\n",
              "      <th>rougher.calculation.floatbank10_sulfate_to_au_feed</th>\n",
              "      <th>rougher.calculation.floatbank11_sulfate_to_au_feed</th>\n",
              "      <th>rougher.calculation.au_pb_ratio</th>\n",
              "      <th>rougher.input.feed_ag</th>\n",
              "      <th>rougher.input.feed_pb</th>\n",
              "      <th>rougher.input.feed_rate</th>\n",
              "      <th>rougher.input.feed_size</th>\n",
              "      <th>rougher.input.feed_sol</th>\n",
              "      <th>rougher.input.feed_au</th>\n",
              "      <th>rougher.input.floatbank10_sulfate</th>\n",
              "      <th>rougher.input.floatbank10_xanthate</th>\n",
              "      <th>rougher.input.floatbank11_sulfate</th>\n",
              "      <th>rougher.input.floatbank11_xanthate</th>\n",
              "      <th>rougher.output.concentrate_ag</th>\n",
              "      <th>rougher.output.concentrate_pb</th>\n",
              "      <th>rougher.output.concentrate_sol</th>\n",
              "      <th>rougher.output.concentrate_au</th>\n",
              "      <th>rougher.output.recovery</th>\n",
              "      <th>rougher.output.tail_ag</th>\n",
              "      <th>rougher.output.tail_pb</th>\n",
              "      <th>rougher.output.tail_sol</th>\n",
              "      <th>rougher.output.tail_au</th>\n",
              "      <th>rougher.state.floatbank10_a_air</th>\n",
              "      <th>rougher.state.floatbank10_a_level</th>\n",
              "      <th>rougher.state.floatbank10_b_air</th>\n",
              "      <th>rougher.state.floatbank10_b_level</th>\n",
              "      <th>rougher.state.floatbank10_c_air</th>\n",
              "      <th>rougher.state.floatbank10_c_level</th>\n",
              "      <th>rougher.state.floatbank10_d_air</th>\n",
              "      <th>rougher.state.floatbank10_d_level</th>\n",
              "      <th>rougher.state.floatbank10_e_air</th>\n",
              "      <th>rougher.state.floatbank10_e_level</th>\n",
              "      <th>rougher.state.floatbank10_f_air</th>\n",
              "      <th>rougher.state.floatbank10_f_level</th>\n",
              "      <th>secondary_cleaner.output.tail_ag</th>\n",
              "      <th>secondary_cleaner.output.tail_pb</th>\n",
              "      <th>secondary_cleaner.output.tail_sol</th>\n",
              "      <th>secondary_cleaner.output.tail_au</th>\n",
              "      <th>secondary_cleaner.state.floatbank2_a_air</th>\n",
              "      <th>secondary_cleaner.state.floatbank2_a_level</th>\n",
              "      <th>secondary_cleaner.state.floatbank2_b_air</th>\n",
              "      <th>secondary_cleaner.state.floatbank2_b_level</th>\n",
              "      <th>secondary_cleaner.state.floatbank3_a_air</th>\n",
              "      <th>secondary_cleaner.state.floatbank3_a_level</th>\n",
              "      <th>secondary_cleaner.state.floatbank3_b_air</th>\n",
              "      <th>secondary_cleaner.state.floatbank3_b_level</th>\n",
              "      <th>secondary_cleaner.state.floatbank4_a_air</th>\n",
              "      <th>secondary_cleaner.state.floatbank4_a_level</th>\n",
              "      <th>secondary_cleaner.state.floatbank4_b_air</th>\n",
              "      <th>secondary_cleaner.state.floatbank4_b_level</th>\n",
              "      <th>secondary_cleaner.state.floatbank5_a_air</th>\n",
              "      <th>secondary_cleaner.state.floatbank5_a_level</th>\n",
              "      <th>secondary_cleaner.state.floatbank5_b_air</th>\n",
              "      <th>secondary_cleaner.state.floatbank5_b_level</th>\n",
              "      <th>secondary_cleaner.state.floatbank6_a_air</th>\n",
              "      <th>secondary_cleaner.state.floatbank6_a_level</th>\n",
              "    </tr>\n",
              "    <tr>\n",
              "      <th>date</th>\n",
              "      <th></th>\n",
              "      <th></th>\n",
              "      <th></th>\n",
              "      <th></th>\n",
              "      <th></th>\n",
              "      <th></th>\n",
              "      <th></th>\n",
              "      <th></th>\n",
              "      <th></th>\n",
              "      <th></th>\n",
              "      <th></th>\n",
              "      <th></th>\n",
              "      <th></th>\n",
              "      <th></th>\n",
              "      <th></th>\n",
              "      <th></th>\n",
              "      <th></th>\n",
              "      <th></th>\n",
              "      <th></th>\n",
              "      <th></th>\n",
              "      <th></th>\n",
              "      <th></th>\n",
              "      <th></th>\n",
              "      <th></th>\n",
              "      <th></th>\n",
              "      <th></th>\n",
              "      <th></th>\n",
              "      <th></th>\n",
              "      <th></th>\n",
              "      <th></th>\n",
              "      <th></th>\n",
              "      <th></th>\n",
              "      <th></th>\n",
              "      <th></th>\n",
              "      <th></th>\n",
              "      <th></th>\n",
              "      <th></th>\n",
              "      <th></th>\n",
              "      <th></th>\n",
              "      <th></th>\n",
              "      <th></th>\n",
              "      <th></th>\n",
              "      <th></th>\n",
              "      <th></th>\n",
              "      <th></th>\n",
              "      <th></th>\n",
              "      <th></th>\n",
              "      <th></th>\n",
              "      <th></th>\n",
              "      <th></th>\n",
              "      <th></th>\n",
              "      <th></th>\n",
              "      <th></th>\n",
              "      <th></th>\n",
              "      <th></th>\n",
              "      <th></th>\n",
              "      <th></th>\n",
              "      <th></th>\n",
              "      <th></th>\n",
              "      <th></th>\n",
              "      <th></th>\n",
              "      <th></th>\n",
              "      <th></th>\n",
              "      <th></th>\n",
              "      <th></th>\n",
              "      <th></th>\n",
              "      <th></th>\n",
              "      <th></th>\n",
              "      <th></th>\n",
              "      <th></th>\n",
              "      <th></th>\n",
              "      <th></th>\n",
              "      <th></th>\n",
              "      <th></th>\n",
              "      <th></th>\n",
              "      <th></th>\n",
              "      <th></th>\n",
              "      <th></th>\n",
              "      <th></th>\n",
              "      <th></th>\n",
              "      <th></th>\n",
              "      <th></th>\n",
              "      <th></th>\n",
              "      <th></th>\n",
              "      <th></th>\n",
              "      <th></th>\n",
              "    </tr>\n",
              "  </thead>\n",
              "  <tbody>\n",
              "    <tr>\n",
              "      <td>2016-01-15 00:00:00</td>\n",
              "      <td>6.055403</td>\n",
              "      <td>9.889648</td>\n",
              "      <td>5.507324</td>\n",
              "      <td>42.192020</td>\n",
              "      <td>70.541216</td>\n",
              "      <td>10.411962</td>\n",
              "      <td>0.895447</td>\n",
              "      <td>16.904297</td>\n",
              "      <td>2.143149</td>\n",
              "      <td>127.092003</td>\n",
              "      <td>10.128295</td>\n",
              "      <td>7.25</td>\n",
              "      <td>0.988759</td>\n",
              "      <td>8.547551</td>\n",
              "      <td>10.389648</td>\n",
              "      <td>19.529297</td>\n",
              "      <td>34.174427</td>\n",
              "      <td>14.936526</td>\n",
              "      <td>2.534912</td>\n",
              "      <td>7.476074</td>\n",
              "      <td>2.106679</td>\n",
              "      <td>1549.775757</td>\n",
              "      <td>-498.912140</td>\n",
              "      <td>1551.434204</td>\n",
              "      <td>-516.403442</td>\n",
              "      <td>1549.873901</td>\n",
              "      <td>-498.666595</td>\n",
              "      <td>1554.367432</td>\n",
              "      <td>-493.428131</td>\n",
              "      <td>41885.707031</td>\n",
              "      <td>3481.779053</td>\n",
              "      <td>3520.337158</td>\n",
              "      <td>2.838687</td>\n",
              "      <td>6.100378</td>\n",
              "      <td>2.284912</td>\n",
              "      <td>523.546326</td>\n",
              "      <td>55.486599</td>\n",
              "      <td>36.808594</td>\n",
              "      <td>6.486150</td>\n",
              "      <td>11.986616</td>\n",
              "      <td>6.007990</td>\n",
              "      <td>11.836743</td>\n",
              "      <td>6.005818</td>\n",
              "      <td>11.500771</td>\n",
              "      <td>7.101074</td>\n",
              "      <td>28.029297</td>\n",
              "      <td>19.793808</td>\n",
              "      <td>87.107763</td>\n",
              "      <td>5.008018</td>\n",
              "      <td>0.508728</td>\n",
              "      <td>19.154297</td>\n",
              "      <td>1.170244</td>\n",
              "      <td>999.706909</td>\n",
              "      <td>-404.066986</td>\n",
              "      <td>1603.011353</td>\n",
              "      <td>-434.715027</td>\n",
              "      <td>1602.375000</td>\n",
              "      <td>-442.204468</td>\n",
              "      <td>1598.937256</td>\n",
              "      <td>-451.294128</td>\n",
              "      <td>1404.472046</td>\n",
              "      <td>-455.462982</td>\n",
              "      <td>1416.354980</td>\n",
              "      <td>-451.939636</td>\n",
              "      <td>14.500184</td>\n",
              "      <td>4.694824</td>\n",
              "      <td>8.764648</td>\n",
              "      <td>2.606185</td>\n",
              "      <td>25.853109</td>\n",
              "      <td>-498.526489</td>\n",
              "      <td>23.893660</td>\n",
              "      <td>-501.406281</td>\n",
              "      <td>23.961798</td>\n",
              "      <td>-495.262817</td>\n",
              "      <td>21.940409</td>\n",
              "      <td>-499.340973</td>\n",
              "      <td>14.016835</td>\n",
              "      <td>-502.488007</td>\n",
              "      <td>12.099931</td>\n",
              "      <td>-504.715942</td>\n",
              "      <td>9.925633</td>\n",
              "      <td>-498.310211</td>\n",
              "      <td>8.079666</td>\n",
              "      <td>-500.470978</td>\n",
              "      <td>14.151341</td>\n",
              "      <td>-605.841980</td>\n",
              "    </tr>\n",
              "    <tr>\n",
              "      <td>2016-01-15 01:00:00</td>\n",
              "      <td>6.029369</td>\n",
              "      <td>9.968944</td>\n",
              "      <td>5.257781</td>\n",
              "      <td>42.701629</td>\n",
              "      <td>69.266198</td>\n",
              "      <td>10.462676</td>\n",
              "      <td>0.927452</td>\n",
              "      <td>16.634514</td>\n",
              "      <td>2.224930</td>\n",
              "      <td>125.629232</td>\n",
              "      <td>10.296251</td>\n",
              "      <td>7.25</td>\n",
              "      <td>1.002663</td>\n",
              "      <td>8.558743</td>\n",
              "      <td>10.497069</td>\n",
              "      <td>19.369147</td>\n",
              "      <td>34.118526</td>\n",
              "      <td>16.250511</td>\n",
              "      <td>3.049646</td>\n",
              "      <td>6.733907</td>\n",
              "      <td>2.353017</td>\n",
              "      <td>1576.166671</td>\n",
              "      <td>-500.904965</td>\n",
              "      <td>1575.950626</td>\n",
              "      <td>-499.865889</td>\n",
              "      <td>1575.994189</td>\n",
              "      <td>-499.315107</td>\n",
              "      <td>1574.479259</td>\n",
              "      <td>-498.931665</td>\n",
              "      <td>42050.861809</td>\n",
              "      <td>3498.370979</td>\n",
              "      <td>3489.981857</td>\n",
              "      <td>2.858998</td>\n",
              "      <td>6.161113</td>\n",
              "      <td>2.266033</td>\n",
              "      <td>525.290581</td>\n",
              "      <td>57.278666</td>\n",
              "      <td>35.753385</td>\n",
              "      <td>6.478583</td>\n",
              "      <td>11.971193</td>\n",
              "      <td>6.005766</td>\n",
              "      <td>11.996163</td>\n",
              "      <td>6.012594</td>\n",
              "      <td>11.615865</td>\n",
              "      <td>7.278807</td>\n",
              "      <td>28.067063</td>\n",
              "      <td>20.050975</td>\n",
              "      <td>86.843261</td>\n",
              "      <td>4.955378</td>\n",
              "      <td>0.536689</td>\n",
              "      <td>18.965234</td>\n",
              "      <td>1.184827</td>\n",
              "      <td>1000.286398</td>\n",
              "      <td>-400.065196</td>\n",
              "      <td>1600.754587</td>\n",
              "      <td>-449.953435</td>\n",
              "      <td>1600.479580</td>\n",
              "      <td>-449.830646</td>\n",
              "      <td>1600.527589</td>\n",
              "      <td>-449.953649</td>\n",
              "      <td>1399.227084</td>\n",
              "      <td>-450.869848</td>\n",
              "      <td>1399.719514</td>\n",
              "      <td>-450.119001</td>\n",
              "      <td>14.265474</td>\n",
              "      <td>4.592547</td>\n",
              "      <td>9.001494</td>\n",
              "      <td>2.488248</td>\n",
              "      <td>25.880539</td>\n",
              "      <td>-499.989656</td>\n",
              "      <td>23.889530</td>\n",
              "      <td>-500.372428</td>\n",
              "      <td>23.970550</td>\n",
              "      <td>-500.085473</td>\n",
              "      <td>22.085714</td>\n",
              "      <td>-499.446897</td>\n",
              "      <td>13.992281</td>\n",
              "      <td>-505.503262</td>\n",
              "      <td>11.950531</td>\n",
              "      <td>-501.331529</td>\n",
              "      <td>10.039245</td>\n",
              "      <td>-500.169983</td>\n",
              "      <td>7.984757</td>\n",
              "      <td>-500.582168</td>\n",
              "      <td>13.998353</td>\n",
              "      <td>-599.787184</td>\n",
              "    </tr>\n",
              "    <tr>\n",
              "      <td>2016-01-15 02:00:00</td>\n",
              "      <td>6.055926</td>\n",
              "      <td>10.213995</td>\n",
              "      <td>5.383759</td>\n",
              "      <td>42.657501</td>\n",
              "      <td>68.116445</td>\n",
              "      <td>10.507046</td>\n",
              "      <td>0.953716</td>\n",
              "      <td>16.208849</td>\n",
              "      <td>2.257889</td>\n",
              "      <td>123.819808</td>\n",
              "      <td>11.316280</td>\n",
              "      <td>7.25</td>\n",
              "      <td>0.991265</td>\n",
              "      <td>8.603505</td>\n",
              "      <td>10.354494</td>\n",
              "      <td>19.167579</td>\n",
              "      <td>33.969464</td>\n",
              "      <td>16.491823</td>\n",
              "      <td>3.124664</td>\n",
              "      <td>6.471768</td>\n",
              "      <td>2.416800</td>\n",
              "      <td>1601.556163</td>\n",
              "      <td>-499.997791</td>\n",
              "      <td>1600.386685</td>\n",
              "      <td>-500.607762</td>\n",
              "      <td>1602.003542</td>\n",
              "      <td>-500.870069</td>\n",
              "      <td>1599.541515</td>\n",
              "      <td>-499.827444</td>\n",
              "      <td>42018.101184</td>\n",
              "      <td>3495.348910</td>\n",
              "      <td>3502.359819</td>\n",
              "      <td>2.945989</td>\n",
              "      <td>6.116455</td>\n",
              "      <td>2.159622</td>\n",
              "      <td>530.026610</td>\n",
              "      <td>57.510649</td>\n",
              "      <td>35.971630</td>\n",
              "      <td>6.362222</td>\n",
              "      <td>11.920603</td>\n",
              "      <td>6.197377</td>\n",
              "      <td>11.920305</td>\n",
              "      <td>6.204633</td>\n",
              "      <td>11.695753</td>\n",
              "      <td>7.216833</td>\n",
              "      <td>27.454037</td>\n",
              "      <td>19.737170</td>\n",
              "      <td>86.842308</td>\n",
              "      <td>4.843460</td>\n",
              "      <td>0.546416</td>\n",
              "      <td>18.808533</td>\n",
              "      <td>1.162562</td>\n",
              "      <td>999.719565</td>\n",
              "      <td>-400.074028</td>\n",
              "      <td>1599.337330</td>\n",
              "      <td>-450.008530</td>\n",
              "      <td>1599.672797</td>\n",
              "      <td>-449.954491</td>\n",
              "      <td>1599.849325</td>\n",
              "      <td>-449.954185</td>\n",
              "      <td>1399.180945</td>\n",
              "      <td>-449.937588</td>\n",
              "      <td>1400.316682</td>\n",
              "      <td>-450.527147</td>\n",
              "      <td>14.115662</td>\n",
              "      <td>4.624775</td>\n",
              "      <td>8.842896</td>\n",
              "      <td>2.458187</td>\n",
              "      <td>26.005245</td>\n",
              "      <td>-499.929616</td>\n",
              "      <td>23.886657</td>\n",
              "      <td>-499.951928</td>\n",
              "      <td>23.913535</td>\n",
              "      <td>-499.442343</td>\n",
              "      <td>23.957717</td>\n",
              "      <td>-499.901982</td>\n",
              "      <td>14.015015</td>\n",
              "      <td>-502.520901</td>\n",
              "      <td>11.912783</td>\n",
              "      <td>-501.133383</td>\n",
              "      <td>10.070913</td>\n",
              "      <td>-500.129135</td>\n",
              "      <td>8.013877</td>\n",
              "      <td>-500.517572</td>\n",
              "      <td>14.028663</td>\n",
              "      <td>-601.427363</td>\n",
              "    </tr>\n",
              "  </tbody>\n",
              "</table>\n",
              "</div>"
            ],
            "text/plain": [
              "                     final.output.concentrate_ag  final.output.concentrate_pb  \\\n",
              "date                                                                            \n",
              "2016-01-15 00:00:00                     6.055403                     9.889648   \n",
              "2016-01-15 01:00:00                     6.029369                     9.968944   \n",
              "2016-01-15 02:00:00                     6.055926                    10.213995   \n",
              "\n",
              "                     final.output.concentrate_sol  \\\n",
              "date                                                \n",
              "2016-01-15 00:00:00                      5.507324   \n",
              "2016-01-15 01:00:00                      5.257781   \n",
              "2016-01-15 02:00:00                      5.383759   \n",
              "\n",
              "                     final.output.concentrate_au  final.output.recovery  \\\n",
              "date                                                                      \n",
              "2016-01-15 00:00:00                    42.192020              70.541216   \n",
              "2016-01-15 01:00:00                    42.701629              69.266198   \n",
              "2016-01-15 02:00:00                    42.657501              68.116445   \n",
              "\n",
              "                     final.output.tail_ag  final.output.tail_pb  \\\n",
              "date                                                              \n",
              "2016-01-15 00:00:00             10.411962              0.895447   \n",
              "2016-01-15 01:00:00             10.462676              0.927452   \n",
              "2016-01-15 02:00:00             10.507046              0.953716   \n",
              "\n",
              "                     final.output.tail_sol  final.output.tail_au  \\\n",
              "date                                                               \n",
              "2016-01-15 00:00:00              16.904297              2.143149   \n",
              "2016-01-15 01:00:00              16.634514              2.224930   \n",
              "2016-01-15 02:00:00              16.208849              2.257889   \n",
              "\n",
              "                     primary_cleaner.input.sulfate  \\\n",
              "date                                                 \n",
              "2016-01-15 00:00:00                     127.092003   \n",
              "2016-01-15 01:00:00                     125.629232   \n",
              "2016-01-15 02:00:00                     123.819808   \n",
              "\n",
              "                     primary_cleaner.input.depressant  \\\n",
              "date                                                    \n",
              "2016-01-15 00:00:00                         10.128295   \n",
              "2016-01-15 01:00:00                         10.296251   \n",
              "2016-01-15 02:00:00                         11.316280   \n",
              "\n",
              "                     primary_cleaner.input.feed_size  \\\n",
              "date                                                   \n",
              "2016-01-15 00:00:00                             7.25   \n",
              "2016-01-15 01:00:00                             7.25   \n",
              "2016-01-15 02:00:00                             7.25   \n",
              "\n",
              "                     primary_cleaner.input.xanthate  \\\n",
              "date                                                  \n",
              "2016-01-15 00:00:00                        0.988759   \n",
              "2016-01-15 01:00:00                        1.002663   \n",
              "2016-01-15 02:00:00                        0.991265   \n",
              "\n",
              "                     primary_cleaner.output.concentrate_ag  \\\n",
              "date                                                         \n",
              "2016-01-15 00:00:00                               8.547551   \n",
              "2016-01-15 01:00:00                               8.558743   \n",
              "2016-01-15 02:00:00                               8.603505   \n",
              "\n",
              "                     primary_cleaner.output.concentrate_pb  \\\n",
              "date                                                         \n",
              "2016-01-15 00:00:00                              10.389648   \n",
              "2016-01-15 01:00:00                              10.497069   \n",
              "2016-01-15 02:00:00                              10.354494   \n",
              "\n",
              "                     primary_cleaner.output.concentrate_sol  \\\n",
              "date                                                          \n",
              "2016-01-15 00:00:00                               19.529297   \n",
              "2016-01-15 01:00:00                               19.369147   \n",
              "2016-01-15 02:00:00                               19.167579   \n",
              "\n",
              "                     primary_cleaner.output.concentrate_au  \\\n",
              "date                                                         \n",
              "2016-01-15 00:00:00                              34.174427   \n",
              "2016-01-15 01:00:00                              34.118526   \n",
              "2016-01-15 02:00:00                              33.969464   \n",
              "\n",
              "                     primary_cleaner.output.tail_ag  \\\n",
              "date                                                  \n",
              "2016-01-15 00:00:00                       14.936526   \n",
              "2016-01-15 01:00:00                       16.250511   \n",
              "2016-01-15 02:00:00                       16.491823   \n",
              "\n",
              "                     primary_cleaner.output.tail_pb  \\\n",
              "date                                                  \n",
              "2016-01-15 00:00:00                        2.534912   \n",
              "2016-01-15 01:00:00                        3.049646   \n",
              "2016-01-15 02:00:00                        3.124664   \n",
              "\n",
              "                     primary_cleaner.output.tail_sol  \\\n",
              "date                                                   \n",
              "2016-01-15 00:00:00                         7.476074   \n",
              "2016-01-15 01:00:00                         6.733907   \n",
              "2016-01-15 02:00:00                         6.471768   \n",
              "\n",
              "                     primary_cleaner.output.tail_au  \\\n",
              "date                                                  \n",
              "2016-01-15 00:00:00                        2.106679   \n",
              "2016-01-15 01:00:00                        2.353017   \n",
              "2016-01-15 02:00:00                        2.416800   \n",
              "\n",
              "                     primary_cleaner.state.floatbank8_a_air  \\\n",
              "date                                                          \n",
              "2016-01-15 00:00:00                             1549.775757   \n",
              "2016-01-15 01:00:00                             1576.166671   \n",
              "2016-01-15 02:00:00                             1601.556163   \n",
              "\n",
              "                     primary_cleaner.state.floatbank8_a_level  \\\n",
              "date                                                            \n",
              "2016-01-15 00:00:00                               -498.912140   \n",
              "2016-01-15 01:00:00                               -500.904965   \n",
              "2016-01-15 02:00:00                               -499.997791   \n",
              "\n",
              "                     primary_cleaner.state.floatbank8_b_air  \\\n",
              "date                                                          \n",
              "2016-01-15 00:00:00                             1551.434204   \n",
              "2016-01-15 01:00:00                             1575.950626   \n",
              "2016-01-15 02:00:00                             1600.386685   \n",
              "\n",
              "                     primary_cleaner.state.floatbank8_b_level  \\\n",
              "date                                                            \n",
              "2016-01-15 00:00:00                               -516.403442   \n",
              "2016-01-15 01:00:00                               -499.865889   \n",
              "2016-01-15 02:00:00                               -500.607762   \n",
              "\n",
              "                     primary_cleaner.state.floatbank8_c_air  \\\n",
              "date                                                          \n",
              "2016-01-15 00:00:00                             1549.873901   \n",
              "2016-01-15 01:00:00                             1575.994189   \n",
              "2016-01-15 02:00:00                             1602.003542   \n",
              "\n",
              "                     primary_cleaner.state.floatbank8_c_level  \\\n",
              "date                                                            \n",
              "2016-01-15 00:00:00                               -498.666595   \n",
              "2016-01-15 01:00:00                               -499.315107   \n",
              "2016-01-15 02:00:00                               -500.870069   \n",
              "\n",
              "                     primary_cleaner.state.floatbank8_d_air  \\\n",
              "date                                                          \n",
              "2016-01-15 00:00:00                             1554.367432   \n",
              "2016-01-15 01:00:00                             1574.479259   \n",
              "2016-01-15 02:00:00                             1599.541515   \n",
              "\n",
              "                     primary_cleaner.state.floatbank8_d_level  \\\n",
              "date                                                            \n",
              "2016-01-15 00:00:00                               -493.428131   \n",
              "2016-01-15 01:00:00                               -498.931665   \n",
              "2016-01-15 02:00:00                               -499.827444   \n",
              "\n",
              "                     rougher.calculation.sulfate_to_au_concentrate  \\\n",
              "date                                                                 \n",
              "2016-01-15 00:00:00                                   41885.707031   \n",
              "2016-01-15 01:00:00                                   42050.861809   \n",
              "2016-01-15 02:00:00                                   42018.101184   \n",
              "\n",
              "                     rougher.calculation.floatbank10_sulfate_to_au_feed  \\\n",
              "date                                                                      \n",
              "2016-01-15 00:00:00                                        3481.779053    \n",
              "2016-01-15 01:00:00                                        3498.370979    \n",
              "2016-01-15 02:00:00                                        3495.348910    \n",
              "\n",
              "                     rougher.calculation.floatbank11_sulfate_to_au_feed  \\\n",
              "date                                                                      \n",
              "2016-01-15 00:00:00                                        3520.337158    \n",
              "2016-01-15 01:00:00                                        3489.981857    \n",
              "2016-01-15 02:00:00                                        3502.359819    \n",
              "\n",
              "                     rougher.calculation.au_pb_ratio  rougher.input.feed_ag  \\\n",
              "date                                                                          \n",
              "2016-01-15 00:00:00                         2.838687               6.100378   \n",
              "2016-01-15 01:00:00                         2.858998               6.161113   \n",
              "2016-01-15 02:00:00                         2.945989               6.116455   \n",
              "\n",
              "                     rougher.input.feed_pb  rougher.input.feed_rate  \\\n",
              "date                                                                  \n",
              "2016-01-15 00:00:00               2.284912               523.546326   \n",
              "2016-01-15 01:00:00               2.266033               525.290581   \n",
              "2016-01-15 02:00:00               2.159622               530.026610   \n",
              "\n",
              "                     rougher.input.feed_size  rougher.input.feed_sol  \\\n",
              "date                                                                   \n",
              "2016-01-15 00:00:00                55.486599               36.808594   \n",
              "2016-01-15 01:00:00                57.278666               35.753385   \n",
              "2016-01-15 02:00:00                57.510649               35.971630   \n",
              "\n",
              "                     rougher.input.feed_au  rougher.input.floatbank10_sulfate  \\\n",
              "date                                                                            \n",
              "2016-01-15 00:00:00               6.486150                          11.986616   \n",
              "2016-01-15 01:00:00               6.478583                          11.971193   \n",
              "2016-01-15 02:00:00               6.362222                          11.920603   \n",
              "\n",
              "                     rougher.input.floatbank10_xanthate  \\\n",
              "date                                                      \n",
              "2016-01-15 00:00:00                            6.007990   \n",
              "2016-01-15 01:00:00                            6.005766   \n",
              "2016-01-15 02:00:00                            6.197377   \n",
              "\n",
              "                     rougher.input.floatbank11_sulfate  \\\n",
              "date                                                     \n",
              "2016-01-15 00:00:00                          11.836743   \n",
              "2016-01-15 01:00:00                          11.996163   \n",
              "2016-01-15 02:00:00                          11.920305   \n",
              "\n",
              "                     rougher.input.floatbank11_xanthate  \\\n",
              "date                                                      \n",
              "2016-01-15 00:00:00                            6.005818   \n",
              "2016-01-15 01:00:00                            6.012594   \n",
              "2016-01-15 02:00:00                            6.204633   \n",
              "\n",
              "                     rougher.output.concentrate_ag  \\\n",
              "date                                                 \n",
              "2016-01-15 00:00:00                      11.500771   \n",
              "2016-01-15 01:00:00                      11.615865   \n",
              "2016-01-15 02:00:00                      11.695753   \n",
              "\n",
              "                     rougher.output.concentrate_pb  \\\n",
              "date                                                 \n",
              "2016-01-15 00:00:00                       7.101074   \n",
              "2016-01-15 01:00:00                       7.278807   \n",
              "2016-01-15 02:00:00                       7.216833   \n",
              "\n",
              "                     rougher.output.concentrate_sol  \\\n",
              "date                                                  \n",
              "2016-01-15 00:00:00                       28.029297   \n",
              "2016-01-15 01:00:00                       28.067063   \n",
              "2016-01-15 02:00:00                       27.454037   \n",
              "\n",
              "                     rougher.output.concentrate_au  rougher.output.recovery  \\\n",
              "date                                                                          \n",
              "2016-01-15 00:00:00                      19.793808                87.107763   \n",
              "2016-01-15 01:00:00                      20.050975                86.843261   \n",
              "2016-01-15 02:00:00                      19.737170                86.842308   \n",
              "\n",
              "                     rougher.output.tail_ag  rougher.output.tail_pb  \\\n",
              "date                                                                  \n",
              "2016-01-15 00:00:00                5.008018                0.508728   \n",
              "2016-01-15 01:00:00                4.955378                0.536689   \n",
              "2016-01-15 02:00:00                4.843460                0.546416   \n",
              "\n",
              "                     rougher.output.tail_sol  rougher.output.tail_au  \\\n",
              "date                                                                   \n",
              "2016-01-15 00:00:00                19.154297                1.170244   \n",
              "2016-01-15 01:00:00                18.965234                1.184827   \n",
              "2016-01-15 02:00:00                18.808533                1.162562   \n",
              "\n",
              "                     rougher.state.floatbank10_a_air  \\\n",
              "date                                                   \n",
              "2016-01-15 00:00:00                       999.706909   \n",
              "2016-01-15 01:00:00                      1000.286398   \n",
              "2016-01-15 02:00:00                       999.719565   \n",
              "\n",
              "                     rougher.state.floatbank10_a_level  \\\n",
              "date                                                     \n",
              "2016-01-15 00:00:00                        -404.066986   \n",
              "2016-01-15 01:00:00                        -400.065196   \n",
              "2016-01-15 02:00:00                        -400.074028   \n",
              "\n",
              "                     rougher.state.floatbank10_b_air  \\\n",
              "date                                                   \n",
              "2016-01-15 00:00:00                      1603.011353   \n",
              "2016-01-15 01:00:00                      1600.754587   \n",
              "2016-01-15 02:00:00                      1599.337330   \n",
              "\n",
              "                     rougher.state.floatbank10_b_level  \\\n",
              "date                                                     \n",
              "2016-01-15 00:00:00                        -434.715027   \n",
              "2016-01-15 01:00:00                        -449.953435   \n",
              "2016-01-15 02:00:00                        -450.008530   \n",
              "\n",
              "                     rougher.state.floatbank10_c_air  \\\n",
              "date                                                   \n",
              "2016-01-15 00:00:00                      1602.375000   \n",
              "2016-01-15 01:00:00                      1600.479580   \n",
              "2016-01-15 02:00:00                      1599.672797   \n",
              "\n",
              "                     rougher.state.floatbank10_c_level  \\\n",
              "date                                                     \n",
              "2016-01-15 00:00:00                        -442.204468   \n",
              "2016-01-15 01:00:00                        -449.830646   \n",
              "2016-01-15 02:00:00                        -449.954491   \n",
              "\n",
              "                     rougher.state.floatbank10_d_air  \\\n",
              "date                                                   \n",
              "2016-01-15 00:00:00                      1598.937256   \n",
              "2016-01-15 01:00:00                      1600.527589   \n",
              "2016-01-15 02:00:00                      1599.849325   \n",
              "\n",
              "                     rougher.state.floatbank10_d_level  \\\n",
              "date                                                     \n",
              "2016-01-15 00:00:00                        -451.294128   \n",
              "2016-01-15 01:00:00                        -449.953649   \n",
              "2016-01-15 02:00:00                        -449.954185   \n",
              "\n",
              "                     rougher.state.floatbank10_e_air  \\\n",
              "date                                                   \n",
              "2016-01-15 00:00:00                      1404.472046   \n",
              "2016-01-15 01:00:00                      1399.227084   \n",
              "2016-01-15 02:00:00                      1399.180945   \n",
              "\n",
              "                     rougher.state.floatbank10_e_level  \\\n",
              "date                                                     \n",
              "2016-01-15 00:00:00                        -455.462982   \n",
              "2016-01-15 01:00:00                        -450.869848   \n",
              "2016-01-15 02:00:00                        -449.937588   \n",
              "\n",
              "                     rougher.state.floatbank10_f_air  \\\n",
              "date                                                   \n",
              "2016-01-15 00:00:00                      1416.354980   \n",
              "2016-01-15 01:00:00                      1399.719514   \n",
              "2016-01-15 02:00:00                      1400.316682   \n",
              "\n",
              "                     rougher.state.floatbank10_f_level  \\\n",
              "date                                                     \n",
              "2016-01-15 00:00:00                        -451.939636   \n",
              "2016-01-15 01:00:00                        -450.119001   \n",
              "2016-01-15 02:00:00                        -450.527147   \n",
              "\n",
              "                     secondary_cleaner.output.tail_ag  \\\n",
              "date                                                    \n",
              "2016-01-15 00:00:00                         14.500184   \n",
              "2016-01-15 01:00:00                         14.265474   \n",
              "2016-01-15 02:00:00                         14.115662   \n",
              "\n",
              "                     secondary_cleaner.output.tail_pb  \\\n",
              "date                                                    \n",
              "2016-01-15 00:00:00                          4.694824   \n",
              "2016-01-15 01:00:00                          4.592547   \n",
              "2016-01-15 02:00:00                          4.624775   \n",
              "\n",
              "                     secondary_cleaner.output.tail_sol  \\\n",
              "date                                                     \n",
              "2016-01-15 00:00:00                           8.764648   \n",
              "2016-01-15 01:00:00                           9.001494   \n",
              "2016-01-15 02:00:00                           8.842896   \n",
              "\n",
              "                     secondary_cleaner.output.tail_au  \\\n",
              "date                                                    \n",
              "2016-01-15 00:00:00                          2.606185   \n",
              "2016-01-15 01:00:00                          2.488248   \n",
              "2016-01-15 02:00:00                          2.458187   \n",
              "\n",
              "                     secondary_cleaner.state.floatbank2_a_air  \\\n",
              "date                                                            \n",
              "2016-01-15 00:00:00                                 25.853109   \n",
              "2016-01-15 01:00:00                                 25.880539   \n",
              "2016-01-15 02:00:00                                 26.005245   \n",
              "\n",
              "                     secondary_cleaner.state.floatbank2_a_level  \\\n",
              "date                                                              \n",
              "2016-01-15 00:00:00                                 -498.526489   \n",
              "2016-01-15 01:00:00                                 -499.989656   \n",
              "2016-01-15 02:00:00                                 -499.929616   \n",
              "\n",
              "                     secondary_cleaner.state.floatbank2_b_air  \\\n",
              "date                                                            \n",
              "2016-01-15 00:00:00                                 23.893660   \n",
              "2016-01-15 01:00:00                                 23.889530   \n",
              "2016-01-15 02:00:00                                 23.886657   \n",
              "\n",
              "                     secondary_cleaner.state.floatbank2_b_level  \\\n",
              "date                                                              \n",
              "2016-01-15 00:00:00                                 -501.406281   \n",
              "2016-01-15 01:00:00                                 -500.372428   \n",
              "2016-01-15 02:00:00                                 -499.951928   \n",
              "\n",
              "                     secondary_cleaner.state.floatbank3_a_air  \\\n",
              "date                                                            \n",
              "2016-01-15 00:00:00                                 23.961798   \n",
              "2016-01-15 01:00:00                                 23.970550   \n",
              "2016-01-15 02:00:00                                 23.913535   \n",
              "\n",
              "                     secondary_cleaner.state.floatbank3_a_level  \\\n",
              "date                                                              \n",
              "2016-01-15 00:00:00                                 -495.262817   \n",
              "2016-01-15 01:00:00                                 -500.085473   \n",
              "2016-01-15 02:00:00                                 -499.442343   \n",
              "\n",
              "                     secondary_cleaner.state.floatbank3_b_air  \\\n",
              "date                                                            \n",
              "2016-01-15 00:00:00                                 21.940409   \n",
              "2016-01-15 01:00:00                                 22.085714   \n",
              "2016-01-15 02:00:00                                 23.957717   \n",
              "\n",
              "                     secondary_cleaner.state.floatbank3_b_level  \\\n",
              "date                                                              \n",
              "2016-01-15 00:00:00                                 -499.340973   \n",
              "2016-01-15 01:00:00                                 -499.446897   \n",
              "2016-01-15 02:00:00                                 -499.901982   \n",
              "\n",
              "                     secondary_cleaner.state.floatbank4_a_air  \\\n",
              "date                                                            \n",
              "2016-01-15 00:00:00                                 14.016835   \n",
              "2016-01-15 01:00:00                                 13.992281   \n",
              "2016-01-15 02:00:00                                 14.015015   \n",
              "\n",
              "                     secondary_cleaner.state.floatbank4_a_level  \\\n",
              "date                                                              \n",
              "2016-01-15 00:00:00                                 -502.488007   \n",
              "2016-01-15 01:00:00                                 -505.503262   \n",
              "2016-01-15 02:00:00                                 -502.520901   \n",
              "\n",
              "                     secondary_cleaner.state.floatbank4_b_air  \\\n",
              "date                                                            \n",
              "2016-01-15 00:00:00                                 12.099931   \n",
              "2016-01-15 01:00:00                                 11.950531   \n",
              "2016-01-15 02:00:00                                 11.912783   \n",
              "\n",
              "                     secondary_cleaner.state.floatbank4_b_level  \\\n",
              "date                                                              \n",
              "2016-01-15 00:00:00                                 -504.715942   \n",
              "2016-01-15 01:00:00                                 -501.331529   \n",
              "2016-01-15 02:00:00                                 -501.133383   \n",
              "\n",
              "                     secondary_cleaner.state.floatbank5_a_air  \\\n",
              "date                                                            \n",
              "2016-01-15 00:00:00                                  9.925633   \n",
              "2016-01-15 01:00:00                                 10.039245   \n",
              "2016-01-15 02:00:00                                 10.070913   \n",
              "\n",
              "                     secondary_cleaner.state.floatbank5_a_level  \\\n",
              "date                                                              \n",
              "2016-01-15 00:00:00                                 -498.310211   \n",
              "2016-01-15 01:00:00                                 -500.169983   \n",
              "2016-01-15 02:00:00                                 -500.129135   \n",
              "\n",
              "                     secondary_cleaner.state.floatbank5_b_air  \\\n",
              "date                                                            \n",
              "2016-01-15 00:00:00                                  8.079666   \n",
              "2016-01-15 01:00:00                                  7.984757   \n",
              "2016-01-15 02:00:00                                  8.013877   \n",
              "\n",
              "                     secondary_cleaner.state.floatbank5_b_level  \\\n",
              "date                                                              \n",
              "2016-01-15 00:00:00                                 -500.470978   \n",
              "2016-01-15 01:00:00                                 -500.582168   \n",
              "2016-01-15 02:00:00                                 -500.517572   \n",
              "\n",
              "                     secondary_cleaner.state.floatbank6_a_air  \\\n",
              "date                                                            \n",
              "2016-01-15 00:00:00                                 14.151341   \n",
              "2016-01-15 01:00:00                                 13.998353   \n",
              "2016-01-15 02:00:00                                 14.028663   \n",
              "\n",
              "                     secondary_cleaner.state.floatbank6_a_level  \n",
              "date                                                             \n",
              "2016-01-15 00:00:00                                 -605.841980  \n",
              "2016-01-15 01:00:00                                 -599.787184  \n",
              "2016-01-15 02:00:00                                 -601.427363  "
            ]
          },
          "execution_count": 4,
          "metadata": {},
          "output_type": "execute_result"
        }
      ],
      "source": [
        "gold_full.head(3)"
      ]
    },
    {
      "cell_type": "markdown",
      "metadata": {
        "id": "JBAH67mU4m5F"
      },
      "source": [
        "Lots of columns, which will further become features for the model."
      ]
    },
    {
      "cell_type": "markdown",
      "metadata": {
        "id": "3BUb9Gxo4m5F"
      },
      "source": [
        "<br>\n",
        "Estimating datasets sizes."
      ]
    },
    {
      "cell_type": "code",
      "execution_count": null,
      "metadata": {
        "id": "A45PHGoS4m5F",
        "outputId": "6ab9ca95-5713-4e0f-f6d7-934a797ce39f"
      },
      "outputs": [
        {
          "name": "stdout",
          "output_type": "stream",
          "text": [
            "gold_train - (16860, 86)\n",
            "gold_test - (5856, 52)\n",
            "gold_full - (22716, 86)\n"
          ]
        }
      ],
      "source": [
        "for df, name in zip(df_list, name_list):\n",
        "    print(name, '-', df.shape)"
      ]
    },
    {
      "cell_type": "markdown",
      "metadata": {
        "id": "4xung-bG4m5G"
      },
      "source": [
        "The number of columns in the test setis less than in the training set. For our model to be trained correctly, we further remove the necessary columns from the test set."
      ]
    },
    {
      "cell_type": "markdown",
      "metadata": {
        "id": "DpZMMagE4m5G"
      },
      "source": [
        "<br>\n",
        "Analysing data types."
      ]
    },
    {
      "cell_type": "code",
      "execution_count": null,
      "metadata": {
        "scrolled": true,
        "id": "xbM5Ch514m5H",
        "outputId": "60bb942d-0f73-491d-b916-eaa9691ac34d"
      },
      "outputs": [
        {
          "name": "stdout",
          "output_type": "stream",
          "text": [
            "<class 'pandas.core.frame.DataFrame'>\n",
            "Index: 16860 entries, 2016-01-15 00:00:00 to 2018-08-18 10:59:59\n",
            "Data columns (total 86 columns):\n",
            "final.output.concentrate_ag                           16788 non-null float64\n",
            "final.output.concentrate_pb                           16788 non-null float64\n",
            "final.output.concentrate_sol                          16490 non-null float64\n",
            "final.output.concentrate_au                           16789 non-null float64\n",
            "final.output.recovery                                 15339 non-null float64\n",
            "final.output.tail_ag                                  16794 non-null float64\n",
            "final.output.tail_pb                                  16677 non-null float64\n",
            "final.output.tail_sol                                 16715 non-null float64\n",
            "final.output.tail_au                                  16794 non-null float64\n",
            "primary_cleaner.input.sulfate                         15553 non-null float64\n",
            "primary_cleaner.input.depressant                      15598 non-null float64\n",
            "primary_cleaner.input.feed_size                       16860 non-null float64\n",
            "primary_cleaner.input.xanthate                        15875 non-null float64\n",
            "primary_cleaner.output.concentrate_ag                 16778 non-null float64\n",
            "primary_cleaner.output.concentrate_pb                 16502 non-null float64\n",
            "primary_cleaner.output.concentrate_sol                16224 non-null float64\n",
            "primary_cleaner.output.concentrate_au                 16778 non-null float64\n",
            "primary_cleaner.output.tail_ag                        16777 non-null float64\n",
            "primary_cleaner.output.tail_pb                        16761 non-null float64\n",
            "primary_cleaner.output.tail_sol                       16579 non-null float64\n",
            "primary_cleaner.output.tail_au                        16777 non-null float64\n",
            "primary_cleaner.state.floatbank8_a_air                16820 non-null float64\n",
            "primary_cleaner.state.floatbank8_a_level              16827 non-null float64\n",
            "primary_cleaner.state.floatbank8_b_air                16820 non-null float64\n",
            "primary_cleaner.state.floatbank8_b_level              16833 non-null float64\n",
            "primary_cleaner.state.floatbank8_c_air                16822 non-null float64\n",
            "primary_cleaner.state.floatbank8_c_level              16833 non-null float64\n",
            "primary_cleaner.state.floatbank8_d_air                16821 non-null float64\n",
            "primary_cleaner.state.floatbank8_d_level              16833 non-null float64\n",
            "rougher.calculation.sulfate_to_au_concentrate         16833 non-null float64\n",
            "rougher.calculation.floatbank10_sulfate_to_au_feed    16833 non-null float64\n",
            "rougher.calculation.floatbank11_sulfate_to_au_feed    16833 non-null float64\n",
            "rougher.calculation.au_pb_ratio                       15618 non-null float64\n",
            "rougher.input.feed_ag                                 16778 non-null float64\n",
            "rougher.input.feed_pb                                 16632 non-null float64\n",
            "rougher.input.feed_rate                               16347 non-null float64\n",
            "rougher.input.feed_size                               16443 non-null float64\n",
            "rougher.input.feed_sol                                16568 non-null float64\n",
            "rougher.input.feed_au                                 16777 non-null float64\n",
            "rougher.input.floatbank10_sulfate                     15816 non-null float64\n",
            "rougher.input.floatbank10_xanthate                    16514 non-null float64\n",
            "rougher.input.floatbank11_sulfate                     16237 non-null float64\n",
            "rougher.input.floatbank11_xanthate                    14956 non-null float64\n",
            "rougher.output.concentrate_ag                         16778 non-null float64\n",
            "rougher.output.concentrate_pb                         16778 non-null float64\n",
            "rougher.output.concentrate_sol                        16698 non-null float64\n",
            "rougher.output.concentrate_au                         16778 non-null float64\n",
            "rougher.output.recovery                               14287 non-null float64\n",
            "rougher.output.tail_ag                                14610 non-null float64\n",
            "rougher.output.tail_pb                                16778 non-null float64\n",
            "rougher.output.tail_sol                               14611 non-null float64\n",
            "rougher.output.tail_au                                14611 non-null float64\n",
            "rougher.state.floatbank10_a_air                       16807 non-null float64\n",
            "rougher.state.floatbank10_a_level                     16807 non-null float64\n",
            "rougher.state.floatbank10_b_air                       16807 non-null float64\n",
            "rougher.state.floatbank10_b_level                     16807 non-null float64\n",
            "rougher.state.floatbank10_c_air                       16807 non-null float64\n",
            "rougher.state.floatbank10_c_level                     16814 non-null float64\n",
            "rougher.state.floatbank10_d_air                       16802 non-null float64\n",
            "rougher.state.floatbank10_d_level                     16809 non-null float64\n",
            "rougher.state.floatbank10_e_air                       16257 non-null float64\n",
            "rougher.state.floatbank10_e_level                     16809 non-null float64\n",
            "rougher.state.floatbank10_f_air                       16802 non-null float64\n",
            "rougher.state.floatbank10_f_level                     16802 non-null float64\n",
            "secondary_cleaner.output.tail_ag                      16776 non-null float64\n",
            "secondary_cleaner.output.tail_pb                      16764 non-null float64\n",
            "secondary_cleaner.output.tail_sol                     14874 non-null float64\n",
            "secondary_cleaner.output.tail_au                      16778 non-null float64\n",
            "secondary_cleaner.state.floatbank2_a_air              16497 non-null float64\n",
            "secondary_cleaner.state.floatbank2_a_level            16751 non-null float64\n",
            "secondary_cleaner.state.floatbank2_b_air              16705 non-null float64\n",
            "secondary_cleaner.state.floatbank2_b_level            16748 non-null float64\n",
            "secondary_cleaner.state.floatbank3_a_air              16763 non-null float64\n",
            "secondary_cleaner.state.floatbank3_a_level            16747 non-null float64\n",
            "secondary_cleaner.state.floatbank3_b_air              16752 non-null float64\n",
            "secondary_cleaner.state.floatbank3_b_level            16750 non-null float64\n",
            "secondary_cleaner.state.floatbank4_a_air              16731 non-null float64\n",
            "secondary_cleaner.state.floatbank4_a_level            16747 non-null float64\n",
            "secondary_cleaner.state.floatbank4_b_air              16768 non-null float64\n",
            "secondary_cleaner.state.floatbank4_b_level            16767 non-null float64\n",
            "secondary_cleaner.state.floatbank5_a_air              16775 non-null float64\n",
            "secondary_cleaner.state.floatbank5_a_level            16775 non-null float64\n",
            "secondary_cleaner.state.floatbank5_b_air              16775 non-null float64\n",
            "secondary_cleaner.state.floatbank5_b_level            16776 non-null float64\n",
            "secondary_cleaner.state.floatbank6_a_air              16757 non-null float64\n",
            "secondary_cleaner.state.floatbank6_a_level            16775 non-null float64\n",
            "dtypes: float64(86)\n",
            "memory usage: 11.2+ MB\n"
          ]
        }
      ],
      "source": [
        "gold_train.info()"
      ]
    },
    {
      "cell_type": "code",
      "execution_count": null,
      "metadata": {
        "scrolled": true,
        "id": "eh0vfBdg4m5H",
        "outputId": "d028efab-396b-4f5f-9683-a9c06f9fdd89"
      },
      "outputs": [
        {
          "name": "stdout",
          "output_type": "stream",
          "text": [
            "<class 'pandas.core.frame.DataFrame'>\n",
            "Index: 5856 entries, 2016-09-01 00:59:59 to 2017-12-31 23:59:59\n",
            "Data columns (total 52 columns):\n",
            "primary_cleaner.input.sulfate                 5554 non-null float64\n",
            "primary_cleaner.input.depressant              5572 non-null float64\n",
            "primary_cleaner.input.feed_size               5856 non-null float64\n",
            "primary_cleaner.input.xanthate                5690 non-null float64\n",
            "primary_cleaner.state.floatbank8_a_air        5840 non-null float64\n",
            "primary_cleaner.state.floatbank8_a_level      5840 non-null float64\n",
            "primary_cleaner.state.floatbank8_b_air        5840 non-null float64\n",
            "primary_cleaner.state.floatbank8_b_level      5840 non-null float64\n",
            "primary_cleaner.state.floatbank8_c_air        5840 non-null float64\n",
            "primary_cleaner.state.floatbank8_c_level      5840 non-null float64\n",
            "primary_cleaner.state.floatbank8_d_air        5840 non-null float64\n",
            "primary_cleaner.state.floatbank8_d_level      5840 non-null float64\n",
            "rougher.input.feed_ag                         5840 non-null float64\n",
            "rougher.input.feed_pb                         5840 non-null float64\n",
            "rougher.input.feed_rate                       5816 non-null float64\n",
            "rougher.input.feed_size                       5834 non-null float64\n",
            "rougher.input.feed_sol                        5789 non-null float64\n",
            "rougher.input.feed_au                         5840 non-null float64\n",
            "rougher.input.floatbank10_sulfate             5599 non-null float64\n",
            "rougher.input.floatbank10_xanthate            5733 non-null float64\n",
            "rougher.input.floatbank11_sulfate             5801 non-null float64\n",
            "rougher.input.floatbank11_xanthate            5503 non-null float64\n",
            "rougher.state.floatbank10_a_air               5839 non-null float64\n",
            "rougher.state.floatbank10_a_level             5840 non-null float64\n",
            "rougher.state.floatbank10_b_air               5839 non-null float64\n",
            "rougher.state.floatbank10_b_level             5840 non-null float64\n",
            "rougher.state.floatbank10_c_air               5839 non-null float64\n",
            "rougher.state.floatbank10_c_level             5840 non-null float64\n",
            "rougher.state.floatbank10_d_air               5839 non-null float64\n",
            "rougher.state.floatbank10_d_level             5840 non-null float64\n",
            "rougher.state.floatbank10_e_air               5839 non-null float64\n",
            "rougher.state.floatbank10_e_level             5840 non-null float64\n",
            "rougher.state.floatbank10_f_air               5839 non-null float64\n",
            "rougher.state.floatbank10_f_level             5840 non-null float64\n",
            "secondary_cleaner.state.floatbank2_a_air      5836 non-null float64\n",
            "secondary_cleaner.state.floatbank2_a_level    5840 non-null float64\n",
            "secondary_cleaner.state.floatbank2_b_air      5833 non-null float64\n",
            "secondary_cleaner.state.floatbank2_b_level    5840 non-null float64\n",
            "secondary_cleaner.state.floatbank3_a_air      5822 non-null float64\n",
            "secondary_cleaner.state.floatbank3_a_level    5840 non-null float64\n",
            "secondary_cleaner.state.floatbank3_b_air      5840 non-null float64\n",
            "secondary_cleaner.state.floatbank3_b_level    5840 non-null float64\n",
            "secondary_cleaner.state.floatbank4_a_air      5840 non-null float64\n",
            "secondary_cleaner.state.floatbank4_a_level    5840 non-null float64\n",
            "secondary_cleaner.state.floatbank4_b_air      5840 non-null float64\n",
            "secondary_cleaner.state.floatbank4_b_level    5840 non-null float64\n",
            "secondary_cleaner.state.floatbank5_a_air      5840 non-null float64\n",
            "secondary_cleaner.state.floatbank5_a_level    5840 non-null float64\n",
            "secondary_cleaner.state.floatbank5_b_air      5840 non-null float64\n",
            "secondary_cleaner.state.floatbank5_b_level    5840 non-null float64\n",
            "secondary_cleaner.state.floatbank6_a_air      5840 non-null float64\n",
            "secondary_cleaner.state.floatbank6_a_level    5840 non-null float64\n",
            "dtypes: float64(52)\n",
            "memory usage: 2.4+ MB\n"
          ]
        }
      ],
      "source": [
        "gold_test.info()"
      ]
    },
    {
      "cell_type": "code",
      "execution_count": null,
      "metadata": {
        "scrolled": true,
        "id": "OIHWpr8I4m5H",
        "outputId": "effd855d-f17a-48ca-8abb-f04f7bb7d14c"
      },
      "outputs": [
        {
          "name": "stdout",
          "output_type": "stream",
          "text": [
            "<class 'pandas.core.frame.DataFrame'>\n",
            "Index: 22716 entries, 2016-01-15 00:00:00 to 2018-08-18 10:59:59\n",
            "Data columns (total 86 columns):\n",
            "final.output.concentrate_ag                           22627 non-null float64\n",
            "final.output.concentrate_pb                           22629 non-null float64\n",
            "final.output.concentrate_sol                          22331 non-null float64\n",
            "final.output.concentrate_au                           22630 non-null float64\n",
            "final.output.recovery                                 20753 non-null float64\n",
            "final.output.tail_ag                                  22633 non-null float64\n",
            "final.output.tail_pb                                  22516 non-null float64\n",
            "final.output.tail_sol                                 22445 non-null float64\n",
            "final.output.tail_au                                  22635 non-null float64\n",
            "primary_cleaner.input.sulfate                         21107 non-null float64\n",
            "primary_cleaner.input.depressant                      21170 non-null float64\n",
            "primary_cleaner.input.feed_size                       22716 non-null float64\n",
            "primary_cleaner.input.xanthate                        21565 non-null float64\n",
            "primary_cleaner.output.concentrate_ag                 22618 non-null float64\n",
            "primary_cleaner.output.concentrate_pb                 22268 non-null float64\n",
            "primary_cleaner.output.concentrate_sol                21918 non-null float64\n",
            "primary_cleaner.output.concentrate_au                 22618 non-null float64\n",
            "primary_cleaner.output.tail_ag                        22614 non-null float64\n",
            "primary_cleaner.output.tail_pb                        22594 non-null float64\n",
            "primary_cleaner.output.tail_sol                       22365 non-null float64\n",
            "primary_cleaner.output.tail_au                        22617 non-null float64\n",
            "primary_cleaner.state.floatbank8_a_air                22660 non-null float64\n",
            "primary_cleaner.state.floatbank8_a_level              22667 non-null float64\n",
            "primary_cleaner.state.floatbank8_b_air                22660 non-null float64\n",
            "primary_cleaner.state.floatbank8_b_level              22673 non-null float64\n",
            "primary_cleaner.state.floatbank8_c_air                22662 non-null float64\n",
            "primary_cleaner.state.floatbank8_c_level              22673 non-null float64\n",
            "primary_cleaner.state.floatbank8_d_air                22661 non-null float64\n",
            "primary_cleaner.state.floatbank8_d_level              22673 non-null float64\n",
            "rougher.calculation.sulfate_to_au_concentrate         22672 non-null float64\n",
            "rougher.calculation.floatbank10_sulfate_to_au_feed    22672 non-null float64\n",
            "rougher.calculation.floatbank11_sulfate_to_au_feed    22672 non-null float64\n",
            "rougher.calculation.au_pb_ratio                       21089 non-null float64\n",
            "rougher.input.feed_ag                                 22618 non-null float64\n",
            "rougher.input.feed_pb                                 22472 non-null float64\n",
            "rougher.input.feed_rate                               22163 non-null float64\n",
            "rougher.input.feed_size                               22277 non-null float64\n",
            "rougher.input.feed_sol                                22357 non-null float64\n",
            "rougher.input.feed_au                                 22617 non-null float64\n",
            "rougher.input.floatbank10_sulfate                     21415 non-null float64\n",
            "rougher.input.floatbank10_xanthate                    22247 non-null float64\n",
            "rougher.input.floatbank11_sulfate                     22038 non-null float64\n",
            "rougher.input.floatbank11_xanthate                    20459 non-null float64\n",
            "rougher.output.concentrate_ag                         22618 non-null float64\n",
            "rougher.output.concentrate_pb                         22618 non-null float64\n",
            "rougher.output.concentrate_sol                        22526 non-null float64\n",
            "rougher.output.concentrate_au                         22618 non-null float64\n",
            "rougher.output.recovery                               19597 non-null float64\n",
            "rougher.output.tail_ag                                19979 non-null float64\n",
            "rougher.output.tail_pb                                22618 non-null float64\n",
            "rougher.output.tail_sol                               19980 non-null float64\n",
            "rougher.output.tail_au                                19980 non-null float64\n",
            "rougher.state.floatbank10_a_air                       22646 non-null float64\n",
            "rougher.state.floatbank10_a_level                     22647 non-null float64\n",
            "rougher.state.floatbank10_b_air                       22646 non-null float64\n",
            "rougher.state.floatbank10_b_level                     22647 non-null float64\n",
            "rougher.state.floatbank10_c_air                       22646 non-null float64\n",
            "rougher.state.floatbank10_c_level                     22654 non-null float64\n",
            "rougher.state.floatbank10_d_air                       22641 non-null float64\n",
            "rougher.state.floatbank10_d_level                     22649 non-null float64\n",
            "rougher.state.floatbank10_e_air                       22096 non-null float64\n",
            "rougher.state.floatbank10_e_level                     22649 non-null float64\n",
            "rougher.state.floatbank10_f_air                       22641 non-null float64\n",
            "rougher.state.floatbank10_f_level                     22642 non-null float64\n",
            "secondary_cleaner.output.tail_ag                      22616 non-null float64\n",
            "secondary_cleaner.output.tail_pb                      22600 non-null float64\n",
            "secondary_cleaner.output.tail_sol                     20501 non-null float64\n",
            "secondary_cleaner.output.tail_au                      22618 non-null float64\n",
            "secondary_cleaner.state.floatbank2_a_air              22333 non-null float64\n",
            "secondary_cleaner.state.floatbank2_a_level            22591 non-null float64\n",
            "secondary_cleaner.state.floatbank2_b_air              22538 non-null float64\n",
            "secondary_cleaner.state.floatbank2_b_level            22588 non-null float64\n",
            "secondary_cleaner.state.floatbank3_a_air              22585 non-null float64\n",
            "secondary_cleaner.state.floatbank3_a_level            22587 non-null float64\n",
            "secondary_cleaner.state.floatbank3_b_air              22592 non-null float64\n",
            "secondary_cleaner.state.floatbank3_b_level            22590 non-null float64\n",
            "secondary_cleaner.state.floatbank4_a_air              22571 non-null float64\n",
            "secondary_cleaner.state.floatbank4_a_level            22587 non-null float64\n",
            "secondary_cleaner.state.floatbank4_b_air              22608 non-null float64\n",
            "secondary_cleaner.state.floatbank4_b_level            22607 non-null float64\n",
            "secondary_cleaner.state.floatbank5_a_air              22615 non-null float64\n",
            "secondary_cleaner.state.floatbank5_a_level            22615 non-null float64\n",
            "secondary_cleaner.state.floatbank5_b_air              22615 non-null float64\n",
            "secondary_cleaner.state.floatbank5_b_level            22616 non-null float64\n",
            "secondary_cleaner.state.floatbank6_a_air              22597 non-null float64\n",
            "secondary_cleaner.state.floatbank6_a_level            22615 non-null float64\n",
            "dtypes: float64(86)\n",
            "memory usage: 15.1+ MB\n"
          ]
        }
      ],
      "source": [
        "gold_full.info()"
      ]
    },
    {
      "cell_type": "markdown",
      "metadata": {
        "id": "0Hn4wkye4m5I"
      },
      "source": [
        "All data types are correct, float64. Date column will be deleted later."
      ]
    },
    {
      "cell_type": "markdown",
      "metadata": {
        "id": "FtVzg4Y-4m5I"
      },
      "source": [
        "<br>Check for duplicated lines."
      ]
    },
    {
      "cell_type": "code",
      "execution_count": null,
      "metadata": {
        "id": "JnkHm_zM4m5I",
        "outputId": "cea943b6-bff6-4429-f79d-b80d5283e69c"
      },
      "outputs": [
        {
          "name": "stdout",
          "output_type": "stream",
          "text": [
            "16 duplicates in gold_train\n",
            "6 duplicates in gold_test\n",
            "22 duplicates in gold_full\n"
          ]
        }
      ],
      "source": [
        "for df, name in zip(df_list, name_list):\n",
        "    print(df.duplicated().sum(), 'duplicates in', name)"
      ]
    },
    {
      "cell_type": "code",
      "execution_count": null,
      "metadata": {
        "id": "owSUpGYw4m5I",
        "outputId": "0e0bf91e-f454-4e97-fae7-cf8a33f3c020"
      },
      "outputs": [
        {
          "data": {
            "text/html": [
              "<div>\n",
              "<style scoped>\n",
              "    .dataframe tbody tr th:only-of-type {\n",
              "        vertical-align: middle;\n",
              "    }\n",
              "\n",
              "    .dataframe tbody tr th {\n",
              "        vertical-align: top;\n",
              "    }\n",
              "\n",
              "    .dataframe thead th {\n",
              "        text-align: right;\n",
              "    }\n",
              "</style>\n",
              "<table border=\"1\" class=\"dataframe\">\n",
              "  <thead>\n",
              "    <tr style=\"text-align: right;\">\n",
              "      <th></th>\n",
              "      <th>primary_cleaner.input.sulfate</th>\n",
              "      <th>primary_cleaner.input.depressant</th>\n",
              "      <th>primary_cleaner.input.feed_size</th>\n",
              "      <th>primary_cleaner.input.xanthate</th>\n",
              "      <th>primary_cleaner.state.floatbank8_a_air</th>\n",
              "      <th>primary_cleaner.state.floatbank8_a_level</th>\n",
              "      <th>primary_cleaner.state.floatbank8_b_air</th>\n",
              "      <th>primary_cleaner.state.floatbank8_b_level</th>\n",
              "      <th>primary_cleaner.state.floatbank8_c_air</th>\n",
              "      <th>primary_cleaner.state.floatbank8_c_level</th>\n",
              "      <th>primary_cleaner.state.floatbank8_d_air</th>\n",
              "      <th>primary_cleaner.state.floatbank8_d_level</th>\n",
              "      <th>rougher.input.feed_ag</th>\n",
              "      <th>rougher.input.feed_pb</th>\n",
              "      <th>rougher.input.feed_rate</th>\n",
              "      <th>rougher.input.feed_size</th>\n",
              "      <th>rougher.input.feed_sol</th>\n",
              "      <th>rougher.input.feed_au</th>\n",
              "      <th>rougher.input.floatbank10_sulfate</th>\n",
              "      <th>rougher.input.floatbank10_xanthate</th>\n",
              "      <th>rougher.input.floatbank11_sulfate</th>\n",
              "      <th>rougher.input.floatbank11_xanthate</th>\n",
              "      <th>rougher.state.floatbank10_a_air</th>\n",
              "      <th>rougher.state.floatbank10_a_level</th>\n",
              "      <th>rougher.state.floatbank10_b_air</th>\n",
              "      <th>rougher.state.floatbank10_b_level</th>\n",
              "      <th>rougher.state.floatbank10_c_air</th>\n",
              "      <th>rougher.state.floatbank10_c_level</th>\n",
              "      <th>rougher.state.floatbank10_d_air</th>\n",
              "      <th>rougher.state.floatbank10_d_level</th>\n",
              "      <th>rougher.state.floatbank10_e_air</th>\n",
              "      <th>rougher.state.floatbank10_e_level</th>\n",
              "      <th>rougher.state.floatbank10_f_air</th>\n",
              "      <th>rougher.state.floatbank10_f_level</th>\n",
              "      <th>secondary_cleaner.state.floatbank2_a_air</th>\n",
              "      <th>secondary_cleaner.state.floatbank2_a_level</th>\n",
              "      <th>secondary_cleaner.state.floatbank2_b_air</th>\n",
              "      <th>secondary_cleaner.state.floatbank2_b_level</th>\n",
              "      <th>secondary_cleaner.state.floatbank3_a_air</th>\n",
              "      <th>secondary_cleaner.state.floatbank3_a_level</th>\n",
              "      <th>secondary_cleaner.state.floatbank3_b_air</th>\n",
              "      <th>secondary_cleaner.state.floatbank3_b_level</th>\n",
              "      <th>secondary_cleaner.state.floatbank4_a_air</th>\n",
              "      <th>secondary_cleaner.state.floatbank4_a_level</th>\n",
              "      <th>secondary_cleaner.state.floatbank4_b_air</th>\n",
              "      <th>secondary_cleaner.state.floatbank4_b_level</th>\n",
              "      <th>secondary_cleaner.state.floatbank5_a_air</th>\n",
              "      <th>secondary_cleaner.state.floatbank5_a_level</th>\n",
              "      <th>secondary_cleaner.state.floatbank5_b_air</th>\n",
              "      <th>secondary_cleaner.state.floatbank5_b_level</th>\n",
              "      <th>secondary_cleaner.state.floatbank6_a_air</th>\n",
              "      <th>secondary_cleaner.state.floatbank6_a_level</th>\n",
              "    </tr>\n",
              "    <tr>\n",
              "      <th>date</th>\n",
              "      <th></th>\n",
              "      <th></th>\n",
              "      <th></th>\n",
              "      <th></th>\n",
              "      <th></th>\n",
              "      <th></th>\n",
              "      <th></th>\n",
              "      <th></th>\n",
              "      <th></th>\n",
              "      <th></th>\n",
              "      <th></th>\n",
              "      <th></th>\n",
              "      <th></th>\n",
              "      <th></th>\n",
              "      <th></th>\n",
              "      <th></th>\n",
              "      <th></th>\n",
              "      <th></th>\n",
              "      <th></th>\n",
              "      <th></th>\n",
              "      <th></th>\n",
              "      <th></th>\n",
              "      <th></th>\n",
              "      <th></th>\n",
              "      <th></th>\n",
              "      <th></th>\n",
              "      <th></th>\n",
              "      <th></th>\n",
              "      <th></th>\n",
              "      <th></th>\n",
              "      <th></th>\n",
              "      <th></th>\n",
              "      <th></th>\n",
              "      <th></th>\n",
              "      <th></th>\n",
              "      <th></th>\n",
              "      <th></th>\n",
              "      <th></th>\n",
              "      <th></th>\n",
              "      <th></th>\n",
              "      <th></th>\n",
              "      <th></th>\n",
              "      <th></th>\n",
              "      <th></th>\n",
              "      <th></th>\n",
              "      <th></th>\n",
              "      <th></th>\n",
              "      <th></th>\n",
              "      <th></th>\n",
              "      <th></th>\n",
              "      <th></th>\n",
              "      <th></th>\n",
              "    </tr>\n",
              "  </thead>\n",
              "  <tbody>\n",
              "    <tr>\n",
              "      <td>2016-12-25 18:59:59</td>\n",
              "      <td>NaN</td>\n",
              "      <td>NaN</td>\n",
              "      <td>7.41</td>\n",
              "      <td>NaN</td>\n",
              "      <td>NaN</td>\n",
              "      <td>NaN</td>\n",
              "      <td>NaN</td>\n",
              "      <td>NaN</td>\n",
              "      <td>NaN</td>\n",
              "      <td>NaN</td>\n",
              "      <td>NaN</td>\n",
              "      <td>NaN</td>\n",
              "      <td>NaN</td>\n",
              "      <td>NaN</td>\n",
              "      <td>NaN</td>\n",
              "      <td>NaN</td>\n",
              "      <td>NaN</td>\n",
              "      <td>NaN</td>\n",
              "      <td>NaN</td>\n",
              "      <td>NaN</td>\n",
              "      <td>NaN</td>\n",
              "      <td>NaN</td>\n",
              "      <td>NaN</td>\n",
              "      <td>NaN</td>\n",
              "      <td>NaN</td>\n",
              "      <td>NaN</td>\n",
              "      <td>NaN</td>\n",
              "      <td>NaN</td>\n",
              "      <td>NaN</td>\n",
              "      <td>NaN</td>\n",
              "      <td>NaN</td>\n",
              "      <td>NaN</td>\n",
              "      <td>NaN</td>\n",
              "      <td>NaN</td>\n",
              "      <td>NaN</td>\n",
              "      <td>NaN</td>\n",
              "      <td>NaN</td>\n",
              "      <td>NaN</td>\n",
              "      <td>NaN</td>\n",
              "      <td>NaN</td>\n",
              "      <td>NaN</td>\n",
              "      <td>NaN</td>\n",
              "      <td>NaN</td>\n",
              "      <td>NaN</td>\n",
              "      <td>NaN</td>\n",
              "      <td>NaN</td>\n",
              "      <td>NaN</td>\n",
              "      <td>NaN</td>\n",
              "      <td>NaN</td>\n",
              "      <td>NaN</td>\n",
              "      <td>NaN</td>\n",
              "      <td>NaN</td>\n",
              "    </tr>\n",
              "    <tr>\n",
              "      <td>2016-12-25 19:59:59</td>\n",
              "      <td>NaN</td>\n",
              "      <td>NaN</td>\n",
              "      <td>7.41</td>\n",
              "      <td>NaN</td>\n",
              "      <td>NaN</td>\n",
              "      <td>NaN</td>\n",
              "      <td>NaN</td>\n",
              "      <td>NaN</td>\n",
              "      <td>NaN</td>\n",
              "      <td>NaN</td>\n",
              "      <td>NaN</td>\n",
              "      <td>NaN</td>\n",
              "      <td>NaN</td>\n",
              "      <td>NaN</td>\n",
              "      <td>NaN</td>\n",
              "      <td>NaN</td>\n",
              "      <td>NaN</td>\n",
              "      <td>NaN</td>\n",
              "      <td>NaN</td>\n",
              "      <td>NaN</td>\n",
              "      <td>NaN</td>\n",
              "      <td>NaN</td>\n",
              "      <td>NaN</td>\n",
              "      <td>NaN</td>\n",
              "      <td>NaN</td>\n",
              "      <td>NaN</td>\n",
              "      <td>NaN</td>\n",
              "      <td>NaN</td>\n",
              "      <td>NaN</td>\n",
              "      <td>NaN</td>\n",
              "      <td>NaN</td>\n",
              "      <td>NaN</td>\n",
              "      <td>NaN</td>\n",
              "      <td>NaN</td>\n",
              "      <td>NaN</td>\n",
              "      <td>NaN</td>\n",
              "      <td>NaN</td>\n",
              "      <td>NaN</td>\n",
              "      <td>NaN</td>\n",
              "      <td>NaN</td>\n",
              "      <td>NaN</td>\n",
              "      <td>NaN</td>\n",
              "      <td>NaN</td>\n",
              "      <td>NaN</td>\n",
              "      <td>NaN</td>\n",
              "      <td>NaN</td>\n",
              "      <td>NaN</td>\n",
              "      <td>NaN</td>\n",
              "      <td>NaN</td>\n",
              "      <td>NaN</td>\n",
              "      <td>NaN</td>\n",
              "      <td>NaN</td>\n",
              "    </tr>\n",
              "    <tr>\n",
              "      <td>2016-12-25 22:59:59</td>\n",
              "      <td>NaN</td>\n",
              "      <td>NaN</td>\n",
              "      <td>7.51</td>\n",
              "      <td>NaN</td>\n",
              "      <td>NaN</td>\n",
              "      <td>NaN</td>\n",
              "      <td>NaN</td>\n",
              "      <td>NaN</td>\n",
              "      <td>NaN</td>\n",
              "      <td>NaN</td>\n",
              "      <td>NaN</td>\n",
              "      <td>NaN</td>\n",
              "      <td>NaN</td>\n",
              "      <td>NaN</td>\n",
              "      <td>NaN</td>\n",
              "      <td>NaN</td>\n",
              "      <td>NaN</td>\n",
              "      <td>NaN</td>\n",
              "      <td>NaN</td>\n",
              "      <td>NaN</td>\n",
              "      <td>NaN</td>\n",
              "      <td>NaN</td>\n",
              "      <td>NaN</td>\n",
              "      <td>NaN</td>\n",
              "      <td>NaN</td>\n",
              "      <td>NaN</td>\n",
              "      <td>NaN</td>\n",
              "      <td>NaN</td>\n",
              "      <td>NaN</td>\n",
              "      <td>NaN</td>\n",
              "      <td>NaN</td>\n",
              "      <td>NaN</td>\n",
              "      <td>NaN</td>\n",
              "      <td>NaN</td>\n",
              "      <td>NaN</td>\n",
              "      <td>NaN</td>\n",
              "      <td>NaN</td>\n",
              "      <td>NaN</td>\n",
              "      <td>NaN</td>\n",
              "      <td>NaN</td>\n",
              "      <td>NaN</td>\n",
              "      <td>NaN</td>\n",
              "      <td>NaN</td>\n",
              "      <td>NaN</td>\n",
              "      <td>NaN</td>\n",
              "      <td>NaN</td>\n",
              "      <td>NaN</td>\n",
              "      <td>NaN</td>\n",
              "      <td>NaN</td>\n",
              "      <td>NaN</td>\n",
              "      <td>NaN</td>\n",
              "      <td>NaN</td>\n",
              "    </tr>\n",
              "    <tr>\n",
              "      <td>2016-12-25 23:59:59</td>\n",
              "      <td>NaN</td>\n",
              "      <td>NaN</td>\n",
              "      <td>7.51</td>\n",
              "      <td>NaN</td>\n",
              "      <td>NaN</td>\n",
              "      <td>NaN</td>\n",
              "      <td>NaN</td>\n",
              "      <td>NaN</td>\n",
              "      <td>NaN</td>\n",
              "      <td>NaN</td>\n",
              "      <td>NaN</td>\n",
              "      <td>NaN</td>\n",
              "      <td>NaN</td>\n",
              "      <td>NaN</td>\n",
              "      <td>NaN</td>\n",
              "      <td>NaN</td>\n",
              "      <td>NaN</td>\n",
              "      <td>NaN</td>\n",
              "      <td>NaN</td>\n",
              "      <td>NaN</td>\n",
              "      <td>NaN</td>\n",
              "      <td>NaN</td>\n",
              "      <td>NaN</td>\n",
              "      <td>NaN</td>\n",
              "      <td>NaN</td>\n",
              "      <td>NaN</td>\n",
              "      <td>NaN</td>\n",
              "      <td>NaN</td>\n",
              "      <td>NaN</td>\n",
              "      <td>NaN</td>\n",
              "      <td>NaN</td>\n",
              "      <td>NaN</td>\n",
              "      <td>NaN</td>\n",
              "      <td>NaN</td>\n",
              "      <td>NaN</td>\n",
              "      <td>NaN</td>\n",
              "      <td>NaN</td>\n",
              "      <td>NaN</td>\n",
              "      <td>NaN</td>\n",
              "      <td>NaN</td>\n",
              "      <td>NaN</td>\n",
              "      <td>NaN</td>\n",
              "      <td>NaN</td>\n",
              "      <td>NaN</td>\n",
              "      <td>NaN</td>\n",
              "      <td>NaN</td>\n",
              "      <td>NaN</td>\n",
              "      <td>NaN</td>\n",
              "      <td>NaN</td>\n",
              "      <td>NaN</td>\n",
              "      <td>NaN</td>\n",
              "      <td>NaN</td>\n",
              "    </tr>\n",
              "    <tr>\n",
              "      <td>2016-12-26 00:59:59</td>\n",
              "      <td>NaN</td>\n",
              "      <td>NaN</td>\n",
              "      <td>7.51</td>\n",
              "      <td>NaN</td>\n",
              "      <td>NaN</td>\n",
              "      <td>NaN</td>\n",
              "      <td>NaN</td>\n",
              "      <td>NaN</td>\n",
              "      <td>NaN</td>\n",
              "      <td>NaN</td>\n",
              "      <td>NaN</td>\n",
              "      <td>NaN</td>\n",
              "      <td>NaN</td>\n",
              "      <td>NaN</td>\n",
              "      <td>NaN</td>\n",
              "      <td>NaN</td>\n",
              "      <td>NaN</td>\n",
              "      <td>NaN</td>\n",
              "      <td>NaN</td>\n",
              "      <td>NaN</td>\n",
              "      <td>NaN</td>\n",
              "      <td>NaN</td>\n",
              "      <td>NaN</td>\n",
              "      <td>NaN</td>\n",
              "      <td>NaN</td>\n",
              "      <td>NaN</td>\n",
              "      <td>NaN</td>\n",
              "      <td>NaN</td>\n",
              "      <td>NaN</td>\n",
              "      <td>NaN</td>\n",
              "      <td>NaN</td>\n",
              "      <td>NaN</td>\n",
              "      <td>NaN</td>\n",
              "      <td>NaN</td>\n",
              "      <td>NaN</td>\n",
              "      <td>NaN</td>\n",
              "      <td>NaN</td>\n",
              "      <td>NaN</td>\n",
              "      <td>NaN</td>\n",
              "      <td>NaN</td>\n",
              "      <td>NaN</td>\n",
              "      <td>NaN</td>\n",
              "      <td>NaN</td>\n",
              "      <td>NaN</td>\n",
              "      <td>NaN</td>\n",
              "      <td>NaN</td>\n",
              "      <td>NaN</td>\n",
              "      <td>NaN</td>\n",
              "      <td>NaN</td>\n",
              "      <td>NaN</td>\n",
              "      <td>NaN</td>\n",
              "      <td>NaN</td>\n",
              "    </tr>\n",
              "    <tr>\n",
              "      <td>2016-12-26 03:59:59</td>\n",
              "      <td>NaN</td>\n",
              "      <td>NaN</td>\n",
              "      <td>7.39</td>\n",
              "      <td>NaN</td>\n",
              "      <td>NaN</td>\n",
              "      <td>NaN</td>\n",
              "      <td>NaN</td>\n",
              "      <td>NaN</td>\n",
              "      <td>NaN</td>\n",
              "      <td>NaN</td>\n",
              "      <td>NaN</td>\n",
              "      <td>NaN</td>\n",
              "      <td>NaN</td>\n",
              "      <td>NaN</td>\n",
              "      <td>NaN</td>\n",
              "      <td>NaN</td>\n",
              "      <td>NaN</td>\n",
              "      <td>NaN</td>\n",
              "      <td>NaN</td>\n",
              "      <td>NaN</td>\n",
              "      <td>NaN</td>\n",
              "      <td>NaN</td>\n",
              "      <td>NaN</td>\n",
              "      <td>NaN</td>\n",
              "      <td>NaN</td>\n",
              "      <td>NaN</td>\n",
              "      <td>NaN</td>\n",
              "      <td>NaN</td>\n",
              "      <td>NaN</td>\n",
              "      <td>NaN</td>\n",
              "      <td>NaN</td>\n",
              "      <td>NaN</td>\n",
              "      <td>NaN</td>\n",
              "      <td>NaN</td>\n",
              "      <td>NaN</td>\n",
              "      <td>NaN</td>\n",
              "      <td>NaN</td>\n",
              "      <td>NaN</td>\n",
              "      <td>NaN</td>\n",
              "      <td>NaN</td>\n",
              "      <td>NaN</td>\n",
              "      <td>NaN</td>\n",
              "      <td>NaN</td>\n",
              "      <td>NaN</td>\n",
              "      <td>NaN</td>\n",
              "      <td>NaN</td>\n",
              "      <td>NaN</td>\n",
              "      <td>NaN</td>\n",
              "      <td>NaN</td>\n",
              "      <td>NaN</td>\n",
              "      <td>NaN</td>\n",
              "      <td>NaN</td>\n",
              "    </tr>\n",
              "  </tbody>\n",
              "</table>\n",
              "</div>"
            ],
            "text/plain": [
              "                     primary_cleaner.input.sulfate  \\\n",
              "date                                                 \n",
              "2016-12-25 18:59:59                            NaN   \n",
              "2016-12-25 19:59:59                            NaN   \n",
              "2016-12-25 22:59:59                            NaN   \n",
              "2016-12-25 23:59:59                            NaN   \n",
              "2016-12-26 00:59:59                            NaN   \n",
              "2016-12-26 03:59:59                            NaN   \n",
              "\n",
              "                     primary_cleaner.input.depressant  \\\n",
              "date                                                    \n",
              "2016-12-25 18:59:59                               NaN   \n",
              "2016-12-25 19:59:59                               NaN   \n",
              "2016-12-25 22:59:59                               NaN   \n",
              "2016-12-25 23:59:59                               NaN   \n",
              "2016-12-26 00:59:59                               NaN   \n",
              "2016-12-26 03:59:59                               NaN   \n",
              "\n",
              "                     primary_cleaner.input.feed_size  \\\n",
              "date                                                   \n",
              "2016-12-25 18:59:59                             7.41   \n",
              "2016-12-25 19:59:59                             7.41   \n",
              "2016-12-25 22:59:59                             7.51   \n",
              "2016-12-25 23:59:59                             7.51   \n",
              "2016-12-26 00:59:59                             7.51   \n",
              "2016-12-26 03:59:59                             7.39   \n",
              "\n",
              "                     primary_cleaner.input.xanthate  \\\n",
              "date                                                  \n",
              "2016-12-25 18:59:59                             NaN   \n",
              "2016-12-25 19:59:59                             NaN   \n",
              "2016-12-25 22:59:59                             NaN   \n",
              "2016-12-25 23:59:59                             NaN   \n",
              "2016-12-26 00:59:59                             NaN   \n",
              "2016-12-26 03:59:59                             NaN   \n",
              "\n",
              "                     primary_cleaner.state.floatbank8_a_air  \\\n",
              "date                                                          \n",
              "2016-12-25 18:59:59                                     NaN   \n",
              "2016-12-25 19:59:59                                     NaN   \n",
              "2016-12-25 22:59:59                                     NaN   \n",
              "2016-12-25 23:59:59                                     NaN   \n",
              "2016-12-26 00:59:59                                     NaN   \n",
              "2016-12-26 03:59:59                                     NaN   \n",
              "\n",
              "                     primary_cleaner.state.floatbank8_a_level  \\\n",
              "date                                                            \n",
              "2016-12-25 18:59:59                                       NaN   \n",
              "2016-12-25 19:59:59                                       NaN   \n",
              "2016-12-25 22:59:59                                       NaN   \n",
              "2016-12-25 23:59:59                                       NaN   \n",
              "2016-12-26 00:59:59                                       NaN   \n",
              "2016-12-26 03:59:59                                       NaN   \n",
              "\n",
              "                     primary_cleaner.state.floatbank8_b_air  \\\n",
              "date                                                          \n",
              "2016-12-25 18:59:59                                     NaN   \n",
              "2016-12-25 19:59:59                                     NaN   \n",
              "2016-12-25 22:59:59                                     NaN   \n",
              "2016-12-25 23:59:59                                     NaN   \n",
              "2016-12-26 00:59:59                                     NaN   \n",
              "2016-12-26 03:59:59                                     NaN   \n",
              "\n",
              "                     primary_cleaner.state.floatbank8_b_level  \\\n",
              "date                                                            \n",
              "2016-12-25 18:59:59                                       NaN   \n",
              "2016-12-25 19:59:59                                       NaN   \n",
              "2016-12-25 22:59:59                                       NaN   \n",
              "2016-12-25 23:59:59                                       NaN   \n",
              "2016-12-26 00:59:59                                       NaN   \n",
              "2016-12-26 03:59:59                                       NaN   \n",
              "\n",
              "                     primary_cleaner.state.floatbank8_c_air  \\\n",
              "date                                                          \n",
              "2016-12-25 18:59:59                                     NaN   \n",
              "2016-12-25 19:59:59                                     NaN   \n",
              "2016-12-25 22:59:59                                     NaN   \n",
              "2016-12-25 23:59:59                                     NaN   \n",
              "2016-12-26 00:59:59                                     NaN   \n",
              "2016-12-26 03:59:59                                     NaN   \n",
              "\n",
              "                     primary_cleaner.state.floatbank8_c_level  \\\n",
              "date                                                            \n",
              "2016-12-25 18:59:59                                       NaN   \n",
              "2016-12-25 19:59:59                                       NaN   \n",
              "2016-12-25 22:59:59                                       NaN   \n",
              "2016-12-25 23:59:59                                       NaN   \n",
              "2016-12-26 00:59:59                                       NaN   \n",
              "2016-12-26 03:59:59                                       NaN   \n",
              "\n",
              "                     primary_cleaner.state.floatbank8_d_air  \\\n",
              "date                                                          \n",
              "2016-12-25 18:59:59                                     NaN   \n",
              "2016-12-25 19:59:59                                     NaN   \n",
              "2016-12-25 22:59:59                                     NaN   \n",
              "2016-12-25 23:59:59                                     NaN   \n",
              "2016-12-26 00:59:59                                     NaN   \n",
              "2016-12-26 03:59:59                                     NaN   \n",
              "\n",
              "                     primary_cleaner.state.floatbank8_d_level  \\\n",
              "date                                                            \n",
              "2016-12-25 18:59:59                                       NaN   \n",
              "2016-12-25 19:59:59                                       NaN   \n",
              "2016-12-25 22:59:59                                       NaN   \n",
              "2016-12-25 23:59:59                                       NaN   \n",
              "2016-12-26 00:59:59                                       NaN   \n",
              "2016-12-26 03:59:59                                       NaN   \n",
              "\n",
              "                     rougher.input.feed_ag  rougher.input.feed_pb  \\\n",
              "date                                                                \n",
              "2016-12-25 18:59:59                    NaN                    NaN   \n",
              "2016-12-25 19:59:59                    NaN                    NaN   \n",
              "2016-12-25 22:59:59                    NaN                    NaN   \n",
              "2016-12-25 23:59:59                    NaN                    NaN   \n",
              "2016-12-26 00:59:59                    NaN                    NaN   \n",
              "2016-12-26 03:59:59                    NaN                    NaN   \n",
              "\n",
              "                     rougher.input.feed_rate  rougher.input.feed_size  \\\n",
              "date                                                                    \n",
              "2016-12-25 18:59:59                      NaN                      NaN   \n",
              "2016-12-25 19:59:59                      NaN                      NaN   \n",
              "2016-12-25 22:59:59                      NaN                      NaN   \n",
              "2016-12-25 23:59:59                      NaN                      NaN   \n",
              "2016-12-26 00:59:59                      NaN                      NaN   \n",
              "2016-12-26 03:59:59                      NaN                      NaN   \n",
              "\n",
              "                     rougher.input.feed_sol  rougher.input.feed_au  \\\n",
              "date                                                                 \n",
              "2016-12-25 18:59:59                     NaN                    NaN   \n",
              "2016-12-25 19:59:59                     NaN                    NaN   \n",
              "2016-12-25 22:59:59                     NaN                    NaN   \n",
              "2016-12-25 23:59:59                     NaN                    NaN   \n",
              "2016-12-26 00:59:59                     NaN                    NaN   \n",
              "2016-12-26 03:59:59                     NaN                    NaN   \n",
              "\n",
              "                     rougher.input.floatbank10_sulfate  \\\n",
              "date                                                     \n",
              "2016-12-25 18:59:59                                NaN   \n",
              "2016-12-25 19:59:59                                NaN   \n",
              "2016-12-25 22:59:59                                NaN   \n",
              "2016-12-25 23:59:59                                NaN   \n",
              "2016-12-26 00:59:59                                NaN   \n",
              "2016-12-26 03:59:59                                NaN   \n",
              "\n",
              "                     rougher.input.floatbank10_xanthate  \\\n",
              "date                                                      \n",
              "2016-12-25 18:59:59                                 NaN   \n",
              "2016-12-25 19:59:59                                 NaN   \n",
              "2016-12-25 22:59:59                                 NaN   \n",
              "2016-12-25 23:59:59                                 NaN   \n",
              "2016-12-26 00:59:59                                 NaN   \n",
              "2016-12-26 03:59:59                                 NaN   \n",
              "\n",
              "                     rougher.input.floatbank11_sulfate  \\\n",
              "date                                                     \n",
              "2016-12-25 18:59:59                                NaN   \n",
              "2016-12-25 19:59:59                                NaN   \n",
              "2016-12-25 22:59:59                                NaN   \n",
              "2016-12-25 23:59:59                                NaN   \n",
              "2016-12-26 00:59:59                                NaN   \n",
              "2016-12-26 03:59:59                                NaN   \n",
              "\n",
              "                     rougher.input.floatbank11_xanthate  \\\n",
              "date                                                      \n",
              "2016-12-25 18:59:59                                 NaN   \n",
              "2016-12-25 19:59:59                                 NaN   \n",
              "2016-12-25 22:59:59                                 NaN   \n",
              "2016-12-25 23:59:59                                 NaN   \n",
              "2016-12-26 00:59:59                                 NaN   \n",
              "2016-12-26 03:59:59                                 NaN   \n",
              "\n",
              "                     rougher.state.floatbank10_a_air  \\\n",
              "date                                                   \n",
              "2016-12-25 18:59:59                              NaN   \n",
              "2016-12-25 19:59:59                              NaN   \n",
              "2016-12-25 22:59:59                              NaN   \n",
              "2016-12-25 23:59:59                              NaN   \n",
              "2016-12-26 00:59:59                              NaN   \n",
              "2016-12-26 03:59:59                              NaN   \n",
              "\n",
              "                     rougher.state.floatbank10_a_level  \\\n",
              "date                                                     \n",
              "2016-12-25 18:59:59                                NaN   \n",
              "2016-12-25 19:59:59                                NaN   \n",
              "2016-12-25 22:59:59                                NaN   \n",
              "2016-12-25 23:59:59                                NaN   \n",
              "2016-12-26 00:59:59                                NaN   \n",
              "2016-12-26 03:59:59                                NaN   \n",
              "\n",
              "                     rougher.state.floatbank10_b_air  \\\n",
              "date                                                   \n",
              "2016-12-25 18:59:59                              NaN   \n",
              "2016-12-25 19:59:59                              NaN   \n",
              "2016-12-25 22:59:59                              NaN   \n",
              "2016-12-25 23:59:59                              NaN   \n",
              "2016-12-26 00:59:59                              NaN   \n",
              "2016-12-26 03:59:59                              NaN   \n",
              "\n",
              "                     rougher.state.floatbank10_b_level  \\\n",
              "date                                                     \n",
              "2016-12-25 18:59:59                                NaN   \n",
              "2016-12-25 19:59:59                                NaN   \n",
              "2016-12-25 22:59:59                                NaN   \n",
              "2016-12-25 23:59:59                                NaN   \n",
              "2016-12-26 00:59:59                                NaN   \n",
              "2016-12-26 03:59:59                                NaN   \n",
              "\n",
              "                     rougher.state.floatbank10_c_air  \\\n",
              "date                                                   \n",
              "2016-12-25 18:59:59                              NaN   \n",
              "2016-12-25 19:59:59                              NaN   \n",
              "2016-12-25 22:59:59                              NaN   \n",
              "2016-12-25 23:59:59                              NaN   \n",
              "2016-12-26 00:59:59                              NaN   \n",
              "2016-12-26 03:59:59                              NaN   \n",
              "\n",
              "                     rougher.state.floatbank10_c_level  \\\n",
              "date                                                     \n",
              "2016-12-25 18:59:59                                NaN   \n",
              "2016-12-25 19:59:59                                NaN   \n",
              "2016-12-25 22:59:59                                NaN   \n",
              "2016-12-25 23:59:59                                NaN   \n",
              "2016-12-26 00:59:59                                NaN   \n",
              "2016-12-26 03:59:59                                NaN   \n",
              "\n",
              "                     rougher.state.floatbank10_d_air  \\\n",
              "date                                                   \n",
              "2016-12-25 18:59:59                              NaN   \n",
              "2016-12-25 19:59:59                              NaN   \n",
              "2016-12-25 22:59:59                              NaN   \n",
              "2016-12-25 23:59:59                              NaN   \n",
              "2016-12-26 00:59:59                              NaN   \n",
              "2016-12-26 03:59:59                              NaN   \n",
              "\n",
              "                     rougher.state.floatbank10_d_level  \\\n",
              "date                                                     \n",
              "2016-12-25 18:59:59                                NaN   \n",
              "2016-12-25 19:59:59                                NaN   \n",
              "2016-12-25 22:59:59                                NaN   \n",
              "2016-12-25 23:59:59                                NaN   \n",
              "2016-12-26 00:59:59                                NaN   \n",
              "2016-12-26 03:59:59                                NaN   \n",
              "\n",
              "                     rougher.state.floatbank10_e_air  \\\n",
              "date                                                   \n",
              "2016-12-25 18:59:59                              NaN   \n",
              "2016-12-25 19:59:59                              NaN   \n",
              "2016-12-25 22:59:59                              NaN   \n",
              "2016-12-25 23:59:59                              NaN   \n",
              "2016-12-26 00:59:59                              NaN   \n",
              "2016-12-26 03:59:59                              NaN   \n",
              "\n",
              "                     rougher.state.floatbank10_e_level  \\\n",
              "date                                                     \n",
              "2016-12-25 18:59:59                                NaN   \n",
              "2016-12-25 19:59:59                                NaN   \n",
              "2016-12-25 22:59:59                                NaN   \n",
              "2016-12-25 23:59:59                                NaN   \n",
              "2016-12-26 00:59:59                                NaN   \n",
              "2016-12-26 03:59:59                                NaN   \n",
              "\n",
              "                     rougher.state.floatbank10_f_air  \\\n",
              "date                                                   \n",
              "2016-12-25 18:59:59                              NaN   \n",
              "2016-12-25 19:59:59                              NaN   \n",
              "2016-12-25 22:59:59                              NaN   \n",
              "2016-12-25 23:59:59                              NaN   \n",
              "2016-12-26 00:59:59                              NaN   \n",
              "2016-12-26 03:59:59                              NaN   \n",
              "\n",
              "                     rougher.state.floatbank10_f_level  \\\n",
              "date                                                     \n",
              "2016-12-25 18:59:59                                NaN   \n",
              "2016-12-25 19:59:59                                NaN   \n",
              "2016-12-25 22:59:59                                NaN   \n",
              "2016-12-25 23:59:59                                NaN   \n",
              "2016-12-26 00:59:59                                NaN   \n",
              "2016-12-26 03:59:59                                NaN   \n",
              "\n",
              "                     secondary_cleaner.state.floatbank2_a_air  \\\n",
              "date                                                            \n",
              "2016-12-25 18:59:59                                       NaN   \n",
              "2016-12-25 19:59:59                                       NaN   \n",
              "2016-12-25 22:59:59                                       NaN   \n",
              "2016-12-25 23:59:59                                       NaN   \n",
              "2016-12-26 00:59:59                                       NaN   \n",
              "2016-12-26 03:59:59                                       NaN   \n",
              "\n",
              "                     secondary_cleaner.state.floatbank2_a_level  \\\n",
              "date                                                              \n",
              "2016-12-25 18:59:59                                         NaN   \n",
              "2016-12-25 19:59:59                                         NaN   \n",
              "2016-12-25 22:59:59                                         NaN   \n",
              "2016-12-25 23:59:59                                         NaN   \n",
              "2016-12-26 00:59:59                                         NaN   \n",
              "2016-12-26 03:59:59                                         NaN   \n",
              "\n",
              "                     secondary_cleaner.state.floatbank2_b_air  \\\n",
              "date                                                            \n",
              "2016-12-25 18:59:59                                       NaN   \n",
              "2016-12-25 19:59:59                                       NaN   \n",
              "2016-12-25 22:59:59                                       NaN   \n",
              "2016-12-25 23:59:59                                       NaN   \n",
              "2016-12-26 00:59:59                                       NaN   \n",
              "2016-12-26 03:59:59                                       NaN   \n",
              "\n",
              "                     secondary_cleaner.state.floatbank2_b_level  \\\n",
              "date                                                              \n",
              "2016-12-25 18:59:59                                         NaN   \n",
              "2016-12-25 19:59:59                                         NaN   \n",
              "2016-12-25 22:59:59                                         NaN   \n",
              "2016-12-25 23:59:59                                         NaN   \n",
              "2016-12-26 00:59:59                                         NaN   \n",
              "2016-12-26 03:59:59                                         NaN   \n",
              "\n",
              "                     secondary_cleaner.state.floatbank3_a_air  \\\n",
              "date                                                            \n",
              "2016-12-25 18:59:59                                       NaN   \n",
              "2016-12-25 19:59:59                                       NaN   \n",
              "2016-12-25 22:59:59                                       NaN   \n",
              "2016-12-25 23:59:59                                       NaN   \n",
              "2016-12-26 00:59:59                                       NaN   \n",
              "2016-12-26 03:59:59                                       NaN   \n",
              "\n",
              "                     secondary_cleaner.state.floatbank3_a_level  \\\n",
              "date                                                              \n",
              "2016-12-25 18:59:59                                         NaN   \n",
              "2016-12-25 19:59:59                                         NaN   \n",
              "2016-12-25 22:59:59                                         NaN   \n",
              "2016-12-25 23:59:59                                         NaN   \n",
              "2016-12-26 00:59:59                                         NaN   \n",
              "2016-12-26 03:59:59                                         NaN   \n",
              "\n",
              "                     secondary_cleaner.state.floatbank3_b_air  \\\n",
              "date                                                            \n",
              "2016-12-25 18:59:59                                       NaN   \n",
              "2016-12-25 19:59:59                                       NaN   \n",
              "2016-12-25 22:59:59                                       NaN   \n",
              "2016-12-25 23:59:59                                       NaN   \n",
              "2016-12-26 00:59:59                                       NaN   \n",
              "2016-12-26 03:59:59                                       NaN   \n",
              "\n",
              "                     secondary_cleaner.state.floatbank3_b_level  \\\n",
              "date                                                              \n",
              "2016-12-25 18:59:59                                         NaN   \n",
              "2016-12-25 19:59:59                                         NaN   \n",
              "2016-12-25 22:59:59                                         NaN   \n",
              "2016-12-25 23:59:59                                         NaN   \n",
              "2016-12-26 00:59:59                                         NaN   \n",
              "2016-12-26 03:59:59                                         NaN   \n",
              "\n",
              "                     secondary_cleaner.state.floatbank4_a_air  \\\n",
              "date                                                            \n",
              "2016-12-25 18:59:59                                       NaN   \n",
              "2016-12-25 19:59:59                                       NaN   \n",
              "2016-12-25 22:59:59                                       NaN   \n",
              "2016-12-25 23:59:59                                       NaN   \n",
              "2016-12-26 00:59:59                                       NaN   \n",
              "2016-12-26 03:59:59                                       NaN   \n",
              "\n",
              "                     secondary_cleaner.state.floatbank4_a_level  \\\n",
              "date                                                              \n",
              "2016-12-25 18:59:59                                         NaN   \n",
              "2016-12-25 19:59:59                                         NaN   \n",
              "2016-12-25 22:59:59                                         NaN   \n",
              "2016-12-25 23:59:59                                         NaN   \n",
              "2016-12-26 00:59:59                                         NaN   \n",
              "2016-12-26 03:59:59                                         NaN   \n",
              "\n",
              "                     secondary_cleaner.state.floatbank4_b_air  \\\n",
              "date                                                            \n",
              "2016-12-25 18:59:59                                       NaN   \n",
              "2016-12-25 19:59:59                                       NaN   \n",
              "2016-12-25 22:59:59                                       NaN   \n",
              "2016-12-25 23:59:59                                       NaN   \n",
              "2016-12-26 00:59:59                                       NaN   \n",
              "2016-12-26 03:59:59                                       NaN   \n",
              "\n",
              "                     secondary_cleaner.state.floatbank4_b_level  \\\n",
              "date                                                              \n",
              "2016-12-25 18:59:59                                         NaN   \n",
              "2016-12-25 19:59:59                                         NaN   \n",
              "2016-12-25 22:59:59                                         NaN   \n",
              "2016-12-25 23:59:59                                         NaN   \n",
              "2016-12-26 00:59:59                                         NaN   \n",
              "2016-12-26 03:59:59                                         NaN   \n",
              "\n",
              "                     secondary_cleaner.state.floatbank5_a_air  \\\n",
              "date                                                            \n",
              "2016-12-25 18:59:59                                       NaN   \n",
              "2016-12-25 19:59:59                                       NaN   \n",
              "2016-12-25 22:59:59                                       NaN   \n",
              "2016-12-25 23:59:59                                       NaN   \n",
              "2016-12-26 00:59:59                                       NaN   \n",
              "2016-12-26 03:59:59                                       NaN   \n",
              "\n",
              "                     secondary_cleaner.state.floatbank5_a_level  \\\n",
              "date                                                              \n",
              "2016-12-25 18:59:59                                         NaN   \n",
              "2016-12-25 19:59:59                                         NaN   \n",
              "2016-12-25 22:59:59                                         NaN   \n",
              "2016-12-25 23:59:59                                         NaN   \n",
              "2016-12-26 00:59:59                                         NaN   \n",
              "2016-12-26 03:59:59                                         NaN   \n",
              "\n",
              "                     secondary_cleaner.state.floatbank5_b_air  \\\n",
              "date                                                            \n",
              "2016-12-25 18:59:59                                       NaN   \n",
              "2016-12-25 19:59:59                                       NaN   \n",
              "2016-12-25 22:59:59                                       NaN   \n",
              "2016-12-25 23:59:59                                       NaN   \n",
              "2016-12-26 00:59:59                                       NaN   \n",
              "2016-12-26 03:59:59                                       NaN   \n",
              "\n",
              "                     secondary_cleaner.state.floatbank5_b_level  \\\n",
              "date                                                              \n",
              "2016-12-25 18:59:59                                         NaN   \n",
              "2016-12-25 19:59:59                                         NaN   \n",
              "2016-12-25 22:59:59                                         NaN   \n",
              "2016-12-25 23:59:59                                         NaN   \n",
              "2016-12-26 00:59:59                                         NaN   \n",
              "2016-12-26 03:59:59                                         NaN   \n",
              "\n",
              "                     secondary_cleaner.state.floatbank6_a_air  \\\n",
              "date                                                            \n",
              "2016-12-25 18:59:59                                       NaN   \n",
              "2016-12-25 19:59:59                                       NaN   \n",
              "2016-12-25 22:59:59                                       NaN   \n",
              "2016-12-25 23:59:59                                       NaN   \n",
              "2016-12-26 00:59:59                                       NaN   \n",
              "2016-12-26 03:59:59                                       NaN   \n",
              "\n",
              "                     secondary_cleaner.state.floatbank6_a_level  \n",
              "date                                                             \n",
              "2016-12-25 18:59:59                                         NaN  \n",
              "2016-12-25 19:59:59                                         NaN  \n",
              "2016-12-25 22:59:59                                         NaN  \n",
              "2016-12-25 23:59:59                                         NaN  \n",
              "2016-12-26 00:59:59                                         NaN  \n",
              "2016-12-26 03:59:59                                         NaN  "
            ]
          },
          "execution_count": 10,
          "metadata": {},
          "output_type": "execute_result"
        }
      ],
      "source": [
        "gold_test[gold_test.duplicated()]"
      ]
    },
    {
      "cell_type": "markdown",
      "metadata": {
        "id": "lXTdZX-D4m5J"
      },
      "source": [
        "Duplicates were found in the files. Basically, these are missing values in the measurements made within a few hours of one day in 2016. Perhaps it was some kind of failure."
      ]
    },
    {
      "cell_type": "markdown",
      "metadata": {
        "id": "cag-UQlT4m5J"
      },
      "source": [
        "### Calculating enrichment efficiency (recovery)"
      ]
    },
    {
      "cell_type": "markdown",
      "metadata": {
        "id": "sZYchkK_4m5J"
      },
      "source": [
        "Converting the formula for calculating recovery into a function."
      ]
    },
    {
      "cell_type": "code",
      "execution_count": null,
      "metadata": {
        "id": "r68WxnXa4m5K"
      },
      "outputs": [],
      "source": [
        "def recovery_check(c, f, t):\n",
        "    return (c * (f - t)) * 100 / (f * (c - t))"
      ]
    },
    {
      "cell_type": "code",
      "execution_count": null,
      "metadata": {
        "id": "8kedZhA94m5K"
      },
      "outputs": [],
      "source": [
        "#C - fraction of gold in the concentrate after flotation/treatment;\n",
        "#F - gold share in the feed/concentrate before flotation/treatment;\n",
        "#T - fraction of gold in tailings after flotation/treatment.\n",
        "\n",
        "gold_train['rougher.output.recovery_check'] = recovery_check(\n",
        "    gold_train['rougher.output.concentrate_au'],  # C\n",
        "    gold_train['rougher.input.feed_au'],  # F\n",
        "    gold_train['rougher.output.tail_au'])  # T"
      ]
    },
    {
      "cell_type": "markdown",
      "metadata": {
        "id": "aowCiPnZ4m5K"
      },
      "source": [
        "<br>\n",
        "Checking one of the parameters for omissions, before calculating the mean absolute error (MAE), "
      ]
    },
    {
      "cell_type": "code",
      "execution_count": null,
      "metadata": {
        "scrolled": false,
        "id": "OYNuFOJ24m5K",
        "outputId": "3dd9babd-e00b-42e6-a92e-1ad029315992"
      },
      "outputs": [
        {
          "data": {
            "text/plain": [
              "2573"
            ]
          },
          "execution_count": 13,
          "metadata": {},
          "output_type": "execute_result"
        }
      ],
      "source": [
        "gold_train['rougher.output.recovery'].isna().sum()"
      ]
    },
    {
      "cell_type": "markdown",
      "metadata": {
        "id": "8CotJ00z4m5L"
      },
      "source": [
        "<br>\n",
        "Calculation of MAE to calculate recovery and initial value. In the method for calculating the metric we will feed the data cleared of NaN. In the original set the parameters necessary for calculating the recovery metric contained NaN, so the column with metric calculations also contains them."
      ]
    },
    {
      "cell_type": "code",
      "execution_count": null,
      "metadata": {
        "id": "rHHF4GWv4m5L",
        "outputId": "0b2834f4-7fda-4d7b-db3b-a02a45f21b00"
      },
      "outputs": [
        {
          "data": {
            "text/plain": [
              "1.1015161834408401e-14"
            ]
          },
          "execution_count": 14,
          "metadata": {},
          "output_type": "execute_result"
        }
      ],
      "source": [
        "recovery_mae = metrics.mean_absolute_error(gold_train.dropna()['rougher.output.recovery'],\n",
        "                                           gold_train.dropna()['rougher.output.recovery_check'])\n",
        "recovery_mae"
      ]
    },
    {
      "cell_type": "markdown",
      "metadata": {
        "id": "YJ0EKf-x4m5L"
      },
      "source": [
        "The MAE tends to zero, so the recovery rate was initially calculated correctly."
      ]
    },
    {
      "cell_type": "markdown",
      "metadata": {
        "id": "br0cTCqF4m5L"
      },
      "source": [
        "### Sets analysis"
      ]
    },
    {
      "cell_type": "markdown",
      "metadata": {
        "id": "OyUbe2LN4m5M"
      },
      "source": [
        "As noted earlier, not all columns were included in the test set for reasons unknown to us. Our task is to bring the training and test sets to the same format with the same columns."
      ]
    },
    {
      "cell_type": "code",
      "execution_count": null,
      "metadata": {
        "scrolled": true,
        "id": "HuIu_Irt4m5M",
        "outputId": "6601ad08-46f8-4c1d-af87-411b005dd6a2"
      },
      "outputs": [
        {
          "data": {
            "text/plain": [
              "Index(['final.output.concentrate_ag', 'final.output.concentrate_pb',\n",
              "       'final.output.concentrate_sol', 'final.output.concentrate_au',\n",
              "       'final.output.recovery', 'final.output.tail_ag', 'final.output.tail_pb',\n",
              "       'final.output.tail_sol', 'final.output.tail_au',\n",
              "       'primary_cleaner.output.concentrate_ag',\n",
              "       'primary_cleaner.output.concentrate_pb',\n",
              "       'primary_cleaner.output.concentrate_sol',\n",
              "       'primary_cleaner.output.concentrate_au',\n",
              "       'primary_cleaner.output.tail_ag', 'primary_cleaner.output.tail_pb',\n",
              "       'primary_cleaner.output.tail_sol', 'primary_cleaner.output.tail_au',\n",
              "       'rougher.calculation.sulfate_to_au_concentrate',\n",
              "       'rougher.calculation.floatbank10_sulfate_to_au_feed',\n",
              "       'rougher.calculation.floatbank11_sulfate_to_au_feed',\n",
              "       'rougher.calculation.au_pb_ratio', 'rougher.output.concentrate_ag',\n",
              "       'rougher.output.concentrate_pb', 'rougher.output.concentrate_sol',\n",
              "       'rougher.output.concentrate_au', 'rougher.output.recovery',\n",
              "       'rougher.output.tail_ag', 'rougher.output.tail_pb',\n",
              "       'rougher.output.tail_sol', 'rougher.output.tail_au',\n",
              "       'secondary_cleaner.output.tail_ag', 'secondary_cleaner.output.tail_pb',\n",
              "       'secondary_cleaner.output.tail_sol', 'secondary_cleaner.output.tail_au',\n",
              "       'rougher.output.recovery_check'],\n",
              "      dtype='object')"
            ]
          },
          "execution_count": 15,
          "metadata": {},
          "output_type": "execute_result"
        }
      ],
      "source": [
        "gold_train.columns[~gold_train.columns.isin(gold_test.columns)]"
      ]
    },
    {
      "cell_type": "markdown",
      "metadata": {
        "id": "i_vzpiED4m5M"
      },
      "source": [
        "<br>\n",
        "The test set lacks the recovery rate for flotation and the final product, as well as many other final characteristics of each step. We also remove these columns from the train set."
      ]
    },
    {
      "cell_type": "code",
      "execution_count": null,
      "metadata": {
        "id": "teH8uDq24m5M",
        "outputId": "c9dc4610-232c-4d06-dbe7-f54aaf6732a9"
      },
      "outputs": [
        {
          "name": "stdout",
          "output_type": "stream",
          "text": [
            "gold_train: rows - 16860, columns - 52\n",
            "gold_test: rows - 5856, columns - 52\n"
          ]
        }
      ],
      "source": [
        "gold_train = gold_train[gold_test.columns]\n",
        "print(f'{name_list[0]}: rows - {gold_train.shape[0]}, columns - {gold_train.shape[1]}')\n",
        "print(f'{name_list[1]}: rows - {gold_test.shape[0]}, columns - {gold_test.shape[1]}')"
      ]
    },
    {
      "cell_type": "markdown",
      "metadata": {
        "id": "Z6WjTuP64m5N"
      },
      "source": [
        "### Data preprocessing"
      ]
    },
    {
      "cell_type": "markdown",
      "metadata": {
        "id": "NkGNasvG4m5N"
      },
      "source": [
        "Evaluate the number of null values and the columns where they are present. We will not remove them at this stage, when building the model we will try different options for handling null values (including removal)."
      ]
    },
    {
      "cell_type": "code",
      "execution_count": null,
      "metadata": {
        "scrolled": true,
        "id": "UhKh9wbg4m5N",
        "outputId": "5f647168-7e06-40ad-a59d-3d0b960f7a69"
      },
      "outputs": [
        {
          "data": {
            "text/plain": [
              "rougher.input.floatbank11_xanthate            11.293001\n",
              "primary_cleaner.input.sulfate                  7.752076\n",
              "primary_cleaner.input.depressant               7.485172\n",
              "rougher.input.floatbank10_sulfate              6.192171\n",
              "primary_cleaner.input.xanthate                 5.842230\n",
              "rougher.input.floatbank11_sulfate              3.695136\n",
              "rougher.state.floatbank10_e_air                3.576512\n",
              "rougher.input.feed_rate                        3.042705\n",
              "rougher.input.feed_size                        2.473310\n",
              "secondary_cleaner.state.floatbank2_a_air       2.153025\n",
              "rougher.input.floatbank10_xanthate             2.052195\n",
              "rougher.input.feed_sol                         1.731910\n",
              "rougher.input.feed_pb                          1.352313\n",
              "secondary_cleaner.state.floatbank2_b_air       0.919336\n",
              "secondary_cleaner.state.floatbank4_a_air       0.765125\n",
              "secondary_cleaner.state.floatbank3_a_level     0.670225\n",
              "secondary_cleaner.state.floatbank4_a_level     0.670225\n",
              "secondary_cleaner.state.floatbank2_b_level     0.664294\n",
              "secondary_cleaner.state.floatbank3_b_level     0.652432\n",
              "secondary_cleaner.state.floatbank2_a_level     0.646501\n",
              "secondary_cleaner.state.floatbank3_b_air       0.640569\n",
              "secondary_cleaner.state.floatbank6_a_air       0.610913\n",
              "secondary_cleaner.state.floatbank3_a_air       0.575326\n",
              "secondary_cleaner.state.floatbank4_b_level     0.551601\n",
              "secondary_cleaner.state.floatbank4_b_air       0.545670\n",
              "secondary_cleaner.state.floatbank6_a_level     0.504152\n",
              "secondary_cleaner.state.floatbank5_b_air       0.504152\n",
              "secondary_cleaner.state.floatbank5_a_level     0.504152\n",
              "secondary_cleaner.state.floatbank5_a_air       0.504152\n",
              "secondary_cleaner.state.floatbank5_b_level     0.498221\n",
              "rougher.input.feed_au                          0.492289\n",
              "rougher.input.feed_ag                          0.486358\n",
              "rougher.state.floatbank10_f_level              0.344009\n",
              "rougher.state.floatbank10_d_air                0.344009\n",
              "rougher.state.floatbank10_f_air                0.344009\n",
              "rougher.state.floatbank10_b_air                0.314353\n",
              "rougher.state.floatbank10_c_air                0.314353\n",
              "rougher.state.floatbank10_a_air                0.314353\n",
              "rougher.state.floatbank10_a_level              0.314353\n",
              "rougher.state.floatbank10_b_level              0.314353\n",
              "rougher.state.floatbank10_e_level              0.302491\n",
              "rougher.state.floatbank10_d_level              0.302491\n",
              "rougher.state.floatbank10_c_level              0.272835\n",
              "primary_cleaner.state.floatbank8_b_air         0.237248\n",
              "primary_cleaner.state.floatbank8_a_air         0.237248\n",
              "primary_cleaner.state.floatbank8_d_air         0.231317\n",
              "primary_cleaner.state.floatbank8_c_air         0.225386\n",
              "primary_cleaner.state.floatbank8_a_level       0.195730\n",
              "primary_cleaner.state.floatbank8_d_level       0.160142\n",
              "primary_cleaner.state.floatbank8_c_level       0.160142\n",
              "primary_cleaner.state.floatbank8_b_level       0.160142\n",
              "primary_cleaner.input.feed_size                0.000000\n",
              "dtype: float64"
            ]
          },
          "execution_count": 17,
          "metadata": {},
          "output_type": "execute_result"
        }
      ],
      "source": [
        "(gold_train.isna().sum() * 100 / len(gold_train)).sort_values(ascending=False) # estimating the relative number of null values by column"
      ]
    },
    {
      "cell_type": "markdown",
      "metadata": {
        "id": "yftGTWJV4m5N"
      },
      "source": [
        "Most of the missing values are present in the raw material (reagent) parameters in the flotation stage and the first purification stage."
      ]
    },
    {
      "cell_type": "markdown",
      "metadata": {
        "id": "GmQLAJeu4m5O"
      },
      "source": [
        "#### Conclusion to Part 1"
      ]
    },
    {
      "cell_type": "markdown",
      "metadata": {
        "id": "ajgPzYZS4m5P"
      },
      "source": [
        "At this stage, we have studied the data and prepared it for further research:\n",
        "- The <b>recovery</b> metric is calculated correctly;\n",
        "- The index is now the date and time of the reading, so we can avoid errors when resetting the indexes;\n",
        "- Columns train and test now have the same number of columns;\n",
        "- No duplicated lines found;"
      ]
    },
    {
      "cell_type": "markdown",
      "metadata": {
        "id": "P70U1ndu4m5P"
      },
      "source": [
        "## Data Analyse"
      ]
    },
    {
      "cell_type": "markdown",
      "metadata": {
        "id": "X21Yrufy4m5Q"
      },
      "source": [
        "### Tracking metal concentrations (Au, Ag, Pb)"
      ]
    },
    {
      "cell_type": "markdown",
      "metadata": {
        "id": "gEvmUUoX4m5Q"
      },
      "source": [
        "Analyze the data using visualization and determine metal concentrations at different stages of the process."
      ]
    },
    {
      "cell_type": "code",
      "execution_count": null,
      "metadata": {
        "scrolled": false,
        "id": "rMnS38Zv4m5Q",
        "outputId": "1ec3404e-aa37-4be6-fd59-a5625bd61aa0"
      },
      "outputs": [
        {
          "name": "stdout",
          "output_type": "stream",
          "text": [
            "Au Rougher mean - 17.88\n",
            "Au Primary Cleaner mean - 29.21\n",
            "Au Final mean - 40.0\n"
          ]
        },
        {
          "data": {
            "image/png": "[encoded data removed]",
            "text/plain": [
              "<Figure size 720x288 with 1 Axes>"
            ]
          },
          "metadata": {
            "needs_background": "light"
          },
          "output_type": "display_data"
        },
        {
          "name": "stdout",
          "output_type": "stream",
          "text": [
            "\n",
            "Ag Rougher mean - 10.87\n",
            "Ag Primary Cleaner mean - 7.69\n",
            "Ag Final mean - 4.78\n"
          ]
        },
        {
          "data": {
            "image/png": "[encoded data removed]",
            "text/plain": [
              "<Figure size 720x288 with 1 Axes>"
            ]
          },
          "metadata": {
            "needs_background": "light"
          },
          "output_type": "display_data"
        },
        {
          "name": "stdout",
          "output_type": "stream",
          "text": [
            "\n",
            "Pb Rougher mean - 6.9\n",
            "Pb Primary Cleaner mean - 8.92\n",
            "Pb Final mean - 9.1\n"
          ]
        },
        {
          "data": {
            "image/png": "[encoded data removed]",
            "text/plain": [
              "<Figure size 720x288 with 1 Axes>"
            ]
          },
          "metadata": {
            "needs_background": "light"
          },
          "output_type": "display_data"
        },
        {
          "name": "stdout",
          "output_type": "stream",
          "text": [
            "\n"
          ]
        }
      ],
      "source": [
        "metals = ['Au', 'Ag', 'Pb']\n",
        "stages = ['rougher.output.concentrate_', 'primary_cleaner.output.concentrate_', 'final.output.concentrate_']\n",
        "stage_names = ['Rougher', 'Primary Cleaner', 'Final']\n",
        "\n",
        "for metal in metals:\n",
        "    fig, ax = plt.subplots(figsize=(10,4))\n",
        "    for stage, name in zip(stages, stage_names):\n",
        "        stage = stage + metal.lower()\n",
        "        fig = sns.distplot(gold_full[stage].dropna(), hist=True, label=name)\n",
        "        print(metal, name, 'mean -', round(gold_full[stage].mean(), 2))\n",
        "    \n",
        "    ax.legend()\n",
        "    ax.set(title=metal+' Concentration Changing', xlabel='Concentration, %')\n",
        "    plt.show()\n",
        "    print()"
      ]
    },
    {
      "cell_type": "markdown",
      "metadata": {
        "id": "cve6A40X4m5Q"
      },
      "source": [
        "The metal concentrations change as follows:\n",
        "- Gold increases with each step; the average metal concentration at the final purification step is 44;\n",
        "- Silver decreases;\n",
        "- Lead increases slightly, this may be due to the characteristics of the chemical process of flotation or the type of ore;\n",
        "- Also at each stage for each metal there is about 5% of values around zero, this is more of an anomaly than a pattern."
      ]
    },
    {
      "cell_type": "markdown",
      "metadata": {
        "id": "PdY487j84m5R"
      },
      "source": [
        "### The size of raw material pellets on the training and test sets."
      ]
    },
    {
      "cell_type": "markdown",
      "metadata": {
        "id": "SCSZjbPq4m5R"
      },
      "source": [
        "Visualization of raw material pellet size distribution (for convenience, we discard the part of the tail with large values)."
      ]
    },
    {
      "cell_type": "code",
      "execution_count": null,
      "metadata": {
        "scrolled": false,
        "id": "nVGob6KT4m5S",
        "outputId": "aac44ac5-b5ed-43f4-a920-df8b377d49b6"
      },
      "outputs": [
        {
          "name": "stdout",
          "output_type": "stream",
          "text": [
            "Train Set:\n",
            "\n",
            "count    16443.000000\n",
            "mean        58.676444\n",
            "std         23.922591\n",
            "min          9.659576\n",
            "25%         47.575879\n",
            "50%         54.104257\n",
            "75%         65.051064\n",
            "max        484.967466\n",
            "Name: rougher.input.feed_size, dtype: float64\n",
            "\n",
            "\n",
            "Test Set:\n",
            "\n",
            "count    5834.000000\n",
            "mean       55.937535\n",
            "std        22.724254\n",
            "min         0.046369\n",
            "25%        43.890852\n",
            "50%        50.002004\n",
            "75%        61.638434\n",
            "max       477.445473\n",
            "Name: rougher.input.feed_size, dtype: float64\n"
          ]
        },
        {
          "data": {
            "image/png": "[encoded data removed]",
            "text/plain": [
              "<Figure size 720x288 with 1 Axes>"
            ]
          },
          "metadata": {
            "needs_background": "light"
          },
          "output_type": "display_data"
        }
      ],
      "source": [
        "fig, ax = plt.subplots(figsize=(10,4))\n",
        "ax = sns.distplot(gold_train['rougher.input.feed_size'].dropna()[gold_train['rougher.input.feed_size'] < 120], \n",
        "                  label='Train')\n",
        "\n",
        "ax = sns.distplot(gold_test['rougher.input.feed_size'].dropna()[gold_test['rougher.input.feed_size'] < 120], \n",
        "                  label='Test')\n",
        "\n",
        "ax.legend(loc='upper left')\n",
        "ax.set(title='Feed size distribution (Train & Test)', xlabel='Feed Size')\n",
        "\n",
        "print('Train Set:\\n')\n",
        "print(gold_train['rougher.input.feed_size'].dropna().describe())\n",
        "print('\\n\\nTest Set:\\n')\n",
        "print(gold_test['rougher.input.feed_size'].dropna().describe())"
      ]
    },
    {
      "cell_type": "markdown",
      "metadata": {
        "id": "ZOu0K-aN4m5S"
      },
      "source": [
        "The distributions differ from each other not critically."
      ]
    },
    {
      "cell_type": "markdown",
      "metadata": {
        "id": "kb46eRoX4m5T"
      },
      "source": [
        "### Analysis of the total concentration of all substances at different stages."
      ]
    },
    {
      "cell_type": "markdown",
      "metadata": {
        "id": "ztjYJVrO4m5T"
      },
      "source": [
        "Visualizing distributions to estimate the concentration of substances at different stages."
      ]
    },
    {
      "cell_type": "code",
      "execution_count": null,
      "metadata": {
        "scrolled": true,
        "id": "YkBbpGuy4m5T",
        "outputId": "e507f1f5-1ccd-4a5f-e510-da36c5915f83"
      },
      "outputs": [
        {
          "data": {
            "image/png": "[encoded data removed]",
            "text/plain": [
              "<Figure size 720x288 with 1 Axes>"
            ]
          },
          "metadata": {
            "needs_background": "light"
          },
          "output_type": "display_data"
        }
      ],
      "source": [
        "stages = ['rougher.output.concentrate_', 'primary_cleaner.output.concentrate_', 'final.output.concentrate_']\n",
        "\n",
        "fig, ax = plt.subplots(figsize=(10,4))\n",
        "for stage, name in zip(stages, stage_names):\n",
        "    value = (gold_full[stage + 'au'] + gold_full[stage + 'ag'] + gold_full[stage + 'pb']).dropna()\n",
        "    fig = sns.distplot(value, hist=True, label=name)\n",
        "\n",
        "ax.legend(loc='upper left')\n",
        "ax.set(title='Metals Concentration (Consolidated by Metal & Stage)', xlabel='Concentration, %')\n",
        "plt.show()"
      ]
    },
    {
      "cell_type": "markdown",
      "metadata": {
        "id": "v05jXCiZ4m5T"
      },
      "source": [
        "The concentration of metals increases predictably from stage to stage.\n",
        "\n",
        "Null values are also found, and we will replace them with empty values."
      ]
    },
    {
      "cell_type": "code",
      "execution_count": null,
      "metadata": {
        "id": "nWkIWOOb4m5T"
      },
      "outputs": [],
      "source": [
        "gold_full = gold_full.replace(0, np.nan)\n",
        "gold_train = gold_train.replace(0, np.nan)\n",
        "gold_test = gold_test.replace(0, np.nan)"
      ]
    },
    {
      "cell_type": "markdown",
      "metadata": {
        "id": "ZBzmCddj4m5U"
      },
      "source": [
        "#### Conclusion to Part 2"
      ]
    },
    {
      "cell_type": "markdown",
      "metadata": {
        "id": "a20khZUD4m5U"
      },
      "source": [
        "At this stage, we did 2 important things: we analyzed the specifics of the data in more detail and delved into the nuances of metal mining, as well as replaced the null values with missing values for further processing."
      ]
    },
    {
      "cell_type": "markdown",
      "metadata": {
        "id": "mzg-in0D4m5U"
      },
      "source": [
        "## Modelling"
      ]
    },
    {
      "cell_type": "markdown",
      "metadata": {
        "id": "HBDRlXW14m5V"
      },
      "source": [
        "### sMAPE"
      ]
    },
    {
      "cell_type": "markdown",
      "metadata": {
        "id": "it9ncdwf4m5V"
      },
      "source": [
        "Write a function for calculating the sMAPE (Symmetric Mean Absolute Percentage Error) metric and create this metric for SciKit Learn library models."
      ]
    },
    {
      "cell_type": "code",
      "execution_count": null,
      "metadata": {
        "id": "P7DAHCs64m5V"
      },
      "outputs": [],
      "source": [
        "def smape(X, Y):\n",
        "    return (np.sum(np.abs(X - Y) / ((np.abs(X) + np.abs(Y))/2)) * 100) / len(X)"
      ]
    },
    {
      "cell_type": "code",
      "execution_count": null,
      "metadata": {
        "id": "slLPcONh4m5V"
      },
      "outputs": [],
      "source": [
        "smape_score = metrics.make_scorer(smape, greater_is_better=False)"
      ]
    },
    {
      "cell_type": "markdown",
      "metadata": {
        "id": "tK9ytgTr4m5V"
      },
      "source": [
        "### Choosing the best model"
      ]
    },
    {
      "cell_type": "markdown",
      "metadata": {
        "id": "g0A4wW_64m5V"
      },
      "source": [
        "Predicting <b>rougher.output.recovery</b> it makes sense to work only with those stages that are available before receiving this data. They can be defined by columns that contain the word \"rougher\".\n",
        "\n",
        "No special manipulations are required to calculate <b>final.output.recovery</b>, we will consider data from all previous stages."
      ]
    },
    {
      "cell_type": "code",
      "execution_count": null,
      "metadata": {
        "scrolled": true,
        "id": "UMd6CiAS4m5W"
      },
      "outputs": [],
      "source": [
        "# Creating sets for rougher\n",
        "features_train_rougher = gold_train.loc[:, gold_train.columns.str.contains('rougher')] \n",
        "target_train_rougher = gold_full.loc[features_train_rougher.index, 'rougher.output.recovery']\n",
        "features_test_rougher = gold_test.loc[:, gold_test.columns.str.contains('rougher')]\n",
        "\n",
        "# Creating sets for final\n",
        "features_train_final = gold_train\n",
        "target_train_final = gold_full.loc[features_train_final.index, 'final.output.recovery']\n",
        "features_test_final = gold_test"
      ]
    },
    {
      "cell_type": "markdown",
      "metadata": {
        "id": "UQBDu5os4m5W"
      },
      "source": [
        "<br>\n",
        "Creating a pipeline of the necessary tools and set the parameters for the search."
      ]
    },
    {
      "cell_type": "code",
      "execution_count": null,
      "metadata": {
        "id": "RSS7KTOF4m5W"
      },
      "outputs": [],
      "source": [
        "from sklearn.dummy import DummyRegressor"
      ]
    },
    {
      "cell_type": "code",
      "execution_count": null,
      "metadata": {
        "id": "d-15pgs_4m5W"
      },
      "outputs": [],
      "source": [
        "state = RandomState(12345)\n",
        "\n",
        "pipe = Pipeline([\n",
        "    ('imp', SimpleImputer(missing_values=np.nan)),\n",
        "    ('scaler', StandardScaler()),\n",
        "    ('model', RandomForestRegressor(n_estimators=100, random_state=state))\n",
        "])\n",
        "\n",
        "params = [\n",
        "    {\n",
        "        'imp__strategy':['mean', 'median', 'most_frequent'],\n",
        "        'model':[RandomForestRegressor(max_depth=10)]\n",
        "    }, {\n",
        "        'imp__strategy': ['mean', 'median', 'most_frequent'],\n",
        "        'model':[LinearRegression()]\n",
        "    },{\n",
        "        'imp__strategy': ['mean', 'median', 'most_frequent'],\n",
        "        'model':[Lasso(random_state=state)]\n",
        "    }\n",
        "]"
      ]
    },
    {
      "cell_type": "markdown",
      "metadata": {
        "id": "2b_oznP94m5W"
      },
      "source": [
        "<br>\n",
        "Filling in the null values in the target features, replacing them with the average."
      ]
    },
    {
      "cell_type": "code",
      "execution_count": null,
      "metadata": {
        "id": "-jVOYnrY4m5X"
      },
      "outputs": [],
      "source": [
        "target_train_rougher = target_train_rougher.fillna(target_train_rougher.mean())\n",
        "target_train_final = target_train_final.fillna(target_train_final.mean())"
      ]
    },
    {
      "cell_type": "markdown",
      "metadata": {
        "id": "sCcFTMCK4m5X"
      },
      "source": [
        "<br>\n",
        "Seting the GridSearchCV parameters for rougher."
      ]
    },
    {
      "cell_type": "code",
      "execution_count": null,
      "metadata": {
        "id": "DYKJSIqm4m5Y"
      },
      "outputs": [],
      "source": [
        "grid_rougher = GridSearchCV(pipe, param_grid=params, cv=3, scoring=smape_score, n_jobs=-1)"
      ]
    },
    {
      "cell_type": "code",
      "execution_count": null,
      "metadata": {
        "id": "arKDFu_y4m5Y",
        "outputId": "aecc5420-1aca-45f6-f916-119f3ecd6b62"
      },
      "outputs": [
        {
          "name": "stderr",
          "output_type": "stream",
          "text": [
            "/opt/conda/lib/python3.7/site-packages/sklearn/ensemble/forest.py:245: FutureWarning: The default value of n_estimators will change from 10 in version 0.20 to 100 in 0.22.\n",
            "  \"10 in version 0.20 to 100 in 0.22.\", FutureWarning)\n"
          ]
        },
        {
          "data": {
            "text/plain": [
              "GridSearchCV(cv=3, error_score='raise-deprecating',\n",
              "             estimator=Pipeline(memory=None,\n",
              "                                steps=[('imp',\n",
              "                                        SimpleImputer(add_indicator=False,\n",
              "                                                      copy=True,\n",
              "                                                      fill_value=None,\n",
              "                                                      missing_values=nan,\n",
              "                                                      strategy='mean',\n",
              "                                                      verbose=0)),\n",
              "                                       ('scaler',\n",
              "                                        StandardScaler(copy=True,\n",
              "                                                       with_mean=True,\n",
              "                                                       with_std=True)),\n",
              "                                       ('model',\n",
              "                                        RandomForestRegressor(bootstrap=True,\n",
              "                                                              criterion='mse',\n",
              "                                                              max_depth=None,\n",
              "                                                              max_f...\n",
              "                         {'imp__strategy': ['mean', 'median', 'most_frequent'],\n",
              "                          'model': [Lasso(alpha=1.0, copy_X=True,\n",
              "                                          fit_intercept=True, max_iter=1000,\n",
              "                                          normalize=False, positive=False,\n",
              "                                          precompute=False,\n",
              "                                          random_state=RandomState(MT19937) at 0x7FAEAEE8BC00,\n",
              "                                          selection='cyclic', tol=0.0001,\n",
              "                                          warm_start=False)]}],\n",
              "             pre_dispatch='2*n_jobs', refit=True, return_train_score=False,\n",
              "             scoring=make_scorer(smape, greater_is_better=False), verbose=0)"
            ]
          },
          "execution_count": 30,
          "metadata": {},
          "output_type": "execute_result"
        }
      ],
      "source": [
        "grid_rougher.fit(features_train_rougher, target_train_rougher)"
      ]
    },
    {
      "cell_type": "code",
      "execution_count": null,
      "metadata": {
        "id": "9mWHrmD04m5Y",
        "outputId": "0d13bc4c-24b7-43b9-e712-834aead10fd6"
      },
      "outputs": [
        {
          "name": "stdout",
          "output_type": "stream",
          "text": [
            "Rougher:\n",
            "\n",
            "Best params: {'imp__strategy': 'median', 'model': RandomForestRegressor(bootstrap=True, criterion='mse', max_depth=10,\n",
            "                      max_features='auto', max_leaf_nodes=None,\n",
            "                      min_impurity_decrease=0.0, min_impurity_split=None,\n",
            "                      min_samples_leaf=1, min_samples_split=2,\n",
            "                      min_weight_fraction_leaf=0.0, n_estimators=10,\n",
            "                      n_jobs=None, oob_score=False, random_state=None,\n",
            "                      verbose=0, warm_start=False)} \n",
            "Best Score: -7.8318903123852905\n"
          ]
        }
      ],
      "source": [
        "print('Rougher:\\n\\nBest params:', grid_rougher.best_params_,'\\nBest Score:', grid_rougher.best_score_)"
      ]
    },
    {
      "cell_type": "markdown",
      "metadata": {
        "id": "GvcsKiRi4m5Y"
      },
      "source": [
        "The best result was shown by the Random Forest model."
      ]
    },
    {
      "cell_type": "markdown",
      "metadata": {
        "id": "0hqKqivg4m5Z"
      },
      "source": [
        "<br>\n",
        "Set the GridSearchCV parameters for final."
      ]
    },
    {
      "cell_type": "code",
      "execution_count": null,
      "metadata": {
        "id": "cI221XB54m5Z"
      },
      "outputs": [],
      "source": [
        "grid_final = GridSearchCV(pipe, param_grid=params, cv=3, scoring=smape_score, n_jobs=-1)"
      ]
    },
    {
      "cell_type": "code",
      "execution_count": null,
      "metadata": {
        "id": "iC_29ss14m5Z",
        "outputId": "134ef0b4-a588-4f77-ac63-cff0ba35c7e4"
      },
      "outputs": [
        {
          "data": {
            "text/plain": [
              "GridSearchCV(cv=3, error_score='raise-deprecating',\n",
              "             estimator=Pipeline(memory=None,\n",
              "                                steps=[('imp',\n",
              "                                        SimpleImputer(add_indicator=False,\n",
              "                                                      copy=True,\n",
              "                                                      fill_value=None,\n",
              "                                                      missing_values=nan,\n",
              "                                                      strategy='mean',\n",
              "                                                      verbose=0)),\n",
              "                                       ('scaler',\n",
              "                                        StandardScaler(copy=True,\n",
              "                                                       with_mean=True,\n",
              "                                                       with_std=True)),\n",
              "                                       ('model',\n",
              "                                        RandomForestRegressor(bootstrap=True,\n",
              "                                                              criterion='mse',\n",
              "                                                              max_depth=None,\n",
              "                                                              max_f...\n",
              "                         {'imp__strategy': ['mean', 'median', 'most_frequent'],\n",
              "                          'model': [Lasso(alpha=1.0, copy_X=True,\n",
              "                                          fit_intercept=True, max_iter=1000,\n",
              "                                          normalize=False, positive=False,\n",
              "                                          precompute=False,\n",
              "                                          random_state=RandomState(MT19937) at 0x7FAEAEE8BC00,\n",
              "                                          selection='cyclic', tol=0.0001,\n",
              "                                          warm_start=False)]}],\n",
              "             pre_dispatch='2*n_jobs', refit=True, return_train_score=False,\n",
              "             scoring=make_scorer(smape, greater_is_better=False), verbose=0)"
            ]
          },
          "execution_count": 33,
          "metadata": {},
          "output_type": "execute_result"
        }
      ],
      "source": [
        "grid_final.fit(features_train_final, target_train_final)"
      ]
    },
    {
      "cell_type": "code",
      "execution_count": null,
      "metadata": {
        "id": "H7iZibpe4m5Z",
        "outputId": "96f66b77-bdfe-4911-ce04-226534df01f0"
      },
      "outputs": [
        {
          "name": "stdout",
          "output_type": "stream",
          "text": [
            "Final:\n",
            "\n",
            "Best params: {'imp__strategy': 'mean', 'model': Lasso(alpha=1.0, copy_X=True, fit_intercept=True, max_iter=1000,\n",
            "      normalize=False, positive=False, precompute=False,\n",
            "      random_state=RandomState(MT19937) at 0x7FAEAEE8BC00, selection='cyclic',\n",
            "      tol=0.0001, warm_start=False)} \n",
            "Best Score: -11.395731805142487\n"
          ]
        }
      ],
      "source": [
        "print('Final:\\n\\nBest params:', grid_final.best_params_,'\\nBest Score:', grid_final.best_score_)"
      ]
    },
    {
      "cell_type": "markdown",
      "metadata": {
        "id": "04oNDWxl4m5Z"
      },
      "source": [
        "The best result was shown by the Lasso Regression."
      ]
    },
    {
      "cell_type": "markdown",
      "metadata": {
        "id": "XtjzQZBy4m5a"
      },
      "source": [
        "<br>Calculating sMAPE using the best selected models."
      ]
    },
    {
      "cell_type": "code",
      "execution_count": null,
      "metadata": {
        "id": "j7eF9THi4m5a"
      },
      "outputs": [],
      "source": [
        "pipe_rougher = grid_rougher.best_estimator_"
      ]
    },
    {
      "cell_type": "code",
      "execution_count": null,
      "metadata": {
        "id": "SjKNbty54m5a"
      },
      "outputs": [],
      "source": [
        "pipe_rougher.fit(features_train_rougher, target_train_rougher)\n",
        "target_test_rougher = pipe_rougher.predict(features_test_rougher)\n",
        "smape_rougher = smape(gold_full.loc[features_test_rougher.index, 'rougher.output.recovery'], target_test_rougher)"
      ]
    },
    {
      "cell_type": "code",
      "execution_count": null,
      "metadata": {
        "id": "n8w-M-Zl4m5a",
        "outputId": "13972ad3-9cf7-4332-df49-2e898456724f"
      },
      "outputs": [
        {
          "data": {
            "text/plain": [
              "4.317387551202418"
            ]
          },
          "execution_count": 37,
          "metadata": {},
          "output_type": "execute_result"
        }
      ],
      "source": [
        "smape_rougher"
      ]
    },
    {
      "cell_type": "code",
      "execution_count": null,
      "metadata": {
        "id": "xHURrgE14m5a"
      },
      "outputs": [],
      "source": [
        "pipe_final = grid_final.best_estimator_"
      ]
    },
    {
      "cell_type": "code",
      "execution_count": null,
      "metadata": {
        "id": "WOA50YT24m5a"
      },
      "outputs": [],
      "source": [
        "pipe_final.fit(features_train_final, target_train_final)\n",
        "target_test_final = pipe_final.predict(features_test_final)\n",
        "smape_final = smape(gold_full.loc[features_test_final.index, 'final.output.recovery'], target_test_final)"
      ]
    },
    {
      "cell_type": "code",
      "execution_count": null,
      "metadata": {
        "id": "IkQqebxL4m5b",
        "outputId": "f98ad2ba-a513-4ace-8f35-4378aee70c44"
      },
      "outputs": [
        {
          "data": {
            "text/plain": [
              "6.218953375130977"
            ]
          },
          "execution_count": 40,
          "metadata": {},
          "output_type": "execute_result"
        }
      ],
      "source": [
        "smape = 0.25*smape_rougher + 0.75*smape_final\n",
        "smape"
      ]
    },
    {
      "cell_type": "code",
      "execution_count": null,
      "metadata": {
        "id": "Eq7NF3SX4m5b",
        "outputId": "48ee3bfa-b54f-4cf6-b67d-5d4e8ed98672"
      },
      "outputs": [
        {
          "data": {
            "text/plain": [
              "(4.317387551202418, 6.85280864977383)"
            ]
          },
          "execution_count": 41,
          "metadata": {},
          "output_type": "execute_result"
        }
      ],
      "source": [
        "smape_rougher, smape_final"
      ]
    },
    {
      "cell_type": "markdown",
      "metadata": {
        "id": "PWpJLw7o4m5b"
      },
      "source": [
        "Dummy test for the model."
      ]
    },
    {
      "cell_type": "code",
      "execution_count": null,
      "metadata": {
        "id": "94lPQmom4m5b"
      },
      "outputs": [],
      "source": [
        "rougher_median = pd.Series(target_train_rougher.median(), index=pd.Series(target_test_rougher).index)\n",
        "final_median = pd.Series(target_train_final.median(), index=pd.Series(target_test_final).index)\n",
        "\n",
        "dummy_test = (0.25*smape(target_test_rougher, rougher_median)) + (0.75*smape(target_test_final, final_median))\n",
        "print(dummy_test)"
      ]
    },
    {
      "cell_type": "code",
      "execution_count": null,
      "metadata": {
        "id": "CFze0-Fm4m5c",
        "outputId": "d2bc9f97-1467-40b5-b90f-db30262ea07e"
      },
      "outputs": [
        {
          "data": {
            "text/plain": [
              "0        87.107763\n",
              "1        86.843261\n",
              "2        86.842308\n",
              "3        87.226430\n",
              "4        86.688794\n",
              "           ...    \n",
              "16855    89.574376\n",
              "16856    87.724007\n",
              "16857    88.890579\n",
              "16858    89.858126\n",
              "16859    89.514960\n",
              "Name: rougher.output.recovery, Length: 16860, dtype: float64"
            ]
          },
          "execution_count": 43,
          "metadata": {},
          "output_type": "execute_result"
        }
      ],
      "source": [
        "target_train_rougher.reset_index(drop=True)"
      ]
    },
    {
      "cell_type": "code",
      "execution_count": null,
      "metadata": {
        "id": "SgVz8CO54m5c"
      },
      "outputs": [],
      "source": [
        "def Smape(target_1, predictions):    \n",
        "    a = abs(target_1 - predictions)\n",
        "    b = (abs(target_1) + abs(predictions)) / 2\n",
        "    errors = a / b\n",
        "    return errors.sum()/ errors.shape[0] * 100"
      ]
    },
    {
      "cell_type": "markdown",
      "metadata": {
        "id": "mEBdQm8e4m5d"
      },
      "source": [
        "<br>\n",
        "Testing the model and comparing the resulting predictions with the primitive median model."
      ]
    },
    {
      "cell_type": "code",
      "execution_count": null,
      "metadata": {
        "id": "8EyECoZq4m5d",
        "outputId": "1c0dd75c-659e-4685-ae29-fc3a1398e7a8"
      },
      "outputs": [
        {
          "name": "stdout",
          "output_type": "stream",
          "text": [
            "7.0252828249449495\n"
          ]
        }
      ],
      "source": [
        "target_test_r = gold_full.loc[features_test_rougher.index, 'rougher.output.recovery'].reset_index(drop=True)\n",
        "target_test_f = gold_full.loc[features_test_final.index, 'final.output.recovery'].reset_index(drop=True)\n",
        "\n",
        "rougher_median = pd.Series(target_train_rougher.reset_index(drop=True).median(), index=target_test_r.index)\n",
        "final_median = pd.Series(target_train_final.reset_index(drop=True).median(), index=target_test_f.index)\n",
        "\n",
        "dummy_test = (0.25*Smape(target_test_r, rougher_median)) +\\\n",
        "             (0.75*Smape(target_test_f, final_median))\n",
        "print(dummy_test)"
      ]
    },
    {
      "cell_type": "markdown",
      "metadata": {
        "id": "82u6Fxtj4m5e"
      },
      "source": [
        "#### Conclusion to Part 3"
      ]
    },
    {
      "cell_type": "markdown",
      "metadata": {
        "id": "wIEHAeWB4m5e"
      },
      "source": [
        "We built a model and made predictions for the flotation steps. The final sMAPE metric was 6.19."
      ]
    }
  ],
  "metadata": {
    "kernelspec": {
      "display_name": "Python 3 (ipykernel)",
      "language": "python",
      "name": "python3"
    },
    "language_info": {
      "codemirror_mode": {
        "name": "ipython",
        "version": 3
      },
      "file_extension": ".py",
      "mimetype": "text/x-python",
      "name": "python",
      "nbconvert_exporter": "python",
      "pygments_lexer": "ipython3",
      "version": "3.9.5"
    },
    "toc": {
      "base_numbering": 1,
      "nav_menu": {},
      "number_sections": true,
      "sideBar": true,
      "skip_h1_title": true,
      "title_cell": "Содержание",
      "title_sidebar": "Contents",
      "toc_cell": true,
      "toc_position": {
        "height": "calc(100% - 180px)",
        "left": "10px",
        "top": "150px",
        "width": "165px"
      },
      "toc_section_display": true,
      "toc_window_display": true
    },
    "colab": {
      "name": "11-Gold-recovery-rate.ipynb",
      "provenance": []
    }
  },
  "nbformat": 4,
  "nbformat_minor": 0
}