{
  "cells": [
    {
      "cell_type": "markdown",
      "metadata": {
        "id": "view-in-github",
        "colab_type": "text"
      },
      "source": [
        "<a href=\"https://colab.research.google.com/github/pmkhlv/ds-study-projects/blob/main/10_oil_well_location.ipynb\" target=\"_parent\"><img src=\"https://colab.research.google.com/assets/colab-badge.svg\" alt=\"Open In Colab\"/></a>"
      ]
    },
    {
      "cell_type": "markdown",
      "metadata": {
        "id": "UaoqOrqz6oHE"
      },
      "source": [
        "# Choosing a location for an oil well\n"
      ]
    },
    {
      "cell_type": "markdown",
      "metadata": {
        "id": "IQ-dZGPX6oHF"
      },
      "source": [
        "This analysis is carried out for the mining company \"Company X\". Based on the data, we need to decide where to drill a new well.\n",
        "\n",
        "We were provided with oil samples in three regions: in each 10,000 fields, where we measured the quality of oil and the volume of its reserves. Using machine learning, we will determine the region where mining will bring the greatest profit.\n",
        "\n",
        "<b>Steps to choose a location:</b>\n",
        "\n",
        "- Oil fields are searched in a selected region, and the the features are determined for each;\n",
        "- The model is built and the volume of reserves is estimated;\n",
        "- Fields with the highest value estimates are selected. The number of fields depends on the company's budget and the cost of developing of one well;\n",
        "- Profit is equal to the total profit of the selected fields\n",
        "\n",
        "<b>Conditions for a location:</b>\n",
        "- When the region is explored, 500 areas are estimated, and after analysis the best 200 areas are selected for development.\n",
        "- The budget for well development in one region is 10 billion rubles.\n",
        "- At current prices, one barrel of raw oil brings 450 rubles of income. The income from each unit is 450 thousand rubles, because the volume is specified in thousands of barrels.\n",
        "- After assessing the risks, it is necessary to leave only those regions where the probability of losses is less than 2.5%. Among them the region with the highest average profit is selected.\n",
        "\n",
        "<b>Input data:</b>\n",
        "- /datasets/geo_data_0.csv. - Region #0 data\n",
        "- /datasets/geo_data_1.csv. - Region #1 data\n",
        "- /datasets/geo_data_2.csv. - Region #2 data\n",
        "- id - well unique identifier\n",
        "- f0, f1, f2 - three well features\n",
        "- product - reserves volume in the well (thousand barrels)"
      ]
    },
    {
      "cell_type": "markdown",
      "metadata": {
        "id": "EbMtWjow6oHH"
      },
      "source": [
        "Downloading and preparing data"
      ]
    },
    {
      "cell_type": "markdown",
      "metadata": {
        "id": "LeMBtydp6oHJ"
      },
      "source": [
        "\n",
        "Importing libraries"
      ]
    },
    {
      "cell_type": "code",
      "execution_count": null,
      "metadata": {
        "id": "Qw_RLGqa6oHK"
      },
      "outputs": [],
      "source": [
        "import pandas as pd\n",
        "import numpy as np\n",
        "from sklearn.model_selection import train_test_split\n",
        "from sklearn.metrics import mean_squared_error\n",
        "from sklearn.linear_model import LinearRegression\n",
        "import math"
      ]
    },
    {
      "cell_type": "markdown",
      "metadata": {
        "id": "rkpKV8Vp6oHL"
      },
      "source": [
        "\n",
        "<br>\n",
        "Loading data files and creating a list (for further convenience of working with cycles). We can not combine the files - we need to analyze each region separately.\n"
      ]
    },
    {
      "cell_type": "code",
      "execution_count": null,
      "metadata": {
        "id": "KhqCBgVe6oHM"
      },
      "outputs": [],
      "source": [
        "df0 = pd.read_csv('/datasets/geo_data_0.csv')\n",
        "df1 = pd.read_csv('/datasets/geo_data_1.csv')\n",
        "df2 = pd.read_csv('/datasets/geo_data_2.csv')\n",
        "df_list = [df0, df1, df2]\n"
      ]
    },
    {
      "cell_type": "markdown",
      "metadata": {
        "id": "U8eRCTPZ6oHM"
      },
      "source": [
        "\n",
        "<br>\n",
        "Let's see what the data looks like."
      ]
    },
    {
      "cell_type": "code",
      "execution_count": null,
      "metadata": {
        "scrolled": false,
        "id": "YDfBimPV6oHM",
        "outputId": "867e3bf1-1252-4b58-d0a2-f8e6bd8618ad"
      },
      "outputs": [
        {
          "data": {
            "text/plain": [
              "'----- Данные Региона 0 -----'"
            ]
          },
          "metadata": {},
          "output_type": "display_data"
        },
        {
          "data": {
            "text/html": [
              "<div>\n",
              "<style scoped>\n",
              "    .dataframe tbody tr th:only-of-type {\n",
              "        vertical-align: middle;\n",
              "    }\n",
              "\n",
              "    .dataframe tbody tr th {\n",
              "        vertical-align: top;\n",
              "    }\n",
              "\n",
              "    .dataframe thead th {\n",
              "        text-align: right;\n",
              "    }\n",
              "</style>\n",
              "<table border=\"1\" class=\"dataframe\">\n",
              "  <thead>\n",
              "    <tr style=\"text-align: right;\">\n",
              "      <th></th>\n",
              "      <th>id</th>\n",
              "      <th>f0</th>\n",
              "      <th>f1</th>\n",
              "      <th>f2</th>\n",
              "      <th>product</th>\n",
              "    </tr>\n",
              "  </thead>\n",
              "  <tbody>\n",
              "    <tr>\n",
              "      <td>0</td>\n",
              "      <td>txEyH</td>\n",
              "      <td>0.705745</td>\n",
              "      <td>-0.497823</td>\n",
              "      <td>1.221170</td>\n",
              "      <td>105.280062</td>\n",
              "    </tr>\n",
              "    <tr>\n",
              "      <td>1</td>\n",
              "      <td>2acmU</td>\n",
              "      <td>1.334711</td>\n",
              "      <td>-0.340164</td>\n",
              "      <td>4.365080</td>\n",
              "      <td>73.037750</td>\n",
              "    </tr>\n",
              "    <tr>\n",
              "      <td>2</td>\n",
              "      <td>409Wp</td>\n",
              "      <td>1.022732</td>\n",
              "      <td>0.151990</td>\n",
              "      <td>1.419926</td>\n",
              "      <td>85.265647</td>\n",
              "    </tr>\n",
              "  </tbody>\n",
              "</table>\n",
              "</div>"
            ],
            "text/plain": [
              "      id        f0        f1        f2     product\n",
              "0  txEyH  0.705745 -0.497823  1.221170  105.280062\n",
              "1  2acmU  1.334711 -0.340164  4.365080   73.037750\n",
              "2  409Wp  1.022732  0.151990  1.419926   85.265647"
            ]
          },
          "metadata": {},
          "output_type": "display_data"
        },
        {
          "data": {
            "text/plain": [
              "'----- Данные Региона 1 -----'"
            ]
          },
          "metadata": {},
          "output_type": "display_data"
        },
        {
          "data": {
            "text/html": [
              "<div>\n",
              "<style scoped>\n",
              "    .dataframe tbody tr th:only-of-type {\n",
              "        vertical-align: middle;\n",
              "    }\n",
              "\n",
              "    .dataframe tbody tr th {\n",
              "        vertical-align: top;\n",
              "    }\n",
              "\n",
              "    .dataframe thead th {\n",
              "        text-align: right;\n",
              "    }\n",
              "</style>\n",
              "<table border=\"1\" class=\"dataframe\">\n",
              "  <thead>\n",
              "    <tr style=\"text-align: right;\">\n",
              "      <th></th>\n",
              "      <th>id</th>\n",
              "      <th>f0</th>\n",
              "      <th>f1</th>\n",
              "      <th>f2</th>\n",
              "      <th>product</th>\n",
              "    </tr>\n",
              "  </thead>\n",
              "  <tbody>\n",
              "    <tr>\n",
              "      <td>0</td>\n",
              "      <td>kBEdx</td>\n",
              "      <td>-15.001348</td>\n",
              "      <td>-8.276000</td>\n",
              "      <td>-0.005876</td>\n",
              "      <td>3.179103</td>\n",
              "    </tr>\n",
              "    <tr>\n",
              "      <td>1</td>\n",
              "      <td>62mP7</td>\n",
              "      <td>14.272088</td>\n",
              "      <td>-3.475083</td>\n",
              "      <td>0.999183</td>\n",
              "      <td>26.953261</td>\n",
              "    </tr>\n",
              "    <tr>\n",
              "      <td>2</td>\n",
              "      <td>vyE1P</td>\n",
              "      <td>6.263187</td>\n",
              "      <td>-5.948386</td>\n",
              "      <td>5.001160</td>\n",
              "      <td>134.766305</td>\n",
              "    </tr>\n",
              "  </tbody>\n",
              "</table>\n",
              "</div>"
            ],
            "text/plain": [
              "      id         f0        f1        f2     product\n",
              "0  kBEdx -15.001348 -8.276000 -0.005876    3.179103\n",
              "1  62mP7  14.272088 -3.475083  0.999183   26.953261\n",
              "2  vyE1P   6.263187 -5.948386  5.001160  134.766305"
            ]
          },
          "metadata": {},
          "output_type": "display_data"
        },
        {
          "data": {
            "text/plain": [
              "'----- Данные Региона 2 -----'"
            ]
          },
          "metadata": {},
          "output_type": "display_data"
        },
        {
          "data": {
            "text/html": [
              "<div>\n",
              "<style scoped>\n",
              "    .dataframe tbody tr th:only-of-type {\n",
              "        vertical-align: middle;\n",
              "    }\n",
              "\n",
              "    .dataframe tbody tr th {\n",
              "        vertical-align: top;\n",
              "    }\n",
              "\n",
              "    .dataframe thead th {\n",
              "        text-align: right;\n",
              "    }\n",
              "</style>\n",
              "<table border=\"1\" class=\"dataframe\">\n",
              "  <thead>\n",
              "    <tr style=\"text-align: right;\">\n",
              "      <th></th>\n",
              "      <th>id</th>\n",
              "      <th>f0</th>\n",
              "      <th>f1</th>\n",
              "      <th>f2</th>\n",
              "      <th>product</th>\n",
              "    </tr>\n",
              "  </thead>\n",
              "  <tbody>\n",
              "    <tr>\n",
              "      <td>0</td>\n",
              "      <td>fwXo0</td>\n",
              "      <td>-1.146987</td>\n",
              "      <td>0.963328</td>\n",
              "      <td>-0.828965</td>\n",
              "      <td>27.758673</td>\n",
              "    </tr>\n",
              "    <tr>\n",
              "      <td>1</td>\n",
              "      <td>WJtFt</td>\n",
              "      <td>0.262778</td>\n",
              "      <td>0.269839</td>\n",
              "      <td>-2.530187</td>\n",
              "      <td>56.069697</td>\n",
              "    </tr>\n",
              "    <tr>\n",
              "      <td>2</td>\n",
              "      <td>ovLUW</td>\n",
              "      <td>0.194587</td>\n",
              "      <td>0.289035</td>\n",
              "      <td>-5.586433</td>\n",
              "      <td>62.871910</td>\n",
              "    </tr>\n",
              "  </tbody>\n",
              "</table>\n",
              "</div>"
            ],
            "text/plain": [
              "      id        f0        f1        f2    product\n",
              "0  fwXo0 -1.146987  0.963328 -0.828965  27.758673\n",
              "1  WJtFt  0.262778  0.269839 -2.530187  56.069697\n",
              "2  ovLUW  0.194587  0.289035 -5.586433  62.871910"
            ]
          },
          "metadata": {},
          "output_type": "display_data"
        }
      ],
      "source": [
        "for df, j in zip(df_list, range(3)):\n",
        "    display(f'----- Данные Региона {j} -----', df.head(3))"
      ]
    },
    {
      "cell_type": "markdown",
      "metadata": {
        "id": "8JziyeDt6oHO"
      },
      "source": [
        "<br>\n",
        "Exploring null values and data types."
      ]
    },
    {
      "cell_type": "code",
      "execution_count": null,
      "metadata": {
        "id": "puVTQRZe6oHO",
        "outputId": "c65c560a-9e64-4178-ba97-785625efa99a"
      },
      "outputs": [
        {
          "data": {
            "text/plain": [
              "'----- Данные Региона 0 -----'"
            ]
          },
          "metadata": {},
          "output_type": "display_data"
        },
        {
          "name": "stdout",
          "output_type": "stream",
          "text": [
            "<class 'pandas.core.frame.DataFrame'>\n",
            "RangeIndex: 100000 entries, 0 to 99999\n",
            "Data columns (total 5 columns):\n",
            "id         100000 non-null object\n",
            "f0         100000 non-null float64\n",
            "f1         100000 non-null float64\n",
            "f2         100000 non-null float64\n",
            "product    100000 non-null float64\n",
            "dtypes: float64(4), object(1)\n",
            "memory usage: 3.8+ MB\n"
          ]
        },
        {
          "data": {
            "text/plain": [
              "None"
            ]
          },
          "metadata": {},
          "output_type": "display_data"
        },
        {
          "data": {
            "text/plain": [
              "'----- Данные Региона 1 -----'"
            ]
          },
          "metadata": {},
          "output_type": "display_data"
        },
        {
          "name": "stdout",
          "output_type": "stream",
          "text": [
            "<class 'pandas.core.frame.DataFrame'>\n",
            "RangeIndex: 100000 entries, 0 to 99999\n",
            "Data columns (total 5 columns):\n",
            "id         100000 non-null object\n",
            "f0         100000 non-null float64\n",
            "f1         100000 non-null float64\n",
            "f2         100000 non-null float64\n",
            "product    100000 non-null float64\n",
            "dtypes: float64(4), object(1)\n",
            "memory usage: 3.8+ MB\n"
          ]
        },
        {
          "data": {
            "text/plain": [
              "None"
            ]
          },
          "metadata": {},
          "output_type": "display_data"
        },
        {
          "data": {
            "text/plain": [
              "'----- Данные Региона 2 -----'"
            ]
          },
          "metadata": {},
          "output_type": "display_data"
        },
        {
          "name": "stdout",
          "output_type": "stream",
          "text": [
            "<class 'pandas.core.frame.DataFrame'>\n",
            "RangeIndex: 100000 entries, 0 to 99999\n",
            "Data columns (total 5 columns):\n",
            "id         100000 non-null object\n",
            "f0         100000 non-null float64\n",
            "f1         100000 non-null float64\n",
            "f2         100000 non-null float64\n",
            "product    100000 non-null float64\n",
            "dtypes: float64(4), object(1)\n",
            "memory usage: 3.8+ MB\n"
          ]
        },
        {
          "data": {
            "text/plain": [
              "None"
            ]
          },
          "metadata": {},
          "output_type": "display_data"
        }
      ],
      "source": [
        "for df, j in zip(df_list, range(3)):\n",
        "    display(f'----- Данные Региона {j} -----')\n",
        "    display(df.info())"
      ]
    },
    {
      "cell_type": "markdown",
      "metadata": {
        "id": "AU9-1Jjw6oHO"
      },
      "source": [
        "<br>\n",
        "Посмотрим на разброс данных и аномальные значения."
      ]
    },
    {
      "cell_type": "code",
      "execution_count": null,
      "metadata": {
        "id": "NzX0AaAg6oHP",
        "outputId": "776c25d2-8171-40f5-f5fd-6f131b8d14e8"
      },
      "outputs": [
        {
          "data": {
            "text/plain": [
              "'----- Данные Региона 0 -----'"
            ]
          },
          "metadata": {},
          "output_type": "display_data"
        },
        {
          "data": {
            "text/html": [
              "<div>\n",
              "<style scoped>\n",
              "    .dataframe tbody tr th:only-of-type {\n",
              "        vertical-align: middle;\n",
              "    }\n",
              "\n",
              "    .dataframe tbody tr th {\n",
              "        vertical-align: top;\n",
              "    }\n",
              "\n",
              "    .dataframe thead th {\n",
              "        text-align: right;\n",
              "    }\n",
              "</style>\n",
              "<table border=\"1\" class=\"dataframe\">\n",
              "  <thead>\n",
              "    <tr style=\"text-align: right;\">\n",
              "      <th></th>\n",
              "      <th>count</th>\n",
              "      <th>mean</th>\n",
              "      <th>std</th>\n",
              "      <th>min</th>\n",
              "      <th>25%</th>\n",
              "      <th>50%</th>\n",
              "      <th>75%</th>\n",
              "      <th>max</th>\n",
              "    </tr>\n",
              "  </thead>\n",
              "  <tbody>\n",
              "    <tr>\n",
              "      <td>f0</td>\n",
              "      <td>100000.0</td>\n",
              "      <td>0.500419</td>\n",
              "      <td>0.871832</td>\n",
              "      <td>-1.408605</td>\n",
              "      <td>-0.072580</td>\n",
              "      <td>0.502360</td>\n",
              "      <td>1.073581</td>\n",
              "      <td>2.362331</td>\n",
              "    </tr>\n",
              "    <tr>\n",
              "      <td>f1</td>\n",
              "      <td>100000.0</td>\n",
              "      <td>0.250143</td>\n",
              "      <td>0.504433</td>\n",
              "      <td>-0.848218</td>\n",
              "      <td>-0.200881</td>\n",
              "      <td>0.250252</td>\n",
              "      <td>0.700646</td>\n",
              "      <td>1.343769</td>\n",
              "    </tr>\n",
              "    <tr>\n",
              "      <td>f2</td>\n",
              "      <td>100000.0</td>\n",
              "      <td>2.502647</td>\n",
              "      <td>3.248248</td>\n",
              "      <td>-12.088328</td>\n",
              "      <td>0.287748</td>\n",
              "      <td>2.515969</td>\n",
              "      <td>4.715088</td>\n",
              "      <td>16.003790</td>\n",
              "    </tr>\n",
              "    <tr>\n",
              "      <td>product</td>\n",
              "      <td>100000.0</td>\n",
              "      <td>92.500000</td>\n",
              "      <td>44.288691</td>\n",
              "      <td>0.000000</td>\n",
              "      <td>56.497507</td>\n",
              "      <td>91.849972</td>\n",
              "      <td>128.564089</td>\n",
              "      <td>185.364347</td>\n",
              "    </tr>\n",
              "  </tbody>\n",
              "</table>\n",
              "</div>"
            ],
            "text/plain": [
              "            count       mean        std        min        25%        50%  \\\n",
              "f0       100000.0   0.500419   0.871832  -1.408605  -0.072580   0.502360   \n",
              "f1       100000.0   0.250143   0.504433  -0.848218  -0.200881   0.250252   \n",
              "f2       100000.0   2.502647   3.248248 -12.088328   0.287748   2.515969   \n",
              "product  100000.0  92.500000  44.288691   0.000000  56.497507  91.849972   \n",
              "\n",
              "                75%         max  \n",
              "f0         1.073581    2.362331  \n",
              "f1         0.700646    1.343769  \n",
              "f2         4.715088   16.003790  \n",
              "product  128.564089  185.364347  "
            ]
          },
          "metadata": {},
          "output_type": "display_data"
        },
        {
          "data": {
            "text/plain": [
              "'----- Данные Региона 1 -----'"
            ]
          },
          "metadata": {},
          "output_type": "display_data"
        },
        {
          "data": {
            "text/html": [
              "<div>\n",
              "<style scoped>\n",
              "    .dataframe tbody tr th:only-of-type {\n",
              "        vertical-align: middle;\n",
              "    }\n",
              "\n",
              "    .dataframe tbody tr th {\n",
              "        vertical-align: top;\n",
              "    }\n",
              "\n",
              "    .dataframe thead th {\n",
              "        text-align: right;\n",
              "    }\n",
              "</style>\n",
              "<table border=\"1\" class=\"dataframe\">\n",
              "  <thead>\n",
              "    <tr style=\"text-align: right;\">\n",
              "      <th></th>\n",
              "      <th>count</th>\n",
              "      <th>mean</th>\n",
              "      <th>std</th>\n",
              "      <th>min</th>\n",
              "      <th>25%</th>\n",
              "      <th>50%</th>\n",
              "      <th>75%</th>\n",
              "      <th>max</th>\n",
              "    </tr>\n",
              "  </thead>\n",
              "  <tbody>\n",
              "    <tr>\n",
              "      <td>f0</td>\n",
              "      <td>100000.0</td>\n",
              "      <td>1.141296</td>\n",
              "      <td>8.965932</td>\n",
              "      <td>-31.609576</td>\n",
              "      <td>-6.298551</td>\n",
              "      <td>1.153055</td>\n",
              "      <td>8.621015</td>\n",
              "      <td>29.421755</td>\n",
              "    </tr>\n",
              "    <tr>\n",
              "      <td>f1</td>\n",
              "      <td>100000.0</td>\n",
              "      <td>-4.796579</td>\n",
              "      <td>5.119872</td>\n",
              "      <td>-26.358598</td>\n",
              "      <td>-8.267985</td>\n",
              "      <td>-4.813172</td>\n",
              "      <td>-1.332816</td>\n",
              "      <td>18.734063</td>\n",
              "    </tr>\n",
              "    <tr>\n",
              "      <td>f2</td>\n",
              "      <td>100000.0</td>\n",
              "      <td>2.494541</td>\n",
              "      <td>1.703572</td>\n",
              "      <td>-0.018144</td>\n",
              "      <td>1.000021</td>\n",
              "      <td>2.011479</td>\n",
              "      <td>3.999904</td>\n",
              "      <td>5.019721</td>\n",
              "    </tr>\n",
              "    <tr>\n",
              "      <td>product</td>\n",
              "      <td>100000.0</td>\n",
              "      <td>68.825000</td>\n",
              "      <td>45.944423</td>\n",
              "      <td>0.000000</td>\n",
              "      <td>26.953261</td>\n",
              "      <td>57.085625</td>\n",
              "      <td>107.813044</td>\n",
              "      <td>137.945408</td>\n",
              "    </tr>\n",
              "  </tbody>\n",
              "</table>\n",
              "</div>"
            ],
            "text/plain": [
              "            count       mean        std        min        25%        50%  \\\n",
              "f0       100000.0   1.141296   8.965932 -31.609576  -6.298551   1.153055   \n",
              "f1       100000.0  -4.796579   5.119872 -26.358598  -8.267985  -4.813172   \n",
              "f2       100000.0   2.494541   1.703572  -0.018144   1.000021   2.011479   \n",
              "product  100000.0  68.825000  45.944423   0.000000  26.953261  57.085625   \n",
              "\n",
              "                75%         max  \n",
              "f0         8.621015   29.421755  \n",
              "f1        -1.332816   18.734063  \n",
              "f2         3.999904    5.019721  \n",
              "product  107.813044  137.945408  "
            ]
          },
          "metadata": {},
          "output_type": "display_data"
        },
        {
          "data": {
            "text/plain": [
              "'----- Данные Региона 2 -----'"
            ]
          },
          "metadata": {},
          "output_type": "display_data"
        },
        {
          "data": {
            "text/html": [
              "<div>\n",
              "<style scoped>\n",
              "    .dataframe tbody tr th:only-of-type {\n",
              "        vertical-align: middle;\n",
              "    }\n",
              "\n",
              "    .dataframe tbody tr th {\n",
              "        vertical-align: top;\n",
              "    }\n",
              "\n",
              "    .dataframe thead th {\n",
              "        text-align: right;\n",
              "    }\n",
              "</style>\n",
              "<table border=\"1\" class=\"dataframe\">\n",
              "  <thead>\n",
              "    <tr style=\"text-align: right;\">\n",
              "      <th></th>\n",
              "      <th>count</th>\n",
              "      <th>mean</th>\n",
              "      <th>std</th>\n",
              "      <th>min</th>\n",
              "      <th>25%</th>\n",
              "      <th>50%</th>\n",
              "      <th>75%</th>\n",
              "      <th>max</th>\n",
              "    </tr>\n",
              "  </thead>\n",
              "  <tbody>\n",
              "    <tr>\n",
              "      <td>f0</td>\n",
              "      <td>100000.0</td>\n",
              "      <td>0.002023</td>\n",
              "      <td>1.732045</td>\n",
              "      <td>-8.760004</td>\n",
              "      <td>-1.162288</td>\n",
              "      <td>0.009424</td>\n",
              "      <td>1.158535</td>\n",
              "      <td>7.238262</td>\n",
              "    </tr>\n",
              "    <tr>\n",
              "      <td>f1</td>\n",
              "      <td>100000.0</td>\n",
              "      <td>-0.002081</td>\n",
              "      <td>1.730417</td>\n",
              "      <td>-7.084020</td>\n",
              "      <td>-1.174820</td>\n",
              "      <td>-0.009482</td>\n",
              "      <td>1.163678</td>\n",
              "      <td>7.844801</td>\n",
              "    </tr>\n",
              "    <tr>\n",
              "      <td>f2</td>\n",
              "      <td>100000.0</td>\n",
              "      <td>2.495128</td>\n",
              "      <td>3.473445</td>\n",
              "      <td>-11.970335</td>\n",
              "      <td>0.130359</td>\n",
              "      <td>2.484236</td>\n",
              "      <td>4.858794</td>\n",
              "      <td>16.739402</td>\n",
              "    </tr>\n",
              "    <tr>\n",
              "      <td>product</td>\n",
              "      <td>100000.0</td>\n",
              "      <td>95.000000</td>\n",
              "      <td>44.749921</td>\n",
              "      <td>0.000000</td>\n",
              "      <td>59.450441</td>\n",
              "      <td>94.925613</td>\n",
              "      <td>130.595027</td>\n",
              "      <td>190.029838</td>\n",
              "    </tr>\n",
              "  </tbody>\n",
              "</table>\n",
              "</div>"
            ],
            "text/plain": [
              "            count       mean        std        min        25%        50%  \\\n",
              "f0       100000.0   0.002023   1.732045  -8.760004  -1.162288   0.009424   \n",
              "f1       100000.0  -0.002081   1.730417  -7.084020  -1.174820  -0.009482   \n",
              "f2       100000.0   2.495128   3.473445 -11.970335   0.130359   2.484236   \n",
              "product  100000.0  95.000000  44.749921   0.000000  59.450441  94.925613   \n",
              "\n",
              "                75%         max  \n",
              "f0         1.158535    7.238262  \n",
              "f1         1.163678    7.844801  \n",
              "f2         4.858794   16.739402  \n",
              "product  130.595027  190.029838  "
            ]
          },
          "metadata": {},
          "output_type": "display_data"
        }
      ],
      "source": [
        "for df, j in zip(df_list, range(3)):\n",
        "    display(f'----- Данные Региона {j} -----', df.describe().T)"
      ]
    },
    {
      "cell_type": "markdown",
      "metadata": {
        "id": "4pO6Q4LU6oHP"
      },
      "source": [
        "<br>\n",
        "Processiog duplicates."
      ]
    },
    {
      "cell_type": "code",
      "execution_count": null,
      "metadata": {
        "id": "hfHY99b-6oHP",
        "outputId": "364012aa-32e8-407f-efa1-d0c1d0aa5286"
      },
      "outputs": [
        {
          "name": "stdout",
          "output_type": "stream",
          "text": [
            "Дублей строк в файле № 0: 0  -  Дублей номеров скважин: 10\n",
            "Дублей строк в файле № 1: 0  -  Дублей номеров скважин: 4\n",
            "Дублей строк в файле № 2: 0  -  Дублей номеров скважин: 4\n"
          ]
        }
      ],
      "source": [
        "for df, j in zip(df_list, range(3)):\n",
        "    print(f'Дублей строк в файле № {j}:', df.duplicated().sum(), \n",
        "          f' -  Дублей номеров скважин:', df['id'].duplicated().sum())"
      ]
    },
    {
      "cell_type": "markdown",
      "metadata": {
        "id": "Gyg1acT06oHQ"
      },
      "source": [
        "Completely duplicated lines were not found in the data. Despite the fact that there are duplicated well numbers, we will not delete these lines. Presumably, at these points measurements were carried out several times. Thus, even if the measurement data were changed, they are of the same value for us."
      ]
    },
    {
      "cell_type": "markdown",
      "metadata": {
        "id": "5Gt7jtYO6oHQ"
      },
      "source": [
        "<br>\n",
        "Let's remove the column with the number of wells, there is no valuable information in it for the project."
      ]
    },
    {
      "cell_type": "code",
      "execution_count": null,
      "metadata": {
        "id": "xHGyiRwq6oHQ"
      },
      "outputs": [],
      "source": [
        "for df in df_list:\n",
        "    df.drop(columns = 'id', inplace=True)"
      ]
    },
    {
      "cell_type": "markdown",
      "metadata": {
        "id": "67me1hOf6oHR"
      },
      "source": [
        "### Conclusion to Part 1"
      ]
    },
    {
      "cell_type": "markdown",
      "metadata": {
        "id": "VQpRNYRW6oHR"
      },
      "source": [
        "We have 3 clean, informative datasets suitable for building a linear regression model. The data types are normal, no null values, duplicates, or outliers were detected."
      ]
    },
    {
      "cell_type": "markdown",
      "metadata": {
        "id": "P8p_zfIB6oHR"
      },
      "source": [
        "## Train and validation the model"
      ]
    },
    {
      "cell_type": "markdown",
      "metadata": {
        "id": "A9Nr4LKM6oHS"
      },
      "source": [
        "Dividing the data into features (f1, f2, f3) and the target feature (product), applying the linear regression model. The results of model predictions and current data will be saved into separate variables for further manipulation."
      ]
    },
    {
      "cell_type": "code",
      "execution_count": null,
      "metadata": {
        "scrolled": false,
        "id": "sCoGoeqx6oHS"
      },
      "outputs": [],
      "source": [
        "state = np.random.RandomState(1)\n",
        "\n",
        "target_mean = []  # average value of current well resources\n",
        "predictions_mean = []  # average value of predicted well resources\n",
        "rmse = []  # deviation metric\n",
        "target_data = pd.DataFrame()  # current well resources\n",
        "predictions_data = pd.DataFrame()  # predicted well resources\n",
        "\n",
        "for df, i in zip(df_list, range(3)):\n",
        "    features = df.drop(columns='product')\n",
        "    target = df['product']\n",
        "    features_train, features_valid, target_train, target_valid = train_test_split(\n",
        "        features, target, test_size=0.25, random_state=state)\n",
        "\n",
        "    model = LinearRegression()\n",
        "    model.fit(features_train, target_train)\n",
        "    predicted = model.predict(features_valid)\n",
        "    score = np.sqrt(mean_squared_error(target_valid, predicted))  # calculate RMSE metric\n",
        "\n",
        "    predictions_data[i] = predicted  # write data on dataset i to the prepared empty DataFrame\n",
        "    target_data[i] = target_valid.reset_index(drop=True)  # similar operation for target dataset i\n",
        "    target_mean.append(target_valid.mean())  # calculate the current average value of the well resource of region i\n",
        "    predictions_mean.append(predicted.mean())  # in the same way with model predictions\n",
        "    rmse.append(score.mean())\n"
      ]
    },
    {
      "cell_type": "code",
      "execution_count": null,
      "metadata": {
        "id": "PVl2oaZk6oHS",
        "outputId": "5ef70dda-5dfe-4005-f6f6-f3a3702f24b8"
      },
      "outputs": [
        {
          "data": {
            "text/html": [
              "<div>\n",
              "<style scoped>\n",
              "    .dataframe tbody tr th:only-of-type {\n",
              "        vertical-align: middle;\n",
              "    }\n",
              "\n",
              "    .dataframe tbody tr th {\n",
              "        vertical-align: top;\n",
              "    }\n",
              "\n",
              "    .dataframe thead th {\n",
              "        text-align: right;\n",
              "    }\n",
              "</style>\n",
              "<table border=\"1\" class=\"dataframe\">\n",
              "  <thead>\n",
              "    <tr style=\"text-align: right;\">\n",
              "      <th></th>\n",
              "      <th>Region 1</th>\n",
              "      <th>Region 2</th>\n",
              "      <th>Region 3</th>\n",
              "    </tr>\n",
              "  </thead>\n",
              "  <tbody>\n",
              "    <tr>\n",
              "      <td>Target Mean</td>\n",
              "      <td>92.423414</td>\n",
              "      <td>69.030000</td>\n",
              "      <td>95.281354</td>\n",
              "    </tr>\n",
              "    <tr>\n",
              "      <td>Predictions Mean</td>\n",
              "      <td>92.492625</td>\n",
              "      <td>69.035456</td>\n",
              "      <td>95.017628</td>\n",
              "    </tr>\n",
              "    <tr>\n",
              "      <td>RMSE</td>\n",
              "      <td>37.742587</td>\n",
              "      <td>0.892854</td>\n",
              "      <td>39.798777</td>\n",
              "    </tr>\n",
              "  </tbody>\n",
              "</table>\n",
              "</div>"
            ],
            "text/plain": [
              "                   Region 1   Region 2   Region 3\n",
              "Target Mean       92.423414  69.030000  95.281354\n",
              "Predictions Mean  92.492625  69.035456  95.017628\n",
              "RMSE              37.742587   0.892854  39.798777"
            ]
          },
          "execution_count": 9,
          "metadata": {},
          "output_type": "execute_result"
        }
      ],
      "source": [
        "result = pd.DataFrame(\n",
        "    data=[target_mean, predictions_mean, rmse],\n",
        "    index=['Target Mean', 'Predictions Mean', 'RMSE'],\n",
        "    columns=['Region 1', 'Region 2', 'Region 3'])\n",
        "result"
      ]
    },
    {
      "cell_type": "markdown",
      "metadata": {
        "id": "bIjCC_8G6oHT"
      },
      "source": [
        "### Conclusion to Part 2"
      ]
    },
    {
      "cell_type": "markdown",
      "metadata": {
        "id": "YaoSbtfG6oHT"
      },
      "source": [
        "The average current and predicted reserves are very close. At the same time, in the second region, the average reserves are significantly behind the other two. Given the minimal error in the same region, these reserves may indeed be so."
      ]
    },
    {
      "cell_type": "markdown",
      "metadata": {
        "id": "2W_EGvAO6oHT"
      },
      "source": [
        "## Preparation for profit calculation"
      ]
    },
    {
      "cell_type": "markdown",
      "metadata": {
        "id": "gkiWM4T76oHT"
      },
      "source": [
        "Saving all input data to constants."
      ]
    },
    {
      "cell_type": "code",
      "execution_count": null,
      "metadata": {
        "id": "fmQ9F5J86oHU"
      },
      "outputs": [],
      "source": [
        "BUDGET = 10000000000 # budget for development in one region, rubles.\n",
        "BARREL_INCOME = 450 # profit per barrel, rubles.\n",
        "PRODUCT_INCOME = 450000 # profit per product (1kbbl), rub.\n",
        "TOTAL_WELL = 500 # number of mines to explore when developing new region\n",
        "BEST_WELL = 200 # number of mines with the best indexes which are allowed to develop"
      ]
    },
    {
      "cell_type": "markdown",
      "metadata": {
        "id": "QmfEvF276oHU"
      },
      "source": [
        "<br>\n",
        "Calculation of the minimum resource of the product of one well to reach break-even point."
      ]
    },
    {
      "cell_type": "code",
      "execution_count": null,
      "metadata": {
        "id": "wQtFkt2Z6oHU",
        "outputId": "b4e54b3c-976a-40e2-f9ee-627dab2799e5"
      },
      "outputs": [
        {
          "data": {
            "text/plain": [
              "111.11111111111111"
            ]
          },
          "execution_count": 11,
          "metadata": {},
          "output_type": "execute_result"
        }
      ],
      "source": [
        "min_well_product = BUDGET / BEST_WELL / PRODUCT_INCOME\n",
        "min_well_product"
      ]
    },
    {
      "cell_type": "markdown",
      "metadata": {
        "id": "qzcSy5lP6oHV"
      },
      "source": [
        "<br>\n",
        "\n",
        "Calculation of the difference between the average current resources of each region and the breakeven indicator."
      ]
    },
    {
      "cell_type": "code",
      "execution_count": null,
      "metadata": {
        "id": "icHrNmzd6oHV",
        "outputId": "026ab19f-4d09-4039-b0a4-08e803f3c2c6"
      },
      "outputs": [
        {
          "data": {
            "text/html": [
              "<div>\n",
              "<style scoped>\n",
              "    .dataframe tbody tr th:only-of-type {\n",
              "        vertical-align: middle;\n",
              "    }\n",
              "\n",
              "    .dataframe tbody tr th {\n",
              "        vertical-align: top;\n",
              "    }\n",
              "\n",
              "    .dataframe thead th {\n",
              "        text-align: right;\n",
              "    }\n",
              "</style>\n",
              "<table border=\"1\" class=\"dataframe\">\n",
              "  <thead>\n",
              "    <tr style=\"text-align: right;\">\n",
              "      <th></th>\n",
              "      <th>Region 1</th>\n",
              "      <th>Region 2</th>\n",
              "      <th>Region 3</th>\n",
              "    </tr>\n",
              "  </thead>\n",
              "  <tbody>\n",
              "    <tr>\n",
              "      <td>Target Mean</td>\n",
              "      <td>92.423414</td>\n",
              "      <td>69.030000</td>\n",
              "      <td>95.281354</td>\n",
              "    </tr>\n",
              "    <tr>\n",
              "      <td>Predictions Mean</td>\n",
              "      <td>92.492625</td>\n",
              "      <td>69.035456</td>\n",
              "      <td>95.017628</td>\n",
              "    </tr>\n",
              "    <tr>\n",
              "      <td>RMSE</td>\n",
              "      <td>37.742587</td>\n",
              "      <td>0.892854</td>\n",
              "      <td>39.798777</td>\n",
              "    </tr>\n",
              "    <tr>\n",
              "      <td>Difference (Target - Min Well)</td>\n",
              "      <td>-18.687697</td>\n",
              "      <td>-42.081112</td>\n",
              "      <td>-15.829757</td>\n",
              "    </tr>\n",
              "  </tbody>\n",
              "</table>\n",
              "</div>"
            ],
            "text/plain": [
              "                                 Region 1   Region 2   Region 3\n",
              "Target Mean                     92.423414  69.030000  95.281354\n",
              "Predictions Mean                92.492625  69.035456  95.017628\n",
              "RMSE                            37.742587   0.892854  39.798777\n",
              "Difference (Target - Min Well) -18.687697 -42.081112 -15.829757"
            ]
          },
          "execution_count": 12,
          "metadata": {},
          "output_type": "execute_result"
        }
      ],
      "source": [
        "difference = []\n",
        "\n",
        "for region in result.columns:\n",
        "    difference.append(result.loc['Target Mean', region] - min_well_product)\n",
        "result.append(pd.DataFrame(data=[difference], index=['Difference (Target - Min Well)'], columns=result.columns))"
      ]
    },
    {
      "cell_type": "markdown",
      "metadata": {
        "id": "7eMMaC8Q6oHV"
      },
      "source": [
        "### Conclusion to Part 3"
      ]
    },
    {
      "cell_type": "markdown",
      "metadata": {
        "id": "yv9gTHPH6oHV"
      },
      "source": [
        "In all regions, the average product reserves are below the required level to break even (111,000 barrels). At the same time, in the second region this indicator is significantly (2-3 times) lower than in the first and third regions."
      ]
    },
    {
      "cell_type": "markdown",
      "metadata": {
        "id": "OeP5m9wc6oHW"
      },
      "source": [
        "## Calculation of profits and risks "
      ]
    },
    {
      "cell_type": "markdown",
      "metadata": {
        "id": "16v-CTsj6oHW"
      },
      "source": [
        "Creatin a formula to calculate the profit for one region in the development of 200 best wells."
      ]
    },
    {
      "cell_type": "code",
      "execution_count": null,
      "metadata": {
        "id": "zdjhG8Lv6oHW"
      },
      "outputs": [],
      "source": [
        "def revenue(target, predictions, count):\n",
        "    pred_sorted = predictions.sort_values(ascending=False)\n",
        "    selected = target[pred_sorted.index][:count]\n",
        "    return PRODUCT_INCOME * selected.sum() - BUDGET"
      ]
    },
    {
      "cell_type": "markdown",
      "metadata": {
        "id": "rtPxwIZ16oHX"
      },
      "source": [
        "<br>\n",
        "Using the bootstrap method, I'm estimate the possible profits based on the condition \"500 mines are explored in the region, and the best 200 are taken into development\"."
      ]
    },
    {
      "cell_type": "code",
      "execution_count": null,
      "metadata": {
        "id": "VD0cZB2f6oHX",
        "outputId": "cd6f8c55-020f-4f58-c606-c5f0ceb420ae"
      },
      "outputs": [
        {
          "data": {
            "text/html": [
              "<div>\n",
              "<style scoped>\n",
              "    .dataframe tbody tr th:only-of-type {\n",
              "        vertical-align: middle;\n",
              "    }\n",
              "\n",
              "    .dataframe tbody tr th {\n",
              "        vertical-align: top;\n",
              "    }\n",
              "\n",
              "    .dataframe thead th {\n",
              "        text-align: right;\n",
              "    }\n",
              "</style>\n",
              "<table border=\"1\" class=\"dataframe\">\n",
              "  <thead>\n",
              "    <tr style=\"text-align: right;\">\n",
              "      <th></th>\n",
              "      <th>Mean Revenue</th>\n",
              "      <th>Risk</th>\n",
              "      <th>Revenue Interval</th>\n",
              "    </tr>\n",
              "  </thead>\n",
              "  <tbody>\n",
              "    <tr>\n",
              "      <td>Region 0</td>\n",
              "      <td>0.46 млрд.</td>\n",
              "      <td>5.0 %</td>\n",
              "      <td>(-64744999.0024897, 1011105081.2977668)</td>\n",
              "    </tr>\n",
              "    <tr>\n",
              "      <td>Region 1</td>\n",
              "      <td>0.51 млрд.</td>\n",
              "      <td>0.9 %</td>\n",
              "      <td>(58840392.28345285, 941519779.5067781)</td>\n",
              "    </tr>\n",
              "    <tr>\n",
              "      <td>Region 2</td>\n",
              "      <td>0.43 млрд.</td>\n",
              "      <td>6.0 %</td>\n",
              "      <td>(-80230497.36746167, 951400734.5322126)</td>\n",
              "    </tr>\n",
              "  </tbody>\n",
              "</table>\n",
              "</div>"
            ],
            "text/plain": [
              "         Mean Revenue   Risk                         Revenue Interval\n",
              "Region 0   0.46 млрд.  5.0 %  (-64744999.0024897, 1011105081.2977668)\n",
              "Region 1   0.51 млрд.  0.9 %   (58840392.28345285, 941519779.5067781)\n",
              "Region 2   0.43 млрд.  6.0 %  (-80230497.36746167, 951400734.5322126)"
            ]
          },
          "execution_count": 14,
          "metadata": {},
          "output_type": "execute_result"
        }
      ],
      "source": [
        "final_results = [] # container to collect information for the summary table\n",
        "\n",
        "for i in range(3):\n",
        "    values = [] # container to collect profit figures \n",
        "    for j in range(1000):\n",
        "        sampled_target = target_data[i].sample(TOTAL_WELL, replace=True, random_state=state)\n",
        "        sampled_pred = predictions_data[i][sampled_target.index]\n",
        "        values.append(revenue(sampled_target, sampled_pred, BEST_WELL))  # collection of revenue figures\n",
        "        \n",
        "    values = pd.Series(values)\n",
        "    revenue_mean = values.mean()/10**9\n",
        "    risk = (values < 0).mean() * 100\n",
        "    interval = (values.quantile(0.025), values.quantile(0.975))\n",
        "    final_results.append((f'{round(revenue_mean, 2)} billion.', f'{round(risk, 2)} %', interval))\n",
        "\n",
        "\n",
        "final_results = pd.DataFrame(data=final_results,\n",
        "                             columns=['Mean Revenue', 'Risk', 'Revenue Interval'],\n",
        "                             index=['Region 0', 'Region 1', 'Region 2'])\n",
        "final_results"
      ]
    },
    {
      "cell_type": "markdown",
      "metadata": {
        "id": "vvJxyDNR6oHY"
      },
      "source": [
        "### Conclusion to Part 4"
      ]
    },
    {
      "cell_type": "markdown",
      "metadata": {
        "id": "9vXRnj8g6oHY"
      },
      "source": [
        "The profit margins for all regions are not very different at the scale of the project. Despite the fact that the region number 2 promises better profits, it is not recommended to take in the development, because the average stock of the product in it is about 35% lower than in other regions.\n",
        "\n",
        "Based on the level of risk, potential profit and its confidence interval, region #1 is recommended for development."
      ]
    }
  ],
  "metadata": {
    "kernelspec": {
      "display_name": "Python 3 (ipykernel)",
      "language": "python",
      "name": "python3"
    },
    "language_info": {
      "codemirror_mode": {
        "name": "ipython",
        "version": 3
      },
      "file_extension": ".py",
      "mimetype": "text/x-python",
      "name": "python",
      "nbconvert_exporter": "python",
      "pygments_lexer": "ipython3",
      "version": "3.9.5"
    },
    "toc": {
      "base_numbering": 1,
      "nav_menu": {
        "height": "185.533px",
        "width": "256.267px"
      },
      "number_sections": true,
      "sideBar": true,
      "skip_h1_title": true,
      "title_cell": "Table of Contents",
      "title_sidebar": "Contents",
      "toc_cell": false,
      "toc_position": {},
      "toc_section_display": true,
      "toc_window_display": false
    },
    "colab": {
      "name": "10-Oil-well-location.ipynb",
      "provenance": [],
      "collapsed_sections": [],
      "include_colab_link": true
    }
  },
  "nbformat": 4,
  "nbformat_minor": 0
}